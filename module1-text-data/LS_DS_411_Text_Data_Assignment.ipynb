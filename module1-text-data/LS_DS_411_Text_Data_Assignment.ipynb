{
 "cells": [
  {
   "cell_type": "markdown",
   "metadata": {},
   "source": [
    "<img align=\"left\" src=\"https://lever-client-logos.s3.amazonaws.com/864372b1-534c-480e-acd5-9711f850815c-1524247202159.png\" width=200>\n",
    "<br></br>\n",
    "<br></br>\n",
    "\n",
    "# Natural Language Processing (NLP)\n",
    "## *Data Science Unit 4 Sprint 1 Assignment 1*\n",
    "\n",
    "Your goal in this assignment: find the attributes of the best & worst coffee shops in the dataset. The text is fairly raw: dates in the review, extra words in the `star_rating` column, etc. You'll probably want to clean that stuff up for a better analysis. \n",
    "\n",
    "Analyze the corpus of text using text visualizations of token frequency. Try cleaning the data as much as possible. Try the following techniques: \n",
    "- Lemmatization\n",
    "- Custom stopword removal\n",
    "\n",
    "Keep in mind the attributes of good tokens. Once you have a solid baseline, layer in the star rating in your visualization(s). Key part of this assignment - produce a write-up of the attributes of the best and worst coffee shops. Based on your analysis, what makes the best the best and the worst the worst. Use graphs and numbesr from your analysis to support your conclusions. There should be plenty of markdown cells! :coffee:"
   ]
  },
  {
   "cell_type": "code",
   "execution_count": 1,
   "metadata": {},
   "outputs": [
    {
     "data": {
      "image/jpeg": "[encoded data removed]",
      "text/html": [
       "\n",
       "        <iframe\n",
       "            width=\"400\"\n",
       "            height=\"300\"\n",
       "            src=\"https://www.youtube.com/embed/Jml7NVYm8cs\"\n",
       "            frameborder=\"0\"\n",
       "            allowfullscreen\n",
       "        ></iframe>\n",
       "        "
      ],
      "text/plain": [
       "<IPython.lib.display.YouTubeVideo at 0x1e2a5345048>"
      ]
     },
     "execution_count": 1,
     "metadata": {},
     "output_type": "execute_result"
    }
   ],
   "source": [
    "from IPython.display import YouTubeVideo\n",
    "\n",
    "YouTubeVideo('Jml7NVYm8cs')"
   ]
  },
  {
   "cell_type": "code",
   "execution_count": 119,
   "metadata": {},
   "outputs": [
    {
     "data": {
      "text/plain": [
       "'C:\\\\Users\\\\johnt\\\\unit3\\\\DS-Unit-4-Sprint-1-NLP\\\\module1-text-data'"
      ]
     },
     "execution_count": 119,
     "metadata": {},
     "output_type": "execute_result"
    }
   ],
   "source": [
    "%pwd"
   ]
  },
  {
   "cell_type": "code",
   "execution_count": 1,
   "metadata": {},
   "outputs": [
    {
     "name": "stdout",
     "output_type": "stream",
     "text": [
      "(7616, 3)\n"
     ]
    },
    {
     "data": {
      "text/html": [
       "<div>\n",
       "<style scoped>\n",
       "    .dataframe tbody tr th:only-of-type {\n",
       "        vertical-align: middle;\n",
       "    }\n",
       "\n",
       "    .dataframe tbody tr th {\n",
       "        vertical-align: top;\n",
       "    }\n",
       "\n",
       "    .dataframe thead th {\n",
       "        text-align: right;\n",
       "    }\n",
       "</style>\n",
       "<table border=\"1\" class=\"dataframe\">\n",
       "  <thead>\n",
       "    <tr style=\"text-align: right;\">\n",
       "      <th></th>\n",
       "      <th>coffee_shop_name</th>\n",
       "      <th>full_review_text</th>\n",
       "      <th>star_rating</th>\n",
       "    </tr>\n",
       "  </thead>\n",
       "  <tbody>\n",
       "    <tr>\n",
       "      <th>0</th>\n",
       "      <td>The Factory - Cafe With a Soul</td>\n",
       "      <td>11/25/2016 1 check-in Love love loved the atm...</td>\n",
       "      <td>5.0 star rating</td>\n",
       "    </tr>\n",
       "    <tr>\n",
       "      <th>1</th>\n",
       "      <td>The Factory - Cafe With a Soul</td>\n",
       "      <td>12/2/2016 Listed in Date Night: Austin, Ambia...</td>\n",
       "      <td>4.0 star rating</td>\n",
       "    </tr>\n",
       "    <tr>\n",
       "      <th>2</th>\n",
       "      <td>The Factory - Cafe With a Soul</td>\n",
       "      <td>11/30/2016 1 check-in Listed in Brunch Spots ...</td>\n",
       "      <td>4.0 star rating</td>\n",
       "    </tr>\n",
       "    <tr>\n",
       "      <th>3</th>\n",
       "      <td>The Factory - Cafe With a Soul</td>\n",
       "      <td>11/25/2016 Very cool decor! Good drinks Nice ...</td>\n",
       "      <td>2.0 star rating</td>\n",
       "    </tr>\n",
       "    <tr>\n",
       "      <th>4</th>\n",
       "      <td>The Factory - Cafe With a Soul</td>\n",
       "      <td>12/3/2016 1 check-in They are located within ...</td>\n",
       "      <td>4.0 star rating</td>\n",
       "    </tr>\n",
       "  </tbody>\n",
       "</table>\n",
       "</div>"
      ],
      "text/plain": [
       "                  coffee_shop_name  \\\n",
       "0  The Factory - Cafe With a Soul    \n",
       "1  The Factory - Cafe With a Soul    \n",
       "2  The Factory - Cafe With a Soul    \n",
       "3  The Factory - Cafe With a Soul    \n",
       "4  The Factory - Cafe With a Soul    \n",
       "\n",
       "                                    full_review_text        star_rating  \n",
       "0   11/25/2016 1 check-in Love love loved the atm...   5.0 star rating   \n",
       "1   12/2/2016 Listed in Date Night: Austin, Ambia...   4.0 star rating   \n",
       "2   11/30/2016 1 check-in Listed in Brunch Spots ...   4.0 star rating   \n",
       "3   11/25/2016 Very cool decor! Good drinks Nice ...   2.0 star rating   \n",
       "4   12/3/2016 1 check-in They are located within ...   4.0 star rating   "
      ]
     },
     "execution_count": 1,
     "metadata": {},
     "output_type": "execute_result"
    }
   ],
   "source": [
    "\"\"\"\n",
    "Import Statements\n",
    "\"\"\"\n",
    "\n",
    "# Base\n",
    "from collections import Counter\n",
    "import re\n",
    " \n",
    "import pandas as pd\n",
    "\n",
    "# Plotting\n",
    "import squarify\n",
    "import matplotlib.pyplot as plt\n",
    "import seaborn as sns\n",
    "\n",
    "# NLP Libraries\n",
    "import spacy\n",
    "from spacy.tokenizer import Tokenizer\n",
    "from nltk.stem import PorterStemmer\n",
    "\n",
    "url = \"https://raw.githubusercontent.com/LambdaSchool/DS-Unit-4-Sprint-1-NLP/main/module1-text-data/data/yelp_coffeeshop_review_data.csv\"\n",
    "\n",
    "shops = pd.read_csv(url)\n",
    "# analyze the shape\n",
    "print(shops.shape)\n",
    "shops.head()"
   ]
  },
  {
   "cell_type": "code",
   "execution_count": 2,
   "metadata": {},
   "outputs": [
    {
     "data": {
      "text/plain": [
       "Epoch Coffee                       0.052521\n",
       "Halcyon                            0.039391\n",
       "The Factory - Cafe With a Soul     0.032038\n",
       "Venezia Italian Gelato             0.026261\n",
       "Houndstooth Coffee                 0.026261\n",
       "Caffé Medici                       0.018776\n",
       "Apanas Coffee & Beer               0.017857\n",
       "Summermoon Coffee Bar              0.013130\n",
       "TOMS                               0.013130\n",
       "Sa-Ten                             0.013130\n",
       "Once Over Coffee Bar               0.013130\n",
       "Russell’s Bakery                   0.013130\n",
       "La Tazza Fresca                    0.013130\n",
       "Cream Whiskers                     0.013130\n",
       "Cuvée Coffee Bar                   0.013130\n",
       "Figure 8 Coffee Purveyors          0.013130\n",
       "Cenote                             0.013130\n",
       "Live Oak Market                    0.013130\n",
       "Teo                                0.013130\n",
       "The Buzz Mill                      0.013130\n",
       "Radio Coffee & Beer                0.013130\n",
       "Quack’s 43rd Street Bakery         0.013130\n",
       "Sorrento’s Coffee                  0.013130\n",
       "The Steeping Room                  0.013130\n",
       "Caffe Medici                       0.013130\n",
       "Pacha                              0.013130\n",
       "Mary’s Cafe                        0.013130\n",
       "Alta’s Cafe                        0.013130\n",
       "Genuine Joe                        0.013130\n",
       "Dominican Joe                      0.013130\n",
       "Cherrywood Coffeehouse             0.013130\n",
       "Café Crème                         0.013130\n",
       "The Hideout Coffeehouse            0.013130\n",
       "Kick Butt Coffee Music & Booze     0.013130\n",
       "Bennu Coffee                       0.013130\n",
       "Irie Bean Coffee Bar               0.013130\n",
       "Thunderbird Coffee                 0.013130\n",
       "Picnik Austin                      0.013130\n",
       "Monkey Nest Coffee                 0.013130\n",
       "Café Java                          0.013130\n",
       "Seventh Flag Coffee Co             0.013130\n",
       "Hot Mama’s Cafe                    0.013130\n",
       "Summer Moon Coffee Bar             0.013130\n",
       "Corona Coffee                      0.013130\n",
       "Mozart’s Coffee Roasters           0.013130\n",
       "Flightpath Coffeehouse             0.013130\n",
       "Juan Pelota                        0.013130\n",
       "La Patisserie                      0.013130\n",
       "Jo’s Coffee                        0.013130\n",
       "Strange Brew, Austin Coffee        0.013130\n",
       "Name: coffee_shop_name, dtype: float64"
      ]
     },
     "execution_count": 2,
     "metadata": {},
     "output_type": "execute_result"
    }
   ],
   "source": [
    "# Notice anything odd here? - lots of different shops  \n",
    "shops['coffee_shop_name'].value_counts(normalize=True)[:50]"
   ]
  },
  {
   "cell_type": "code",
   "execution_count": 3,
   "metadata": {},
   "outputs": [
    {
     "data": {
      "text/plain": [
       "epoch coffee                       0.052521\n",
       "halcyon                            0.039391\n",
       "the factory - cafe with a soul     0.032038\n",
       "houndstooth coffee                 0.026261\n",
       "venezia italian gelato             0.026261\n",
       "caffé medici                       0.018776\n",
       "apanas coffee & beer               0.017857\n",
       "cherrywood coffeehouse             0.013130\n",
       "the hideout coffeehouse            0.013130\n",
       "corona coffee                      0.013130\n",
       "hot mama’s cafe                    0.013130\n",
       "café crème                         0.013130\n",
       "teo                                0.013130\n",
       "stinson’s                          0.013130\n",
       "patika                             0.013130\n",
       "café java                          0.013130\n",
       "lola savannah coffee lounge        0.013130\n",
       "sa-ten                             0.013130\n",
       "flightpath coffeehouse             0.013130\n",
       "thunderbird coffee                 0.013130\n",
       "picnik austin                      0.013130\n",
       "arturo’s underground cafe          0.013130\n",
       "anderson’s coffee company          0.013130\n",
       "dolce neve                         0.013130\n",
       "tea haus                           0.013130\n",
       "mozart’s coffee roasters           0.013130\n",
       "summer moon coffee bar             0.013130\n",
       "la patisserie                      0.013130\n",
       "mary’s cafe                        0.013130\n",
       "monkey nest coffee                 0.013130\n",
       "pacha                              0.013130\n",
       "once over coffee bar               0.013130\n",
       "the steeping room                  0.013130\n",
       "caffe medici                       0.013130\n",
       "irie bean coffee bar               0.013130\n",
       "radio coffee & beer                0.013130\n",
       "the buzz mill                      0.013130\n",
       "bennu coffee                       0.013130\n",
       "vintage heart coffee               0.013130\n",
       "juan pelota                        0.013130\n",
       "cream whiskers                     0.013130\n",
       "cuvée coffee bar                   0.013130\n",
       "cenote                             0.013130\n",
       "sorrento’s coffee                  0.013130\n",
       "quack’s 43rd street bakery         0.013130\n",
       "seventh flag coffee co             0.013130\n",
       "live oak market                    0.013130\n",
       "la tazza fresca                    0.013130\n",
       "genuine joe                        0.013130\n",
       "jo’s coffee                        0.013130\n",
       "Name: coffee_shop_name, dtype: float64"
      ]
     },
     "execution_count": 3,
     "metadata": {},
     "output_type": "execute_result"
    }
   ],
   "source": [
    "# Much cleaner - made lower case from notes\n",
    "shops['coffee_shop_name'] = shops['coffee_shop_name'].apply(lambda x: x.lower())\n",
    "shops['coffee_shop_name'].value_counts(normalize=True)[:50]"
   ]
  },
  {
   "cell_type": "code",
   "execution_count": 4,
   "metadata": {},
   "outputs": [
    {
     "name": "stdout",
     "output_type": "stream",
     "text": [
      "<class 'pandas.core.frame.DataFrame'>\n",
      "RangeIndex: 7616 entries, 0 to 7615\n",
      "Data columns (total 3 columns):\n",
      " #   Column            Non-Null Count  Dtype \n",
      "---  ------            --------------  ----- \n",
      " 0   coffee_shop_name  7616 non-null   object\n",
      " 1   full_review_text  7616 non-null   object\n",
      " 2   star_rating       7616 non-null   object\n",
      "dtypes: object(3)\n",
      "memory usage: 178.6+ KB\n"
     ]
    }
   ],
   "source": [
    "# whats the types\n",
    "shops.info()"
   ]
  },
  {
   "cell_type": "code",
   "execution_count": 5,
   "metadata": {},
   "outputs": [
    {
     "data": {
      "text/plain": [
       " 11/9/2016 Really cute and heavily hipster atmosphere. We tried this place late night on Saturday and enjoyed the first visit. You will want to try their swing for sure. Seating space is somewhat limited and no wifi is available, so be aware. This is more like a place for you to enjoy its atmosphere. Drinks were good, though make sure you have enough in your bank account because their drinks are probably not for broke college students. That swing!     0.000525\n",
       " 11/14/2016 Enthusiastic and earnest desire to be excellent, try new things and develop new menu ideas, smiles, not in your face - best almond pound cake I've ever had (worth the 5 stars alone), and a fantastic cup of red rooibos iced tea.  next to Hanabi.  fantastic new spot.                                                                                                                                                                                   0.000525\n",
       " 12/2/2016 Listed in Date Night: Austin, Ambiance in Austin BEAUTIFUL!!!! Love the ambiance! Instagram-worthy!!!  Definitely $$$, so be prepared. This is gonna cost you a pretty penny :) Waffle dessert was just decent...nothing to rave about.  But, will probably be back just to be somewhere unique and nice.                                                                                                                                                    0.000525\n",
       " 12/5/2016 This is such a cute little cafe! I've driven by this place many times and hadn't noticed it until today. Glad I stopped-the famous chicken waffle was delish!                                                                                                                                                                                                                                                                                                0.000525\n",
       " 10/15/2016 This place is really nice. They have done a great job... It's the type of place that you could spend hours in. They have a small menu right now, but their drinks, waffles, and pastries are really well made. We'll definitely be coming back soon.... like tomorrow. Viva Matcha Latte and Pop-art                                                                                                                                                        0.000525\n",
       "Name: full_review_text, dtype: float64"
      ]
     },
     "execution_count": 5,
     "metadata": {},
     "output_type": "execute_result"
    }
   ],
   "source": [
    "# How can we count the raw text? - all reviews are unique\n",
    "shops['full_review_text'].value_counts(normalize=True)[:5]"
   ]
  },
  {
   "cell_type": "code",
   "execution_count": 10,
   "metadata": {},
   "outputs": [
    {
     "data": {
      "text/plain": [
       "0       [check, in, love, love, loved, the, atmosphere...\n",
       "1       [listed, in, date, night, austin, ambiance, in...\n",
       "2       [check, in, listed, in, brunch, spots, i, love...\n",
       "3       [very, cool, decor, good, drinks, nice, seatin...\n",
       "4       [check, in, they, are, located, within, the, n...\n",
       "                              ...                        \n",
       "7611    [i, actually, step, into, this, restaurant, by...\n",
       "7612    [ok, the, steeping, room, is, awesome, how, do...\n",
       "7613    [loved, coming, here, for, tea, and, the, atmo...\n",
       "7614    [the, food, is, just, average, the, booths, di...\n",
       "7615    [i, finally, stopped, in, for, lunch, with, my...\n",
       "Name: tokens, Length: 7616, dtype: object"
      ]
     },
     "execution_count": 10,
     "metadata": {},
     "output_type": "execute_result"
    }
   ],
   "source": [
    "def tokenize(text):\n",
    "    \"\"\"Parses a string into a list of semantic units (words)\n",
    "\n",
    "    Args:\n",
    "        text (str): The string that the function will tokenize.\n",
    "\n",
    "    Returns:\n",
    "        list: tokens parsed out by the mechanics of your choice\n",
    "    \"\"\"\n",
    "    \n",
    "    tokens = re.sub('[^a-zA-Z]', ' ', text)\n",
    "    tokens = tokens.lower().split()\n",
    "    tokens = [x.strip(' ') for x in tokens]\n",
    "    \n",
    "    return tokens\n",
    "shops['tokens'] = shops['full_review_text'].apply(tokenize)\n",
    "shops['tokens']"
   ]
  },
  {
   "cell_type": "code",
   "execution_count": 11,
   "metadata": {},
   "outputs": [
    {
     "data": {
      "text/html": [
       "<div>\n",
       "<style scoped>\n",
       "    .dataframe tbody tr th:only-of-type {\n",
       "        vertical-align: middle;\n",
       "    }\n",
       "\n",
       "    .dataframe tbody tr th {\n",
       "        vertical-align: top;\n",
       "    }\n",
       "\n",
       "    .dataframe thead th {\n",
       "        text-align: right;\n",
       "    }\n",
       "</style>\n",
       "<table border=\"1\" class=\"dataframe\">\n",
       "  <thead>\n",
       "    <tr style=\"text-align: right;\">\n",
       "      <th></th>\n",
       "      <th>full_review_text</th>\n",
       "      <th>tokens</th>\n",
       "    </tr>\n",
       "  </thead>\n",
       "  <tbody>\n",
       "    <tr>\n",
       "      <th>0</th>\n",
       "      <td>11/25/2016 1 check-in Love love loved the atm...</td>\n",
       "      <td>[check, in, love, love, loved, the, atmosphere...</td>\n",
       "    </tr>\n",
       "    <tr>\n",
       "      <th>1</th>\n",
       "      <td>12/2/2016 Listed in Date Night: Austin, Ambia...</td>\n",
       "      <td>[listed, in, date, night, austin, ambiance, in...</td>\n",
       "    </tr>\n",
       "    <tr>\n",
       "      <th>2</th>\n",
       "      <td>11/30/2016 1 check-in Listed in Brunch Spots ...</td>\n",
       "      <td>[check, in, listed, in, brunch, spots, i, love...</td>\n",
       "    </tr>\n",
       "    <tr>\n",
       "      <th>3</th>\n",
       "      <td>11/25/2016 Very cool decor! Good drinks Nice ...</td>\n",
       "      <td>[very, cool, decor, good, drinks, nice, seatin...</td>\n",
       "    </tr>\n",
       "    <tr>\n",
       "      <th>4</th>\n",
       "      <td>12/3/2016 1 check-in They are located within ...</td>\n",
       "      <td>[check, in, they, are, located, within, the, n...</td>\n",
       "    </tr>\n",
       "    <tr>\n",
       "      <th>5</th>\n",
       "      <td>11/20/2016 1 check-in Very cute cafe! I think...</td>\n",
       "      <td>[check, in, very, cute, cafe, i, think, from, ...</td>\n",
       "    </tr>\n",
       "    <tr>\n",
       "      <th>6</th>\n",
       "      <td>10/27/2016 2 check-ins Listed in \"Nuptial Cof...</td>\n",
       "      <td>[check, ins, listed, in, nuptial, coffee, blis...</td>\n",
       "    </tr>\n",
       "    <tr>\n",
       "      <th>7</th>\n",
       "      <td>11/2/2016 2 check-ins Love this place!  5 sta...</td>\n",
       "      <td>[check, ins, love, this, place, stars, for, cl...</td>\n",
       "    </tr>\n",
       "    <tr>\n",
       "      <th>8</th>\n",
       "      <td>10/25/2016 1 check-in Ok, let's try this appr...</td>\n",
       "      <td>[check, in, ok, let, s, try, this, approach, p...</td>\n",
       "    </tr>\n",
       "    <tr>\n",
       "      <th>9</th>\n",
       "      <td>11/10/2016 3 check-ins This place has been sh...</td>\n",
       "      <td>[check, ins, this, place, has, been, shown, on...</td>\n",
       "    </tr>\n",
       "  </tbody>\n",
       "</table>\n",
       "</div>"
      ],
      "text/plain": [
       "                                    full_review_text  \\\n",
       "0   11/25/2016 1 check-in Love love loved the atm...   \n",
       "1   12/2/2016 Listed in Date Night: Austin, Ambia...   \n",
       "2   11/30/2016 1 check-in Listed in Brunch Spots ...   \n",
       "3   11/25/2016 Very cool decor! Good drinks Nice ...   \n",
       "4   12/3/2016 1 check-in They are located within ...   \n",
       "5   11/20/2016 1 check-in Very cute cafe! I think...   \n",
       "6   10/27/2016 2 check-ins Listed in \"Nuptial Cof...   \n",
       "7   11/2/2016 2 check-ins Love this place!  5 sta...   \n",
       "8   10/25/2016 1 check-in Ok, let's try this appr...   \n",
       "9   11/10/2016 3 check-ins This place has been sh...   \n",
       "\n",
       "                                              tokens  \n",
       "0  [check, in, love, love, loved, the, atmosphere...  \n",
       "1  [listed, in, date, night, austin, ambiance, in...  \n",
       "2  [check, in, listed, in, brunch, spots, i, love...  \n",
       "3  [very, cool, decor, good, drinks, nice, seatin...  \n",
       "4  [check, in, they, are, located, within, the, n...  \n",
       "5  [check, in, very, cute, cafe, i, think, from, ...  \n",
       "6  [check, ins, listed, in, nuptial, coffee, blis...  \n",
       "7  [check, ins, love, this, place, stars, for, cl...  \n",
       "8  [check, in, ok, let, s, try, this, approach, p...  \n",
       "9  [check, ins, this, place, has, been, shown, on...  "
      ]
     },
     "execution_count": 11,
     "metadata": {},
     "output_type": "execute_result"
    }
   ],
   "source": [
    "#see the difference\n",
    "shops[['full_review_text', 'tokens']][:10]"
   ]
  },
  {
   "cell_type": "code",
   "execution_count": 12,
   "metadata": {},
   "outputs": [
    {
     "data": {
      "text/plain": [
       "[('the', 34909),\n",
       " ('and', 26774),\n",
       " ('i', 24630),\n",
       " ('a', 22857),\n",
       " ('to', 17345),\n",
       " ('it', 12693),\n",
       " ('of', 12638),\n",
       " ('is', 12004),\n",
       " ('in', 11609),\n",
       " ('coffee', 10572)]"
      ]
     },
     "execution_count": 12,
     "metadata": {},
     "output_type": "execute_result"
    }
   ],
   "source": [
    "## Object from Base Python - ten most common words one is coffee so thats good\n",
    "from collections import Counter\n",
    "\n",
    "# The object `Counter` takes an iterable, but you can instaniate an empty one and update it. \n",
    "word_counts = Counter()\n",
    "\n",
    "# Update it based on a split of each of our documents\n",
    "shops['tokens'].apply(lambda x: word_counts.update(x))\n",
    "\n",
    "# Print out the 10 most common words\n",
    "word_counts.most_common(10)"
   ]
  },
  {
   "cell_type": "code",
   "execution_count": 13,
   "metadata": {},
   "outputs": [
    {
     "data": {
      "text/plain": [
       "<bound method Series.count of 0       [check, in, love, love, loved, the, atmosphere...\n",
       "1       [listed, in, date, night, austin, ambiance, in...\n",
       "2       [check, in, listed, in, brunch, spots, i, love...\n",
       "3       [very, cool, decor, good, drinks, nice, seatin...\n",
       "4       [check, in, they, are, located, within, the, n...\n",
       "                              ...                        \n",
       "7611    [i, actually, step, into, this, restaurant, by...\n",
       "7612    [ok, the, steeping, room, is, awesome, how, do...\n",
       "7613    [loved, coming, here, for, tea, and, the, atmo...\n",
       "7614    [the, food, is, just, average, the, booths, di...\n",
       "7615    [i, finally, stopped, in, for, lunch, with, my...\n",
       "Name: tokens, Length: 7616, dtype: object>"
      ]
     },
     "execution_count": 13,
     "metadata": {},
     "output_type": "execute_result"
    }
   ],
   "source": [
    "shops['tokens'].count"
   ]
  },
  {
   "cell_type": "markdown",
   "metadata": {},
   "source": [
    "## How do we want to analyze these coffee shop tokens? \n",
    "\n",
    "- Overall Word / Token Count\n",
    "- View Counts by Rating \n",
    "- *Hint:* a 'bad' coffee shops has a rating betweeen 1 & 3 based on the distribution of ratings. A 'good' coffee shop is a 4 or 5. "
   ]
  },
  {
   "cell_type": "code",
   "execution_count": 14,
   "metadata": {},
   "outputs": [],
   "source": [
    "#Overall Word / Token Count\n",
    "def count(docs):\n",
    "\n",
    "        word_counts = Counter()\n",
    "        appears_in = Counter()\n",
    "        \n",
    "        total_docs = len(docs)\n",
    "\n",
    "        for doc in docs:\n",
    "            word_counts.update(doc)\n",
    "            appears_in.update(set(doc))\n",
    "\n",
    "        temp = zip(word_counts.keys(), word_counts.values())\n",
    "        \n",
    "        wc = pd.DataFrame(temp, columns = ['word', 'count'])\n",
    "\n",
    "        wc['rank'] = wc['count'].rank(method='first', ascending=False)\n",
    "        total = wc['count'].sum()\n",
    "\n",
    "        wc['pct_total'] = wc['count'].apply(lambda x: x / total)\n",
    "        \n",
    "        wc = wc.sort_values(by='rank')\n",
    "        wc['cul_pct_total'] = wc['pct_total'].cumsum()\n",
    "\n",
    "        t2 = zip(appears_in.keys(), appears_in.values())\n",
    "        ac = pd.DataFrame(t2, columns=['word', 'appears_in'])\n",
    "        wc = ac.merge(wc, on='word')\n",
    "\n",
    "        wc['appears_in_pct'] = wc['appears_in'].apply(lambda x: x / total_docs)\n",
    "        \n",
    "        return wc.sort_values(by='rank')"
   ]
  },
  {
   "cell_type": "code",
   "execution_count": 15,
   "metadata": {},
   "outputs": [],
   "source": [
    "# Use the Function\n",
    "wc = count(shops['tokens'])"
   ]
  },
  {
   "cell_type": "code",
   "execution_count": 17,
   "metadata": {},
   "outputs": [
    {
     "data": {
      "text/html": [
       "<div>\n",
       "<style scoped>\n",
       "    .dataframe tbody tr th:only-of-type {\n",
       "        vertical-align: middle;\n",
       "    }\n",
       "\n",
       "    .dataframe tbody tr th {\n",
       "        vertical-align: top;\n",
       "    }\n",
       "\n",
       "    .dataframe thead th {\n",
       "        text-align: right;\n",
       "    }\n",
       "</style>\n",
       "<table border=\"1\" class=\"dataframe\">\n",
       "  <thead>\n",
       "    <tr style=\"text-align: right;\">\n",
       "      <th></th>\n",
       "      <th>word</th>\n",
       "      <th>appears_in</th>\n",
       "      <th>count</th>\n",
       "      <th>rank</th>\n",
       "      <th>pct_total</th>\n",
       "      <th>cul_pct_total</th>\n",
       "      <th>appears_in_pct</th>\n",
       "    </tr>\n",
       "  </thead>\n",
       "  <tbody>\n",
       "    <tr>\n",
       "      <th>16</th>\n",
       "      <td>the</td>\n",
       "      <td>6854</td>\n",
       "      <td>34909</td>\n",
       "      <td>1.0</td>\n",
       "      <td>0.044008</td>\n",
       "      <td>0.044008</td>\n",
       "      <td>0.899947</td>\n",
       "    </tr>\n",
       "    <tr>\n",
       "      <th>30</th>\n",
       "      <td>and</td>\n",
       "      <td>6869</td>\n",
       "      <td>26774</td>\n",
       "      <td>2.0</td>\n",
       "      <td>0.033753</td>\n",
       "      <td>0.077761</td>\n",
       "      <td>0.901917</td>\n",
       "    </tr>\n",
       "    <tr>\n",
       "      <th>8</th>\n",
       "      <td>i</td>\n",
       "      <td>5877</td>\n",
       "      <td>24630</td>\n",
       "      <td>3.0</td>\n",
       "      <td>0.031050</td>\n",
       "      <td>0.108810</td>\n",
       "      <td>0.771665</td>\n",
       "    </tr>\n",
       "    <tr>\n",
       "      <th>53</th>\n",
       "      <td>a</td>\n",
       "      <td>6250</td>\n",
       "      <td>22857</td>\n",
       "      <td>4.0</td>\n",
       "      <td>0.028815</td>\n",
       "      <td>0.137625</td>\n",
       "      <td>0.820641</td>\n",
       "    </tr>\n",
       "    <tr>\n",
       "      <th>70</th>\n",
       "      <td>to</td>\n",
       "      <td>5676</td>\n",
       "      <td>17345</td>\n",
       "      <td>5.0</td>\n",
       "      <td>0.021866</td>\n",
       "      <td>0.159491</td>\n",
       "      <td>0.745273</td>\n",
       "    </tr>\n",
       "    <tr>\n",
       "      <th>51</th>\n",
       "      <td>it</td>\n",
       "      <td>4924</td>\n",
       "      <td>12693</td>\n",
       "      <td>6.0</td>\n",
       "      <td>0.016001</td>\n",
       "      <td>0.175492</td>\n",
       "      <td>0.646534</td>\n",
       "    </tr>\n",
       "    <tr>\n",
       "      <th>50</th>\n",
       "      <td>of</td>\n",
       "      <td>5108</td>\n",
       "      <td>12638</td>\n",
       "      <td>7.0</td>\n",
       "      <td>0.015932</td>\n",
       "      <td>0.191424</td>\n",
       "      <td>0.670693</td>\n",
       "    </tr>\n",
       "    <tr>\n",
       "      <th>73</th>\n",
       "      <td>is</td>\n",
       "      <td>4998</td>\n",
       "      <td>12004</td>\n",
       "      <td>8.0</td>\n",
       "      <td>0.015133</td>\n",
       "      <td>0.206557</td>\n",
       "      <td>0.656250</td>\n",
       "    </tr>\n",
       "    <tr>\n",
       "      <th>72</th>\n",
       "      <td>in</td>\n",
       "      <td>5291</td>\n",
       "      <td>11609</td>\n",
       "      <td>9.0</td>\n",
       "      <td>0.014635</td>\n",
       "      <td>0.221192</td>\n",
       "      <td>0.694722</td>\n",
       "    </tr>\n",
       "    <tr>\n",
       "      <th>9</th>\n",
       "      <td>coffee</td>\n",
       "      <td>4924</td>\n",
       "      <td>10572</td>\n",
       "      <td>10.0</td>\n",
       "      <td>0.013328</td>\n",
       "      <td>0.234520</td>\n",
       "      <td>0.646534</td>\n",
       "    </tr>\n",
       "    <tr>\n",
       "      <th>68</th>\n",
       "      <td>was</td>\n",
       "      <td>3768</td>\n",
       "      <td>9712</td>\n",
       "      <td>11.0</td>\n",
       "      <td>0.012243</td>\n",
       "      <td>0.246763</td>\n",
       "      <td>0.494748</td>\n",
       "    </tr>\n",
       "    <tr>\n",
       "      <th>14</th>\n",
       "      <td>for</td>\n",
       "      <td>4455</td>\n",
       "      <td>8695</td>\n",
       "      <td>12.0</td>\n",
       "      <td>0.010961</td>\n",
       "      <td>0.257724</td>\n",
       "      <td>0.584953</td>\n",
       "    </tr>\n",
       "    <tr>\n",
       "      <th>82</th>\n",
       "      <td>you</td>\n",
       "      <td>3183</td>\n",
       "      <td>6989</td>\n",
       "      <td>13.0</td>\n",
       "      <td>0.008811</td>\n",
       "      <td>0.266535</td>\n",
       "      <td>0.417936</td>\n",
       "    </tr>\n",
       "    <tr>\n",
       "      <th>123</th>\n",
       "      <td>they</td>\n",
       "      <td>3472</td>\n",
       "      <td>6750</td>\n",
       "      <td>14.0</td>\n",
       "      <td>0.008509</td>\n",
       "      <td>0.275044</td>\n",
       "      <td>0.455882</td>\n",
       "    </tr>\n",
       "    <tr>\n",
       "      <th>1</th>\n",
       "      <td>that</td>\n",
       "      <td>3430</td>\n",
       "      <td>6669</td>\n",
       "      <td>15.0</td>\n",
       "      <td>0.008407</td>\n",
       "      <td>0.283452</td>\n",
       "      <td>0.450368</td>\n",
       "    </tr>\n",
       "    <tr>\n",
       "      <th>130</th>\n",
       "      <td>s</td>\n",
       "      <td>3360</td>\n",
       "      <td>6654</td>\n",
       "      <td>16.0</td>\n",
       "      <td>0.008388</td>\n",
       "      <td>0.291840</td>\n",
       "      <td>0.441176</td>\n",
       "    </tr>\n",
       "    <tr>\n",
       "      <th>90</th>\n",
       "      <td>this</td>\n",
       "      <td>3991</td>\n",
       "      <td>6610</td>\n",
       "      <td>17.0</td>\n",
       "      <td>0.008333</td>\n",
       "      <td>0.300173</td>\n",
       "      <td>0.524028</td>\n",
       "    </tr>\n",
       "    <tr>\n",
       "      <th>67</th>\n",
       "      <td>but</td>\n",
       "      <td>3846</td>\n",
       "      <td>6587</td>\n",
       "      <td>18.0</td>\n",
       "      <td>0.008304</td>\n",
       "      <td>0.308477</td>\n",
       "      <td>0.504989</td>\n",
       "    </tr>\n",
       "    <tr>\n",
       "      <th>120</th>\n",
       "      <td>with</td>\n",
       "      <td>3537</td>\n",
       "      <td>6347</td>\n",
       "      <td>19.0</td>\n",
       "      <td>0.008001</td>\n",
       "      <td>0.316478</td>\n",
       "      <td>0.464417</td>\n",
       "    </tr>\n",
       "    <tr>\n",
       "      <th>10</th>\n",
       "      <td>my</td>\n",
       "      <td>3423</td>\n",
       "      <td>6212</td>\n",
       "      <td>20.0</td>\n",
       "      <td>0.007831</td>\n",
       "      <td>0.324309</td>\n",
       "      <td>0.449449</td>\n",
       "    </tr>\n",
       "  </tbody>\n",
       "</table>\n",
       "</div>"
      ],
      "text/plain": [
       "       word  appears_in  count  rank  pct_total  cul_pct_total  appears_in_pct\n",
       "16      the        6854  34909   1.0   0.044008       0.044008        0.899947\n",
       "30      and        6869  26774   2.0   0.033753       0.077761        0.901917\n",
       "8         i        5877  24630   3.0   0.031050       0.108810        0.771665\n",
       "53        a        6250  22857   4.0   0.028815       0.137625        0.820641\n",
       "70       to        5676  17345   5.0   0.021866       0.159491        0.745273\n",
       "51       it        4924  12693   6.0   0.016001       0.175492        0.646534\n",
       "50       of        5108  12638   7.0   0.015932       0.191424        0.670693\n",
       "73       is        4998  12004   8.0   0.015133       0.206557        0.656250\n",
       "72       in        5291  11609   9.0   0.014635       0.221192        0.694722\n",
       "9    coffee        4924  10572  10.0   0.013328       0.234520        0.646534\n",
       "68      was        3768   9712  11.0   0.012243       0.246763        0.494748\n",
       "14      for        4455   8695  12.0   0.010961       0.257724        0.584953\n",
       "82      you        3183   6989  13.0   0.008811       0.266535        0.417936\n",
       "123    they        3472   6750  14.0   0.008509       0.275044        0.455882\n",
       "1      that        3430   6669  15.0   0.008407       0.283452        0.450368\n",
       "130       s        3360   6654  16.0   0.008388       0.291840        0.441176\n",
       "90     this        3991   6610  17.0   0.008333       0.300173        0.524028\n",
       "67      but        3846   6587  18.0   0.008304       0.308477        0.504989\n",
       "120    with        3537   6347  19.0   0.008001       0.316478        0.464417\n",
       "10       my        3423   6212  20.0   0.007831       0.324309        0.449449"
      ]
     },
     "execution_count": 17,
     "metadata": {},
     "output_type": "execute_result"
    }
   ],
   "source": [
    "wc.head(20)"
   ]
  },
  {
   "cell_type": "code",
   "execution_count": 18,
   "metadata": {},
   "outputs": [
    {
     "data": {
      "image/png": "[encoded data removed]",
      "text/plain": [
       "<Figure size 432x288 with 1 Axes>"
      ]
     },
     "metadata": {
      "needs_background": "light"
     },
     "output_type": "display_data"
    }
   ],
   "source": [
    "import seaborn as sns\n",
    "\n",
    "# Cumulative Distribution Plot\n",
    "sns.lineplot(x='rank', y='cul_pct_total', data=wc);"
   ]
  },
  {
   "cell_type": "code",
   "execution_count": 19,
   "metadata": {},
   "outputs": [
    {
     "data": {
      "text/plain": [
       "0.55553468483176"
      ]
     },
     "execution_count": 19,
     "metadata": {},
     "output_type": "execute_result"
    }
   ],
   "source": [
    "wc[wc['rank'] <= 100]['cul_pct_total'].max()"
   ]
  },
  {
   "cell_type": "code",
   "execution_count": 20,
   "metadata": {},
   "outputs": [
    {
     "data": {
      "image/png": "[encoded data removed]",
      "text/plain": [
       "<Figure size 432x288 with 1 Axes>"
      ]
     },
     "metadata": {
      "needs_background": "light"
     },
     "output_type": "display_data"
    }
   ],
   "source": [
    "wc = count(shops['tokens'])\n",
    "\n",
    "wc_top20 = wc[wc['rank'] <= 20]\n",
    "\n",
    "squarify.plot(sizes=wc_top20['pct_total'], label=wc_top20['word'], alpha=.8 )\n",
    "plt.axis('off')\n",
    "plt.show()"
   ]
  },
  {
   "cell_type": "code",
   "execution_count": 21,
   "metadata": {},
   "outputs": [
    {
     "data": {
      "text/plain": [
       " 5.0 star rating     0.496324\n",
       " 4.0 star rating     0.309874\n",
       " 3.0 star rating     0.096901\n",
       " 2.0 star rating     0.060399\n",
       " 1.0 star rating     0.036502\n",
       "Name: star_rating, dtype: float64"
      ]
     },
     "execution_count": 21,
     "metadata": {},
     "output_type": "execute_result"
    }
   ],
   "source": [
    "#View Counts by Rating\n",
    "shops['star_rating'].value_counts(normalize=True)"
   ]
  },
  {
   "cell_type": "code",
   "execution_count": 22,
   "metadata": {},
   "outputs": [
    {
     "data": {
      "text/plain": [
       "' 4.0 star rating '"
      ]
     },
     "execution_count": 22,
     "metadata": {},
     "output_type": "execute_result"
    }
   ],
   "source": [
    "# check formating od text in star rating for determination\n",
    "shops['star_rating'][2]"
   ]
  },
  {
   "cell_type": "code",
   "execution_count": 23,
   "metadata": {},
   "outputs": [
    {
     "data": {
      "text/plain": [
       "good    0.806197\n",
       "bad     0.193803\n",
       "Name: determination, dtype: float64"
      ]
     },
     "execution_count": 23,
     "metadata": {},
     "output_type": "execute_result"
    }
   ],
   "source": [
    "#Hint: a 'bad' coffee shops has a rating betweeen 1 & 3 based on the distribution of ratings. A 'good' coffee shop is a 4 or 5.\n",
    "shops['determination'] = [\"good\" if star_rating == ' 5.0 star rating ' else \"good\" if star_rating == ' 4.0 star rating ' else \"bad\" for star_rating in shops['star_rating']]\n",
    "shops['determination'].value_counts(normalize=True)"
   ]
  },
  {
   "cell_type": "code",
   "execution_count": 138,
   "metadata": {},
   "outputs": [
    {
     "data": {
      "text/html": [
       "<div>\n",
       "<style scoped>\n",
       "    .dataframe tbody tr th:only-of-type {\n",
       "        vertical-align: middle;\n",
       "    }\n",
       "\n",
       "    .dataframe tbody tr th {\n",
       "        vertical-align: top;\n",
       "    }\n",
       "\n",
       "    .dataframe thead th {\n",
       "        text-align: right;\n",
       "    }\n",
       "</style>\n",
       "<table border=\"1\" class=\"dataframe\">\n",
       "  <thead>\n",
       "    <tr style=\"text-align: right;\">\n",
       "      <th></th>\n",
       "      <th>coffee_shop_name</th>\n",
       "      <th>full_review_text</th>\n",
       "      <th>star_rating</th>\n",
       "      <th>tokens</th>\n",
       "      <th>determination</th>\n",
       "    </tr>\n",
       "  </thead>\n",
       "  <tbody>\n",
       "    <tr>\n",
       "      <th>0</th>\n",
       "      <td>the factory - cafe with a soul</td>\n",
       "      <td>11/25/2016 1 check-in Love love loved the atm...</td>\n",
       "      <td>5.0 star rating</td>\n",
       "      <td>[11252016, 1, checkin, love, love, loved, the,...</td>\n",
       "      <td>good</td>\n",
       "    </tr>\n",
       "    <tr>\n",
       "      <th>1</th>\n",
       "      <td>the factory - cafe with a soul</td>\n",
       "      <td>12/2/2016 Listed in Date Night: Austin, Ambia...</td>\n",
       "      <td>4.0 star rating</td>\n",
       "      <td>[1222016, listed, in, date, night, austin, amb...</td>\n",
       "      <td>good</td>\n",
       "    </tr>\n",
       "    <tr>\n",
       "      <th>2</th>\n",
       "      <td>the factory - cafe with a soul</td>\n",
       "      <td>11/30/2016 1 check-in Listed in Brunch Spots ...</td>\n",
       "      <td>4.0 star rating</td>\n",
       "      <td>[11302016, 1, checkin, listed, in, brunch, spo...</td>\n",
       "      <td>good</td>\n",
       "    </tr>\n",
       "    <tr>\n",
       "      <th>3</th>\n",
       "      <td>the factory - cafe with a soul</td>\n",
       "      <td>11/25/2016 Very cool decor! Good drinks Nice ...</td>\n",
       "      <td>2.0 star rating</td>\n",
       "      <td>[11252016, very, cool, decor, good, drinks, ni...</td>\n",
       "      <td>bad</td>\n",
       "    </tr>\n",
       "    <tr>\n",
       "      <th>4</th>\n",
       "      <td>the factory - cafe with a soul</td>\n",
       "      <td>12/3/2016 1 check-in They are located within ...</td>\n",
       "      <td>4.0 star rating</td>\n",
       "      <td>[1232016, 1, checkin, they, are, located, with...</td>\n",
       "      <td>good</td>\n",
       "    </tr>\n",
       "  </tbody>\n",
       "</table>\n",
       "</div>"
      ],
      "text/plain": [
       "                  coffee_shop_name  \\\n",
       "0  the factory - cafe with a soul    \n",
       "1  the factory - cafe with a soul    \n",
       "2  the factory - cafe with a soul    \n",
       "3  the factory - cafe with a soul    \n",
       "4  the factory - cafe with a soul    \n",
       "\n",
       "                                    full_review_text        star_rating  \\\n",
       "0   11/25/2016 1 check-in Love love loved the atm...   5.0 star rating    \n",
       "1   12/2/2016 Listed in Date Night: Austin, Ambia...   4.0 star rating    \n",
       "2   11/30/2016 1 check-in Listed in Brunch Spots ...   4.0 star rating    \n",
       "3   11/25/2016 Very cool decor! Good drinks Nice ...   2.0 star rating    \n",
       "4   12/3/2016 1 check-in They are located within ...   4.0 star rating    \n",
       "\n",
       "                                              tokens determination  \n",
       "0  [11252016, 1, checkin, love, love, loved, the,...          good  \n",
       "1  [1222016, listed, in, date, night, austin, amb...          good  \n",
       "2  [11302016, 1, checkin, listed, in, brunch, spo...          good  \n",
       "3  [11252016, very, cool, decor, good, drinks, ni...           bad  \n",
       "4  [1232016, 1, checkin, they, are, located, with...          good  "
      ]
     },
     "execution_count": 138,
     "metadata": {},
     "output_type": "execute_result"
    }
   ],
   "source": [
    "shops.head()"
   ]
  },
  {
   "cell_type": "code",
   "execution_count": 24,
   "metadata": {},
   "outputs": [],
   "source": [
    "# created new dataframes using ratings with determination either bad or good\n",
    "shopsgood = shops[shops.determination.str.contains('good', case=False)]\n",
    "shopsbad = shops[shops.determination.str.contains('bad', case=False)]"
   ]
  },
  {
   "cell_type": "code",
   "execution_count": 28,
   "metadata": {},
   "outputs": [
    {
     "data": {
      "text/plain": [
       "[('the', 26690),\n",
       " ('and', 21405),\n",
       " ('i', 18287),\n",
       " ('a', 17774),\n",
       " ('to', 12907),\n",
       " ('of', 9964),\n",
       " ('is', 9648),\n",
       " ('it', 9522),\n",
       " ('in', 9202),\n",
       " ('coffee', 8397),\n",
       " ('was', 6777),\n",
       " ('for', 6623),\n",
       " ('you', 5619),\n",
       " ('they', 5357),\n",
       " ('s', 5343),\n",
       " ('this', 5143),\n",
       " ('with', 5048),\n",
       " ('that', 4845),\n",
       " ('my', 4685),\n",
       " ('but', 4656),\n",
       " ('place', 4330),\n",
       " ('on', 4136),\n",
       " ('have', 3971),\n",
       " ('so', 3568),\n",
       " ('are', 3510),\n",
       " ('t', 3473),\n",
       " ('great', 3473),\n",
       " ('good', 3120),\n",
       " ('their', 2890),\n",
       " ('check', 2852)]"
      ]
     },
     "execution_count": 28,
     "metadata": {},
     "output_type": "execute_result"
    }
   ],
   "source": [
    "# top 20 words for shops with good rating\n",
    "word_counts = Counter()\n",
    "shopsgood['tokens'].apply(lambda x: word_counts.update(x))\n",
    "word_counts.most_common(30)"
   ]
  },
  {
   "cell_type": "code",
   "execution_count": 29,
   "metadata": {},
   "outputs": [
    {
     "data": {
      "text/plain": [
       "[('the', 8219),\n",
       " ('i', 6343),\n",
       " ('and', 5369),\n",
       " ('a', 5083),\n",
       " ('to', 4438),\n",
       " ('it', 3171),\n",
       " ('was', 2935),\n",
       " ('of', 2674),\n",
       " ('in', 2407),\n",
       " ('is', 2356),\n",
       " ('coffee', 2175),\n",
       " ('for', 2072),\n",
       " ('but', 1931),\n",
       " ('that', 1824),\n",
       " ('t', 1678),\n",
       " ('my', 1527),\n",
       " ('this', 1467),\n",
       " ('not', 1436),\n",
       " ('they', 1393),\n",
       " ('you', 1370),\n",
       " ('s', 1311),\n",
       " ('with', 1299),\n",
       " ('on', 1154),\n",
       " ('place', 1118),\n",
       " ('so', 1074),\n",
       " ('have', 1051),\n",
       " ('there', 934),\n",
       " ('be', 915),\n",
       " ('like', 887),\n",
       " ('good', 883)]"
      ]
     },
     "execution_count": 29,
     "metadata": {},
     "output_type": "execute_result"
    }
   ],
   "source": [
    "# top 20 words for shops with bad rating\n",
    "word_counts = Counter()\n",
    "shopsbad['tokens'].apply(lambda x: word_counts.update(x))\n",
    "word_counts.most_common(30)"
   ]
  },
  {
   "cell_type": "markdown",
   "metadata": {},
   "source": [
    "## Can visualize the words with the greatest difference in counts between 'good' & 'bad'?\n",
    "\n",
    "Couple Notes: \n",
    "- Rel. freq. instead of absolute counts b/c of different numbers of reviews\n",
    "- Only look at the top 5-10 words with the greatest differences\n"
   ]
  },
  {
   "cell_type": "code",
   "execution_count": 27,
   "metadata": {},
   "outputs": [
    {
     "data": {
      "text/plain": [
       "good    0.806197\n",
       "bad     0.193803\n",
       "Name: determination, dtype: float64"
      ]
     },
     "execution_count": 27,
     "metadata": {},
     "output_type": "execute_result"
    }
   ],
   "source": [
    "# created new dataframes using ratings with determination either bad or good\n",
    "shops_goodbad = pd.concat([shopsgood,shopsbad])\n",
    "shops_goodbad['determination'].value_counts(normalize=True)"
   ]
  },
  {
   "cell_type": "code",
   "execution_count": 46,
   "metadata": {},
   "outputs": [],
   "source": [
    "# Rel. freq. instead of absolute counts b/c of different numbers of reviews\n"
   ]
  },
  {
   "cell_type": "code",
   "execution_count": 139,
   "metadata": {},
   "outputs": [],
   "source": [
    "# Only look at the top 5-10 words with the greatest differences - get rid of stop words\n",
    "import spacy\n",
    "\n",
    "nlpl = spacy.load(\"en_core_web_lg\")"
   ]
  },
  {
   "cell_type": "code",
   "execution_count": 30,
   "metadata": {},
   "outputs": [],
   "source": [
    "import spacy\n",
    "from spacy.tokenizer import Tokenizer\n",
    "\n",
    "nlp = spacy.load(\"en_core_web_lg\")\n",
    "\n",
    "# Tokenizer\n",
    "tokenizer = Tokenizer(nlp.vocab)"
   ]
  },
  {
   "cell_type": "code",
   "execution_count": 47,
   "metadata": {},
   "outputs": [
    {
     "data": {
      "text/plain": [
       "0    [ , 11/25/2016, 1, check-in, love, love, loved...\n",
       "1    [ , 12/2/2016, listed, date, night:, austin,, ...\n",
       "2    [ , 11/30/2016, 1, check-in, listed, brunch, s...\n",
       "3    [ , 11/25/2016, cool, decor!, good, drinks, ni...\n",
       "4    [ , 12/3/2016, 1, check-in, located, northcros...\n",
       "Name: tokens, dtype: object"
      ]
     },
     "execution_count": 47,
     "metadata": {},
     "output_type": "execute_result"
    }
   ],
   "source": [
    "tokens = []\n",
    "\n",
    "\"\"\" Update those tokens w/o stopwords\"\"\"\n",
    "for doc in tokenizer.pipe(shops['full_review_text'], batch_size=500):\n",
    "    \n",
    "    doc_tokens = []\n",
    "    \n",
    "    for token in doc:\n",
    "        if (token.is_stop == False) & (token.is_punct == False):\n",
    "            doc_tokens.append(token.text.lower())\n",
    "\n",
    "    tokens.append(doc_tokens)\n",
    "\n",
    "shops['tokens'] = tokens\n",
    "shops.tokens.head()"
   ]
  },
  {
   "cell_type": "code",
   "execution_count": 32,
   "metadata": {
    "collapsed": true,
    "jupyter": {
     "outputs_hidden": true
    }
   },
   "outputs": [
    {
     "data": {
      "image/png": "[encoded data removed]",
      "text/plain": [
       "<Figure size 432x288 with 1 Axes>"
      ]
     },
     "metadata": {
      "needs_background": "light"
     },
     "output_type": "display_data"
    }
   ],
   "source": [
    "import seaborn as sns\n",
    "\n",
    "# Cumulative Distribution Plot\n",
    "sns.lineplot(x='rank', y='cul_pct_total', data=wc);"
   ]
  },
  {
   "cell_type": "code",
   "execution_count": 33,
   "metadata": {},
   "outputs": [
    {
     "data": {
      "text/plain": [
       "0.55553468483176"
      ]
     },
     "execution_count": 33,
     "metadata": {},
     "output_type": "execute_result"
    }
   ],
   "source": [
    "wc[wc['rank'] <= 100]['cul_pct_total'].max()"
   ]
  },
  {
   "cell_type": "code",
   "execution_count": 34,
   "metadata": {},
   "outputs": [
    {
     "data": {
      "image/png": "[encoded data removed]",
      "text/plain": [
       "<Figure size 432x288 with 1 Axes>"
      ]
     },
     "metadata": {
      "needs_background": "light"
     },
     "output_type": "display_data"
    }
   ],
   "source": [
    "wc = count(shops['tokens'])\n",
    "\n",
    "wc_top20 = wc[wc['rank'] <= 20]\n",
    "\n",
    "squarify.plot(sizes=wc_top20['pct_total'], label=wc_top20['word'], alpha=.8 )\n",
    "plt.axis('off')\n",
    "plt.show()"
   ]
  },
  {
   "cell_type": "code",
   "execution_count": 48,
   "metadata": {},
   "outputs": [],
   "source": [
    "#Custom stopword removal\n",
    "STOP_WORDS = nlp.Defaults.stop_words.union(['coffee',' ', 'place', \"it's\", 'food' ,'time', 'order', 'asked', \"i've\",\"1\",\"i'm\",\"-\",\"it.\",\"customer\"])"
   ]
  },
  {
   "cell_type": "code",
   "execution_count": 49,
   "metadata": {},
   "outputs": [
    {
     "name": "stderr",
     "output_type": "stream",
     "text": [
      "C:\\Users\\johnt\\anaconda3\\envs\\U4-S1-NLP\\lib\\site-packages\\ipykernel_launcher.py:13: SettingWithCopyWarning: \n",
      "A value is trying to be set on a copy of a slice from a DataFrame.\n",
      "Try using .loc[row_indexer,col_indexer] = value instead\n",
      "\n",
      "See the caveats in the documentation: https://pandas.pydata.org/pandas-docs/stable/user_guide/indexing.html#returning-a-view-versus-a-copy\n",
      "  del sys.path[0]\n"
     ]
    }
   ],
   "source": [
    "tokens = []\n",
    "\n",
    "for doc in tokenizer.pipe(shopsgood['full_review_text'], batch_size=500):\n",
    "    \n",
    "    doc_tokens = []\n",
    "    \n",
    "    for token in doc: \n",
    "        if token.text.lower() not in STOP_WORDS:\n",
    "            doc_tokens.append(token.text.lower())\n",
    "   \n",
    "    tokens.append(doc_tokens)\n",
    "    \n",
    "shopsgood['tokens'] = tokens"
   ]
  },
  {
   "cell_type": "code",
   "execution_count": 50,
   "metadata": {},
   "outputs": [
    {
     "name": "stderr",
     "output_type": "stream",
     "text": [
      "C:\\Users\\johnt\\anaconda3\\envs\\U4-S1-NLP\\lib\\site-packages\\ipykernel_launcher.py:13: SettingWithCopyWarning: \n",
      "A value is trying to be set on a copy of a slice from a DataFrame.\n",
      "Try using .loc[row_indexer,col_indexer] = value instead\n",
      "\n",
      "See the caveats in the documentation: https://pandas.pydata.org/pandas-docs/stable/user_guide/indexing.html#returning-a-view-versus-a-copy\n",
      "  del sys.path[0]\n"
     ]
    }
   ],
   "source": [
    "tokens = []\n",
    "\n",
    "for doc in tokenizer.pipe(shopsbad['full_review_text'], batch_size=500):\n",
    "    \n",
    "    doc_tokens = []\n",
    "    \n",
    "    for token in doc: \n",
    "        if token.text.lower() not in STOP_WORDS:\n",
    "            doc_tokens.append(token.text.lower())\n",
    "   \n",
    "    tokens.append(doc_tokens)\n",
    "    \n",
    "shopsbad['tokens'] = tokens"
   ]
  },
  {
   "cell_type": "code",
   "execution_count": 51,
   "metadata": {},
   "outputs": [
    {
     "data": {
      "text/html": [
       "<div>\n",
       "<style scoped>\n",
       "    .dataframe tbody tr th:only-of-type {\n",
       "        vertical-align: middle;\n",
       "    }\n",
       "\n",
       "    .dataframe tbody tr th {\n",
       "        vertical-align: top;\n",
       "    }\n",
       "\n",
       "    .dataframe thead th {\n",
       "        text-align: right;\n",
       "    }\n",
       "</style>\n",
       "<table border=\"1\" class=\"dataframe\">\n",
       "  <thead>\n",
       "    <tr style=\"text-align: right;\">\n",
       "      <th></th>\n",
       "      <th>word</th>\n",
       "      <th>appears_in</th>\n",
       "      <th>count</th>\n",
       "      <th>rank</th>\n",
       "      <th>pct_total</th>\n",
       "      <th>cul_pct_total</th>\n",
       "      <th>appears_in_pct</th>\n",
       "    </tr>\n",
       "  </thead>\n",
       "  <tbody>\n",
       "    <tr>\n",
       "      <th>3</th>\n",
       "      <td>like</td>\n",
       "      <td>548</td>\n",
       "      <td>834</td>\n",
       "      <td>1.0</td>\n",
       "      <td>0.010074</td>\n",
       "      <td>0.010074</td>\n",
       "      <td>0.371274</td>\n",
       "    </tr>\n",
       "    <tr>\n",
       "      <th>35</th>\n",
       "      <td>good</td>\n",
       "      <td>441</td>\n",
       "      <td>599</td>\n",
       "      <td>2.0</td>\n",
       "      <td>0.007235</td>\n",
       "      <td>0.017309</td>\n",
       "      <td>0.298780</td>\n",
       "    </tr>\n",
       "    <tr>\n",
       "      <th>186</th>\n",
       "      <td>don't</td>\n",
       "      <td>340</td>\n",
       "      <td>430</td>\n",
       "      <td>3.0</td>\n",
       "      <td>0.005194</td>\n",
       "      <td>0.022504</td>\n",
       "      <td>0.230352</td>\n",
       "    </tr>\n",
       "    <tr>\n",
       "      <th>68</th>\n",
       "      <td>check-in</td>\n",
       "      <td>359</td>\n",
       "      <td>359</td>\n",
       "      <td>4.0</td>\n",
       "      <td>0.004336</td>\n",
       "      <td>0.026840</td>\n",
       "      <td>0.243225</td>\n",
       "    </tr>\n",
       "    <tr>\n",
       "      <th>180</th>\n",
       "      <td>pretty</td>\n",
       "      <td>278</td>\n",
       "      <td>349</td>\n",
       "      <td>5.0</td>\n",
       "      <td>0.004216</td>\n",
       "      <td>0.031056</td>\n",
       "      <td>0.188347</td>\n",
       "    </tr>\n",
       "    <tr>\n",
       "      <th>136</th>\n",
       "      <td>great</td>\n",
       "      <td>264</td>\n",
       "      <td>348</td>\n",
       "      <td>6.0</td>\n",
       "      <td>0.004204</td>\n",
       "      <td>0.035259</td>\n",
       "      <td>0.178862</td>\n",
       "    </tr>\n",
       "    <tr>\n",
       "      <th>504</th>\n",
       "      <td>people</td>\n",
       "      <td>247</td>\n",
       "      <td>327</td>\n",
       "      <td>7.0</td>\n",
       "      <td>0.003950</td>\n",
       "      <td>0.039209</td>\n",
       "      <td>0.167344</td>\n",
       "    </tr>\n",
       "    <tr>\n",
       "      <th>38</th>\n",
       "      <td>service</td>\n",
       "      <td>261</td>\n",
       "      <td>314</td>\n",
       "      <td>8.0</td>\n",
       "      <td>0.003793</td>\n",
       "      <td>0.043002</td>\n",
       "      <td>0.176829</td>\n",
       "    </tr>\n",
       "    <tr>\n",
       "      <th>19</th>\n",
       "      <td>got</td>\n",
       "      <td>237</td>\n",
       "      <td>300</td>\n",
       "      <td>9.0</td>\n",
       "      <td>0.003624</td>\n",
       "      <td>0.046626</td>\n",
       "      <td>0.160569</td>\n",
       "    </tr>\n",
       "    <tr>\n",
       "      <th>371</th>\n",
       "      <td>ordered</td>\n",
       "      <td>240</td>\n",
       "      <td>296</td>\n",
       "      <td>10.0</td>\n",
       "      <td>0.003575</td>\n",
       "      <td>0.050201</td>\n",
       "      <td>0.162602</td>\n",
       "    </tr>\n",
       "    <tr>\n",
       "      <th>476</th>\n",
       "      <td>didn't</td>\n",
       "      <td>222</td>\n",
       "      <td>292</td>\n",
       "      <td>11.0</td>\n",
       "      <td>0.003527</td>\n",
       "      <td>0.053728</td>\n",
       "      <td>0.150407</td>\n",
       "    </tr>\n",
       "    <tr>\n",
       "      <th>147</th>\n",
       "      <td>come</td>\n",
       "      <td>234</td>\n",
       "      <td>285</td>\n",
       "      <td>12.0</td>\n",
       "      <td>0.003443</td>\n",
       "      <td>0.057171</td>\n",
       "      <td>0.158537</td>\n",
       "    </tr>\n",
       "    <tr>\n",
       "      <th>23</th>\n",
       "      <td>nice</td>\n",
       "      <td>226</td>\n",
       "      <td>267</td>\n",
       "      <td>13.0</td>\n",
       "      <td>0.003225</td>\n",
       "      <td>0.060396</td>\n",
       "      <td>0.153117</td>\n",
       "    </tr>\n",
       "    <tr>\n",
       "      <th>363</th>\n",
       "      <td>little</td>\n",
       "      <td>203</td>\n",
       "      <td>249</td>\n",
       "      <td>14.0</td>\n",
       "      <td>0.003008</td>\n",
       "      <td>0.063404</td>\n",
       "      <td>0.137534</td>\n",
       "    </tr>\n",
       "    <tr>\n",
       "      <th>222</th>\n",
       "      <td>coffee.</td>\n",
       "      <td>192</td>\n",
       "      <td>229</td>\n",
       "      <td>15.0</td>\n",
       "      <td>0.002766</td>\n",
       "      <td>0.066170</td>\n",
       "      <td>0.130081</td>\n",
       "    </tr>\n",
       "    <tr>\n",
       "      <th>326</th>\n",
       "      <td>drink</td>\n",
       "      <td>166</td>\n",
       "      <td>222</td>\n",
       "      <td>16.0</td>\n",
       "      <td>0.002682</td>\n",
       "      <td>0.068851</td>\n",
       "      <td>0.112466</td>\n",
       "    </tr>\n",
       "    <tr>\n",
       "      <th>378</th>\n",
       "      <td>came</td>\n",
       "      <td>181</td>\n",
       "      <td>214</td>\n",
       "      <td>17.0</td>\n",
       "      <td>0.002585</td>\n",
       "      <td>0.071436</td>\n",
       "      <td>0.122629</td>\n",
       "    </tr>\n",
       "    <tr>\n",
       "      <th>212</th>\n",
       "      <td>shop</td>\n",
       "      <td>172</td>\n",
       "      <td>205</td>\n",
       "      <td>18.0</td>\n",
       "      <td>0.002476</td>\n",
       "      <td>0.073913</td>\n",
       "      <td>0.116531</td>\n",
       "    </tr>\n",
       "    <tr>\n",
       "      <th>288</th>\n",
       "      <td>wasn't</td>\n",
       "      <td>167</td>\n",
       "      <td>204</td>\n",
       "      <td>19.0</td>\n",
       "      <td>0.002464</td>\n",
       "      <td>0.076377</td>\n",
       "      <td>0.113144</td>\n",
       "    </tr>\n",
       "    <tr>\n",
       "      <th>361</th>\n",
       "      <td>love</td>\n",
       "      <td>171</td>\n",
       "      <td>202</td>\n",
       "      <td>20.0</td>\n",
       "      <td>0.002440</td>\n",
       "      <td>0.078817</td>\n",
       "      <td>0.115854</td>\n",
       "    </tr>\n",
       "  </tbody>\n",
       "</table>\n",
       "</div>"
      ],
      "text/plain": [
       "         word  appears_in  count  rank  pct_total  cul_pct_total  \\\n",
       "3        like         548    834   1.0   0.010074       0.010074   \n",
       "35       good         441    599   2.0   0.007235       0.017309   \n",
       "186     don't         340    430   3.0   0.005194       0.022504   \n",
       "68   check-in         359    359   4.0   0.004336       0.026840   \n",
       "180    pretty         278    349   5.0   0.004216       0.031056   \n",
       "136     great         264    348   6.0   0.004204       0.035259   \n",
       "504    people         247    327   7.0   0.003950       0.039209   \n",
       "38    service         261    314   8.0   0.003793       0.043002   \n",
       "19        got         237    300   9.0   0.003624       0.046626   \n",
       "371   ordered         240    296  10.0   0.003575       0.050201   \n",
       "476    didn't         222    292  11.0   0.003527       0.053728   \n",
       "147      come         234    285  12.0   0.003443       0.057171   \n",
       "23       nice         226    267  13.0   0.003225       0.060396   \n",
       "363    little         203    249  14.0   0.003008       0.063404   \n",
       "222   coffee.         192    229  15.0   0.002766       0.066170   \n",
       "326     drink         166    222  16.0   0.002682       0.068851   \n",
       "378      came         181    214  17.0   0.002585       0.071436   \n",
       "212      shop         172    205  18.0   0.002476       0.073913   \n",
       "288    wasn't         167    204  19.0   0.002464       0.076377   \n",
       "361      love         171    202  20.0   0.002440       0.078817   \n",
       "\n",
       "     appears_in_pct  \n",
       "3          0.371274  \n",
       "35         0.298780  \n",
       "186        0.230352  \n",
       "68         0.243225  \n",
       "180        0.188347  \n",
       "136        0.178862  \n",
       "504        0.167344  \n",
       "38         0.176829  \n",
       "19         0.160569  \n",
       "371        0.162602  \n",
       "476        0.150407  \n",
       "147        0.158537  \n",
       "23         0.153117  \n",
       "363        0.137534  \n",
       "222        0.130081  \n",
       "326        0.112466  \n",
       "378        0.122629  \n",
       "212        0.116531  \n",
       "288        0.113144  \n",
       "361        0.115854  "
      ]
     },
     "execution_count": 51,
     "metadata": {},
     "output_type": "execute_result"
    }
   ],
   "source": [
    "# Bad coffe shos words - feel like don't is the giveway difference for bad coffee shops\n",
    "wc = count(shopsbad['tokens'])\n",
    "wc.head(20)"
   ]
  },
  {
   "cell_type": "code",
   "execution_count": 52,
   "metadata": {},
   "outputs": [
    {
     "data": {
      "text/html": [
       "<div>\n",
       "<style scoped>\n",
       "    .dataframe tbody tr th:only-of-type {\n",
       "        vertical-align: middle;\n",
       "    }\n",
       "\n",
       "    .dataframe tbody tr th {\n",
       "        vertical-align: top;\n",
       "    }\n",
       "\n",
       "    .dataframe thead th {\n",
       "        text-align: right;\n",
       "    }\n",
       "</style>\n",
       "<table border=\"1\" class=\"dataframe\">\n",
       "  <thead>\n",
       "    <tr style=\"text-align: right;\">\n",
       "      <th></th>\n",
       "      <th>word</th>\n",
       "      <th>appears_in</th>\n",
       "      <th>count</th>\n",
       "      <th>rank</th>\n",
       "      <th>pct_total</th>\n",
       "      <th>cul_pct_total</th>\n",
       "      <th>appears_in_pct</th>\n",
       "    </tr>\n",
       "  </thead>\n",
       "  <tbody>\n",
       "    <tr>\n",
       "      <th>131</th>\n",
       "      <td>great</td>\n",
       "      <td>2174</td>\n",
       "      <td>2902</td>\n",
       "      <td>1.0</td>\n",
       "      <td>0.009916</td>\n",
       "      <td>0.009916</td>\n",
       "      <td>0.354072</td>\n",
       "    </tr>\n",
       "    <tr>\n",
       "      <th>298</th>\n",
       "      <td>good</td>\n",
       "      <td>1643</td>\n",
       "      <td>2180</td>\n",
       "      <td>2.0</td>\n",
       "      <td>0.007449</td>\n",
       "      <td>0.017364</td>\n",
       "      <td>0.267590</td>\n",
       "    </tr>\n",
       "    <tr>\n",
       "      <th>214</th>\n",
       "      <td>like</td>\n",
       "      <td>1486</td>\n",
       "      <td>2068</td>\n",
       "      <td>3.0</td>\n",
       "      <td>0.007066</td>\n",
       "      <td>0.024430</td>\n",
       "      <td>0.242020</td>\n",
       "    </tr>\n",
       "    <tr>\n",
       "      <th>22</th>\n",
       "      <td>love</td>\n",
       "      <td>1263</td>\n",
       "      <td>1604</td>\n",
       "      <td>4.0</td>\n",
       "      <td>0.005481</td>\n",
       "      <td>0.029911</td>\n",
       "      <td>0.205700</td>\n",
       "    </tr>\n",
       "    <tr>\n",
       "      <th>34</th>\n",
       "      <td>check-in</td>\n",
       "      <td>1598</td>\n",
       "      <td>1602</td>\n",
       "      <td>5.0</td>\n",
       "      <td>0.005474</td>\n",
       "      <td>0.035384</td>\n",
       "      <td>0.260261</td>\n",
       "    </tr>\n",
       "    <tr>\n",
       "      <th>603</th>\n",
       "      <td>little</td>\n",
       "      <td>1027</td>\n",
       "      <td>1230</td>\n",
       "      <td>6.0</td>\n",
       "      <td>0.004203</td>\n",
       "      <td>0.039587</td>\n",
       "      <td>0.167264</td>\n",
       "    </tr>\n",
       "    <tr>\n",
       "      <th>232</th>\n",
       "      <td>nice</td>\n",
       "      <td>962</td>\n",
       "      <td>1101</td>\n",
       "      <td>7.0</td>\n",
       "      <td>0.003762</td>\n",
       "      <td>0.043349</td>\n",
       "      <td>0.156678</td>\n",
       "    </tr>\n",
       "    <tr>\n",
       "      <th>418</th>\n",
       "      <td>best</td>\n",
       "      <td>951</td>\n",
       "      <td>1093</td>\n",
       "      <td>8.0</td>\n",
       "      <td>0.003735</td>\n",
       "      <td>0.047083</td>\n",
       "      <td>0.154886</td>\n",
       "    </tr>\n",
       "    <tr>\n",
       "      <th>196</th>\n",
       "      <td>friendly</td>\n",
       "      <td>986</td>\n",
       "      <td>1014</td>\n",
       "      <td>9.0</td>\n",
       "      <td>0.003465</td>\n",
       "      <td>0.050548</td>\n",
       "      <td>0.160586</td>\n",
       "    </tr>\n",
       "    <tr>\n",
       "      <th>65</th>\n",
       "      <td>austin</td>\n",
       "      <td>875</td>\n",
       "      <td>1013</td>\n",
       "      <td>10.0</td>\n",
       "      <td>0.003461</td>\n",
       "      <td>0.054009</td>\n",
       "      <td>0.142508</td>\n",
       "    </tr>\n",
       "    <tr>\n",
       "      <th>50</th>\n",
       "      <td>definitely</td>\n",
       "      <td>889</td>\n",
       "      <td>1002</td>\n",
       "      <td>11.0</td>\n",
       "      <td>0.003424</td>\n",
       "      <td>0.057433</td>\n",
       "      <td>0.144788</td>\n",
       "    </tr>\n",
       "    <tr>\n",
       "      <th>38</th>\n",
       "      <td>pretty</td>\n",
       "      <td>788</td>\n",
       "      <td>990</td>\n",
       "      <td>12.0</td>\n",
       "      <td>0.003383</td>\n",
       "      <td>0.060815</td>\n",
       "      <td>0.128339</td>\n",
       "    </tr>\n",
       "    <tr>\n",
       "      <th>255</th>\n",
       "      <td>don't</td>\n",
       "      <td>793</td>\n",
       "      <td>965</td>\n",
       "      <td>13.0</td>\n",
       "      <td>0.003297</td>\n",
       "      <td>0.064113</td>\n",
       "      <td>0.129153</td>\n",
       "    </tr>\n",
       "    <tr>\n",
       "      <th>0</th>\n",
       "      <td>latte</td>\n",
       "      <td>713</td>\n",
       "      <td>949</td>\n",
       "      <td>14.0</td>\n",
       "      <td>0.003243</td>\n",
       "      <td>0.067355</td>\n",
       "      <td>0.116124</td>\n",
       "    </tr>\n",
       "    <tr>\n",
       "      <th>23</th>\n",
       "      <td>got</td>\n",
       "      <td>743</td>\n",
       "      <td>947</td>\n",
       "      <td>15.0</td>\n",
       "      <td>0.003236</td>\n",
       "      <td>0.070591</td>\n",
       "      <td>0.121010</td>\n",
       "    </tr>\n",
       "    <tr>\n",
       "      <th>273</th>\n",
       "      <td>check-ins</td>\n",
       "      <td>929</td>\n",
       "      <td>930</td>\n",
       "      <td>16.0</td>\n",
       "      <td>0.003178</td>\n",
       "      <td>0.073768</td>\n",
       "      <td>0.151303</td>\n",
       "    </tr>\n",
       "    <tr>\n",
       "      <th>35</th>\n",
       "      <td>shop</td>\n",
       "      <td>775</td>\n",
       "      <td>910</td>\n",
       "      <td>17.0</td>\n",
       "      <td>0.003109</td>\n",
       "      <td>0.076878</td>\n",
       "      <td>0.126221</td>\n",
       "    </tr>\n",
       "    <tr>\n",
       "      <th>567</th>\n",
       "      <td>come</td>\n",
       "      <td>797</td>\n",
       "      <td>908</td>\n",
       "      <td>18.0</td>\n",
       "      <td>0.003102</td>\n",
       "      <td>0.079980</td>\n",
       "      <td>0.129805</td>\n",
       "    </tr>\n",
       "    <tr>\n",
       "      <th>789</th>\n",
       "      <td>people</td>\n",
       "      <td>768</td>\n",
       "      <td>896</td>\n",
       "      <td>19.0</td>\n",
       "      <td>0.003061</td>\n",
       "      <td>0.083041</td>\n",
       "      <td>0.125081</td>\n",
       "    </tr>\n",
       "    <tr>\n",
       "      <th>829</th>\n",
       "      <td>iced</td>\n",
       "      <td>670</td>\n",
       "      <td>879</td>\n",
       "      <td>20.0</td>\n",
       "      <td>0.003003</td>\n",
       "      <td>0.086045</td>\n",
       "      <td>0.109121</td>\n",
       "    </tr>\n",
       "  </tbody>\n",
       "</table>\n",
       "</div>"
      ],
      "text/plain": [
       "           word  appears_in  count  rank  pct_total  cul_pct_total  \\\n",
       "131       great        2174   2902   1.0   0.009916       0.009916   \n",
       "298        good        1643   2180   2.0   0.007449       0.017364   \n",
       "214        like        1486   2068   3.0   0.007066       0.024430   \n",
       "22         love        1263   1604   4.0   0.005481       0.029911   \n",
       "34     check-in        1598   1602   5.0   0.005474       0.035384   \n",
       "603      little        1027   1230   6.0   0.004203       0.039587   \n",
       "232        nice         962   1101   7.0   0.003762       0.043349   \n",
       "418        best         951   1093   8.0   0.003735       0.047083   \n",
       "196    friendly         986   1014   9.0   0.003465       0.050548   \n",
       "65       austin         875   1013  10.0   0.003461       0.054009   \n",
       "50   definitely         889   1002  11.0   0.003424       0.057433   \n",
       "38       pretty         788    990  12.0   0.003383       0.060815   \n",
       "255       don't         793    965  13.0   0.003297       0.064113   \n",
       "0         latte         713    949  14.0   0.003243       0.067355   \n",
       "23          got         743    947  15.0   0.003236       0.070591   \n",
       "273   check-ins         929    930  16.0   0.003178       0.073768   \n",
       "35         shop         775    910  17.0   0.003109       0.076878   \n",
       "567        come         797    908  18.0   0.003102       0.079980   \n",
       "789      people         768    896  19.0   0.003061       0.083041   \n",
       "829        iced         670    879  20.0   0.003003       0.086045   \n",
       "\n",
       "     appears_in_pct  \n",
       "131        0.354072  \n",
       "298        0.267590  \n",
       "214        0.242020  \n",
       "22         0.205700  \n",
       "34         0.260261  \n",
       "603        0.167264  \n",
       "232        0.156678  \n",
       "418        0.154886  \n",
       "196        0.160586  \n",
       "65         0.142508  \n",
       "50         0.144788  \n",
       "38         0.128339  \n",
       "255        0.129153  \n",
       "0          0.116124  \n",
       "23         0.121010  \n",
       "273        0.151303  \n",
       "35         0.126221  \n",
       "567        0.129805  \n",
       "789        0.125081  \n",
       "829        0.109121  "
      ]
     },
     "execution_count": 52,
     "metadata": {},
     "output_type": "execute_result"
    }
   ],
   "source": [
    "# good coffe shos words - great, like, love giveway differences\n",
    "wc = count(shopsgood['tokens'])\n",
    "wc.head(20)"
   ]
  },
  {
   "cell_type": "markdown",
   "metadata": {},
   "source": [
    "### - Visualize difference"
   ]
  },
  {
   "cell_type": "code",
   "execution_count": 57,
   "metadata": {},
   "outputs": [
    {
     "data": {
      "image/png": "[encoded data removed]",
      "text/plain": [
       "<Figure size 432x288 with 1 Axes>"
      ]
     },
     "metadata": {
      "needs_background": "light"
     },
     "output_type": "display_data"
    }
   ],
   "source": [
    "# Bad shops viz\n",
    "wc = count(shopsbad['tokens'])\n",
    "\n",
    "wc_top20 = wc[wc['rank'] <= 20]\n",
    "\n",
    "squarify.plot(sizes=wc_top20['pct_total'], label=wc_top20['word'], alpha=.8 )\n",
    "plt.title('Bad shops Most common words')\n",
    "plt.axis('off')\n",
    "plt.show()"
   ]
  },
  {
   "cell_type": "code",
   "execution_count": 58,
   "metadata": {},
   "outputs": [
    {
     "data": {
      "image/png": "[encoded data removed]",
      "text/plain": [
       "<Figure size 432x288 with 1 Axes>"
      ]
     },
     "metadata": {
      "needs_background": "light"
     },
     "output_type": "display_data"
    }
   ],
   "source": [
    "# Cumulative Distribution Plot\n",
    "sns.lineplot(x='rank', y='cul_pct_total', data=wc);"
   ]
  },
  {
   "cell_type": "code",
   "execution_count": 59,
   "metadata": {},
   "outputs": [
    {
     "data": {
      "image/png": "[encoded data removed]",
      "text/plain": [
       "<Figure size 432x288 with 1 Axes>"
      ]
     },
     "metadata": {
      "needs_background": "light"
     },
     "output_type": "display_data"
    }
   ],
   "source": [
    "# Good shops viz\n",
    "wc = count(shopsgood['tokens'])\n",
    "\n",
    "wc_top20 = wc[wc['rank'] <= 20]\n",
    "\n",
    "squarify.plot(sizes=wc_top20['pct_total'], label=wc_top20['word'], alpha=.8 )\n",
    "plt.title('Good shops Most common words')\n",
    "plt.axis('off')\n",
    "plt.show()"
   ]
  },
  {
   "cell_type": "code",
   "execution_count": 60,
   "metadata": {},
   "outputs": [
    {
     "data": {
      "image/png": "[encoded data removed]",
      "text/plain": [
       "<Figure size 432x288 with 1 Axes>"
      ]
     },
     "metadata": {
      "needs_background": "light"
     },
     "output_type": "display_data"
    }
   ],
   "source": [
    "# Cumulative Distribution Plot\n",
    "sns.lineplot(x='rank', y='cul_pct_total', data=wc);"
   ]
  },
  {
   "cell_type": "markdown",
   "metadata": {
    "colab_type": "text",
    "id": "1dCb1q8XphcP",
    "toc-hr-collapsed": true
   },
   "source": [
    "## Stretch Goals\n",
    "\n",
    "* Analyze another corpus of documents - such as Indeed.com job listings ;).\n",
    "* Play with the Spacy API to\n",
    " - Extract Named Entities\n",
    " - Extracting 'noun chunks'\n",
    " - Attempt Document Classification with just Spacy\n",
    " - *Note:* This [course](https://course.spacy.io/) will be of interesting in helping you with these stretch goals. \n",
    "* Try to build a plotly dash app with your text data \n",
    "\n"
   ]
  },
  {
   "cell_type": "markdown",
   "metadata": {},
   "source": [
    "### - Add classification problem that predict rating of coffee shop"
   ]
  },
  {
   "cell_type": "code",
   "execution_count": null,
   "metadata": {},
   "outputs": [],
   "source": []
  }
 ],
 "metadata": {
  "colab": {
   "collapsed_sections": [],
   "name": "LS_DS_421_Text_Data_Assignment.ipynb",
   "provenance": [],
   "version": "0.3.2"
  },
  "kernelspec": {
   "display_name": "U4-S1-NLP (Python3)",
   "language": "python",
   "name": "u4-s1-nlp"
  },
  "language_info": {
   "codemirror_mode": {
    "name": "ipython",
    "version": 3
   },
   "file_extension": ".py",
   "mimetype": "text/x-python",
   "name": "python",
   "nbconvert_exporter": "python",
   "pygments_lexer": "ipython3",
   "version": "3.7.0"
  },
  "toc-autonumbering": false
 },
 "nbformat": 4,
 "nbformat_minor": 4
}
