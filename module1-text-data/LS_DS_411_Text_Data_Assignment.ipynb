{
 "cells": [
  {
   "cell_type": "markdown",
   "metadata": {},
   "source": [
    "<img align=\"left\" src=\"https://lever-client-logos.s3.amazonaws.com/864372b1-534c-480e-acd5-9711f850815c-1524247202159.png\" width=200>\n",
    "<br></br>\n",
    "<br></br>\n",
    "\n",
    "# Natural Language Processing (NLP)\n",
    "## *Data Science Unit 4 Sprint 1 Assignment 1*\n",
    "\n",
    "Your goal in this assignment: find the attributes of the best & worst coffee shops in the dataset. The text is fairly raw: dates in the review, extra words in the `star_rating` column, etc. You'll probably want to clean that stuff up for a better analysis. \n",
    "\n",
    "Analyze the corpus of text using text visualizations of token frequency. Try cleaning the data as much as possible. Try the following techniques: \n",
    "- Lemmatization\n",
    "- Custom stopword removal\n",
    "\n",
    "Keep in mind the attributes of good tokens. Once you have a solid baseline, layer in the star rating in your visualization(s). Key part of this assignment - produce a write-up of the attributes of the best and worst coffee shops. Based on your analysis, what makes the best the best and the worst the worst. Use graphs and numbesr from your analysis to support your conclusions. There should be plenty of markdown cells! :coffee:"
   ]
  },
  {
   "cell_type": "code",
   "execution_count": 118,
   "metadata": {},
   "outputs": [
    {
     "data": {
      "image/jpeg": "[encoded data removed]",
      "text/html": [
       "\n",
       "        <iframe\n",
       "            width=\"400\"\n",
       "            height=\"300\"\n",
       "            src=\"https://www.youtube.com/embed/Jml7NVYm8cs\"\n",
       "            frameborder=\"0\"\n",
       "            allowfullscreen\n",
       "        ></iframe>\n",
       "        "
      ],
      "text/plain": [
       "<IPython.lib.display.YouTubeVideo at 0x26b6a6b90b8>"
      ]
     },
     "execution_count": 118,
     "metadata": {},
     "output_type": "execute_result"
    }
   ],
   "source": [
    "from IPython.display import YouTubeVideo\n",
    "\n",
    "YouTubeVideo('Jml7NVYm8cs')"
   ]
  },
  {
   "cell_type": "code",
   "execution_count": 119,
   "metadata": {},
   "outputs": [
    {
     "data": {
      "text/plain": [
       "'C:\\\\Users\\\\johnt\\\\unit3\\\\DS-Unit-4-Sprint-1-NLP\\\\module1-text-data'"
      ]
     },
     "execution_count": 119,
     "metadata": {},
     "output_type": "execute_result"
    }
   ],
   "source": [
    "%pwd"
   ]
  },
  {
   "cell_type": "code",
   "execution_count": 120,
   "metadata": {},
   "outputs": [
    {
     "name": "stdout",
     "output_type": "stream",
     "text": [
      "(7616, 3)\n"
     ]
    },
    {
     "data": {
      "text/html": [
       "<div>\n",
       "<style scoped>\n",
       "    .dataframe tbody tr th:only-of-type {\n",
       "        vertical-align: middle;\n",
       "    }\n",
       "\n",
       "    .dataframe tbody tr th {\n",
       "        vertical-align: top;\n",
       "    }\n",
       "\n",
       "    .dataframe thead th {\n",
       "        text-align: right;\n",
       "    }\n",
       "</style>\n",
       "<table border=\"1\" class=\"dataframe\">\n",
       "  <thead>\n",
       "    <tr style=\"text-align: right;\">\n",
       "      <th></th>\n",
       "      <th>coffee_shop_name</th>\n",
       "      <th>full_review_text</th>\n",
       "      <th>star_rating</th>\n",
       "    </tr>\n",
       "  </thead>\n",
       "  <tbody>\n",
       "    <tr>\n",
       "      <th>0</th>\n",
       "      <td>The Factory - Cafe With a Soul</td>\n",
       "      <td>11/25/2016 1 check-in Love love loved the atm...</td>\n",
       "      <td>5.0 star rating</td>\n",
       "    </tr>\n",
       "    <tr>\n",
       "      <th>1</th>\n",
       "      <td>The Factory - Cafe With a Soul</td>\n",
       "      <td>12/2/2016 Listed in Date Night: Austin, Ambia...</td>\n",
       "      <td>4.0 star rating</td>\n",
       "    </tr>\n",
       "    <tr>\n",
       "      <th>2</th>\n",
       "      <td>The Factory - Cafe With a Soul</td>\n",
       "      <td>11/30/2016 1 check-in Listed in Brunch Spots ...</td>\n",
       "      <td>4.0 star rating</td>\n",
       "    </tr>\n",
       "    <tr>\n",
       "      <th>3</th>\n",
       "      <td>The Factory - Cafe With a Soul</td>\n",
       "      <td>11/25/2016 Very cool decor! Good drinks Nice ...</td>\n",
       "      <td>2.0 star rating</td>\n",
       "    </tr>\n",
       "    <tr>\n",
       "      <th>4</th>\n",
       "      <td>The Factory - Cafe With a Soul</td>\n",
       "      <td>12/3/2016 1 check-in They are located within ...</td>\n",
       "      <td>4.0 star rating</td>\n",
       "    </tr>\n",
       "  </tbody>\n",
       "</table>\n",
       "</div>"
      ],
      "text/plain": [
       "                  coffee_shop_name  \\\n",
       "0  The Factory - Cafe With a Soul    \n",
       "1  The Factory - Cafe With a Soul    \n",
       "2  The Factory - Cafe With a Soul    \n",
       "3  The Factory - Cafe With a Soul    \n",
       "4  The Factory - Cafe With a Soul    \n",
       "\n",
       "                                    full_review_text        star_rating  \n",
       "0   11/25/2016 1 check-in Love love loved the atm...   5.0 star rating   \n",
       "1   12/2/2016 Listed in Date Night: Austin, Ambia...   4.0 star rating   \n",
       "2   11/30/2016 1 check-in Listed in Brunch Spots ...   4.0 star rating   \n",
       "3   11/25/2016 Very cool decor! Good drinks Nice ...   2.0 star rating   \n",
       "4   12/3/2016 1 check-in They are located within ...   4.0 star rating   "
      ]
     },
     "execution_count": 120,
     "metadata": {},
     "output_type": "execute_result"
    }
   ],
   "source": [
    "\"\"\"\n",
    "Import Statements\n",
    "\"\"\"\n",
    "\n",
    "# Base\n",
    "from collections import Counter\n",
    "import re\n",
    " \n",
    "import pandas as pd\n",
    "\n",
    "# Plotting\n",
    "import squarify\n",
    "import matplotlib.pyplot as plt\n",
    "import seaborn as sns\n",
    "\n",
    "# NLP Libraries\n",
    "import spacy\n",
    "from spacy.tokenizer import Tokenizer\n",
    "from nltk.stem import PorterStemmer\n",
    "\n",
    "url = \"https://raw.githubusercontent.com/LambdaSchool/DS-Unit-4-Sprint-1-NLP/main/module1-text-data/data/yelp_coffeeshop_review_data.csv\"\n",
    "\n",
    "shops = pd.read_csv(url)\n",
    "# analyze the shape\n",
    "print(shops.shape)\n",
    "shops.head()"
   ]
  },
  {
   "cell_type": "code",
   "execution_count": 121,
   "metadata": {},
   "outputs": [
    {
     "data": {
      "text/plain": [
       "Epoch Coffee                       0.052521\n",
       "Halcyon                            0.039391\n",
       "The Factory - Cafe With a Soul     0.032038\n",
       "Houndstooth Coffee                 0.026261\n",
       "Venezia Italian Gelato             0.026261\n",
       "Caffé Medici                       0.018776\n",
       "Apanas Coffee & Beer               0.017857\n",
       "Summer Moon Coffee Bar             0.013130\n",
       "Café Java                          0.013130\n",
       "Once Over Coffee Bar               0.013130\n",
       "Bennu Coffee                       0.013130\n",
       "The Steeping Room                  0.013130\n",
       "Cenote                             0.013130\n",
       "Dolce Neve                         0.013130\n",
       "Hot Mama’s Cafe                    0.013130\n",
       "Irie Bean Coffee Bar               0.013130\n",
       "Alta’s Cafe                        0.013130\n",
       "Arturo’s Underground Cafe          0.013130\n",
       "Russell’s Bakery                   0.013130\n",
       "The Buzz Mill                      0.013130\n",
       "Seventh Flag Coffee Co             0.013130\n",
       "Sa-Ten                             0.013130\n",
       "Figure 8 Coffee Purveyors          0.013130\n",
       "Quack’s 43rd Street Bakery         0.013130\n",
       "La Patisserie                      0.013130\n",
       "Corona Coffee                      0.013130\n",
       "Genuine Joe                        0.013130\n",
       "Juan Pelota                        0.013130\n",
       "Flightpath Coffeehouse             0.013130\n",
       "Tea Haus                           0.013130\n",
       "Caffe Medici                       0.013130\n",
       "Radio Coffee & Beer                0.013130\n",
       "Pacha                              0.013130\n",
       "Vintage Heart Coffee               0.013130\n",
       "Cuvée Coffee Bar                   0.013130\n",
       "Live Oak Market                    0.013130\n",
       "Picnik Austin                      0.013130\n",
       "Dominican Joe                      0.013130\n",
       "TOMS                               0.013130\n",
       "Café Crème                         0.013130\n",
       "Jo’s Coffee                        0.013130\n",
       "Mozart’s Coffee Roasters           0.013130\n",
       "Cream Whiskers                     0.013130\n",
       "Monkey Nest Coffee                 0.013130\n",
       "Stinson’s                          0.013130\n",
       "La Tazza Fresca                    0.013130\n",
       "Cherrywood Coffeehouse             0.013130\n",
       "Teo                                0.013130\n",
       "Mary’s Cafe                        0.013130\n",
       "Strange Brew, Austin Coffee        0.013130\n",
       "Name: coffee_shop_name, dtype: float64"
      ]
     },
     "execution_count": 121,
     "metadata": {},
     "output_type": "execute_result"
    }
   ],
   "source": [
    "# Notice anything odd here? - lots of different shops  \n",
    "shops['coffee_shop_name'].value_counts(normalize=True)[:50]"
   ]
  },
  {
   "cell_type": "code",
   "execution_count": 122,
   "metadata": {},
   "outputs": [
    {
     "data": {
      "text/plain": [
       "epoch coffee                       0.052521\n",
       "halcyon                            0.039391\n",
       "the factory - cafe with a soul     0.032038\n",
       "houndstooth coffee                 0.026261\n",
       "venezia italian gelato             0.026261\n",
       "caffé medici                       0.018776\n",
       "apanas coffee & beer               0.017857\n",
       "lola savannah coffee lounge        0.013130\n",
       "picnik austin                      0.013130\n",
       "cenote                             0.013130\n",
       "sorrento’s coffee                  0.013130\n",
       "caffe medici                       0.013130\n",
       "once over coffee bar               0.013130\n",
       "café crème                         0.013130\n",
       "dominican joe                      0.013130\n",
       "live oak market                    0.013130\n",
       "figure 8 coffee purveyors          0.013130\n",
       "tea haus                           0.013130\n",
       "arturo’s underground cafe          0.013130\n",
       "monkey nest coffee                 0.013130\n",
       "hot mama’s cafe                    0.013130\n",
       "stinson’s                          0.013130\n",
       "toms                               0.013130\n",
       "bennu coffee                       0.013130\n",
       "anderson’s coffee company          0.013130\n",
       "la patisserie                      0.013130\n",
       "kick butt coffee music & booze     0.013130\n",
       "radio coffee & beer                0.013130\n",
       "patika                             0.013130\n",
       "dolce neve                         0.013130\n",
       "thunderbird coffee                 0.013130\n",
       "teo                                0.013130\n",
       "corona coffee                      0.013130\n",
       "juan pelota                        0.013130\n",
       "the steeping room                  0.013130\n",
       "vintage heart coffee               0.013130\n",
       "sa-ten                             0.013130\n",
       "russell’s bakery                   0.013130\n",
       "genuine joe                        0.013130\n",
       "mary’s cafe                        0.013130\n",
       "cherrywood coffeehouse             0.013130\n",
       "flightpath coffeehouse             0.013130\n",
       "cuvée coffee bar                   0.013130\n",
       "cream whiskers                     0.013130\n",
       "jo’s coffee                        0.013130\n",
       "summer moon coffee bar             0.013130\n",
       "alta’s cafe                        0.013130\n",
       "the buzz mill                      0.013130\n",
       "la tazza fresca                    0.013130\n",
       "seventh flag coffee co             0.013130\n",
       "Name: coffee_shop_name, dtype: float64"
      ]
     },
     "execution_count": 122,
     "metadata": {},
     "output_type": "execute_result"
    }
   ],
   "source": [
    "# Much cleaner - made lower case from notes\n",
    "shops['coffee_shop_name'] = shops['coffee_shop_name'].apply(lambda x: x.lower())\n",
    "shops['coffee_shop_name'].value_counts(normalize=True)[:50]"
   ]
  },
  {
   "cell_type": "code",
   "execution_count": 123,
   "metadata": {},
   "outputs": [
    {
     "name": "stdout",
     "output_type": "stream",
     "text": [
      "<class 'pandas.core.frame.DataFrame'>\n",
      "RangeIndex: 7616 entries, 0 to 7615\n",
      "Data columns (total 3 columns):\n",
      " #   Column            Non-Null Count  Dtype \n",
      "---  ------            --------------  ----- \n",
      " 0   coffee_shop_name  7616 non-null   object\n",
      " 1   full_review_text  7616 non-null   object\n",
      " 2   star_rating       7616 non-null   object\n",
      "dtypes: object(3)\n",
      "memory usage: 178.6+ KB\n"
     ]
    }
   ],
   "source": [
    "# whats the types\n",
    "shops.info()"
   ]
  },
  {
   "cell_type": "code",
   "execution_count": 124,
   "metadata": {},
   "outputs": [
    {
     "data": {
      "text/plain": [
       " 10/29/2016 First time checking this place out first time. Pretty swag. Nice assortment of drinks. I got the 15 minutes of fame. Also got the poptart. Delicious!  Next time I'll try the Marymount Monroe. Will definitely come back soon.                                                                                                                                                                                                                                                                                                                                                                                                                                                                                                                                                                                                                                                                                                                                                      0.000525\n",
       " 11/9/2016 Really cute and heavily hipster atmosphere. We tried this place late night on Saturday and enjoyed the first visit. You will want to try their swing for sure. Seating space is somewhat limited and no wifi is available, so be aware. This is more like a place for you to enjoy its atmosphere. Drinks were good, though make sure you have enough in your bank account because their drinks are probably not for broke college students. That swing!                                                                                                                                                                                                                                                                                                                                                                                                                                                                                                                              0.000525\n",
       " 11/14/2016 Honestly, this place is having an identity crisis. Not a great place for a date or to meet a friend - very cute decor (props to the designer), but music is a bit all over the place, and for the price I would go somewhere else. Not really a family place, at least not for all families since bathrooms have framed art of sexual positions. Lights get turned down around 9pm (but they stay open till 2), so if you wanted to stop by to get a bit of reading done, you're out of luck. It is also not a beer/coffee lounge like Thunderbird. Menu is very limited, and if you were in the mood for a treat, I'd recommend Quacks. If they wanted to expand the menu, ipad ordering would have to go.  Which is sad since it's very cute, and we need more chill places to hang out in the evenings away from the University area.  Matcha was good. I hope the owners will rethink their direction. Would I come back? Eeh, too many other treats to entice my attention.     0.000525\n",
       " 10/7/2016 1 check-in Marymint Monroe  + Chicken and waffles samich = my favorite cafe in Austin.  ... Ohhh and decor is pretty sweet too                                                                                                                                                                                                                                                                                                                                                                                                                                                                                                                                                                                                                                                                                                                                                                                                                                                        0.000525\n",
       " 11/14/2016 Enthusiastic and earnest desire to be excellent, try new things and develop new menu ideas, smiles, not in your face - best almond pound cake I've ever had (worth the 5 stars alone), and a fantastic cup of red rooibos iced tea.  next to Hanabi.  fantastic new spot.                                                                                                                                                                                                                                                                                                                                                                                                                                                                                                                                                                                                                                                                                                            0.000525\n",
       "Name: full_review_text, dtype: float64"
      ]
     },
     "execution_count": 124,
     "metadata": {},
     "output_type": "execute_result"
    }
   ],
   "source": [
    "# How can we count the raw text? - all reviews are unique\n",
    "shops['full_review_text'].value_counts(normalize=True)[:5]"
   ]
  },
  {
   "cell_type": "code",
   "execution_count": 125,
   "metadata": {},
   "outputs": [
    {
     "data": {
      "text/plain": [
       "0       [11252016, 1, checkin, love, love, loved, the,...\n",
       "1       [1222016, listed, in, date, night, austin, amb...\n",
       "2       [11302016, 1, checkin, listed, in, brunch, spo...\n",
       "3       [11252016, very, cool, decor, good, drinks, ni...\n",
       "4       [1232016, 1, checkin, they, are, located, with...\n",
       "                              ...                        \n",
       "7611    [2192015, i, actually, step, into, this, resta...\n",
       "7612    [1212016, ok, the, steeping, room, is, awesome...\n",
       "7613    [4302015, loved, coming, here, for, tea, and, ...\n",
       "7614    [822015, the, food, is, just, average, the, bo...\n",
       "7615    [5232015, i, finally, stopped, in, for, lunch,...\n",
       "Name: tokens, Length: 7616, dtype: object"
      ]
     },
     "execution_count": 125,
     "metadata": {},
     "output_type": "execute_result"
    }
   ],
   "source": [
    "def tokenize(text):\n",
    "    \"\"\"Parses a string into a list of semantic units (words)\n",
    "\n",
    "    Args:\n",
    "        text (str): The string that the function will tokenize.\n",
    "\n",
    "    Returns:\n",
    "        list: tokens parsed out by the mechanics of your choice\n",
    "    \"\"\"\n",
    "    \n",
    "    tokens = re.sub('[^a-zA-Z 0-9]', '', text)\n",
    "    tokens = tokens.lower().split()\n",
    "    \n",
    "    return tokens\n",
    "shops['tokens'] = shops['full_review_text'].apply(tokenize)\n",
    "shops['tokens']"
   ]
  },
  {
   "cell_type": "code",
   "execution_count": 126,
   "metadata": {},
   "outputs": [
    {
     "data": {
      "text/html": [
       "<div>\n",
       "<style scoped>\n",
       "    .dataframe tbody tr th:only-of-type {\n",
       "        vertical-align: middle;\n",
       "    }\n",
       "\n",
       "    .dataframe tbody tr th {\n",
       "        vertical-align: top;\n",
       "    }\n",
       "\n",
       "    .dataframe thead th {\n",
       "        text-align: right;\n",
       "    }\n",
       "</style>\n",
       "<table border=\"1\" class=\"dataframe\">\n",
       "  <thead>\n",
       "    <tr style=\"text-align: right;\">\n",
       "      <th></th>\n",
       "      <th>full_review_text</th>\n",
       "      <th>tokens</th>\n",
       "    </tr>\n",
       "  </thead>\n",
       "  <tbody>\n",
       "    <tr>\n",
       "      <th>0</th>\n",
       "      <td>11/25/2016 1 check-in Love love loved the atm...</td>\n",
       "      <td>[11252016, 1, checkin, love, love, loved, the,...</td>\n",
       "    </tr>\n",
       "    <tr>\n",
       "      <th>1</th>\n",
       "      <td>12/2/2016 Listed in Date Night: Austin, Ambia...</td>\n",
       "      <td>[1222016, listed, in, date, night, austin, amb...</td>\n",
       "    </tr>\n",
       "    <tr>\n",
       "      <th>2</th>\n",
       "      <td>11/30/2016 1 check-in Listed in Brunch Spots ...</td>\n",
       "      <td>[11302016, 1, checkin, listed, in, brunch, spo...</td>\n",
       "    </tr>\n",
       "    <tr>\n",
       "      <th>3</th>\n",
       "      <td>11/25/2016 Very cool decor! Good drinks Nice ...</td>\n",
       "      <td>[11252016, very, cool, decor, good, drinks, ni...</td>\n",
       "    </tr>\n",
       "    <tr>\n",
       "      <th>4</th>\n",
       "      <td>12/3/2016 1 check-in They are located within ...</td>\n",
       "      <td>[1232016, 1, checkin, they, are, located, with...</td>\n",
       "    </tr>\n",
       "    <tr>\n",
       "      <th>5</th>\n",
       "      <td>11/20/2016 1 check-in Very cute cafe! I think...</td>\n",
       "      <td>[11202016, 1, checkin, very, cute, cafe, i, th...</td>\n",
       "    </tr>\n",
       "    <tr>\n",
       "      <th>6</th>\n",
       "      <td>10/27/2016 2 check-ins Listed in \"Nuptial Cof...</td>\n",
       "      <td>[10272016, 2, checkins, listed, in, nuptial, c...</td>\n",
       "    </tr>\n",
       "    <tr>\n",
       "      <th>7</th>\n",
       "      <td>11/2/2016 2 check-ins Love this place!  5 sta...</td>\n",
       "      <td>[1122016, 2, checkins, love, this, place, 5, s...</td>\n",
       "    </tr>\n",
       "    <tr>\n",
       "      <th>8</th>\n",
       "      <td>10/25/2016 1 check-in Ok, let's try this appr...</td>\n",
       "      <td>[10252016, 1, checkin, ok, lets, try, this, ap...</td>\n",
       "    </tr>\n",
       "    <tr>\n",
       "      <th>9</th>\n",
       "      <td>11/10/2016 3 check-ins This place has been sh...</td>\n",
       "      <td>[11102016, 3, checkins, this, place, has, been...</td>\n",
       "    </tr>\n",
       "  </tbody>\n",
       "</table>\n",
       "</div>"
      ],
      "text/plain": [
       "                                    full_review_text  \\\n",
       "0   11/25/2016 1 check-in Love love loved the atm...   \n",
       "1   12/2/2016 Listed in Date Night: Austin, Ambia...   \n",
       "2   11/30/2016 1 check-in Listed in Brunch Spots ...   \n",
       "3   11/25/2016 Very cool decor! Good drinks Nice ...   \n",
       "4   12/3/2016 1 check-in They are located within ...   \n",
       "5   11/20/2016 1 check-in Very cute cafe! I think...   \n",
       "6   10/27/2016 2 check-ins Listed in \"Nuptial Cof...   \n",
       "7   11/2/2016 2 check-ins Love this place!  5 sta...   \n",
       "8   10/25/2016 1 check-in Ok, let's try this appr...   \n",
       "9   11/10/2016 3 check-ins This place has been sh...   \n",
       "\n",
       "                                              tokens  \n",
       "0  [11252016, 1, checkin, love, love, loved, the,...  \n",
       "1  [1222016, listed, in, date, night, austin, amb...  \n",
       "2  [11302016, 1, checkin, listed, in, brunch, spo...  \n",
       "3  [11252016, very, cool, decor, good, drinks, ni...  \n",
       "4  [1232016, 1, checkin, they, are, located, with...  \n",
       "5  [11202016, 1, checkin, very, cute, cafe, i, th...  \n",
       "6  [10272016, 2, checkins, listed, in, nuptial, c...  \n",
       "7  [1122016, 2, checkins, love, this, place, 5, s...  \n",
       "8  [10252016, 1, checkin, ok, lets, try, this, ap...  \n",
       "9  [11102016, 3, checkins, this, place, has, been...  "
      ]
     },
     "execution_count": 126,
     "metadata": {},
     "output_type": "execute_result"
    }
   ],
   "source": [
    "#see the difference\n",
    "shops[['full_review_text', 'tokens']][:10]"
   ]
  },
  {
   "cell_type": "code",
   "execution_count": 127,
   "metadata": {},
   "outputs": [
    {
     "data": {
      "text/plain": [
       "[('the', 34809),\n",
       " ('and', 26650),\n",
       " ('a', 22755),\n",
       " ('i', 20237),\n",
       " ('to', 17164),\n",
       " ('of', 12600),\n",
       " ('is', 11999),\n",
       " ('coffee', 10353),\n",
       " ('was', 9707),\n",
       " ('in', 9546)]"
      ]
     },
     "execution_count": 127,
     "metadata": {},
     "output_type": "execute_result"
    }
   ],
   "source": [
    "## Object from Base Python - ten most common words one is coffee so thats good\n",
    "from collections import Counter\n",
    "\n",
    "# The object `Counter` takes an iterable, but you can instaniate an empty one and update it. \n",
    "word_counts = Counter()\n",
    "\n",
    "# Update it based on a split of each of our documents\n",
    "shops['tokens'].apply(lambda x: word_counts.update(x))\n",
    "\n",
    "# Print out the 10 most common words\n",
    "word_counts.most_common(10)"
   ]
  },
  {
   "cell_type": "code",
   "execution_count": 128,
   "metadata": {},
   "outputs": [
    {
     "data": {
      "text/plain": [
       "<bound method Series.count of 0       [11252016, 1, checkin, love, love, loved, the,...\n",
       "1       [1222016, listed, in, date, night, austin, amb...\n",
       "2       [11302016, 1, checkin, listed, in, brunch, spo...\n",
       "3       [11252016, very, cool, decor, good, drinks, ni...\n",
       "4       [1232016, 1, checkin, they, are, located, with...\n",
       "                              ...                        \n",
       "7611    [2192015, i, actually, step, into, this, resta...\n",
       "7612    [1212016, ok, the, steeping, room, is, awesome...\n",
       "7613    [4302015, loved, coming, here, for, tea, and, ...\n",
       "7614    [822015, the, food, is, just, average, the, bo...\n",
       "7615    [5232015, i, finally, stopped, in, for, lunch,...\n",
       "Name: tokens, Length: 7616, dtype: object>"
      ]
     },
     "execution_count": 128,
     "metadata": {},
     "output_type": "execute_result"
    }
   ],
   "source": [
    "shops['tokens'].count"
   ]
  },
  {
   "cell_type": "markdown",
   "metadata": {},
   "source": [
    "## How do we want to analyze these coffee shop tokens? \n",
    "\n",
    "- Overall Word / Token Count\n",
    "- View Counts by Rating \n",
    "- *Hint:* a 'bad' coffee shops has a rating betweeen 1 & 3 based on the distribution of ratings. A 'good' coffee shop is a 4 or 5. "
   ]
  },
  {
   "cell_type": "code",
   "execution_count": 129,
   "metadata": {},
   "outputs": [],
   "source": [
    "#Overall Word / Token Count\n",
    "def count(docs):\n",
    "\n",
    "        word_counts = Counter()\n",
    "        appears_in = Counter()\n",
    "        \n",
    "        total_docs = len(docs)\n",
    "\n",
    "        for doc in docs:\n",
    "            word_counts.update(doc)\n",
    "            appears_in.update(set(doc))\n",
    "\n",
    "        temp = zip(word_counts.keys(), word_counts.values())\n",
    "        \n",
    "        wc = pd.DataFrame(temp, columns = ['word', 'count'])\n",
    "\n",
    "        wc['rank'] = wc['count'].rank(method='first', ascending=False)\n",
    "        total = wc['count'].sum()\n",
    "\n",
    "        wc['pct_total'] = wc['count'].apply(lambda x: x / total)\n",
    "        \n",
    "        wc = wc.sort_values(by='rank')\n",
    "        wc['cul_pct_total'] = wc['pct_total'].cumsum()\n",
    "\n",
    "        t2 = zip(appears_in.keys(), appears_in.values())\n",
    "        ac = pd.DataFrame(t2, columns=['word', 'appears_in'])\n",
    "        wc = ac.merge(wc, on='word')\n",
    "\n",
    "        wc['appears_in_pct'] = wc['appears_in'].apply(lambda x: x / total_docs)\n",
    "        \n",
    "        return wc.sort_values(by='rank')"
   ]
  },
  {
   "cell_type": "code",
   "execution_count": 130,
   "metadata": {},
   "outputs": [],
   "source": [
    "# Use the Function\n",
    "wc = count(shops['tokens'])"
   ]
  },
  {
   "cell_type": "code",
   "execution_count": 131,
   "metadata": {},
   "outputs": [
    {
     "data": {
      "text/html": [
       "<div>\n",
       "<style scoped>\n",
       "    .dataframe tbody tr th:only-of-type {\n",
       "        vertical-align: middle;\n",
       "    }\n",
       "\n",
       "    .dataframe tbody tr th {\n",
       "        vertical-align: top;\n",
       "    }\n",
       "\n",
       "    .dataframe thead th {\n",
       "        text-align: right;\n",
       "    }\n",
       "</style>\n",
       "<table border=\"1\" class=\"dataframe\">\n",
       "  <thead>\n",
       "    <tr style=\"text-align: right;\">\n",
       "      <th></th>\n",
       "      <th>word</th>\n",
       "      <th>appears_in</th>\n",
       "      <th>count</th>\n",
       "      <th>rank</th>\n",
       "      <th>pct_total</th>\n",
       "      <th>cul_pct_total</th>\n",
       "      <th>appears_in_pct</th>\n",
       "    </tr>\n",
       "  </thead>\n",
       "  <tbody>\n",
       "    <tr>\n",
       "      <th>37</th>\n",
       "      <td>the</td>\n",
       "      <td>6847</td>\n",
       "      <td>34809</td>\n",
       "      <td>1.0</td>\n",
       "      <td>0.044537</td>\n",
       "      <td>0.044537</td>\n",
       "      <td>0.899028</td>\n",
       "    </tr>\n",
       "    <tr>\n",
       "      <th>56</th>\n",
       "      <td>and</td>\n",
       "      <td>6864</td>\n",
       "      <td>26650</td>\n",
       "      <td>2.0</td>\n",
       "      <td>0.034098</td>\n",
       "      <td>0.078635</td>\n",
       "      <td>0.901261</td>\n",
       "    </tr>\n",
       "    <tr>\n",
       "      <th>12</th>\n",
       "      <td>a</td>\n",
       "      <td>6246</td>\n",
       "      <td>22755</td>\n",
       "      <td>3.0</td>\n",
       "      <td>0.029114</td>\n",
       "      <td>0.107749</td>\n",
       "      <td>0.820116</td>\n",
       "    </tr>\n",
       "    <tr>\n",
       "      <th>73</th>\n",
       "      <td>i</td>\n",
       "      <td>5528</td>\n",
       "      <td>20237</td>\n",
       "      <td>4.0</td>\n",
       "      <td>0.025893</td>\n",
       "      <td>0.133642</td>\n",
       "      <td>0.725840</td>\n",
       "    </tr>\n",
       "    <tr>\n",
       "      <th>17</th>\n",
       "      <td>to</td>\n",
       "      <td>5653</td>\n",
       "      <td>17164</td>\n",
       "      <td>5.0</td>\n",
       "      <td>0.021961</td>\n",
       "      <td>0.155602</td>\n",
       "      <td>0.742253</td>\n",
       "    </tr>\n",
       "  </tbody>\n",
       "</table>\n",
       "</div>"
      ],
      "text/plain": [
       "   word  appears_in  count  rank  pct_total  cul_pct_total  appears_in_pct\n",
       "37  the        6847  34809   1.0   0.044537       0.044537        0.899028\n",
       "56  and        6864  26650   2.0   0.034098       0.078635        0.901261\n",
       "12    a        6246  22755   3.0   0.029114       0.107749        0.820116\n",
       "73    i        5528  20237   4.0   0.025893       0.133642        0.725840\n",
       "17   to        5653  17164   5.0   0.021961       0.155602        0.742253"
      ]
     },
     "execution_count": 131,
     "metadata": {},
     "output_type": "execute_result"
    }
   ],
   "source": [
    "wc.head()"
   ]
  },
  {
   "cell_type": "code",
   "execution_count": 132,
   "metadata": {},
   "outputs": [
    {
     "data": {
      "image/png": "[encoded data removed]",
      "text/plain": [
       "<Figure size 432x288 with 1 Axes>"
      ]
     },
     "metadata": {
      "needs_background": "light"
     },
     "output_type": "display_data"
    }
   ],
   "source": [
    "import seaborn as sns\n",
    "\n",
    "# Cumulative Distribution Plot\n",
    "sns.lineplot(x='rank', y='cul_pct_total', data=wc);"
   ]
  },
  {
   "cell_type": "code",
   "execution_count": 133,
   "metadata": {},
   "outputs": [
    {
     "data": {
      "text/plain": [
       "0.5335194530026511"
      ]
     },
     "execution_count": 133,
     "metadata": {},
     "output_type": "execute_result"
    }
   ],
   "source": [
    "wc[wc['rank'] <= 100]['cul_pct_total'].max()"
   ]
  },
  {
   "cell_type": "code",
   "execution_count": 134,
   "metadata": {},
   "outputs": [
    {
     "data": {
      "image/png": "[encoded data removed]",
      "text/plain": [
       "<Figure size 432x288 with 1 Axes>"
      ]
     },
     "metadata": {
      "needs_background": "light"
     },
     "output_type": "display_data"
    }
   ],
   "source": [
    "wc = count(shops['tokens'])\n",
    "\n",
    "wc_top20 = wc[wc['rank'] <= 20]\n",
    "\n",
    "squarify.plot(sizes=wc_top20['pct_total'], label=wc_top20['word'], alpha=.8 )\n",
    "plt.axis('off')\n",
    "plt.show()"
   ]
  },
  {
   "cell_type": "code",
   "execution_count": 135,
   "metadata": {},
   "outputs": [
    {
     "data": {
      "text/plain": [
       " 5.0 star rating     0.496324\n",
       " 4.0 star rating     0.309874\n",
       " 3.0 star rating     0.096901\n",
       " 2.0 star rating     0.060399\n",
       " 1.0 star rating     0.036502\n",
       "Name: star_rating, dtype: float64"
      ]
     },
     "execution_count": 135,
     "metadata": {},
     "output_type": "execute_result"
    }
   ],
   "source": [
    "#View Counts by Rating\n",
    "shops['star_rating'].value_counts(normalize=True)"
   ]
  },
  {
   "cell_type": "code",
   "execution_count": 136,
   "metadata": {},
   "outputs": [
    {
     "data": {
      "text/plain": [
       "' 4.0 star rating '"
      ]
     },
     "execution_count": 136,
     "metadata": {},
     "output_type": "execute_result"
    }
   ],
   "source": [
    "# check formating od text in star rating for determination\n",
    "shops['star_rating'][2]"
   ]
  },
  {
   "cell_type": "code",
   "execution_count": 137,
   "metadata": {},
   "outputs": [
    {
     "data": {
      "text/plain": [
       "good    0.806197\n",
       "bad     0.193803\n",
       "Name: determination, dtype: float64"
      ]
     },
     "execution_count": 137,
     "metadata": {},
     "output_type": "execute_result"
    }
   ],
   "source": [
    "#Hint: a 'bad' coffee shops has a rating betweeen 1 & 3 based on the distribution of ratings. A 'good' coffee shop is a 4 or 5.\n",
    "shops['determination'] = [\"good\" if star_rating == ' 5.0 star rating ' else \"good\" if star_rating == ' 4.0 star rating ' else \"bad\" for star_rating in shops['star_rating']]\n",
    "shops['determination'].value_counts(normalize=True)"
   ]
  },
  {
   "cell_type": "code",
   "execution_count": 138,
   "metadata": {},
   "outputs": [
    {
     "data": {
      "text/html": [
       "<div>\n",
       "<style scoped>\n",
       "    .dataframe tbody tr th:only-of-type {\n",
       "        vertical-align: middle;\n",
       "    }\n",
       "\n",
       "    .dataframe tbody tr th {\n",
       "        vertical-align: top;\n",
       "    }\n",
       "\n",
       "    .dataframe thead th {\n",
       "        text-align: right;\n",
       "    }\n",
       "</style>\n",
       "<table border=\"1\" class=\"dataframe\">\n",
       "  <thead>\n",
       "    <tr style=\"text-align: right;\">\n",
       "      <th></th>\n",
       "      <th>coffee_shop_name</th>\n",
       "      <th>full_review_text</th>\n",
       "      <th>star_rating</th>\n",
       "      <th>tokens</th>\n",
       "      <th>determination</th>\n",
       "    </tr>\n",
       "  </thead>\n",
       "  <tbody>\n",
       "    <tr>\n",
       "      <th>0</th>\n",
       "      <td>the factory - cafe with a soul</td>\n",
       "      <td>11/25/2016 1 check-in Love love loved the atm...</td>\n",
       "      <td>5.0 star rating</td>\n",
       "      <td>[11252016, 1, checkin, love, love, loved, the,...</td>\n",
       "      <td>good</td>\n",
       "    </tr>\n",
       "    <tr>\n",
       "      <th>1</th>\n",
       "      <td>the factory - cafe with a soul</td>\n",
       "      <td>12/2/2016 Listed in Date Night: Austin, Ambia...</td>\n",
       "      <td>4.0 star rating</td>\n",
       "      <td>[1222016, listed, in, date, night, austin, amb...</td>\n",
       "      <td>good</td>\n",
       "    </tr>\n",
       "    <tr>\n",
       "      <th>2</th>\n",
       "      <td>the factory - cafe with a soul</td>\n",
       "      <td>11/30/2016 1 check-in Listed in Brunch Spots ...</td>\n",
       "      <td>4.0 star rating</td>\n",
       "      <td>[11302016, 1, checkin, listed, in, brunch, spo...</td>\n",
       "      <td>good</td>\n",
       "    </tr>\n",
       "    <tr>\n",
       "      <th>3</th>\n",
       "      <td>the factory - cafe with a soul</td>\n",
       "      <td>11/25/2016 Very cool decor! Good drinks Nice ...</td>\n",
       "      <td>2.0 star rating</td>\n",
       "      <td>[11252016, very, cool, decor, good, drinks, ni...</td>\n",
       "      <td>bad</td>\n",
       "    </tr>\n",
       "    <tr>\n",
       "      <th>4</th>\n",
       "      <td>the factory - cafe with a soul</td>\n",
       "      <td>12/3/2016 1 check-in They are located within ...</td>\n",
       "      <td>4.0 star rating</td>\n",
       "      <td>[1232016, 1, checkin, they, are, located, with...</td>\n",
       "      <td>good</td>\n",
       "    </tr>\n",
       "  </tbody>\n",
       "</table>\n",
       "</div>"
      ],
      "text/plain": [
       "                  coffee_shop_name  \\\n",
       "0  the factory - cafe with a soul    \n",
       "1  the factory - cafe with a soul    \n",
       "2  the factory - cafe with a soul    \n",
       "3  the factory - cafe with a soul    \n",
       "4  the factory - cafe with a soul    \n",
       "\n",
       "                                    full_review_text        star_rating  \\\n",
       "0   11/25/2016 1 check-in Love love loved the atm...   5.0 star rating    \n",
       "1   12/2/2016 Listed in Date Night: Austin, Ambia...   4.0 star rating    \n",
       "2   11/30/2016 1 check-in Listed in Brunch Spots ...   4.0 star rating    \n",
       "3   11/25/2016 Very cool decor! Good drinks Nice ...   2.0 star rating    \n",
       "4   12/3/2016 1 check-in They are located within ...   4.0 star rating    \n",
       "\n",
       "                                              tokens determination  \n",
       "0  [11252016, 1, checkin, love, love, loved, the,...          good  \n",
       "1  [1222016, listed, in, date, night, austin, amb...          good  \n",
       "2  [11302016, 1, checkin, listed, in, brunch, spo...          good  \n",
       "3  [11252016, very, cool, decor, good, drinks, ni...           bad  \n",
       "4  [1232016, 1, checkin, they, are, located, with...          good  "
      ]
     },
     "execution_count": 138,
     "metadata": {},
     "output_type": "execute_result"
    }
   ],
   "source": [
    "shops.head()"
   ]
  },
  {
   "cell_type": "code",
   "execution_count": null,
   "metadata": {},
   "outputs": [],
   "source": [
    "#commit"
   ]
  },
  {
   "cell_type": "markdown",
   "metadata": {},
   "source": [
    "## Can visualize the words with the greatest difference in counts between 'good' & 'bad'?\n",
    "\n",
    "Couple Notes: \n",
    "- Rel. freq. instead of absolute counts b/c of different numbers of reviews\n",
    "- Only look at the top 5-10 words with the greatest differences\n"
   ]
  },
  {
   "cell_type": "code",
   "execution_count": 46,
   "metadata": {},
   "outputs": [],
   "source": [
    "# Rel. freq. instead of absolute counts b/c of different numbers of reviews\n"
   ]
  },
  {
   "cell_type": "code",
   "execution_count": 139,
   "metadata": {},
   "outputs": [],
   "source": [
    "# Only look at the top 5-10 words with the greatest differences - get rid of stop words\n",
    "import spacy\n",
    "\n",
    "nlpl = spacy.load(\"en_core_web_lg\")"
   ]
  },
  {
   "cell_type": "code",
   "execution_count": 140,
   "metadata": {},
   "outputs": [],
   "source": [
    "import spacy\n",
    "from spacy.tokenizer import Tokenizer\n",
    "\n",
    "nlp = spacy.load(\"en_core_web_lg\")\n",
    "\n",
    "# Tokenizer\n",
    "tokenizer = Tokenizer(nlp.vocab)"
   ]
  },
  {
   "cell_type": "code",
   "execution_count": 141,
   "metadata": {},
   "outputs": [
    {
     "data": {
      "text/plain": [
       "0    [ , 11/25/2016, 1, check-in, love, love, loved...\n",
       "1    [ , 12/2/2016, listed, date, night:, austin,, ...\n",
       "2    [ , 11/30/2016, 1, check-in, listed, brunch, s...\n",
       "3    [ , 11/25/2016, cool, decor!, good, drinks, ni...\n",
       "4    [ , 12/3/2016, 1, check-in, located, northcros...\n",
       "Name: tokens, dtype: object"
      ]
     },
     "execution_count": 141,
     "metadata": {},
     "output_type": "execute_result"
    }
   ],
   "source": [
    "tokens = []\n",
    "\n",
    "\"\"\" Update those tokens w/o stopwords\"\"\"\n",
    "for doc in tokenizer.pipe(shops['full_review_text'], batch_size=500):\n",
    "    \n",
    "    doc_tokens = []\n",
    "    \n",
    "    for token in doc:\n",
    "        if (token.is_stop == False) & (token.is_punct == False):\n",
    "            doc_tokens.append(token.text.lower())\n",
    "\n",
    "    tokens.append(doc_tokens)\n",
    "\n",
    "shops['tokens'] = tokens\n",
    "shops.tokens.head()"
   ]
  },
  {
   "cell_type": "code",
   "execution_count": 143,
   "metadata": {},
   "outputs": [
    {
     "data": {
      "image/png": "[encoded data removed]",
      "text/plain": [
       "<Figure size 432x288 with 1 Axes>"
      ]
     },
     "metadata": {
      "needs_background": "light"
     },
     "output_type": "display_data"
    }
   ],
   "source": [
    "import seaborn as sns\n",
    "\n",
    "# Cumulative Distribution Plot\n",
    "sns.lineplot(x='rank', y='cul_pct_total', data=wc);"
   ]
  },
  {
   "cell_type": "code",
   "execution_count": 144,
   "metadata": {},
   "outputs": [
    {
     "data": {
      "text/plain": [
       "0.2954798148020834"
      ]
     },
     "execution_count": 144,
     "metadata": {},
     "output_type": "execute_result"
    }
   ],
   "source": [
    "wc[wc['rank'] <= 100]['cul_pct_total'].max()"
   ]
  },
  {
   "cell_type": "code",
   "execution_count": 142,
   "metadata": {},
   "outputs": [
    {
     "data": {
      "image/png": "[encoded data removed]",
      "text/plain": [
       "<Figure size 432x288 with 1 Axes>"
      ]
     },
     "metadata": {
      "needs_background": "light"
     },
     "output_type": "display_data"
    }
   ],
   "source": [
    "wc = count(shops['tokens'])\n",
    "\n",
    "wc_top20 = wc[wc['rank'] <= 20]\n",
    "\n",
    "squarify.plot(sizes=wc_top20['pct_total'], label=wc_top20['word'], alpha=.8 )\n",
    "plt.axis('off')\n",
    "plt.show()"
   ]
  },
  {
   "cell_type": "markdown",
   "metadata": {
    "colab_type": "text",
    "id": "1dCb1q8XphcP",
    "toc-hr-collapsed": true
   },
   "source": [
    "## Stretch Goals\n",
    "\n",
    "* Analyze another corpus of documents - such as Indeed.com job listings ;).\n",
    "* Play with the Spacy API to\n",
    " - Extract Named Entities\n",
    " - Extracting 'noun chunks'\n",
    " - Attempt Document Classification with just Spacy\n",
    " - *Note:* This [course](https://course.spacy.io/) will be of interesting in helping you with these stretch goals. \n",
    "* Try to build a plotly dash app with your text data \n",
    "\n"
   ]
  },
  {
   "cell_type": "markdown",
   "metadata": {},
   "source": [
    "### - Add classification problem that predict rating of coffee shop"
   ]
  },
  {
   "cell_type": "code",
   "execution_count": null,
   "metadata": {},
   "outputs": [],
   "source": []
  }
 ],
 "metadata": {
  "colab": {
   "collapsed_sections": [],
   "name": "LS_DS_421_Text_Data_Assignment.ipynb",
   "provenance": [],
   "version": "0.3.2"
  },
  "kernelspec": {
   "display_name": "U4-S1-NLP (Python3)",
   "language": "python",
   "name": "u4-s1-nlp"
  },
  "language_info": {
   "codemirror_mode": {
    "name": "ipython",
    "version": 3
   },
   "file_extension": ".py",
   "mimetype": "text/x-python",
   "name": "python",
   "nbconvert_exporter": "python",
   "pygments_lexer": "ipython3",
   "version": "3.7.0"
  },
  "toc-autonumbering": false
 },
 "nbformat": 4,
 "nbformat_minor": 4
}
