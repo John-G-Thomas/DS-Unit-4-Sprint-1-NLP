{
 "cells": [
  {
   "cell_type": "markdown",
   "metadata": {},
   "source": [
    "Lambda School Data Science\n",
    "\n",
    "*Unit 4, Sprint 1, Module 4*\n",
    "\n",
    "---"
   ]
  },
  {
   "cell_type": "markdown",
   "metadata": {},
   "source": [
    "# Topic Modeling (Prepare)\n",
    "\n",
    "On Monday we talked about summarizing your documents using just token counts. Today, we're going to learn about a much more sophisticated approach - learning 'topics' from documents. Topics are a latent structure. They are not directly observable in the data, but we know they're there by reading them.\n",
    "\n",
    "> **latent**: existing but not yet developed or manifest; hidden or concealed.\n",
    "\n",
    "## Use Cases\n",
    "Primary use case: what the hell are your documents about? Who might want to know that in industry - \n",
    "* Identifying common themes in customer reviews\n",
    "* Discovering the needle in a haystack \n",
    "* Monitoring communications (Email - State Department) \n",
    "\n",
    "## Learning Objectives\n",
    "*At the end of the lesson you should be able to:*\n",
    "* <a href=\"#p1\">Part 1</a>: Describe how an LDA Model works\n",
    "* <a href=\"#p2\">Part 2</a>: Estimate a LDA Model with Gensim\n",
    "* <a href=\"#p3\">Part 3</a>: Interpret LDA results\n",
    "* <a href=\"#p4\">Part 4</a>: Select the appropriate number of topics\n"
   ]
  },
  {
   "cell_type": "markdown",
   "metadata": {},
   "source": [
    "# Latent Dirchilet Allocation Models (Learn)\n",
    "<a id=\"#p1\"></a>"
   ]
  },
  {
   "cell_type": "markdown",
   "metadata": {},
   "source": [
    "## Overview\n",
    "LDA is a \"generative probabilistic model\". \n",
    "\n",
    "Let's play with a model available [here](https://lettier.com/projects/lda-topic-modeling/)"
   ]
  },
  {
   "cell_type": "markdown",
   "metadata": {},
   "source": [
    "## Follow Along"
   ]
  },
  {
   "cell_type": "markdown",
   "metadata": {},
   "source": [
    "## Challenge "
   ]
  },
  {
   "cell_type": "markdown",
   "metadata": {},
   "source": [
    "# Estimating LDA Models with Gensim (Learn)\n",
    "<a id=\"#p1\"></a>"
   ]
  },
  {
   "cell_type": "markdown",
   "metadata": {
    "toc-hr-collapsed": true
   },
   "source": [
    "## Overview\n",
    "### A Literary Introduction: *Jane Austen V. Charlotte Bronte*\n",
    "Despite being born nearly forty years apart, modern fans often pit Jane Austen & Charlotte Bronte against one another in a battle for literary  supremacy. The battle centers around the topics of education for women, courting, and marriage. The authors' similar backgrounds naturally draw comparisons, but the modern fascination is probably due to novelty of British women publishing novels during the early 19th century. \n",
    "\n",
    "Can we help close a literary battle for supremacy and simply acknowledge that the authors addressed different topics and deserve to be acknowledged as excellent authors each in their own right?\n",
    "\n",
    "We're going to apply Latent Dirichlet Allocation a machine learning algorithm for topic modeling to each of the author's novels to compare the distribution of topics in their novels."
   ]
  },
  {
   "cell_type": "code",
   "execution_count": 46,
   "metadata": {},
   "outputs": [],
   "source": [
    "import numpy as np\n",
    "import gensim\n",
    "import os\n",
    "import re\n",
    "from ast import literal_eval\n",
    "from gensim.utils import simple_preprocess\n",
    "from gensim.parsing.preprocessing import STOPWORDS\n",
    "from gensim import corpora\n",
    "\n",
    "from gensim.models.ldamulticore import LdaMulticore\n",
    "import tqdm\n",
    "import pandas as pd"
   ]
  },
  {
   "cell_type": "code",
   "execution_count": 2,
   "metadata": {},
   "outputs": [
    {
     "data": {
      "text/plain": [
       "'3.8.1'"
      ]
     },
     "execution_count": 2,
     "metadata": {},
     "output_type": "execute_result"
    }
   ],
   "source": [
    "gensim.__version__"
   ]
  },
  {
   "cell_type": "markdown",
   "metadata": {},
   "source": [
    "### Novel Data\n",
    "I grabbed the novel data pre-split into a bunch of smaller chunks"
   ]
  },
  {
   "cell_type": "code",
   "execution_count": 52,
   "metadata": {},
   "outputs": [
    {
     "name": "stdout",
     "output_type": "stream",
     "text": [
      "(40436, 3)\n"
     ]
    },
    {
     "data": {
      "text/html": [
       "<div>\n",
       "<style scoped>\n",
       "    .dataframe tbody tr th:only-of-type {\n",
       "        vertical-align: middle;\n",
       "    }\n",
       "\n",
       "    .dataframe tbody tr th {\n",
       "        vertical-align: top;\n",
       "    }\n",
       "\n",
       "    .dataframe thead th {\n",
       "        text-align: right;\n",
       "    }\n",
       "</style>\n",
       "<table border=\"1\" class=\"dataframe\">\n",
       "  <thead>\n",
       "    <tr style=\"text-align: right;\">\n",
       "      <th></th>\n",
       "      <th>review</th>\n",
       "      <th>sentiment</th>\n",
       "      <th>keywords</th>\n",
       "    </tr>\n",
       "  </thead>\n",
       "  <tbody>\n",
       "    <tr>\n",
       "      <th>0</th>\n",
       "      <td>One of the other reviewers has mentioned that ...</td>\n",
       "      <td>positive</td>\n",
       "      <td>['other shows', 'graphic violence', 'prison ex...</td>\n",
       "    </tr>\n",
       "    <tr>\n",
       "      <th>1</th>\n",
       "      <td>A wonderful little production. The filming tec...</td>\n",
       "      <td>positive</td>\n",
       "      <td>['halliwell', 'michael sheen', 'realism', 'com...</td>\n",
       "    </tr>\n",
       "    <tr>\n",
       "      <th>2</th>\n",
       "      <td>I thought this was a wonderful way to spend ti...</td>\n",
       "      <td>positive</td>\n",
       "      <td>['spirited young woman', 'devil wears prada', ...</td>\n",
       "    </tr>\n",
       "    <tr>\n",
       "      <th>3</th>\n",
       "      <td>Basically there's a family where a little boy ...</td>\n",
       "      <td>negative</td>\n",
       "      <td>['playing parents', 'jake', 'parents', 'descen...</td>\n",
       "    </tr>\n",
       "    <tr>\n",
       "      <th>4</th>\n",
       "      <td>Petter Mattei's \"Love in the Time of Money\" is...</td>\n",
       "      <td>positive</td>\n",
       "      <td>['mr. mattei', 'good luck', 'mattei', 'human r...</td>\n",
       "    </tr>\n",
       "  </tbody>\n",
       "</table>\n",
       "</div>"
      ],
      "text/plain": [
       "                                              review sentiment  \\\n",
       "0  One of the other reviewers has mentioned that ...  positive   \n",
       "1  A wonderful little production. The filming tec...  positive   \n",
       "2  I thought this was a wonderful way to spend ti...  positive   \n",
       "3  Basically there's a family where a little boy ...  negative   \n",
       "4  Petter Mattei's \"Love in the Time of Money\" is...  positive   \n",
       "\n",
       "                                            keywords  \n",
       "0  ['other shows', 'graphic violence', 'prison ex...  \n",
       "1  ['halliwell', 'michael sheen', 'realism', 'com...  \n",
       "2  ['spirited young woman', 'devil wears prada', ...  \n",
       "3  ['playing parents', 'jake', 'parents', 'descen...  \n",
       "4  ['mr. mattei', 'good luck', 'mattei', 'human r...  "
      ]
     },
     "execution_count": 52,
     "metadata": {},
     "output_type": "execute_result"
    }
   ],
   "source": [
    "path = './data/imbd_keywords.csv'\n",
    "df = pd.read_csv(path)\n",
    "print(df.shape)\n",
    "df.head()"
   ]
  },
  {
   "cell_type": "code",
   "execution_count": 53,
   "metadata": {},
   "outputs": [],
   "source": [
    "df['keywords']= df['keywords'].apply(literal_eval)"
   ]
  },
  {
   "cell_type": "code",
   "execution_count": 59,
   "metadata": {},
   "outputs": [
    {
     "data": {
      "text/html": [
       "<div>\n",
       "<style scoped>\n",
       "    .dataframe tbody tr th:only-of-type {\n",
       "        vertical-align: middle;\n",
       "    }\n",
       "\n",
       "    .dataframe tbody tr th {\n",
       "        vertical-align: top;\n",
       "    }\n",
       "\n",
       "    .dataframe thead th {\n",
       "        text-align: right;\n",
       "    }\n",
       "</style>\n",
       "<table border=\"1\" class=\"dataframe\">\n",
       "  <thead>\n",
       "    <tr style=\"text-align: right;\">\n",
       "      <th></th>\n",
       "      <th>review</th>\n",
       "      <th>sentiment</th>\n",
       "      <th>keywords</th>\n",
       "    </tr>\n",
       "  </thead>\n",
       "  <tbody>\n",
       "    <tr>\n",
       "      <th>0</th>\n",
       "      <td>One of the other reviewers has mentioned that ...</td>\n",
       "      <td>positive</td>\n",
       "      <td>[other shows, graphic violence, prison experie...</td>\n",
       "    </tr>\n",
       "    <tr>\n",
       "      <th>1</th>\n",
       "      <td>A wonderful little production. The filming tec...</td>\n",
       "      <td>positive</td>\n",
       "      <td>[halliwell, michael sheen, realism, comedy, wi...</td>\n",
       "    </tr>\n",
       "    <tr>\n",
       "      <th>2</th>\n",
       "      <td>I thought this was a wonderful way to spend ti...</td>\n",
       "      <td>positive</td>\n",
       "      <td>[spirited young woman, devil wears prada, summ...</td>\n",
       "    </tr>\n",
       "    <tr>\n",
       "      <th>3</th>\n",
       "      <td>Basically there's a family where a little boy ...</td>\n",
       "      <td>negative</td>\n",
       "      <td>[playing parents, jake, parents, descent dialo...</td>\n",
       "    </tr>\n",
       "    <tr>\n",
       "      <th>4</th>\n",
       "      <td>Petter Mattei's \"Love in the Time of Money\" is...</td>\n",
       "      <td>positive</td>\n",
       "      <td>[mr. mattei, good luck, mattei, human relation...</td>\n",
       "    </tr>\n",
       "  </tbody>\n",
       "</table>\n",
       "</div>"
      ],
      "text/plain": [
       "                                              review sentiment  \\\n",
       "0  One of the other reviewers has mentioned that ...  positive   \n",
       "1  A wonderful little production. The filming tec...  positive   \n",
       "2  I thought this was a wonderful way to spend ti...  positive   \n",
       "3  Basically there's a family where a little boy ...  negative   \n",
       "4  Petter Mattei's \"Love in the Time of Money\" is...  positive   \n",
       "\n",
       "                                            keywords  \n",
       "0  [other shows, graphic violence, prison experie...  \n",
       "1  [halliwell, michael sheen, realism, comedy, wi...  \n",
       "2  [spirited young woman, devil wears prada, summ...  \n",
       "3  [playing parents, jake, parents, descent dialo...  \n",
       "4  [mr. mattei, good luck, mattei, human relation...  "
      ]
     },
     "execution_count": 59,
     "metadata": {},
     "output_type": "execute_result"
    }
   ],
   "source": [
    "df.head()"
   ]
  },
  {
   "cell_type": "code",
   "execution_count": 87,
   "metadata": {},
   "outputs": [
    {
     "data": {
      "text/plain": [
       "['review', 'sentiment', 'keywords']"
      ]
     },
     "execution_count": 87,
     "metadata": {},
     "output_type": "execute_result"
    }
   ],
   "source": [
    "list(df)"
   ]
  },
  {
   "cell_type": "code",
   "execution_count": 71,
   "metadata": {},
   "outputs": [],
   "source": [
    "stop_words = {\n",
    "    'movie',\n",
    "    'review',\n",
    "    'film',\n",
    "    'actor',\n",
    "    'actress',\n",
    "    'films'\n",
    "}\n",
    "import spacy\n",
    "nlp =spacy.load('en_core_web_lg')"
   ]
  },
  {
   "cell_type": "code",
   "execution_count": 72,
   "metadata": {},
   "outputs": [],
   "source": [
    "stop = nlp.Defaults.stop_words.union(stop_words)"
   ]
  },
  {
   "cell_type": "code",
   "execution_count": 73,
   "metadata": {},
   "outputs": [
    {
     "data": {
      "text/plain": [
       "['other shows',\n",
       " 'graphic violence',\n",
       " 'prison experience',\n",
       " 'prison bitches',\n",
       " 'violence',\n",
       " 'emerald city',\n",
       " 'dodgy dealings',\n",
       " 'glass fronts',\n",
       " 'inmates',\n",
       " 'street skills',\n",
       " 'unflinching scenes',\n",
       " 'crooked guards',\n",
       " 'the oswald maximum security state penitentary',\n",
       " 'mainstream audiences',\n",
       " 'oz',\n",
       " 'city',\n",
       " 'shady agreements',\n",
       " 'pretty pictures',\n",
       " 'touch',\n",
       " 'muslims',\n",
       " 'irish',\n",
       " 'italians',\n",
       " 'gangstas',\n",
       " 'latinos',\n",
       " 'christians',\n",
       " 'home',\n",
       " 'first',\n",
       " 'charm',\n",
       " 'the high levels',\n",
       " 'drugs',\n",
       " 'right',\n",
       " 'regards',\n",
       " 'well mannered, middle class inmates',\n",
       " 'sex',\n",
       " 'a show',\n",
       " 'scuffles',\n",
       " 'order',\n",
       " 'aryans',\n",
       " 'just 1 oz episode',\n",
       " 'the first episode',\n",
       " 'the other reviewers',\n",
       " 'your darker side',\n",
       " 'the prison',\n",
       " 'the main appeal',\n",
       " 'romance',\n",
       " 'the first thing',\n",
       " 'an experimental section',\n",
       " 'privacy',\n",
       " 'the classic use',\n",
       " 'the word',\n",
       " 'no punches',\n",
       " 'its brutality',\n",
       " 'their lack',\n",
       " 'a taste',\n",
       " 'the fact',\n",
       " 'the nickname',\n",
       " 'the agenda',\n",
       " 'all the cells',\n",
       " 'a nickel',\n",
       " 'you']"
      ]
     },
     "execution_count": 73,
     "metadata": {},
     "output_type": "execute_result"
    }
   ],
   "source": [
    "# Get a sense of whats in the keywords\n",
    "df['keywords'][0]"
   ]
  },
  {
   "cell_type": "code",
   "execution_count": null,
   "metadata": {},
   "outputs": [],
   "source": [
    "split_list =[i.split() for i in l]"
   ]
  },
  {
   "cell_type": "code",
   "execution_count": 91,
   "metadata": {},
   "outputs": [],
   "source": [
    "def remove_stops(_list_):\n",
    "    \n",
    "    keywords = []\n",
    "    \n",
    "    for keyword in _list_:\n",
    "        \n",
    "        phrase = []\n",
    "        \n",
    "        words = keyword.split()\n",
    "        \n",
    "        for word in words:\n",
    "            if word in stop:\n",
    "                pass\n",
    "            else:\n",
    "                phrase.append(word)\n",
    "        phrase = ' '.join(phrase)\n",
    "        \n",
    "        if len(phrase) > 0:\n",
    "            keywords.append(phrase)\n",
    "        \n",
    "    return keywords"
   ]
  },
  {
   "cell_type": "code",
   "execution_count": 92,
   "metadata": {},
   "outputs": [
    {
     "data": {
      "text/plain": [
       "['shows',\n",
       " 'graphic violence',\n",
       " 'prison experience',\n",
       " 'prison bitches',\n",
       " 'violence',\n",
       " 'emerald city',\n",
       " 'dodgy dealings',\n",
       " 'glass fronts',\n",
       " 'inmates',\n",
       " 'street skills',\n",
       " 'unflinching scenes',\n",
       " 'crooked guards',\n",
       " 'oswald maximum security state penitentary',\n",
       " 'mainstream audiences',\n",
       " 'oz',\n",
       " 'city',\n",
       " 'shady agreements',\n",
       " 'pretty pictures',\n",
       " 'touch',\n",
       " 'muslims',\n",
       " 'irish',\n",
       " 'italians',\n",
       " 'gangstas',\n",
       " 'latinos',\n",
       " 'christians',\n",
       " 'home',\n",
       " 'charm',\n",
       " 'high levels',\n",
       " 'drugs',\n",
       " 'right',\n",
       " 'regards',\n",
       " 'mannered, middle class inmates',\n",
       " 'sex',\n",
       " 'scuffles',\n",
       " 'order',\n",
       " 'aryans',\n",
       " '1 oz episode',\n",
       " 'episode',\n",
       " 'reviewers',\n",
       " 'darker',\n",
       " 'prison',\n",
       " 'main appeal',\n",
       " 'romance',\n",
       " 'thing',\n",
       " 'experimental section',\n",
       " 'privacy',\n",
       " 'classic use',\n",
       " 'word',\n",
       " 'punches',\n",
       " 'brutality',\n",
       " 'lack',\n",
       " 'taste',\n",
       " 'fact',\n",
       " 'nickname',\n",
       " 'agenda',\n",
       " 'cells',\n",
       " 'nickel']"
      ]
     },
     "execution_count": 92,
     "metadata": {},
     "output_type": "execute_result"
    }
   ],
   "source": [
    "remove_stops(df['keywords'][0])"
   ]
  },
  {
   "cell_type": "code",
   "execution_count": 94,
   "metadata": {},
   "outputs": [
    {
     "name": "stderr",
     "output_type": "stream",
     "text": [
      "100%|██████████████████████████████████████████████████████████████████████████████████████████| 40436/40436 [00:01<00:00, 21429.50it/s]\n"
     ]
    }
   ],
   "source": [
    "from tqdm import tqdm\n",
    "\n",
    "tqdm.pandas()\n",
    "\n",
    "df['clean_keywords'] = df['keywords'].progress_apply(remove_stops)"
   ]
  },
  {
   "cell_type": "code",
   "execution_count": 95,
   "metadata": {},
   "outputs": [],
   "source": [
    "import gensim\n",
    "from gensim import corpora\n",
    "from gensim.models.ldamulticore import LdaMulticore"
   ]
  },
  {
   "cell_type": "code",
   "execution_count": 96,
   "metadata": {},
   "outputs": [],
   "source": [
    "# Dict representation of all our keywords\n",
    "id2word = corpora.Dictionary(df['clean_keywords'])"
   ]
  },
  {
   "cell_type": "code",
   "execution_count": 97,
   "metadata": {},
   "outputs": [
    {
     "data": {
      "text/plain": [
       "18960"
      ]
     },
     "execution_count": 97,
     "metadata": {},
     "output_type": "execute_result"
    }
   ],
   "source": [
    "id2word.token2id['sea-monster']"
   ]
  },
  {
   "cell_type": "code",
   "execution_count": 98,
   "metadata": {},
   "outputs": [
    {
     "data": {
      "text/plain": [
       "491029"
      ]
     },
     "execution_count": 98,
     "metadata": {},
     "output_type": "execute_result"
    }
   ],
   "source": [
    "len(id2word.keys())"
   ]
  },
  {
   "cell_type": "code",
   "execution_count": 122,
   "metadata": {},
   "outputs": [
    {
     "name": "stderr",
     "output_type": "stream",
     "text": [
      "C:\\Users\\johnt\\anaconda3\\envs\\U4-S1-NLP\\lib\\site-packages\\ipykernel\\ipkernel.py:287: DeprecationWarning: `should_run_async` will not call `transform_cell` automatically in the future. Please pass the result to `transformed_cell` argument and any exception that happen during thetransform in `preprocessing_exc_tuple` in IPython 7.17 and above.\n",
      "  and should_run_async(code)\n"
     ]
    }
   ],
   "source": [
    "id2word.filter_extremes(no_below=5, no_above=0.85)"
   ]
  },
  {
   "cell_type": "code",
   "execution_count": 123,
   "metadata": {},
   "outputs": [
    {
     "name": "stderr",
     "output_type": "stream",
     "text": [
      "C:\\Users\\johnt\\anaconda3\\envs\\U4-S1-NLP\\lib\\site-packages\\ipykernel\\ipkernel.py:287: DeprecationWarning: `should_run_async` will not call `transform_cell` automatically in the future. Please pass the result to `transformed_cell` argument and any exception that happen during thetransform in `preprocessing_exc_tuple` in IPython 7.17 and above.\n",
      "  and should_run_async(code)\n"
     ]
    },
    {
     "data": {
      "text/plain": [
       "29754"
      ]
     },
     "execution_count": 123,
     "metadata": {},
     "output_type": "execute_result"
    }
   ],
   "source": [
    "len(id2word.keys())"
   ]
  },
  {
   "cell_type": "code",
   "execution_count": 124,
   "metadata": {},
   "outputs": [
    {
     "name": "stderr",
     "output_type": "stream",
     "text": [
      "C:\\Users\\johnt\\anaconda3\\envs\\U4-S1-NLP\\lib\\site-packages\\ipykernel\\ipkernel.py:287: DeprecationWarning: `should_run_async` will not call `transform_cell` automatically in the future. Please pass the result to `transformed_cell` argument and any exception that happen during thetransform in `preprocessing_exc_tuple` in IPython 7.17 and above.\n",
      "  and should_run_async(code)\n"
     ]
    }
   ],
   "source": [
    "corpus = [id2word.doc2bow(text) for text in df['clean_keywords']]"
   ]
  },
  {
   "cell_type": "code",
   "execution_count": 125,
   "metadata": {},
   "outputs": [
    {
     "name": "stderr",
     "output_type": "stream",
     "text": [
      "C:\\Users\\johnt\\anaconda3\\envs\\U4-S1-NLP\\lib\\site-packages\\ipykernel\\ipkernel.py:287: DeprecationWarning: `should_run_async` will not call `transform_cell` automatically in the future. Please pass the result to `transformed_cell` argument and any exception that happen during thetransform in `preprocessing_exc_tuple` in IPython 7.17 and above.\n",
      "  and should_run_async(code)\n"
     ]
    },
    {
     "data": {
      "text/plain": [
       "[(77, 1),\n",
       " (585, 1),\n",
       " (674, 1),\n",
       " (809, 1),\n",
       " (1191, 1),\n",
       " (2226, 1),\n",
       " (3761, 1),\n",
       " (3969, 1),\n",
       " (5216, 1),\n",
       " (5559, 1),\n",
       " (8427, 1)]"
      ]
     },
     "execution_count": 125,
     "metadata": {},
     "output_type": "execute_result"
    }
   ],
   "source": [
    "corpus[812]"
   ]
  },
  {
   "cell_type": "code",
   "execution_count": 126,
   "metadata": {},
   "outputs": [
    {
     "name": "stderr",
     "output_type": "stream",
     "text": [
      "C:\\Users\\johnt\\anaconda3\\envs\\U4-S1-NLP\\lib\\site-packages\\ipykernel\\ipkernel.py:287: DeprecationWarning: `should_run_async` will not call `transform_cell` automatically in the future. Please pass the result to `transformed_cell` argument and any exception that happen during thetransform in `preprocessing_exc_tuple` in IPython 7.17 and above.\n",
      "  and should_run_async(code)\n"
     ]
    },
    {
     "data": {
      "text/plain": [
       "'time'"
      ]
     },
     "execution_count": 126,
     "metadata": {},
     "output_type": "execute_result"
    }
   ],
   "source": [
    "id2word[77]"
   ]
  },
  {
   "cell_type": "code",
   "execution_count": 128,
   "metadata": {},
   "outputs": [
    {
     "name": "stderr",
     "output_type": "stream",
     "text": [
      "C:\\Users\\johnt\\anaconda3\\envs\\U4-S1-NLP\\lib\\site-packages\\ipykernel\\ipkernel.py:287: DeprecationWarning: `should_run_async` will not call `transform_cell` automatically in the future. Please pass the result to `transformed_cell` argument and any exception that happen during thetransform in `preprocessing_exc_tuple` in IPython 7.17 and above.\n",
      "  and should_run_async(code)\n"
     ]
    }
   ],
   "source": [
    "lda = LdaMulticore(corpus=corpus,\n",
    "                  id2word=id2word,\n",
    "                  num_topics=20,\n",
    "                  passes=50,\n",
    "                  workers=2\n",
    "                  )"
   ]
  },
  {
   "cell_type": "code",
   "execution_count": 129,
   "metadata": {},
   "outputs": [
    {
     "name": "stderr",
     "output_type": "stream",
     "text": [
      "C:\\Users\\johnt\\anaconda3\\envs\\U4-S1-NLP\\lib\\site-packages\\ipykernel\\ipkernel.py:287: DeprecationWarning: `should_run_async` will not call `transform_cell` automatically in the future. Please pass the result to `transformed_cell` argument and any exception that happen during thetransform in `preprocessing_exc_tuple` in IPython 7.17 and above.\n",
      "  and should_run_async(code)\n"
     ]
    },
    {
     "data": {
      "text/plain": [
       "[(0,\n",
       "  '0.010*\"father\" + 0.009*\"love\" + 0.008*\"man\" + 0.008*\"life\" + 0.008*\"story\" + 0.007*\"american\" + 0.007*\"wife\" + 0.007*\"son\" + 0.006*\"mother\" + 0.006*\"scene\"'),\n",
       " (1,\n",
       "  '0.008*\"time\" + 0.006*\"cartoon\" + 0.005*\"success\" + 0.005*\"tv\" + 0.004*\"mars\" + 0.004*\"television\" + 0.004*\"nose\" + 0.003*\"cartoons\" + 0.003*\"video\" + 0.003*\"great acting\"'),\n",
       " (2,\n",
       "  '0.021*\"british\" + 0.009*\"american\" + 0.008*\"time\" + 0.008*\"australian\" + 0.006*\"oscar\" + 0.006*\"london\" + 0.006*\"irish\" + 0.006*\"england\" + 0.005*\"hollywood\" + 0.004*\"cast\"'),\n",
       " (3,\n",
       "  '0.008*\"story\" + 0.006*\"man\" + 0.005*\"hitchcock\" + 0.005*\"music\" + 0.004*\"hero\" + 0.004*\"role\" + 0.004*\"action\" + 0.004*\"wife\" + 0.004*\"town\" + 0.004*\"character\"'),\n",
       " (4,\n",
       "  '0.027*\"story\" + 0.021*\"acting\" + 0.018*\"actors\" + 0.015*\"characters\" + 0.012*\"book\" + 0.011*\"character\" + 0.010*\"role\" + 0.010*\"great\" + 0.009*\"director\" + 0.009*\"people\"'),\n",
       " (5,\n",
       "  '0.015*\"life\" + 0.012*\"people\" + 0.011*\"love\" + 0.010*\"way\" + 0.010*\"story\" + 0.008*\"world\" + 0.008*\"end\" + 0.008*\"characters\" + 0.007*\"man\" + 0.007*\"time\"'),\n",
       " (6,\n",
       "  '0.011*\"earth\" + 0.008*\"sci-fi\" + 0.006*\"star trek\" + 0.005*\"plot\" + 0.005*\"oz\" + 0.005*\"ship\" + 0.004*\"years\" + 0.004*\"series\" + 0.004*\"premise\" + 0.004*\"hardy\"'),\n",
       " (7,\n",
       "  '0.011*\"time\" + 0.010*\"people\" + 0.009*\"american\" + 0.008*\"hollywood\" + 0.007*\"fact\" + 0.007*\"world\" + 0.005*\"today\" + 0.005*\"america\" + 0.004*\"country\" + 0.004*\"documentary\"'),\n",
       " (8,\n",
       "  '0.016*\"time\" + 0.014*\"characters\" + 0.012*\"story\" + 0.011*\"people\" + 0.011*\"plot\" + 0.010*\"actors\" + 0.010*\"acting\" + 0.009*\"hollywood\" + 0.009*\"money\" + 0.009*\"life\"'),\n",
       " (9,\n",
       "  '0.007*\"guy\" + 0.005*\"night\" + 0.005*\"company\" + 0.005*\"friends\" + 0.005*\"time\" + 0.005*\"floor\" + 0.005*\"stomach\" + 0.004*\"hospital\" + 0.004*\"money\" + 0.004*\"joe\"'),\n",
       " (10,\n",
       "  '0.007*\"year\" + 0.006*\"dvd\" + 0.006*\"character\" + 0.006*\"batman\" + 0.005*\"story\" + 0.005*\"action\" + 0.004*\"point\" + 0.004*\"screen\" + 0.004*\"original\" + 0.004*\"start\"'),\n",
       " (11,\n",
       "  '0.012*\"time\" + 0.012*\"people\" + 0.009*\"story\" + 0.008*\"world\" + 0.008*\"life\" + 0.008*\"war\" + 0.007*\"way\" + 0.006*\"american\" + 0.006*\"years\" + 0.005*\"fact\"'),\n",
       " (12,\n",
       "  '0.008*\"christian\" + 0.008*\"people\" + 0.006*\"time\" + 0.005*\"end\" + 0.005*\"jesus\" + 0.005*\"scene\" + 0.004*\"question\" + 0.004*\"god\" + 0.004*\"opinion\" + 0.004*\"point\"'),\n",
       " (13,\n",
       "  '0.012*\"music\" + 0.011*\"role\" + 0.008*\"plot\" + 0.007*\"version\" + 0.007*\"dvd\" + 0.007*\"songs\" + 0.006*\"hollywood\" + 0.006*\"singing\" + 0.006*\"broadway\" + 0.005*\"song\"'),\n",
       " (14,\n",
       "  '0.023*\"kids\" + 0.016*\"time\" + 0.015*\"family\" + 0.015*\"children\" + 0.015*\"story\" + 0.014*\"people\" + 0.010*\"parents\" + 0.010*\"friends\" + 0.009*\"mother\" + 0.009*\"disney\"'),\n",
       " (15,\n",
       "  '0.017*\"comedy\" + 0.013*\"people\" + 0.010*\"time\" + 0.010*\"fun\" + 0.009*\"jokes\" + 0.009*\"movies\" + 0.008*\"plot\" + 0.008*\"cast\" + 0.008*\"laughs\" + 0.007*\"way\"'),\n",
       " (16,\n",
       "  '0.013*\"police\" + 0.011*\"murder\" + 0.009*\"way\" + 0.009*\"crime\" + 0.008*\"end\" + 0.008*\"cops\" + 0.006*\"killer\" + 0.006*\"guy\" + 0.006*\"money\" + 0.006*\"case\"'),\n",
       " (17,\n",
       "  '0.014*\"plot\" + 0.013*\"acting\" + 0.013*\"time\" + 0.013*\"people\" + 0.012*\"story\" + 0.009*\"thing\" + 0.009*\"end\" + 0.008*\"lot\" + 0.008*\"characters\" + 0.008*\"action\"'),\n",
       " (18,\n",
       "  '0.013*\"horror\" + 0.011*\"people\" + 0.010*\"time\" + 0.010*\"end\" + 0.009*\"crap\" + 0.008*\"guy\" + 0.007*\"killer\" + 0.007*\"garbage\" + 0.007*\"acting\" + 0.007*\"piece\"'),\n",
       " (19,\n",
       "  '0.025*\"series\" + 0.025*\"episode\" + 0.016*\"tv\" + 0.013*\"episodes\" + 0.013*\"dvd\" + 0.012*\"characters\" + 0.011*\"season\" + 0.010*\"second\" + 0.009*\"time\" + 0.008*\"lot\"')]"
      ]
     },
     "execution_count": 129,
     "metadata": {},
     "output_type": "execute_result"
    }
   ],
   "source": [
    "lda.print_topics()"
   ]
  },
  {
   "cell_type": "code",
   "execution_count": 130,
   "metadata": {},
   "outputs": [
    {
     "name": "stderr",
     "output_type": "stream",
     "text": [
      "C:\\Users\\johnt\\anaconda3\\envs\\U4-S1-NLP\\lib\\site-packages\\ipykernel\\ipkernel.py:287: DeprecationWarning: `should_run_async` will not call `transform_cell` automatically in the future. Please pass the result to `transformed_cell` argument and any exception that happen during thetransform in `preprocessing_exc_tuple` in IPython 7.17 and above.\n",
      "  and should_run_async(code)\n"
     ]
    }
   ],
   "source": [
    "import re \n",
    "\n",
    "words = [re.findall(r'\"[^\"]*\"', t[1]) for t in lda.print_topics(20)]"
   ]
  },
  {
   "cell_type": "code",
   "execution_count": 131,
   "metadata": {},
   "outputs": [
    {
     "name": "stderr",
     "output_type": "stream",
     "text": [
      "C:\\Users\\johnt\\anaconda3\\envs\\U4-S1-NLP\\lib\\site-packages\\ipykernel\\ipkernel.py:287: DeprecationWarning: `should_run_async` will not call `transform_cell` automatically in the future. Please pass the result to `transformed_cell` argument and any exception that happen during thetransform in `preprocessing_exc_tuple` in IPython 7.17 and above.\n",
      "  and should_run_async(code)\n"
     ]
    }
   ],
   "source": [
    "topics = [', '.join(t[0:5]) for t in words]"
   ]
  },
  {
   "cell_type": "code",
   "execution_count": 132,
   "metadata": {},
   "outputs": [
    {
     "name": "stdout",
     "output_type": "stream",
     "text": [
      "------ Topic 0 ------\n",
      "\"father\", \"love\", \"man\", \"life\", \"story\"\n",
      "\n",
      "------ Topic 1 ------\n",
      "\"time\", \"cartoon\", \"success\", \"tv\", \"mars\"\n",
      "\n",
      "------ Topic 2 ------\n",
      "\"british\", \"american\", \"time\", \"australian\", \"oscar\"\n",
      "\n",
      "------ Topic 3 ------\n",
      "\"story\", \"man\", \"hitchcock\", \"music\", \"hero\"\n",
      "\n",
      "------ Topic 4 ------\n",
      "\"story\", \"acting\", \"actors\", \"characters\", \"book\"\n",
      "\n",
      "------ Topic 5 ------\n",
      "\"life\", \"people\", \"love\", \"way\", \"story\"\n",
      "\n",
      "------ Topic 6 ------\n",
      "\"earth\", \"sci-fi\", \"star trek\", \"plot\", \"oz\"\n",
      "\n",
      "------ Topic 7 ------\n",
      "\"time\", \"people\", \"american\", \"hollywood\", \"fact\"\n",
      "\n",
      "------ Topic 8 ------\n",
      "\"time\", \"characters\", \"story\", \"people\", \"plot\"\n",
      "\n",
      "------ Topic 9 ------\n",
      "\"guy\", \"night\", \"company\", \"friends\", \"time\"\n",
      "\n",
      "------ Topic 10 ------\n",
      "\"year\", \"dvd\", \"character\", \"batman\", \"story\"\n",
      "\n",
      "------ Topic 11 ------\n",
      "\"time\", \"people\", \"story\", \"world\", \"life\"\n",
      "\n",
      "------ Topic 12 ------\n",
      "\"christian\", \"people\", \"time\", \"end\", \"jesus\"\n",
      "\n",
      "------ Topic 13 ------\n",
      "\"music\", \"role\", \"plot\", \"version\", \"dvd\"\n",
      "\n",
      "------ Topic 14 ------\n",
      "\"kids\", \"time\", \"family\", \"children\", \"story\"\n",
      "\n",
      "------ Topic 15 ------\n",
      "\"comedy\", \"people\", \"time\", \"fun\", \"jokes\"\n",
      "\n",
      "------ Topic 16 ------\n",
      "\"police\", \"murder\", \"way\", \"crime\", \"end\"\n",
      "\n",
      "------ Topic 17 ------\n",
      "\"plot\", \"acting\", \"time\", \"people\", \"story\"\n",
      "\n",
      "------ Topic 18 ------\n",
      "\"horror\", \"people\", \"time\", \"end\", \"crap\"\n",
      "\n",
      "------ Topic 19 ------\n",
      "\"series\", \"episode\", \"tv\", \"episodes\", \"dvd\"\n",
      "\n"
     ]
    },
    {
     "name": "stderr",
     "output_type": "stream",
     "text": [
      "C:\\Users\\johnt\\anaconda3\\envs\\U4-S1-NLP\\lib\\site-packages\\ipykernel\\ipkernel.py:287: DeprecationWarning: `should_run_async` will not call `transform_cell` automatically in the future. Please pass the result to `transformed_cell` argument and any exception that happen during thetransform in `preprocessing_exc_tuple` in IPython 7.17 and above.\n",
      "  and should_run_async(code)\n"
     ]
    }
   ],
   "source": [
    "for id, t in enumerate(topics):\n",
    "    print(f\"------ Topic {id} ------\")\n",
    "    print(t, end=\"\\n\\n\")"
   ]
  },
  {
   "cell_type": "code",
   "execution_count": 133,
   "metadata": {},
   "outputs": [
    {
     "name": "stderr",
     "output_type": "stream",
     "text": [
      "C:\\Users\\johnt\\anaconda3\\envs\\U4-S1-NLP\\lib\\site-packages\\ipykernel\\ipkernel.py:287: DeprecationWarning: `should_run_async` will not call `transform_cell` automatically in the future. Please pass the result to `transformed_cell` argument and any exception that happen during thetransform in `preprocessing_exc_tuple` in IPython 7.17 and above.\n",
      "  and should_run_async(code)\n"
     ]
    }
   ],
   "source": [
    "import pyLDAvis.gensim\n",
    "\n",
    "pyLDAvis.enable_notebook()"
   ]
  },
  {
   "cell_type": "code",
   "execution_count": 134,
   "metadata": {},
   "outputs": [
    {
     "name": "stderr",
     "output_type": "stream",
     "text": [
      "C:\\Users\\johnt\\anaconda3\\envs\\U4-S1-NLP\\lib\\site-packages\\ipykernel\\ipkernel.py:287: DeprecationWarning: `should_run_async` will not call `transform_cell` automatically in the future. Please pass the result to `transformed_cell` argument and any exception that happen during thetransform in `preprocessing_exc_tuple` in IPython 7.17 and above.\n",
      "  and should_run_async(code)\n"
     ]
    },
    {
     "data": {
      "text/html": [
       "\n",
       "<link rel=\"stylesheet\" type=\"text/css\" href=\"https://cdn.rawgit.com/bmabey/pyLDAvis/files/ldavis.v1.0.0.css\">\n",
       "\n",
       "\n",
       "<div id=\"ldavis_el1384820487180317529803770051\"></div>\n",
       "<script type=\"text/javascript\">\n",
       "\n",
       "var ldavis_el1384820487180317529803770051_data = {\"mdsDat\": {\"x\": [-0.16404611629927462, -0.116835705215698, -0.12030971473300227, -0.017223425239362097, -0.16849136420781902, -0.09127027650431839, -0.17091090645777612, -0.10403919885494874, -0.05153901467678149, -0.03868861142471688, 0.043824924246138666, -0.03928222168702246, 0.05898931815712549, 0.009930460323365059, 0.10401252939554277, 0.13157612663479853, 0.07495479619492453, 0.17984712867331043, 0.25246732130197574, 0.22703395037353893], \"y\": [0.010511871499888156, 0.03478626411243665, 0.11396174117242144, 0.06468747006221065, -0.01771054499428397, 0.0777604306552685, -0.12526087928455948, -0.0445620996891517, -0.030050691546367612, 0.1418342056380253, -0.02691768157867188, -0.09980139385753187, 0.20201507494238932, -0.18672950432017146, -0.011593586010915554, 0.06449352250852393, -0.19473600469844404, 0.16977438965941688, -0.04150752636467302, -0.10095505790580955], \"topics\": [1, 2, 3, 4, 5, 6, 7, 8, 9, 10, 11, 12, 13, 14, 15, 16, 17, 18, 19, 20], \"cluster\": [1, 1, 1, 1, 1, 1, 1, 1, 1, 1, 1, 1, 1, 1, 1, 1, 1, 1, 1, 1], \"Freq\": [15.117846841162985, 9.190754384338769, 7.45200609561142, 6.117090180266039, 6.109538558350856, 5.723546326152752, 5.413026634750287, 4.994262923722383, 4.809008598555328, 4.752122144871053, 4.262010115996578, 3.9761187652012344, 3.757159043716167, 3.4523367022675036, 2.9966160392823795, 2.6761433231359746, 2.622547864873895, 2.376038987483731, 2.1104299683282877, 2.0913965019323806]}, \"tinfo\": {\"Term\": [\"acting\", \"kids\", \"actors\", \"episode\", \"story\", \"series\", \"characters\", \"horror\", \"plot\", \"family\", \"british\", \"dvd\", \"people\", \"comedy\", \"children\", \"american\", \"love\", \"tv\", \"guy\", \"role\", \"father\", \"director\", \"life\", \"script\", \"gore\", \"music\", \"hollywood\", \"action\", \"money\", \"book\", \"zombies\", \"action scenes\", \"cgi\", \"fight scenes\", \"zombie\", \"suspension\", \"jackie chan\", \"argento\", \"b-movie\", \"kung fu\", \"living dead\", \"van damme\", \"camera angles\", \"video game\", \"blade\", \"blair witch\", \"jet li\", \"blade runner\", \"refund\", \"swords\", \"chan\", \"hk\", \"big budget\", \"good horror\", \"stock footage\", \"carriage\", \"dull\", \"snipes\", \"decent performance\", \"sleaze\", \"martial arts\", \"asia\", \"special effects\", \"low budget\", \"hong kong\", \"complete waste\", \"budget\", \"vampires\", \"gore\", \"continuity\", \"effects\", \"bad acting\", \"action\", \"action sequences\", \"acting\", \"blood\", \"asian\", \"horror\", \"plot\", \"suspense\", \"thing\", \"editing\", \"director\", \"minutes\", \"scenes\", \"lot\", \"actors\", \"script\", \"camera\", \"story\", \"people\", \"time\", \"end\", \"fact\", \"half\", \"characters\", \"rest\", \"money\", \"reason\", \"scene\", \"movies\", \"way\", \"ending\", \"things\", \"kind\", \"point\", \"place\", \"germany\", \"nazi\", \"world war\", \"germans\", \"nazis\", \"jews\", \"columbo\", \"propaganda\", \"russians\", \"peter falk\", \"venice\", \"jew\", \"jamie foxx\", \"human condition\", \"actual events\", \"anti-semitic\", \"subtext\", \"hitler\", \"arrogance\", \"holocaust\", \"troops\", \"new twist\", \"conquest\", \"deals\", \"couple years ago\", \"hindsight\", \"falk\", \"allies\", \"resistance\", \"poignancy\", \"soviet\", \"russia\", \"kubrick\", \"german\", \"berlin\", \"humanity\", \"war\", \"subject\", \"christ\", \"iraq\", \"russian\", \"wwii\", \"documentaries\", \"documentary\", \"state\", \"enemy\", \"fiction\", \"culture\", \"themes\", \"art\", \"world\", \"history\", \"message\", \"events\", \"view\", \"today\", \"america\", \"american\", \"reality\", \"people\", \"time\", \"years\", \"life\", \"lives\", \"story\", \"way\", \"work\", \"man\", \"point\", \"place\", \"fact\", \"things\", \"men\", \"characters\", \"end\", \"mind\", \"second\", \"audience\", \"redemption\", \"conscience\", \"cagney\", \"younger brother\", \"adam sandler\", \"parallels\", \"relative\", \"privilege\", \"implausibility\", \"hypocrisy\", \"sorrow\", \"pam grier\", \"multitude\", \"beautiful story\", \"instructions\", \"dirty dancing\", \"requiem\", \"fort\", \"it\\u00b4s\", \"boyer\", \"busby berkeley\", \"sandler\", \"lumet\", \"feel good\", \"amazon.com\", \"poor girl\", \"governments\", \"poker\", \"reed\", \"organs\", \"james cagney\", \"tierney\", \"true love\", \"isolation\", \"cup\", \"loyalty\", \"lust\", \"shades\", \"loneliness\", \"significance\", \"tea\", \"friendship\", \"loss\", \"inability\", \"honesty\", \"feelings\", \"betrayal\", \"women\", \"love\", \"sex\", \"consequences\", \"life\", \"pain\", \"soul\", \"relationship\", \"passion\", \"society\", \"world\", \"men\", \"suicide\", \"man\", \"feeling\", \"people\", \"way\", \"heart\", \"woman\", \"family\", \"death\", \"story\", \"end\", \"wife\", \"father\", \"characters\", \"point\", \"fact\", \"sense\", \"kind\", \"time\", \"things\", \"character\", \"course\", \"audience\", \"times\", \"scene\", \"private ryan\", \"gypsy\", \"symbol\", \"regret\", \"connery\", \"streep\", \"english subtitles\", \"thomas\", \"ray milland\", \"fathers\", \"saving private ryan\", \"nut\", \"lead roles\", \"chase scene\", \"alice krige\", \"apologies\", \"older man\", \"human relationships\", \"pawn\", \"prostitutes\", \"claire danes\", \"diamonds\", \"roger moore\", \"bob newhart\", \"seuss\", \"advances\", \"silent era\", \"maria\", \"straw\", \"crossfire\", \"countryside\", \"bond\", \"meryl streep\", \"karl malden\", \"sean connery\", \"harrison ford\", \"village\", \"marriage\", \"young woman\", \"father\", \"brothers\", \"son\", \"lover\", \"ww2\", \"chinese\", \"husband\", \"wife\", \"mother\", \"english\", \"love\", \"american\", \"daughter\", \"indian\", \"man\", \"woman\", \"smith\", \"poverty\", \"china\", \"relationship\", \"french\", \"life\", \"picture\", \"family\", \"men\", \"scene\", \"screen\", \"story\", \"child\", \"role\", \"hollywood\", \"character\", \"years\", \"way\", \"women\", \"place\", \"oscar\", \"end\", \"scenes\", \"festival\", \"shelf\", \"turner\", \"headache\", \"promises\", \"paris hilton\", \"wax\", \"wig\", \"crawford\", \"similar\", \"great talent\", \"car chases\", \"build\", \"house wax\", \"omen\", \"submarine\", \"ron howard\", \"film-maker\", \"pike\", \"female character\", \"enemy soldiers\", \"alain delon\", \"xmas\", \"interesting premise\", \"rugby\", \"cesar romero\", \"lana turner\", \"douglas fairbanks\", \"john cleese\", \"great opportunity\", \"entire cast\", \"melville\", \"poor script\", \"netflix\", \"decent acting\", \"waste\", \"mess\", \"mtv\", \"substance\", \"ashley\", \"hollywood\", \"money\", \"dollars\", \"characters\", \"actors\", \"christopher walken\", \"script\", \"director\", \"plot\", \"time\", \"acting\", \"character development\", \"movies\", \"reality\", \"story\", \"audience\", \"life\", \"people\", \"idea\", \"end\", \"lead\", \"sense\", \"reason\", \"direction\", \"way\", \"scenes\", \"lot\", \"things\", \"fact\", \"kind\", \"minutes\", \"role\", \"cast\", \"thing\", \"character\", \"disney\", \"animation\", \"adults\", \"mom\", \"teenager\", \"adult\", \"animated\", \"miyazaki\", \"tommy\", \"danny glover\", \"santa\", \"crook\", \"scarlett\", \"milo\", \"childrens\", \"tho\", \"computer animation\", \"noah\", \"angela lansbury\", \"peter jackson\", \"oprah\", \"rooney\", \"strange things\", \"swat\", \"priscilla lane\", \"christopher lloyd\", \"millionaire\", \"extraordinary\", \"michael j. fox\", \"snuff\", \"mum\", \"kids\", \"dad\", \"parents\", \"children\", \"favorite movies\", \"kid\", \"ages\", \"rings\", \"family\", \"little kid\", \"school\", \"cats\", \"boy\", \"little girl\", \"child\", \"age\", \"mother\", \"animals\", \"boys\", \"friends\", \"teenagers\", \"girl\", \"house\", \"son\", \"home\", \"father\", \"time\", \"story\", \"girls\", \"people\", \"things\", \"life\", \"day\", \"movies\", \"dvd\", \"way\", \"years\", \"characters\", \"end\", \"lot\", \"love\", \"bollywood\", \"dialogues\", \"juliet\", \"different characters\", \"romeo\", \"hindi\", \"jack frost\", \"turmoil\", \"modern\", \"bad reviews\", \"roeg\", \"goldie hawn\", \"romantic comedies\", \"jay leno\", \"ruth\", \"jedi\", \"monroe\", \"leno\", \"billy crystal\", \"sensitivity\", \"reeves\", \"sleepers\", \"caucasian\", \"bother\", \"lemmon\", \"hawn\", \"letterman\", \"top-notch\", \"original book\", \"ingrid bergman\", \"remote\", \"good reviews\", \"charisma\", \"great entertainment\", \"chemistry\", \"whites\", \"swedish\", \"cliche\", \"great job\", \"book\", \"excellent\", \"performance\", \"emotions\", \"great\", \"romance\", \"actors\", \"acting\", \"bergman\", \"screenplay\", \"tears\", \"leads\", \"adaptation\", \"story\", \"scenery\", \"role\", \"novel\", \"oscar\", \"cinematography\", \"character\", \"performances\", \"best\", \"characters\", \"good\", \"roles\", \"director\", \"times\", \"direction\", \"writing\", \"screen\", \"script\", \"heart\", \"life\", \"movies\", \"love\", \"plot\", \"cast\", \"people\", \"lot\", \"time\", \"way\", \"end\", \"ending\", \"fact\", \"scary\", \"bruce\", \"tv movies\", \"eddie murphy\", \"hilarity\", \"american pie\", \"little gem\", \"murphy\", \"goodfellas\", \"cobra\", \"dvd collection\", \"nerds\", \"plot lines\", \"hits\", \"gore effects\", \"sunglasses\", \"entire thing\", \"brain cells\", \"bourne\", \"stefan\", \"second episode\", \"american werewolf\", \"matt damon\", \"naked gun\", \"3 years\", \"brilliant performances\", \"acting skills\", \"great potential\", \"clowns\", \"better people\", \"airplane\", \"tom hanks\", \"parody\", \"laughs\", \"michael jackson\", \"jokes\", \"sopranos\", \"comedy\", \"montgomery\", \"gags\", \"snl\", \"comedies\", \"jim carrey\", \"funny\", \"humour\", \"satire\", \"fun\", \"popcorn\", \"laugh\", \"humor\", \"cast\", \"good laugh\", \"movies\", \"people\", \"thing\", \"plot\", \"rest\", \"time\", \"script\", \"lot\", \"way\", \"characters\", \"kind\", \"scene\", \"times\", \"actors\", \"character\", \"problem\", \"bunch\", \"fact\", \"course\", \"money\", \"lines\", \"reason\", \"muppet\", \"young children\", \"lucy\", \"turkish\", \"judy garland\", \"terrorism\", \"love lucy\", \"muppets\", \"muslims\", \"lucille ball\", \"kermit\", \"special place\", \"sketches\", \"life story\", \"burns\", \"pressures\", \"worst kind\", \"istanbul\", \"little plot\", \"communism\", \"david tennant\", \"30 minute\", \"europeans\", \"movies title\", \"islam\", \"scarface\", \"commenter\", \"prop\", \"tarkovsky\", \"deniro\", \"muslim\", \"kurtz\", \"veteran\", \"accusations\", \"clips\", \"20th century\", \"thirties\", \"sights\", \"anime\", \"americans\", \"masses\", \"documentary\", \"american\", \"america\", \"media\", \"country\", \"countries\", \"hollywood\", \"world\", \"japan\", \"decade\", \"time\", \"today\", \"people\", \"fact\", \"british\", \"cinema\", \"history\", \"audiences\", \"japanese\", \"place\", \"viewer\", \"case\", \"audience\", \"things\", \"lot\", \"level\", \"viewers\", \"kind\", \"years\", \"way\", \"movies\", \"thing\", \"character\", \"screen\", \"reality\", \"day\", \"freddy\", \"friday 13th\", \"chuckle\", \"lambs\", \"good girl\", \"seven\", \"michael myers\", \"unintentional humor\", \"fart jokes\", \"jamie lee curtis\", \"dorm\", \"knives\", \"meteor\", \"great horror\", \"maniac\", \"battlefield earth\", \"low quality\", \"sad thing\", \"ringu\", \"cannibalism\", \"paulie\", \"silence lambs\", \"adaption\", \"outfit\", \"low\", \"schlock\", \"donald pleasance\", \"tale sisters\", \"george kennedy\", \"manos\", \"slasher\", \"sex scene\", \"halloween\", \"garbage\", \"hopper\", \"jason\", \"locals\", \"killer\", \"serial killer\", \"troma\", \"woods\", \"vote\", \"crap\", \"horror\", \"terrible\", \"misfortune\", \"horror movies\", \"brazil\", \"hour half\", \"worst\", \"piece\", \"horror fans\", \"pile\", \"title\", \"hour\", \"trash\", \"guy\", \"gore\", \"car\", \"town\", \"blood\", \"end\", \"night\", \"people\", \"head\", \"time\", \"bunch\", \"movies\", \"group\", \"acting\", \"house\", \"hell\", \"plot\", \"beginning\", \"thing\", \"man\", \"reason\", \"way\", \"fact\", \"point\", \"clint eastwood\", \"arthur\", \"kansas\", \"flynn\", \"custer\", \"jennifer aniston\", \"errol flynn\", \"drinking\", \"lincoln\", \"american civil war\", \"jewel\", \"curtain\", \"henry fonda\", \"raoul walsh\", \"guitar\", \"decade later\", \"robinson\", \"marx brothers\", \"ward bond\", \"patriotism\", \"confederate\", \"windshield\", \"criterion\", \"hit-man\", \"marx\", \"baloney\", \"cowboys\", \"best roles\", \"portuguese\", \"wallace\", \"john ford\", \"hitchcock\", \"clint\", \"ford\", \"venus\", \"harry\", \"wayne\", \"eastwood\", \"westerns\", \"fourth\", \"western\", \"civil war\", \"indians\", \"twilight zone\", \"john wayne\", \"grant\", \"hero\", \"crime\", \"town\", \"partner\", \"man\", \"villain\", \"story\", \"music\", \"wife\", \"action\", \"president\", \"role\", \"picture\", \"murder\", \"character\", \"woman\", \"cast\", \"series\", \"history\", \"plot\", \"scene\", \"indian\", \"couple\", \"point\", \"order\", \"way\", \"time\", \"course\", \"place\", \"episode\", \"episodes\", \"season\", \"shows\", \"tv series\", \"sitcom\", \"seasons\", \"abc\", \"programs\", \"mini-series\", \"favorite character\", \"second season\", \"sweet\", \"belushi\", \"reynolds\", \"ups\", \"25 minutes\", \"single episode\", \"deliverance\", \"power rangers\", \"downs\", \"year ago\", \"clara\", \"canvas\", \"stephanie\", \"romulan\", \"robocop\", \"dances\", \"jerry lewis\", \"sabrina\", \"program\", \"series\", \"channel\", \"5 years\", \"original series\", \"television\", \"tv\", \"ebay\", \"creators\", \"dvd\", \"plots\", \"writers\", \"week\", \"second\", \"stories\", \"characters\", \"half\", \"air\", \"fans\", \"fan\", \"christmas\", \"lot\", \"time\", \"humor\", \"things\", \"people\", \"years\", \"reason\", \"way\", \"thing\", \"rest\", \"opinion\", \"character\", \"police\", \"criminals\", \"criminal\", \"suspect\", \"hurt\", \"dana andrews\", \"andrews\", \"snowman\", \"right place\", \"otto preminger\", \"spoiler alert\", \"police detective\", \"teenage girl\", \"baddie\", \"gary merrill\", \"penn\", \"funniest thing\", \"chris rock\", \"dead end kids\", \"tasks\", \"dixon\", \"boyfriends\", \"votes\", \"sidewalk\", \"mexicans\", \"soviets\", \"palestinian\", \"usual suspects\", \"sadism\", \"death penalty\", \"cops\", \"murderer\", \"detective\", \"jail\", \"morgan\", \"murder\", \"crime\", \"laura\", \"crimes\", \"fbi\", \"border\", \"cop\", \"convention\", \"prison\", \"system\", \"taxi driver\", \"victim\", \"killer\", \"cars\", \"noir\", \"mexico\", \"city\", \"suspects\", \"car\", \"guy\", \"job\", \"way\", \"case\", \"end\", \"money\", \"order\", \"law\", \"things\", \"help\", \"place\", \"lot\", \"death\", \"french\", \"people\", \"violence\", \"fact\", \"woman\", \"plot\", \"singing\", \"broadway\", \"singer\", \"sinatra\", \"frank sinatra\", \"welles\", \"ashley judd\", \"emma\", \"gene kelly\", \"steven seagal\", \"pearl harbor\", \"czech\", \"john waters\", \"rogers\", \"secret service\", \"laura linney\", \"jane austen\", \"saturday night\", \"gwyneth paltrow\", \"stiller\", \"tempest\", \"abbott\", \"austen\", \"rita hayworth\", \"nausicaa\", \"moe\", \"jean peters\", \"tough guy\", \"pows\", \"tribulations\", \"dancing\", \"opera\", \"orson welles\", \"little sense\", \"musical numbers\", \"hall\", \"musicals\", \"kelly\", \"supporting characters\", \"dance\", \"version\", \"seagal\", \"songs\", \"song\", \"stage\", \"music\", \"mgm\", \"role\", \"brando\", \"saturday\", \"dvd\", \"stooges\", \"hollywood\", \"plot\", \"studio\", \"comedy\", \"career\", \"year\", \"sound\", \"era\", \"fun\", \"cast\", \"performance\", \"today\", \"love\", \"story\", \"script\", \"voice\", \"scenes\", \"years\", \"fan\", \"day\", \"australian\", \"black people\", \"denzel\", \"brits\", \"denzel washington\", \"gentlemen\", \"nicole kidman\", \"harvey keitel\", \"hooper\", \"peter lorre\", \"improvements\", \"norma shearer\", \"edward\", \"guy ritchie\", \"gunga din\", \"sydney\", \"robert taylor\", \"chill\", \"pub\", \"clive barker\", \"olivia\", \"fontaine\", \"quebec\", \"different reasons\", \"spelling\", \"coincidences\", \"intents\", \"din\", \"banality\", \"league gentlemen\", \"ireland\", \"aussie\", \"british\", \"irish\", \"england\", \"washington\", \"australia\", \"susan\", \"farm\", \"london\", \"britain\", \"cary grant\", \"accent\", \"chains\", \"oscar\", \"favour\", \"1970s\", \"american\", \"league\", \"uk\", \"madonna\", \"time\", \"lifetime\", \"hollywood\", \"cast\", \"scene\", \"love\", \"earth\", \"years\", \"english\", \"picture\", \"role\", \"rest\", \"script\", \"way\", \"times\", \"people\", \"heart\", \"chuck norris\", \"bruce lee\", \"south park\", \"mencia\", \"susan sarandon\", \"jesus christ\", \"funniest movies\", \"pretense\", \"tony curtis\", \"mann\", \"mormon\", \"manson\", \"1\", \"norris\", \"ma\", \"winchester\", \"anthony mann\", \"wellington\", \"small island\", \"vice president\", \"joseph\", \"bacall\", \"young lad\", \"monty\", \"sampson\", \"major star\", \"weak attempt\", \"wonder years\", \"wound\", \"carly\", \"spectrum\", \"bible\", \"christian\", \"christians\", \"christianity\", \"jesus\", \"church\", \"rock hudson\", \"stewart\", \"snakes\", \"question\", \"cure\", \"god\", \"heaven\", \"people\", \"opinion\", \"doctor\", \"time\", \"scene\", \"end\", \"demons\", \"point\", \"religion\", \"woman\", \"person\", \"words\", \"death\", \"character\", \"kind\", \"way\", \"lines\", \"batman\", \"david lynch\", \"superman\", \"michael caine\", \"woody allen\", \"pitt\", \"fiend\", \"caine\", \"mausoleum\", \"hamlet\", \"best parts\", \"babysitter\", \"sailor\", \"tim burton\", \"psychological thriller\", \"branagh\", \"mysteries\", \"million dollars\", \"cousins\", \"real treat\", \"riddles\", \"genetics\", \"dvd commentary\", \"\\\"horror\\\"\", \"boogeyman\", \"roy scheider\", \"voice actors\", \"screenplays\", \"mae west\", \"pussy\", \"negative reviews\", \"lynch\", \"old movies\", \"burton\", \"disappointing\", \"small\", \"favourite\", \"nightmares\", \"robin\", \"year\", \"shakespeare\", \"play\", \"dvd\", \"original\", \"character\", \"action\", \"brazil\", \"start\", \"finish\", \"screen\", \"feel\", \"story\", \"point\", \"cast\", \"plot\", \"series\", \"person\", \"production\", \"thing\", \"best\", \"attention\", \"rest\", \"staff\", \"doctors\", \"stanwyck\", \"great special effects\", \"serial killers\", \"marines\", \"moron\", \"marine\", \"brian keith\", \"telly savalas\", \"production team\", \"glenn ford\", \"martin landau\", \"savalas\", \"pierce brosnan\", \"ok\", \"cream\", \"soft spot\", \"gandhi\", \"ants\", \"barbie\", \"gusto\", \"barbara\", \"spaghetti westerns\", \"ward\", \"candidate\", \"different parts\", \"hyde\", \"fangs\", \"dreadful\", \"stomach\", \"barbara stanwyck\", \"thumbs\", \"doll\", \"robin williams\", \"patients\", \"cinemax\", \"joe\", \"floor\", \"hill\", \"hospital\", \"doors\", \"danny\", \"company\", \"bad taste\", \"idiot\", \"walls\", \"guy\", \"wake\", \"hbo\", \"great performance\", \"president\", \"night\", \"friends\", \"doctor\", \"dead\", \"breasts\", \"mouth\", \"head\", \"time\", \"money\", \"course\", \"second\", \"good\", \"way\", \"role\", \"man\", \"oz\", \"hardy\", \"christopher lee\", \"kirk\", \"laurel\", \"cult classic\", \"enterprise\", \"stan\", \"atlantis\", \"spock\", \"wizard\", \"cheap\", \"galaxy\", \"saturday night live\", \"amanda\", \"peter cushing\", \"tim robbins\", \"lugosi\", \"quinn\", \"julia stiles\", \"time machine\", \"trek\", \"shatner\", \"tag line\", \"polly\", \"mccoy\", \"planets\", \"better man\", \"best episodes\", \"rob lowe\", \"entire series\", \"star trek\", \"bela lugosi\", \"channels\", \"romania\", \"dracula\", \"earth\", \"sci-fi\", \"ship\", \"attack\", \"aliens\", \"planet\", \"premise\", \"science fiction\", \"doctor\", \"frankenstein\", \"series\", \"plot\", \"years\", \"canadian\", \"man\", \"charge\", \"70s\", \"idea\", \"world\", \"crew\", \"comedy central\", \"barney\", \"intriguing premise\", \"solo\", \"memorable scene\", \"giovanni ribisi\", \"schwarzenegger\", \"goofs\", \"jane fonda\", \"steady pace\", \"solid performance\", \"john ritter\", \"new millennium\", \"jerry springer\", \"albert brooks\", \"50%\", \"flame\", \"nixon\", \"richard crenna\", \"gods sake\", \"looney tunes\", \"polanski\", \"geeks\", \"one-third\", \"helen hunt\", \"dismemberment\", \"martian\", \"julie walters\", \"mid 1960s\", \"rupert grint\", \"cartoon\", \"real thing\", \"cartoons\", \"mars\", \"appetite\", \"vehicles\", \"keaton\", \"great acting\", \"nose\", \"ben\", \"airport\", \"fools\", \"hooker\", \"success\", \"late night\", \"television\", \"page\", \"time\", \"ratings\", \"tv\", \"timing\", \"video\", \"plane\", \"mix\", \"sort\", \"series\", \"soundtrack\", \"song\", \"special effects\", \"lots\", \"days\", \"fact\", \"case\", \"scenes\"], \"Freq\": [4289.0, 1471.0, 3413.0, 1048.0, 8264.0, 1743.0, 5656.0, 1413.0, 5127.0, 1676.0, 1017.0, 2217.0, 8715.0, 1661.0, 1205.0, 2199.0, 2762.0, 1579.0, 1798.0, 2185.0, 1414.0, 2992.0, 4947.0, 2612.0, 1137.0, 2075.0, 2459.0, 1970.0, 2600.0, 1499.0, 254.58453358335683, 224.87135010385197, 191.92014935839777, 148.42573854721687, 145.3384430101615, 101.78302161949185, 84.7135579303283, 69.11784594737743, 65.14851661381165, 63.963750273921825, 62.69250931023653, 61.94552564493071, 60.90178526873694, 60.89754509791675, 58.19548818596569, 56.9426028803261, 52.610989852936676, 51.89722776487135, 51.25450810452193, 50.48359808986484, 48.71923584870879, 48.13561155496954, 47.86151512722705, 47.2317047382998, 105.78135077498638, 46.010125797022084, 44.87553250989929, 44.307671891391664, 42.65814876091838, 42.10690353490811, 132.3250410954775, 91.77720371354529, 795.2411000530476, 367.1401948805768, 191.464255031255, 137.62019035589182, 433.8007996853131, 144.24629286613464, 854.7520678578682, 146.87086192241293, 413.2373063317538, 170.01219497956328, 1221.9674716749473, 128.15779568874217, 2093.530246912774, 551.0792286171157, 234.56888319062202, 774.2200181455684, 2173.3401140457704, 475.9475267572404, 1479.8275349149624, 368.77792287788907, 1148.5823334673128, 578.1089226210624, 1040.8993420434435, 1337.6327020666909, 1152.9076944295841, 953.7951656761625, 495.2366669261866, 1946.917312601686, 2011.678026230842, 2085.401199511551, 1385.0946236799782, 1190.956050096372, 619.5771855307424, 1322.3743483868789, 780.3493623154219, 824.2488406504286, 803.3056195126682, 884.5577156052913, 919.3291420367791, 1077.5210114397353, 634.9945755415126, 787.3015850647732, 675.3445014541524, 684.8334236612216, 620.0827280686615, 260.07803629176766, 203.01552569602794, 181.76694488320908, 177.77721372202387, 149.01793892027075, 112.44433596820387, 101.56838668134866, 94.70552244604545, 91.82341614895095, 74.03434026303331, 70.32849433580338, 56.534299558131714, 55.041341100757506, 51.64592502591988, 50.33052778677065, 49.98791076524865, 49.132622111597584, 170.91532349844735, 49.02349921159514, 48.911571829551995, 48.070221619576216, 45.293980321191384, 44.87911849883674, 41.64263146962441, 41.086554740202885, 40.86736011842974, 39.4372086241225, 39.08522933471017, 38.94260378997013, 38.599765656590634, 120.43852042184578, 152.64643488175565, 73.01067073156992, 483.90040049371015, 63.02420686640286, 270.71283370973475, 722.0469841879407, 323.11090290610855, 94.35296378758879, 79.17464236858106, 277.33579997630375, 162.78380339133975, 71.42262857770234, 348.3441433018115, 181.3498551489738, 129.8618039893086, 119.18699372178693, 170.04423234419573, 182.27702474850213, 342.5028270436934, 789.9501109554841, 425.535871325642, 284.4306133490083, 316.2263641110018, 281.39053242582526, 484.3938102042783, 303.17178569778196, 560.3342578298659, 340.90685844956715, 1125.2047681594336, 1133.1115042728763, 555.594246555152, 744.3239534511058, 311.4205006871329, 827.7214348563621, 699.2425707814581, 403.84944425282566, 496.9264526784283, 494.7013172909977, 452.1011791152191, 509.81972579327584, 472.59402758794715, 333.0087205086082, 461.3305111981593, 431.60013550934224, 342.17683539474797, 345.3894395444661, 335.775675108978, 174.6429824916979, 80.52439326690966, 75.5897971183698, 62.032074615692416, 61.20021114266148, 52.946349020512436, 51.3548654774418, 51.16106053255736, 47.78097974732037, 47.024786439186705, 44.41406135880857, 43.46787112332577, 41.778613666374554, 40.59478770491249, 36.36458402525651, 36.2678063686453, 35.93570321361797, 34.724817179991945, 34.09864565771554, 34.01120649464296, 33.66579343327198, 33.41191576360959, 32.955856872112314, 32.8403954202876, 32.39986588754728, 31.950776258178102, 31.623572691862773, 31.565576448637167, 30.83630931932146, 30.299276724798165, 57.54291666611988, 44.36609576963904, 78.75634751866454, 56.527637464102405, 79.86038212342712, 96.31129927896234, 78.99935259475619, 48.358123611174264, 98.52260916133636, 81.3747022503858, 86.81910525663655, 203.29913596006656, 191.21794388947416, 72.46388675265341, 94.23347425441155, 201.16448569172294, 74.78450353169374, 520.8585506522551, 862.3631245520882, 416.62591224123895, 98.39361767342966, 1178.3412542892893, 195.39040549632404, 177.42184584334638, 282.79058971955953, 177.83151409452367, 230.5583324926902, 599.3253526755108, 373.8492848063444, 144.81542110236373, 566.4217573265336, 248.8259236442338, 965.5814414389174, 758.0422163853785, 315.8296942122011, 362.9970430241939, 347.9415123943117, 328.88581139195463, 749.9756460911137, 593.1407327874962, 315.7613949894699, 309.8736098413955, 585.4598842598838, 412.57730424881544, 479.4397015984394, 348.12113826079286, 348.6416429699111, 541.5087716264445, 372.46231313708046, 348.1298163651165, 295.0872819958455, 277.08891178366406, 273.58544487602234, 280.148542673733, 70.39751085118672, 64.92395594662716, 60.11572656366235, 59.35551847007651, 55.361832886902356, 49.605023680667415, 46.17258227730675, 45.56781439207055, 44.2134976600568, 43.33949158167118, 42.28895406942677, 41.1918340465763, 40.4442151158584, 39.64034173999606, 39.62594188368218, 39.61944797694089, 38.49764887304949, 38.31349836903239, 38.25670369641951, 37.87611158205165, 36.12573732724601, 35.695522525622124, 35.43146679046303, 34.568123684592365, 33.94517807646991, 33.401590020607635, 32.86204808219863, 32.39722519123461, 32.08242160540246, 32.06842039970322, 74.82534930794435, 160.86079860805677, 78.0293229263426, 51.50751481346514, 71.7610151758706, 48.56125950316521, 94.56054426001043, 207.84781663966046, 143.28662530094272, 656.0851431123964, 139.025489863825, 441.6014554041521, 157.6262890977184, 49.585530783323506, 173.42370269532694, 327.3960273219717, 449.68671578778134, 376.11265251935293, 331.2999718083716, 550.3163840677973, 472.35436230690215, 259.09157377450083, 167.07737864699914, 510.70914150593654, 338.5649508039247, 96.09046845062662, 76.00978126681443, 99.048552879632, 193.57190713557384, 214.7842032089629, 483.00407130608613, 220.3329279714756, 276.41488779951237, 241.18011969316095, 356.46622625461794, 279.424275209486, 480.9096876507926, 183.8252796296974, 270.057908230083, 281.5735012670927, 296.45537460825943, 242.43414785279253, 277.42568692431985, 194.83271608136099, 206.5827901939128, 186.25920928887757, 197.1865579497719, 189.01802057045626, 101.44443882334686, 97.75720853487759, 68.8077085913159, 55.67548201942332, 52.057951790832504, 49.23849115501257, 49.0127501837603, 48.62159483197433, 47.38339267380795, 43.90040652001427, 40.234386542863525, 39.413465630477376, 39.21354914353222, 37.98994861021037, 37.57552889590451, 36.135661330386, 34.847432606365906, 34.5099021311433, 34.42832057581923, 34.31267228363182, 33.48855866122614, 32.823392134955654, 32.30837600728403, 31.801375144626462, 30.545691224604923, 30.126164290599995, 29.965957599661074, 29.82410527022717, 29.30012685574666, 29.280525923313277, 94.83116794523572, 46.74433715710273, 35.13089911436978, 76.76485735235389, 35.81188778866244, 293.0452632084699, 200.79947592645718, 87.45314254755277, 128.48792809632496, 44.026745553327665, 572.8972662439514, 563.8084171353167, 85.38072396080007, 880.4546393409807, 636.5564210768827, 66.64157763960783, 515.2320709674887, 547.8380202003569, 710.3157326621155, 1021.7897348672919, 626.0070522574982, 142.3700098743649, 527.011905763069, 234.2995923467983, 777.3818737543895, 355.36776654875155, 559.8232005783585, 722.6059247590919, 290.8989285473258, 496.53368565510044, 143.5815130880207, 294.32999781278335, 310.49148104718677, 198.1480679362104, 388.4928251272653, 284.4370620809564, 332.9175822949118, 316.1261304877049, 325.6474615652314, 256.7667597341218, 202.30512522592107, 241.06685752729638, 230.61775022162539, 253.56336269457873, 237.4205743029936, 544.972511199671, 448.4432266611236, 403.3085358601747, 266.07112748444825, 192.33791261935755, 187.91554281501993, 84.92469647035624, 70.19164197530073, 61.91759055295354, 57.850539577065724, 51.284620491244524, 49.2919772186179, 48.82530119672574, 47.42567053651046, 43.80748554303017, 41.16480546032346, 40.58571946911805, 39.617904702619875, 37.852308930810146, 37.650848764073736, 37.26922099689023, 35.80615884744764, 35.62668844956405, 35.27720869258358, 34.38792333682534, 34.20826818026242, 34.19414634233871, 33.402591355919206, 33.124512113466864, 32.465254799484484, 55.31460469284382, 1369.901189928834, 329.35394523712114, 610.0733822450313, 903.0659548592737, 73.79681368293328, 472.5713715524051, 218.44544347652067, 85.71954225287546, 912.5812638935241, 55.78744398539733, 365.7693092265174, 66.16754913536302, 342.24421666456175, 128.52579262452605, 387.91932311653153, 408.5934428439218, 546.6565063834486, 174.7614499375506, 246.5323324114629, 599.159429092193, 136.33087771455996, 422.79610048879397, 377.4530576737684, 339.47303169136336, 274.8021394109652, 369.7572242254351, 986.1639108930012, 869.8979651939469, 260.3480705216946, 847.3101638702593, 533.8294851725688, 531.9066005024332, 371.2236364331953, 426.45635817096877, 368.1103759942408, 461.23879009233826, 370.91474780946186, 449.6330167797892, 441.0935124534147, 360.1525617106464, 343.08085974076283, 147.8926390560467, 108.01443471344312, 80.79618721195348, 70.61988675157122, 69.97264207568345, 67.76917485563331, 53.261550740586856, 44.38567073004414, 42.52972167827018, 39.34731666725628, 39.28518025524295, 39.11241683070204, 38.9551454738669, 36.60719222121295, 36.579297268061524, 36.4912835971798, 36.14205434502636, 35.32750918483782, 34.92377581195405, 33.81698477867709, 32.74727712006591, 32.66793755646954, 31.593693382607633, 31.452322907352602, 30.897038274988347, 30.40465822909485, 29.48883932219726, 29.290037091369875, 28.1365324791776, 26.95295696901888, 45.0497526031597, 59.755512978044706, 136.7867354080523, 57.02227572702954, 316.89961796864907, 60.51649363003668, 114.28886390038134, 50.940961642424895, 218.7595482943007, 683.213966808261, 172.63244585058857, 480.26093002681756, 237.41770801874353, 544.3292381597379, 274.63984202599937, 1028.7557969404415, 1201.2388542888204, 83.11750492193985, 253.92402975920183, 195.9107298568269, 192.12885864304548, 131.75988088392322, 1500.9630408926184, 190.1263959737264, 590.3690654350511, 220.473309243071, 316.57839576377387, 292.21572636208117, 622.1359079778713, 291.11952492690403, 285.9392728870878, 840.859823527383, 433.5245630348981, 243.58895126504433, 515.2537096644967, 424.7637080829182, 292.287413853078, 254.11134563891474, 370.60494276360225, 394.82249642744915, 284.89687663279125, 454.28938021643893, 412.37804557016875, 373.12154822385116, 445.02956133705703, 342.0837658819636, 495.6738460914974, 404.29595352503367, 412.61658187207297, 376.4533549246192, 362.6982978082799, 305.96732834180506, 331.4439496133478, 90.21784412391413, 87.93110456898938, 85.04488690922659, 69.88246926935183, 69.11779536935886, 68.41937256346758, 56.430108566212006, 53.16023684333308, 47.086964370150156, 44.863309362542886, 44.62140769778455, 45.76140104207645, 42.63841937127147, 39.55407808836243, 39.28609880056764, 39.18542938094894, 39.04859562442597, 37.2593263487791, 36.69920954594638, 35.72147054556991, 35.61476613188795, 34.14028385000633, 33.846835305512116, 33.4640755409114, 33.056902035206, 32.75187932114994, 32.53738455987444, 32.056759944468695, 31.657823718966565, 31.589102657536568, 100.15469911193905, 102.945281583522, 160.0958358170255, 405.08203957733735, 55.54469828297367, 483.31167217775896, 70.03497454271648, 911.7093759561151, 44.38180261594846, 104.63340083014391, 67.57402320352213, 100.86872651437494, 58.90117095392767, 90.5745475583002, 188.33144375682778, 95.27920261773838, 506.0177533090818, 73.1217523328053, 143.52461816684567, 345.3627801590262, 408.32073860910725, 76.13769803027465, 451.9146155636618, 670.9442125192892, 368.90298020771303, 428.88454285589455, 299.7968472210349, 538.7601755755227, 296.33059484456527, 358.5277790228737, 371.8175416551177, 359.8873317781968, 246.49938118305977, 265.14520104644475, 225.15886346646982, 260.363976999829, 238.37554913431075, 188.79780522346203, 169.6490124072808, 248.02720806720316, 199.7916663037457, 196.86049645534035, 159.0415369549665, 186.0695255484535, 87.60837348791338, 72.07696581931604, 72.0254915781528, 70.70129080258081, 58.947050883063376, 56.05202755509311, 53.791173673533365, 53.74655914972555, 48.00178311353119, 45.52114002162385, 45.405945391448064, 43.848936001751845, 42.60805648135061, 41.701821037504665, 41.359628928658616, 41.35290394529053, 41.23308442454932, 40.82909920850963, 37.99558194575997, 37.3944691902433, 35.749042085855216, 34.17512065174813, 33.396170748941856, 33.25959734977492, 33.21244924120517, 32.21573699586085, 31.455939822254894, 31.397312963763746, 31.367255568588075, 31.1930152329605, 69.79570852567349, 43.902401962727936, 52.664035999444415, 40.497785404641405, 97.30848246844643, 88.81323509869904, 55.5462361666196, 53.523205346712906, 71.42289674877539, 199.7467447588751, 74.2409342479796, 213.51566784908363, 452.6933567268455, 227.05130196921306, 99.18203471639883, 223.56117619316134, 83.24156880423848, 399.71028236137937, 361.57311256892365, 95.48782795552353, 108.43364354307502, 576.7675659002608, 241.3347917310705, 493.0621899896038, 362.9242952899603, 174.8422333550178, 155.05647701817867, 169.28548738515528, 109.23883728341531, 123.61777728830381, 190.40556712061522, 144.95825839505383, 156.04112471365664, 154.99386672006182, 169.25046826444583, 171.69731948652841, 112.4351492390751, 114.84981661218183, 139.24868893555131, 139.27428839314587, 157.04511552331704, 146.33452506973347, 143.22422026199206, 130.2554413165983, 123.3716475834313, 114.10970524572609, 114.70695172160606, 98.6478575578684, 91.14424377832604, 62.12310716877439, 53.619807305848596, 50.83502373526542, 49.68505131000494, 48.838875876811706, 44.54346334059607, 44.21856362688516, 41.16202643706659, 40.32280902648086, 39.9644969113635, 38.413833266568346, 37.743605501557575, 35.58807435236847, 35.331391624862405, 33.7503372823223, 33.544213098455174, 33.47168931622704, 33.1129980409759, 33.060372929890306, 32.29905411350532, 32.11321933832316, 32.001833089559646, 31.864154545718495, 31.270253741682225, 30.830129868235435, 30.52255864094348, 30.244752931328584, 30.14867491117203, 85.1359738906265, 62.09874830094376, 184.50068722690295, 336.51887051130336, 54.727105402770825, 82.9098350203433, 88.49694772434106, 364.6628563307793, 117.16151172442721, 86.22474234498081, 180.24772615390876, 150.58059329568167, 429.41220024717745, 638.0802649653896, 161.79665945859156, 64.3563082583431, 131.83295970000836, 112.24259495021957, 124.19726505371423, 325.4229431181075, 326.5034626687882, 80.0813119998247, 99.49600693923898, 326.3149129912741, 245.557300875594, 152.02798934953944, 379.43326799562664, 282.02185452833567, 194.98389184392582, 204.01051952201976, 220.47336309511425, 483.98509456653386, 264.44070274267875, 552.617455039453, 248.0378764561023, 488.5823909280349, 206.29513588346862, 325.9086848760456, 205.31309377089025, 327.910627227536, 212.25861277704425, 203.4237996057078, 283.97313413950917, 207.14336630669985, 245.38993785593644, 229.6180803415886, 220.33556877718647, 227.68432892713352, 223.00244801792786, 212.38918279196525, 151.4037197645853, 74.60155514574744, 72.54419980879004, 71.92756792711971, 66.11835390147837, 63.36504294327985, 61.40532760698401, 55.136909133077985, 54.8249771843489, 52.67593670825806, 50.967436576514295, 49.12020945707036, 48.69751293057161, 46.49496176767167, 44.408257841160406, 42.26066324905872, 40.40970071298927, 40.17912764395218, 39.94694255703847, 39.67207404026147, 39.3622317443354, 38.84380575688072, 36.75006969441497, 35.95268154736297, 35.39970490300381, 35.24981319889896, 35.12711034381121, 34.70815702146395, 34.59908752851461, 34.469347345788385, 71.48162823143068, 227.7788839509028, 47.57470743564562, 102.62276089736069, 61.52338650074929, 94.31902578500359, 63.83381566512455, 55.716010331237804, 85.63960484461057, 130.9304281960842, 142.4047039499048, 86.2493006364801, 103.67185486310113, 56.20280338818625, 75.51953832419024, 56.56360465824394, 190.0381033729742, 144.51510272211286, 174.85195008881996, 80.251285831126, 274.0435374254205, 117.81423046591318, 372.609443775169, 209.80155675726462, 178.46214329666955, 183.0478746915935, 88.96012804464866, 184.07923386484924, 135.79087235726567, 115.8207588003622, 168.29858084784263, 141.1558443678803, 149.37465391364933, 135.00233862724608, 118.23308514626477, 151.65682474210706, 136.04812029860557, 97.53901202471782, 117.3917208400378, 128.46581120910844, 112.48328475212078, 135.51152860889562, 134.53857588044463, 117.42815607822799, 115.9133265257727, 1047.237205992691, 544.608560738734, 444.9153283653039, 297.6422055338295, 186.35199748431185, 119.07691464433049, 107.59397270874683, 103.82179236920342, 68.68971827534475, 65.16012602307957, 64.28597390136596, 57.143182090151164, 54.99876752563874, 52.80944951191583, 50.41754046447745, 47.71105057072033, 45.92464305526866, 44.413255241366954, 43.469444894376124, 40.27438115918508, 37.40599958277664, 36.8172514787717, 34.45992937241973, 33.86047970752271, 33.47970611083884, 32.54300107718981, 32.334488949022834, 32.32395448650177, 31.830961014240046, 31.66106798350375, 126.6543268968627, 1051.4650175774216, 135.0477700985785, 53.2182302486126, 56.22508551857382, 295.13726049268234, 662.6294136781939, 52.99435717888905, 94.17434612270408, 541.5194204187634, 124.27823649521457, 243.17079078027982, 171.59712414115066, 408.4772279338162, 179.0627306314593, 509.185643454104, 252.90054629394376, 132.82252351336993, 181.49717469032757, 199.7125438984778, 121.01293090130547, 330.1701847096358, 368.19065343697747, 166.38997079928942, 232.86534505270603, 295.0608892719779, 205.268075548484, 197.42425521479836, 214.11710156107637, 195.09849774856124, 159.01220477439782, 140.9774471098846, 133.42308958912264, 511.06845122125225, 183.1366667639406, 73.61712837231715, 71.38145152109472, 64.79363052124387, 62.82590628442198, 60.98848554538132, 54.861058643359954, 51.65593402047457, 50.423064576871944, 47.79459162796857, 47.33148354137213, 42.77103503399218, 42.76285645401483, 42.18420475795666, 42.00123248659998, 41.52121345819252, 41.08218344057248, 39.32763318147017, 38.79736645884262, 38.020675963567996, 36.864081961432895, 36.220704150472855, 36.09722681499505, 35.22270457624209, 34.84603222632846, 34.1892309262394, 34.1042643133242, 34.07111291765217, 33.04270339677368, 308.94594560178325, 121.16033965118903, 116.89134973849146, 140.37116954851172, 61.81394088097976, 438.7705731087059, 342.3860950331472, 77.51450319916096, 104.47069090063822, 126.66567273004256, 71.0255894695342, 160.74617705570452, 59.67731775468723, 184.42475420834162, 105.76380357213219, 48.101954288359565, 165.15623946376962, 252.27028111652146, 112.10475228179943, 95.60653813857515, 89.67272435762915, 171.28749249498017, 74.2077573172845, 171.5313578869852, 242.05955056192616, 163.71197638246488, 350.11641376969936, 218.45180256638446, 317.1302373126572, 231.63832798141135, 160.83901103234723, 121.43001768509234, 214.62534385411757, 121.72923380247288, 178.80993708347907, 175.68486826415483, 144.0410864871103, 131.91846297557206, 162.7773024500117, 126.75536708392956, 137.7117626197164, 127.72548305518775, 121.92000936362328, 207.7190523257587, 207.4794456716847, 87.7962163394449, 74.81400686587615, 73.96367575358735, 65.23457270315276, 63.37479931322674, 62.70755012464462, 57.550237258462346, 55.95939054493912, 52.65603921113003, 52.62581923401377, 51.01349976747696, 50.91989605878594, 48.26255666273276, 48.000585711650075, 45.31234926969193, 45.26274662147508, 44.179264138284175, 43.97057555709614, 37.69699493892274, 37.60654527738413, 37.320443762887436, 37.02319794845223, 36.15969132985877, 35.84344974077367, 34.96501606835692, 34.89294819362253, 34.49310543071575, 33.605853042460865, 150.4913983938559, 120.2980750787337, 83.38436882582822, 85.30583117265911, 69.42875732008376, 48.41425371457491, 79.61510585206184, 70.54311582219863, 78.14094626698905, 129.1246634185549, 263.5500941785759, 65.82617943022777, 239.96682102644962, 188.3136384425026, 172.48610836259724, 421.2589112874723, 95.30102342022033, 384.1986385660926, 60.98371616698732, 95.70957766136206, 252.27902677692316, 66.28763755560585, 225.5917170440389, 274.5785775056427, 103.82823801512748, 177.94375380402786, 127.24355605368997, 149.32202910400684, 115.90558079844419, 111.50486917397362, 154.4350339157921, 155.10846924218916, 130.42579618224286, 142.68428220161658, 138.2110947789799, 156.76689246730174, 123.58742664858231, 103.58795849766094, 116.05296311378186, 114.04144641265545, 107.06704913340592, 106.93278765422228, 243.8014971094066, 80.13389588236264, 74.17621150740045, 61.48807350520927, 61.47418788185369, 55.997773225954724, 55.07040047957584, 54.815794215366665, 44.58917862474274, 44.284162145354664, 41.52215323825427, 41.34740025914674, 41.32983516461807, 39.110566506893186, 38.18049621170785, 38.06905349849915, 35.223614042656614, 34.95016508976144, 33.636042690347054, 33.050459233473006, 32.722365753334664, 32.19138667074456, 31.633286089329026, 31.612169283043002, 31.56201093642654, 31.40880184508048, 31.217951179590692, 30.555903712400923, 30.302056704148097, 29.76043343709299, 115.19244475989323, 77.10350094549909, 669.1853054408105, 187.5851786269004, 184.90897659367477, 116.23839284514769, 107.80324898407291, 56.95051169175998, 64.31293639458089, 188.3456610736428, 99.24926696475303, 54.870478895569065, 91.65780248194548, 47.39140254564661, 201.4402857334656, 64.70607036813398, 84.16986692910925, 267.8539957528143, 61.1957453609379, 90.36197888113297, 55.289044293390916, 248.89884957882813, 75.08027363581174, 144.76693896846407, 138.16988077233557, 137.71257506939472, 125.87578931095273, 101.50076749793266, 119.34781610631416, 100.32520566028337, 97.46598643888686, 108.83888870961228, 106.42927312352249, 107.84626375421543, 117.34621299030674, 101.27234826367955, 98.22893646748742, 81.416432503939, 76.24899189974981, 60.70491007715682, 58.167984297115794, 57.93855965517757, 57.202802150197954, 49.03119634131461, 46.13833931102458, 44.5840295774877, 44.31231762338911, 43.76595981286813, 43.24706006820645, 42.805543627280734, 42.127104794033755, 41.49433378040246, 39.546170479135725, 39.12921406055168, 37.00522851280256, 36.8833444305975, 36.823939428323484, 36.63096037302981, 35.86564869197511, 35.689855784515956, 34.876613919164775, 34.4231662754556, 33.12972935687661, 32.73500213823255, 31.19052749726335, 31.183541549841234, 31.00279360734633, 30.995224139350928, 47.572365569068594, 106.6700709136819, 234.34267068599138, 69.08845121023707, 54.637570732515194, 131.78583303353292, 106.09204651741271, 44.44524295800608, 60.79080821741474, 45.27968063770098, 121.10891913198472, 50.30406660460377, 115.60143680844502, 73.56987617353154, 231.80952638005658, 110.73594447161629, 79.72648112632052, 179.82618862216233, 131.08564746428365, 137.49209049940154, 60.54337593499133, 110.06468065949673, 58.48013194501929, 86.63005761074898, 78.06840904726525, 64.0328746017408, 64.02886493523161, 66.03596707429202, 64.92726494547682, 59.814040416209366, 57.344848661150465, 170.9122223887253, 100.18619944084224, 97.26852177333136, 94.55400182987562, 93.01324373458692, 74.58168782025871, 58.91187450367726, 56.44153101523975, 54.74156018523615, 54.70989525834314, 53.27846933193929, 52.224744774733196, 51.34118086431448, 49.016425119349066, 47.409602588210134, 44.4750318483213, 42.62724663501062, 42.53995085290019, 42.19159512720922, 39.45720154470974, 38.35705937372686, 36.354626516553786, 35.03639823134517, 33.937144160612114, 33.74162793223173, 32.86010217994031, 32.24385963932392, 31.636440598311903, 31.601133821473564, 31.136507244370346, 46.31397439439632, 63.06063801533666, 58.38529494763576, 49.148170638423714, 54.67492710965761, 70.86418323422981, 73.91269915293422, 63.60837224711319, 53.511225073313206, 194.40674198914533, 91.65841805203303, 104.3272831215643, 174.73234408347668, 106.86321185506978, 173.27725252163867, 144.50611403833452, 67.80823027458442, 105.10339968017514, 75.92448261957217, 117.48674371399314, 70.53025115108545, 147.66150227990806, 117.88958343162926, 100.5058133034121, 104.03648459803551, 89.11739711781453, 83.96073566076102, 76.75454967105723, 83.76760260787117, 72.98950935942624, 71.26661404239839, 68.94591864066149, 79.63318601740879, 76.72548897085417, 51.29953037747035, 51.10793183365495, 45.89447924864142, 45.786442769518224, 45.17275030085135, 45.028074558213255, 42.591816787933254, 41.98342382882446, 41.23696576598018, 38.28343707887272, 38.247666112936976, 37.87810129729885, 37.214933232571966, 37.12547542731733, 36.89640984296159, 35.585960664881014, 35.19632370353819, 33.77694080550263, 32.741220981465354, 32.42434735725536, 32.165070805795686, 30.791308262568712, 30.567183291438333, 29.812189863390998, 29.479796867116317, 44.90601796751204, 29.178101084589873, 29.142078312356176, 119.88845164607591, 57.259108177922826, 83.32108317073349, 46.71902041845346, 74.41470020076144, 62.240155127226146, 41.66390479132332, 94.00031561726175, 120.52837538460892, 73.85799410221422, 109.7514594604262, 66.8241411708849, 49.09307045583785, 128.46694229555854, 55.85442266357703, 66.85322913978645, 66.00599067125542, 182.9621666606362, 51.78867713570911, 72.86504951125117, 58.48332093476741, 72.58985706516567, 131.08316921074385, 127.22755748568092, 84.55456355707287, 65.86542487049196, 54.929089510777175, 73.76612242968955, 89.27351777643482, 123.54656619243573, 96.7661849372379, 92.27777530244151, 77.3695168626113, 72.73993361874608, 72.87050820869877, 68.01492447093219, 65.11140683005856, 106.1284760696598, 84.46512940774596, 82.24972988474232, 81.2799909702052, 77.17803052996784, 73.32077738686783, 72.2289007691854, 64.80989522863344, 64.36975218179052, 60.495058874974696, 56.29113106244613, 55.92967441463228, 55.69613458081768, 55.11732372282641, 47.29734866354199, 47.226225495888485, 46.79013913807026, 46.09888755475445, 44.64581650870083, 43.31985505208769, 41.7253628907378, 40.172095739020364, 40.15968916029211, 39.31749943837874, 38.89746759447637, 37.97135479701725, 37.48264973770505, 37.4176116035886, 36.72134185995833, 36.63330296747435, 60.556685585557716, 121.81511153213768, 52.44270597391569, 66.80689166368902, 51.12566511991072, 69.14093777216017, 239.30901117906956, 185.5767305523782, 102.0716636475794, 75.5191326460985, 80.57327872288779, 79.30455308658252, 87.36621220707713, 63.06825939826802, 74.76996655685852, 52.93909766198824, 90.40035851966448, 107.81457793531578, 94.66604158171855, 63.973014165044525, 77.14658990463703, 61.71103727084353, 61.97029003471201, 66.45483378334937, 66.82406446640445, 63.16986171996258, 63.54677238953641, 57.291818664216734, 49.664348883637295, 48.92298895390215, 47.96107875050399, 45.00433142094724, 43.17163843743934, 42.61129522378852, 39.09028138642762, 37.035866236197926, 35.66505197346701, 35.64193765667931, 35.11234135025991, 34.56963257955016, 34.05175010853138, 33.27943946407632, 33.06095274123421, 32.78459742963066, 32.41694655356068, 32.289166901061996, 31.896850223698234, 31.89035640759641, 31.784621082570887, 31.140963915221384, 30.87982792782038, 30.75658808712768, 30.28479413203596, 30.211940597683732, 30.153063161854295, 30.004469669594183, 141.344834363192, 48.86566809776601, 76.218885125073, 87.04616814116247, 53.00409124555327, 45.131023250976135, 65.15494085335585, 69.61134444467592, 77.6503219252535, 60.400749045424526, 49.388566780595106, 40.46820598291303, 38.068135879808, 103.38871617424205, 61.471258069061406, 82.23935323970457, 57.55003765693881, 178.611054013249, 48.242027373379244, 99.89802379598036, 49.08755331047859, 71.19352745371364, 54.83649380339008, 51.56598484531213, 67.66243533604721, 69.4537401138312, 61.834886294827434, 57.40761188879895, 55.348600879703945, 55.521862720851445, 54.56734053891083, 55.640682486637644, 50.81997300965234, 50.80301622661046], \"Total\": [4289.0, 1471.0, 3413.0, 1048.0, 8264.0, 1743.0, 5656.0, 1413.0, 5127.0, 1676.0, 1017.0, 2217.0, 8715.0, 1661.0, 1205.0, 2199.0, 2762.0, 1579.0, 1798.0, 2185.0, 1414.0, 2992.0, 4947.0, 2612.0, 1137.0, 2075.0, 2459.0, 1970.0, 2600.0, 1499.0, 255.52618154869464, 225.81299813493783, 192.86201906257148, 149.36738651255467, 146.28009097549932, 102.72466958482963, 85.65520589566609, 70.0594939241858, 66.09016460291375, 64.9053982392596, 63.63415727557431, 62.88717361026849, 61.843433234074716, 61.83919306325453, 59.137136151303466, 57.88425084878361, 53.552637818274455, 52.83887573523018, 52.19615607726263, 51.42524606022367, 49.66088381404657, 49.07725952030732, 48.80316309256483, 48.173352703637576, 107.92872847281342, 46.95177379053777, 45.817180475237066, 45.24931985672944, 43.59979672947577, 43.04855150024589, 137.88709780697096, 95.3817707614079, 931.5603998951622, 426.31997368225046, 214.57310088249608, 150.663624309067, 519.7974014581009, 159.673691818863, 1137.6650772360904, 165.71265881341938, 530.7170745926181, 197.86366586313136, 1970.5080496989603, 150.6265310275163, 4289.143374264922, 886.3474339528125, 320.4276946330652, 1413.1914379608447, 5127.590132334894, 814.3577539426358, 3623.0435779068875, 618.7239342577658, 2992.058603376466, 1185.0262275541736, 2695.2069042805774, 4122.306543581861, 3413.490845121966, 2612.7684776276565, 1023.6969792293803, 8264.766263822334, 8715.407129833266, 9406.661795216101, 5233.9154490731535, 4458.330153124241, 1591.3653846066966, 5656.169592389972, 2356.2042831367344, 2600.4774517524106, 2486.81726991222, 3100.462223881722, 3788.30260044133, 5796.4572946502185, 1758.9174638039433, 3767.725243123976, 2423.426608788976, 2896.4648005700383, 2634.97365190178, 261.01915945945177, 203.9566488637122, 182.70806805089333, 178.71833688970813, 149.959062087955, 113.3854591358881, 102.51640350601227, 95.64664561372967, 92.76453931663518, 74.97546343071754, 71.26961750348761, 57.475422725815946, 55.98246427346279, 52.58704819360411, 51.271650954454884, 50.92903393293288, 50.07374530198973, 174.19307174785556, 49.96462237927937, 49.85269499723623, 49.01136600268588, 46.235103514756126, 45.82024166652097, 42.583754637308644, 42.02767795695017, 41.80848328611397, 40.3783318018525, 40.0263525023944, 39.88372695765436, 39.540888828707246, 126.74314136849732, 163.41621110286584, 76.78877422649968, 594.048232479121, 66.94917992678208, 343.1599131065678, 1056.1550779911645, 449.6433279937943, 109.48015704705624, 89.11162461304419, 405.2384769961033, 217.07697203923732, 79.25783604140791, 562.753358098371, 253.0128725468355, 167.91160521738723, 151.1215108243619, 244.16929032389385, 275.8710446866443, 692.1011286235054, 2660.8067527710277, 1119.4364204882597, 614.489246662772, 774.1073202173545, 648.9617771571442, 1640.0720210780898, 747.9623741552831, 2199.609952321129, 938.1115015546019, 8715.407129833266, 9406.661795216101, 2507.262141782282, 4947.511308310318, 852.4485385354859, 8264.766263822334, 5796.4572946502185, 1663.6106648450966, 2833.6782070861145, 2896.4648005700383, 2634.97365190178, 4458.330153124241, 3767.725243123976, 1296.9579284438466, 5656.169592389972, 5233.9154490731535, 1733.6903102748106, 2307.2432154293374, 2010.1357726467468, 175.58397347618498, 81.4653842295664, 76.53078808388689, 62.97306558472401, 62.14120210531823, 53.887339983169184, 52.295856454569446, 52.102051495214106, 48.72197072434103, 47.96577740470381, 45.355052321465315, 44.40886209100357, 42.71960463350075, 41.53577866756924, 37.30557499155165, 37.20879733540888, 36.87669419120202, 35.665808186185345, 35.039636620372285, 34.95219754179263, 34.60678439592873, 34.35290672626634, 33.89684783923851, 33.78138638657824, 33.34085685834481, 32.89176723115769, 32.5645636673159, 32.50656744584443, 31.777300332713363, 31.24026768745492, 60.32934981503886, 46.65495947572674, 88.95466315523741, 61.82907820261372, 91.01575636787938, 113.2540125406868, 91.29850723441564, 52.6223103141186, 120.7518325542958, 97.45485543065041, 105.18523627159145, 298.3627146596618, 278.69375243970273, 87.78080605335958, 124.92596009811551, 337.43860497703037, 94.16930632858961, 1330.4686964488583, 2762.96952960796, 1016.0891223434735, 140.93251932166584, 4947.511308310318, 386.4687445083154, 351.7598774966629, 747.4360521165908, 366.5040710797365, 569.4664416646609, 2660.8067527710277, 1296.9579284438466, 274.3443941360098, 2833.6782070861145, 717.1956158884462, 8715.407129833266, 5796.4572946502185, 1182.8164539466395, 1556.5852254712288, 1676.2501716199824, 1516.5890599146203, 8264.766263822334, 5233.9154490731535, 1468.7111241681175, 1414.979104393906, 5656.169592389972, 2896.4648005700383, 4458.330153124241, 2123.9523652142093, 2423.426608788976, 9406.661795216101, 3767.725243123976, 3006.001498230144, 2115.0224845043135, 2010.1357726467468, 2109.963022422425, 3100.462223881722, 71.34024273149961, 65.86668783513545, 61.0584584411149, 60.298250371875525, 56.30456476435491, 50.54775555811997, 47.115314154759304, 46.51059132577669, 45.156229541616185, 44.282223459123735, 43.23168594973968, 42.13456596678521, 41.38694699331095, 40.58307362242438, 40.56867377957653, 40.56217985439344, 39.440380750502044, 39.25623025542383, 39.19943560509194, 38.8188434595042, 37.06846920469856, 36.638254403074676, 36.37419866791558, 35.51085556204492, 34.88790996096066, 34.34432189806019, 33.804779959651185, 33.33995706868716, 33.025153492806545, 33.01115227715577, 80.3019254152272, 191.49717340180487, 90.61120164401898, 56.8371991441942, 83.76197854206202, 53.36695919438469, 120.58658091487888, 316.77558530416667, 202.23129647708157, 1414.979104393906, 204.6373666111648, 1003.1251043142611, 262.6322432900752, 55.41634681125701, 310.01499535670047, 760.9167364305198, 1468.7111241681175, 1257.4185298003395, 1082.4008141592208, 2762.96952960796, 2199.609952321129, 865.4271295391362, 425.16226456116766, 2833.6782070861145, 1556.5852254712288, 176.38707653500916, 115.36447656120954, 195.96564888305045, 747.4360521165908, 927.1871968689244, 4947.511308310318, 1012.699948093286, 1676.2501716199824, 1296.9579284438466, 3100.462223881722, 2035.872587036838, 8264.766263822334, 762.9798288616369, 2185.1476486747615, 2459.9812076769063, 3006.001498230144, 2507.262141782282, 5796.4572946502185, 1330.4686964488583, 2634.97365190178, 958.914296119629, 5233.9154490731535, 2695.2069042805774, 102.3884936987449, 98.70126341027563, 69.75176346671394, 56.61953689482138, 53.00200666963487, 50.18254603041063, 49.95680505915836, 49.565649711841836, 48.32744755284439, 44.84446139541233, 41.178441418261585, 40.357520531861034, 40.15760401893028, 38.93400348872816, 38.51958377130257, 37.07971621627168, 35.791487481763966, 35.45395700654136, 35.37237551255172, 35.25672715902988, 34.43261357894926, 33.76744701035371, 33.252430912274924, 32.74543002002452, 31.48974610000298, 31.07021917732549, 30.91001247505913, 30.768160145625227, 30.244181740604546, 30.224580798711333, 115.0474058696787, 52.440716209999884, 37.49901499634348, 99.79635844637764, 38.72039049769693, 602.3057640291124, 410.1170620142855, 141.58789385047297, 256.4024142170258, 52.45106172650689, 2459.9812076769063, 2600.4774517524106, 143.7542064819375, 5656.169592389972, 3413.490845121966, 99.85547662512514, 2612.7684776276565, 2992.058603376466, 5127.590132334894, 9406.661795216101, 4289.143374264922, 366.3826581048034, 3788.30260044133, 938.1115015546019, 8264.766263822334, 2010.1357726467468, 4947.511308310318, 8715.407129833266, 1739.6178688270031, 5233.9154490731535, 457.41716265407666, 2123.9523652142093, 2486.81726991222, 1010.1267079502403, 5796.4572946502185, 2695.2069042805774, 4122.306543581861, 3767.725243123976, 4458.330153124241, 2423.426608788976, 1185.0262275541736, 2185.1476486747615, 2228.4409165112675, 3623.0435779068875, 3006.001498230144, 545.9153251605607, 449.3860406220131, 404.2513498210642, 267.0139415470914, 193.28072759052796, 188.8583567759096, 85.86751043124589, 71.13445593619038, 62.860409561953475, 58.79335353795538, 52.22743445213418, 50.23479118761539, 49.7681151576154, 48.36848449740012, 44.75029950391983, 42.10761948003817, 41.528533434477154, 40.56071866350953, 38.795122891699805, 38.593662724963394, 38.21203495777989, 36.74897281494622, 36.56950241045371, 36.220022657942685, 35.330737302690764, 35.151082231020425, 35.13696031874442, 34.34540533805482, 34.06732607435652, 33.4080687708502, 57.12933252379545, 1471.5570355689447, 386.06105582449675, 753.928118390221, 1205.1607923421675, 81.11855330235835, 652.2969594484584, 286.2933268700228, 100.39833460856893, 1676.2501716199824, 61.70342408530895, 601.4861690316174, 76.161969939601, 609.7358393935908, 177.71280436104215, 762.9798288616369, 830.486631498665, 1257.4185298003395, 278.15574656183014, 459.2261836928558, 1833.784776900527, 225.9422240683417, 1333.2984057881251, 1142.70432665895, 1003.1251043142611, 827.5772500576492, 1414.979104393906, 9406.661795216101, 8264.766263822334, 792.4719103245017, 8715.407129833266, 3767.725243123976, 4947.511308310318, 1921.782767279622, 3788.30260044133, 2217.2577349873663, 5796.4572946502185, 2507.262141782282, 5656.169592389972, 5233.9154490731535, 4122.306543581861, 2762.96952960796, 148.83537095887604, 108.95716661627245, 81.7389191147828, 71.56261865440054, 70.91537397851278, 68.71190675846263, 54.204282655759386, 45.32840263287347, 43.47245359179598, 40.29004857008561, 40.227912173734694, 40.055148738507135, 39.89787737669623, 37.54992412404228, 37.52202918787721, 37.43401550000913, 37.084786286214076, 36.27024108766715, 35.86650771478338, 34.75971668150642, 33.69000902836181, 33.61066947587224, 32.53642530476105, 32.3950549059856, 31.83977017781767, 31.34739015132092, 30.431571225026584, 30.232768994199198, 29.079264382006922, 27.895688871848204, 47.6347204017702, 65.64924654670588, 168.77314332561625, 63.42360452984034, 450.6278868292488, 70.41363185923609, 151.74161907503904, 57.97947279141693, 358.5160565458171, 1499.723229179048, 274.3292629857222, 1046.85145458915, 426.8779638843558, 1365.808967798285, 571.2547124932645, 3413.490845121966, 4289.143374264922, 115.8960344374174, 559.6322667964472, 393.84513740658423, 386.2203074237286, 228.32994031432273, 8264.766263822334, 397.15900217718473, 2185.1476486747615, 517.2747441945847, 958.914296119629, 849.5291286790653, 3006.001498230144, 887.4704004634593, 863.3585081406083, 5656.169592389972, 1858.6059957825832, 705.5694342820766, 2992.058603376466, 2109.963022422425, 1010.1267079502403, 769.5577030297094, 2035.872587036838, 2612.7684776276565, 1182.8164539466395, 4947.511308310318, 3788.30260044133, 2762.96952960796, 5127.590132334894, 2228.4409165112675, 8715.407129833266, 4122.306543581861, 9406.661795216101, 5796.4572946502185, 5233.9154490731535, 1758.9174638039433, 4458.330153124241, 91.16092561161871, 88.87418605669396, 85.98796840960516, 70.8255507570564, 70.06087685706343, 69.36245405117215, 57.37319005391659, 54.10331833103766, 48.03004585785474, 45.80639086312352, 45.56448918548913, 46.72938633796182, 43.58150085897605, 40.49715957606701, 40.229180288272225, 40.12851086865352, 39.99167711213055, 38.20240783648368, 37.64229103365096, 36.664552038741064, 36.557847624568296, 35.08336533771091, 34.7899167932167, 34.407157028615984, 33.999983526544476, 33.69496081249291, 33.48046604757902, 32.99984143217328, 32.60090521795798, 32.532184162407894, 108.23692051571808, 113.65856900171276, 186.01784943029782, 513.8781971908224, 60.35714025887445, 720.7549237406034, 80.0760788420984, 1661.604567724972, 48.29006878517466, 138.7847376279437, 81.7795116019867, 142.84432612220306, 70.7927502815484, 126.97750172433723, 378.54968853555556, 143.92211239542686, 1731.3857086081568, 100.70431694954867, 275.6137946667158, 1089.2935579561379, 2228.4409165112675, 119.49549747005024, 3788.30260044133, 8715.407129833266, 3623.0435779068875, 5127.590132334894, 2356.2042831367344, 9406.661795216101, 2612.7684776276565, 4122.306543581861, 5796.4572946502185, 5656.169592389972, 2423.426608788976, 3100.462223881722, 2109.963022422425, 3413.490845121966, 3006.001498230144, 1382.839518619095, 1008.0461043868542, 4458.330153124241, 2115.0224845043135, 2600.4774517524106, 1065.0443797043272, 2486.81726991222, 88.55353984802777, 73.02213218283474, 72.97065793826718, 71.6464571626952, 59.89221725040433, 56.997193915207504, 54.73634003364776, 54.69172550983994, 48.94694947364558, 46.46630638584507, 46.351111751562456, 44.794102371879475, 43.553222841465, 42.646987405308124, 42.30479528877301, 42.298070335677025, 42.17825122266912, 41.774265568624024, 38.94074831037034, 38.33963555035769, 36.69420844596961, 35.12028701186252, 34.34133710905625, 34.20476381380184, 34.15761560131956, 33.16090335597524, 32.401106193514316, 32.34247932387814, 32.31242193416904, 32.13818159307489, 77.14231477025676, 46.82696535251674, 57.75047688236767, 43.33627790748335, 125.38104322384525, 114.3563813346988, 65.71557314103369, 64.13357960678424, 95.92636497109717, 396.15804743398513, 104.0847867596035, 562.753358098371, 2199.609952321129, 747.9623741552831, 184.17474526673962, 740.6122903033241, 143.16641230827722, 2459.9812076769063, 2660.8067527710277, 206.21554253967722, 278.7159503879802, 9406.661795216101, 1640.0720210780898, 8715.407129833266, 4458.330153124241, 1017.3025643981838, 817.9250499998195, 1119.4364204882597, 410.93086394838576, 598.6531290773393, 2634.97365190178, 1314.0182597541543, 1829.4132991088707, 2010.1357726467468, 3767.725243123976, 4122.306543581861, 634.8964896962907, 765.5261817722852, 2423.426608788976, 2507.262141782282, 5796.4572946502185, 3788.30260044133, 3623.0435779068875, 3006.001498230144, 2035.872587036838, 938.1115015546019, 1921.782767279622, 99.59010702273952, 92.08649324319715, 63.065356643888336, 54.56205677071972, 51.77727320424338, 50.62730077851445, 49.78112534168283, 45.48571283299172, 45.16081309175628, 42.10427590193771, 41.26505853809643, 40.90674638125567, 39.35608273143947, 38.6858549664287, 36.5303238172396, 36.27364108973353, 34.692586769703546, 34.4864625633263, 34.41393878109817, 34.05524750584703, 34.00262239476143, 33.241303578376446, 33.05546880730112, 32.944082583522906, 32.806404010589624, 32.21250320655334, 31.772379333106553, 31.464808105814598, 31.187002396199702, 31.090924376043148, 97.33168426619629, 69.11346082970817, 234.84235776597467, 481.849927395538, 61.28114659447056, 99.43623324966073, 110.49611939080054, 617.8250010451236, 161.44633484115664, 110.75560551359975, 277.66034415192746, 226.88192998461852, 854.9865429047942, 1413.1914379608447, 250.75911793736364, 79.40404167984391, 226.74853513610688, 180.9448018869129, 213.45206972466855, 939.9717640655333, 960.4035596948157, 115.73624854325419, 170.75340389395586, 1304.4535730548942, 822.5262863398287, 356.65005562896704, 1798.4641224969464, 1137.6650772360904, 666.9872744387977, 741.565628839988, 886.3474339528125, 5233.9154490731535, 1541.6268078393866, 8715.407129833266, 1418.8366154757857, 9406.661795216101, 1008.0461043868542, 3788.30260044133, 1021.1569572871606, 4289.143374264922, 1142.70432665895, 1079.9140383977401, 5127.590132334894, 1525.5639022604087, 3623.0435779068875, 2833.6782070861145, 2486.81726991222, 5796.4572946502185, 4458.330153124241, 2896.4648005700383, 152.3490046596922, 75.54684004085433, 73.48948470389693, 72.8728528222266, 67.06363879658527, 64.31032787356956, 62.35061250209092, 56.082194028184894, 55.77026207945581, 53.62122163975774, 51.912721471621204, 50.06549435217727, 49.64279782567852, 47.44024666277858, 45.353542736267315, 43.2059481496322, 41.35498560809618, 41.12441254316592, 40.89222745214538, 40.61735893947521, 40.30751663944231, 39.78909065803147, 37.695354594988444, 36.89796644246988, 36.3449898053785, 36.19509810210921, 36.07239523891812, 35.65344193453286, 35.54437242362152, 35.414632240895294, 78.19514248642649, 283.56960823358617, 50.62598324053117, 122.90418025783788, 70.45046606094567, 125.50298782816071, 76.75962818164182, 64.85792335418611, 116.70151187417576, 211.09197757015033, 243.60799159783062, 129.27694831011436, 171.29716432276425, 68.14671182412489, 106.84630642969661, 69.94880532267862, 686.4798330243054, 487.7960967833188, 741.565628839988, 156.73114716827402, 2833.6782070861145, 390.2811509678215, 8264.766263822334, 2075.2621827629196, 1468.7111241681175, 1970.5080496989603, 236.58685636055657, 2185.1476486747615, 1012.699948093286, 628.8021138087122, 3006.001498230144, 1556.5852254712288, 2228.4409165112675, 1743.118996212785, 1119.4364204882597, 5127.590132334894, 3100.462223881722, 425.16226456116766, 1477.1576566324961, 2896.4648005700383, 1160.406156392613, 5796.4572946502185, 9406.661795216101, 2115.0224845043135, 2634.97365190178, 1048.1806258902882, 545.551980636331, 445.85874826290086, 298.5856254314265, 187.29541738190892, 120.02033454192751, 108.53739260634386, 104.76521226680045, 69.63313817294177, 66.1035459206766, 65.22939379896299, 58.0866019877482, 55.942201634127635, 53.75286940951287, 51.360960362074486, 48.65447046831737, 46.8680629528657, 45.35667513896399, 44.41286479197316, 41.21780105678212, 38.349419480373676, 37.76067137636874, 35.40334927001677, 34.80389961172867, 34.42312601155561, 33.486420985274464, 33.27790884661987, 33.26737438820564, 32.774380911837085, 32.60448788110079, 137.08600614398136, 1743.118996212785, 174.86580841949348, 60.41466920658245, 66.69828089522068, 553.4124562650865, 1579.2242168966814, 62.29405510767335, 153.85961853574292, 2217.2577349873663, 247.07846635305427, 731.9555376262487, 454.01011867893817, 2307.2432154293374, 572.9038604272928, 5656.169592389972, 1591.3653846066966, 409.038325157466, 803.4152888411392, 1049.8614433605144, 365.4649374609882, 4122.306543581861, 9406.661795216101, 1089.2935579561379, 3767.725243123976, 8715.407129833266, 2507.262141782282, 2486.81726991222, 5796.4572946502185, 3623.0435779068875, 2356.2042831367344, 1265.6465699524688, 3006.001498230144, 512.0108079345267, 184.08308365382072, 74.55948508559162, 72.32380823436918, 65.73598723949411, 63.76826299769645, 61.930842258655794, 55.803415356634424, 52.59829073374904, 51.365421290146415, 48.73694834464735, 48.27384027419476, 43.71339174726665, 43.7052131672893, 43.12656147123113, 42.94358919987445, 42.46357017146699, 42.02454015384695, 40.269989898383024, 39.739723181725644, 38.96303267684247, 37.806438682386826, 37.163060863747326, 37.03958352826952, 36.16506128951656, 35.78838894792985, 35.13158764498044, 35.04662102659867, 35.01346963092664, 33.98506011004815, 332.82641201258133, 132.5571972469465, 135.6758734770086, 167.6320809609963, 67.80875698930848, 628.8021138087122, 487.7960967833188, 89.24433632450268, 128.16281313187977, 161.78490375782457, 81.7457633603886, 225.66547432691638, 68.78929555985926, 326.90024703407175, 153.61195689346604, 52.087140278351185, 320.88093808867256, 617.8250010451236, 209.19192610762857, 172.46267691198182, 157.297946934458, 552.6703253568693, 111.00921756804642, 666.9872744387977, 1798.4641224969464, 815.3052361998145, 5796.4572946502185, 1829.4132991088707, 5233.9154490731535, 2600.4774517524106, 1160.406156392613, 463.8567086596176, 3767.725243123976, 533.508965475138, 2634.97365190178, 4122.306543581861, 1516.5890599146203, 927.1871968689244, 8715.407129833266, 982.1792034320047, 4458.330153124241, 1556.5852254712288, 5127.590132334894, 208.66238671723949, 208.42278005818972, 88.74191732804739, 75.75734125238117, 74.90701014009237, 66.17790708965778, 64.3181337096303, 63.65088451558202, 58.49357164496737, 56.90272493144414, 53.59937359763505, 53.56915362051879, 51.95683415398198, 51.86323044529096, 49.205891049237785, 48.94392011984051, 46.25568365619695, 46.2060810079801, 45.12259852842758, 44.91390994360116, 38.640329325427764, 38.54987966388915, 38.26377814939246, 37.96653233495725, 37.1030257197681, 36.78678412727869, 35.90835045486194, 35.83628260226612, 35.436439835797465, 34.54918742896589, 179.75851110486087, 146.86406450246696, 97.4947193139857, 100.16174121102131, 81.34107877046348, 52.85688514942184, 97.59141378339143, 84.74525780426346, 96.97462678911123, 195.85997180995625, 618.7648929711191, 82.60602856938476, 591.3298534399288, 467.36559664897237, 411.1712978621794, 2075.2621827629196, 160.4028307886714, 2185.1476486747615, 76.09039388129271, 207.70989580981612, 2217.2577349873663, 94.60884925504995, 2459.9812076769063, 5127.590132334894, 319.2544149698304, 1661.604567724972, 681.6560635713087, 1229.767922987041, 555.5786653339007, 487.8072239374637, 1731.3857086081568, 2228.4409165112675, 1046.85145458915, 1640.0720210780898, 2762.96952960796, 8264.766263822334, 2612.7684776276565, 586.9410599018829, 2695.2069042805774, 2507.262141782282, 1049.8614433605144, 1921.782767279622, 244.7462681893396, 81.0786669622956, 75.12098258733342, 62.43284458514225, 62.418958961786664, 56.9425443058877, 56.015171559508815, 55.76081532146658, 45.53394970467572, 45.22893322528764, 42.466924318187246, 42.29217135285074, 42.274606244551045, 40.05533758682616, 39.125267296661875, 39.01382457843213, 36.16838512258959, 35.894936177160936, 34.58081377028003, 33.99523031340598, 33.66713683326764, 33.13615775841827, 32.57805717428305, 32.55694036297598, 32.506782016359516, 32.35357292501346, 32.16272226315757, 31.50067480057457, 31.246827784081074, 30.705204517025965, 128.7564399833163, 88.70157812213965, 1017.3025643981838, 245.82201441972634, 291.99191620926206, 180.6681389534678, 167.96817307385885, 71.58523246567026, 87.94316974670772, 423.73916310962466, 170.55811423762984, 74.46923999077146, 181.39489550312186, 60.90406523456194, 958.914296119629, 112.34431537604861, 193.30792501461875, 2199.609952321129, 111.20268078685642, 308.0445338750662, 92.29616399766644, 9406.661795216101, 248.6335002114171, 2459.9812076769063, 2228.4409165112675, 3100.462223881722, 2762.96952960796, 1028.938768942789, 2507.262141782282, 1082.4008141592208, 1012.699948093286, 2185.1476486747615, 2356.2042831367344, 2612.7684776276565, 5796.4572946502185, 2109.963022422425, 8715.407129833266, 1182.8164539466395, 77.19277811441249, 61.64869630214636, 59.111770511778474, 58.88234587481602, 58.146588364860634, 49.97498255597729, 47.08212552568726, 45.52781580034576, 45.25610383805179, 44.70974602753081, 44.19084628286913, 43.74932989297917, 43.07089101766186, 42.438119995065136, 40.489956693798405, 40.07300027521436, 37.94901472746524, 37.82713065959271, 37.76772566411214, 37.574746598434245, 36.80943490663779, 36.63364200630807, 35.82040014692567, 35.366952505243056, 34.07351557153929, 33.67878835700207, 32.13431371192603, 32.12732777817415, 31.946579829624717, 31.939010354013607, 51.259163005136124, 129.6957911035932, 380.82773724029545, 86.33700521527905, 65.11341712193793, 237.88852665563385, 214.8573666904852, 56.63061775808666, 104.2436335046817, 59.81761094297583, 580.212092683715, 88.8768490846691, 910.2801334921228, 263.91781994846224, 8715.407129833266, 1265.6465699524688, 428.5984856824267, 9406.661795216101, 3100.462223881722, 5233.9154490731535, 193.39397937036304, 2896.4648005700383, 170.02611978836185, 1556.5852254712288, 1374.7974683934237, 1093.9212732043825, 1516.5890599146203, 3006.001498230144, 2423.426608788976, 5796.4572946502185, 1065.0443797043272, 171.8566921662857, 101.13066921840263, 98.21299155089174, 95.498471607436, 93.95771351214731, 75.5261575978191, 59.85634428123766, 57.38600079280015, 55.68602996279655, 55.65436503590354, 54.22293910949969, 53.169214552293596, 52.28565064187488, 49.960894896909466, 48.35407237026651, 45.4195016258817, 43.57171641257102, 43.48442063046059, 43.13606490476962, 40.40167132227014, 39.30152916587578, 37.299096305584776, 35.98086801176592, 34.88161394954625, 34.68609770979213, 33.80457195750071, 33.18832942028863, 32.58091037587231, 32.54560359903397, 32.08097704305545, 49.57736243250676, 75.80221493403793, 71.27052753411148, 63.70697098289693, 77.0613630726132, 124.34202340824531, 135.25810683331247, 108.47337446480164, 82.67029882693988, 1229.767922987041, 283.15078817808336, 486.22282688237647, 2217.2577349873663, 586.1973149818632, 3006.001498230144, 1970.5080496989603, 180.9448018869129, 853.235357529082, 291.01913168013107, 2035.872587036838, 235.85588460788713, 8264.766263822334, 2896.4648005700383, 2228.4409165112675, 5127.590132334894, 1743.118996212785, 1374.7974683934237, 821.223155978249, 3623.0435779068875, 863.3585081406083, 1126.5426570949887, 2356.2042831367344, 80.5754433739635, 77.66774633026922, 52.24178773402507, 52.050189197178696, 46.83673660831587, 46.728700126072944, 46.11500765740607, 45.970331914767975, 43.534074144487974, 42.92568118537918, 42.1792231225349, 39.22569443542744, 39.189923478801575, 38.82035865385357, 38.157190589126685, 38.067732788341495, 37.838667214725994, 36.5282180264115, 36.138581063657625, 34.71919816205735, 33.68347836087049, 33.36660471381008, 33.107328162350406, 31.733565628035038, 31.509440652968813, 30.754447238799482, 30.42205422730492, 46.35610470335728, 30.120358444004932, 30.084335668910885, 146.80027109441633, 65.34863447681197, 109.9212714471261, 55.18904420517983, 108.97143899111448, 87.32770147927623, 48.932022336897866, 168.37648988010994, 265.9371288976382, 124.81417659360605, 247.21162703102516, 108.36819319368215, 65.17094933592884, 385.2455419563594, 92.82939304619315, 139.2670436255641, 138.6754372934774, 1798.4641224969464, 82.63273105720556, 205.74593745464543, 118.14544776852757, 236.58685636055657, 1541.6268078393866, 1833.784776900527, 428.5984856824267, 201.3533038011049, 104.19820214859506, 406.81631536827604, 1418.8366154757857, 9406.661795216101, 2600.4774517524106, 2115.0224845043135, 2307.2432154293374, 1858.6059957825832, 5796.4572946502185, 2185.1476486747615, 2833.6782070861145, 107.07094946964122, 85.40760280772739, 83.19220328472375, 82.22246437018663, 78.12050392994927, 74.26325078684926, 73.17137416916682, 65.75236862861486, 65.31222558177194, 61.437532274956126, 57.23360446242756, 56.87215669010108, 56.63860798079911, 56.05979712280784, 48.23982206352342, 48.168698895869916, 47.73261253805169, 47.04136095473588, 45.58828990868226, 44.26232846643988, 42.66783629071923, 41.114569139001794, 41.10216256324408, 40.25997283836017, 39.839941006698986, 38.91382819699868, 38.42512314266225, 38.36008509388309, 37.66381525993976, 37.57577637063927, 64.39997545308093, 164.92162626706815, 59.602502738997096, 82.75631759455358, 60.67376781324147, 107.13091999899338, 1028.938768942789, 656.0112143926046, 235.37231938183007, 197.52546511779596, 254.38231321173689, 316.17055246570646, 652.0595118198137, 171.23823445061205, 428.5984856824267, 86.78089535403184, 1743.118996212785, 5127.590132334894, 2507.262141782282, 265.65693291453385, 2833.6782070861145, 261.5278990061811, 362.67348122848045, 1739.6178688270031, 2660.8067527710277, 565.6181127662618, 64.49013567570614, 58.235181944232444, 50.607712170879566, 49.86635224052678, 48.904442037796464, 45.94769472398683, 44.11500171745505, 43.55465850380423, 40.03364467820215, 37.97922952512525, 36.60841525348272, 36.58530093669502, 36.05570463027562, 35.51299585956587, 34.99511338854709, 34.22280274409203, 34.00431602124992, 33.727960712506714, 33.360309839042955, 33.232530181077706, 32.84021350371394, 32.83371968761212, 32.72798436939521, 32.08432720844218, 31.823191207836086, 31.69995137000374, 31.228157412051665, 31.15530387769944, 31.09642645081032, 30.94783294960989, 204.82087654276816, 56.33305242925896, 112.09191710597051, 136.66987745958335, 68.1225940005373, 55.98950412113895, 105.11616252773243, 123.35576284440413, 165.75370139906804, 125.85555274171094, 82.95750069448336, 53.99463970636823, 47.6231480967939, 524.5125850612449, 163.92949864135892, 553.4124562650865, 190.0117722779146, 9406.661795216101, 106.53590783318877, 1579.2242168966814, 121.42944079627247, 765.1670881290496, 246.7000755359593, 199.41922060605614, 1344.8976267920011, 1743.118996212785, 726.4264473940412, 467.36559664897237, 931.5603998951622, 1070.0697747982622, 1137.7940278809108, 4458.330153124241, 1829.4132991088707, 2695.2069042805774], \"Category\": [\"Default\", \"Default\", \"Default\", \"Default\", \"Default\", \"Default\", \"Default\", \"Default\", \"Default\", \"Default\", \"Default\", \"Default\", \"Default\", \"Default\", \"Default\", \"Default\", \"Default\", \"Default\", \"Default\", \"Default\", \"Default\", \"Default\", \"Default\", \"Default\", \"Default\", \"Default\", \"Default\", \"Default\", \"Default\", \"Default\", \"Topic1\", \"Topic1\", \"Topic1\", \"Topic1\", \"Topic1\", \"Topic1\", \"Topic1\", \"Topic1\", \"Topic1\", \"Topic1\", \"Topic1\", \"Topic1\", \"Topic1\", \"Topic1\", \"Topic1\", \"Topic1\", \"Topic1\", \"Topic1\", \"Topic1\", \"Topic1\", \"Topic1\", \"Topic1\", \"Topic1\", \"Topic1\", \"Topic1\", \"Topic1\", \"Topic1\", \"Topic1\", \"Topic1\", \"Topic1\", \"Topic1\", \"Topic1\", \"Topic1\", \"Topic1\", \"Topic1\", \"Topic1\", \"Topic1\", \"Topic1\", \"Topic1\", \"Topic1\", \"Topic1\", \"Topic1\", \"Topic1\", \"Topic1\", \"Topic1\", \"Topic1\", \"Topic1\", \"Topic1\", \"Topic1\", \"Topic1\", \"Topic1\", \"Topic1\", \"Topic1\", \"Topic1\", \"Topic1\", \"Topic1\", \"Topic1\", \"Topic1\", \"Topic1\", \"Topic1\", \"Topic1\", \"Topic1\", \"Topic1\", \"Topic1\", \"Topic1\", \"Topic1\", \"Topic1\", \"Topic1\", \"Topic1\", \"Topic1\", \"Topic1\", \"Topic1\", \"Topic1\", \"Topic1\", \"Topic1\", \"Topic1\", \"Topic1\", \"Topic2\", \"Topic2\", \"Topic2\", \"Topic2\", \"Topic2\", \"Topic2\", \"Topic2\", \"Topic2\", \"Topic2\", \"Topic2\", \"Topic2\", \"Topic2\", \"Topic2\", \"Topic2\", \"Topic2\", \"Topic2\", \"Topic2\", \"Topic2\", \"Topic2\", \"Topic2\", \"Topic2\", \"Topic2\", \"Topic2\", \"Topic2\", \"Topic2\", \"Topic2\", \"Topic2\", \"Topic2\", \"Topic2\", \"Topic2\", \"Topic2\", \"Topic2\", \"Topic2\", \"Topic2\", \"Topic2\", \"Topic2\", \"Topic2\", \"Topic2\", \"Topic2\", \"Topic2\", \"Topic2\", \"Topic2\", \"Topic2\", \"Topic2\", \"Topic2\", \"Topic2\", \"Topic2\", \"Topic2\", \"Topic2\", \"Topic2\", \"Topic2\", \"Topic2\", \"Topic2\", \"Topic2\", \"Topic2\", \"Topic2\", \"Topic2\", \"Topic2\", \"Topic2\", \"Topic2\", \"Topic2\", \"Topic2\", \"Topic2\", \"Topic2\", \"Topic2\", \"Topic2\", \"Topic2\", \"Topic2\", \"Topic2\", \"Topic2\", \"Topic2\", \"Topic2\", \"Topic2\", \"Topic2\", \"Topic2\", \"Topic2\", \"Topic2\", \"Topic2\", \"Topic3\", \"Topic3\", \"Topic3\", \"Topic3\", \"Topic3\", \"Topic3\", \"Topic3\", \"Topic3\", \"Topic3\", \"Topic3\", \"Topic3\", \"Topic3\", \"Topic3\", \"Topic3\", \"Topic3\", \"Topic3\", \"Topic3\", \"Topic3\", \"Topic3\", \"Topic3\", \"Topic3\", \"Topic3\", \"Topic3\", \"Topic3\", \"Topic3\", \"Topic3\", \"Topic3\", \"Topic3\", \"Topic3\", \"Topic3\", \"Topic3\", \"Topic3\", \"Topic3\", \"Topic3\", \"Topic3\", \"Topic3\", \"Topic3\", \"Topic3\", \"Topic3\", \"Topic3\", \"Topic3\", \"Topic3\", \"Topic3\", \"Topic3\", \"Topic3\", \"Topic3\", \"Topic3\", \"Topic3\", \"Topic3\", \"Topic3\", \"Topic3\", \"Topic3\", \"Topic3\", \"Topic3\", \"Topic3\", \"Topic3\", \"Topic3\", \"Topic3\", \"Topic3\", \"Topic3\", \"Topic3\", \"Topic3\", \"Topic3\", \"Topic3\", \"Topic3\", \"Topic3\", \"Topic3\", \"Topic3\", \"Topic3\", \"Topic3\", \"Topic3\", \"Topic3\", \"Topic3\", \"Topic3\", \"Topic3\", \"Topic3\", \"Topic3\", \"Topic3\", \"Topic3\", \"Topic3\", \"Topic3\", \"Topic3\", \"Topic3\", \"Topic3\", \"Topic4\", \"Topic4\", \"Topic4\", \"Topic4\", \"Topic4\", \"Topic4\", \"Topic4\", \"Topic4\", \"Topic4\", \"Topic4\", \"Topic4\", \"Topic4\", \"Topic4\", \"Topic4\", \"Topic4\", \"Topic4\", \"Topic4\", \"Topic4\", \"Topic4\", \"Topic4\", \"Topic4\", \"Topic4\", \"Topic4\", \"Topic4\", \"Topic4\", \"Topic4\", \"Topic4\", \"Topic4\", \"Topic4\", \"Topic4\", \"Topic4\", \"Topic4\", \"Topic4\", \"Topic4\", \"Topic4\", \"Topic4\", \"Topic4\", \"Topic4\", \"Topic4\", \"Topic4\", \"Topic4\", \"Topic4\", \"Topic4\", \"Topic4\", \"Topic4\", \"Topic4\", \"Topic4\", \"Topic4\", \"Topic4\", \"Topic4\", \"Topic4\", \"Topic4\", \"Topic4\", \"Topic4\", \"Topic4\", \"Topic4\", \"Topic4\", \"Topic4\", \"Topic4\", \"Topic4\", \"Topic4\", \"Topic4\", \"Topic4\", \"Topic4\", \"Topic4\", \"Topic4\", \"Topic4\", \"Topic4\", \"Topic4\", \"Topic4\", \"Topic4\", \"Topic4\", \"Topic4\", \"Topic4\", \"Topic4\", \"Topic4\", \"Topic4\", \"Topic4\", \"Topic5\", \"Topic5\", \"Topic5\", \"Topic5\", \"Topic5\", \"Topic5\", \"Topic5\", \"Topic5\", \"Topic5\", \"Topic5\", \"Topic5\", \"Topic5\", \"Topic5\", \"Topic5\", \"Topic5\", \"Topic5\", \"Topic5\", \"Topic5\", \"Topic5\", \"Topic5\", \"Topic5\", \"Topic5\", \"Topic5\", \"Topic5\", \"Topic5\", \"Topic5\", \"Topic5\", \"Topic5\", \"Topic5\", \"Topic5\", \"Topic5\", \"Topic5\", \"Topic5\", \"Topic5\", \"Topic5\", \"Topic5\", \"Topic5\", \"Topic5\", \"Topic5\", \"Topic5\", \"Topic5\", \"Topic5\", \"Topic5\", \"Topic5\", \"Topic5\", \"Topic5\", \"Topic5\", \"Topic5\", \"Topic5\", \"Topic5\", \"Topic5\", \"Topic5\", \"Topic5\", \"Topic5\", \"Topic5\", \"Topic5\", \"Topic5\", \"Topic5\", \"Topic5\", \"Topic5\", \"Topic5\", \"Topic5\", \"Topic5\", \"Topic5\", \"Topic5\", \"Topic5\", \"Topic5\", \"Topic5\", \"Topic5\", \"Topic5\", \"Topic5\", \"Topic5\", \"Topic5\", \"Topic5\", \"Topic5\", \"Topic6\", \"Topic6\", \"Topic6\", \"Topic6\", \"Topic6\", \"Topic6\", \"Topic6\", \"Topic6\", \"Topic6\", \"Topic6\", \"Topic6\", \"Topic6\", \"Topic6\", \"Topic6\", \"Topic6\", \"Topic6\", \"Topic6\", \"Topic6\", \"Topic6\", \"Topic6\", \"Topic6\", \"Topic6\", \"Topic6\", \"Topic6\", \"Topic6\", \"Topic6\", \"Topic6\", \"Topic6\", \"Topic6\", \"Topic6\", \"Topic6\", \"Topic6\", \"Topic6\", \"Topic6\", \"Topic6\", \"Topic6\", \"Topic6\", \"Topic6\", \"Topic6\", \"Topic6\", \"Topic6\", \"Topic6\", \"Topic6\", \"Topic6\", \"Topic6\", \"Topic6\", \"Topic6\", \"Topic6\", \"Topic6\", \"Topic6\", \"Topic6\", \"Topic6\", \"Topic6\", \"Topic6\", \"Topic6\", \"Topic6\", \"Topic6\", \"Topic6\", \"Topic6\", \"Topic6\", \"Topic6\", \"Topic6\", \"Topic6\", \"Topic6\", \"Topic6\", \"Topic6\", \"Topic6\", \"Topic6\", \"Topic6\", \"Topic6\", \"Topic6\", \"Topic6\", \"Topic7\", \"Topic7\", \"Topic7\", \"Topic7\", \"Topic7\", \"Topic7\", \"Topic7\", \"Topic7\", \"Topic7\", \"Topic7\", \"Topic7\", \"Topic7\", \"Topic7\", \"Topic7\", \"Topic7\", \"Topic7\", \"Topic7\", \"Topic7\", \"Topic7\", \"Topic7\", \"Topic7\", \"Topic7\", \"Topic7\", \"Topic7\", \"Topic7\", \"Topic7\", \"Topic7\", \"Topic7\", \"Topic7\", \"Topic7\", \"Topic7\", \"Topic7\", \"Topic7\", \"Topic7\", \"Topic7\", \"Topic7\", \"Topic7\", \"Topic7\", \"Topic7\", \"Topic7\", \"Topic7\", \"Topic7\", \"Topic7\", \"Topic7\", \"Topic7\", \"Topic7\", \"Topic7\", \"Topic7\", \"Topic7\", \"Topic7\", \"Topic7\", \"Topic7\", \"Topic7\", \"Topic7\", \"Topic7\", \"Topic7\", \"Topic7\", \"Topic7\", \"Topic7\", \"Topic7\", \"Topic7\", \"Topic7\", \"Topic7\", \"Topic7\", \"Topic7\", \"Topic7\", \"Topic7\", \"Topic7\", \"Topic7\", \"Topic7\", \"Topic7\", \"Topic7\", \"Topic7\", \"Topic7\", \"Topic7\", \"Topic7\", \"Topic7\", \"Topic7\", \"Topic7\", \"Topic7\", \"Topic7\", \"Topic7\", \"Topic7\", \"Topic8\", \"Topic8\", \"Topic8\", \"Topic8\", \"Topic8\", \"Topic8\", \"Topic8\", \"Topic8\", \"Topic8\", \"Topic8\", \"Topic8\", \"Topic8\", \"Topic8\", \"Topic8\", \"Topic8\", \"Topic8\", \"Topic8\", \"Topic8\", \"Topic8\", \"Topic8\", \"Topic8\", \"Topic8\", \"Topic8\", \"Topic8\", \"Topic8\", \"Topic8\", \"Topic8\", \"Topic8\", \"Topic8\", \"Topic8\", \"Topic8\", \"Topic8\", \"Topic8\", \"Topic8\", \"Topic8\", \"Topic8\", \"Topic8\", \"Topic8\", \"Topic8\", \"Topic8\", \"Topic8\", \"Topic8\", \"Topic8\", \"Topic8\", \"Topic8\", \"Topic8\", \"Topic8\", \"Topic8\", \"Topic8\", \"Topic8\", \"Topic8\", \"Topic8\", \"Topic8\", \"Topic8\", \"Topic8\", \"Topic8\", \"Topic8\", \"Topic8\", \"Topic8\", \"Topic8\", \"Topic8\", \"Topic8\", \"Topic8\", \"Topic8\", \"Topic8\", \"Topic8\", \"Topic8\", \"Topic8\", \"Topic8\", \"Topic8\", \"Topic8\", \"Topic8\", \"Topic8\", \"Topic8\", \"Topic9\", \"Topic9\", \"Topic9\", \"Topic9\", \"Topic9\", \"Topic9\", \"Topic9\", \"Topic9\", \"Topic9\", \"Topic9\", \"Topic9\", \"Topic9\", \"Topic9\", \"Topic9\", \"Topic9\", \"Topic9\", \"Topic9\", \"Topic9\", \"Topic9\", \"Topic9\", \"Topic9\", \"Topic9\", \"Topic9\", \"Topic9\", \"Topic9\", \"Topic9\", \"Topic9\", \"Topic9\", \"Topic9\", \"Topic9\", \"Topic9\", \"Topic9\", \"Topic9\", \"Topic9\", \"Topic9\", \"Topic9\", \"Topic9\", \"Topic9\", \"Topic9\", \"Topic9\", \"Topic9\", \"Topic9\", \"Topic9\", \"Topic9\", \"Topic9\", \"Topic9\", \"Topic9\", \"Topic9\", \"Topic9\", \"Topic9\", \"Topic9\", \"Topic9\", \"Topic9\", \"Topic9\", \"Topic9\", \"Topic9\", \"Topic9\", \"Topic9\", \"Topic9\", \"Topic9\", \"Topic9\", \"Topic9\", \"Topic9\", \"Topic9\", \"Topic9\", \"Topic9\", \"Topic9\", \"Topic9\", \"Topic9\", \"Topic9\", \"Topic9\", \"Topic9\", \"Topic9\", \"Topic9\", \"Topic9\", \"Topic9\", \"Topic9\", \"Topic10\", \"Topic10\", \"Topic10\", \"Topic10\", \"Topic10\", \"Topic10\", \"Topic10\", \"Topic10\", \"Topic10\", \"Topic10\", \"Topic10\", \"Topic10\", \"Topic10\", \"Topic10\", \"Topic10\", \"Topic10\", \"Topic10\", \"Topic10\", \"Topic10\", \"Topic10\", \"Topic10\", \"Topic10\", \"Topic10\", \"Topic10\", \"Topic10\", \"Topic10\", \"Topic10\", \"Topic10\", \"Topic10\", \"Topic10\", \"Topic10\", \"Topic10\", \"Topic10\", \"Topic10\", \"Topic10\", \"Topic10\", \"Topic10\", \"Topic10\", \"Topic10\", \"Topic10\", \"Topic10\", \"Topic10\", \"Topic10\", \"Topic10\", \"Topic10\", \"Topic10\", \"Topic10\", \"Topic10\", \"Topic10\", \"Topic10\", \"Topic10\", \"Topic10\", \"Topic10\", \"Topic10\", \"Topic10\", \"Topic10\", \"Topic10\", \"Topic10\", \"Topic10\", \"Topic10\", \"Topic10\", \"Topic10\", \"Topic10\", \"Topic10\", \"Topic10\", \"Topic10\", \"Topic10\", \"Topic10\", \"Topic10\", \"Topic10\", \"Topic10\", \"Topic10\", \"Topic10\", \"Topic10\", \"Topic10\", \"Topic10\", \"Topic10\", \"Topic10\", \"Topic10\", \"Topic10\", \"Topic11\", \"Topic11\", \"Topic11\", \"Topic11\", \"Topic11\", \"Topic11\", \"Topic11\", \"Topic11\", \"Topic11\", \"Topic11\", \"Topic11\", \"Topic11\", \"Topic11\", \"Topic11\", \"Topic11\", \"Topic11\", \"Topic11\", \"Topic11\", \"Topic11\", \"Topic11\", \"Topic11\", \"Topic11\", \"Topic11\", \"Topic11\", \"Topic11\", \"Topic11\", \"Topic11\", \"Topic11\", \"Topic11\", \"Topic11\", \"Topic11\", \"Topic11\", \"Topic11\", \"Topic11\", \"Topic11\", \"Topic11\", \"Topic11\", \"Topic11\", \"Topic11\", \"Topic11\", \"Topic11\", \"Topic11\", \"Topic11\", \"Topic11\", \"Topic11\", \"Topic11\", \"Topic11\", \"Topic11\", \"Topic11\", \"Topic11\", \"Topic11\", \"Topic11\", \"Topic11\", \"Topic11\", \"Topic11\", \"Topic11\", \"Topic11\", \"Topic11\", \"Topic11\", \"Topic11\", \"Topic11\", \"Topic11\", \"Topic11\", \"Topic11\", \"Topic11\", \"Topic11\", \"Topic11\", \"Topic11\", \"Topic11\", \"Topic11\", \"Topic11\", \"Topic11\", \"Topic11\", \"Topic11\", \"Topic11\", \"Topic12\", \"Topic12\", \"Topic12\", \"Topic12\", \"Topic12\", \"Topic12\", \"Topic12\", \"Topic12\", \"Topic12\", \"Topic12\", \"Topic12\", \"Topic12\", \"Topic12\", \"Topic12\", \"Topic12\", \"Topic12\", \"Topic12\", \"Topic12\", \"Topic12\", \"Topic12\", \"Topic12\", \"Topic12\", \"Topic12\", \"Topic12\", \"Topic12\", \"Topic12\", \"Topic12\", \"Topic12\", \"Topic12\", \"Topic12\", \"Topic12\", \"Topic12\", \"Topic12\", \"Topic12\", \"Topic12\", \"Topic12\", \"Topic12\", \"Topic12\", \"Topic12\", \"Topic12\", \"Topic12\", \"Topic12\", \"Topic12\", \"Topic12\", \"Topic12\", \"Topic12\", \"Topic12\", \"Topic12\", \"Topic12\", \"Topic12\", \"Topic12\", \"Topic12\", \"Topic12\", \"Topic12\", \"Topic12\", \"Topic12\", \"Topic12\", \"Topic12\", \"Topic12\", \"Topic12\", \"Topic12\", \"Topic12\", \"Topic12\", \"Topic13\", \"Topic13\", \"Topic13\", \"Topic13\", \"Topic13\", \"Topic13\", \"Topic13\", \"Topic13\", \"Topic13\", \"Topic13\", \"Topic13\", \"Topic13\", \"Topic13\", \"Topic13\", \"Topic13\", \"Topic13\", \"Topic13\", \"Topic13\", \"Topic13\", \"Topic13\", \"Topic13\", \"Topic13\", \"Topic13\", \"Topic13\", \"Topic13\", \"Topic13\", \"Topic13\", \"Topic13\", \"Topic13\", \"Topic13\", \"Topic13\", \"Topic13\", \"Topic13\", \"Topic13\", \"Topic13\", \"Topic13\", \"Topic13\", \"Topic13\", \"Topic13\", \"Topic13\", \"Topic13\", \"Topic13\", \"Topic13\", \"Topic13\", \"Topic13\", \"Topic13\", \"Topic13\", \"Topic13\", \"Topic13\", \"Topic13\", \"Topic13\", \"Topic13\", \"Topic13\", \"Topic13\", \"Topic13\", \"Topic13\", \"Topic13\", \"Topic13\", \"Topic13\", \"Topic13\", \"Topic13\", \"Topic13\", \"Topic13\", \"Topic13\", \"Topic13\", \"Topic13\", \"Topic13\", \"Topic13\", \"Topic13\", \"Topic13\", \"Topic13\", \"Topic13\", \"Topic13\", \"Topic14\", \"Topic14\", \"Topic14\", \"Topic14\", \"Topic14\", \"Topic14\", \"Topic14\", \"Topic14\", \"Topic14\", \"Topic14\", \"Topic14\", \"Topic14\", \"Topic14\", \"Topic14\", \"Topic14\", \"Topic14\", \"Topic14\", \"Topic14\", \"Topic14\", \"Topic14\", \"Topic14\", \"Topic14\", \"Topic14\", \"Topic14\", \"Topic14\", \"Topic14\", \"Topic14\", \"Topic14\", \"Topic14\", \"Topic14\", \"Topic14\", \"Topic14\", \"Topic14\", \"Topic14\", \"Topic14\", \"Topic14\", \"Topic14\", \"Topic14\", \"Topic14\", \"Topic14\", \"Topic14\", \"Topic14\", \"Topic14\", \"Topic14\", \"Topic14\", \"Topic14\", \"Topic14\", \"Topic14\", \"Topic14\", \"Topic14\", \"Topic14\", \"Topic14\", \"Topic14\", \"Topic14\", \"Topic14\", \"Topic14\", \"Topic14\", \"Topic14\", \"Topic14\", \"Topic14\", \"Topic14\", \"Topic14\", \"Topic14\", \"Topic14\", \"Topic14\", \"Topic14\", \"Topic14\", \"Topic14\", \"Topic14\", \"Topic14\", \"Topic14\", \"Topic14\", \"Topic15\", \"Topic15\", \"Topic15\", \"Topic15\", \"Topic15\", \"Topic15\", \"Topic15\", \"Topic15\", \"Topic15\", \"Topic15\", \"Topic15\", \"Topic15\", \"Topic15\", \"Topic15\", \"Topic15\", \"Topic15\", \"Topic15\", \"Topic15\", \"Topic15\", \"Topic15\", \"Topic15\", \"Topic15\", \"Topic15\", \"Topic15\", \"Topic15\", \"Topic15\", \"Topic15\", \"Topic15\", \"Topic15\", \"Topic15\", \"Topic15\", \"Topic15\", \"Topic15\", \"Topic15\", \"Topic15\", \"Topic15\", \"Topic15\", \"Topic15\", \"Topic15\", \"Topic15\", \"Topic15\", \"Topic15\", \"Topic15\", \"Topic15\", \"Topic15\", \"Topic15\", \"Topic15\", \"Topic15\", \"Topic15\", \"Topic15\", \"Topic15\", \"Topic15\", \"Topic15\", \"Topic15\", \"Topic15\", \"Topic15\", \"Topic15\", \"Topic15\", \"Topic15\", \"Topic15\", \"Topic15\", \"Topic15\", \"Topic15\", \"Topic15\", \"Topic15\", \"Topic15\", \"Topic15\", \"Topic15\", \"Topic16\", \"Topic16\", \"Topic16\", \"Topic16\", \"Topic16\", \"Topic16\", \"Topic16\", \"Topic16\", \"Topic16\", \"Topic16\", \"Topic16\", \"Topic16\", \"Topic16\", \"Topic16\", \"Topic16\", \"Topic16\", \"Topic16\", \"Topic16\", \"Topic16\", \"Topic16\", \"Topic16\", \"Topic16\", \"Topic16\", \"Topic16\", \"Topic16\", \"Topic16\", \"Topic16\", \"Topic16\", \"Topic16\", \"Topic16\", \"Topic16\", \"Topic16\", \"Topic16\", \"Topic16\", \"Topic16\", \"Topic16\", \"Topic16\", \"Topic16\", \"Topic16\", \"Topic16\", \"Topic16\", \"Topic16\", \"Topic16\", \"Topic16\", \"Topic16\", \"Topic16\", \"Topic16\", \"Topic16\", \"Topic16\", \"Topic16\", \"Topic16\", \"Topic16\", \"Topic16\", \"Topic16\", \"Topic16\", \"Topic16\", \"Topic16\", \"Topic16\", \"Topic16\", \"Topic16\", \"Topic16\", \"Topic17\", \"Topic17\", \"Topic17\", \"Topic17\", \"Topic17\", \"Topic17\", \"Topic17\", \"Topic17\", \"Topic17\", \"Topic17\", \"Topic17\", \"Topic17\", \"Topic17\", \"Topic17\", \"Topic17\", \"Topic17\", \"Topic17\", \"Topic17\", \"Topic17\", \"Topic17\", \"Topic17\", \"Topic17\", \"Topic17\", \"Topic17\", \"Topic17\", \"Topic17\", \"Topic17\", \"Topic17\", \"Topic17\", \"Topic17\", \"Topic17\", \"Topic17\", \"Topic17\", \"Topic17\", \"Topic17\", \"Topic17\", \"Topic17\", \"Topic17\", \"Topic17\", \"Topic17\", \"Topic17\", \"Topic17\", \"Topic17\", \"Topic17\", \"Topic17\", \"Topic17\", \"Topic17\", \"Topic17\", \"Topic17\", \"Topic17\", \"Topic17\", \"Topic17\", \"Topic17\", \"Topic17\", \"Topic17\", \"Topic17\", \"Topic17\", \"Topic17\", \"Topic17\", \"Topic17\", \"Topic17\", \"Topic17\", \"Topic18\", \"Topic18\", \"Topic18\", \"Topic18\", \"Topic18\", \"Topic18\", \"Topic18\", \"Topic18\", \"Topic18\", \"Topic18\", \"Topic18\", \"Topic18\", \"Topic18\", \"Topic18\", \"Topic18\", \"Topic18\", \"Topic18\", \"Topic18\", \"Topic18\", \"Topic18\", \"Topic18\", \"Topic18\", \"Topic18\", \"Topic18\", \"Topic18\", \"Topic18\", \"Topic18\", \"Topic18\", \"Topic18\", \"Topic18\", \"Topic18\", \"Topic18\", \"Topic18\", \"Topic18\", \"Topic18\", \"Topic18\", \"Topic18\", \"Topic18\", \"Topic18\", \"Topic18\", \"Topic18\", \"Topic18\", \"Topic18\", \"Topic18\", \"Topic18\", \"Topic18\", \"Topic18\", \"Topic18\", \"Topic18\", \"Topic18\", \"Topic18\", \"Topic18\", \"Topic18\", \"Topic18\", \"Topic18\", \"Topic18\", \"Topic18\", \"Topic18\", \"Topic18\", \"Topic18\", \"Topic18\", \"Topic18\", \"Topic18\", \"Topic18\", \"Topic18\", \"Topic18\", \"Topic18\", \"Topic19\", \"Topic19\", \"Topic19\", \"Topic19\", \"Topic19\", \"Topic19\", \"Topic19\", \"Topic19\", \"Topic19\", \"Topic19\", \"Topic19\", \"Topic19\", \"Topic19\", \"Topic19\", \"Topic19\", \"Topic19\", \"Topic19\", \"Topic19\", \"Topic19\", \"Topic19\", \"Topic19\", \"Topic19\", \"Topic19\", \"Topic19\", \"Topic19\", \"Topic19\", \"Topic19\", \"Topic19\", \"Topic19\", \"Topic19\", \"Topic19\", \"Topic19\", \"Topic19\", \"Topic19\", \"Topic19\", \"Topic19\", \"Topic19\", \"Topic19\", \"Topic19\", \"Topic19\", \"Topic19\", \"Topic19\", \"Topic19\", \"Topic19\", \"Topic19\", \"Topic19\", \"Topic19\", \"Topic19\", \"Topic19\", \"Topic19\", \"Topic19\", \"Topic19\", \"Topic19\", \"Topic19\", \"Topic19\", \"Topic19\", \"Topic20\", \"Topic20\", \"Topic20\", \"Topic20\", \"Topic20\", \"Topic20\", \"Topic20\", \"Topic20\", \"Topic20\", \"Topic20\", \"Topic20\", \"Topic20\", \"Topic20\", \"Topic20\", \"Topic20\", \"Topic20\", \"Topic20\", \"Topic20\", \"Topic20\", \"Topic20\", \"Topic20\", \"Topic20\", \"Topic20\", \"Topic20\", \"Topic20\", \"Topic20\", \"Topic20\", \"Topic20\", \"Topic20\", \"Topic20\", \"Topic20\", \"Topic20\", \"Topic20\", \"Topic20\", \"Topic20\", \"Topic20\", \"Topic20\", \"Topic20\", \"Topic20\", \"Topic20\", \"Topic20\", \"Topic20\", \"Topic20\", \"Topic20\", \"Topic20\", \"Topic20\", \"Topic20\", \"Topic20\", \"Topic20\", \"Topic20\", \"Topic20\", \"Topic20\", \"Topic20\", \"Topic20\", \"Topic20\", \"Topic20\", \"Topic20\", \"Topic20\", \"Topic20\", \"Topic20\", \"Topic20\", \"Topic20\", \"Topic20\", \"Topic20\"], \"logprob\": [30.0, 29.0, 28.0, 27.0, 26.0, 25.0, 24.0, 23.0, 22.0, 21.0, 20.0, 19.0, 18.0, 17.0, 16.0, 15.0, 14.0, 13.0, 12.0, 11.0, 10.0, 9.0, 8.0, 7.0, 6.0, 5.0, 4.0, 3.0, 2.0, 1.0, -6.4319000244140625, -6.556000232696533, -6.7144999504089355, -6.971499919891357, -6.992499828338623, -7.348700046539307, -7.532299995422363, -7.7357001304626465, -7.794899940490723, -7.813199996948242, -7.8333001136779785, -7.845300197601318, -7.862299919128418, -7.862299919128418, -7.907700061798096, -7.929500102996826, -8.008600234985352, -8.022299766540527, -8.034700393676758, -8.04990005493164, -8.08549976348877, -8.09749984741211, -8.10319995880127, -8.116499900817871, -7.310200214385986, -8.1427001953125, -8.16759967803955, -8.180399894714355, -8.218299865722656, -8.231300354003906, -7.086299896240234, -7.452199935913086, -5.292900085449219, -6.065800189971924, -6.716800212860107, -7.046999931335449, -5.89900016784668, -7.0, -5.220699787139893, -6.98199987411499, -5.947500228881836, -6.835700035095215, -4.86329984664917, -7.118299961090088, -4.324900150299072, -5.6596999168396, -6.513800144195557, -5.319699764251709, -4.287499904632568, -5.80620002746582, -4.671899795532227, -6.061299800872803, -4.925300121307373, -5.611800193786621, -5.02370023727417, -4.772900104522705, -4.921500205993652, -5.111100196838379, -5.766499996185303, -4.397500038146973, -4.364799976348877, -4.328800201416016, -4.73799991607666, -4.888999938964844, -5.542500019073486, -4.78439998626709, -5.311800003051758, -5.2571001052856445, -5.282800197601318, -5.186500072479248, -5.147900104522705, -4.989099979400635, -5.517899990081787, -5.3028998374938965, -5.456299781799316, -5.442399978637695, -5.5416998863220215, -5.912899971008301, -6.160600185394287, -6.271100044250488, -6.293300151824951, -6.469799995422363, -6.751399993896484, -6.853099822998047, -6.923099994659424, -6.953999996185303, -7.169300079345703, -7.220699787139893, -7.439000129699707, -7.465799808502197, -7.5295000076293945, -7.555200099945068, -7.562099933624268, -7.5792999267578125, -6.332699775695801, -7.581600189208984, -7.583799839019775, -7.601200103759766, -7.660699844360352, -7.669899940490723, -7.744699954986572, -7.758200168609619, -7.763500213623047, -7.799200057983398, -7.80810022354126, -7.811800003051758, -7.8206000328063965, -6.682700157165527, -6.445700168609619, -7.183300018310547, -5.291999816894531, -7.3302998542785645, -5.872799873352051, -4.8917999267578125, -5.695899963378906, -6.926799774169922, -7.102200031280518, -5.848599910736084, -6.381400108337402, -7.2052001953125, -5.620699882507324, -6.273399829864502, -6.607399940490723, -6.69320011138916, -6.337800025939941, -6.2683000564575195, -5.637599945068359, -4.8018999099731445, -5.420499801635742, -5.823400020599365, -5.717400074005127, -5.834099769592285, -5.290999889373779, -5.7596001625061035, -5.145299911499023, -5.642300128936768, -4.4481000900268555, -4.441100120544434, -5.153800010681152, -4.861400127410889, -5.732699871063232, -4.755199909210205, -4.923900127410889, -5.472799777984619, -5.265399932861328, -5.269899845123291, -5.360000133514404, -5.239799976348877, -5.3155999183654785, -5.6656999588012695, -5.339700222015381, -5.406400203704834, -5.638500213623047, -5.629199981689453, -5.657400131225586, -6.101399898529053, -6.8755998611450195, -6.938799858093262, -7.136499881744385, -7.150000095367432, -7.294899940490723, -7.325399875640869, -7.32919979095459, -7.397500038146973, -7.41349983215332, -7.470600128173828, -7.492099761962891, -7.531799793243408, -7.560500144958496, -7.670599937438965, -7.6732001304626465, -7.682400226593018, -7.716700077056885, -7.734899997711182, -7.737500190734863, -7.747700214385986, -7.755199909210205, -7.769000053405762, -7.772500038146973, -7.785999774932861, -7.800000190734863, -7.810200214385986, -7.812099933624268, -7.8354997634887695, -7.853000164031982, -7.211599826812744, -7.471700191497803, -6.897799968719482, -7.229400157928467, -6.883900165557861, -6.696599960327148, -6.894700050354004, -7.385499954223633, -6.673900127410889, -6.865099906921387, -6.800300121307373, -5.94950008392334, -6.010700225830078, -6.981100082397461, -6.718400001525879, -5.960000038146973, -6.94950008392334, -5.008699893951416, -4.504499912261963, -5.23199987411499, -6.67519998550415, -4.192299842834473, -5.989099979400635, -6.085599899291992, -5.6194000244140625, -6.0833001136779785, -5.823599815368652, -4.868299961090088, -5.3403000831604, -6.288700103759766, -4.924799919128418, -5.747399806976318, -4.39139986038208, -4.633399963378906, -5.508900165557861, -5.369800090789795, -5.412099838256836, -5.468400001525879, -4.644100189208984, -4.878699779510498, -5.509200096130371, -5.5279998779296875, -4.89169979095459, -5.241700172424316, -5.0914998054504395, -5.411600112915039, -5.410099983215332, -4.969799995422363, -5.343999862670898, -5.411600112915039, -5.576900005340576, -5.639800071716309, -5.652500152587891, -5.628799915313721, -6.812600135803223, -6.893499851226807, -6.9704999923706055, -6.9832000732421875, -7.0528998374938965, -7.162700176239014, -7.234399795532227, -7.247499942779541, -7.277699947357178, -7.297699928283691, -7.322199821472168, -7.348499774932861, -7.366799831390381, -7.386899948120117, -7.38730001449585, -7.387400150299072, -7.416200160980225, -7.420899868011475, -7.422399997711182, -7.432400226593018, -7.479700088500977, -7.491700172424316, -7.499199867248535, -7.523799896240234, -7.541999816894531, -7.55810022354126, -7.574399948120117, -7.588699817657471, -7.598400115966797, -7.598899841308594, -6.7515997886657715, -5.986199855804443, -6.709700107574463, -7.125, -6.793399810791016, -7.183899879455566, -6.517499923706055, -5.729899883270264, -6.101900100708008, -4.58050012588501, -6.1321001052856445, -4.97629976272583, -6.006499767303467, -7.163099765777588, -5.910999774932861, -5.275599956512451, -4.958199977874756, -5.136899948120117, -5.263700008392334, -4.75629997253418, -4.908999919891357, -5.5096001625061035, -5.948299884796143, -4.830900192260742, -5.242000102996826, -6.501500129699707, -6.735899925231934, -6.471099853515625, -5.80109977722168, -5.6971001625061035, -4.88670015335083, -5.671599864959717, -5.444799900054932, -5.581200122833252, -5.190499782562256, -5.434000015258789, -4.89109992980957, -5.852799892425537, -5.468100070953369, -5.426400184631348, -5.374899864196777, -5.576000213623047, -5.441199779510498, -5.794600009918213, -5.736000061035156, -5.839600086212158, -5.782599925994873, -5.824900150299072, -6.446000099182129, -6.482999801635742, -6.834199905395508, -7.046000003814697, -7.1132001876831055, -7.168799877166748, -7.173399925231934, -7.181399822235107, -7.207200050354004, -7.283599853515625, -7.370800018310547, -7.39139986038208, -7.396500110626221, -7.428199768066406, -7.439199924468994, -7.4781999588012695, -7.514500141143799, -7.5243000984191895, -7.526599884033203, -7.53000020980835, -7.554299831390381, -7.574399948120117, -7.590199947357178, -7.605999946594238, -7.646299839019775, -7.660099983215332, -7.665500164031982, -7.670199871063232, -7.687900066375732, -7.688600063323975, -6.513400077819824, -7.220799922943115, -7.506400108337402, -6.724800109863281, -7.487199783325195, -5.385200023651123, -5.763199806213379, -6.594399929046631, -6.209700107574463, -7.280700206756592, -4.714799880981445, -4.730800151824951, -6.6184000968933105, -4.285099983215332, -4.609399795532227, -6.866199970245361, -4.820899963378906, -4.759500026702881, -4.499800205230713, -4.136199951171875, -4.626200199127197, -6.107100009918213, -4.798299789428711, -5.60890007019043, -4.409599781036377, -5.192399978637695, -4.7378997802734375, -4.482699871063232, -5.392499923706055, -4.857900142669678, -6.098599910736084, -5.380799770355225, -5.327400207519531, -5.776500225067139, -5.1031999588012695, -5.414999961853027, -5.257599830627441, -5.3094000816345215, -5.279699802398682, -5.517300128936768, -5.75570011138916, -5.580399990081787, -5.624800205230713, -5.529900074005127, -5.595699787139893, -4.69950008392334, -4.894499778747559, -5.0005998611450195, -5.416500091552734, -5.741000175476074, -5.7642998695373535, -6.558499813079834, -6.749000072479248, -6.8744001388549805, -6.942399978637695, -7.062900066375732, -7.102499961853027, -7.111999988555908, -7.14109992980957, -7.220399856567383, -7.282700061798096, -7.296800136566162, -7.321000099182129, -7.366600036621094, -7.3719000816345215, -7.3821001052856445, -7.422100067138672, -7.427199840545654, -7.436999797821045, -7.462500095367432, -7.467800140380859, -7.468200206756592, -7.491600036621094, -7.5, -7.520100116729736, -6.987199783325195, -3.7778000831604004, -5.203100204467773, -4.586699962615967, -4.194499969482422, -6.69890022277832, -4.842100143432617, -5.613699913024902, -6.549200057983398, -4.184000015258789, -6.978700160980225, -5.098199844360352, -6.80810022354126, -5.164700031280518, -6.144100189208984, -5.0395002365112305, -4.987500190734863, -4.696400165557861, -5.8368000984191895, -5.492800235748291, -4.604700088500977, -6.08519983291626, -4.953400135040283, -5.066800117492676, -5.172900199890137, -5.384200096130371, -5.087399959564209, -4.106400012969971, -4.231900215148926, -5.438199996948242, -4.258200168609619, -4.720200061798096, -4.723800182342529, -5.083399772644043, -4.944699764251709, -5.091899871826172, -4.866300106048584, -5.0843000411987305, -4.8917999267578125, -4.910999774932861, -5.113699913024902, -5.162300109863281, -5.947999954223633, -6.262199878692627, -6.552499771118164, -6.68720006942749, -6.696400165557861, -6.728400230407715, -6.969299793243408, -7.151599884033203, -7.194300174713135, -7.271999835968018, -7.273600101470947, -7.2779998779296875, -7.282100200653076, -7.344200134277344, -7.34499979019165, -7.347400188446045, -7.35699987411499, -7.379799842834473, -7.391300201416016, -7.423500061035156, -7.455699920654297, -7.458099842071533, -7.491499900817871, -7.495999813079834, -7.513800144195557, -7.529900074005127, -7.560500144958496, -7.567200183868408, -7.607399940490723, -7.650400161743164, -7.13670015335083, -6.8541998863220215, -6.026000022888184, -6.901000022888184, -5.1859002113342285, -6.841599941253662, -6.205699920654297, -7.013800144195557, -5.55649995803833, -4.417699813842773, -5.793300151824951, -4.770100116729736, -5.474699974060059, -4.644899845123291, -5.328999996185303, -4.008399963378906, -3.8533999919891357, -6.524199962615967, -5.407400131225586, -5.666800022125244, -5.686299800872803, -6.063499927520752, -3.6305999755859375, -5.696800231933594, -4.563700199127197, -5.548699855804443, -5.1869001388549805, -5.267000198364258, -4.511300086975098, -5.270699977874756, -5.288700103759766, -4.210000038146973, -4.872499942779541, -5.448999881744385, -4.69980001449585, -4.892899990081787, -5.26669979095459, -5.406700134277344, -5.029300212860107, -4.966000080108643, -5.292300224304199, -4.825699806213379, -4.922500133514404, -5.022600173950195, -4.84630012512207, -5.109399795532227, -4.73859977722168, -4.942299842834473, -4.921999931335449, -5.013700008392334, -5.050899982452393, -5.2210001945495605, -5.140999794006348, -6.361700057983398, -6.387400150299072, -6.42080020904541, -6.617099761962891, -6.6280999183654785, -6.638299942016602, -6.830999851226807, -6.890600204467773, -7.01200008392334, -7.060299873352051, -7.065700054168701, -7.040500164031982, -7.111199855804443, -7.186299800872803, -7.1930999755859375, -7.1956000328063965, -7.199100017547607, -7.246099948883057, -7.261199951171875, -7.2881999015808105, -7.291200160980225, -7.333499908447266, -7.342100143432617, -7.353499889373779, -7.365699768066406, -7.375, -7.3815999031066895, -7.396399974822998, -7.408999919891357, -7.411099910736084, -6.257199764251709, -6.229800224304199, -5.7881999015808105, -4.859899997711182, -6.846799850463867, -4.683300018310547, -6.614999771118164, -4.048600196838379, -7.071100234985352, -6.213500022888184, -6.650700092315674, -6.250100135803223, -6.788099765777588, -6.357800006866455, -5.625800132751465, -6.30709981918335, -4.637400150299072, -6.571800231933594, -5.89739990234375, -5.019400119781494, -4.851900100708008, -6.531400203704834, -4.750500202178955, -4.355299949645996, -4.953400135040283, -4.802800178527832, -5.160799980163574, -4.574699878692627, -5.172500133514404, -4.981900215148926, -4.9456000328063965, -4.9781999588012695, -5.356599807739258, -5.283699989318848, -5.4471001625061035, -5.3018999099731445, -5.390100002288818, -5.623300075531006, -5.730199813842773, -5.350399971008301, -5.566699981689453, -5.581500053405762, -5.7947998046875, -5.637800216674805, -6.353300094604492, -6.548399925231934, -6.549099922180176, -6.567699909210205, -6.749499797821045, -6.799900054931641, -6.841000080108643, -6.841899871826172, -6.954899787902832, -7.007999897003174, -7.010499954223633, -7.045400142669678, -7.074100017547607, -7.095600128173828, -7.103799819946289, -7.104000091552734, -7.106900215148926, -7.116799831390381, -7.188700199127197, -7.204599857330322, -7.249599933624268, -7.2947001457214355, -7.317699909210205, -7.321800231933594, -7.323200225830078, -7.353700160980225, -7.377600193023682, -7.37939977645874, -7.38040018081665, -7.386000156402588, -6.580599784851074, -7.0441999435424805, -6.862199783325195, -7.124899864196777, -6.248300075531006, -6.339600086212158, -6.808899879455566, -6.8460001945495605, -6.557499885559082, -5.529099941253662, -6.518799781799316, -5.462399959564209, -4.710899829864502, -5.401000022888184, -6.2291998863220215, -5.416500091552734, -6.404399871826172, -4.835400104522705, -4.935699939727783, -6.267199993133545, -6.139999866485596, -4.468699932098389, -5.340000152587891, -4.625500202178955, -4.932000160217285, -5.662300109863281, -5.782400131225586, -5.6946001052856445, -6.132599830627441, -6.008999824523926, -5.577000141143799, -5.849699974060059, -5.776000022888184, -5.782800197601318, -5.694799900054932, -5.6803998947143555, -6.103799819946289, -6.082499980926514, -5.889900207519531, -5.889699935913086, -5.769599914550781, -5.8403000831604, -5.861700057983398, -5.956699848175049, -6.011000156402588, -6.089000225067139, -6.083799839019775, -6.222700119018555, -6.301799774169922, -6.685100078582764, -6.832300186157227, -6.885700225830078, -6.908599853515625, -6.9257001876831055, -7.0177998542785645, -7.025100231170654, -7.096700191497803, -7.117300033569336, -7.126299858093262, -7.165800094604492, -7.1834001541137695, -7.242199897766113, -7.249499797821045, -7.295300006866455, -7.301400184631348, -7.303599834442139, -7.314300060272217, -7.315899848937988, -7.339200019836426, -7.34499979019165, -7.348499774932861, -7.352799892425537, -7.371600151062012, -7.385799884796143, -7.3958001136779785, -7.404900074005127, -7.408100128173828, -6.369999885559082, -6.685500144958496, -5.59660005569458, -4.99560022354126, -6.8119001388549805, -6.396500110626221, -6.331299781799316, -4.915299892425537, -6.0507001876831055, -6.3572998046875, -5.619900226593018, -5.799799919128418, -4.751800060272217, -4.355800151824951, -5.72790002822876, -6.649799823760986, -5.932700157165527, -6.093599796295166, -5.992400169372559, -5.029099941253662, -5.0258002281188965, -6.43120002746582, -6.214099884033203, -5.026400089263916, -5.310699939727783, -5.790200233459473, -4.8755998611450195, -5.172299861907959, -5.541299819946289, -5.496099948883057, -5.418499946594238, -4.632199764251709, -5.236599922180176, -4.499599933624268, -5.3007001876831055, -4.622700214385986, -5.484899997711182, -5.027599811553955, -5.489699840545654, -5.021500110626221, -5.456399917602539, -5.499000072479248, -5.16540002822876, -5.480800151824951, -5.311399936676025, -5.377799987792969, -5.419099807739258, -5.386300086975098, -5.407100200653076, -5.4558000564575195, -5.685500144958496, -6.393199920654297, -6.421199798583984, -6.429699897766113, -6.513999938964844, -6.55649995803833, -6.587900161743164, -6.6956000328063965, -6.701300144195557, -6.741199970245361, -6.774199962615967, -6.811100006103516, -6.819799900054932, -6.866099834442139, -6.9120001792907715, -6.96150016784668, -7.00629997253418, -7.0121002197265625, -7.017899990081787, -7.024799823760986, -7.032599925994873, -7.045899868011475, -7.10129976272583, -7.123199939727783, -7.138700008392334, -7.142899990081787, -7.146399974822998, -7.158400058746338, -7.161600112915039, -7.165299892425537, -6.435999870300293, -5.2769999504089355, -6.843100070953369, -6.0742998123168945, -6.585999965667725, -6.158699989318848, -6.549099922180176, -6.685100078582764, -6.255300045013428, -5.830699920654297, -5.746699810028076, -6.248199939727783, -6.064199924468994, -6.676400184631348, -6.38100004196167, -6.670000076293945, -5.458199977874756, -5.73199987411499, -5.541500091552734, -6.320199966430664, -5.092100143432617, -5.936299800872803, -4.784900188446045, -5.3592000007629395, -5.520999908447266, -5.495699882507324, -6.217199802398682, -5.489999771118164, -5.794300079345703, -5.953400135040283, -5.579699993133545, -5.755499839782715, -5.69890022277832, -5.800099849700928, -5.932700157165527, -5.683800220489502, -5.792399883270264, -6.125199794769287, -5.939899921417236, -5.849699974060059, -5.982600212097168, -5.796299934387207, -5.803599834442139, -5.939599990844727, -5.952600002288818, -3.6821000576019287, -4.335899829864502, -4.538099765777588, -4.940100193023682, -5.408299922943115, -5.856200218200684, -5.957600116729736, -5.993299961090088, -6.406400203704834, -6.459099769592285, -6.472599983215332, -6.590400218963623, -6.628699779510498, -6.669300079345703, -6.71560001373291, -6.7708001136779785, -6.809000015258789, -6.842400074005127, -6.863900184631348, -6.940299987792969, -7.014100074768066, -7.03000020980835, -7.096199989318848, -7.113699913024902, -7.125, -7.15339994430542, -7.159800052642822, -7.160200119018555, -7.17549991607666, -7.1809000968933105, -5.79449987411499, -3.677999973297119, -5.730299949645996, -6.661600112915039, -6.606599807739258, -4.948500156402588, -4.139800071716309, -6.665800094604492, -6.090799808502197, -4.341599941253662, -5.813399791717529, -5.142199993133545, -5.490799903869629, -4.623499870300293, -5.448200225830078, -4.403200149536133, -5.103000164031982, -5.747000217437744, -5.434700012207031, -5.339099884033203, -5.840099811553955, -4.836400032043457, -4.727399826049805, -5.521599769592285, -5.185500144958496, -4.948800086975098, -5.311699867248535, -5.350599765777588, -5.269400119781494, -5.362500190734863, -5.566999912261963, -5.687399864196777, -5.742400169372559, -4.342800140380859, -5.369100093841553, -6.280399799346924, -6.311299800872803, -6.408100128173828, -6.439000129699707, -6.468599796295166, -6.57450008392334, -6.634699821472168, -6.658899784088135, -6.712399959564209, -6.7221999168396, -6.823500156402588, -6.823699951171875, -6.837299823760986, -6.841599941253662, -6.853099822998047, -6.863800048828125, -6.907400131225586, -6.921000003814697, -6.941199779510498, -6.972099781036377, -6.989699840545654, -6.993100166320801, -7.017600059509277, -7.02839994430542, -7.047399997711182, -7.049900054931641, -7.050899982452393, -7.081500053405762, -4.846199989318848, -5.782199859619141, -5.8180999755859375, -5.635000228881836, -6.4552001953125, -4.4953999519348145, -4.7434000968933105, -6.228899955749512, -5.9303998947143555, -5.737800121307373, -6.316299915313721, -5.499499797821045, -6.4903998374938965, -5.362100124359131, -5.918099880218506, -6.705999851226807, -5.472400188446045, -5.048799991607666, -5.859899997711182, -6.019100189208984, -6.083199977874756, -5.435999870300293, -6.272500038146973, -5.434599876403809, -5.090099811553955, -5.481200218200684, -4.721099853515625, -5.192800045013428, -4.820000171661377, -5.134099960327148, -5.498899936676025, -5.78000020980835, -5.210400104522705, -5.777500152587891, -5.39300012588501, -5.410600185394287, -5.6092000007629395, -5.6971001625061035, -5.4868998527526855, -5.737100124359131, -5.654200077056885, -5.729400157928467, -5.776000022888184, -5.1585001945495605, -5.1596999168396, -6.019700050354004, -6.179699897766113, -6.191100120544434, -6.316699981689453, -6.345600128173828, -6.356200218200684, -6.4421000480651855, -6.470099925994873, -6.530900001525879, -6.531499862670898, -6.562600135803223, -6.564499855041504, -6.618100166320801, -6.623499870300293, -6.681099891662598, -6.682199954986572, -6.706500053405762, -6.71120023727417, -6.865099906921387, -6.867499828338623, -6.875199794769287, -6.883200168609619, -6.906799793243408, -6.915599822998047, -6.940400123596191, -6.942399978637695, -6.953999996185303, -6.980000019073486, -5.480800151824951, -5.704699993133545, -6.071300029754639, -6.048500061035156, -6.25439977645874, -6.6149001121521, -6.117499828338623, -6.238500118255615, -6.136199951171875, -5.633900165557861, -4.920499801635742, -6.307700157165527, -5.014200210571289, -5.2565999031066895, -5.344399929046631, -4.451499938964844, -5.937699794769287, -4.543600082397461, -6.384099960327148, -5.9334001541137695, -4.964200019836426, -6.3007001876831055, -5.076000213623047, -4.879499912261963, -5.8520002365112305, -5.313199996948242, -5.648600101470947, -5.48859977722168, -5.7418999671936035, -5.780600070953369, -5.454899787902832, -5.4506001472473145, -5.623899936676025, -5.53410005569458, -5.565899848937988, -5.440000057220459, -5.677800178527832, -5.854300022125244, -5.740699768066406, -5.758200168609619, -5.821300029754639, -5.822500228881836, -4.856800079345703, -5.969399929046631, -6.0467000007629395, -6.234300136566162, -6.234499931335449, -6.3277997970581055, -6.3445000648498535, -6.3491997718811035, -6.555699825286865, -6.5625, -6.6269001960754395, -6.631100177764893, -6.6315999031066895, -6.686800003051758, -6.7108001708984375, -6.713699817657471, -6.791399955749512, -6.799200057983398, -6.837500095367432, -6.855100154876709, -6.865099906921387, -6.881400108337402, -6.898900032043457, -6.899600028991699, -6.901199817657471, -6.906099796295166, -6.912199974060059, -6.933599948883057, -6.94189977645874, -6.960000038146973, -5.606500148773193, -6.007999897003174, -3.847100019454956, -5.118899822235107, -5.133299827575684, -5.597499847412109, -5.672800064086914, -6.310999870300293, -6.1894001960754395, -5.1149001121521, -5.755499839782715, -6.348199844360352, -5.835100173950195, -6.494699954986572, -5.047699928283691, -6.183300018310547, -5.920300006866455, -4.762700080871582, -6.239099979400635, -5.849299907684326, -6.34060001373291, -4.836100101470947, -6.034599781036377, -5.377999782562256, -5.424699783325195, -5.427999973297119, -5.517899990081787, -5.733099937438965, -5.571100234985352, -5.744699954986572, -5.773600101470947, -5.663300037384033, -5.685699939727783, -5.672399997711182, -5.5879998207092285, -5.735300064086914, -5.7657999992370605, -5.95359992980957, -5.906000137329102, -6.133999824523926, -6.176700115203857, -6.180699825286865, -6.193399906158447, -6.347599983215332, -6.408400058746338, -6.442699909210205, -6.448800086975098, -6.46120023727417, -6.473100185394287, -6.483399868011475, -6.499300003051758, -6.514500141143799, -6.562600135803223, -6.573200225830078, -6.629000186920166, -6.632299900054932, -6.633900165557861, -6.639100074768066, -6.660299777984619, -6.665200233459473, -6.688199996948242, -6.701300144195557, -6.73960018157959, -6.7515997886657715, -6.799900054931641, -6.80019998550415, -6.806000232696533, -6.80620002746582, -6.377799987792969, -5.570300102233887, -4.783299922943115, -6.004700183868408, -6.239299774169922, -5.35890007019043, -5.575699806213379, -6.445799827575684, -6.132599830627441, -6.427199840545654, -5.443399906158447, -6.322000026702881, -5.4899001121521, -5.941800117492676, -4.794099807739258, -5.532899856567383, -5.861400127410889, -5.047999858856201, -5.364200115203857, -5.316500186920166, -6.13670015335083, -5.539000034332275, -6.17140007019043, -5.77839994430542, -5.882500171661377, -6.080599784851074, -6.080699920654297, -6.049799919128418, -6.066800117492676, -6.148799896240234, -6.190999984741211, -5.078700065612793, -5.612800121307373, -5.642300128936768, -5.670599937438965, -5.687099933624268, -5.907899856567383, -6.143799781799316, -6.186600208282471, -6.217199802398682, -6.217800140380859, -6.24429988861084, -6.2642998695373535, -6.281300067901611, -6.327700138092041, -6.361000061035156, -6.424900054931641, -6.467299938201904, -6.469399929046631, -6.47760009765625, -6.544600009918213, -6.57289981842041, -6.626500129699707, -6.663400173187256, -6.695300102233887, -6.701099872589111, -6.72760009765625, -6.746500015258789, -6.765500068664551, -6.766600131988525, -6.781400203704834, -6.384399890899658, -6.075699806213379, -6.152699947357178, -6.324999809265137, -6.218400001525879, -5.959000110626221, -5.916900157928467, -6.0671000480651855, -6.2399001121521, -4.949900150299072, -5.701700210571289, -5.572299957275391, -5.056600093841553, -5.548299789428711, -5.064899921417236, -5.246500015258789, -6.0030999183654785, -5.564899921417236, -5.890100002288818, -5.453499794006348, -5.963799953460693, -5.224899768829346, -5.450099945068359, -5.609600067138672, -5.575099945068359, -5.729899883270264, -5.7895002365112305, -5.879199981689453, -5.791800022125244, -5.929500102996826, -5.953400135040283, -5.986499786376953, -5.74370002746582, -5.780900001525879, -6.1834001541137695, -6.18720006942749, -6.2947998046875, -6.297100067138672, -6.3105998039245605, -6.313799858093262, -6.3694000244140625, -6.383800029754639, -6.401800155639648, -6.476099967956543, -6.4770002365112305, -6.486700057983398, -6.50439977645874, -6.506800174713135, -6.513000011444092, -6.549099922180176, -6.560200214385986, -6.60129976272583, -6.632500171661377, -6.642199993133545, -6.650199890136719, -6.693900108337402, -6.701200008392334, -6.726200103759766, -6.737400054931641, -6.316500186920166, -6.747700214385986, -6.748899936676025, -5.334499835968018, -6.073500156402588, -5.698400020599365, -6.276899814605713, -5.811399936676025, -5.990099906921387, -6.391499996185303, -5.5777997970581055, -5.32919979095459, -5.818999767303467, -5.422900199890137, -5.919000148773193, -6.227399826049805, -5.265399932861328, -6.098299980163574, -5.918600082397461, -5.931399822235107, -4.911799907684326, -6.173900127410889, -5.832499980926514, -6.0524001121521, -5.836299896240234, -5.245299816131592, -5.275100231170654, -5.683700084686279, -5.933499813079834, -6.115099906921387, -5.820199966430664, -5.62939977645874, -5.304500102996826, -5.548799991607666, -5.59630012512207, -5.772500038146973, -5.834199905395508, -5.832399845123291, -5.901400089263916, -5.945000171661377, -5.337900161743164, -5.566199779510498, -5.592800140380859, -5.604700088500977, -5.656400203704834, -5.707699775695801, -5.722700119018555, -5.831099987030029, -5.837900161743164, -5.900000095367432, -5.9720001220703125, -5.978499889373779, -5.982600212097168, -5.993100166320801, -6.146100044250488, -6.147600173950195, -6.156899929046631, -6.171800136566162, -6.203800201416016, -6.23390007019043, -6.271399974822998, -6.3094000816345215, -6.309700012207031, -6.330900192260742, -6.341599941253662, -6.365699768066406, -6.378699779510498, -6.38040018081665, -6.399199962615967, -6.401599884033203, -5.89900016784668, -5.200099945068359, -6.042799949645996, -5.8007001876831055, -6.068299770355225, -5.76639986038208, -4.524799823760986, -4.779099941253662, -5.3769001960754395, -5.678199768066406, -5.613399982452393, -5.629300117492676, -5.532400131225586, -5.85830020904541, -5.6880998611450195, -6.033400058746338, -5.498300075531006, -5.3221001625061035, -5.452199935913086, -5.844099998474121, -5.656799793243408, -5.880099773406982, -5.875899791717529, -5.806000232696533, -5.80049991607666, -5.8566999435424805, -5.841700077056885, -5.945300102233887, -6.088200092315674, -6.1031999588012695, -6.1230998039245605, -6.186699867248535, -6.228300094604492, -6.241399765014648, -6.327600002288818, -6.3815999031066895, -6.419300079345703, -6.420000076293945, -6.434899806976318, -6.450500011444092, -6.46560001373291, -6.48859977722168, -6.495100021362305, -6.503499984741211, -6.514800071716309, -6.518799781799316, -6.531000137329102, -6.531199932098389, -6.5345001220703125, -6.554999828338623, -6.563399791717529, -6.567399978637695, -6.582799911499023, -6.585299968719482, -6.587200164794922, -6.592100143432617, -5.042300224304199, -6.104400157928467, -5.659900188446045, -5.527100086212158, -6.023099899291992, -6.183899879455566, -5.816699981689453, -5.7505998611450195, -5.641300201416016, -5.892499923706055, -6.093800067901611, -6.293000221252441, -6.354100227355957, -5.355000019073486, -5.874899864196777, -5.583899974822998, -5.940800189971924, -4.808300018310547, -6.117300033569336, -5.3892998695373535, -6.099899768829346, -5.728099822998047, -5.989099979400635, -6.050600051879883, -5.7789998054504395, -5.752799987792969, -5.86899995803833, -5.943299770355225, -5.979800224304199, -5.9766998291015625, -5.994100093841553, -5.974599838256836, -6.065199851989746, -6.065499782562256], \"loglift\": [30.0, 29.0, 28.0, 27.0, 26.0, 25.0, 24.0, 23.0, 22.0, 21.0, 20.0, 19.0, 18.0, 17.0, 16.0, 15.0, 14.0, 13.0, 12.0, 11.0, 10.0, 9.0, 8.0, 7.0, 6.0, 5.0, 4.0, 3.0, 2.0, 1.0, 1.8856, 1.8851, 1.8844, 1.883, 1.8828, 1.8801, 1.8782, 1.8758, 1.8749, 1.8747, 1.8744, 1.8742, 1.874, 1.8739, 1.8732, 1.8729, 1.8716, 1.8713, 1.8711, 1.8708, 1.8702, 1.8699, 1.8698, 1.8696, 1.8692, 1.869, 1.8685, 1.8683, 1.8675, 1.8672, 1.8481, 1.8508, 1.7311, 1.7398, 1.7753, 1.7987, 1.7084, 1.7877, 1.6034, 1.7686, 1.6391, 1.7376, 1.4115, 1.7278, 1.1721, 1.4141, 1.5774, 1.2875, 1.0309, 1.3522, 0.9939, 1.3718, 0.9319, 1.1715, 0.9379, 0.7638, 0.8038, 0.8816, 1.1632, 0.4435, 0.4232, 0.3828, 0.5599, 0.5693, 0.946, 0.436, 0.7842, 0.7403, 0.7593, 0.6351, 0.4733, 0.2067, 0.8705, 0.3237, 0.6116, 0.4472, 0.4425, 2.3834, 2.3823, 2.3818, 2.3817, 2.3807, 2.3786, 2.3777, 2.3771, 2.3768, 2.3743, 2.3737, 2.3705, 2.37, 2.3689, 2.3684, 2.3683, 2.368, 2.368, 2.368, 2.3679, 2.3676, 2.3664, 2.3662, 2.3646, 2.3643, 2.3642, 2.3634, 2.3632, 2.3631, 2.3629, 2.3359, 2.3188, 2.3365, 2.1819, 2.3266, 2.1498, 2.0067, 2.0565, 2.2383, 2.2687, 2.0077, 2.0991, 2.2829, 1.9073, 2.054, 2.13, 2.1496, 2.0252, 1.9726, 1.6835, 1.1726, 1.4197, 1.6167, 1.4917, 1.5513, 1.1674, 1.4839, 1.0195, 1.3747, 0.3398, 0.2705, 0.8801, 0.4928, 1.38, 0.0859, 0.272, 0.9713, 0.6461, 0.6197, 0.6242, 0.2185, 0.311, 1.0274, -0.1194, -0.1084, 0.7643, 0.4878, 0.5975, 2.5913, 2.5851, 2.5843, 2.5816, 2.5814, 2.5791, 2.5785, 2.5785, 2.5772, 2.5769, 2.5757, 2.5753, 2.5744, 2.5738, 2.5711, 2.5711, 2.5708, 2.5699, 2.5695, 2.5694, 2.5691, 2.5689, 2.5685, 2.5684, 2.5681, 2.5677, 2.5674, 2.5673, 2.5666, 2.5661, 2.5494, 2.5464, 2.4749, 2.507, 2.4659, 2.4346, 2.452, 2.5122, 2.3932, 2.4164, 2.4048, 2.2131, 2.22, 2.4049, 2.3147, 2.0794, 2.3662, 1.6589, 1.4323, 1.7052, 2.2374, 1.1619, 1.9146, 1.9123, 1.6247, 1.8735, 1.6925, 1.1061, 1.3528, 1.9578, 0.9867, 1.5381, 0.3966, 0.5624, 1.2762, 1.1408, 1.0244, 1.0682, 0.197, 0.4192, 1.0595, 1.078, 0.3286, 0.6479, 0.3668, 0.7882, 0.6578, -0.2581, 0.2826, 0.4409, 0.6271, 0.6151, 0.5539, 0.1927, 2.7808, 2.7797, 2.7785, 2.7783, 2.7772, 2.7753, 2.7739, 2.7736, 2.773, 2.7726, 2.772, 2.7715, 2.771, 2.7706, 2.7706, 2.7706, 2.7699, 2.7698, 2.7697, 2.7695, 2.7683, 2.768, 2.7678, 2.7672, 2.7667, 2.7663, 2.7658, 2.7654, 2.7651, 2.7651, 2.7234, 2.6198, 2.6446, 2.6956, 2.6394, 2.6997, 2.551, 2.3727, 2.4495, 2.0255, 2.4075, 1.9736, 2.2836, 2.6829, 2.2132, 1.9507, 1.6105, 1.5872, 1.6102, 1.1805, 1.2558, 1.588, 1.8601, 1.0806, 1.2685, 2.1867, 2.3768, 2.1118, 1.4431, 1.3316, 0.4675, 1.2688, 0.9917, 1.1119, 0.631, 0.8081, -0.05, 1.3708, 0.7033, 0.6266, 0.4776, 0.4579, -0.2454, 0.8729, 0.2482, 1.1554, -0.4847, 0.1367, 2.7861, 2.7857, 2.7817, 2.7785, 2.7773, 2.7763, 2.7762, 2.7761, 2.7756, 2.774, 2.7721, 2.7716, 2.7715, 2.7708, 2.7705, 2.7695, 2.7686, 2.7683, 2.7683, 2.7682, 2.7675, 2.767, 2.7665, 2.7661, 2.7649, 2.7645, 2.7643, 2.7642, 2.7636, 2.7636, 2.6021, 2.6803, 2.7301, 2.5329, 2.7172, 2.0749, 2.0812, 2.3135, 2.1044, 2.6202, 1.3381, 1.2666, 2.2743, 0.9353, 1.1159, 2.3909, 1.1718, 1.0976, 0.8186, 0.5755, 0.8708, 1.8501, 0.8229, 1.4081, 0.4315, 1.0625, 0.6163, 0.3053, 1.0069, 0.4401, 1.6366, 0.819, 0.7147, 1.1665, 0.0926, 0.5466, 0.279, 0.3172, 0.1786, 0.5505, 1.0276, 0.591, 0.527, 0.1359, 0.2568, 2.8589, 2.8585, 2.8582, 2.857, 2.8557, 2.8556, 2.8495, 2.8472, 2.8455, 2.8444, 2.8424, 2.8416, 2.8415, 2.8409, 2.8393, 2.8379, 2.8376, 2.8371, 2.836, 2.8358, 2.8356, 2.8346, 2.8345, 2.8342, 2.8335, 2.8334, 2.8334, 2.8327, 2.8325, 2.832, 2.8283, 2.789, 2.7017, 2.6489, 2.572, 2.766, 2.5383, 2.5901, 2.7025, 2.2525, 2.7598, 2.3632, 2.7199, 2.2831, 2.5365, 2.1841, 2.1513, 2.0276, 2.3958, 2.2385, 1.742, 2.3554, 1.7121, 1.7529, 1.7771, 1.7581, 1.5186, 0.6052, 0.6092, 1.7474, 0.5298, 0.9064, 0.6304, 1.2164, 0.6764, 1.0649, 0.3295, 0.9496, 0.3285, 0.3869, 0.4229, 0.7745, 2.91, 2.9077, 2.9048, 2.9031, 2.903, 2.9025, 2.8988, 2.8953, 2.8944, 2.8927, 2.8926, 2.8925, 2.8924, 2.8909, 2.8909, 2.8909, 2.8906, 2.89, 2.8897, 2.8889, 2.888, 2.8879, 2.887, 2.8868, 2.8863, 2.8858, 2.8849, 2.8847, 2.8834, 2.882, 2.8606, 2.8223, 2.7062, 2.81, 2.5643, 2.7649, 2.6329, 2.7869, 2.4224, 2.1301, 2.4532, 2.1371, 2.3297, 1.9964, 2.184, 1.717, 1.6436, 2.5839, 2.1261, 2.2181, 2.2181, 2.3666, 1.2105, 2.1797, 1.6077, 2.0636, 1.8081, 1.8492, 1.3412, 1.8017, 1.8113, 1.0103, 1.4607, 1.8528, 1.1573, 1.3135, 1.6763, 1.8083, 1.2128, 1.0266, 1.4928, 0.5285, 0.6986, 0.9142, 0.4721, 1.0424, 0.0494, 0.5943, -0.2103, 0.1822, 0.247, 1.1674, 0.3173, 2.9865, 2.9862, 2.9859, 2.9835, 2.9833, 2.9832, 2.9803, 2.9793, 2.977, 2.9761, 2.976, 2.9759, 2.975, 2.9733, 2.9732, 2.9731, 2.973, 2.9719, 2.9715, 2.9708, 2.9707, 2.9696, 2.9694, 2.9691, 2.9688, 2.9685, 2.9683, 2.9679, 2.9675, 2.9675, 2.9193, 2.8979, 2.8468, 2.759, 2.9138, 2.5972, 2.8629, 2.3967, 2.9125, 2.7144, 2.8061, 2.6489, 2.813, 2.659, 2.2987, 2.5844, 1.7668, 2.6768, 2.3444, 1.8482, 1.2999, 2.5461, 0.8707, 0.4327, 0.7123, 0.5157, 0.9352, 0.137, 0.8202, 0.5547, 0.2503, 0.2422, 0.7113, 0.5379, 0.7593, 0.4235, 0.4624, 1.0057, 1.2148, 0.1079, 0.6373, 0.4159, 1.0953, 0.4042, 3.0239, 3.0217, 3.0216, 3.0214, 3.0188, 3.018, 3.0173, 3.0172, 3.0152, 3.0141, 3.0141, 3.0134, 3.0127, 3.0123, 3.0121, 3.0121, 3.012, 3.0118, 3.0101, 3.0097, 3.0086, 3.0074, 3.0068, 3.0067, 3.0066, 3.0058, 3.0051, 3.005, 3.005, 3.0048, 2.9346, 2.9702, 2.9425, 2.9669, 2.7812, 2.7819, 2.8666, 2.8538, 2.7397, 2.3499, 2.6968, 2.0655, 1.4539, 1.8425, 2.4158, 1.8369, 2.4924, 1.2175, 1.0388, 2.2648, 2.0906, 0.2429, 1.1184, 0.1625, 0.5263, 1.2737, 1.3717, 1.1457, 1.7098, 1.4572, 0.4072, 0.8303, 0.573, 0.4721, -0.0682, -0.1438, 1.3036, 1.1377, 0.178, 0.1442, -0.5738, -0.2191, -0.196, -0.1042, 0.2312, 0.928, 0.2161, 3.0371, 3.0363, 3.0315, 3.0292, 3.0282, 3.0278, 3.0275, 3.0256, 3.0255, 3.0239, 3.0235, 3.0233, 3.0223, 3.0219, 3.0204, 3.0203, 3.019, 3.0189, 3.0188, 3.0185, 3.0185, 3.0178, 3.0177, 3.0176, 3.0174, 3.0169, 3.0165, 3.0162, 3.0159, 3.0158, 2.9127, 2.9396, 2.8053, 2.6876, 2.9335, 2.8648, 2.8246, 2.5193, 2.726, 2.7962, 2.6145, 2.6366, 2.3579, 2.2514, 2.6084, 2.8365, 2.5043, 2.569, 2.505, 1.9859, 1.9677, 2.6783, 2.5065, 1.6609, 1.8377, 2.1939, 1.4906, 1.6518, 1.8167, 1.756, 1.6552, 0.6657, 1.2836, 0.2884, 1.3026, 0.0889, 1.4601, 0.5935, 1.4424, 0.4755, 1.3632, 1.3772, 0.1531, 1.0499, 0.3544, 0.5337, 0.623, -0.1905, 0.0512, 0.4338, 3.1492, 3.1428, 3.1425, 3.1424, 3.1412, 3.1406, 3.1402, 3.1384, 3.1383, 3.1376, 3.1371, 3.1364, 3.1362, 3.1353, 3.1344, 3.1333, 3.1323, 3.1322, 3.132, 3.1319, 3.1317, 3.1314, 3.13, 3.1295, 3.1291, 3.129, 3.1289, 3.1286, 3.1285, 3.1284, 3.0657, 2.9363, 3.0933, 2.9751, 3.0199, 2.8698, 2.971, 3.0035, 2.846, 2.6778, 2.6185, 2.7507, 2.6533, 2.9627, 2.8084, 2.943, 1.8711, 1.9389, 1.7106, 2.4861, 0.8194, 1.9577, 0.0562, 0.8637, 1.0477, 0.7791, 2.1773, 0.6814, 1.1462, 1.4637, 0.2728, 0.755, 0.4528, 0.5973, 0.9075, -0.3653, 0.0291, 1.6832, 0.6231, 0.0398, 0.8217, -0.6005, -1.0919, 0.2644, 0.0316, 3.224, 3.2231, 3.2227, 3.2217, 3.2198, 3.217, 3.2161, 3.2158, 3.2112, 3.2105, 3.2103, 3.2085, 3.2079, 3.2072, 3.2063, 3.2053, 3.2045, 3.2038, 3.2034, 3.2017, 3.2, 3.1996, 3.1979, 3.1974, 3.1971, 3.1963, 3.1961, 3.1961, 3.1957, 3.1955, 3.1457, 2.7194, 2.9665, 3.098, 3.054, 2.5962, 2.3564, 3.0632, 2.734, 1.8152, 2.5377, 2.1229, 2.2519, 1.4935, 2.0619, 0.8172, 1.3855, 2.1001, 1.7372, 1.5653, 2.1196, 0.7003, -0.0157, 1.3459, 0.4411, -0.1608, 0.7222, 0.6915, -0.0736, 0.3033, 0.529, 1.0301, 0.11, 3.2797, 3.2764, 3.2688, 3.2684, 3.2671, 3.2666, 3.2662, 3.2645, 3.2634, 3.263, 3.262, 3.2618, 3.2597, 3.2597, 3.2594, 3.2593, 3.2591, 3.2588, 3.2578, 3.2575, 3.257, 3.2563, 3.2558, 3.2557, 3.2551, 3.2548, 3.2543, 3.2543, 3.2542, 3.2534, 3.2071, 3.1916, 3.1325, 3.104, 3.1889, 2.9217, 2.9275, 3.1406, 3.0771, 3.0368, 3.1409, 2.9423, 3.1394, 2.7091, 2.9083, 3.2019, 2.6173, 2.3858, 2.6577, 2.6916, 2.7195, 2.1101, 2.8788, 1.9235, 1.276, 1.6761, 0.4748, 1.1563, 0.4779, 0.8632, 1.3054, 1.9413, 0.4162, 1.8038, 0.5912, 0.126, 0.9274, 1.3315, -0.699, 1.234, -0.1959, 0.7811, -0.4575, 3.3616, 3.3616, 3.3554, 3.3536, 3.3534, 3.3518, 3.3513, 3.3512, 3.3499, 3.3494, 3.3484, 3.3484, 3.3478, 3.3478, 3.3468, 3.3467, 3.3455, 3.3455, 3.345, 3.3449, 3.3414, 3.3413, 3.3412, 3.341, 3.3404, 3.3401, 3.3395, 3.3394, 3.3391, 3.3384, 3.1884, 3.1666, 3.2098, 3.2056, 3.2078, 3.2783, 3.1625, 3.1827, 3.1502, 2.9495, 2.5126, 3.1391, 2.4642, 2.4571, 2.4974, 1.7715, 2.8455, 1.6278, 3.1448, 2.5913, 1.1926, 3.0104, 0.9769, 0.439, 2.2429, 1.132, 1.6877, 1.2576, 1.7989, 1.8903, 0.9492, 0.7012, 1.2834, 0.9243, 0.3708, -0.5989, 0.3149, 1.6316, 0.2209, 0.2757, 1.0832, 0.4773, 3.5038, 3.496, 3.495, 3.4924, 3.4924, 3.491, 3.4907, 3.4906, 3.4867, 3.4866, 3.4852, 3.4851, 3.4851, 3.4838, 3.4832, 3.4832, 3.4812, 3.481, 3.48, 3.4795, 3.4792, 3.4788, 3.4783, 3.4782, 3.4782, 3.4781, 3.4779, 3.4772, 3.477, 3.4764, 3.3964, 3.3676, 3.0888, 3.2373, 3.0508, 3.0667, 3.0642, 3.279, 3.1948, 2.6968, 2.9662, 3.2023, 2.8251, 3.2568, 1.9474, 2.956, 2.6762, 1.4021, 2.9104, 2.2813, 2.9953, -0.1244, 2.3103, 0.6749, 0.7271, 0.3935, 0.4189, 1.1915, 0.4628, 1.1292, 1.1668, 0.5081, 0.4104, 0.3202, -0.3922, 0.4711, -0.9779, 0.8316, 3.6085, 3.6054, 3.6047, 3.6046, 3.6044, 3.6017, 3.6005, 3.5998, 3.5997, 3.5995, 3.5992, 3.599, 3.5986, 3.5983, 3.5972, 3.597, 3.5956, 3.5955, 3.5955, 3.5954, 3.5948, 3.5947, 3.5941, 3.5937, 3.5927, 3.5924, 3.591, 3.591, 3.5908, 3.5908, 3.5462, 3.4253, 3.1352, 3.3979, 3.4454, 3.0302, 2.9151, 3.3785, 3.0815, 3.3424, 2.0541, 3.0516, 1.5572, 2.3434, -0.0061, 1.1846, 1.9389, -0.3364, 0.4573, -0.0186, 2.4594, 0.3506, 2.5535, 0.7322, 0.7523, 0.7827, 0.4559, -0.1974, 0.0011, -0.953, 0.6991, 3.6355, 3.6316, 3.6314, 3.6311, 3.6309, 3.6284, 3.6251, 3.6244, 3.6239, 3.6239, 3.6235, 3.6231, 3.6228, 3.6219, 3.6213, 3.62, 3.6191, 3.6191, 3.6189, 3.6174, 3.6167, 3.6154, 3.6144, 3.6136, 3.6134, 3.6127, 3.6122, 3.6116, 3.6116, 3.6111, 3.5729, 3.457, 3.4416, 3.3816, 3.2978, 3.0788, 3.0367, 3.1073, 3.2061, 1.7964, 2.5131, 2.1019, 1.1003, 1.9389, 0.7876, 1.0283, 2.6595, 1.5469, 2.2974, 0.7887, 2.4338, -0.3838, 0.4395, 0.5422, -0.2566, 0.6675, 0.8453, 1.2708, -0.126, 1.1705, 0.8805, 0.1095, 3.728, 3.7275, 3.7215, 3.7215, 3.7194, 3.7194, 3.7191, 3.719, 3.7179, 3.7175, 3.7171, 3.7154, 3.7154, 3.7152, 3.7147, 3.7147, 3.7145, 3.7136, 3.7133, 3.7122, 3.7114, 3.7111, 3.7109, 3.7096, 3.7094, 3.7086, 3.7083, 3.708, 3.708, 3.7079, 3.5372, 3.6076, 3.4627, 3.5731, 3.3583, 3.4011, 3.5789, 3.1568, 2.9484, 3.2151, 2.9277, 3.2563, 3.4564, 2.6415, 3.2317, 3.0058, 2.9973, 1.4543, 3.2725, 2.7017, 3.0366, 2.5582, 1.275, 1.0716, 2.1166, 2.6223, 3.0995, 2.0323, 0.9738, -0.5928, 0.4486, 0.6077, 0.3445, 0.499, -0.6366, 0.27, -0.0335, 3.8494, 3.8472, 3.8469, 3.8467, 3.8461, 3.8455, 3.8453, 3.8438, 3.8437, 3.8428, 3.8417, 3.8416, 3.8415, 3.8413, 3.8385, 3.8385, 3.8383, 3.838, 3.8374, 3.8368, 3.8359, 3.8351, 3.8351, 3.8346, 3.8343, 3.8338, 3.8334, 3.8334, 3.8329, 3.8329, 3.7967, 3.5553, 3.7303, 3.6442, 3.6871, 3.4204, 2.3998, 2.5956, 3.0228, 2.8968, 2.7086, 2.4753, 1.8483, 2.8594, 2.1122, 3.364, 0.8991, -0.0037, 0.5817, 2.4345, 0.2547, 2.4142, 2.0914, 0.5934, 0.174, 1.6662, 3.8526, 3.851, 3.8485, 3.8482, 3.8479, 3.8466, 3.8457, 3.8454, 3.8435, 3.8422, 3.8412, 3.8412, 3.8408, 3.8404, 3.84, 3.8394, 3.8392, 3.839, 3.8387, 3.8385, 3.8382, 3.8382, 3.8381, 3.8375, 3.8372, 3.8371, 3.8367, 3.8366, 3.8365, 3.8364, 3.4964, 3.7251, 3.4816, 3.4162, 3.6164, 3.6517, 3.389, 3.2952, 3.1091, 3.1332, 3.3487, 3.579, 3.6434, 2.2434, 2.8865, 1.9609, 2.6729, -0.0966, 3.0751, 1.1068, 2.9616, 1.4926, 2.3635, 2.5148, 0.8778, 0.6446, 1.4037, 1.7704, 1.0441, 0.9086, 0.8299, -0.5163, 0.2839, -0.1039]}, \"token.table\": {\"Topic\": [17, 16, 1, 9, 13, 15, 17, 9, 11, 12, 12, 8, 9, 1, 12, 20, 1, 2, 5, 6, 7, 9, 12, 19, 14, 12, 5, 8, 9, 10, 15, 2, 9, 1, 5, 7, 8, 10, 17, 8, 1, 3, 4, 7, 8, 9, 11, 14, 17, 1, 1, 9, 19, 1, 2, 5, 7, 8, 9, 11, 12, 14, 17, 2, 3, 2, 7, 14, 17, 10, 6, 6, 4, 2, 3, 4, 5, 6, 8, 14, 6, 9, 1, 2, 3, 10, 12, 13, 14, 20, 4, 8, 4, 8, 20, 5, 20, 4, 1, 10, 19, 2, 19, 3, 2, 4, 9, 15, 16, 17, 18, 20, 1, 2, 4, 5, 8, 9, 10, 13, 14, 15, 11, 8, 8, 2, 9, 10, 15, 13, 6, 1, 2, 6, 20, 6, 6, 6, 9, 16, 2, 18, 4, 2, 20, 1, 2, 1, 2, 3, 4, 5, 7, 9, 11, 5, 12, 14, 1, 2, 1, 4, 10, 19, 2, 9, 10, 11, 13, 16, 19, 1, 2, 3, 4, 5, 6, 7, 8, 12, 17, 20, 1, 2, 3, 4, 5, 7, 8, 9, 10, 12, 16, 17, 2, 4, 8, 9, 12, 15, 15, 19, 14, 8, 9, 12, 15, 16, 15, 1, 17, 16, 1, 10, 14, 7, 1, 18, 13, 11, 15, 18, 4, 18, 18, 20, 17, 10, 3, 1, 2, 3, 4, 5, 6, 9, 10, 11, 12, 14, 15, 17, 11, 19, 12, 3, 4, 7, 14, 20, 2, 7, 2, 9, 1, 2, 4, 6, 7, 8, 12, 14, 17, 19, 17, 11, 3, 4, 14, 19, 8, 3, 13, 16, 1, 7, 15, 1, 1, 1, 1, 3, 10, 11, 18, 4, 7, 2, 4, 18, 17, 1, 2, 4, 5, 6, 7, 12, 14, 17, 13, 15, 7, 8, 3, 4, 6, 10, 16, 18, 3, 13, 3, 4, 6, 11, 17, 19, 8, 17, 2, 8, 14, 10, 17, 1, 4, 10, 18, 18, 8, 2, 4, 15, 20, 4, 7, 9, 15, 15, 14, 4, 6, 9, 16, 20, 8, 16, 1, 5, 7, 17, 5, 1, 5, 6, 8, 9, 10, 13, 16, 9, 15, 16, 17, 3, 3, 17, 1, 2, 3, 4, 5, 7, 9, 11, 13, 14, 1, 7, 9, 12, 15, 19, 18, 10, 12, 1, 3, 6, 8, 10, 13, 16, 5, 1, 3, 4, 5, 7, 8, 11, 12, 14, 16, 1, 3, 5, 12, 13, 16, 12, 20, 6, 20, 11, 15, 1, 2, 3, 4, 5, 6, 7, 8, 9, 10, 11, 12, 13, 15, 17, 19, 20, 1, 3, 4, 5, 7, 8, 10, 11, 12, 14, 15, 16, 17, 19, 4, 6, 20, 7, 5, 1, 15, 18, 1, 6, 12, 20, 12, 19, 1, 2, 3, 4, 5, 6, 7, 8, 9, 11, 12, 14, 16, 17, 19, 1, 5, 9, 12, 1, 2, 3, 5, 6, 7, 8, 9, 10, 11, 12, 13, 15, 16, 17, 1, 4, 9, 11, 13, 19, 1, 5, 7, 4, 19, 4, 7, 8, 14, 2, 3, 4, 5, 6, 15, 2, 3, 4, 6, 9, 6, 15, 1, 2, 4, 1, 4, 13, 2, 9, 13, 17, 2, 5, 16, 17, 5, 16, 2, 16, 5, 12, 13, 15, 16, 17, 19, 19, 6, 5, 20, 16, 10, 5, 15, 16, 18, 1, 2, 3, 5, 7, 9, 11, 14, 1, 4, 5, 7, 9, 14, 5, 18, 1, 3, 4, 9, 13, 14, 19, 20, 4, 9, 11, 4, 12, 3, 7, 11, 13, 11, 1, 9, 15, 8, 8, 15, 2, 8, 9, 20, 1, 7, 8, 9, 12, 14, 20, 20, 9, 9, 1, 2, 4, 9, 13, 18, 20, 1, 10, 6, 11, 4, 2, 3, 2, 3, 13, 1, 12, 11, 13, 1, 10, 13, 19, 13, 17, 2, 9, 15, 2, 4, 9, 10, 13, 15, 16, 18, 4, 11, 1, 3, 4, 5, 6, 8, 10, 11, 12, 13, 14, 15, 17, 18, 19, 20, 2, 1, 2, 3, 4, 5, 6, 8, 9, 10, 11, 12, 13, 14, 17, 18, 19, 17, 11, 1, 5, 8, 10, 5, 18, 1, 12, 1, 5, 6, 8, 9, 10, 12, 17, 19, 20, 11, 13, 3, 13, 13, 13, 11, 6, 4, 19, 2, 3, 9, 3, 10, 1, 16, 19, 11, 11, 14, 4, 5, 6, 12, 13, 13, 3, 6, 14, 12, 8, 14, 12, 17, 18, 6, 1, 3, 4, 6, 8, 10, 13, 15, 18, 19, 17, 9, 1, 2, 3, 4, 5, 6, 7, 8, 9, 10, 11, 12, 13, 14, 16, 18, 19, 1, 2, 3, 4, 5, 6, 8, 9, 10, 11, 12, 14, 15, 20, 1, 5, 18, 19, 13, 2, 1, 2, 3, 4, 6, 8, 9, 10, 13, 15, 16, 18, 19, 13, 8, 9, 10, 11, 12, 19, 11, 5, 8, 1, 12, 1, 3, 4, 10, 16, 9, 15, 15, 11, 13, 7, 4, 7, 18, 15, 15, 1, 2, 4, 5, 7, 11, 1, 2, 3, 4, 5, 7, 8, 9, 11, 3, 16, 17, 20, 6, 13, 10, 12, 14, 16, 18, 19, 20, 18, 2, 9, 2, 9, 13, 18, 5, 18, 19, 10, 9, 10, 11, 18, 10, 5, 12, 1, 19, 18, 11, 1, 1, 6, 7, 8, 9, 12, 14, 17, 20, 8, 17, 1, 2, 3, 5, 6, 8, 9, 10, 15, 19, 7, 11, 8, 12, 8, 1, 4, 5, 7, 9, 11, 15, 1, 2, 4, 5, 13, 14, 2, 3, 4, 7, 1, 2, 3, 4, 5, 6, 7, 8, 9, 10, 11, 12, 13, 14, 15, 16, 17, 18, 19, 1, 3, 4, 5, 6, 7, 10, 12, 13, 2, 10, 11, 5, 2, 4, 9, 15, 1, 2, 3, 4, 5, 6, 7, 9, 14, 15, 17, 18, 4, 19, 5, 8, 10, 19, 8, 12, 12, 1, 2, 3, 4, 6, 9, 11, 14, 20, 11, 9, 1, 2, 3, 4, 5, 7, 9, 11, 12, 18, 20, 6, 7, 11, 15, 16, 6, 1, 2, 3, 4, 5, 6, 7, 8, 9, 10, 11, 12, 13, 14, 15, 17, 20, 2, 2, 3, 4, 6, 1, 5, 6, 7, 8, 10, 12, 14, 15, 17, 19, 20, 18, 1, 3, 8, 9, 11, 12, 13, 14, 17, 11, 13, 15, 10, 3, 4, 6, 18, 20, 4, 12, 6, 11, 4, 5, 15, 2, 9, 17, 2, 10, 13, 14, 1, 4, 6, 14, 17, 18, 19, 3, 1, 2, 3, 5, 7, 8, 9, 11, 12, 14, 16, 3, 7, 15, 16, 5, 5, 2, 5, 11, 17, 1, 5, 1, 3, 14, 17, 19, 20, 4, 10, 16, 18, 20, 11, 15, 10, 20, 4, 11, 15, 3, 3, 9, 11, 12, 20, 14, 10, 18, 19, 10, 1, 2, 3, 4, 5, 7, 9, 11, 13, 14, 10, 1, 3, 4, 5, 6, 8, 9, 10, 12, 18, 3, 4, 6, 15, 1, 5, 6, 7, 8, 9, 10, 11, 12, 14, 16, 13, 8, 12, 20, 8, 20, 19, 18, 1, 6, 10, 16, 20, 13, 20, 14, 17, 15, 10, 1, 2, 4, 2, 2, 20, 1, 3, 4, 5, 6, 7, 10, 13, 14, 18, 1, 3, 5, 6, 10, 18, 18, 1, 2, 3, 5, 6, 8, 9, 10, 11, 15, 16, 18, 19, 20, 7, 1, 2, 3, 4, 5, 6, 7, 8, 9, 10, 12, 14, 18, 20, 10, 1, 8, 12, 6, 7, 8, 20, 1, 10, 8, 3, 6, 11, 15, 1, 2, 6, 7, 8, 9, 10, 12, 14, 3, 5, 11, 20, 2, 7, 10, 2, 6, 7, 12, 15, 5, 3, 12, 14, 16, 17, 18, 8, 18, 5, 1, 2, 3, 6, 8, 9, 10, 11, 12, 13, 16, 11, 15, 18, 1, 3, 6, 8, 10, 12, 13, 18, 15, 14, 4, 1, 2, 3, 4, 6, 7, 8, 9, 10, 12, 11, 14, 1, 10, 17, 19, 4, 19, 4, 11, 12, 15, 7, 5, 8, 18, 1, 2, 3, 4, 5, 6, 8, 10, 12, 13, 16, 18, 20, 5, 1, 2, 3, 4, 5, 6, 7, 8, 9, 12, 15, 3, 4, 6, 8, 12, 14, 15, 16, 20, 1, 3, 5, 8, 10, 13, 16, 17, 18, 1, 2, 3, 4, 6, 10, 11, 13, 15, 16, 18, 11, 1, 2, 3, 4, 8, 10, 11, 16, 17, 8, 1, 4, 18, 7, 2, 1, 2, 3, 4, 9, 10, 11, 12, 14, 15, 17, 11, 1, 11, 2, 16, 8, 1, 1, 2, 4, 5, 7, 8, 9, 11, 14, 15, 16, 2, 2, 3, 4, 5, 6, 12, 13, 18, 3, 5, 7, 1, 4, 5, 14, 20, 15, 2, 10, 1, 10, 1, 10, 1, 10, 1, 3, 4, 10, 18, 20, 1, 2, 6, 8, 10, 11, 12, 1, 10, 1, 3, 4, 5, 6, 8, 9, 10, 11, 12, 13, 18, 5, 2, 4, 1, 2, 15, 1, 3, 4, 6, 7, 8, 9, 10, 11, 12, 14, 16, 17, 7, 8, 9, 15, 19, 13, 3, 4, 6, 11, 12, 13, 1, 18, 3, 1, 2, 3, 4, 5, 6, 8, 9, 10, 12, 14, 15, 19, 1, 10, 18, 20, 3, 15, 3, 11, 4, 7, 11, 12, 4, 11, 15, 16, 7, 3, 15, 5, 20, 2, 9, 6, 15, 14, 15, 20, 9, 1, 3, 9, 3, 7, 1, 6, 13, 3, 18, 2, 10, 14, 20, 1, 4, 6, 9, 1, 2, 4, 6, 9, 10, 6, 10, 7, 14, 7, 11, 12, 20, 2, 3, 16, 17, 20, 16, 1, 2, 11, 2, 8, 11, 1, 2, 3, 4, 5, 6, 8, 9, 13, 14, 18, 11, 13, 14, 18, 5, 11, 15, 20, 14, 4, 11, 6, 8, 12, 16, 9, 19, 20, 7, 11, 4, 18, 4, 8, 17, 20, 11, 14, 9, 1, 3, 6, 8, 12, 6, 10, 10, 13, 1, 2, 3, 5, 6, 8, 9, 10, 11, 13, 14, 16, 18, 19, 19, 10, 2, 9, 1, 7, 9, 10, 5, 5, 8, 9, 19, 20, 1, 8, 10, 15, 20, 5, 8, 17, 20, 3, 13, 14, 19, 2, 3, 4, 5, 6, 8, 11, 13, 15, 1, 2, 5, 9, 10, 14, 19, 4, 1, 4, 7, 11, 13, 14, 15, 1, 5, 9, 15, 20, 15, 7, 7, 7, 1, 2, 5, 7, 8, 9, 11, 16, 17, 1, 2, 3, 4, 5, 6, 7, 8, 9, 10, 11, 12, 15, 16, 18, 9, 2, 3, 4, 8, 9, 12, 15, 11, 1, 3, 4, 5, 6, 7, 8, 13, 16, 17, 19, 8, 5, 6, 15, 6, 8, 9, 10, 14, 2, 3, 4, 5, 6, 8, 9, 13, 15, 16, 1, 10, 13, 15, 1, 2, 3, 4, 8, 14, 15, 3, 5, 20, 2, 3, 4, 16, 1, 2, 3, 5, 6, 7, 8, 9, 10, 11, 12, 13, 14, 16, 1, 3, 4, 5, 6, 8, 9, 10, 11, 14, 17, 18, 19, 20, 2, 3, 4, 5, 6, 7, 11, 13, 14, 15, 9, 1, 3, 4, 6, 11, 15, 10, 1, 7, 10, 3, 4, 13, 9, 9, 19, 3, 3, 11, 11, 17, 16, 8, 11, 15, 19, 17, 16, 1, 2, 3, 4, 6, 7, 8, 10, 11, 13, 14, 15, 16, 18, 19, 20, 10, 16, 10, 16, 4, 18, 18, 2, 4, 7, 1, 19, 20, 1, 11, 20, 18, 11, 11, 7, 8, 9, 8, 17, 19, 2, 3, 9, 5, 20, 20, 2, 3, 4, 8, 9, 10, 11, 13, 18, 16, 4, 15, 1, 5, 8, 18, 2, 3, 5, 6, 7, 8, 9, 13, 15, 10, 13, 2, 4, 9, 13, 15, 19, 4, 14, 15, 17, 6, 8, 13, 10, 20, 17, 6, 6, 1, 2, 3, 5, 6, 7, 8, 9, 10, 11, 12, 13, 16, 17, 12, 1, 2, 3, 5, 6, 8, 10, 13, 15, 10, 15, 3, 7, 8, 10, 13, 14, 16, 20, 6, 7, 14, 6, 1, 2, 3, 5, 6, 8, 10, 13, 14, 15, 18, 7, 8, 19, 16, 12, 13, 16, 18, 3, 4, 5, 6, 7, 15, 1, 4, 5, 7, 9, 10, 13, 17, 18, 1, 2, 3, 4, 5, 6, 7, 8, 9, 10, 11, 12, 14, 17, 18, 9, 1, 5, 12, 3, 6, 12, 9, 9, 6, 11, 13, 15, 13, 18, 8, 1, 2, 3, 6, 7, 9, 11, 12, 14, 20, 9, 14, 9, 14, 2, 9, 9, 17, 8, 14, 2, 2, 9, 17, 8, 1, 5, 20, 2, 15, 1, 3, 4, 5, 6, 8, 10, 13, 14, 17, 18, 1, 3, 17, 20, 6, 13, 14, 15, 16, 4, 8, 17, 19, 20, 2, 4, 6, 7, 14, 4, 18, 12, 17, 4, 15, 5, 20, 11, 14, 1, 2, 5, 6, 7, 8, 9, 12, 14, 16, 17, 6, 1, 2, 3, 4, 5, 7, 8, 9, 11, 12, 13, 15, 19, 3, 1, 6, 7, 8, 12, 14, 17, 7, 12, 19, 9, 14, 4, 7, 8, 11, 14, 15, 16, 17, 13, 10, 19, 1, 2, 5, 7, 11, 18, 20, 1, 2, 3, 4, 6, 7, 10, 12, 13, 3, 3, 3, 4, 6, 5, 8, 17, 3, 4, 5, 7, 11, 2, 3, 4, 5, 7, 3, 10, 18, 11, 10, 4, 14, 13, 1, 2, 3, 5, 6, 7, 8, 9, 10, 12, 13, 15, 16, 18, 2, 4, 5, 7, 8, 11, 14, 15, 20, 3, 4, 5, 7, 8, 9, 12, 14, 15, 20, 1, 2, 3, 4, 5, 6, 7, 8, 10, 16, 17, 18, 19, 2, 6, 15, 1, 2, 4, 7, 8, 9, 10, 11, 13, 14, 15, 16, 17, 1, 2, 3, 5, 9, 10, 14, 18, 5, 1, 10, 18, 17, 1, 2, 3, 4, 5, 6, 7, 8, 9, 10, 11, 12, 13, 14, 15, 16, 19, 1, 4, 9, 10, 13, 15, 18, 19, 20, 1, 9, 10, 15, 19, 20, 19, 2, 7, 9, 11, 12, 14, 17, 1, 5, 6, 7, 8, 9, 10, 11, 13, 14, 17, 19, 8, 1, 12, 17, 18, 19, 2, 1, 2, 3, 4, 5, 6, 7, 8, 9, 10, 11, 12, 13, 16, 17, 18, 19, 3, 20, 13, 13, 19, 3, 5, 10, 8, 19, 11, 2, 4, 13, 15, 12, 14, 1, 5, 7, 8, 9, 10, 12, 14, 15, 16, 18, 19, 20, 9, 11, 16, 18, 20, 9, 16, 6, 1, 4, 11, 13, 14, 18, 19, 4, 3, 1, 2, 3, 5, 6, 7, 8, 9, 10, 12, 13, 17, 1, 2, 4, 5, 7, 9, 12, 14, 15, 17, 18, 3, 12, 12, 5, 9, 2, 4, 17, 15, 17, 15, 2, 3, 4, 5, 10, 11, 16, 18, 19, 11, 18, 19, 20, 4, 11, 20, 17, 2, 3, 4, 5, 6, 9, 10, 13, 16, 1, 2, 3, 5, 6, 8, 9, 10, 12, 13, 14, 17, 18, 3, 3, 7, 1, 4, 2, 3, 4, 6, 7, 8, 12, 3, 3, 5, 9, 15, 16, 7, 11, 3, 2, 1, 2, 3, 4, 5, 6, 7, 8, 9, 12, 13, 14, 15, 16, 17, 12, 20, 17, 13, 2, 6, 10, 14, 19, 15, 10, 17, 14, 18, 11, 12, 14, 16, 7, 4, 14, 2, 3, 4, 5, 7, 8, 9, 11, 14, 15, 17, 18, 5, 7, 8, 9, 11, 14, 17, 20, 4, 7, 8, 11, 12, 14, 15, 4, 19, 7, 7, 12, 5, 6, 17, 5, 20, 2, 4, 1, 2, 3, 4, 10, 13, 15, 2, 7, 12, 10, 13, 17, 16, 3, 6, 2, 8, 9, 6, 8, 14, 19, 14, 19, 18, 4, 9, 6, 8, 1, 2, 3, 4, 5, 6, 7, 8, 9, 10, 11, 13, 14, 15, 16, 17, 18, 1, 4, 7, 9, 11, 12, 17, 1, 2, 3, 4, 5, 6, 7, 8, 9, 11, 13, 14, 17, 20, 10, 3, 4, 5, 6, 8, 12, 20, 1, 9, 12, 19, 1, 2, 19, 1, 2, 3, 4, 5, 7, 8, 9, 11, 13, 14, 15, 17, 1, 2, 5, 7, 10, 11, 14, 17, 17, 1, 2, 4, 5, 7, 8, 9, 10, 11, 14, 15, 10, 14, 4, 9, 12, 12, 1, 2, 4, 5, 6, 7, 8, 9, 10, 11, 12, 13, 17, 18, 8, 12, 14, 1, 2, 3, 4, 5, 6, 7, 8, 9, 10, 13, 16, 7, 10, 13, 18, 1, 2, 6, 9, 10, 11, 12, 16, 17, 19, 20, 4, 10, 1, 3, 4, 5, 6, 8, 13, 18, 19, 10, 11, 3, 17, 2, 7, 14, 17, 19, 5, 1, 2, 15, 19, 12, 13, 9, 13, 3, 7, 10, 4, 5, 14, 14, 14, 12, 12, 9, 1, 10, 1, 7, 1, 13, 14, 17, 19, 16, 4, 8, 14, 16, 18, 1, 5, 8, 13, 6, 2, 3, 9, 13, 14, 16, 18, 20, 20, 3, 4, 6, 13, 18, 3, 6, 9, 14, 20, 6, 7, 8, 9, 14, 8, 19, 3, 1, 2, 3, 5, 8, 9, 10, 11, 14, 16, 20, 2, 3, 4, 7, 11, 18, 1, 4, 5, 9, 11, 13, 14, 20, 1, 3, 5, 6, 7, 9, 11, 12, 14, 15, 17, 20, 16, 2, 9, 13, 18, 1, 6, 10, 20, 9, 16, 19, 15, 19, 13, 18, 2, 3, 5, 8, 9, 14, 16, 17, 19, 18, 12, 19, 1, 2, 3, 8, 9, 12, 14, 15, 17, 19, 20, 2, 3, 12, 16, 20, 8, 12, 14, 4, 14, 16, 14, 1, 2, 10, 18, 11, 14, 16, 2, 3, 4, 5, 6, 9, 11, 12, 17, 1, 2, 3, 4, 5, 6, 7, 8, 9, 10, 11, 12, 14, 15, 17, 6, 4, 4, 1, 4, 5, 9, 14, 17, 20, 2, 3, 4, 9, 5, 1, 2, 5, 7, 9, 2, 1, 2, 3, 5, 7, 8, 14, 20, 2, 3, 4, 6, 13, 20, 8, 17, 5, 14, 11, 15, 16, 13, 11, 13, 1, 3, 5, 8, 10, 11, 12, 13, 1, 6, 3, 7, 12, 1, 15, 4, 2, 13, 19, 10, 9, 13, 4, 13, 3, 10, 20, 2, 3, 6, 7, 15, 13, 6, 1, 5, 6, 10, 6, 9, 12, 19, 20, 18, 14, 1, 10, 9, 2, 3, 9, 11, 12, 1, 2, 3, 4, 5, 6, 7, 8, 9, 10, 11, 12, 13, 16, 17, 1, 2, 3, 4, 5, 6, 7, 8, 9, 10, 12, 13, 14, 16, 17, 18, 3, 9, 6, 4, 7, 18, 3, 7, 17, 19, 1, 2, 3, 4, 5, 6, 7, 8, 9, 10, 11, 12, 13, 14, 15, 16, 17, 18, 20, 19, 1, 2, 3, 4, 5, 7, 8, 9, 11, 12, 14, 15, 16, 1, 3, 9, 20, 1, 2, 3, 4, 6, 7, 8, 9, 10, 11, 13, 14, 16, 17, 19, 20, 1, 2, 3, 4, 6, 7, 9, 10, 11, 12, 14, 19, 8, 16, 6, 16, 7, 14, 4, 6, 10, 11, 14, 15, 16, 18, 1, 5, 9, 10, 19, 14, 7, 10, 2, 3, 12, 9, 7, 5, 1, 5, 6, 7, 8, 9, 12, 13, 17, 20, 8, 12, 11, 16, 9, 12, 14, 15, 18, 20, 10, 12, 13, 1, 10, 1, 9, 20, 2, 4, 11, 1, 2, 4, 7, 11, 12, 14, 17, 9, 18, 16, 1, 2, 3, 4, 10, 13, 1, 5, 6, 8, 9, 10, 12, 14, 17, 19, 20, 1, 1, 2, 3, 4, 5, 6, 9, 14, 16, 1, 2, 3, 4, 5, 7, 8, 9, 10, 11, 17, 1, 2, 3, 4, 5, 7, 8, 9, 10, 11, 12, 4, 5, 10, 1, 5, 6, 8, 10, 11, 13, 14, 1, 2, 3, 4, 5, 6, 9, 10, 11, 13, 15, 16, 1, 2, 3, 4, 5, 6, 7, 9, 11, 12, 14, 17, 20, 17, 7, 10, 17, 19, 13, 2, 18, 11, 1, 2, 3, 18, 2, 4, 9, 15, 18, 11, 2, 4, 15, 1, 5, 8, 10, 18, 5, 1, 2, 3, 4, 5, 6, 7, 8, 9, 10, 11, 12, 13, 15, 16, 17, 18, 8, 11, 20, 16, 1, 3, 5, 6, 9, 12, 15, 18, 14, 16, 2, 9, 11, 15, 11, 16, 7, 13, 2, 3, 4, 5, 6, 7, 10, 11, 13, 16, 17, 5, 16, 11, 19, 1, 3, 4, 5, 6, 7, 10, 11, 13, 14, 16, 18, 19, 20, 1, 2, 3, 4, 5, 6, 8, 9, 10, 12, 13, 14, 15, 18, 19, 16, 1, 10, 11, 15, 17, 1, 2, 3, 4, 5, 7, 9, 10, 14, 16, 20, 1, 2, 3, 4, 5, 7, 8, 9, 11, 12, 14, 16, 1, 2, 3, 4, 5, 6, 8, 9, 10, 12, 14, 15, 19, 2, 1, 5, 10, 16, 9, 16, 1, 3, 5, 8, 10, 12, 13, 15, 17, 1, 5, 7, 8, 12, 17, 20, 4, 9, 2, 4, 9, 15, 5, 1, 2, 3, 4, 5, 6, 7, 8, 12, 14, 16, 17, 18, 19, 12, 1, 2, 3, 4, 5, 6, 7, 8, 9, 10, 11, 12, 14, 15, 17, 18, 19, 9, 16, 2, 4, 5, 14, 3, 1, 1], \"Freq\": [0.974725540199446, 0.975136548319311, 0.09311568575700539, 0.3569434620685206, 0.06725021749117056, 0.43453986686602514, 0.04138474922533573, 0.7782687678750028, 0.06121215028230359, 0.15740267215449494, 0.9814785826813732, 0.9705887055573492, 0.9681014277735224, 0.09931362827599945, 0.8772703831046618, 0.9642693570939883, 0.18198187465055018, 0.2536717040583427, 0.03584491470389625, 0.041359516966034134, 0.019301107917482598, 0.019301107917482598, 0.2757301131068942, 0.17095267012627444, 0.9857358915596243, 0.9926959316910301, 0.17641069728695463, 0.11576952009456398, 0.060641177192390656, 0.1378208572554333, 0.5071807546999946, 0.04615071013412156, 0.9230142026824312, 0.48820937359289646, 0.1459498891447723, 0.2800092921132133, 0.002797761453254421, 0.07647214638895418, 0.006528110057593649, 0.9856493620221346, 0.6201446374130205, 0.011164633406781057, 0.08677965057088913, 0.06343541708398327, 0.03197145021032757, 0.019791850130202782, 0.09286945061095152, 0.0005074833366718663, 0.0735850838174206, 0.9963996840675575, 0.8497838934936176, 0.07302830334710776, 0.07302830334710776, 0.33777738166419563, 0.0190420900331073, 0.18661248232445155, 0.3014509329856525, 0.0761683601324292, 0.021678687114614466, 0.009374567400914363, 0.024901194658678776, 0.004980238931735755, 0.017870269107993005, 0.9751977763387314, 0.9816353390881609, 0.26277762748679834, 0.5781107804709564, 0.10949067811949932, 0.04379627124779972, 0.9680697674126469, 0.9954550235924794, 0.9969045253117446, 0.9608575210175829, 0.13365657650586568, 0.07465502471498804, 0.15653472924110395, 0.027694605942656852, 0.4924823404585501, 0.07947147792240662, 0.036123399055639376, 0.7614567981145157, 0.2340257131819842, 0.08067703677227828, 0.07334276070207116, 0.14668552140414232, 0.056229449871587886, 0.32515290577918216, 0.15646455616441848, 0.12468269319352097, 0.03422662166096654, 0.06467294123527347, 0.9238991605039065, 0.31341349223806825, 0.08438055560255683, 0.5906638892178978, 0.9772725782284222, 0.971564218766819, 0.9859824409674735, 0.5818014551853342, 0.09827727283536052, 0.3184183639865681, 0.9743580806586609, 0.9742987844795367, 0.9597833713739962, 0.40510059124591036, 0.09225062968966276, 0.3034912020225137, 0.053478625907050874, 0.02406538165817289, 0.05882648849775596, 0.02941324424887798, 0.032087175544230524, 0.07592255155227587, 0.25459059203158374, 0.21458349899804915, 0.03455158034714351, 0.018639668345169527, 0.2059456039112633, 0.013184155658778444, 0.019094294402368782, 0.04137097120513236, 0.12183978332940079, 0.9884146309845143, 0.9803574704815519, 0.9691202560734273, 0.33824883999694455, 0.5048490149208127, 0.015145470447624381, 0.14135772417782758, 0.9849696496170985, 0.9795045657177202, 0.14020921905106443, 0.1366141108702679, 0.6291439316393916, 0.08987770451991309, 0.9898971051228915, 0.996915701653539, 0.2501919050850228, 0.7401510525431925, 0.9749923750516136, 0.9817582651546797, 0.9792852888278012, 0.9861402948162178, 0.20551184530479824, 0.7780091286538791, 0.9848772255572911, 0.9806938923313188, 0.13003879964622758, 0.49559231420728955, 0.10114128861373256, 0.1271490485429781, 0.05346039541011578, 0.0679091509263633, 0.023118008825996014, 0.9927615762544322, 0.8388772038481724, 0.152523127972395, 0.9795060330018105, 0.9645448943292612, 0.031452550902041125, 0.7333947843338201, 0.16540393008379772, 0.09986652382417975, 0.9799084234217526, 0.17719234317017027, 0.07087693726806811, 0.192380258299042, 0.010125276752581158, 0.06581429889177753, 0.10125276752581158, 0.384760516598084, 0.29026863558210364, 0.10740827188206281, 0.1606685719888708, 0.047934270096127204, 0.08255346516555241, 0.0719014051441908, 0.13670143694080722, 0.0079890450160212, 0.004438358342234001, 0.06302468845972281, 0.026630150053404, 0.2308301788933645, 0.1671528881641605, 0.137801636968668, 0.0004974788338219063, 0.1766049860067767, 0.06268233306156018, 0.0721344309041764, 0.07710921924239546, 0.05074284104983443, 0.0029848730029314375, 0.01989915335287625, 0.0014924365014657188, 0.11680796993147965, 0.335822913553004, 0.14844346178792206, 0.2652514317194017, 0.021901494362152434, 0.10950747181076217, 0.8680792566505762, 0.12401132237865374, 0.9669719455183355, 0.06548859702821848, 0.08334912349045988, 0.04762807056597708, 0.6429789526406905, 0.1547912293394255, 0.9969508495681647, 0.9835048889730609, 0.9780095575580934, 0.9827032756885334, 0.8591774505865793, 0.0909717300621084, 0.0454858650310542, 0.9679809626478475, 0.38780820189232434, 0.6032572029436156, 0.983864323814416, 0.9669817692236184, 0.9600974603663198, 0.9665533818700097, 0.10711777003517725, 0.8722446988578719, 0.9797087951087476, 0.9787897641426572, 0.9950150782289189, 0.9648879723272664, 0.9871007915402927, 0.2733415489066937, 0.04719566312058021, 0.07800394321318117, 0.07472646660758533, 0.08586988706661121, 0.0904583543144454, 0.06161656018520194, 0.1356875314716681, 0.04457368183610353, 0.06817151339639363, 0.013765401743502562, 0.0150763923857409, 0.011143420459025883, 0.10066691370787494, 0.8724465854682494, 0.98599387497294, 0.06356493476627231, 0.17480357060724885, 0.17480357060724885, 0.1032930189951925, 0.47673701074704233, 0.27610953347398315, 0.7161591024481437, 0.9410122733228243, 0.044810108253467824, 0.13551728383609693, 0.11119366878859234, 0.044014160562151135, 0.04748896271179465, 0.331264471599348, 0.0984527275732328, 0.03127321934679159, 0.11698500570466486, 0.08455351897465876, 0.9823752518071155, 0.9774460933032412, 0.9816724024644602, 0.7964378513981912, 0.16990674163161412, 0.021238342703951765, 0.9645442628567065, 0.9836413024175963, 0.1079449061598124, 0.061682803519892804, 0.8250074970785662, 0.9835428066201063, 0.9758407559031396, 0.9866960446846368, 0.9807712002083753, 0.9841238912910696, 0.9847238093986287, 0.6216523892247589, 0.032718546801303094, 0.2482096653891959, 0.041744352815455674, 0.053026610333146394, 0.9856141015484027, 0.9943872820452951, 0.09399616547985219, 0.8407434801253446, 0.06266411031990146, 0.9802198069228629, 0.10135203419047203, 0.20003690958645795, 0.024004429150374953, 0.03333948493107632, 0.10868672087530883, 0.4554173641585026, 0.0226708497531319, 0.015336163068295109, 0.03867380252004854, 0.8685465409012787, 0.12233049871848996, 0.9569361771407944, 0.9829369834828391, 0.04264141669260929, 0.1262841955896506, 0.5608986349566298, 0.11972397763694147, 0.05576185259802753, 0.0918430513379277, 0.9727571480833479, 0.9786692767027928, 0.13936487568140304, 0.08928062348339882, 0.5378613170829148, 0.09581335203096458, 0.09799092821348651, 0.039196371285394604, 0.9685253389883093, 0.9687468691846496, 0.14456489760272376, 0.0394267902552883, 0.8016780685241954, 0.6189732936898508, 0.3758052140259808, 0.07677675655661845, 0.1535535131132369, 0.23992736423943264, 0.5278402013267518, 0.9877320431183306, 0.979374933351006, 0.1934824393873328, 0.18761933516347423, 0.5804473181619985, 0.03517862534315142, 0.16809158453381098, 0.0009829917224199473, 0.17202355142349077, 0.6576214622989447, 0.9770498269834843, 0.9931735866022299, 0.6792503358593176, 0.18569433642197172, 0.02443346531868049, 0.07330039595604147, 0.02932015838241659, 0.9901637798838877, 0.9894775341401051, 0.8349406880114679, 0.07310540586275525, 0.02500974411094259, 0.06541009998246523, 0.9711734789161081, 0.38093495756681556, 0.04067274286520687, 0.0833295219677409, 0.16864308017280896, 0.036704670390552536, 0.20435573244469793, 0.04563283345852478, 0.0386887066278797, 0.9691572721279831, 0.09418121608090249, 0.10987808542771957, 0.769146597994037, 0.9824663167491484, 0.9930643849726847, 0.975847754266681, 0.4835415264902184, 0.09182404745470815, 0.0967083052980437, 0.03516665647201589, 0.1250370007893898, 0.008791664118003972, 0.07131016451269888, 0.012699070392672403, 0.04493517215868697, 0.02832869549134613, 0.9863617980120483, 0.11669185388801129, 0.23714796112724873, 0.1392773739953683, 0.2634977345858319, 0.2409122144784749, 0.9754686783039404, 0.9690136591823081, 0.9769020247530608, 0.20390194117935792, 0.047976927336319516, 0.14543006098821853, 0.03298413754371966, 0.292359400955697, 0.25787598443271736, 0.017991347751119817, 0.9663626378932444, 0.12469631613730679, 0.12909736258921173, 0.16870678065635625, 0.0674827122625425, 0.09975705290984543, 0.0777518206503207, 0.11002616129762365, 0.03520837161523956, 0.18631096646397602, 0.9705998919939732, 0.979728693642463, 0.1625301732845421, 0.13384837799903468, 0.11950748035628096, 0.5353935119961387, 0.047802992142512386, 0.3075858333554447, 0.6884063889383762, 0.31224374516595493, 0.6780149895032164, 0.2551389003346155, 0.7385599746528343, 0.18585193415048318, 0.13938895061286238, 0.040450126844516925, 0.004372986685893722, 0.10112531711129231, 0.0005466233357367152, 0.0502893468877778, 0.06012856693103867, 0.08527324037492758, 0.0645015536169324, 0.04263662018746379, 0.015305453400628026, 0.11916388719060392, 0.02623792011536233, 0.006559480028840582, 0.02951766012978262, 0.027877790122572476, 0.21764095085782711, 0.00762865188573827, 0.02423218834293333, 0.10365991680032591, 0.1534705261719111, 0.18308764525771848, 0.010769861485748147, 0.06686289005735307, 0.03993823634298271, 0.06955535542879011, 0.06192670354305184, 0.013013582628612344, 0.045323167085856784, 0.002243721142864197, 0.07877947491061749, 0.8665742240167924, 0.03938973745530874, 0.9835130841899046, 0.9655548236973327, 0.9955303845372904, 0.771705465291804, 0.21345044784666917, 0.9866920649958381, 0.03431202505641543, 0.7720205637693471, 0.18871613781028485, 0.18125504415855245, 0.809605863908201, 0.12075842284633757, 0.05322685304521766, 0.11576840537334841, 0.09846967813365268, 0.07884227607322866, 0.0009980034945978311, 0.20691939121328365, 0.07917494390476128, 0.04324681809923935, 0.05588819569747855, 0.044244821593837184, 0.01696605940816313, 0.021956076881152285, 0.0575515348551416, 0.004990017472989156, 0.4367018920263201, 0.38757292917335906, 0.1282811807827315, 0.046399576027796506, 0.23372707950247276, 0.08150392106704987, 0.10342688465124551, 0.1555823222104206, 0.07955914203941962, 0.14868719656700422, 0.0636473136315357, 0.0022983752144721224, 0.022276559771037496, 0.0008839904671046624, 0.08999022955125464, 0.0033591637749977176, 0.012906260819728071, 0.00035359618684186497, 0.0015911828407883925, 0.04206052219208942, 0.07264999287724536, 0.1529473534257797, 0.13000525041191274, 0.3594262805505823, 0.23706839780995856, 0.10072692648261979, 0.0888766998376057, 0.8117405251834653, 0.9856325908715253, 0.9846646102265209, 0.16643444001595686, 0.7034628998007776, 0.09764153814269469, 0.031067762136311947, 0.023591711496299888, 0.056357977463383065, 0.24115971751773219, 0.13892896770043267, 0.508532447809131, 0.030144964689716523, 0.028212003092071027, 0.08629553886986432, 0.09293365724446927, 0.7492776115335334, 0.04314776943493216, 0.9832336428529578, 0.9750678989163278, 0.10716163837741025, 0.38272013706217944, 0.5051905809220769, 0.4386884571293709, 0.5580375226719203, 0.9756204315360447, 0.8586030796393301, 0.054804451891872136, 0.027402225945936068, 0.054804451891872136, 0.25470833795594766, 0.05514304223788557, 0.6144510420792964, 0.07352405631718076, 0.1535781785384262, 0.8446799819613441, 0.1853203033867624, 0.7991938083554128, 0.2134267668518164, 0.3310851126803819, 0.07935097741926508, 0.18606436084517328, 0.03557112780863607, 0.12313082702989409, 0.03283488720797176, 0.9856692906588439, 0.9672532918487327, 0.6709697080664857, 0.32046314415115734, 0.9845480607959906, 0.9831071018926588, 0.2373667739932256, 0.15824451599548373, 0.4933505498682728, 0.10704776082047429, 0.19561694558692794, 0.17483264511831684, 0.06235290140583328, 0.17605525102823513, 0.12348319690174825, 0.18950391603733643, 0.04401381275705878, 0.033010359567794086, 0.39669034130001174, 0.07298160581780631, 0.09534693663294051, 0.34371982094837816, 0.02354245348961494, 0.06709599244540258, 0.12261908896161884, 0.858333622731332, 0.07780406876782124, 0.2659813513690633, 0.17008331312035344, 0.05066311454648825, 0.3094068781231961, 0.07961346571591012, 0.01990336642897753, 0.025331557273244126, 0.17017728440824254, 0.16244195329877695, 0.6652384754140389, 0.9711757936698631, 0.9603611155737384, 0.1034849009680581, 0.8796216582284938, 0.9481297335391047, 0.03950540556412936, 0.9911453004717324, 0.21534355837027425, 0.7736416726635779, 0.9707244132711901, 0.9815678364161811, 0.9823956690774189, 0.9581631083481672, 0.9949627231511103, 0.7070634357124881, 0.07000628076361268, 0.21701947036719932, 0.11494913032257277, 0.10471805589595636, 0.5488670515925987, 0.0433316093362578, 0.05837730702245843, 0.10712536752574844, 0.022267632575576925, 0.9923998349426518, 0.9567574580588001, 0.9650587301854205, 0.062297930504589, 0.09863838996559925, 0.15574482626147249, 0.11940436680046224, 0.12200011390482011, 0.33225562935780795, 0.10642563127867287, 0.9159476989409919, 0.07964762599486887, 0.98727300506985, 0.9675614687171558, 0.9768302131485297, 0.9820987049241102, 0.9942873376960334, 0.14900748316340945, 0.6953682547625775, 0.14900748316340945, 0.8870776744069474, 0.10862175604983029, 0.11629716418651996, 0.8722287313988997, 0.07976408466420438, 0.12850880307010706, 0.7134454239409392, 0.07533274662730415, 0.9284118953525821, 0.06910509253433458, 0.25844050572650157, 0.5797449182513413, 0.1536673277292712, 0.33485806709800814, 0.17282997011510098, 0.3024524477014267, 0.002700468283048453, 0.07426287778383245, 0.03780655596267834, 0.051308897377920604, 0.022953980405911848, 0.933975114696044, 0.062265007646402935, 0.22746387191058906, 0.17330580716997263, 0.031140887225854456, 0.11576286338306765, 0.0487422582665548, 0.05889689540542038, 0.05280411312210103, 0.07920616968315154, 0.03452576627214298, 0.055512016359131854, 0.041972500173977745, 0.033848790462885275, 0.011508588757380995, 0.014893467803669522, 0.014893467803669522, 0.00609278228331935, 0.9755475913277235, 0.16879253181257228, 0.13380472409792143, 0.1394784226462432, 0.0803773961012249, 0.048226437660734936, 0.06430191688097991, 0.09456164247202929, 0.0529545197843364, 0.03546061592701098, 0.055318560846137135, 0.031205342015769664, 0.025531643467447906, 0.01607547922024498, 0.005200890335961611, 0.04349835553713347, 0.004728082123601465, 0.9736632234007048, 0.9702710276981795, 0.3672572423575151, 0.06666771596935785, 0.06198927976098185, 0.5017622833483248, 0.972532222989992, 0.9778357094353576, 0.3834664388323164, 0.6109465296650465, 0.3482915337285336, 0.14674211827141265, 0.017679773285712366, 0.022983705271426076, 0.14497414094284142, 0.09016684375713307, 0.06187920649999328, 0.014143818628569893, 0.11138257169998791, 0.04243145588570968, 0.29725535107020273, 0.7011126211448919, 0.17945923187822788, 0.8114678311015521, 0.9924961246050807, 0.994116332515064, 0.9815533080280165, 0.9754196014669647, 0.9693693734569967, 0.9829895571030812, 0.6962382524620222, 0.20477595660647713, 0.09829245917110901, 0.8789686884174818, 0.10987108605218522, 0.24753352787115077, 0.5625761997071609, 0.18002438390629147, 0.9787179899856331, 0.9841398585631261, 0.989375347899826, 0.010361055433206914, 0.04662474944943112, 0.8521968093812687, 0.06216633259924149, 0.02331237472471556, 0.9879522671375852, 0.16848771954291936, 0.16848771954291936, 0.6586338127586847, 0.9619033839756538, 0.15576453002365154, 0.834452839412419, 0.1994753817838446, 0.030688520274437633, 0.7518687467237221, 0.9865060676043387, 0.004621995155305693, 0.14328184981447648, 0.29927418630604363, 0.2588317286971188, 0.07395192248489109, 0.0693299273295854, 0.030042968509487004, 0.027731970931834157, 0.06586343096310612, 0.025420973354181312, 0.9888197198026958, 0.9810812529995899, 0.11343633823326958, 0.1254043922670549, 0.09470373191951864, 0.0900205803410809, 0.06348272139660041, 0.19304991506671107, 0.014049454735313204, 0.028098909470626408, 0.05984027016892661, 0.01925295648913291, 0.054116418239724934, 0.05775886946739873, 0.016651205612223056, 0.05567746876587085, 0.012488404209167293, 0.0015610505261459116, 0.001040700350763941, 0.17489984577492323, 0.06591702730210675, 0.1133772869596236, 0.07822153906516667, 0.15380639703824908, 0.07822153906516667, 0.02373012982875843, 0.09931498780184082, 0.044823578565432586, 0.006152255881529963, 0.05976477142057678, 0.02197234243403558, 0.031640173105011236, 0.04833915335487828, 0.42214355759447725, 0.19368939701393664, 0.32778205648512354, 0.04966394795229145, 0.9684631185260363, 0.9862916118533803, 0.10681865264748787, 0.12462176142206918, 0.2169341772902686, 0.1002249086569022, 0.04945307992939253, 0.023737478366108417, 0.017143734375522746, 0.12725925901830346, 0.09494991346443367, 0.037584340746338325, 0.042199961539748296, 0.02571560156328412, 0.03230934555386979, 0.9710149075252951, 0.03229093988869943, 0.38749127866439315, 0.09687281966609829, 0.18656987491248558, 0.25115175468988443, 0.039466704308410414, 0.9720883766870311, 0.9297426895046748, 0.0516523716391486, 0.9862431301412404, 0.968187938368963, 0.3412722578793695, 0.09307425214891896, 0.04653712607445948, 0.20166087965599105, 0.3154182989491142, 0.9645847544367555, 0.9850776367837016, 0.9772671799499995, 0.1326691292910692, 0.8623493403919498, 0.9912152027627203, 0.9825795629875556, 0.9921380929739644, 0.9532558118304657, 0.9828933444983873, 0.9841059023737029, 0.3752004545737344, 0.015839597026859498, 0.05345863996565081, 0.1960150132073863, 0.2890726457401859, 0.06929823699251031, 0.3840165425581508, 0.07586749796405591, 0.06249877585585222, 0.03041384279616338, 0.18315149288239047, 0.17212229714312244, 0.04545365516789252, 0.021389955373125893, 0.02506635395288191, 0.9675131307117374, 0.27251010315262875, 0.7137169368283134, 0.9779194812687924, 0.9983233202689603, 0.9752834260918596, 0.19132125459901536, 0.22165267301105437, 0.018665488253562474, 0.18665488253562473, 0.1983208126941013, 0.1749889523771482, 0.006999558095085927, 0.9914025272803753, 0.8958104781324885, 0.08831934291447069, 0.6183881357473278, 0.3802731639365751, 0.14495630636866783, 0.8516182999159235, 0.59128704529895, 0.2782527271995059, 0.11825740905979001, 0.9756902268788621, 0.03691119951451954, 0.1937837974512276, 0.14764479805807815, 0.6182625918682023, 0.969343105694894, 0.9750339265659845, 0.9648125187119383, 0.3453718123614327, 0.6440717581875367, 0.963956801943563, 0.9807034291910722, 0.9821643220564668, 0.2435440821691741, 0.16597078192269643, 0.0626900507805837, 0.05006183911255246, 0.040139672801956475, 0.24444609728831918, 0.11365390501228124, 0.07892632292519532, 0.0004510075595725446, 0.9876112034705109, 0.9727391787367339, 0.1982625265540391, 0.16716252238869964, 0.07094688450218066, 0.04956563163850977, 0.06122813320051207, 0.006803125911168008, 0.004859375650834292, 0.10982188970885498, 0.09913126327701954, 0.23227815610987912, 0.1233465332571993, 0.863425732800395, 0.12842316953314803, 0.8508034981571057, 0.9883438851059813, 0.5963887601061694, 0.021010986128401632, 0.1422282137922572, 0.1971800236665384, 0.01939475642621689, 0.022627215830586373, 0.9698493644818907, 0.7781924113088343, 0.10363337196606752, 0.0037684862533115464, 0.05087456441970588, 0.06218002317964052, 0.9897741481436494, 0.13821280317009643, 0.23425898842389226, 0.06793510664292876, 0.5551938025646247, 0.26462024720809396, 0.08253858974288562, 0.11329949934613698, 0.03763912541515849, 0.09495759051438463, 0.0842581436958624, 0.06935534277006361, 0.008788831315214672, 0.016049170227783315, 0.09247379036008482, 0.004203354107276583, 0.019870401234398392, 0.06056651145484894, 0.00611396961058412, 0.015284924026460301, 0.026175432395313267, 0.0005731846509922613, 0.00019106155033075375, 0.0028659232549613067, 0.36101750825005163, 0.14156434575474466, 0.03468042205236717, 0.07277203315906552, 0.0938076989941079, 0.17397064177089103, 0.05173636732402315, 0.037523079597643165, 0.03297482752520157, 0.7742168853170996, 0.11911029004878455, 0.1071992610439061, 0.9583937020736323, 0.14726435087053286, 0.21575939778705977, 0.0034247523458263455, 0.6335791839778739, 0.18015507513403956, 0.1718402255124685, 0.03233552630610966, 0.30580169163778, 0.0018477443603491237, 0.04711748118890265, 0.1090169172605983, 0.03695488720698247, 0.004619360900872809, 0.09238721801745618, 0.009238721801745618, 0.007390977441396495, 0.9763279907017952, 0.9839913602489042, 0.8257465631829402, 0.16514931263658802, 0.046583868687739984, 0.9472053299840463, 0.9752029126122908, 0.9988736427089697, 0.998988216236174, 0.08404959579945899, 0.17014918174036822, 0.03279984226320351, 0.13119936905281404, 0.02254989155595241, 0.11069946763831184, 0.14759929018441578, 0.22959889584242457, 0.07174965495075768, 0.9783384244694369, 0.9609410342760789, 0.0555478534784123, 0.40821213253902994, 0.0788004433065849, 0.018085347644134237, 0.0788004433065849, 0.08396768549062324, 0.12918105460095883, 0.003875431638028765, 0.06459052730047941, 0.058131474570431475, 0.020668968736153412, 0.1676817102898502, 0.6306290408726976, 0.04009780028670331, 0.018226272857592415, 0.13851967371770235, 0.9608272103702877, 0.26714037747190816, 0.11439260496278184, 0.10743932897484804, 0.030728993882159043, 0.07312154748601349, 0.03768226987009284, 0.07424304361309958, 0.055626207903470386, 0.0814206188264506, 0.0500187272680399, 0.013009355074198719, 0.02848600162798685, 0.03095329310757626, 0.007177575213351017, 0.011439260496278183, 0.004485984508344386, 0.01256075662336428, 0.965864567941629, 0.08292318315807592, 0.20760624272669367, 0.16465322699013635, 0.544668102326067, 0.23622164769302675, 0.00762005315138796, 0.03714775911301631, 0.08382058466526757, 0.10096570425589046, 0.14287599658852426, 0.190501328784699, 0.10191821089981397, 0.016192612946699415, 0.01143007972708194, 0.03333773253732233, 0.038100265756939804, 0.9628039471679022, 0.338554672506093, 0.042319334063261625, 0.09459615849434952, 0.02364903962358738, 0.0809046092385884, 0.22528821957206926, 0.007468117775869699, 0.12944737478174145, 0.05725556961500103, 0.056854898616923936, 0.19330665529754137, 0.7277427022966264, 0.9742960099190912, 0.2190845073523441, 0.46361108652625077, 0.2614879603882817, 0.03533621086328131, 0.02049500230070316, 0.9710442846144043, 0.9811527636949688, 0.912245065862739, 0.0739658161510329, 0.13351810414074536, 0.28483862216692346, 0.5785784512765633, 0.17743853260918985, 0.26615779891378477, 0.5471021422116688, 0.10507778912083948, 0.09271569628309366, 0.7849928951968597, 0.01854313925661873, 0.1611153355922215, 0.1356760720776602, 0.11871656306795267, 0.08903742230096451, 0.3010312849223086, 0.059358281533976334, 0.1314361948252333, 0.9768693215359363, 0.24261163362585897, 0.14222061281515871, 0.34718561363700506, 0.0752932656080252, 0.04601255120490429, 0.004182959200445844, 0.05158983013883208, 0.025097755202675067, 0.00697159866740974, 0.009760238134373636, 0.050195510405350134, 0.5956639134804453, 0.2311531604550982, 0.029635020571166435, 0.13928459668448226, 0.9643549682487188, 0.9864389674211809, 0.7874458066946239, 0.019851574958687997, 0.185281366281088, 0.9856933414240253, 0.9908454814368748, 0.9871958719175521, 0.3161304188795405, 0.17181001026061984, 0.16837381005540747, 0.2611512155961422, 0.08246880492509753, 0.9704650427133337, 0.07896603263729715, 0.25193924698566234, 0.07144545810041171, 0.4549947594815693, 0.14289091620082342, 0.9880222498718977, 0.9657124472094346, 0.24076464016976773, 0.7408142774454392, 0.07322777777874687, 0.8380512345789919, 0.08950061728513506, 0.9813320314316265, 0.0426354431068282, 0.0947454291262849, 0.6205825607771661, 0.16106722951468433, 0.08053361475734216, 0.9878915185855628, 0.2189421983085965, 0.16132583033265005, 0.6107335005450324, 0.9940746421468873, 0.08412540667451299, 0.2512976891687375, 0.03019886393444056, 0.23188413378231143, 0.02264914795083042, 0.033434456498844904, 0.10569602377054196, 0.04206270333725649, 0.1423660728337912, 0.05608360444967533, 0.9882013832329595, 0.15650691597794206, 0.1330581445944873, 0.002726601323657527, 0.07198227494455871, 0.32664683857417176, 0.0812527194449943, 0.017450248471408174, 0.08397932076865183, 0.05616798726734506, 0.06925567362090118, 0.6803799202308481, 0.09049388101592562, 0.13071338368967034, 0.09049388101592562, 0.2477784111692066, 0.012129013134156966, 0.16634075155415268, 0.021947738052284033, 0.2922514593277821, 0.010396296972134542, 0.10742840204539027, 0.02137016599827656, 0.031188890916403627, 0.08894609631715109, 0.9770162134014772, 0.9890831088955756, 0.7166623910868647, 0.20476068316767562, 0.07087869801958002, 0.7565673415868367, 0.23777830735586297, 0.9887248644773261, 0.9684940296451587, 0.17847880659615592, 0.016602679683363344, 0.6993878816616808, 0.053958708970930865, 0.05188337401051044, 0.973877781283754, 0.9777565168334666, 0.9915619506368469, 0.9651708369837834, 0.9834474501029585, 0.9619391956584983, 0.09931853471523236, 0.81474865766394, 0.08585161475384492, 0.9959806201075414, 0.996095461108823, 0.9793744881069716, 0.16650436169146526, 0.09300243626009772, 0.06600172895877902, 0.03600094306842492, 0.3172583107904946, 0.04800125742456656, 0.11700306497238099, 0.07950208260943836, 0.03975104130471918, 0.036750962715683774, 0.151424925523054, 0.24101800645752763, 0.10221182472806145, 0.3280873386332837, 0.16278179493728306, 0.012618743793587834, 0.9687527664438126, 0.19774132530989444, 0.10656060308366534, 0.14281317939047933, 0.02636551004131926, 0.06591377510329816, 0.0856879076342876, 0.006591377510329815, 0.1351232389617612, 0.007689940428718118, 0.05822383467458003, 0.12743329853304308, 0.023069821286154354, 0.01757700669421284, 0.9629119367570905, 0.9736576002901528, 0.30022500802546315, 0.002690188243955763, 0.055955915474279874, 0.015065054166152274, 0.10975968035339513, 0.09361855088966055, 0.23350833957536024, 0.017217204761316884, 0.011298790624614205, 0.019369355356481495, 0.06348844255735601, 0.01667916711252573, 0.03927674836175414, 0.022059543600437256, 0.9849881394646391, 0.9756431172466645, 0.6360072271262628, 0.35147767814872416, 0.07616233640157273, 0.9139480368188727, 0.9785541354488154, 0.9872652312552105, 0.7515392861290835, 0.24787611542503105, 0.9694455547076966, 0.9826632509778555, 0.08577701895438514, 0.8148816800666587, 0.08577701895438514, 0.06076984553249631, 0.12227185787863715, 0.15888019856086383, 0.3982987466226264, 0.03660834068222669, 0.06955584729623071, 0.010250335391023473, 0.07760968224632057, 0.06516284641436351, 0.11349287359731237, 0.21077247953786585, 0.11349287359731237, 0.5674643679865619, 0.09460200259001432, 0.8987190246051361, 0.9822711694746341, 0.04183913028755255, 0.10320318804262964, 0.6108513021982673, 0.13946376762517518, 0.10599246339513313, 0.9594839443145049, 0.21160358246709932, 0.016928286597367944, 0.11003386288289164, 0.04232071649341986, 0.11849800618157562, 0.4909203113236704, 0.9697016291963609, 0.9798235277647056, 0.9713820781536676, 0.259509567171738, 0.12045161042310859, 0.03721269265104168, 0.09890741994092656, 0.0724668225309759, 0.00587568831332237, 0.20075268403851432, 0.061694727289884885, 0.019585627711074565, 0.10184526409758775, 0.020564909096628295, 0.9701557440807167, 0.9712393710149072, 0.9590427397233962, 0.2685624883800372, 0.11009393933591588, 0.11120599932920795, 0.060607269634418336, 0.21073536872884907, 0.0016680899899381193, 0.13455925918834163, 0.10175348938622528, 0.9736530098007898, 0.9751211462761761, 0.9868417881083564, 0.38960254256958843, 0.040217036652344614, 0.0245072567100225, 0.06660946695544577, 0.03141955988464423, 0.09614385324701134, 0.09174511486316116, 0.04712933982696634, 0.05341325180389519, 0.1589829730162998, 0.07567604463812701, 0.9081125356575241, 0.20865060488291268, 0.7877624878232418, 0.9882423411805813, 0.9835189987606111, 0.9181711069862832, 0.0749527434274517, 0.14342288029545308, 0.7489861526540328, 0.09561525353030206, 0.9863557353478352, 0.957017469562322, 0.18955416803112893, 0.45201378530499975, 0.3548065196480105, 0.2072120191946213, 0.05426981455097224, 0.15646621857553036, 0.02255368916404041, 0.07188988421037881, 0.0796427148605177, 0.021144083591287884, 0.17479109102131318, 0.050040997832714665, 0.06202264520111113, 0.005638422291010103, 0.06272744798748739, 0.031011322600555564, 0.9890578954050392, 0.00253631913048729, 0.05157182231990822, 0.26715894841132787, 0.029590389855685045, 0.08285309159591812, 0.14626106985810036, 0.24095031739629252, 0.010990716232111588, 0.09046204898738, 0.008454397101624298, 0.06848061652315682, 0.18566385555006745, 0.03789058276531988, 0.15156233106127953, 0.04167964104185187, 0.04546869931838386, 0.02273434965919193, 0.2311325548684513, 0.28039031246336715, 0.9741323488753892, 0.3592878564442708, 0.0768579692909136, 0.11297195486134289, 0.1027859589312218, 0.18797792489223447, 0.07315397077086958, 0.03611398557042928, 0.021297991490253167, 0.027779988900330215, 0.0543570996490619, 0.09559352007248817, 0.12933240950983693, 0.12183487852375943, 0.21180525035668948, 0.052482716902542526, 0.039362037676906894, 0.22867469507536387, 0.024366975704751884, 0.02249259295823251, 0.01686944471867438, 0.987051539118812, 0.3816572423486236, 0.05826828127459902, 0.08448900784816858, 0.09177254300749346, 0.03496096876475941, 0.007283535159324878, 0.27677433605434537, 0.055354867210869074, 0.008740242191189853, 0.9848577850484542, 0.16023820807727507, 0.24836922251977633, 0.5928813698859177, 0.9896392518844639, 0.9806622191821416, 0.06789130548999953, 0.380548633404471, 0.007146453209473633, 0.09558381167670985, 0.1509688240501305, 0.02501258623315772, 0.1054101848397361, 0.05895823897815748, 0.015186213070131472, 0.0625314655828943, 0.030372426140262945, 0.9756635248755522, 0.1939559050160784, 0.8040353880666522, 0.9816693527715182, 0.011481512897912494, 0.9877235939193912, 0.9780497213814155, 0.10081377826223309, 0.08130143408244604, 0.11463502205624893, 0.2329286086462079, 0.08333396993450719, 0.02235789437267266, 0.16260286816489208, 0.035772630996276256, 0.09187062051316403, 0.05894353970977338, 0.01626028681648921, 0.9828957091029181, 0.012083464110816722, 0.16675180472927076, 0.19816881141739426, 0.049542202854348565, 0.3322952630474599, 0.0918343272422071, 0.08820928800896208, 0.061625666965165284, 0.7524456880393268, 0.08805215498332547, 0.15209008588028944, 0.8901395338672711, 0.10252916096900505, 0.0839927673800567, 0.10499095922507087, 0.7979312901105386, 0.9882735912843315, 0.09790939519629327, 0.897502789299355, 0.5476964968856861, 0.45146041991352415, 0.30241173738165034, 0.6912268283009151, 0.41455615112827987, 0.5821426803077973, 0.03236093745297828, 0.08494746081406798, 0.22248144498922567, 0.20225585908111426, 0.44496288997845135, 0.012135351544866856, 0.3878295506147561, 0.13373432779819178, 0.04619913142119352, 0.06686716389909589, 0.29907858762141065, 0.024315332326943957, 0.041336064955804726, 0.41227053976806616, 0.5809266696731842, 0.15227036070541788, 0.05163190391735434, 0.0612581910883865, 0.04463096779296731, 0.32991911486173875, 0.0017502340310967574, 0.01925257434206433, 0.18552480729625628, 0.021877925388709467, 0.03763003166858028, 0.0612581910883865, 0.03237932957529001, 0.9760105972919388, 0.988836639176954, 0.9679992131885801, 0.13696238460523277, 0.7897192814471933, 0.06993823894735292, 0.10281893175807238, 0.044983282644156665, 0.0651798585252066, 0.06885196323085203, 0.10281893175807238, 0.3167190308619194, 0.011016314116936326, 0.0348849947036317, 0.039475125585688504, 0.15239234528428586, 0.029376837645163537, 0.0009180261764113605, 0.029376837645163537, 0.15057468471446445, 0.49663229344419857, 0.0871748174662689, 0.13736637903775706, 0.12415807336104964, 0.9888038915911812, 0.22998574170010974, 0.4297447859196336, 0.1209067899223434, 0.06176759919945804, 0.05256816953145365, 0.10382213482462097, 0.02157213179146988, 0.9707459306161446, 0.979865281937261, 0.2764975047792138, 0.1034709997094771, 0.09197422196397964, 0.021843877716445165, 0.16727811619698796, 0.06898066647298473, 0.06725614981116011, 0.04771162764381444, 0.05231033874201342, 0.013796133294596946, 0.02299355549099491, 0.028167105476468765, 0.0379393665601416, 0.21541349065079995, 0.21541349065079995, 0.4810901291201199, 0.08616539626031998, 0.9851818242651598, 0.9890049885720762, 0.8202248673386884, 0.1594881686491894, 0.3927912091924938, 0.3057656119462527, 0.23050023054409816, 0.07056129506451984, 0.0934049320854619, 0.6071320585555023, 0.13426958987285148, 0.15762082289421694, 0.967891494776739, 0.9650032202466436, 0.9638487608839794, 0.977235601439081, 0.9879917082829669, 0.886528557223004, 0.1009969242405954, 0.1009658235478123, 0.8931592083075705, 0.1871272599754136, 0.7647809755516903, 0.04881580695010789, 0.9661095898838196, 0.06469447897786881, 0.9218963254346305, 0.9814654893847957, 0.9703296974327686, 0.9777825183407085, 0.992350658797503, 0.15510157632684604, 0.8351623340676325, 0.9613894427475133, 0.03315136009474184, 0.9824504997017699, 0.9737728323719518, 0.9728534191488764, 0.9741806001799043, 0.18427321011794517, 0.23276616014898338, 0.11638308007449169, 0.46068302529486294, 0.4443307603018238, 0.09187290156616656, 0.12194039662418472, 0.11525873105573624, 0.20713163262190282, 0.020044996705345434, 0.16090714095965206, 0.8347057937281951, 0.985354853921258, 0.9747036429310846, 0.9616921807384308, 0.9796249231360538, 0.976372371032113, 0.9855547005497796, 0.14712773454041275, 0.08827664072424765, 0.5548817416952709, 0.12190583719062771, 0.08407299116595014, 0.9804905873676852, 0.9896804743745812, 0.9917282430773249, 0.9824181540526602, 0.987780980502732, 0.833418673032935, 0.15538314242986925, 0.06255325948563017, 0.1263330534709786, 0.19379245095548173, 0.1459576054664704, 0.08340434598084023, 0.01962455199549182, 0.0601001904861937, 0.01103881049746415, 0.20115165795379114, 0.026983758993801253, 0.07113900098365784, 0.1365986428175146, 0.20192842851284767, 0.09502514282957537, 0.5582727141237553, 0.9588621126775547, 0.9079847896219966, 0.07673110898214056, 0.9840017460097489, 0.9815840558886584, 0.2807771368282121, 0.7113020799648039, 0.19424078197540748, 0.6701306978151558, 0.13458111322581803, 0.9780101240703419, 0.9851029517462336, 0.9714807487501027, 0.9629179069401923, 0.9909600087353104, 0.9933393912629928, 0.9148937805340763, 0.0703764446564674, 0.05707970930176452, 0.1426992732544113, 0.18075241278892099, 0.6183635174357823, 0.15340091394879185, 0.8378049915664786, 0.9708504995779975, 0.1763000705955104, 0.003066088184269746, 0.7251298555797949, 0.06438785186966467, 0.030660881842697458, 0.930986680696559, 0.06863478448930836, 0.5907821784203611, 0.4078824903066603, 0.27853123240951294, 0.10357235457005591, 0.1440109631272889, 0.10604818774702936, 0.05446832989341586, 0.10150916025591138, 0.05735680193321822, 0.013204443610525057, 0.018156109964471954, 0.0462155526368377, 0.024345692906905574, 0.02682152608387902, 0.007427499530920345, 0.017743471101643045, 0.9851322338785325, 0.9778338180992276, 0.9506597902536621, 0.039068210558369676, 0.9860504940448552, 0.04271043372005547, 0.9396295418412203, 0.989698761300704, 0.9705592977099764, 0.10980330049919798, 0.07320220033279866, 0.17080513410986353, 0.2684080678869284, 0.3721111850250598, 0.1342458204776797, 0.522470220237456, 0.14513061673262667, 0.09433490087620734, 0.10159143171283867, 0.1381650367502068, 0.7881245054061092, 0.06810952515855265, 0.0038919728662030082, 0.12325712143796703, 0.8740050429237662, 0.9807142517900221, 0.9856567242454808, 0.008623352697772962, 0.1228827759432647, 0.26947977180540506, 0.010779190872216201, 0.10563607054771877, 0.03880508713997833, 0.15522034855991332, 0.2608564191076321, 0.023714219918875644, 0.3541624871704105, 0.04372376384819883, 0.3148110997070316, 0.021861881924099415, 0.037165199270969, 0.2011293137017146, 0.028420446501329237, 0.9664882989911019, 0.16570853155524148, 0.09580024480537398, 0.4971255946657244, 0.04660552449991166, 0.059551503527664904, 0.03883793708325972, 0.09062185319427268, 0.17985177927800367, 0.11690365653070238, 0.08992588963900183, 0.5485479267979112, 0.0539555337834011, 0.9770330623710736, 0.9736251181108485, 0.9649784217150112, 0.9529576959914158, 0.42211605253669077, 0.11655443241684746, 0.04725179692574897, 0.06615251569604856, 0.08977841415892304, 0.17640670852279614, 0.02520095836039945, 0.03465131774554924, 0.01890071877029959, 0.08671026163788856, 0.15037863556780673, 0.238099506315694, 0.09762484002587453, 0.11318822031985454, 0.1075288093038618, 0.09176330718788207, 0.022839765885970646, 0.011925187497984675, 0.039413755289949344, 0.006063654659992207, 0.007680629235990129, 0.012531552963983894, 0.004042436439994804, 0.010106091099987011, 0.9848292354355704, 0.03217587329622706, 0.24131904972170293, 0.1809892872912772, 0.01608793664811353, 0.08043968324056765, 0.14076944567099337, 0.3016488121521287, 0.9861886594981674, 0.2920066111107393, 0.03567926438009033, 0.02628998428006656, 0.18215203394046114, 0.00657249607001664, 0.15022848160038033, 0.14928955359037796, 0.0328624803500832, 0.05351889657013549, 0.059152464630149754, 0.011267136120028524, 0.9760656492583709, 0.1237952441249236, 0.7258902950961429, 0.14630347032945518, 0.9075671379691409, 0.08103278017581615, 0.9758415451374414, 0.13977392795623153, 0.8486274197342629, 0.36483140734137537, 0.23109899436093553, 0.05161601904508205, 0.06100074978055151, 0.0692123891740873, 0.010557822077403146, 0.026981100864474708, 0.06334693246441887, 0.07390475454182202, 0.045750562335413636, 0.990034325860119, 0.7964080592619122, 0.08145082424269556, 0.10860109899026074, 0.0023599423585525235, 0.058998558963813084, 0.01415965415131514, 0.26903342887498766, 0.06607838603947065, 0.14395648387170393, 0.4436691634078744, 0.819863333796486, 0.17391040413864853, 0.9744151022763929, 0.1758202312432586, 0.6853400850502529, 0.11840954349035783, 0.014352671938225191, 0.324575570946603, 0.061130825021333296, 0.035417065290137544, 0.08078001877819042, 0.08732975003047615, 0.09800338614531211, 0.0870871673915026, 0.041724213903449714, 0.026441507648116386, 0.002910991667682538, 0.0800522708612698, 0.04269454445934389, 0.025228594453248664, 0.0070348965302328, 0.3719383626876425, 0.04859496195918948, 0.002803555497645547, 0.0794340724332905, 0.0887792574254423, 0.08784473892622713, 0.04859496195918948, 0.11401125690425223, 0.0037380739968607287, 0.05607110995291093, 0.014952295987442915, 0.005607110995291094, 0.026166517978025102, 0.052333035956050204, 0.0582706389899437, 0.3119831727287669, 0.19906118909608098, 0.04162188499281693, 0.1241417961090105, 0.13499967915061492, 0.01954418947488795, 0.01447717738880589, 0.04994626199138032, 0.04560310877473855, 0.9865475106082154, 0.07995971757666352, 0.15230422395554957, 0.6016016846244209, 0.05330647838444235, 0.06472929518110856, 0.049498872785553615, 0.975419311109827, 0.8608557483950694, 0.13604804743028345, 0.9800364621323547, 0.8476520861944008, 0.0706376738495334, 0.0706376738495334, 0.9899646341163213, 0.9866979692154023, 0.9778628650702114, 0.9735418513399251, 0.8652934466624047, 0.12048389763653737, 0.15830671980287433, 0.8311102789650903, 0.987899303091291, 0.19502435659682563, 0.1408509242088185, 0.5959077562680783, 0.05417343238800712, 0.9832357203831315, 0.9798452263244517, 0.07763760876229736, 0.17539041615846268, 0.1997403934520923, 0.18033099126151797, 0.029290552396684915, 0.016233318195753084, 0.010234048427757379, 0.08116659097876543, 0.0966941127312249, 0.04058329548938271, 0.010939844871050992, 0.005293473324702092, 0.019056503968927534, 0.022938384407042402, 0.027173163066804076, 0.007763760876229736, 0.9854826412190377, 0.9841254739605594, 0.9649118063249431, 0.9828721972470846, 0.9598092743213024, 0.9788922142966678, 0.9844057265854405, 0.15152682917122728, 0.6566162597419849, 0.1894085364640341, 0.19023943302860458, 0.16828872921761173, 0.6365704105187923, 0.9573049407768931, 0.03626155078700353, 0.9606714736368759, 0.9696370042813373, 0.9629938043020316, 0.9726582709969246, 0.009607551988453623, 0.2690114556767014, 0.7109588471455681, 0.977294662763588, 0.9876803937494757, 0.9765166204575791, 0.38550345161151683, 0.07058513902746083, 0.5375329818245094, 0.8962501543988753, 0.09534576110626333, 0.9815059327924148, 0.25675466620536386, 0.28836710258500325, 0.18581944310958765, 0.052430382288182406, 0.057056592490080854, 0.033154506446938875, 0.07633246833132439, 0.04780417208628396, 0.0023131051009492236, 0.9850151032247954, 0.8608207217738469, 0.13243395719597645, 0.3438042770214924, 0.49010396937106365, 0.06583486155730706, 0.0975331282330475, 0.46217244897673126, 0.08136838890435409, 0.10903364113183449, 0.10252417001948616, 0.1171704800222699, 0.014646310002783738, 0.03742945889600288, 0.06834944667965744, 0.004882103334261246, 0.9655432492940622, 0.9677848938181038, 0.09536043090409892, 0.15257668944655828, 0.031786810301366306, 0.5721625854245935, 0.08264570678355239, 0.06357362060273261, 0.3117151970084265, 0.5922588743160103, 0.08728025516235942, 0.9947803184800165, 0.9686700954449158, 0.9278106908281857, 0.06627219220201326, 0.9843088050677558, 0.9647410787684979, 0.9888599037669767, 0.9676420410749678, 0.9717071040860568, 0.1453546798447844, 0.19726706550363596, 0.13439539842791573, 0.12055209558555531, 0.12574333415144046, 0.09113507704553941, 0.0386458871015895, 0.019034541408245575, 0.05018197280355651, 0.027686605684720835, 0.03691547424629445, 0.0005768042850983507, 0.0011536085701967015, 0.009805672846671963, 0.9833057984211492, 0.4877529176657625, 0.043880885326331574, 0.05485110665791447, 0.17046036222921113, 0.06750905434820242, 0.016877263587050606, 0.03375452717410121, 0.07594768614172773, 0.04894406440244676, 0.80600431219921, 0.1763134432935772, 0.015043685312191484, 0.19556790905848928, 0.14542229135118434, 0.1855387855170283, 0.05516017947803544, 0.07521842656095741, 0.06518930301949642, 0.2607572120779857, 0.9840519489288283, 0.9891321157937784, 0.9786123156469319, 0.996202664395662, 0.3168648893474245, 0.02614904426653503, 0.05152899899581903, 0.21688324950479054, 0.088829841552494, 0.07575531941922649, 0.059219894368329334, 0.08921438632111951, 0.008459984909761334, 0.02999449195279018, 0.03730084255667497, 0.9707484821985523, 0.9111604333334117, 0.06212457500000534, 0.9613494404121925, 0.07373678890454162, 0.914336182416316, 0.9730521955780971, 0.9758211542392101, 0.12804010453509426, 0.29902533729935055, 0.03260648624806748, 0.4350182433583637, 0.06282713203895929, 0.04135456792437827, 0.2286044007743654, 0.03687167754425248, 0.029497342035401986, 0.04424601305310298, 0.06636901957965446, 0.15486104568586043, 0.19664894690267992, 0.05899468407080397, 0.18190027588497892, 0.2425888575777812, 0.04540292002543892, 0.007919113957925394, 0.0005279409305283595, 0.13911243519422273, 0.11245141820254058, 0.10875583168884206, 0.11931465029940926, 0.038539687928570245, 0.0860543716761226, 0.028244839783267237, 0.02560513513062544, 0.0261330760611538, 0.016630139311643324, 0.002111763722113438, 0.9647778940863287, 0.19069426958574542, 0.6144593131096242, 0.18363151886034745, 0.9831551663533787, 0.9627278592322335, 0.017504142895131518, 0.9937490940624425, 0.9873522822073791, 0.00954195265607084, 0.1844777513507029, 0.6981528693358499, 0.10655180465945771, 0.9128135062676673, 0.08298304602433339, 0.9796071966549837, 0.18648246145205805, 0.10022829969516299, 0.053487217625784095, 0.13588644477901904, 0.11227497033160085, 0.04915041619666646, 0.10119203334607801, 0.03999494651297369, 0.20286593351761353, 0.01782907254192803, 0.1352330232924611, 0.8482798733799831, 0.17419565247545518, 0.8197442469433185, 0.07777832461819488, 0.9074137872122736, 0.980653554841953, 0.9868787263931132, 0.9591027812194518, 0.9702712730735483, 0.9953095480385568, 0.9936045072928471, 0.040340992377776136, 0.927842824688851, 0.9843912707800897, 0.2204489256170704, 0.7715712396597464, 0.9707201775391416, 0.9732864550771052, 0.9818768463749088, 0.18941030249029103, 0.10573246337642958, 0.03956859058872518, 0.0337306018133395, 0.15957169319387532, 0.08562383537232335, 0.1712476707446467, 0.06292054569026792, 0.0661638727877044, 0.0006486654194872981, 0.08497516995283605, 0.3134409726603703, 0.09218852137069715, 0.5900065367724617, 0.9784166994645254, 0.9861758203013798, 0.5566421774201883, 0.44067505712431576, 0.969446559220856, 0.9661125423267486, 0.01809914333543123, 0.3076854367023309, 0.15685924224040398, 0.04826438222781661, 0.4705777267212119, 0.15465669046835614, 0.2300518270716798, 0.013532460415981162, 0.4253058987879794, 0.17398877677690067, 0.9730727980518515, 0.9719517630777188, 0.16837254353500558, 0.8138006270858603, 0.963479542461473, 0.9801843311900399, 0.9865111789787909, 0.9662038352433686, 0.17703445759914443, 0.8170821119960512, 0.17461430801199077, 0.15802199820089663, 0.03634505958620622, 0.055307699370313816, 0.21807035751723733, 0.07190000918140796, 0.034764839604197253, 0.11140550873163212, 0.007901099910044831, 0.08770220900149762, 0.042665939514242086, 0.9682813291906841, 0.12754155015868904, 0.22578301447011168, 0.11375327446585778, 0.009479439538821483, 0.09824146431142264, 0.005170603384811717, 0.06118547338693866, 0.0293000858472664, 0.09651792984981873, 0.055153102771324986, 0.13874452415911442, 0.019820646308444916, 0.018958879077642966, 0.9602990697818837, 0.28147518895596624, 0.11429598581848326, 0.027294563777548242, 0.2234742409286762, 0.13476690865164445, 0.03582411495803207, 0.18253239526235385, 0.9628854303936681, 0.8396018495285196, 0.14992890170152134, 0.1333405551754344, 0.851328159966235, 0.1939693680161753, 0.33058220247918046, 0.008342768516824743, 0.07195637845761342, 0.09907037613729383, 0.2096120589852217, 0.03545676619650516, 0.04901376503634537, 0.9734175004146545, 0.9713428783111693, 0.9899977587296461, 0.03683982269141554, 0.17367344983095898, 0.09473097263506854, 0.16314778620484024, 0.06841681356977172, 0.15788495439178088, 0.30524424515744303, 0.15525188220934905, 0.05433815877327217, 0.5045686171803845, 0.031050376441869813, 0.11902644302716761, 0.0025875313701558176, 0.05433815877327217, 0.07762594110467452, 0.9677900225741115, 0.9682752039870668, 0.9835334239276549, 0.09152066134279226, 0.098152593324154, 0.8090957017261344, 0.9764351129236447, 0.860132511423067, 0.13439570490985422, 0.1403677596794449, 0.19779093409376328, 0.012760705425404082, 0.13398740696674286, 0.5104282170161633, 0.15006654588574603, 0.48566991213932353, 0.049112687744425974, 0.013642413262340548, 0.29740460911902394, 0.09160896101105424, 0.1832179220221085, 0.7099694478356704, 0.9848006134422687, 0.9705133803175163, 0.9694017123824064, 0.9888175260753141, 0.9780272395145487, 0.23085553778811152, 0.12908174950876017, 0.11083819557818873, 0.08295653768429653, 0.09718421496348432, 0.05691070911675115, 0.0769900923736694, 0.05656649111806112, 0.06345085109186166, 0.033848103204519336, 0.01870251126215814, 0.011244454623874219, 0.026619525232028762, 0.004933791314557056, 0.008597208286377328, 0.11462944381836437, 0.13468959648657813, 0.4585177752734575, 0.003820981460612146, 0.07259864775163077, 0.12418189746989473, 0.05444898581372307, 0.02674687022428502, 0.06986148492121207, 0.050705916475073276, 0.098031438518475, 0.3278982598721405, 0.1115530162451612, 0.07098828306510259, 0.02028236659002931, 0.11831380510850431, 0.08676345707956983, 0.04507192575562069, 0.1847544862712194, 0.19784732388099086, 0.18548186613842893, 0.017457116813028604, 0.12147243782399071, 0.06109990884560012, 0.016002357078609555, 0.009455938273723827, 0.0836486847290954, 0.056735629642342966, 0.06109990884560012, 0.004364279203257151, 0.9757373787820928, 0.986989564504407, 0.9846176112074639, 0.9728286046640485, 0.15700603154899492, 0.08195912338721119, 0.21724104994200558, 0.1629307874565042, 0.02468648294795518, 0.009874593179182071, 0.04443566930631932, 0.13429446723687616, 0.028636320219628007, 0.018761727040445937, 0.0957835538380661, 0.0019749186358364143, 0.021724104994200556, 0.2498949504896296, 0.044772845296058635, 0.03956670049419135, 0.13327730692780246, 0.11349395668070678, 0.3404818700421203, 0.07809217202800925, 0.9696730663012586, 0.9612020540699977, 0.38652230933556336, 0.579783464003345, 0.023425594505185658, 0.9930334388170399, 0.2352964704419408, 0.17153871716089877, 0.09184152555959624, 0.0785586602927125, 0.08501033770805602, 0.04705929408838816, 0.0007590208723933574, 0.026945240969964188, 0.07210698287736896, 0.02087307399081733, 0.04402321059881473, 0.03263789751291437, 0.06793236807920548, 0.004554125234360144, 0.011005802649703682, 0.0015180417447867149, 0.008349229596326932, 0.1540331915887925, 0.08107010083620658, 0.04864206050172395, 0.10539113108706856, 0.25537081763405073, 0.08917711091982725, 0.020267525209051646, 0.028374535292672302, 0.2229427772995681, 0.4301475862928483, 0.12018829617006056, 0.1265139959684848, 0.0158142494960606, 0.24986514203775748, 0.05693129818581816, 0.9629116831357665, 0.2036103500832744, 0.16864695663463133, 0.10489018034592924, 0.08843681872303838, 0.07198345710014752, 0.14602358440315638, 0.21389370109758118, 0.42378582217344757, 0.13846660549615636, 0.05226626799009846, 0.08678540767012617, 0.08366503346176209, 0.011311356505319815, 0.055386642198462545, 0.029643554979458826, 0.023792853338776163, 0.05363143170625775, 0.020282432354366567, 0.021062525906457588, 0.9866571630734401, 0.1254662150755931, 0.5018648603023724, 0.19427026850414417, 0.03642567534452703, 0.13760810685710212, 0.9863207721240056, 0.2364951922996574, 0.17089798567639475, 0.14258761229161826, 0.03452484559119086, 0.07768090258017943, 0.017607671251507338, 0.017952919707419246, 0.03728683323848613, 0.03141760948798368, 0.07319267265332462, 0.0441918023567243, 0.030727112576159867, 0.0027619876472952686, 0.03797733015030995, 0.040739317797605215, 0.0024167391913833603, 0.0010357453677357258, 0.9844164584068014, 0.9746078209979154, 0.9980258074265964, 0.9736122034841362, 0.9789171121875468, 0.972887828589735, 0.9333578496238591, 0.02666736713211026, 0.7248944455536289, 0.26811164424586276, 0.9846847085346273, 0.19936813034293766, 0.6587816480897071, 0.06934543664102179, 0.06934543664102179, 0.9704544874894111, 0.9594643298690974, 0.2637796042879127, 0.0751465151750449, 0.03527285406175577, 0.09048253868015611, 0.056743286968911455, 0.0751465151750449, 0.03373925171124465, 0.03220564936073353, 0.050608877566866974, 0.03834005876277801, 0.09048253868015611, 0.1334234044944675, 0.02453763760817793, 0.13525687982950432, 0.3761831970258089, 0.0845355498934402, 0.30855475711105673, 0.09721588237745624, 0.9693113580507207, 0.9884067401199212, 0.9623348561540092, 0.07035785444849414, 0.17130608039633358, 0.07035785444849414, 0.5628628355879531, 0.0550626686988215, 0.039767482949148864, 0.03059037149934528, 0.9812133701795236, 0.9788482130052915, 0.20899026684498842, 0.177171679505267, 0.10341040885409461, 0.07448442036343877, 0.007231497122663959, 0.06797607295304121, 0.13667529561834882, 0.03254173705198782, 0.04772788100958213, 0.031095437627455022, 0.08099276777383634, 0.030372287915188628, 0.33730174068220825, 0.11568110240003532, 0.02191852466526985, 0.14125271450951682, 0.0694086614400212, 0.038966266071590844, 0.03409548281264199, 0.11811649402950974, 0.029224699553693133, 0.09376257773476547, 0.9720425594585007, 0.07294690597008863, 0.9264257058201255, 0.9909075163125738, 0.9810949295584137, 0.9584917621671942, 0.9932392232934005, 0.9789060315421705, 0.9719967253244394, 0.9832041612976962, 0.9663047343725011, 0.9822562416417094, 0.33263698298202843, 0.08962239955992475, 0.08617538419223533, 0.1258160609206636, 0.06032276893456474, 0.05859926125072003, 0.2085444297452095, 0.036193661360738844, 0.9870955916560883, 0.9696408268486388, 0.441165809311837, 0.09386506581102914, 0.4505523158929399, 0.974394905124871, 0.12426097465232068, 0.8698268225662448, 0.9653066005341835, 0.3634962362522025, 0.11192699356739373, 0.008527770938468094, 0.24943729995019173, 0.0181215132442447, 0.12152073587317033, 0.013857627775010652, 0.09380548032314903, 0.0181215132442447, 0.32290269563245566, 0.11942976413803155, 0.037799319289478, 0.12465732957168277, 0.08886861237207061, 0.07479439774300967, 0.0024127225078390212, 0.08846649195409745, 0.07921772234071453, 0.01608481671892681, 0.03176751301988045, 0.008846649195409746, 0.004021204179731702, 0.9966741071828848, 0.9755391325073274, 0.9795188826520965, 0.9770834450818172, 0.9784695183712816, 0.11372210339506215, 0.3786277089506187, 0.2595539771604948, 0.08696396141975342, 0.11372210339506215, 0.034785584567901366, 0.013379070987654371, 0.9752206667521511, 0.3234797104613141, 0.05881449281114802, 0.23525797124459208, 0.03528869568668881, 0.34112405830465853, 0.9446890759608134, 0.04198618115381393, 0.9762263345337723, 0.9778424178213677, 0.3310409057408268, 0.03183085632123334, 0.05305142720205557, 0.0551734842901378, 0.08700434061137113, 0.005941759846630224, 0.0666325925657818, 0.12732342528493337, 0.021644982298438673, 0.06748141540101468, 0.04753407877304179, 0.018249690957507118, 0.044987610267343124, 0.012732342528493337, 0.029284387815534677, 0.9735020460583242, 0.959223704887449, 0.9668834980852131, 0.9886252818218454, 0.13944454412100488, 0.8565879138861727, 0.9589137764760954, 0.9745425174353538, 0.9846769268328635, 0.9676959554973369, 0.3386947960429484, 0.6531971066542576, 0.3120083603078083, 0.6790770194934652, 0.9672352537868878, 0.9615988837366602, 0.19424121500827593, 0.7769648600331037, 0.9694761147824019, 0.962220510190161, 0.9833556367800583, 0.009152699595439013, 0.04713640291651092, 0.12356144453842667, 0.1102900301250401, 0.2700046380654509, 0.06315362720852918, 0.00732215967635121, 0.08420483627803892, 0.17573183223242905, 0.04988221279514262, 0.02791573376608899, 0.031119178624492642, 0.18424834422182162, 0.3458199691548037, 0.042518848666574224, 0.08645499228870092, 0.09070687715535834, 0.10204523679977813, 0.07936851751093854, 0.06803015786651875, 0.20306178218419113, 0.4813964663849359, 0.026257989075541957, 0.031509586890650344, 0.03676118470575874, 0.1785543257136853, 0.04201278252086713, 0.14833428554664171, 0.8405609514309698, 0.9774956104000494, 0.9870920235323002, 0.9854740825993806, 0.9778861528969078, 0.9796192176930288, 0.9761993153318957, 0.9844474420832839, 0.9693732045421992, 0.9362596217806742, 0.061193439332070214, 0.05428902053694064, 0.6835481222151163, 0.03454755852350768, 0.05428902053694064, 0.07896584805373184, 0.05675670328861976, 0.03454755852350768, 0.9917582804564408, 0.9860873945472579, 0.9814599792732467, 0.9858941008393359, 0.9710548642676798, 0.9754110233669882, 0.9684941352973871, 0.9606174016933506, 0.9764982816979243, 0.24318709208378828, 0.6600792499417111, 0.09032663420254994, 0.2455347628054118, 0.10591695650429529, 0.462183082927834, 0.18776187743943257, 0.973897786142655, 0.9810952379922783, 0.9788678239382487, 0.9715096480120713, 0.9649918054549602, 0.9845661191872993, 0.987265096269813, 0.28544131039016374, 0.0203195509091303, 0.09030911515169023, 0.11482158926429187, 0.03257578796543112, 0.034188450735997016, 0.052572806320448244, 0.08547112683999254, 0.0203195509091303, 0.05579813186158004, 0.043864427359392395, 0.039026439047694705, 0.007095716190489947, 0.044509492467618754, 0.0422517645888265, 0.01677169281388533, 0.014836497489206252, 0.21402007642792623, 0.11834051284838275, 0.47839781789771746, 0.090643797075357, 0.0352503655293055, 0.047839781789771746, 0.01258941626046625, 0.3862412189382064, 0.07977124118320306, 0.07828712506816672, 0.07012448643546687, 0.10537224416757984, 0.018551451437954197, 0.10537224416757984, 0.05602538334262168, 0.017067335322917862, 0.008533667661458931, 0.0014841161150363359, 0.04303936733605374, 0.010759841834013436, 0.01892248046671328, 0.9623592367603809, 0.12635369508555572, 0.04821390996685678, 0.08645252821643286, 0.6084927947541235, 0.07315213926005856, 0.05652665306459071, 0.9747251122283448, 0.5320031004700677, 0.13109531988660694, 0.05335274646547957, 0.28353173835940576, 0.37958812299450023, 0.24527232562721554, 0.3679084884408233, 0.2397006586302495, 0.05648683553786617, 0.09529083560300902, 0.13704197491360576, 0.060907544406047, 0.18223144334389868, 0.024068303837873412, 0.06041635453180469, 0.0505925570469584, 0.0019647594969692582, 0.024068303837873412, 0.009332607610603977, 0.0574692152863508, 0.09649193444316034, 0.010721326049240037, 0.16618055376322058, 0.45386946941782824, 0.07862305769442694, 0.04645907954670683, 0.09113127141854033, 0.057180405595946865, 0.9821702227110726, 0.3651299409682919, 0.012630280976890599, 0.015692167274318623, 0.19710893039692903, 0.15118063593550868, 0.1132897930048369, 0.01148207361535509, 0.018754053571746646, 0.026026033528138204, 0.047459237610134375, 0.04133546501527832, 0.19369046396608733, 0.7989731638601103, 0.8595785492799025, 0.13132450058442954, 0.9980739454676024, 0.9950487791033185, 0.24271390040507448, 0.14952909935669767, 0.05981163974267907, 0.03987442649511938, 0.07498125851799622, 0.06761315796998503, 0.06327898117703727, 0.016903289492496257, 0.009101771265190293, 0.02297113700262312, 0.17683441315226855, 0.013002530378843276, 0.028605566833455207, 0.03337316130569774, 0.9847406874087029, 0.9812934144783096, 0.9754929537190757, 0.27825482797039813, 0.0692105917286777, 0.1638454824597268, 0.0023541017594788335, 0.1384211834573554, 0.0169495326682476, 0.07815617841469727, 0.07109387313626077, 0.0268367600580587, 0.07438961559953114, 0.056498442227492, 0.0240118379466841, 0.9781437608232688, 0.7246990160235822, 0.26634237341037637, 0.9821350361082308, 0.058515798532178184, 0.0872000134989322, 0.012047370286036686, 0.005163158694015722, 0.0005736842993350802, 0.07744738041023583, 0.6029421986011694, 0.013194738884706845, 0.05105790264082214, 0.05163158694015722, 0.039584216654120534, 0.9745496373398628, 0.9876094366306672, 0.21946893741533258, 0.4103970713102856, 0.03838245990671736, 0.11514737972015207, 0.05412911012485781, 0.04527161937715381, 0.042319122461252474, 0.03149330043628091, 0.042319122461252474, 0.8970756095222122, 0.0868137686634399, 0.9121606351654532, 0.057010039697840825, 0.16598929602993043, 0.18011604462822237, 0.32844690491028783, 0.32491521776071486, 0.9731848035599544, 0.9928950918555048, 0.38662150349283975, 0.08497175900941532, 0.09346893491035686, 0.43335597094801814, 0.998038668369985, 0.9719331744787011, 0.8419926087251759, 0.15592455717132886, 0.8311540727454076, 0.1539174208787792, 0.9626577948289634, 0.9761933087388305, 0.9811691038506102, 0.9900030645233691, 0.9916396067339317, 0.9968255576500373, 0.9700887436125464, 0.9914986527422895, 0.9872977748746918, 0.11301561339384268, 0.8733024671342389, 0.975642583462073, 0.9818310826474129, 0.07238100002965848, 0.056296333356401045, 0.16084666673257442, 0.5710056669006391, 0.12867733338605952, 0.9796724412017838, 0.5442575606209222, 0.41386252005549296, 0.039685447128608914, 0.752286814712452, 0.2340447867994295, 0.9723903064027238, 0.1589640210040602, 0.8315041098673919, 0.9856027565427694, 0.9578524343772067, 0.4214471344412033, 0.40564286689965817, 0.06672912961985719, 0.010536178361030083, 0.03160853508309024, 0.06146104043934215, 0.9855394526491936, 0.9833804536670065, 0.9826265166469769, 0.15551400251979738, 0.44062300713942587, 0.33794389009109815, 0.04087226989302367, 0.023925231156891904, 0.12409984906005496, 0.3123892752201384, 0.03423444112001516, 0.40225468316017815, 0.12196019649005402, 0.34667622276713833, 0.07440855513050773, 0.10315731506729481, 0.06933524455342766, 0.40586484616640583, 0.8741686782395106, 0.11239311577365137, 0.9701234536813883, 0.3621093459445284, 0.1576328158937167, 0.10335359155295575, 0.06468893859789317, 0.09443097933255669, 0.02007587749589788, 0.05130502026729458, 0.021562979532631057, 0.0438695100836287, 0.028998489716296937, 0.050561469248927994, 0.13645672252787092, 0.503184164321524, 0.05685696771994622, 0.11087108705389513, 0.1506709644578575, 0.03695702901796504, 0.4769801587696604, 0.11879505841055693, 0.05219782869554774, 0.014399401019461446, 0.07919670560703795, 0.01979917640175949, 0.20879131478219096, 0.03239865229378825, 0.21750309417671135, 0.1307771768784024, 0.030285240961314238, 0.11976436198337903, 0.07295989867952975, 0.06470028750826223, 0.015142620480657119, 0.10049193591708815, 0.11701115825962319, 0.028908639099436317, 0.01651922234253504, 0.08534931543643104, 0.9811920620520588, 0.9467967947165513, 0.03944986644652297, 0.9779708176001743, 0.9768836053082239, 0.8534068215968276, 0.028983627903288484, 0.05689378810645517, 0.05904072350669876, 0.982272166873959, 0.9364179433673242, 0.05852612146045776, 0.9844099604782636, 0.9766017250087027, 0.9848790626069577, 0.9928583281721111, 0.09971513141401907, 0.13619627705329435, 0.08998682591021233, 0.11430758966972918, 0.029184916511420217, 0.41831713666368975, 0.038913222015226956, 0.07296229127855054, 0.9885575433355958, 0.9762299915855236, 0.2546664191389109, 0.7397453127368365, 0.3176145920450362, 0.0679765547550262, 0.1465011955927289, 0.06680454519028438, 0.0527404304133824, 0.0714925834492517, 0.0679765547550262, 0.026956219989062117, 0.12306100429789227, 0.05039641128389874, 0.009376076517934649, 0.7153786215620112, 0.13833288262248836, 0.09485683379827772, 0.04347604882421063, 0.9742167090441517, 0.981874808178786, 0.9586578507983884, 0.984135646710562, 0.2973802711760595, 0.105522031707634, 0.5851676303786977, 0.9796519620592202, 0.9821296099740556, 0.009265373679000525, 0.17711138955103015, 0.8174371825432161, 0.03170950734124767, 0.6976091615074487, 0.25367605872998134, 0.19724077250190014, 0.20073175962582757, 0.03316437767731064, 0.05760128754480269, 0.07854721028836731, 0.03316437767731064, 0.03316437767731064, 0.3124433475915055, 0.05236480685891154, 0.23557835005239955, 0.10018432143984941, 0.09074666797087809, 0.058198863058656486, 0.09401354801782971, 0.10526613484621859, 0.1816143314990507, 0.009921635698149339, 0.004718826734485661, 0.021295218083832727, 0.04513134287085004, 0.011252586828388884, 0.01899630249523715, 0.005323804520958182, 0.01790734247958661, 0.9844268482501717, 0.9689584033869868, 0.9891636027738134, 0.19107018459169783, 0.053249067837030546, 0.2599807429690315, 0.07830745270151551, 0.32575900323830453, 0.06891055837733365, 0.018793788648363723, 0.7183471429258211, 0.17124684212163538, 0.04447969925237282, 0.06449556391594059, 0.9708812168363395, 0.2847087076887305, 0.06630202781792355, 0.4992152682761302, 0.03120095426725814, 0.10920333993540349, 0.9785567207822367, 0.11057885292347679, 0.268821004520866, 0.059102490355651384, 0.13727030018086772, 0.09532659734782481, 0.11439191681738978, 0.017158787522608465, 0.1963727905365191, 0.17496256904087998, 0.528532760644325, 0.036450535216849995, 0.051030749303589994, 0.15309224791076997, 0.054675802825275, 0.9718775792017974, 0.9876493778293761, 0.18561556353441028, 0.8043341086491113, 0.19557106288247236, 0.7962536131643517, 0.9802810724222378, 0.9816960933517312, 0.3242973942946019, 0.6666113104944594, 0.5845096920800363, 0.007367769227899617, 0.015963499993782503, 0.0847293461208456, 0.1252520768742935, 0.11420042303244407, 0.02578719229764866, 0.04175069229143116, 0.9929455155440418, 0.9663163474671337, 0.2438355424539316, 0.7512770767499515, 0.9831575875349023, 0.9722850901179048, 0.9740137095148421, 0.9826648351737265, 0.30596576562458444, 0.6900504501320415, 0.9687040812615836, 0.9852276834407675, 0.9593833623229212, 0.9813857993337557, 0.05759579013107925, 0.921532642097268, 0.8271122743439334, 0.03802815054454866, 0.1330985269059203, 0.002539069052838539, 0.23867249096682264, 0.1828129718043748, 0.4976575343563536, 0.0787111406379947, 0.9836802472022488, 0.9933737439500889, 0.11949957610328381, 0.03540728180838039, 0.6019237907424666, 0.23899915220656762, 0.1048042908022616, 0.16082037726553935, 0.5330563066666754, 0.050595174870057325, 0.148171583548025, 0.9784352592709821, 0.9834284713250001, 0.350934397615728, 0.6460383228834993, 0.9825045086133365, 0.6597285344198761, 0.1739943387480992, 0.09062205143130166, 0.036248820572520664, 0.0326239385152686, 0.4084963286185558, 0.04636985351886309, 0.07314292370534951, 0.011592463379715772, 0.07010680234399538, 0.061550460325633743, 0.01104044131401502, 0.10184807112178856, 0.0394695776976037, 0.067622703048342, 0.004416176525606008, 0.05382215140582323, 0.013248529576818024, 0.014076562675369152, 0.023184926759431543, 0.20887935006308103, 0.1255399397456637, 0.09873331413401035, 0.03238028044179909, 0.08387023458695503, 0.14173007996656323, 0.040608056619633286, 0.03078780763318602, 0.044854650775934805, 0.051755366279924775, 0.061841027401140884, 0.057063608975301675, 0.0050428305606080555, 0.0010616485390753801, 0.001857884943381915, 0.01380143100797994, 0.13695383863859628, 0.8521572181957102, 0.9736955094181172, 0.9890220418355827, 0.23653292631814596, 0.755085880169466, 0.9430937352521324, 0.021433948528457553, 0.9807670599397349, 0.9846517402024106, 0.22165142591395792, 0.12044655422566633, 0.057618739973796254, 0.018603836707406538, 0.1086464063712542, 0.10481933139144484, 0.04390505462947943, 0.05729981705881214, 0.06133950731527756, 0.051984435142410274, 0.014351531174285044, 0.03912121090471775, 0.010311840917819625, 0.009992918002835513, 0.026470601943681303, 0.019135374899046726, 0.0024450756815448593, 0.013182147152676633, 0.01902906726071869, 0.9843480160051028, 0.22938790626023625, 0.08862714560054583, 0.12986009569277837, 0.018009794293159045, 0.06303428002605665, 0.2014253309103314, 0.10663693989370486, 0.04407660182273134, 0.0023697097754156638, 0.03649353054140122, 0.027488633394821698, 0.0478681374633964, 0.0047394195508313275, 0.28823323051220373, 0.18941040862230532, 0.10705805704738997, 0.4035265227170852, 0.2115828464125686, 0.07206082450283133, 0.07206082450283133, 0.04676287547524161, 0.02069832193166432, 0.0398634348313535, 0.0820266832106697, 0.0329639941874654, 0.24991307221194697, 0.026831158059564857, 0.05519552515110485, 0.03833022579937837, 0.01993171741567675, 0.010732463223825943, 0.019165112899689186, 0.002299813547962702, 0.06341184939648951, 0.29510899142212427, 0.00853621049568128, 0.0353643006249653, 0.16950475127138542, 0.03658375926720549, 0.14694476638994203, 0.00792648117456119, 0.04694915772624704, 0.07316751853441097, 0.08719129292017308, 0.028047548771524204, 0.906222917503456, 0.08798280752460737, 0.9863123774097354, 0.9722445431328613, 0.9592240791957981, 0.9766638015569943, 0.16047129933212875, 0.12406184486181382, 0.275093655997935, 0.23598720490018935, 0.05124293592118397, 0.031015461215453455, 0.0418034477251764, 0.08090989882292206, 0.4458151554738915, 0.05327350914467886, 0.07009672255878797, 0.4261880731574309, 0.972891139020973, 0.9841041868178512, 0.21669332119766188, 0.7764844009582884, 0.9793646640530187, 0.8880928463765274, 0.10117513439732591, 0.9909771231084432, 0.9706938132448093, 0.98922230164012, 0.12031223810217856, 0.05825645213368646, 0.11841257118477573, 0.08358534436572405, 0.05699000752208458, 0.04052622757126015, 0.41982638874602307, 0.018363446868227253, 0.020263113785630074, 0.06332223058009398, 0.9885103878149678, 0.9930835607191207, 0.8217564501795259, 0.1614164455709783, 0.19802331576102503, 0.2661952769246566, 0.00973885159480451, 0.2921655478441353, 0.07466452889350124, 0.1525753416519373, 0.9893216396371516, 0.9865486056673138, 0.9701363213930285, 0.9018392345018016, 0.093941586927271, 0.9858926143546125, 0.17860490384704944, 0.8037220673117225, 0.9821857118368079, 0.11355496205063166, 0.8800509558923955, 0.15514778083002972, 0.08080613584897382, 0.11797695833950178, 0.0274740861886511, 0.06302878596219957, 0.03232245433958953, 0.42665639728258176, 0.09535124030178911, 0.9177413393131982, 0.06926349730665647, 0.984703912854646, 0.10907472475142187, 0.15270461465199062, 0.09349262121550446, 0.05921199343648616, 0.0685612555580366, 0.5142094166852745, 0.34371577669796954, 0.04704854738071066, 0.2130253673071066, 0.02744498597208122, 0.05227616375634518, 0.02744498597208122, 0.05358306785025381, 0.07841424563451777, 0.02483117778426396, 0.037900218723350254, 0.09279019066751269, 0.9864294305652384, 0.03544122444430285, 0.4329993073412653, 0.08629167690786782, 0.14638766618299004, 0.05855506647319602, 0.0832098313040154, 0.0832098313040154, 0.018491073623114532, 0.05393229806741739, 0.17123049723989092, 0.22298015862794685, 0.16894742394335904, 0.010654342050482102, 0.0875178097003887, 0.08903985856474328, 0.029679952854914426, 0.11034854266570748, 0.04413941706628299, 0.06392605230289261, 0.002283073296531879, 0.06662084356400308, 0.20900656804393122, 0.13977314237937902, 0.010450328402196563, 0.09535924667004363, 0.07184600776510136, 0.044413895709335384, 0.15022347078157558, 0.053557933061257376, 0.06400826146345394, 0.09274666456949449, 0.7878156862832005, 0.1078063570703327, 0.09951356037261481, 0.24597652169964818, 0.12811277171856675, 0.07430540759676872, 0.048682853253055366, 0.02049804347497068, 0.30234614125581755, 0.1537353260622801, 0.02562255434371335, 0.32987870122667506, 0.07127008977119524, 0.23111871968659026, 0.019344738652181562, 0.03258061246683211, 0.019344738652181562, 0.004072576558354014, 0.10792327879638136, 0.024435459350124082, 0.12930430572773993, 0.0305443241876551, 0.0010181441395885034, 0.09881741790171517, 0.11415115516232614, 0.07326118913403021, 0.0034074971690246612, 0.06985369196500556, 0.13289238959196178, 0.056223703288906905, 0.02725997735219729, 0.08518742922561652, 0.07326118913403021, 0.17718985278928237, 0.02896372593670962, 0.05963120045793157, 0.9641943586481884, 0.09255915621585067, 0.6655444089806405, 0.19393347016654425, 0.04848336754163606, 0.9687038463270958, 0.36305226290090054, 0.6292905890282275, 0.9600551480734639, 0.21633247087954957, 0.12258840016507809, 0.18027705906629132, 0.4759314359350091, 0.6836117299869102, 0.16380170261459204, 0.08805525053848012, 0.06438448426469515, 0.9838321264226945, 0.9781810014338418, 0.2214004097883703, 0.13284024587302218, 0.6420611883862739, 0.3619424103493437, 0.48646388179980604, 0.05146887486619108, 0.04316744343616026, 0.05478944743820341, 0.9808473528676359, 0.18597566499712317, 0.12059089965954463, 0.13076953067515712, 0.047787810022451874, 0.06693743786538385, 0.07953133725758237, 0.06486720782831012, 0.06417713114928555, 0.0270855096517146, 0.03933437070440082, 0.023462607086835577, 0.036919102327814805, 0.06038170941465038, 0.020184742861468843, 0.010351150185368637, 0.008970996827319486, 0.012593899392198508, 0.06513840828108418, 0.8337716259978776, 0.09119377159351785, 0.9647008577156868, 0.22906978439735076, 0.11012970403718787, 0.011012970403718786, 0.08149598098751902, 0.061672634260825206, 0.3788461818879263, 0.05947004018008145, 0.07048301058380023, 0.9822009014570081, 0.9781339307219445, 0.061574334657966856, 0.24629733863186742, 0.5829037014287529, 0.10672884674047588, 0.7369227580592336, 0.2570660783927559, 0.8663095254331592, 0.12781615949013825, 0.016340858052391802, 0.21515463102315874, 0.3063910884823463, 0.05038431232820806, 0.1191520899653569, 0.03880953787443053, 0.022468679822038727, 0.12119469722190587, 0.06468256312405088, 0.02519215616410403, 0.019064334394457105, 0.9885878685111497, 0.9732238597598087, 0.9801681655704743, 0.9784461511027601, 0.06488562164620573, 0.23320277878784834, 0.2177844132481559, 0.06167346215876981, 0.025054844002000237, 0.04240050523415424, 0.04047320954169269, 0.09058289754569315, 0.08223128287835975, 0.033406458669333644, 0.05589157508138514, 0.04047320954169269, 0.0044970232824102984, 0.008351614667333411, 0.07290663828386328, 0.10297123139061103, 0.39159132521538936, 0.14656489139539525, 0.004509688966012161, 0.007516148276686936, 0.039083971038772064, 0.0233000596577295, 0.07140340862852589, 0.0022548444830060806, 0.060129186213495486, 0.025554904140735583, 0.02705813379607297, 0.015783911381042567, 0.011274222415030403, 0.9649106273027785, 0.234098967926201, 0.6482740650264028, 0.08283501942004036, 0.028812180667840123, 0.9898069729844641, 0.18191437069056787, 0.18465679838942065, 0.14534866803919744, 0.04205055804907599, 0.12615167414722797, 0.10604053768897423, 0.06124755194104546, 0.021025279024537994, 0.050277841145634335, 0.05850512424219268, 0.021939421590822256, 0.12803476468446, 0.24284528137334196, 0.14727003449620987, 0.09858075778521803, 0.10338957523815549, 0.07513777270214789, 0.03306061998894507, 0.057705809435249576, 0.04508266362128873, 0.006612123997789014, 0.04688597016614028, 0.014426452358812394, 0.06050796429779455, 0.2969024335109174, 0.22511969325701203, 0.04509910382444315, 0.07103108852349795, 0.09170151110970105, 0.014657208742944022, 0.13604896320373683, 0.012026427686518171, 0.003758258652036929, 0.0007516517304073857, 0.016536338068962486, 0.025180332968647422, 0.9961245934104229, 0.4489496558649594, 0.1787287729509791, 0.3457550667206441, 0.025532681850139873, 0.9720649579222987, 0.9703699164457369, 0.22678973170739636, 0.012295828827509441, 0.13662032030566046, 0.06147914413754721, 0.08607080179256608, 0.33198737834275494, 0.02595786085807549, 0.03825368968558493, 0.08197219218339628, 0.2611889910381941, 0.18582102347493412, 0.33005972001841444, 0.04418122236466965, 0.14034035339365653, 0.0038983431498237926, 0.03508508834841413, 0.9022608467912079, 0.09022608467912079, 0.7508857271628852, 0.1013465398624753, 0.10595320076531509, 0.041459948125558074, 0.9623356585394003, 0.043097562563890766, 0.12685320301824451, 0.0585476321622667, 0.11872158744015192, 0.02846065452332409, 0.05936079372007596, 0.07725034799187967, 0.07968983266530745, 0.045537047237318544, 0.12116107211357971, 0.039844916332653725, 0.1577533422149964, 0.02764749296551483, 0.014636908040566676, 0.9798554594332562, 0.07059493183835175, 0.2217558310854439, 0.07019609041553619, 0.09651962432136227, 0.011965242684466398, 0.14797016786456776, 0.005982621342233199, 0.029913106711165992, 0.05543895777136097, 0.01874554687233069, 0.02073975398640842, 0.08176249167718705, 0.04546792220097231, 0.04746212931505004, 0.022335119677670608, 0.01515597406699077, 0.03788993516747692, 0.9860024330667927, 0.977096845831967, 0.01977933222839874, 0.7071111271652549, 0.20768298839818677, 0.059337996685196216, 0.9845479082892217, 0.99124904170511, 0.9979407920334991], \"Term\": [\"\\\"horror\\\"\", \"1\", \"1970s\", \"1970s\", \"1970s\", \"1970s\", \"1970s\", \"20th century\", \"20th century\", \"20th century\", \"25 minutes\", \"3 years\", \"30 minute\", \"5 years\", \"5 years\", \"50%\", \"70s\", \"70s\", \"70s\", \"70s\", \"70s\", \"70s\", \"70s\", \"70s\", \"abbott\", \"abc\", \"accent\", \"accent\", \"accent\", \"accent\", \"accent\", \"accusations\", \"accusations\", \"acting\", \"acting\", \"acting\", \"acting\", \"acting\", \"acting\", \"acting skills\", \"action\", \"action\", \"action\", \"action\", \"action\", \"action\", \"action\", \"action\", \"action\", \"action scenes\", \"action sequences\", \"action sequences\", \"action sequences\", \"actors\", \"actors\", \"actors\", \"actors\", \"actors\", \"actors\", \"actors\", \"actors\", \"actors\", \"actors\", \"actual events\", \"adam sandler\", \"adaptation\", \"adaptation\", \"adaptation\", \"adaptation\", \"adaption\", \"adult\", \"adults\", \"advances\", \"age\", \"age\", \"age\", \"age\", \"age\", \"age\", \"age\", \"ages\", \"ages\", \"air\", \"air\", \"air\", \"air\", \"air\", \"air\", \"air\", \"air\", \"airplane\", \"airplane\", \"airport\", \"airport\", \"airport\", \"alain delon\", \"albert brooks\", \"alice krige\", \"aliens\", \"aliens\", \"aliens\", \"allies\", \"amanda\", \"amazon.com\", \"america\", \"america\", \"america\", \"america\", \"america\", \"america\", \"america\", \"america\", \"american\", \"american\", \"american\", \"american\", \"american\", \"american\", \"american\", \"american\", \"american\", \"american\", \"american civil war\", \"american pie\", \"american werewolf\", \"americans\", \"americans\", \"americans\", \"americans\", \"andrews\", \"angela lansbury\", \"animals\", \"animals\", \"animals\", \"animals\", \"animated\", \"animation\", \"anime\", \"anime\", \"anthony mann\", \"anti-semitic\", \"ants\", \"apologies\", \"appetite\", \"appetite\", \"argento\", \"arrogance\", \"art\", \"art\", \"art\", \"art\", \"art\", \"art\", \"art\", \"arthur\", \"ashley\", \"ashley\", \"ashley judd\", \"asia\", \"asia\", \"asian\", \"asian\", \"asian\", \"atlantis\", \"attack\", \"attack\", \"attack\", \"attack\", \"attack\", \"attack\", \"attack\", \"attention\", \"attention\", \"attention\", \"attention\", \"attention\", \"attention\", \"attention\", \"attention\", \"attention\", \"attention\", \"attention\", \"audience\", \"audience\", \"audience\", \"audience\", \"audience\", \"audience\", \"audience\", \"audience\", \"audience\", \"audience\", \"audience\", \"audience\", \"audiences\", \"audiences\", \"audiences\", \"audiences\", \"audiences\", \"audiences\", \"aussie\", \"aussie\", \"austen\", \"australia\", \"australia\", \"australia\", \"australia\", \"australia\", \"australian\", \"b-movie\", \"babysitter\", \"bacall\", \"bad acting\", \"bad acting\", \"bad acting\", \"bad reviews\", \"bad taste\", \"bad taste\", \"baddie\", \"baloney\", \"banality\", \"barbara\", \"barbara stanwyck\", \"barbara stanwyck\", \"barbie\", \"barney\", \"batman\", \"battlefield earth\", \"beautiful story\", \"beginning\", \"beginning\", \"beginning\", \"beginning\", \"beginning\", \"beginning\", \"beginning\", \"beginning\", \"beginning\", \"beginning\", \"beginning\", \"beginning\", \"beginning\", \"bela lugosi\", \"bela lugosi\", \"belushi\", \"ben\", \"ben\", \"ben\", \"ben\", \"ben\", \"bergman\", \"bergman\", \"berlin\", \"berlin\", \"best\", \"best\", \"best\", \"best\", \"best\", \"best\", \"best\", \"best\", \"best\", \"best episodes\", \"best parts\", \"best roles\", \"betrayal\", \"betrayal\", \"betrayal\", \"better man\", \"better people\", \"bible\", \"bible\", \"bible\", \"big budget\", \"billy crystal\", \"black people\", \"blade\", \"blade runner\", \"blair witch\", \"blood\", \"blood\", \"blood\", \"blood\", \"blood\", \"bob newhart\", \"bollywood\", \"bond\", \"bond\", \"bond\", \"boogeyman\", \"book\", \"book\", \"book\", \"book\", \"book\", \"book\", \"book\", \"book\", \"book\", \"border\", \"border\", \"bother\", \"bourne\", \"boy\", \"boy\", \"boy\", \"boy\", \"boy\", \"boy\", \"boyer\", \"boyfriends\", \"boys\", \"boys\", \"boys\", \"boys\", \"boys\", \"boys\", \"brain cells\", \"branagh\", \"brando\", \"brando\", \"brando\", \"brazil\", \"brazil\", \"breasts\", \"breasts\", \"breasts\", \"breasts\", \"brian keith\", \"brilliant performances\", \"britain\", \"britain\", \"britain\", \"britain\", \"british\", \"british\", \"british\", \"british\", \"brits\", \"broadway\", \"brothers\", \"brothers\", \"brothers\", \"brothers\", \"brothers\", \"bruce\", \"bruce lee\", \"budget\", \"budget\", \"budget\", \"budget\", \"build\", \"bunch\", \"bunch\", \"bunch\", \"bunch\", \"bunch\", \"bunch\", \"bunch\", \"bunch\", \"burns\", \"burton\", \"burton\", \"burton\", \"busby berkeley\", \"cagney\", \"caine\", \"camera\", \"camera\", \"camera\", \"camera\", \"camera\", \"camera\", \"camera\", \"camera\", \"camera\", \"camera\", \"camera angles\", \"canadian\", \"canadian\", \"canadian\", \"canadian\", \"canadian\", \"candidate\", \"cannibalism\", \"canvas\", \"car\", \"car\", \"car\", \"car\", \"car\", \"car\", \"car\", \"car chases\", \"career\", \"career\", \"career\", \"career\", \"career\", \"career\", \"career\", \"career\", \"career\", \"carly\", \"carriage\", \"cars\", \"cars\", \"cars\", \"cars\", \"cars\", \"cartoon\", \"cartoon\", \"cartoons\", \"cartoons\", \"cary grant\", \"cary grant\", \"case\", \"case\", \"case\", \"case\", \"case\", \"case\", \"case\", \"case\", \"case\", \"case\", \"case\", \"case\", \"case\", \"case\", \"case\", \"case\", \"case\", \"cast\", \"cast\", \"cast\", \"cast\", \"cast\", \"cast\", \"cast\", \"cast\", \"cast\", \"cast\", \"cast\", \"cast\", \"cast\", \"cast\", \"cats\", \"cats\", \"cats\", \"caucasian\", \"cesar romero\", \"cgi\", \"chains\", \"chains\", \"chan\", \"channel\", \"channel\", \"channel\", \"channels\", \"channels\", \"character\", \"character\", \"character\", \"character\", \"character\", \"character\", \"character\", \"character\", \"character\", \"character\", \"character\", \"character\", \"character\", \"character\", \"character\", \"character development\", \"character development\", \"character development\", \"character development\", \"characters\", \"characters\", \"characters\", \"characters\", \"characters\", \"characters\", \"characters\", \"characters\", \"characters\", \"characters\", \"characters\", \"characters\", \"characters\", \"characters\", \"characters\", \"charge\", \"charge\", \"charge\", \"charge\", \"charge\", \"charge\", \"charisma\", \"charisma\", \"charisma\", \"chase scene\", \"cheap\", \"chemistry\", \"chemistry\", \"chemistry\", \"chemistry\", \"child\", \"child\", \"child\", \"child\", \"child\", \"child\", \"children\", \"children\", \"children\", \"children\", \"children\", \"childrens\", \"chill\", \"china\", \"china\", \"china\", \"chinese\", \"chinese\", \"chris rock\", \"christ\", \"christ\", \"christ\", \"christ\", \"christian\", \"christian\", \"christian\", \"christian\", \"christianity\", \"christianity\", \"christians\", \"christians\", \"christmas\", \"christmas\", \"christmas\", \"christmas\", \"christmas\", \"christmas\", \"christmas\", \"christopher lee\", \"christopher lloyd\", \"christopher walken\", \"christopher walken\", \"chuck norris\", \"chuckle\", \"church\", \"church\", \"church\", \"church\", \"cinema\", \"cinema\", \"cinema\", \"cinema\", \"cinema\", \"cinema\", \"cinema\", \"cinema\", \"cinematography\", \"cinematography\", \"cinematography\", \"cinematography\", \"cinematography\", \"cinematography\", \"cinemax\", \"cinemax\", \"city\", \"city\", \"city\", \"city\", \"city\", \"city\", \"city\", \"city\", \"civil war\", \"civil war\", \"civil war\", \"claire danes\", \"clara\", \"cliche\", \"cliche\", \"clint\", \"clint\", \"clint eastwood\", \"clips\", \"clips\", \"clive barker\", \"clowns\", \"cobra\", \"coincidences\", \"columbo\", \"comedies\", \"comedies\", \"comedies\", \"comedy\", \"comedy\", \"comedy\", \"comedy\", \"comedy\", \"comedy\", \"comedy\", \"comedy central\", \"commenter\", \"communism\", \"company\", \"company\", \"company\", \"company\", \"company\", \"company\", \"company\", \"complete waste\", \"complete waste\", \"computer animation\", \"confederate\", \"connery\", \"conquest\", \"conscience\", \"consequences\", \"consequences\", \"consequences\", \"continuity\", \"continuity\", \"convention\", \"convention\", \"cop\", \"cop\", \"cop\", \"cop\", \"cops\", \"cops\", \"countries\", \"countries\", \"countries\", \"country\", \"country\", \"country\", \"country\", \"country\", \"country\", \"country\", \"country\", \"countryside\", \"countryside\", \"couple\", \"couple\", \"couple\", \"couple\", \"couple\", \"couple\", \"couple\", \"couple\", \"couple\", \"couple\", \"couple\", \"couple\", \"couple\", \"couple\", \"couple\", \"couple\", \"couple years ago\", \"course\", \"course\", \"course\", \"course\", \"course\", \"course\", \"course\", \"course\", \"course\", \"course\", \"course\", \"course\", \"course\", \"course\", \"course\", \"course\", \"cousins\", \"cowboys\", \"crap\", \"crap\", \"crap\", \"crap\", \"crawford\", \"cream\", \"creators\", \"creators\", \"crew\", \"crew\", \"crew\", \"crew\", \"crew\", \"crew\", \"crew\", \"crew\", \"crew\", \"crew\", \"crime\", \"crime\", \"crimes\", \"crimes\", \"criminal\", \"criminals\", \"criterion\", \"crook\", \"crossfire\", \"cult classic\", \"culture\", \"culture\", \"culture\", \"cup\", \"cup\", \"cure\", \"cure\", \"cure\", \"curtain\", \"custer\", \"czech\", \"dad\", \"dad\", \"dad\", \"dad\", \"dad\", \"dana andrews\", \"dance\", \"dance\", \"dance\", \"dances\", \"dancing\", \"dancing\", \"danny\", \"danny\", \"danny\", \"danny glover\", \"daughter\", \"daughter\", \"daughter\", \"daughter\", \"daughter\", \"daughter\", \"daughter\", \"daughter\", \"daughter\", \"daughter\", \"david lynch\", \"david tennant\", \"day\", \"day\", \"day\", \"day\", \"day\", \"day\", \"day\", \"day\", \"day\", \"day\", \"day\", \"day\", \"day\", \"day\", \"day\", \"day\", \"day\", \"days\", \"days\", \"days\", \"days\", \"days\", \"days\", \"days\", \"days\", \"days\", \"days\", \"days\", \"days\", \"days\", \"days\", \"dead\", \"dead\", \"dead\", \"dead\", \"dead end kids\", \"deals\", \"death\", \"death\", \"death\", \"death\", \"death\", \"death\", \"death\", \"death\", \"death\", \"death\", \"death\", \"death\", \"death\", \"death penalty\", \"decade\", \"decade\", \"decade\", \"decade\", \"decade\", \"decade\", \"decade later\", \"decent acting\", \"decent acting\", \"decent performance\", \"deliverance\", \"demons\", \"demons\", \"demons\", \"demons\", \"demons\", \"deniro\", \"denzel\", \"denzel washington\", \"detective\", \"detective\", \"dialogues\", \"diamonds\", \"different characters\", \"different parts\", \"different reasons\", \"din\", \"direction\", \"direction\", \"direction\", \"direction\", \"direction\", \"direction\", \"director\", \"director\", \"director\", \"director\", \"director\", \"director\", \"director\", \"director\", \"director\", \"dirty dancing\", \"disappointing\", \"disappointing\", \"dismemberment\", \"disney\", \"dixon\", \"doctor\", \"doctor\", \"doctor\", \"doctor\", \"doctor\", \"doctor\", \"doctor\", \"doctors\", \"documentaries\", \"documentaries\", \"documentary\", \"documentary\", \"doll\", \"doll\", \"dollars\", \"dollars\", \"dollars\", \"donald pleasance\", \"doors\", \"doors\", \"doors\", \"doors\", \"dorm\", \"douglas fairbanks\", \"downs\", \"dracula\", \"dracula\", \"dreadful\", \"drinking\", \"dull\", \"dvd\", \"dvd\", \"dvd\", \"dvd\", \"dvd\", \"dvd\", \"dvd\", \"dvd\", \"dvd\", \"dvd collection\", \"dvd commentary\", \"earth\", \"earth\", \"earth\", \"earth\", \"earth\", \"earth\", \"earth\", \"earth\", \"earth\", \"earth\", \"eastwood\", \"eastwood\", \"ebay\", \"ebay\", \"eddie murphy\", \"editing\", \"editing\", \"editing\", \"editing\", \"editing\", \"editing\", \"edward\", \"effects\", \"effects\", \"effects\", \"effects\", \"effects\", \"emma\", \"emotions\", \"emotions\", \"emotions\", \"emotions\", \"end\", \"end\", \"end\", \"end\", \"end\", \"end\", \"end\", \"end\", \"end\", \"end\", \"end\", \"end\", \"end\", \"end\", \"end\", \"end\", \"end\", \"end\", \"end\", \"ending\", \"ending\", \"ending\", \"ending\", \"ending\", \"ending\", \"ending\", \"ending\", \"ending\", \"enemy\", \"enemy\", \"enemy\", \"enemy soldiers\", \"england\", \"england\", \"england\", \"england\", \"english\", \"english\", \"english\", \"english\", \"english\", \"english\", \"english\", \"english\", \"english\", \"english\", \"english\", \"english\", \"english subtitles\", \"enterprise\", \"entire cast\", \"entire cast\", \"entire series\", \"entire series\", \"entire thing\", \"episode\", \"episodes\", \"era\", \"era\", \"era\", \"era\", \"era\", \"era\", \"era\", \"era\", \"era\", \"errol flynn\", \"europeans\", \"events\", \"events\", \"events\", \"events\", \"events\", \"events\", \"events\", \"events\", \"events\", \"events\", \"events\", \"excellent\", \"excellent\", \"excellent\", \"excellent\", \"excellent\", \"extraordinary\", \"fact\", \"fact\", \"fact\", \"fact\", \"fact\", \"fact\", \"fact\", \"fact\", \"fact\", \"fact\", \"fact\", \"fact\", \"fact\", \"fact\", \"fact\", \"fact\", \"fact\", \"falk\", \"family\", \"family\", \"family\", \"family\", \"fan\", \"fan\", \"fan\", \"fan\", \"fan\", \"fan\", \"fan\", \"fan\", \"fan\", \"fan\", \"fan\", \"fan\", \"fangs\", \"fans\", \"fans\", \"fans\", \"fans\", \"fans\", \"fans\", \"fans\", \"fans\", \"fans\", \"farm\", \"farm\", \"farm\", \"fart jokes\", \"father\", \"father\", \"father\", \"father\", \"father\", \"fathers\", \"favorite character\", \"favorite movies\", \"favorite movies\", \"favour\", \"favour\", \"favour\", \"favourite\", \"favourite\", \"favourite\", \"fbi\", \"fbi\", \"fbi\", \"fbi\", \"feel\", \"feel\", \"feel\", \"feel\", \"feel\", \"feel\", \"feel\", \"feel good\", \"feeling\", \"feeling\", \"feeling\", \"feeling\", \"feeling\", \"feeling\", \"feeling\", \"feeling\", \"feeling\", \"feeling\", \"feeling\", \"feelings\", \"feelings\", \"feelings\", \"feelings\", \"female character\", \"festival\", \"fiction\", \"fiction\", \"fiction\", \"fiend\", \"fight scenes\", \"film-maker\", \"finish\", \"finish\", \"finish\", \"finish\", \"finish\", \"flame\", \"floor\", \"floor\", \"floor\", \"floor\", \"floor\", \"flynn\", \"fontaine\", \"fools\", \"fools\", \"ford\", \"ford\", \"ford\", \"fort\", \"fourth\", \"fourth\", \"fourth\", \"fourth\", \"fourth\", \"frank sinatra\", \"frankenstein\", \"frankenstein\", \"frankenstein\", \"freddy\", \"french\", \"french\", \"french\", \"french\", \"french\", \"french\", \"french\", \"french\", \"french\", \"french\", \"friday 13th\", \"friends\", \"friends\", \"friends\", \"friends\", \"friends\", \"friends\", \"friends\", \"friends\", \"friends\", \"friends\", \"friendship\", \"friendship\", \"friendship\", \"friendship\", \"fun\", \"fun\", \"fun\", \"fun\", \"fun\", \"fun\", \"fun\", \"fun\", \"fun\", \"fun\", \"funniest movies\", \"funniest thing\", \"funny\", \"funny\", \"funny\", \"gags\", \"gags\", \"galaxy\", \"gandhi\", \"garbage\", \"garbage\", \"garbage\", \"garbage\", \"garbage\", \"gary merrill\", \"geeks\", \"gene kelly\", \"genetics\", \"gentlemen\", \"george kennedy\", \"german\", \"german\", \"german\", \"germans\", \"germany\", \"giovanni ribisi\", \"girl\", \"girl\", \"girl\", \"girl\", \"girl\", \"girl\", \"girl\", \"girl\", \"girl\", \"girl\", \"girls\", \"girls\", \"girls\", \"girls\", \"girls\", \"girls\", \"glenn ford\", \"god\", \"god\", \"god\", \"god\", \"god\", \"god\", \"god\", \"god\", \"god\", \"god\", \"god\", \"god\", \"god\", \"gods sake\", \"goldie hawn\", \"good\", \"good\", \"good\", \"good\", \"good\", \"good\", \"good\", \"good\", \"good\", \"good\", \"good\", \"good\", \"good\", \"good\", \"good girl\", \"good horror\", \"good laugh\", \"good laugh\", \"good reviews\", \"good reviews\", \"goodfellas\", \"goofs\", \"gore\", \"gore\", \"gore effects\", \"governments\", \"grant\", \"grant\", \"grant\", \"great\", \"great\", \"great\", \"great\", \"great\", \"great\", \"great\", \"great\", \"great\", \"great acting\", \"great acting\", \"great acting\", \"great acting\", \"great entertainment\", \"great entertainment\", \"great horror\", \"great job\", \"great job\", \"great job\", \"great job\", \"great job\", \"great opportunity\", \"great performance\", \"great performance\", \"great performance\", \"great performance\", \"great performance\", \"great performance\", \"great potential\", \"great special effects\", \"great talent\", \"group\", \"group\", \"group\", \"group\", \"group\", \"group\", \"group\", \"group\", \"group\", \"group\", \"group\", \"guitar\", \"gunga din\", \"gusto\", \"guy\", \"guy\", \"guy\", \"guy\", \"guy\", \"guy\", \"guy\", \"guy\", \"guy ritchie\", \"gwyneth paltrow\", \"gypsy\", \"half\", \"half\", \"half\", \"half\", \"half\", \"half\", \"half\", \"half\", \"half\", \"half\", \"hall\", \"hall\", \"halloween\", \"halloween\", \"hamlet\", \"hardy\", \"harrison ford\", \"harrison ford\", \"harry\", \"harry\", \"harry\", \"harvey keitel\", \"hawn\", \"hbo\", \"hbo\", \"hbo\", \"head\", \"head\", \"head\", \"head\", \"head\", \"head\", \"head\", \"head\", \"head\", \"head\", \"head\", \"head\", \"head\", \"headache\", \"heart\", \"heart\", \"heart\", \"heart\", \"heart\", \"heart\", \"heart\", \"heart\", \"heart\", \"heart\", \"heart\", \"heaven\", \"heaven\", \"heaven\", \"heaven\", \"heaven\", \"heaven\", \"heaven\", \"heaven\", \"helen hunt\", \"hell\", \"hell\", \"hell\", \"hell\", \"hell\", \"hell\", \"hell\", \"hell\", \"hell\", \"help\", \"help\", \"help\", \"help\", \"help\", \"help\", \"help\", \"help\", \"help\", \"help\", \"help\", \"henry fonda\", \"hero\", \"hero\", \"hero\", \"hero\", \"hero\", \"hero\", \"hero\", \"hero\", \"hero\", \"hilarity\", \"hill\", \"hill\", \"hill\", \"hindi\", \"hindsight\", \"history\", \"history\", \"history\", \"history\", \"history\", \"history\", \"history\", \"history\", \"history\", \"history\", \"history\", \"hit-man\", \"hitchcock\", \"hitchcock\", \"hitler\", \"hitler\", \"hits\", \"hk\", \"hollywood\", \"hollywood\", \"hollywood\", \"hollywood\", \"hollywood\", \"hollywood\", \"hollywood\", \"hollywood\", \"hollywood\", \"hollywood\", \"hollywood\", \"holocaust\", \"home\", \"home\", \"home\", \"home\", \"home\", \"home\", \"home\", \"home\", \"honesty\", \"honesty\", \"honesty\", \"hong kong\", \"hong kong\", \"hooker\", \"hooker\", \"hooker\", \"hooper\", \"hopper\", \"hopper\", \"horror\", \"horror\", \"horror fans\", \"horror fans\", \"horror movies\", \"horror movies\", \"hospital\", \"hospital\", \"hospital\", \"hospital\", \"hospital\", \"hospital\", \"hour\", \"hour\", \"hour\", \"hour\", \"hour\", \"hour\", \"hour\", \"hour half\", \"hour half\", \"house\", \"house\", \"house\", \"house\", \"house\", \"house\", \"house\", \"house\", \"house\", \"house\", \"house\", \"house\", \"house wax\", \"human condition\", \"human relationships\", \"humanity\", \"humanity\", \"humanity\", \"humor\", \"humor\", \"humor\", \"humor\", \"humor\", \"humor\", \"humor\", \"humor\", \"humor\", \"humor\", \"humor\", \"humor\", \"humor\", \"humour\", \"humour\", \"humour\", \"humour\", \"humour\", \"hurt\", \"husband\", \"husband\", \"husband\", \"husband\", \"husband\", \"husband\", \"hyde\", \"hyde\", \"hypocrisy\", \"idea\", \"idea\", \"idea\", \"idea\", \"idea\", \"idea\", \"idea\", \"idea\", \"idea\", \"idea\", \"idea\", \"idea\", \"idea\", \"idiot\", \"idiot\", \"idiot\", \"idiot\", \"implausibility\", \"improvements\", \"inability\", \"inability\", \"indian\", \"indian\", \"indian\", \"indian\", \"indians\", \"indians\", \"indians\", \"indians\", \"ingrid bergman\", \"instructions\", \"intents\", \"interesting premise\", \"intriguing premise\", \"iraq\", \"iraq\", \"ireland\", \"ireland\", \"irish\", \"irish\", \"irish\", \"islam\", \"isolation\", \"isolation\", \"istanbul\", \"it\\u00b4s\", \"jack frost\", \"jackie chan\", \"jail\", \"jail\", \"james cagney\", \"james cagney\", \"jamie foxx\", \"jamie lee curtis\", \"jane austen\", \"jane fonda\", \"japan\", \"japan\", \"japan\", \"japan\", \"japanese\", \"japanese\", \"japanese\", \"japanese\", \"japanese\", \"japanese\", \"jason\", \"jason\", \"jay leno\", \"jean peters\", \"jedi\", \"jennifer aniston\", \"jerry lewis\", \"jerry springer\", \"jesus\", \"jesus\", \"jesus\", \"jesus\", \"jesus\", \"jesus christ\", \"jet li\", \"jew\", \"jewel\", \"jews\", \"jim carrey\", \"jim carrey\", \"job\", \"job\", \"job\", \"job\", \"job\", \"job\", \"job\", \"job\", \"job\", \"job\", \"job\", \"joe\", \"joe\", \"joe\", \"joe\", \"john cleese\", \"john ford\", \"john ford\", \"john ritter\", \"john waters\", \"john wayne\", \"john wayne\", \"jokes\", \"jokes\", \"jokes\", \"joseph\", \"judy garland\", \"julia stiles\", \"julie walters\", \"juliet\", \"kansas\", \"karl malden\", \"karl malden\", \"keaton\", \"keaton\", \"keaton\", \"keaton\", \"kelly\", \"kelly\", \"kermit\", \"kid\", \"kid\", \"kid\", \"kid\", \"kid\", \"kids\", \"kids\", \"killer\", \"killer\", \"kind\", \"kind\", \"kind\", \"kind\", \"kind\", \"kind\", \"kind\", \"kind\", \"kind\", \"kind\", \"kind\", \"kind\", \"kind\", \"kind\", \"kirk\", \"knives\", \"kubrick\", \"kubrick\", \"kung fu\", \"kurtz\", \"kurtz\", \"lambs\", \"lana turner\", \"late night\", \"late night\", \"late night\", \"late night\", \"late night\", \"laugh\", \"laugh\", \"laugh\", \"laugh\", \"laugh\", \"laughs\", \"laughs\", \"laughs\", \"laughs\", \"laura\", \"laura\", \"laura linney\", \"laurel\", \"law\", \"law\", \"law\", \"law\", \"law\", \"law\", \"law\", \"law\", \"law\", \"lead\", \"lead\", \"lead\", \"lead\", \"lead\", \"lead\", \"lead\", \"lead roles\", \"leads\", \"leads\", \"leads\", \"leads\", \"leads\", \"leads\", \"leads\", \"league\", \"league\", \"league\", \"league\", \"league\", \"league gentlemen\", \"lemmon\", \"leno\", \"letterman\", \"level\", \"level\", \"level\", \"level\", \"level\", \"level\", \"level\", \"level\", \"level\", \"life\", \"life\", \"life\", \"life\", \"life\", \"life\", \"life\", \"life\", \"life\", \"life\", \"life\", \"life\", \"life\", \"life\", \"life\", \"life story\", \"lifetime\", \"lifetime\", \"lifetime\", \"lifetime\", \"lifetime\", \"lifetime\", \"lifetime\", \"lincoln\", \"lines\", \"lines\", \"lines\", \"lines\", \"lines\", \"lines\", \"lines\", \"lines\", \"lines\", \"lines\", \"lines\", \"little gem\", \"little girl\", \"little girl\", \"little girl\", \"little kid\", \"little kid\", \"little plot\", \"little sense\", \"little sense\", \"lives\", \"lives\", \"lives\", \"lives\", \"lives\", \"lives\", \"lives\", \"lives\", \"lives\", \"lives\", \"living dead\", \"locals\", \"locals\", \"locals\", \"london\", \"london\", \"london\", \"london\", \"london\", \"london\", \"london\", \"loneliness\", \"loneliness\", \"looney tunes\", \"loss\", \"loss\", \"loss\", \"loss\", \"lot\", \"lot\", \"lot\", \"lot\", \"lot\", \"lot\", \"lot\", \"lot\", \"lot\", \"lot\", \"lot\", \"lot\", \"lot\", \"lot\", \"lots\", \"lots\", \"lots\", \"lots\", \"lots\", \"lots\", \"lots\", \"lots\", \"lots\", \"lots\", \"lots\", \"lots\", \"lots\", \"lots\", \"love\", \"love\", \"love\", \"love\", \"love\", \"love\", \"love\", \"love\", \"love\", \"love\", \"love lucy\", \"lover\", \"lover\", \"lover\", \"lover\", \"lover\", \"lover\", \"low\", \"low budget\", \"low budget\", \"low quality\", \"loyalty\", \"loyalty\", \"loyalty\", \"lucille ball\", \"lucy\", \"lugosi\", \"lumet\", \"lust\", \"lust\", \"lynch\", \"lynch\", \"ma\", \"madonna\", \"madonna\", \"madonna\", \"madonna\", \"mae west\", \"major star\", \"man\", \"man\", \"man\", \"man\", \"man\", \"man\", \"man\", \"man\", \"man\", \"man\", \"man\", \"man\", \"man\", \"man\", \"man\", \"man\", \"maniac\", \"mann\", \"manos\", \"manson\", \"maria\", \"marine\", \"marines\", \"marriage\", \"marriage\", \"marriage\", \"mars\", \"mars\", \"mars\", \"martial arts\", \"martial arts\", \"martian\", \"martin landau\", \"marx\", \"marx brothers\", \"masses\", \"masses\", \"masses\", \"matt damon\", \"mausoleum\", \"mccoy\", \"media\", \"media\", \"media\", \"melville\", \"melville\", \"memorable scene\", \"men\", \"men\", \"men\", \"men\", \"men\", \"men\", \"men\", \"men\", \"men\", \"mencia\", \"meryl streep\", \"meryl streep\", \"mess\", \"mess\", \"mess\", \"mess\", \"message\", \"message\", \"message\", \"message\", \"message\", \"message\", \"message\", \"message\", \"message\", \"meteor\", \"mexicans\", \"mexico\", \"mexico\", \"mexico\", \"mexico\", \"mexico\", \"mexico\", \"mgm\", \"mgm\", \"mgm\", \"michael caine\", \"michael j. fox\", \"michael jackson\", \"michael jackson\", \"michael myers\", \"mid 1960s\", \"million dollars\", \"millionaire\", \"milo\", \"mind\", \"mind\", \"mind\", \"mind\", \"mind\", \"mind\", \"mind\", \"mind\", \"mind\", \"mind\", \"mind\", \"mind\", \"mind\", \"mind\", \"mini-series\", \"minutes\", \"minutes\", \"minutes\", \"minutes\", \"minutes\", \"minutes\", \"minutes\", \"minutes\", \"minutes\", \"misfortune\", \"misfortune\", \"mix\", \"mix\", \"mix\", \"mix\", \"mix\", \"mix\", \"mix\", \"mix\", \"miyazaki\", \"modern\", \"moe\", \"mom\", \"money\", \"money\", \"money\", \"money\", \"money\", \"money\", \"money\", \"money\", \"money\", \"money\", \"money\", \"monroe\", \"montgomery\", \"montgomery\", \"monty\", \"morgan\", \"morgan\", \"mormon\", \"moron\", \"mother\", \"mother\", \"mother\", \"mother\", \"mother\", \"mother\", \"mouth\", \"mouth\", \"mouth\", \"mouth\", \"mouth\", \"mouth\", \"mouth\", \"mouth\", \"mouth\", \"movies\", \"movies\", \"movies\", \"movies\", \"movies\", \"movies\", \"movies\", \"movies\", \"movies\", \"movies\", \"movies\", \"movies\", \"movies\", \"movies\", \"movies\", \"movies title\", \"mtv\", \"mtv\", \"mtv\", \"multitude\", \"mum\", \"mum\", \"muppet\", \"muppets\", \"murder\", \"murder\", \"murder\", \"murder\", \"murderer\", \"murderer\", \"murphy\", \"music\", \"music\", \"music\", \"music\", \"music\", \"music\", \"music\", \"music\", \"music\", \"music\", \"musical numbers\", \"musical numbers\", \"musicals\", \"musicals\", \"muslim\", \"muslim\", \"muslims\", \"mysteries\", \"naked gun\", \"nausicaa\", \"nazi\", \"nazis\", \"negative reviews\", \"negative reviews\", \"nerds\", \"netflix\", \"netflix\", \"new millennium\", \"new twist\", \"nicole kidman\", \"night\", \"night\", \"night\", \"night\", \"night\", \"night\", \"night\", \"night\", \"night\", \"night\", \"night\", \"nightmares\", \"nightmares\", \"nightmares\", \"nixon\", \"noah\", \"noir\", \"noir\", \"norma shearer\", \"norris\", \"nose\", \"nose\", \"nose\", \"nose\", \"nose\", \"novel\", \"novel\", \"novel\", \"novel\", \"novel\", \"nut\", \"ok\", \"old movies\", \"old movies\", \"older man\", \"olivia\", \"omen\", \"one-third\", \"opera\", \"opera\", \"opinion\", \"opinion\", \"opinion\", \"opinion\", \"opinion\", \"opinion\", \"opinion\", \"opinion\", \"opinion\", \"opinion\", \"opinion\", \"oprah\", \"order\", \"order\", \"order\", \"order\", \"order\", \"order\", \"order\", \"order\", \"order\", \"order\", \"order\", \"order\", \"order\", \"organs\", \"original\", \"original\", \"original\", \"original\", \"original\", \"original\", \"original\", \"original book\", \"original series\", \"original series\", \"orson welles\", \"orson welles\", \"oscar\", \"oscar\", \"oscar\", \"oscar\", \"oscar\", \"oscar\", \"oscar\", \"oscar\", \"otto preminger\", \"outfit\", \"oz\", \"page\", \"page\", \"page\", \"page\", \"page\", \"page\", \"page\", \"pain\", \"pain\", \"pain\", \"pain\", \"pain\", \"pain\", \"pain\", \"pain\", \"palestinian\", \"pam grier\", \"parallels\", \"parents\", \"parents\", \"parents\", \"paris hilton\", \"parody\", \"parody\", \"partner\", \"partner\", \"partner\", \"partner\", \"partner\", \"passion\", \"passion\", \"passion\", \"passion\", \"passion\", \"patients\", \"patients\", \"patients\", \"patriotism\", \"paulie\", \"pawn\", \"pearl harbor\", \"penn\", \"people\", \"people\", \"people\", \"people\", \"people\", \"people\", \"people\", \"people\", \"people\", \"people\", \"people\", \"people\", \"people\", \"people\", \"performance\", \"performance\", \"performance\", \"performance\", \"performance\", \"performance\", \"performance\", \"performance\", \"performance\", \"performances\", \"performances\", \"performances\", \"performances\", \"performances\", \"performances\", \"performances\", \"performances\", \"performances\", \"performances\", \"person\", \"person\", \"person\", \"person\", \"person\", \"person\", \"person\", \"person\", \"person\", \"person\", \"person\", \"person\", \"peter cushing\", \"peter falk\", \"peter jackson\", \"peter lorre\", \"picture\", \"picture\", \"picture\", \"picture\", \"picture\", \"picture\", \"picture\", \"picture\", \"picture\", \"picture\", \"picture\", \"picture\", \"picture\", \"piece\", \"piece\", \"piece\", \"piece\", \"piece\", \"piece\", \"piece\", \"pierce brosnan\", \"pike\", \"pile\", \"pile\", \"pile\", \"pitt\", \"place\", \"place\", \"place\", \"place\", \"place\", \"place\", \"place\", \"place\", \"place\", \"place\", \"place\", \"place\", \"place\", \"place\", \"place\", \"place\", \"place\", \"plane\", \"plane\", \"plane\", \"plane\", \"plane\", \"plane\", \"plane\", \"plane\", \"plane\", \"planet\", \"planet\", \"planet\", \"planet\", \"planet\", \"planet\", \"planets\", \"play\", \"play\", \"play\", \"play\", \"play\", \"play\", \"play\", \"plot\", \"plot\", \"plot\", \"plot\", \"plot\", \"plot\", \"plot\", \"plot\", \"plot\", \"plot\", \"plot\", \"plot\", \"plot lines\", \"plots\", \"plots\", \"plots\", \"plots\", \"plots\", \"poignancy\", \"point\", \"point\", \"point\", \"point\", \"point\", \"point\", \"point\", \"point\", \"point\", \"point\", \"point\", \"point\", \"point\", \"point\", \"point\", \"point\", \"point\", \"poker\", \"polanski\", \"police\", \"police detective\", \"polly\", \"poor girl\", \"poor script\", \"poor script\", \"popcorn\", \"popcorn\", \"portuguese\", \"poverty\", \"poverty\", \"poverty\", \"poverty\", \"power rangers\", \"pows\", \"premise\", \"premise\", \"premise\", \"premise\", \"premise\", \"premise\", \"premise\", \"premise\", \"premise\", \"premise\", \"premise\", \"premise\", \"premise\", \"president\", \"president\", \"president\", \"president\", \"president\", \"pressures\", \"pretense\", \"priscilla lane\", \"prison\", \"prison\", \"prison\", \"prison\", \"prison\", \"prison\", \"prison\", \"private ryan\", \"privilege\", \"problem\", \"problem\", \"problem\", \"problem\", \"problem\", \"problem\", \"problem\", \"problem\", \"problem\", \"problem\", \"problem\", \"problem\", \"production\", \"production\", \"production\", \"production\", \"production\", \"production\", \"production\", \"production\", \"production\", \"production\", \"production team\", \"program\", \"program\", \"programs\", \"promises\", \"prop\", \"propaganda\", \"prostitutes\", \"psychological thriller\", \"pub\", \"pussy\", \"quebec\", \"question\", \"question\", \"question\", \"question\", \"question\", \"question\", \"question\", \"question\", \"quinn\", \"raoul walsh\", \"ratings\", \"ratings\", \"ratings\", \"ray milland\", \"real thing\", \"real thing\", \"real treat\", \"reality\", \"reality\", \"reality\", \"reality\", \"reality\", \"reality\", \"reality\", \"reality\", \"reality\", \"reason\", \"reason\", \"reason\", \"reason\", \"reason\", \"reason\", \"reason\", \"reason\", \"reason\", \"reason\", \"reason\", \"reason\", \"reason\", \"redemption\", \"reed\", \"reeves\", \"refund\", \"regret\", \"relationship\", \"relationship\", \"relationship\", \"relationship\", \"relationship\", \"relationship\", \"relationship\", \"relative\", \"religion\", \"religion\", \"religion\", \"religion\", \"religion\", \"remote\", \"remote\", \"requiem\", \"resistance\", \"rest\", \"rest\", \"rest\", \"rest\", \"rest\", \"rest\", \"rest\", \"rest\", \"rest\", \"rest\", \"rest\", \"rest\", \"rest\", \"rest\", \"rest\", \"reynolds\", \"richard crenna\", \"riddles\", \"right place\", \"rings\", \"rings\", \"ringu\", \"rita hayworth\", \"rob lowe\", \"robert taylor\", \"robin\", \"robin\", \"robin williams\", \"robin williams\", \"robinson\", \"robocop\", \"rock hudson\", \"rock hudson\", \"roeg\", \"roger moore\", \"rogers\", \"role\", \"role\", \"role\", \"role\", \"role\", \"role\", \"role\", \"role\", \"role\", \"role\", \"role\", \"role\", \"roles\", \"roles\", \"roles\", \"roles\", \"roles\", \"roles\", \"roles\", \"roles\", \"romance\", \"romance\", \"romance\", \"romance\", \"romance\", \"romance\", \"romance\", \"romania\", \"romania\", \"romantic comedies\", \"romeo\", \"romulan\", \"ron howard\", \"rooney\", \"roy scheider\", \"rugby\", \"rupert grint\", \"russia\", \"russia\", \"russian\", \"russian\", \"russian\", \"russian\", \"russian\", \"russian\", \"russian\", \"russians\", \"ruth\", \"sabrina\", \"sad thing\", \"sadism\", \"sailor\", \"sampson\", \"sandler\", \"santa\", \"satire\", \"satire\", \"satire\", \"saturday\", \"saturday\", \"saturday\", \"saturday\", \"saturday night\", \"saturday night live\", \"savalas\", \"saving private ryan\", \"scarface\", \"scarlett\", \"scary\", \"scene\", \"scene\", \"scene\", \"scene\", \"scene\", \"scene\", \"scene\", \"scene\", \"scene\", \"scene\", \"scene\", \"scene\", \"scene\", \"scene\", \"scene\", \"scene\", \"scene\", \"scenery\", \"scenery\", \"scenery\", \"scenery\", \"scenery\", \"scenery\", \"scenery\", \"scenes\", \"scenes\", \"scenes\", \"scenes\", \"scenes\", \"scenes\", \"scenes\", \"scenes\", \"scenes\", \"scenes\", \"scenes\", \"scenes\", \"scenes\", \"scenes\", \"schlock\", \"school\", \"school\", \"school\", \"school\", \"school\", \"school\", \"schwarzenegger\", \"sci-fi\", \"sci-fi\", \"sci-fi\", \"sci-fi\", \"science fiction\", \"science fiction\", \"science fiction\", \"screen\", \"screen\", \"screen\", \"screen\", \"screen\", \"screen\", \"screen\", \"screen\", \"screen\", \"screen\", \"screen\", \"screen\", \"screen\", \"screenplay\", \"screenplay\", \"screenplay\", \"screenplay\", \"screenplay\", \"screenplay\", \"screenplay\", \"screenplay\", \"screenplays\", \"script\", \"script\", \"script\", \"script\", \"script\", \"script\", \"script\", \"script\", \"script\", \"script\", \"script\", \"seagal\", \"seagal\", \"sean connery\", \"sean connery\", \"season\", \"seasons\", \"second\", \"second\", \"second\", \"second\", \"second\", \"second\", \"second\", \"second\", \"second\", \"second\", \"second\", \"second\", \"second\", \"second\", \"second episode\", \"second season\", \"secret service\", \"sense\", \"sense\", \"sense\", \"sense\", \"sense\", \"sense\", \"sense\", \"sense\", \"sense\", \"sense\", \"sense\", \"sense\", \"sensitivity\", \"serial killer\", \"serial killer\", \"serial killers\", \"series\", \"series\", \"series\", \"series\", \"series\", \"series\", \"series\", \"series\", \"series\", \"series\", \"series\", \"seuss\", \"seven\", \"sex\", \"sex\", \"sex\", \"sex\", \"sex\", \"sex\", \"sex\", \"sex\", \"sex\", \"sex scene\", \"sex scene\", \"shades\", \"shades\", \"shakespeare\", \"shakespeare\", \"shakespeare\", \"shakespeare\", \"shatner\", \"shelf\", \"ship\", \"ship\", \"ship\", \"ship\", \"shows\", \"sidewalk\", \"sights\", \"sights\", \"significance\", \"significance\", \"silence lambs\", \"silent era\", \"similar\", \"sinatra\", \"singer\", \"singing\", \"single episode\", \"sitcom\", \"sketches\", \"slasher\", \"slasher\", \"sleaze\", \"sleepers\", \"small\", \"small\", \"small\", \"small\", \"small\", \"small island\", \"smith\", \"smith\", \"smith\", \"snakes\", \"snakes\", \"snipes\", \"snl\", \"snl\", \"snowman\", \"snuff\", \"society\", \"society\", \"society\", \"society\", \"society\", \"society\", \"soft spot\", \"solid performance\", \"solo\", \"son\", \"son\", \"son\", \"son\", \"son\", \"song\", \"song\", \"song\", \"song\", \"song\", \"songs\", \"songs\", \"songs\", \"songs\", \"songs\", \"sopranos\", \"sopranos\", \"sorrow\", \"sort\", \"sort\", \"sort\", \"sort\", \"sort\", \"sort\", \"sort\", \"sort\", \"sort\", \"sort\", \"sort\", \"soul\", \"soul\", \"soul\", \"soul\", \"soul\", \"soul\", \"sound\", \"sound\", \"sound\", \"sound\", \"sound\", \"sound\", \"sound\", \"sound\", \"soundtrack\", \"soundtrack\", \"soundtrack\", \"soundtrack\", \"soundtrack\", \"soundtrack\", \"soundtrack\", \"soundtrack\", \"soundtrack\", \"soundtrack\", \"soundtrack\", \"soundtrack\", \"south park\", \"soviet\", \"soviet\", \"soviets\", \"spaghetti westerns\", \"special effects\", \"special effects\", \"special effects\", \"special effects\", \"special place\", \"spectrum\", \"spectrum\", \"spelling\", \"spock\", \"spoiler alert\", \"staff\", \"stage\", \"stage\", \"stage\", \"stage\", \"stage\", \"stage\", \"stage\", \"stage\", \"stan\", \"stanwyck\", \"star trek\", \"star trek\", \"start\", \"start\", \"start\", \"start\", \"start\", \"start\", \"start\", \"start\", \"start\", \"start\", \"start\", \"state\", \"state\", \"state\", \"state\", \"steady pace\", \"stefan\", \"stephanie\", \"steven seagal\", \"stewart\", \"stewart\", \"stewart\", \"stiller\", \"stock footage\", \"stock footage\", \"stomach\", \"stomach\", \"stooges\", \"stooges\", \"stooges\", \"stories\", \"stories\", \"stories\", \"stories\", \"stories\", \"stories\", \"stories\", \"stories\", \"stories\", \"story\", \"story\", \"story\", \"story\", \"story\", \"story\", \"story\", \"story\", \"story\", \"story\", \"story\", \"story\", \"story\", \"story\", \"story\", \"strange things\", \"straw\", \"streep\", \"studio\", \"studio\", \"studio\", \"studio\", \"studio\", \"studio\", \"studio\", \"subject\", \"subject\", \"subject\", \"subject\", \"submarine\", \"substance\", \"substance\", \"substance\", \"substance\", \"substance\", \"subtext\", \"success\", \"success\", \"success\", \"success\", \"success\", \"success\", \"success\", \"success\", \"suicide\", \"suicide\", \"suicide\", \"suicide\", \"suicide\", \"suicide\", \"sunglasses\", \"superman\", \"supporting characters\", \"supporting characters\", \"susan\", \"susan\", \"susan sarandon\", \"suspect\", \"suspects\", \"suspects\", \"suspense\", \"suspense\", \"suspense\", \"suspense\", \"suspense\", \"suspense\", \"suspense\", \"suspense\", \"suspension\", \"swat\", \"swedish\", \"swedish\", \"sweet\", \"swords\", \"sydney\", \"symbol\", \"system\", \"system\", \"tag line\", \"tale sisters\", \"tarkovsky\", \"tasks\", \"taxi driver\", \"taxi driver\", \"tea\", \"tea\", \"tea\", \"tears\", \"tears\", \"tears\", \"tears\", \"tears\", \"teenage girl\", \"teenager\", \"teenagers\", \"teenagers\", \"teenagers\", \"teenagers\", \"television\", \"television\", \"television\", \"television\", \"television\", \"telly savalas\", \"tempest\", \"terrible\", \"terrible\", \"terrorism\", \"themes\", \"themes\", \"themes\", \"themes\", \"themes\", \"thing\", \"thing\", \"thing\", \"thing\", \"thing\", \"thing\", \"thing\", \"thing\", \"thing\", \"thing\", \"thing\", \"thing\", \"thing\", \"thing\", \"thing\", \"things\", \"things\", \"things\", \"things\", \"things\", \"things\", \"things\", \"things\", \"things\", \"things\", \"things\", \"things\", \"things\", \"things\", \"things\", \"things\", \"thirties\", \"thirties\", \"tho\", \"thomas\", \"thumbs\", \"thumbs\", \"tierney\", \"tierney\", \"tim burton\", \"tim robbins\", \"time\", \"time\", \"time\", \"time\", \"time\", \"time\", \"time\", \"time\", \"time\", \"time\", \"time\", \"time\", \"time\", \"time\", \"time\", \"time\", \"time\", \"time\", \"time\", \"time machine\", \"times\", \"times\", \"times\", \"times\", \"times\", \"times\", \"times\", \"times\", \"times\", \"times\", \"times\", \"times\", \"times\", \"timing\", \"timing\", \"timing\", \"timing\", \"title\", \"title\", \"title\", \"title\", \"title\", \"title\", \"title\", \"title\", \"title\", \"title\", \"title\", \"title\", \"title\", \"title\", \"title\", \"title\", \"today\", \"today\", \"today\", \"today\", \"today\", \"today\", \"today\", \"today\", \"today\", \"today\", \"today\", \"today\", \"tom hanks\", \"tom hanks\", \"tommy\", \"tony curtis\", \"top-notch\", \"tough guy\", \"town\", \"town\", \"town\", \"town\", \"town\", \"town\", \"town\", \"town\", \"trash\", \"trash\", \"trash\", \"trash\", \"trek\", \"tribulations\", \"troma\", \"troma\", \"troops\", \"true love\", \"true love\", \"turkish\", \"turmoil\", \"turner\", \"tv\", \"tv\", \"tv\", \"tv\", \"tv\", \"tv\", \"tv\", \"tv\", \"tv\", \"tv\", \"tv movies\", \"tv series\", \"twilight zone\", \"twilight zone\", \"uk\", \"uk\", \"uk\", \"uk\", \"uk\", \"uk\", \"unintentional humor\", \"ups\", \"usual suspects\", \"vampires\", \"vampires\", \"van damme\", \"vehicles\", \"vehicles\", \"venice\", \"venus\", \"venus\", \"version\", \"version\", \"version\", \"version\", \"version\", \"version\", \"version\", \"version\", \"veteran\", \"veteran\", \"vice president\", \"victim\", \"victim\", \"victim\", \"victim\", \"victim\", \"victim\", \"video\", \"video\", \"video\", \"video\", \"video\", \"video\", \"video\", \"video\", \"video\", \"video\", \"video\", \"video game\", \"view\", \"view\", \"view\", \"view\", \"view\", \"view\", \"view\", \"view\", \"view\", \"viewer\", \"viewer\", \"viewer\", \"viewer\", \"viewer\", \"viewer\", \"viewer\", \"viewer\", \"viewer\", \"viewer\", \"viewer\", \"viewers\", \"viewers\", \"viewers\", \"viewers\", \"viewers\", \"viewers\", \"viewers\", \"viewers\", \"viewers\", \"viewers\", \"viewers\", \"village\", \"village\", \"village\", \"villain\", \"villain\", \"villain\", \"villain\", \"villain\", \"villain\", \"villain\", \"villain\", \"violence\", \"violence\", \"violence\", \"violence\", \"violence\", \"violence\", \"violence\", \"violence\", \"violence\", \"violence\", \"violence\", \"violence\", \"voice\", \"voice\", \"voice\", \"voice\", \"voice\", \"voice\", \"voice\", \"voice\", \"voice\", \"voice\", \"voice\", \"voice\", \"voice\", \"voice actors\", \"vote\", \"vote\", \"vote\", \"vote\", \"votes\", \"wake\", \"wake\", \"wallace\", \"walls\", \"walls\", \"walls\", \"walls\", \"war\", \"war\", \"war\", \"war\", \"ward\", \"ward bond\", \"washington\", \"washington\", \"washington\", \"waste\", \"waste\", \"waste\", \"waste\", \"waste\", \"wax\", \"way\", \"way\", \"way\", \"way\", \"way\", \"way\", \"way\", \"way\", \"way\", \"way\", \"way\", \"way\", \"way\", \"way\", \"way\", \"way\", \"way\", \"wayne\", \"wayne\", \"wayne\", \"weak attempt\", \"week\", \"week\", \"week\", \"week\", \"week\", \"week\", \"week\", \"week\", \"welles\", \"wellington\", \"western\", \"western\", \"western\", \"western\", \"westerns\", \"westerns\", \"whites\", \"whites\", \"wife\", \"wife\", \"wife\", \"wife\", \"wife\", \"wife\", \"wife\", \"wife\", \"wife\", \"wife\", \"wife\", \"wig\", \"winchester\", \"windshield\", \"wizard\", \"woman\", \"woman\", \"woman\", \"woman\", \"woman\", \"woman\", \"woman\", \"woman\", \"woman\", \"woman\", \"woman\", \"woman\", \"woman\", \"woman\", \"women\", \"women\", \"women\", \"women\", \"women\", \"women\", \"women\", \"women\", \"women\", \"women\", \"women\", \"women\", \"women\", \"women\", \"women\", \"wonder years\", \"woods\", \"woods\", \"woods\", \"woods\", \"woody allen\", \"words\", \"words\", \"words\", \"words\", \"words\", \"words\", \"words\", \"words\", \"words\", \"words\", \"words\", \"work\", \"work\", \"work\", \"work\", \"work\", \"work\", \"work\", \"work\", \"work\", \"work\", \"work\", \"work\", \"world\", \"world\", \"world\", \"world\", \"world\", \"world\", \"world\", \"world\", \"world\", \"world\", \"world\", \"world\", \"world\", \"world war\", \"worst\", \"worst\", \"worst\", \"worst\", \"worst kind\", \"wound\", \"writers\", \"writers\", \"writers\", \"writers\", \"writers\", \"writers\", \"writers\", \"writers\", \"writers\", \"writing\", \"writing\", \"writing\", \"writing\", \"writing\", \"writing\", \"writing\", \"ww2\", \"ww2\", \"wwii\", \"wwii\", \"wwii\", \"wwii\", \"xmas\", \"year\", \"year\", \"year\", \"year\", \"year\", \"year\", \"year\", \"year\", \"year\", \"year\", \"year\", \"year\", \"year\", \"year\", \"year ago\", \"years\", \"years\", \"years\", \"years\", \"years\", \"years\", \"years\", \"years\", \"years\", \"years\", \"years\", \"years\", \"years\", \"years\", \"years\", \"years\", \"years\", \"young children\", \"young lad\", \"young woman\", \"young woman\", \"young woman\", \"young woman\", \"younger brother\", \"zombie\", \"zombies\"]}, \"R\": 30, \"lambda.step\": 0.01, \"plot.opts\": {\"xlab\": \"PC1\", \"ylab\": \"PC2\"}, \"topic.order\": [18, 12, 6, 1, 9, 15, 5, 16, 8, 19, 4, 20, 17, 14, 3, 13, 11, 10, 7, 2]};\n",
       "\n",
       "function LDAvis_load_lib(url, callback){\n",
       "  var s = document.createElement('script');\n",
       "  s.src = url;\n",
       "  s.async = true;\n",
       "  s.onreadystatechange = s.onload = callback;\n",
       "  s.onerror = function(){console.warn(\"failed to load library \" + url);};\n",
       "  document.getElementsByTagName(\"head\")[0].appendChild(s);\n",
       "}\n",
       "\n",
       "if(typeof(LDAvis) !== \"undefined\"){\n",
       "   // already loaded: just create the visualization\n",
       "   !function(LDAvis){\n",
       "       new LDAvis(\"#\" + \"ldavis_el1384820487180317529803770051\", ldavis_el1384820487180317529803770051_data);\n",
       "   }(LDAvis);\n",
       "}else if(typeof define === \"function\" && define.amd){\n",
       "   // require.js is available: use it to load d3/LDAvis\n",
       "   require.config({paths: {d3: \"https://cdnjs.cloudflare.com/ajax/libs/d3/3.5.5/d3.min\"}});\n",
       "   require([\"d3\"], function(d3){\n",
       "      window.d3 = d3;\n",
       "      LDAvis_load_lib(\"https://cdn.rawgit.com/bmabey/pyLDAvis/files/ldavis.v1.0.0.js\", function(){\n",
       "        new LDAvis(\"#\" + \"ldavis_el1384820487180317529803770051\", ldavis_el1384820487180317529803770051_data);\n",
       "      });\n",
       "    });\n",
       "}else{\n",
       "    // require.js not available: dynamically load d3 & LDAvis\n",
       "    LDAvis_load_lib(\"https://cdnjs.cloudflare.com/ajax/libs/d3/3.5.5/d3.min.js\", function(){\n",
       "         LDAvis_load_lib(\"https://cdn.rawgit.com/bmabey/pyLDAvis/files/ldavis.v1.0.0.js\", function(){\n",
       "                 new LDAvis(\"#\" + \"ldavis_el1384820487180317529803770051\", ldavis_el1384820487180317529803770051_data);\n",
       "            })\n",
       "         });\n",
       "}\n",
       "</script>"
      ],
      "text/plain": [
       "PreparedData(topic_coordinates=              x         y  topics  cluster       Freq\n",
       "topic                                                \n",
       "17    -0.164046  0.010512       1        1  15.117847\n",
       "11    -0.116836  0.034786       2        1   9.190754\n",
       "5     -0.120310  0.113962       3        1   7.452006\n",
       "0     -0.017223  0.064687       4        1   6.117090\n",
       "8     -0.168491 -0.017711       5        1   6.109539\n",
       "14    -0.091270  0.077760       6        1   5.723546\n",
       "4     -0.170911 -0.125261       7        1   5.413027\n",
       "15    -0.104039 -0.044562       8        1   4.994263\n",
       "7     -0.051539 -0.030051       9        1   4.809009\n",
       "18    -0.038689  0.141834      10        1   4.752122\n",
       "3      0.043825 -0.026918      11        1   4.262010\n",
       "19    -0.039282 -0.099801      12        1   3.976119\n",
       "16     0.058989  0.202015      13        1   3.757159\n",
       "13     0.009930 -0.186730      14        1   3.452337\n",
       "2      0.104013 -0.011594      15        1   2.996616\n",
       "12     0.131576  0.064494      16        1   2.676143\n",
       "10     0.074955 -0.194736      17        1   2.622548\n",
       "9      0.179847  0.169774      18        1   2.376039\n",
       "6      0.252467 -0.041508      19        1   2.110430\n",
       "1      0.227034 -0.100955      20        1   2.091397, topic_info=        Term         Freq        Total Category  logprob  loglift\n",
       "94    acting  4289.000000  4289.000000  Default  30.0000  30.0000\n",
       "133     kids  1471.000000  1471.000000  Default  29.0000  29.0000\n",
       "39    actors  3413.000000  3413.000000  Default  28.0000  28.0000\n",
       "10   episode  1048.000000  1048.000000  Default  27.0000  27.0000\n",
       "138    story  8264.000000  8264.000000  Default  26.0000  26.0000\n",
       "..       ...          ...          ...      ...      ...      ...\n",
       "279     lots    55.521863  1070.069775  Topic20  -5.9767   0.9086\n",
       "659     days    54.567341  1137.794028  Topic20  -5.9941   0.8299\n",
       "11      fact    55.640682  4458.330153  Topic20  -5.9746  -0.5163\n",
       "98      case    50.819973  1829.413299  Topic20  -6.0652   0.2839\n",
       "54    scenes    50.803016  2695.206904  Topic20  -6.0655  -0.1039\n",
       "\n",
       "[1469 rows x 6 columns], token_table=       Topic      Freq             Term\n",
       "term                                   \n",
       "12898     17  0.974726         \"horror\"\n",
       "5342      16  0.975137                1\n",
       "8982       1  0.093116            1970s\n",
       "8982       9  0.356943            1970s\n",
       "8982      13  0.067250            1970s\n",
       "...      ...       ...              ...\n",
       "4301       5  0.207683      young woman\n",
       "4301      14  0.059338      young woman\n",
       "10023      3  0.984548  younger brother\n",
       "93         1  0.991249           zombie\n",
       "3932       1  0.997941          zombies\n",
       "\n",
       "[3565 rows x 3 columns], R=30, lambda_step=0.01, plot_opts={'xlab': 'PC1', 'ylab': 'PC2'}, topic_order=[18, 12, 6, 1, 9, 15, 5, 16, 8, 19, 4, 20, 17, 14, 3, 13, 11, 10, 7, 2])"
      ]
     },
     "execution_count": 134,
     "metadata": {},
     "output_type": "execute_result"
    }
   ],
   "source": [
    "pyLDAvis.gensim.prepare(lda, corpus, id2word)"
   ]
  },
  {
   "cell_type": "code",
   "execution_count": 147,
   "metadata": {},
   "outputs": [
    {
     "name": "stderr",
     "output_type": "stream",
     "text": [
      "C:\\Users\\johnt\\anaconda3\\envs\\U4-S1-NLP\\lib\\site-packages\\ipykernel\\ipkernel.py:287: DeprecationWarning: `should_run_async` will not call `transform_cell` automatically in the future. Please pass the result to `transformed_cell` argument and any exception that happen during thetransform in `preprocessing_exc_tuple` in IPython 7.17 and above.\n",
      "  and should_run_async(code)\n"
     ]
    }
   ],
   "source": [
    "distro = [lda[d] for d in corpus]"
   ]
  },
  {
   "cell_type": "code",
   "execution_count": 148,
   "metadata": {},
   "outputs": [
    {
     "name": "stderr",
     "output_type": "stream",
     "text": [
      "C:\\Users\\johnt\\anaconda3\\envs\\U4-S1-NLP\\lib\\site-packages\\ipykernel\\ipkernel.py:287: DeprecationWarning: `should_run_async` will not call `transform_cell` automatically in the future. Please pass the result to `transformed_cell` argument and any exception that happen during thetransform in `preprocessing_exc_tuple` in IPython 7.17 and above.\n",
      "  and should_run_async(code)\n"
     ]
    },
    {
     "data": {
      "text/plain": [
       "[(0, 0.05985297),\n",
       " (5, 0.19525698),\n",
       " (6, 0.062890366),\n",
       " (7, 0.09723046),\n",
       " (12, 0.10100644),\n",
       " (13, 0.1630213),\n",
       " (17, 0.15018634),\n",
       " (18, 0.072049685),\n",
       " (19, 0.08470704)]"
      ]
     },
     "execution_count": 148,
     "metadata": {},
     "output_type": "execute_result"
    }
   ],
   "source": [
    "distro[0]"
   ]
  },
  {
   "cell_type": "code",
   "execution_count": 159,
   "metadata": {},
   "outputs": [
    {
     "name": "stderr",
     "output_type": "stream",
     "text": [
      "C:\\Users\\johnt\\anaconda3\\envs\\U4-S1-NLP\\lib\\site-packages\\ipykernel\\ipkernel.py:287: DeprecationWarning: `should_run_async` will not call `transform_cell` automatically in the future. Please pass the result to `transformed_cell` argument and any exception that happen during thetransform in `preprocessing_exc_tuple` in IPython 7.17 and above.\n",
      "  and should_run_async(code)\n"
     ]
    }
   ],
   "source": [
    "distro = [lda[d] for d in corpus]"
   ]
  },
  {
   "cell_type": "code",
   "execution_count": 160,
   "metadata": {},
   "outputs": [
    {
     "name": "stderr",
     "output_type": "stream",
     "text": [
      "C:\\Users\\johnt\\anaconda3\\envs\\U4-S1-NLP\\lib\\site-packages\\ipykernel\\ipkernel.py:287: DeprecationWarning: `should_run_async` will not call `transform_cell` automatically in the future. Please pass the result to `transformed_cell` argument and any exception that happen during thetransform in `preprocessing_exc_tuple` in IPython 7.17 and above.\n",
      "  and should_run_async(code)\n"
     ]
    }
   ],
   "source": [
    "def update(doc):\n",
    "        d_dist = {k:0 for k in range(0,15)}\n",
    "        for t in doc:\n",
    "            d_dist[t[0]] = t[1]\n",
    "        return d_dist\n",
    "\n",
    "new_distro = [update(d) for d in distro]"
   ]
  },
  {
   "cell_type": "code",
   "execution_count": 161,
   "metadata": {},
   "outputs": [
    {
     "name": "stderr",
     "output_type": "stream",
     "text": [
      "C:\\Users\\johnt\\anaconda3\\envs\\U4-S1-NLP\\lib\\site-packages\\ipykernel\\ipkernel.py:287: DeprecationWarning: `should_run_async` will not call `transform_cell` automatically in the future. Please pass the result to `transformed_cell` argument and any exception that happen during thetransform in `preprocessing_exc_tuple` in IPython 7.17 and above.\n",
      "  and should_run_async(code)\n"
     ]
    },
    {
     "data": {
      "text/plain": [
       "40436"
      ]
     },
     "execution_count": 161,
     "metadata": {},
     "output_type": "execute_result"
    }
   ],
   "source": [
    "len(new_distro)"
   ]
  },
  {
   "cell_type": "code",
   "execution_count": 162,
   "metadata": {},
   "outputs": [
    {
     "name": "stderr",
     "output_type": "stream",
     "text": [
      "C:\\Users\\johnt\\anaconda3\\envs\\U4-S1-NLP\\lib\\site-packages\\ipykernel\\ipkernel.py:287: DeprecationWarning: `should_run_async` will not call `transform_cell` automatically in the future. Please pass the result to `transformed_cell` argument and any exception that happen during thetransform in `preprocessing_exc_tuple` in IPython 7.17 and above.\n",
      "  and should_run_async(code)\n"
     ]
    },
    {
     "data": {
      "text/html": [
       "<div>\n",
       "<style scoped>\n",
       "    .dataframe tbody tr th:only-of-type {\n",
       "        vertical-align: middle;\n",
       "    }\n",
       "\n",
       "    .dataframe tbody tr th {\n",
       "        vertical-align: top;\n",
       "    }\n",
       "\n",
       "    .dataframe thead th {\n",
       "        text-align: right;\n",
       "    }\n",
       "</style>\n",
       "<table border=\"1\" class=\"dataframe\">\n",
       "  <thead>\n",
       "    <tr style=\"text-align: right;\">\n",
       "      <th></th>\n",
       "      <th>review</th>\n",
       "      <th>sentiment</th>\n",
       "      <th>keywords</th>\n",
       "      <th>clean_keywords</th>\n",
       "    </tr>\n",
       "  </thead>\n",
       "  <tbody>\n",
       "    <tr>\n",
       "      <th>0</th>\n",
       "      <td>One of the other reviewers has mentioned that ...</td>\n",
       "      <td>positive</td>\n",
       "      <td>[other shows, graphic violence, prison experie...</td>\n",
       "      <td>[shows, graphic violence, prison experience, p...</td>\n",
       "    </tr>\n",
       "    <tr>\n",
       "      <th>1</th>\n",
       "      <td>A wonderful little production. The filming tec...</td>\n",
       "      <td>positive</td>\n",
       "      <td>[halliwell, michael sheen, realism, comedy, wi...</td>\n",
       "      <td>[halliwell, michael sheen, realism, comedy, wi...</td>\n",
       "    </tr>\n",
       "    <tr>\n",
       "      <th>2</th>\n",
       "      <td>I thought this was a wonderful way to spend ti...</td>\n",
       "      <td>positive</td>\n",
       "      <td>[spirited young woman, devil wears prada, summ...</td>\n",
       "      <td>[spirited young woman, devil wears prada, summ...</td>\n",
       "    </tr>\n",
       "    <tr>\n",
       "      <th>3</th>\n",
       "      <td>Basically there's a family where a little boy ...</td>\n",
       "      <td>negative</td>\n",
       "      <td>[playing parents, jake, parents, descent dialo...</td>\n",
       "      <td>[playing parents, jake, parents, descent dialo...</td>\n",
       "    </tr>\n",
       "    <tr>\n",
       "      <th>4</th>\n",
       "      <td>Petter Mattei's \"Love in the Time of Money\" is...</td>\n",
       "      <td>positive</td>\n",
       "      <td>[mr. mattei, good luck, mattei, human relation...</td>\n",
       "      <td>[mr. mattei, good luck, mattei, human relation...</td>\n",
       "    </tr>\n",
       "  </tbody>\n",
       "</table>\n",
       "</div>"
      ],
      "text/plain": [
       "                                              review sentiment  \\\n",
       "0  One of the other reviewers has mentioned that ...  positive   \n",
       "1  A wonderful little production. The filming tec...  positive   \n",
       "2  I thought this was a wonderful way to spend ti...  positive   \n",
       "3  Basically there's a family where a little boy ...  negative   \n",
       "4  Petter Mattei's \"Love in the Time of Money\" is...  positive   \n",
       "\n",
       "                                            keywords  \\\n",
       "0  [other shows, graphic violence, prison experie...   \n",
       "1  [halliwell, michael sheen, realism, comedy, wi...   \n",
       "2  [spirited young woman, devil wears prada, summ...   \n",
       "3  [playing parents, jake, parents, descent dialo...   \n",
       "4  [mr. mattei, good luck, mattei, human relation...   \n",
       "\n",
       "                                      clean_keywords  \n",
       "0  [shows, graphic violence, prison experience, p...  \n",
       "1  [halliwell, michael sheen, realism, comedy, wi...  \n",
       "2  [spirited young woman, devil wears prada, summ...  \n",
       "3  [playing parents, jake, parents, descent dialo...  \n",
       "4  [mr. mattei, good luck, mattei, human relation...  "
      ]
     },
     "execution_count": 162,
     "metadata": {},
     "output_type": "execute_result"
    }
   ],
   "source": [
    "df.head()"
   ]
  },
  {
   "cell_type": "code",
   "execution_count": 163,
   "metadata": {},
   "outputs": [
    {
     "name": "stderr",
     "output_type": "stream",
     "text": [
      "C:\\Users\\johnt\\anaconda3\\envs\\U4-S1-NLP\\lib\\site-packages\\ipykernel\\ipkernel.py:287: DeprecationWarning: `should_run_async` will not call `transform_cell` automatically in the future. Please pass the result to `transformed_cell` argument and any exception that happen during thetransform in `preprocessing_exc_tuple` in IPython 7.17 and above.\n",
      "  and should_run_async(code)\n"
     ]
    },
    {
     "ename": "NameError",
     "evalue": "name 'titles' is not defined",
     "output_type": "error",
     "traceback": [
      "\u001b[1;31m---------------------------------------------------------------------------\u001b[0m",
      "\u001b[1;31mNameError\u001b[0m                                 Traceback (most recent call last)",
      "\u001b[1;32m<ipython-input-163-b4a61e63e27e>\u001b[0m in \u001b[0;36m<module>\u001b[1;34m\u001b[0m\n\u001b[1;32m----> 1\u001b[1;33m \u001b[0mdf\u001b[0m \u001b[1;33m=\u001b[0m \u001b[0mpd\u001b[0m\u001b[1;33m.\u001b[0m\u001b[0mDataFrame\u001b[0m\u001b[1;33m.\u001b[0m\u001b[0mfrom_records\u001b[0m\u001b[1;33m(\u001b[0m\u001b[0mnew_distro\u001b[0m\u001b[1;33m,\u001b[0m\u001b[0mindex\u001b[0m\u001b[1;33m=\u001b[0m\u001b[0mtitles\u001b[0m\u001b[1;33m)\u001b[0m\u001b[1;33m\u001b[0m\u001b[0m\n\u001b[0m\u001b[0;32m      2\u001b[0m \u001b[0mdf\u001b[0m\u001b[1;33m.\u001b[0m\u001b[0mcolumns\u001b[0m \u001b[1;33m=\u001b[0m \u001b[0mtopics\u001b[0m\u001b[1;33m\u001b[0m\u001b[0m\n",
      "\u001b[1;31mNameError\u001b[0m: name 'titles' is not defined"
     ]
    }
   ],
   "source": [
    "df = pd.DataFrame.from_records(new_distro,index=titles)\n",
    "df.columns = topics"
   ]
  },
  {
   "cell_type": "code",
   "execution_count": null,
   "metadata": {},
   "outputs": [],
   "source": [
    "topics.head()"
   ]
  },
  {
   "cell_type": "code",
   "execution_count": null,
   "metadata": {},
   "outputs": [],
   "source": [
    "df['primary_topic'] = topics.idmax{axis=1}"
   ]
  },
  {
   "cell_type": "code",
   "execution_count": null,
   "metadata": {},
   "outputs": [],
   "source": [
    "df['primary_topic'].value_counts()"
   ]
  },
  {
   "cell_type": "code",
   "execution_count": null,
   "metadata": {},
   "outputs": [],
   "source": [
    "agg = pd.pivot_table(df, values=['sentiment'],\n",
    "                    index=['primary_topic'],\n",
    "                    \n",
    "                    )"
   ]
  },
  {
   "cell_type": "code",
   "execution_count": null,
   "metadata": {},
   "outputs": [],
   "source": [
    "agg = agg.reset_index()"
   ]
  },
  {
   "cell_type": "code",
   "execution_count": null,
   "metadata": {},
   "outputs": [],
   "source": [
    "import seaborm as sns\n",
    "import matplotlib.pyplot as plt\n",
    "sns.set_color_codes('pastel')\n",
    "sns.barplot(x='negative', y='primary_topic', data=agg, label='Negative', color='b')\n",
    "\n",
    "sns.set_color_codes('muted')\n",
    "sns.barplot(x='postive', y='primary_topic', data=agg, label='Postive', color='b')\n",
    "\n",
    "ax.legend(ncol=2, loc='lower right', frameon=True)\n",
    "ax.set(xlim=(0,5000), ylabel='')"
   ]
  },
  {
   "cell_type": "markdown",
   "metadata": {},
   "source": [
    "### Text Preprocessing\n",
    "**Activity**: update the function `tokenize` with any technique you have learned so far this week. "
   ]
  },
  {
   "cell_type": "code",
   "execution_count": 17,
   "metadata": {},
   "outputs": [],
   "source": [
    "# 1) Plain Python - ''.split command\n",
    "# 2) Spacy - just the lemmas from the document\n",
    "# 3) Gensim - simple_preprocess\n",
    "\n",
    "STOPWORDS = set(STOPWORDS).union(set(['said', 'mr', 'mrs']))\n",
    "\n",
    "def tokenize(text):\n",
    "    return [token for token in simple_preprocess(text) if token not in STOPWORDS]"
   ]
  },
  {
   "cell_type": "code",
   "execution_count": 18,
   "metadata": {},
   "outputs": [],
   "source": [
    "import os\n",
    "\n",
    "def gather_data(path_to_data): \n",
    "    data = []\n",
    "    for f in os.listdir(path):\n",
    "        if os.path.isdir(f) == False:\n",
    "            if f[-3:] == 'txt':\n",
    "                with open(os.path.join(path,f)) as t:\n",
    "                    text = t.read().strip('\\n')\n",
    "                    data.append(tokenize(str(text)))       \n",
    "    return data"
   ]
  },
  {
   "cell_type": "code",
   "execution_count": 19,
   "metadata": {},
   "outputs": [
    {
     "ename": "NotADirectoryError",
     "evalue": "[WinError 267] The directory name is invalid: './data/imbd_keywords.csv'",
     "output_type": "error",
     "traceback": [
      "\u001b[1;31m---------------------------------------------------------------------------\u001b[0m",
      "\u001b[1;31mNotADirectoryError\u001b[0m                        Traceback (most recent call last)",
      "\u001b[1;32m<ipython-input-19-d953dd9e239c>\u001b[0m in \u001b[0;36m<module>\u001b[1;34m\u001b[0m\n\u001b[1;32m----> 1\u001b[1;33m \u001b[0mtokens\u001b[0m \u001b[1;33m=\u001b[0m \u001b[0mgather_data\u001b[0m\u001b[1;33m(\u001b[0m\u001b[0mpath\u001b[0m\u001b[1;33m)\u001b[0m\u001b[1;33m\u001b[0m\u001b[0m\n\u001b[0m",
      "\u001b[1;32m<ipython-input-18-3d6adf9132a9>\u001b[0m in \u001b[0;36mgather_data\u001b[1;34m(path_to_data)\u001b[0m\n\u001b[0;32m      3\u001b[0m \u001b[1;32mdef\u001b[0m \u001b[0mgather_data\u001b[0m\u001b[1;33m(\u001b[0m\u001b[0mpath_to_data\u001b[0m\u001b[1;33m)\u001b[0m\u001b[1;33m:\u001b[0m\u001b[1;33m\u001b[0m\u001b[0m\n\u001b[0;32m      4\u001b[0m     \u001b[0mdata\u001b[0m \u001b[1;33m=\u001b[0m \u001b[1;33m[\u001b[0m\u001b[1;33m]\u001b[0m\u001b[1;33m\u001b[0m\u001b[0m\n\u001b[1;32m----> 5\u001b[1;33m     \u001b[1;32mfor\u001b[0m \u001b[0mf\u001b[0m \u001b[1;32min\u001b[0m \u001b[0mos\u001b[0m\u001b[1;33m.\u001b[0m\u001b[0mlistdir\u001b[0m\u001b[1;33m(\u001b[0m\u001b[0mpath\u001b[0m\u001b[1;33m)\u001b[0m\u001b[1;33m:\u001b[0m\u001b[1;33m\u001b[0m\u001b[0m\n\u001b[0m\u001b[0;32m      6\u001b[0m         \u001b[1;32mif\u001b[0m \u001b[0mos\u001b[0m\u001b[1;33m.\u001b[0m\u001b[0mpath\u001b[0m\u001b[1;33m.\u001b[0m\u001b[0misdir\u001b[0m\u001b[1;33m(\u001b[0m\u001b[0mf\u001b[0m\u001b[1;33m)\u001b[0m \u001b[1;33m==\u001b[0m \u001b[1;32mFalse\u001b[0m\u001b[1;33m:\u001b[0m\u001b[1;33m\u001b[0m\u001b[0m\n\u001b[0;32m      7\u001b[0m             \u001b[1;32mif\u001b[0m \u001b[0mf\u001b[0m\u001b[1;33m[\u001b[0m\u001b[1;33m-\u001b[0m\u001b[1;36m3\u001b[0m\u001b[1;33m:\u001b[0m\u001b[1;33m]\u001b[0m \u001b[1;33m==\u001b[0m \u001b[1;34m'txt'\u001b[0m\u001b[1;33m:\u001b[0m\u001b[1;33m\u001b[0m\u001b[0m\n",
      "\u001b[1;31mNotADirectoryError\u001b[0m: [WinError 267] The directory name is invalid: './data/imbd_keywords.csv'"
     ]
    }
   ],
   "source": [
    "tokens = gather_data(path)"
   ]
  },
  {
   "cell_type": "code",
   "execution_count": 15,
   "metadata": {},
   "outputs": [
    {
     "data": {
      "text/plain": [
       "['giving',\n",
       " 'fair',\n",
       " 'companion',\n",
       " 'account',\n",
       " 'yesterday',\n",
       " 'party',\n",
       " 'friend',\n",
       " 'cole',\n",
       " 'come',\n",
       " 'stilton']"
      ]
     },
     "execution_count": 15,
     "metadata": {},
     "output_type": "execute_result"
    }
   ],
   "source": [
    "tokens[0][0:10]"
   ]
  },
  {
   "cell_type": "code",
   "execution_count": 16,
   "metadata": {},
   "outputs": [
    {
     "data": {
      "text/plain": [
       "'this is a sample string with a  newline character'"
      ]
     },
     "execution_count": 16,
     "metadata": {},
     "output_type": "execute_result"
    }
   ],
   "source": [
    "\"this is a sample string with a \\n newline character\".replace('\\n', '')"
   ]
  },
  {
   "cell_type": "markdown",
   "metadata": {
    "toc-hr-collapsed": true
   },
   "source": [
    "## Follow Along"
   ]
  },
  {
   "cell_type": "code",
   "execution_count": 17,
   "metadata": {},
   "outputs": [],
   "source": [
    "titles = [t[:-4] for t in os.listdir(path) if os.path.isdir(t) == False]"
   ]
  },
  {
   "cell_type": "code",
   "execution_count": 18,
   "metadata": {},
   "outputs": [
    {
     "data": {
      "text/plain": [
       "813"
      ]
     },
     "execution_count": 18,
     "metadata": {},
     "output_type": "execute_result"
    }
   ],
   "source": [
    "len(titles)"
   ]
  },
  {
   "cell_type": "code",
   "execution_count": 20,
   "metadata": {},
   "outputs": [
    {
     "data": {
      "text/plain": [
       "813"
      ]
     },
     "execution_count": 20,
     "metadata": {},
     "output_type": "execute_result"
    }
   ],
   "source": [
    "len(tokens)"
   ]
  },
  {
   "cell_type": "markdown",
   "metadata": {},
   "source": [
    "### Author DataFrame\n"
   ]
  },
  {
   "cell_type": "code",
   "execution_count": 21,
   "metadata": {},
   "outputs": [],
   "source": [
    "df = pd.DataFrame(index=titles, data={'tokens':tokens})"
   ]
  },
  {
   "cell_type": "code",
   "execution_count": 22,
   "metadata": {},
   "outputs": [
    {
     "data": {
      "text/html": [
       "<div>\n",
       "<style scoped>\n",
       "    .dataframe tbody tr th:only-of-type {\n",
       "        vertical-align: middle;\n",
       "    }\n",
       "\n",
       "    .dataframe tbody tr th {\n",
       "        vertical-align: top;\n",
       "    }\n",
       "\n",
       "    .dataframe thead th {\n",
       "        text-align: right;\n",
       "    }\n",
       "</style>\n",
       "<table border=\"1\" class=\"dataframe\">\n",
       "  <thead>\n",
       "    <tr style=\"text-align: right;\">\n",
       "      <th></th>\n",
       "      <th>tokens</th>\n",
       "    </tr>\n",
       "  </thead>\n",
       "  <tbody>\n",
       "    <tr>\n",
       "      <th>Austen_Emma0026</th>\n",
       "      <td>[giving, fair, companion, account, yesterday, ...</td>\n",
       "    </tr>\n",
       "    <tr>\n",
       "      <th>Austen_Emma0032</th>\n",
       "      <td>[feels, like, snow, place, party, try, day, di...</td>\n",
       "    </tr>\n",
       "    <tr>\n",
       "      <th>CBronte_Villette0086</th>\n",
       "      <td>[pierced, opaque, blackness, stood, bougie, qu...</td>\n",
       "    </tr>\n",
       "    <tr>\n",
       "      <th>CBronte_Jane0099</th>\n",
       "      <td>[joke, queer, looks, tell, thing, specially, s...</td>\n",
       "    </tr>\n",
       "    <tr>\n",
       "      <th>CBronte_Villette0092</th>\n",
       "      <td>[second, landing, floor, comprising, abode, kn...</td>\n",
       "    </tr>\n",
       "  </tbody>\n",
       "</table>\n",
       "</div>"
      ],
      "text/plain": [
       "                                                                 tokens\n",
       "Austen_Emma0026       [giving, fair, companion, account, yesterday, ...\n",
       "Austen_Emma0032       [feels, like, snow, place, party, try, day, di...\n",
       "CBronte_Villette0086  [pierced, opaque, blackness, stood, bougie, qu...\n",
       "CBronte_Jane0099      [joke, queer, looks, tell, thing, specially, s...\n",
       "CBronte_Villette0092  [second, landing, floor, comprising, abode, kn..."
      ]
     },
     "execution_count": 22,
     "metadata": {},
     "output_type": "execute_result"
    }
   ],
   "source": [
    "df.head()"
   ]
  },
  {
   "cell_type": "code",
   "execution_count": 23,
   "metadata": {},
   "outputs": [],
   "source": [
    "df['author'] = df.reset_index()['index'].apply(lambda x: x.split('_')[0]).tolist()\n",
    "df['book'] = df.reset_index()['index'].apply(lambda x: x.split('_')[1][:-4]).tolist()\n",
    "df['section'] = df.reset_index()['index'].apply(lambda x: x[-4:]).tolist()\n",
    "df['section'] = df['section'].astype('int')"
   ]
  },
  {
   "cell_type": "code",
   "execution_count": 24,
   "metadata": {},
   "outputs": [],
   "source": [
    "df['author'] = df['author'].map({'Austen':1, 'CBronte':0})"
   ]
  },
  {
   "cell_type": "code",
   "execution_count": 25,
   "metadata": {},
   "outputs": [
    {
     "data": {
      "text/plain": [
       "0    441\n",
       "1    372\n",
       "Name: author, dtype: int64"
      ]
     },
     "execution_count": 25,
     "metadata": {},
     "output_type": "execute_result"
    }
   ],
   "source": [
    "df.author.value_counts()"
   ]
  },
  {
   "cell_type": "code",
   "execution_count": 26,
   "metadata": {},
   "outputs": [
    {
     "data": {
      "text/html": [
       "<div>\n",
       "<style scoped>\n",
       "    .dataframe tbody tr th:only-of-type {\n",
       "        vertical-align: middle;\n",
       "    }\n",
       "\n",
       "    .dataframe tbody tr th {\n",
       "        vertical-align: top;\n",
       "    }\n",
       "\n",
       "    .dataframe thead th {\n",
       "        text-align: right;\n",
       "    }\n",
       "</style>\n",
       "<table border=\"1\" class=\"dataframe\">\n",
       "  <thead>\n",
       "    <tr style=\"text-align: right;\">\n",
       "      <th></th>\n",
       "      <th>tokens</th>\n",
       "      <th>author</th>\n",
       "      <th>book</th>\n",
       "      <th>section</th>\n",
       "    </tr>\n",
       "  </thead>\n",
       "  <tbody>\n",
       "    <tr>\n",
       "      <th>Austen_Emma0026</th>\n",
       "      <td>[giving, fair, companion, account, yesterday, ...</td>\n",
       "      <td>1</td>\n",
       "      <td>Emma</td>\n",
       "      <td>26</td>\n",
       "    </tr>\n",
       "    <tr>\n",
       "      <th>Austen_Emma0032</th>\n",
       "      <td>[feels, like, snow, place, party, try, day, di...</td>\n",
       "      <td>1</td>\n",
       "      <td>Emma</td>\n",
       "      <td>32</td>\n",
       "    </tr>\n",
       "    <tr>\n",
       "      <th>CBronte_Villette0086</th>\n",
       "      <td>[pierced, opaque, blackness, stood, bougie, qu...</td>\n",
       "      <td>0</td>\n",
       "      <td>Villette</td>\n",
       "      <td>86</td>\n",
       "    </tr>\n",
       "    <tr>\n",
       "      <th>CBronte_Jane0099</th>\n",
       "      <td>[joke, queer, looks, tell, thing, specially, s...</td>\n",
       "      <td>0</td>\n",
       "      <td>Jane</td>\n",
       "      <td>99</td>\n",
       "    </tr>\n",
       "    <tr>\n",
       "      <th>CBronte_Villette0092</th>\n",
       "      <td>[second, landing, floor, comprising, abode, kn...</td>\n",
       "      <td>0</td>\n",
       "      <td>Villette</td>\n",
       "      <td>92</td>\n",
       "    </tr>\n",
       "  </tbody>\n",
       "</table>\n",
       "</div>"
      ],
      "text/plain": [
       "                                                                 tokens  \\\n",
       "Austen_Emma0026       [giving, fair, companion, account, yesterday, ...   \n",
       "Austen_Emma0032       [feels, like, snow, place, party, try, day, di...   \n",
       "CBronte_Villette0086  [pierced, opaque, blackness, stood, bougie, qu...   \n",
       "CBronte_Jane0099      [joke, queer, looks, tell, thing, specially, s...   \n",
       "CBronte_Villette0092  [second, landing, floor, comprising, abode, kn...   \n",
       "\n",
       "                      author      book  section  \n",
       "Austen_Emma0026            1      Emma       26  \n",
       "Austen_Emma0032            1      Emma       32  \n",
       "CBronte_Villette0086       0  Villette       86  \n",
       "CBronte_Jane0099           0      Jane       99  \n",
       "CBronte_Villette0092       0  Villette       92  "
      ]
     },
     "execution_count": 26,
     "metadata": {},
     "output_type": "execute_result"
    }
   ],
   "source": [
    "df.head()"
   ]
  },
  {
   "cell_type": "markdown",
   "metadata": {},
   "source": [
    "### Streaming Documents\n",
    "Here we use a new pythonic thingy: the `yield` statement in our function. This allows us to iterate over a bunch of documents without actually reading them into memory. You can see how we use this function later on. "
   ]
  },
  {
   "cell_type": "code",
   "execution_count": 27,
   "metadata": {},
   "outputs": [],
   "source": [
    "def doc_stream(path):\n",
    "    for f in os.listdir(path):\n",
    "        if os.path.isdir(f) == False:\n",
    "            if f[-3:] == 'txt':\n",
    "                with open(os.path.join(path,f)) as t:\n",
    "                    text = t.read().strip('\\n')\n",
    "                    tokens = tokenize(text)\n",
    "                yield tokens"
   ]
  },
  {
   "cell_type": "code",
   "execution_count": 28,
   "metadata": {},
   "outputs": [],
   "source": [
    "streaming_data = doc_stream(path)"
   ]
  },
  {
   "cell_type": "code",
   "execution_count": 29,
   "metadata": {},
   "outputs": [
    {
     "data": {
      "text/plain": [
       "generator"
      ]
     },
     "execution_count": 29,
     "metadata": {},
     "output_type": "execute_result"
    }
   ],
   "source": [
    "type(streaming_data)"
   ]
  },
  {
   "cell_type": "code",
   "execution_count": null,
   "metadata": {},
   "outputs": [],
   "source": [
    "# gather_data => returns a list\n",
    "# doc_stream => returns a generator"
   ]
  },
  {
   "cell_type": "code",
   "execution_count": 30,
   "metadata": {},
   "outputs": [
    {
     "data": {
      "text/plain": [
       "['giving',\n",
       " 'fair',\n",
       " 'companion',\n",
       " 'account',\n",
       " 'yesterday',\n",
       " 'party',\n",
       " 'friend',\n",
       " 'cole',\n",
       " 'come',\n",
       " 'stilton',\n",
       " 'cheese',\n",
       " 'north',\n",
       " 'wiltshire',\n",
       " 'butter',\n",
       " 'cellery',\n",
       " 'beet',\n",
       " 'root',\n",
       " 'dessert',\n",
       " 'soon',\n",
       " 'led',\n",
       " 'better',\n",
       " 'course',\n",
       " 'consoling',\n",
       " 'reflection',\n",
       " 'thing',\n",
       " 'interests',\n",
       " 'love',\n",
       " 'thing',\n",
       " 'serve',\n",
       " 'introduction',\n",
       " 'near',\n",
       " 'heart',\n",
       " 'kept',\n",
       " 'longer',\n",
       " 'away',\n",
       " 'walked',\n",
       " 'quietly',\n",
       " 'till',\n",
       " 'view',\n",
       " 'vicarage',\n",
       " 'pales',\n",
       " 'sudden',\n",
       " 'resolution',\n",
       " 'getting',\n",
       " 'harriet',\n",
       " 'house',\n",
       " 'amiss',\n",
       " 'boot',\n",
       " 'fall',\n",
       " 'arrange',\n",
       " 'broke',\n",
       " 'lace',\n",
       " 'short',\n",
       " 'dexterously',\n",
       " 'throwing',\n",
       " 'ditch',\n",
       " 'presently',\n",
       " 'obliged',\n",
       " 'entreat',\n",
       " 'stop',\n",
       " 'acknowledged',\n",
       " 'inability',\n",
       " 'rights',\n",
       " 'able',\n",
       " 'walk',\n",
       " 'home',\n",
       " 'tolerable',\n",
       " 'comfort',\n",
       " 'lace',\n",
       " 'gone',\n",
       " 'know',\n",
       " 'contrive',\n",
       " 'troublesome',\n",
       " 'companion',\n",
       " 'hope',\n",
       " 'ill',\n",
       " 'equipped',\n",
       " 'elton',\n",
       " 'beg',\n",
       " 'leave',\n",
       " 'stop',\n",
       " 'house',\n",
       " 'ask',\n",
       " 'housekeeper',\n",
       " 'bit',\n",
       " 'ribband',\n",
       " 'string',\n",
       " 'thing',\n",
       " 'boot',\n",
       " 'elton',\n",
       " 'looked',\n",
       " 'happiness',\n",
       " 'proposition',\n",
       " 'exceed',\n",
       " 'alertness',\n",
       " 'attention',\n",
       " 'conducting',\n",
       " 'house',\n",
       " 'endeavouring',\n",
       " 'thing',\n",
       " 'appear',\n",
       " 'advantage',\n",
       " 'room',\n",
       " 'taken',\n",
       " 'chiefly',\n",
       " 'occupied',\n",
       " 'looking',\n",
       " 'forwards',\n",
       " 'immediately',\n",
       " 'communicated',\n",
       " 'door',\n",
       " 'open',\n",
       " 'emma',\n",
       " 'passed',\n",
       " 'housekeeper',\n",
       " 'receive',\n",
       " 'assistance',\n",
       " 'comfortable',\n",
       " 'manner',\n",
       " 'obliged',\n",
       " 'leave',\n",
       " 'door',\n",
       " 'ajar',\n",
       " 'fully',\n",
       " 'intended',\n",
       " 'elton',\n",
       " 'close',\n",
       " 'closed',\n",
       " 'remained',\n",
       " 'ajar',\n",
       " 'engaging',\n",
       " 'housekeeper',\n",
       " 'incessant',\n",
       " 'conversation',\n",
       " 'hoped',\n",
       " 'practicable',\n",
       " 'chuse',\n",
       " 'subject',\n",
       " 'adjoining',\n",
       " 'room',\n",
       " 'minutes',\n",
       " 'hear',\n",
       " 'protracted',\n",
       " 'longer',\n",
       " 'obliged',\n",
       " 'finished',\n",
       " 'appearance',\n",
       " 'lovers',\n",
       " 'standing',\n",
       " 'windows',\n",
       " 'favourable',\n",
       " 'aspect',\n",
       " 'half',\n",
       " 'minute',\n",
       " 'emma',\n",
       " 'felt',\n",
       " 'glory',\n",
       " 'having',\n",
       " 'schemed',\n",
       " 'successfully',\n",
       " 'come',\n",
       " 'point',\n",
       " 'agreeable',\n",
       " 'delightful',\n",
       " 'told',\n",
       " 'harriet',\n",
       " 'seen',\n",
       " 'purposely',\n",
       " 'followed',\n",
       " 'little',\n",
       " 'gallantries',\n",
       " 'allusions',\n",
       " 'dropt',\n",
       " 'cautious',\n",
       " 'cautious',\n",
       " 'thought',\n",
       " 'emma',\n",
       " 'advances',\n",
       " 'inch',\n",
       " 'inch',\n",
       " 'hazard',\n",
       " 'till',\n",
       " 'believes',\n",
       " 'secure',\n",
       " 'thing',\n",
       " 'accomplished',\n",
       " 'ingenious',\n",
       " 'device',\n",
       " 'flatter',\n",
       " 'occasion',\n",
       " 'present',\n",
       " 'enjoyment',\n",
       " 'leading',\n",
       " 'forward',\n",
       " 'great',\n",
       " 'event',\n",
       " 'chapter',\n",
       " 'xi',\n",
       " 'elton',\n",
       " 'left',\n",
       " 'longer',\n",
       " 'emma',\n",
       " 'power',\n",
       " 'superintend',\n",
       " 'happiness',\n",
       " 'quicken',\n",
       " 'measures',\n",
       " 'coming',\n",
       " 'sister',\n",
       " 'family',\n",
       " 'near',\n",
       " 'hand',\n",
       " 'anticipation',\n",
       " 'reality',\n",
       " 'henceforth',\n",
       " 'prime',\n",
       " 'object',\n",
       " 'days',\n",
       " 'stay',\n",
       " 'hartfield',\n",
       " 'expected',\n",
       " 'expect',\n",
       " 'thing',\n",
       " 'occasional',\n",
       " 'fortuitous',\n",
       " 'assistance',\n",
       " 'afforded',\n",
       " 'lovers',\n",
       " 'advance',\n",
       " 'rapidly',\n",
       " 'advance',\n",
       " 'hardly',\n",
       " 'wished',\n",
       " 'leisure',\n",
       " 'people',\n",
       " 'john',\n",
       " 'knightley',\n",
       " 'having',\n",
       " 'longer',\n",
       " 'usual',\n",
       " 'absent',\n",
       " 'surry',\n",
       " 'exciting',\n",
       " 'course',\n",
       " 'usual',\n",
       " 'till',\n",
       " 'year',\n",
       " 'long',\n",
       " 'vacation',\n",
       " 'marriage',\n",
       " 'divided',\n",
       " 'hartfield',\n",
       " 'donwell',\n",
       " 'abbey',\n",
       " 'holidays',\n",
       " 'autumn',\n",
       " 'given',\n",
       " 'sea',\n",
       " 'bathing',\n",
       " 'children',\n",
       " 'months',\n",
       " 'seen',\n",
       " 'regular',\n",
       " 'way',\n",
       " 'surry',\n",
       " 'connexions',\n",
       " 'seen',\n",
       " 'woodhouse',\n",
       " 'induced',\n",
       " 'far',\n",
       " 'london',\n",
       " 'poor',\n",
       " 'isabella',\n",
       " 'sake',\n",
       " 'consequently',\n",
       " 'nervously',\n",
       " 'apprehensively',\n",
       " 'happy',\n",
       " 'forestalling',\n",
       " 'short',\n",
       " 'visit',\n",
       " 'thought',\n",
       " 'evils',\n",
       " 'journey',\n",
       " 'little',\n",
       " 'fatigues',\n",
       " 'horses',\n",
       " 'coachman',\n",
       " 'bring',\n",
       " 'party',\n",
       " 'half',\n",
       " 'way',\n",
       " 'alarms',\n",
       " 'needless',\n",
       " 'sixteen',\n",
       " 'miles',\n",
       " 'happily',\n",
       " 'accomplished',\n",
       " 'john',\n",
       " 'knightley',\n",
       " 'children',\n",
       " 'competent',\n",
       " 'number',\n",
       " 'nursery',\n",
       " 'maids',\n",
       " 'reaching',\n",
       " 'hartfield',\n",
       " 'safety',\n",
       " 'bustle',\n",
       " 'joy',\n",
       " 'arrival',\n",
       " 'talked',\n",
       " 'welcomed',\n",
       " 'encouraged',\n",
       " 'variously',\n",
       " 'dispersed',\n",
       " 'disposed',\n",
       " 'produced',\n",
       " 'noise',\n",
       " 'confusion',\n",
       " 'nerves',\n",
       " 'borne',\n",
       " 'cause',\n",
       " 'endured',\n",
       " 'longer',\n",
       " 'ways',\n",
       " 'hartfield',\n",
       " 'feelings',\n",
       " 'father',\n",
       " 'respected',\n",
       " 'john',\n",
       " 'knightley',\n",
       " 'spite',\n",
       " 'maternal',\n",
       " 'solicitude',\n",
       " 'immediate',\n",
       " 'enjoyment',\n",
       " 'little',\n",
       " 'ones',\n",
       " 'having',\n",
       " 'instantly',\n",
       " 'liberty',\n",
       " 'attendance',\n",
       " 'eating',\n",
       " 'drinking',\n",
       " 'sleeping',\n",
       " 'playing',\n",
       " 'possibly',\n",
       " 'wish',\n",
       " 'smallest',\n",
       " 'delay',\n",
       " 'children',\n",
       " 'allowed',\n",
       " 'long',\n",
       " 'disturbance',\n",
       " 'restless',\n",
       " 'attendance',\n",
       " 'john',\n",
       " 'knightley',\n",
       " 'pretty',\n",
       " 'elegant',\n",
       " 'little',\n",
       " 'woman',\n",
       " 'gentle',\n",
       " 'quiet',\n",
       " 'manners',\n",
       " 'disposition',\n",
       " 'remarkably',\n",
       " 'amiable',\n",
       " 'affectionate',\n",
       " 'wrapt',\n",
       " 'family',\n",
       " 'devoted',\n",
       " 'wife',\n",
       " 'doating',\n",
       " 'mother',\n",
       " 'tenderly',\n",
       " 'attached',\n",
       " 'father',\n",
       " 'sister',\n",
       " 'higher',\n",
       " 'ties',\n",
       " 'warmer',\n",
       " 'love',\n",
       " 'impossible',\n",
       " 'fault',\n",
       " 'woman',\n",
       " 'strong',\n",
       " 'understanding',\n",
       " 'quickness',\n",
       " 'resemblance',\n",
       " 'father',\n",
       " 'inherited',\n",
       " 'constitution',\n",
       " 'delicate',\n",
       " 'health',\n",
       " 'careful',\n",
       " 'children',\n",
       " 'fears',\n",
       " 'nerves',\n",
       " 'fond',\n",
       " 'wingfield',\n",
       " 'town']"
      ]
     },
     "execution_count": 30,
     "metadata": {},
     "output_type": "execute_result"
    }
   ],
   "source": [
    "next(streaming_data) # Returns one document at a time from the generator"
   ]
  },
  {
   "cell_type": "markdown",
   "metadata": {},
   "source": [
    "### Gensim LDA Topic Modeling"
   ]
  },
  {
   "cell_type": "code",
   "execution_count": 31,
   "metadata": {},
   "outputs": [],
   "source": [
    "# A Dictionary Representation of all the words in our corpus\n",
    "id2word = corpora.Dictionary(doc_stream(path))"
   ]
  },
  {
   "cell_type": "code",
   "execution_count": 32,
   "metadata": {},
   "outputs": [
    {
     "data": {
      "text/plain": [
       "869"
      ]
     },
     "execution_count": 32,
     "metadata": {},
     "output_type": "execute_result"
    }
   ],
   "source": [
    "id2word.token2id['england']"
   ]
  },
  {
   "cell_type": "code",
   "execution_count": 33,
   "metadata": {},
   "outputs": [
    {
     "data": {
      "text/plain": [
       "[(869, 3), (1254, 1), (2485, 1), (16850, 1)]"
      ]
     },
     "execution_count": 33,
     "metadata": {},
     "output_type": "execute_result"
    }
   ],
   "source": [
    "id2word.doc2bow(tokenize(\"This is a sample message Darcy England England England\"))"
   ]
  },
  {
   "cell_type": "code",
   "execution_count": 36,
   "metadata": {},
   "outputs": [
    {
     "name": "stdout",
     "output_type": "stream",
     "text": [
      "56\n",
      "7056\n"
     ]
    }
   ],
   "source": [
    "import sys\n",
    "print(sys.getsizeof(id2word))\n",
    "print(sys.getsizeof(tokens))"
   ]
  },
  {
   "cell_type": "code",
   "execution_count": 37,
   "metadata": {},
   "outputs": [
    {
     "data": {
      "text/plain": [
       "22095"
      ]
     },
     "execution_count": 37,
     "metadata": {},
     "output_type": "execute_result"
    }
   ],
   "source": [
    "len(id2word.keys())"
   ]
  },
  {
   "cell_type": "code",
   "execution_count": 38,
   "metadata": {},
   "outputs": [],
   "source": [
    "# Let's remove extreme values from the dataset\n",
    "id2word.filter_extremes(no_below=5, no_above=0.95)"
   ]
  },
  {
   "cell_type": "code",
   "execution_count": 39,
   "metadata": {},
   "outputs": [
    {
     "data": {
      "text/plain": [
       "8102"
      ]
     },
     "execution_count": 39,
     "metadata": {},
     "output_type": "execute_result"
    }
   ],
   "source": [
    "len(id2word.keys())"
   ]
  },
  {
   "cell_type": "code",
   "execution_count": 40,
   "metadata": {},
   "outputs": [],
   "source": [
    "# a bag of words(bow) representation of our corpus\n",
    "# Note: we haven't actually read any text into memory here\n",
    "# Although abstracted away - tokenization IS happening in the doc_stream f(x)\n",
    "corpus = [id2word.doc2bow(text) for text in doc_stream(path)]"
   ]
  },
  {
   "cell_type": "code",
   "execution_count": 41,
   "metadata": {},
   "outputs": [
    {
     "data": {
      "text/plain": [
       "[(4, 1),\n",
       " (17, 1),\n",
       " (28, 1),\n",
       " (30, 1),\n",
       " (31, 2),\n",
       " (40, 1),\n",
       " (46, 1),\n",
       " (51, 1),\n",
       " (55, 1),\n",
       " (71, 1)]"
      ]
     },
     "execution_count": 41,
     "metadata": {},
     "output_type": "execute_result"
    }
   ],
   "source": [
    "corpus[345][:10]"
   ]
  },
  {
   "cell_type": "code",
   "execution_count": 42,
   "metadata": {},
   "outputs": [],
   "source": [
    "lda = LdaMulticore(corpus=corpus,\n",
    "                   id2word=id2word,\n",
    "                   random_state=723812,\n",
    "                   num_topics = 15,\n",
    "                   passes=10,\n",
    "                   workers=12\n",
    "                  )"
   ]
  },
  {
   "cell_type": "code",
   "execution_count": 65,
   "metadata": {},
   "outputs": [
    {
     "data": {
      "text/plain": [
       "[(0,\n",
       "  '0.009*\"pounds\" + 0.007*\"mother\" + 0.006*\"sure\" + 0.006*\"think\" + 0.006*\"year\" + 0.004*\"rochester\" + 0.004*\"certainly\" + 0.004*\"thornfield\" + 0.004*\"fairfax\" + 0.004*\"live\"'),\n",
       " (1,\n",
       "  '0.008*\"pelet\" + 0.005*\"thought\" + 0.005*\"like\" + 0.004*\"little\" + 0.004*\"man\" + 0.004*\"hunsden\" + 0.004*\"time\" + 0.003*\"having\" + 0.003*\"pupils\" + 0.003*\"crimsworth\"'),\n",
       " (2,\n",
       "  '0.008*\"madame\" + 0.006*\"little\" + 0.006*\"like\" + 0.004*\"day\" + 0.004*\"vous\" + 0.004*\"thought\" + 0.003*\"know\" + 0.003*\"beck\" + 0.003*\"good\" + 0.003*\"paul\"'),\n",
       " (3,\n",
       "  '0.005*\"night\" + 0.005*\"look\" + 0.005*\"like\" + 0.004*\"old\" + 0.004*\"est\" + 0.004*\"looked\" + 0.003*\"sir\" + 0.003*\"thought\" + 0.003*\"house\" + 0.003*\"hunsden\"'),\n",
       " (4,\n",
       "  '0.007*\"little\" + 0.005*\"madame\" + 0.005*\"like\" + 0.004*\"thought\" + 0.004*\"know\" + 0.004*\"hand\" + 0.004*\"good\" + 0.004*\"night\" + 0.003*\"day\" + 0.003*\"dr\"'),\n",
       " (5,\n",
       "  '0.017*\"elizabeth\" + 0.013*\"darcy\" + 0.010*\"miss\" + 0.010*\"bingley\" + 0.010*\"bennet\" + 0.009*\"jane\" + 0.007*\"know\" + 0.007*\"think\" + 0.006*\"wickham\" + 0.005*\"sister\"'),\n",
       " (6,\n",
       "  '0.006*\"know\" + 0.006*\"jane\" + 0.006*\"life\" + 0.005*\"like\" + 0.005*\"long\" + 0.005*\"love\" + 0.005*\"thought\" + 0.005*\"heart\" + 0.005*\"shall\" + 0.005*\"good\"'),\n",
       " (7,\n",
       "  '0.011*\"frances\" + 0.009*\"monsieur\" + 0.007*\"hunsden\" + 0.007*\"little\" + 0.006*\"english\" + 0.005*\"mdlle\" + 0.004*\"long\" + 0.004*\"time\" + 0.004*\"mademoiselle\" + 0.004*\"shall\"'),\n",
       " (8,\n",
       "  '0.008*\"good\" + 0.006*\"little\" + 0.006*\"like\" + 0.006*\"emma\" + 0.005*\"elton\" + 0.005*\"thought\" + 0.005*\"miss\" + 0.004*\"think\" + 0.004*\"great\" + 0.004*\"woman\"'),\n",
       " (9,\n",
       "  '0.012*\"sir\" + 0.006*\"long\" + 0.006*\"jane\" + 0.006*\"rochester\" + 0.005*\"little\" + 0.005*\"yes\" + 0.005*\"adele\" + 0.004*\"come\" + 0.004*\"life\" + 0.004*\"pounds\"'),\n",
       " (10,\n",
       "  '0.007*\"like\" + 0.005*\"little\" + 0.005*\"rochester\" + 0.005*\"miss\" + 0.004*\"room\" + 0.004*\"time\" + 0.004*\"thought\" + 0.003*\"sir\" + 0.003*\"day\" + 0.003*\"come\"'),\n",
       " (11,\n",
       "  '0.015*\"emma\" + 0.012*\"miss\" + 0.009*\"harriet\" + 0.008*\"thing\" + 0.008*\"weston\" + 0.008*\"think\" + 0.007*\"know\" + 0.007*\"knightley\" + 0.006*\"elton\" + 0.006*\"good\"'),\n",
       " (12,\n",
       "  '0.010*\"jane\" + 0.009*\"emma\" + 0.009*\"little\" + 0.008*\"thing\" + 0.008*\"miss\" + 0.008*\"dear\" + 0.007*\"fairfax\" + 0.006*\"shall\" + 0.006*\"know\" + 0.006*\"like\"'),\n",
       " (13,\n",
       "  '0.011*\"elinor\" + 0.010*\"marianne\" + 0.007*\"sister\" + 0.006*\"mother\" + 0.005*\"time\" + 0.004*\"soon\" + 0.004*\"jennings\" + 0.004*\"willoughby\" + 0.004*\"good\" + 0.004*\"dashwood\"'),\n",
       " (14,\n",
       "  '0.006*\"monsieur\" + 0.004*\"henri\" + 0.004*\"georgiana\" + 0.004*\"mdlle\" + 0.004*\"little\" + 0.003*\"know\" + 0.003*\"good\" + 0.003*\"asked\" + 0.003*\"time\" + 0.003*\"course\"')]"
      ]
     },
     "execution_count": 65,
     "metadata": {},
     "output_type": "execute_result"
    }
   ],
   "source": [
    "lda.print_topics()"
   ]
  },
  {
   "cell_type": "code",
   "execution_count": null,
   "metadata": {},
   "outputs": [],
   "source": []
  },
  {
   "cell_type": "code",
   "execution_count": 43,
   "metadata": {},
   "outputs": [],
   "source": [
    "words = [re.findall(r'\"([^\"]*)\"',t[1]) for t in lda.print_topics()]"
   ]
  },
  {
   "cell_type": "code",
   "execution_count": 44,
   "metadata": {},
   "outputs": [],
   "source": [
    "topics = [' '.join(t[0:5]) for t in words]"
   ]
  },
  {
   "cell_type": "code",
   "execution_count": 45,
   "metadata": {},
   "outputs": [
    {
     "name": "stdout",
     "output_type": "stream",
     "text": [
      "------ Topic 0 ------\n",
      "pounds mother sure think year\n",
      "\n",
      "------ Topic 1 ------\n",
      "pelet thought like little man\n",
      "\n",
      "------ Topic 2 ------\n",
      "madame little like day vous\n",
      "\n",
      "------ Topic 3 ------\n",
      "night look like old est\n",
      "\n",
      "------ Topic 4 ------\n",
      "little madame like thought know\n",
      "\n",
      "------ Topic 5 ------\n",
      "elizabeth darcy miss bingley bennet\n",
      "\n",
      "------ Topic 6 ------\n",
      "know jane life like long\n",
      "\n",
      "------ Topic 7 ------\n",
      "frances monsieur hunsden little english\n",
      "\n",
      "------ Topic 8 ------\n",
      "good little like emma elton\n",
      "\n",
      "------ Topic 9 ------\n",
      "sir long jane rochester little\n",
      "\n",
      "------ Topic 10 ------\n",
      "like little rochester miss room\n",
      "\n",
      "------ Topic 11 ------\n",
      "emma miss harriet thing weston\n",
      "\n",
      "------ Topic 12 ------\n",
      "jane emma little thing miss\n",
      "\n",
      "------ Topic 13 ------\n",
      "elinor marianne sister mother time\n",
      "\n",
      "------ Topic 14 ------\n",
      "monsieur henri georgiana mdlle little\n",
      "\n"
     ]
    }
   ],
   "source": [
    "for id, t in enumerate(topics): \n",
    "    print(f\"------ Topic {id} ------\")\n",
    "    print(t, end=\"\\n\\n\")"
   ]
  },
  {
   "cell_type": "markdown",
   "metadata": {},
   "source": [
    "## Challenge \n",
    "\n",
    "You will apply an LDA model to a customer review dataset to practice the fitting and estimation of LDA. "
   ]
  },
  {
   "cell_type": "markdown",
   "metadata": {},
   "source": [
    "# Interpret LDA Results (Learn)\n",
    "<a id=\"#p3\"></a>"
   ]
  },
  {
   "cell_type": "markdown",
   "metadata": {},
   "source": [
    "## Overview"
   ]
  },
  {
   "cell_type": "markdown",
   "metadata": {
    "toc-hr-collapsed": true
   },
   "source": [
    "## Follow Along"
   ]
  },
  {
   "cell_type": "markdown",
   "metadata": {},
   "source": [
    "### Topic Distance Visualization"
   ]
  },
  {
   "cell_type": "code",
   "execution_count": 46,
   "metadata": {},
   "outputs": [],
   "source": [
    "import pyLDAvis.gensim\n",
    "\n",
    "pyLDAvis.enable_notebook()"
   ]
  },
  {
   "cell_type": "code",
   "execution_count": 47,
   "metadata": {},
   "outputs": [
    {
     "name": "stderr",
     "output_type": "stream",
     "text": [
      "/Users/jonathansokoll/anaconda3/envs/U4-S1-NLP-DS10/lib/python3.7/site-packages/pyLDAvis/_prepare.py:257: FutureWarning: Sorting because non-concatenation axis is not aligned. A future version\n",
      "of pandas will change to not sort by default.\n",
      "\n",
      "To accept the future behavior, pass 'sort=False'.\n",
      "\n",
      "To retain the current behavior and silence the warning, pass 'sort=True'.\n",
      "\n",
      "  return pd.concat([default_term_info] + list(topic_dfs))\n"
     ]
    },
    {
     "data": {
      "text/html": [
       "\n",
       "<link rel=\"stylesheet\" type=\"text/css\" href=\"https://cdn.rawgit.com/bmabey/pyLDAvis/files/ldavis.v1.0.0.css\">\n",
       "\n",
       "\n",
       "<div id=\"ldavis_el24251406905405593604412797033\"></div>\n",
       "<script type=\"text/javascript\">\n",
       "\n",
       "var ldavis_el24251406905405593604412797033_data = {\"mdsDat\": {\"x\": [-0.04559434101829295, -0.07766584647808855, 0.14128816812220413, 0.10404219933368944, 0.15221009622869527, -0.013860511923195084, -0.07765729277123115, -0.03380962387657687, -0.07173063503704025, 0.09536552742783198, 0.05250741728862916, 0.0064619002882642385, -0.09942811868275224, -0.04603602407655839, -0.08609291482557925], \"y\": [-0.020554818137063523, -0.055242075631416115, -0.008635106167327041, -0.01442413552232888, -0.012565242690342204, -0.05111726209464449, -0.07266949563333015, -0.047089001605900536, -0.05392855597118336, 0.03160386097158199, 0.0038838996321335986, 0.050561347572979434, 0.027439745159202538, 0.14862013450159325, 0.07411670561604637], \"topics\": [1, 2, 3, 4, 5, 6, 7, 8, 9, 10, 11, 12, 13, 14, 15], \"cluster\": [1, 1, 1, 1, 1, 1, 1, 1, 1, 1, 1, 1, 1, 1, 1], \"Freq\": [21.411949157714844, 17.607440948486328, 16.2606143951416, 16.003267288208008, 10.043391227722168, 6.805908679962158, 3.625784397125244, 2.3282315731048584, 1.5559215545654297, 1.2824627161026, 1.2248213291168213, 0.8663619756698608, 0.4587831497192383, 0.262592077255249, 0.26246407628059387]}, \"tinfo\": {\"Category\": [\"Default\", \"Default\", \"Default\", \"Default\", \"Default\", \"Default\", \"Default\", \"Default\", \"Default\", \"Default\", \"Default\", \"Default\", \"Default\", \"Default\", \"Default\", \"Default\", \"Default\", \"Default\", \"Default\", \"Default\", \"Default\", \"Default\", \"Default\", \"Default\", \"Default\", \"Default\", \"Default\", \"Default\", \"Default\", \"Default\", \"Topic1\", \"Topic1\", \"Topic1\", \"Topic1\", \"Topic1\", \"Topic1\", \"Topic1\", \"Topic1\", \"Topic1\", \"Topic1\", \"Topic1\", \"Topic1\", \"Topic1\", \"Topic1\", \"Topic1\", \"Topic1\", \"Topic1\", \"Topic1\", \"Topic1\", \"Topic1\", \"Topic1\", \"Topic1\", \"Topic1\", \"Topic1\", \"Topic1\", \"Topic1\", \"Topic1\", \"Topic1\", \"Topic1\", \"Topic1\", \"Topic1\", \"Topic1\", \"Topic1\", \"Topic1\", \"Topic1\", \"Topic1\", \"Topic1\", \"Topic1\", \"Topic1\", \"Topic1\", \"Topic1\", \"Topic1\", \"Topic1\", \"Topic1\", \"Topic1\", \"Topic1\", \"Topic1\", \"Topic1\", \"Topic1\", \"Topic1\", \"Topic1\", \"Topic1\", \"Topic1\", \"Topic1\", \"Topic1\", \"Topic1\", \"Topic1\", \"Topic1\", \"Topic1\", \"Topic1\", \"Topic1\", \"Topic1\", \"Topic1\", \"Topic1\", \"Topic1\", \"Topic1\", \"Topic1\", \"Topic1\", \"Topic1\", \"Topic1\", \"Topic1\", \"Topic1\", \"Topic1\", \"Topic1\", \"Topic1\", \"Topic1\", \"Topic1\", \"Topic1\", \"Topic1\", \"Topic1\", \"Topic1\", \"Topic1\", \"Topic1\", \"Topic1\", \"Topic2\", \"Topic2\", \"Topic2\", \"Topic2\", \"Topic2\", \"Topic2\", \"Topic2\", \"Topic2\", \"Topic2\", \"Topic2\", \"Topic2\", \"Topic2\", \"Topic2\", \"Topic2\", \"Topic2\", \"Topic2\", \"Topic2\", \"Topic2\", \"Topic2\", \"Topic2\", \"Topic2\", \"Topic2\", \"Topic2\", \"Topic2\", \"Topic2\", \"Topic2\", \"Topic2\", \"Topic2\", \"Topic2\", \"Topic2\", \"Topic2\", \"Topic2\", \"Topic2\", \"Topic2\", \"Topic2\", \"Topic2\", \"Topic2\", \"Topic2\", \"Topic2\", \"Topic2\", \"Topic2\", \"Topic2\", \"Topic2\", \"Topic2\", \"Topic2\", \"Topic2\", \"Topic2\", \"Topic2\", \"Topic2\", \"Topic2\", \"Topic2\", \"Topic2\", \"Topic2\", \"Topic2\", \"Topic2\", \"Topic2\", \"Topic2\", \"Topic2\", \"Topic2\", \"Topic2\", \"Topic2\", \"Topic2\", \"Topic2\", \"Topic2\", \"Topic2\", \"Topic2\", \"Topic2\", \"Topic2\", \"Topic2\", \"Topic2\", \"Topic2\", \"Topic2\", \"Topic2\", \"Topic2\", \"Topic2\", \"Topic2\", \"Topic2\", \"Topic2\", \"Topic2\", \"Topic2\", \"Topic2\", \"Topic2\", \"Topic2\", \"Topic2\", \"Topic2\", \"Topic2\", \"Topic2\", \"Topic2\", \"Topic2\", \"Topic3\", \"Topic3\", \"Topic3\", \"Topic3\", \"Topic3\", \"Topic3\", \"Topic3\", \"Topic3\", \"Topic3\", \"Topic3\", \"Topic3\", \"Topic3\", \"Topic3\", \"Topic3\", \"Topic3\", \"Topic3\", \"Topic3\", \"Topic3\", \"Topic3\", \"Topic3\", \"Topic3\", \"Topic3\", \"Topic3\", \"Topic3\", \"Topic3\", \"Topic3\", \"Topic3\", \"Topic3\", \"Topic3\", \"Topic3\", \"Topic3\", \"Topic3\", \"Topic3\", \"Topic3\", \"Topic3\", \"Topic3\", \"Topic3\", \"Topic3\", \"Topic3\", \"Topic3\", \"Topic3\", \"Topic3\", \"Topic3\", \"Topic3\", \"Topic3\", \"Topic3\", \"Topic3\", \"Topic3\", \"Topic3\", \"Topic3\", \"Topic3\", \"Topic3\", \"Topic3\", \"Topic3\", \"Topic3\", \"Topic3\", \"Topic3\", \"Topic3\", \"Topic3\", \"Topic3\", \"Topic3\", \"Topic3\", \"Topic4\", \"Topic4\", \"Topic4\", \"Topic4\", \"Topic4\", \"Topic4\", \"Topic4\", \"Topic4\", \"Topic4\", \"Topic4\", \"Topic4\", \"Topic4\", \"Topic4\", \"Topic4\", \"Topic4\", \"Topic4\", \"Topic4\", \"Topic4\", \"Topic4\", \"Topic4\", \"Topic4\", \"Topic4\", \"Topic4\", \"Topic4\", \"Topic4\", \"Topic4\", \"Topic4\", \"Topic4\", \"Topic4\", \"Topic4\", \"Topic4\", \"Topic4\", \"Topic4\", \"Topic4\", \"Topic4\", \"Topic4\", \"Topic4\", \"Topic4\", \"Topic4\", \"Topic4\", \"Topic4\", \"Topic4\", \"Topic4\", \"Topic4\", \"Topic4\", \"Topic4\", \"Topic4\", \"Topic4\", \"Topic4\", \"Topic4\", \"Topic4\", \"Topic4\", \"Topic4\", \"Topic4\", \"Topic4\", \"Topic4\", \"Topic4\", \"Topic4\", \"Topic4\", \"Topic4\", \"Topic4\", \"Topic4\", \"Topic4\", \"Topic4\", \"Topic4\", \"Topic4\", \"Topic4\", \"Topic4\", \"Topic4\", \"Topic4\", \"Topic4\", \"Topic4\", \"Topic4\", \"Topic5\", \"Topic5\", \"Topic5\", \"Topic5\", \"Topic5\", \"Topic5\", \"Topic5\", \"Topic5\", \"Topic5\", \"Topic5\", \"Topic5\", \"Topic5\", \"Topic5\", \"Topic5\", \"Topic5\", \"Topic5\", \"Topic5\", \"Topic5\", \"Topic5\", \"Topic5\", \"Topic5\", \"Topic5\", \"Topic5\", \"Topic5\", \"Topic5\", \"Topic5\", \"Topic5\", \"Topic5\", \"Topic5\", \"Topic5\", \"Topic5\", \"Topic5\", \"Topic5\", \"Topic5\", \"Topic5\", \"Topic5\", \"Topic5\", \"Topic5\", \"Topic5\", \"Topic5\", \"Topic5\", \"Topic5\", \"Topic5\", \"Topic5\", \"Topic5\", \"Topic5\", \"Topic5\", \"Topic5\", \"Topic5\", \"Topic5\", \"Topic5\", \"Topic5\", \"Topic5\", \"Topic5\", \"Topic5\", \"Topic5\", \"Topic5\", \"Topic5\", \"Topic5\", \"Topic5\", \"Topic5\", \"Topic5\", \"Topic5\", \"Topic5\", \"Topic5\", \"Topic5\", \"Topic6\", \"Topic6\", \"Topic6\", \"Topic6\", \"Topic6\", \"Topic6\", \"Topic6\", \"Topic6\", \"Topic6\", \"Topic6\", \"Topic6\", \"Topic6\", \"Topic6\", \"Topic6\", \"Topic6\", \"Topic6\", \"Topic6\", \"Topic6\", \"Topic6\", \"Topic6\", \"Topic6\", \"Topic6\", \"Topic6\", \"Topic6\", \"Topic6\", \"Topic6\", \"Topic6\", \"Topic6\", \"Topic6\", \"Topic6\", \"Topic6\", \"Topic6\", \"Topic6\", \"Topic6\", \"Topic6\", \"Topic6\", \"Topic6\", \"Topic6\", \"Topic6\", \"Topic6\", \"Topic6\", \"Topic6\", \"Topic6\", \"Topic6\", \"Topic6\", \"Topic6\", \"Topic6\", \"Topic6\", \"Topic6\", \"Topic6\", \"Topic6\", \"Topic6\", \"Topic6\", \"Topic6\", \"Topic6\", \"Topic6\", \"Topic6\", \"Topic6\", \"Topic6\", \"Topic6\", \"Topic6\", \"Topic6\", \"Topic6\", \"Topic6\", \"Topic6\", \"Topic6\", \"Topic6\", \"Topic6\", \"Topic6\", \"Topic6\", \"Topic6\", \"Topic6\", \"Topic6\", \"Topic6\", \"Topic6\", \"Topic6\", \"Topic6\", \"Topic7\", \"Topic7\", \"Topic7\", \"Topic7\", \"Topic7\", \"Topic7\", \"Topic7\", \"Topic7\", \"Topic7\", \"Topic7\", \"Topic7\", \"Topic7\", \"Topic7\", \"Topic7\", \"Topic7\", \"Topic7\", \"Topic7\", \"Topic7\", \"Topic7\", \"Topic7\", \"Topic7\", \"Topic7\", \"Topic7\", \"Topic7\", \"Topic7\", \"Topic7\", \"Topic7\", \"Topic7\", \"Topic7\", \"Topic7\", \"Topic7\", \"Topic7\", \"Topic7\", \"Topic7\", \"Topic7\", \"Topic7\", \"Topic7\", \"Topic7\", \"Topic7\", \"Topic7\", \"Topic7\", \"Topic7\", \"Topic7\", \"Topic7\", \"Topic7\", \"Topic7\", \"Topic7\", \"Topic7\", \"Topic7\", \"Topic7\", \"Topic7\", \"Topic7\", \"Topic7\", \"Topic7\", \"Topic7\", \"Topic7\", \"Topic7\", \"Topic7\", \"Topic7\", \"Topic7\", \"Topic7\", \"Topic7\", \"Topic7\", \"Topic7\", \"Topic7\", \"Topic7\", \"Topic7\", \"Topic7\", \"Topic7\", \"Topic7\", \"Topic7\", \"Topic7\", \"Topic7\", \"Topic7\", \"Topic7\", \"Topic7\", \"Topic8\", \"Topic8\", \"Topic8\", \"Topic8\", \"Topic8\", \"Topic8\", \"Topic8\", \"Topic8\", \"Topic8\", \"Topic8\", \"Topic8\", \"Topic8\", \"Topic8\", \"Topic8\", \"Topic8\", \"Topic8\", \"Topic8\", \"Topic8\", \"Topic8\", \"Topic8\", \"Topic8\", \"Topic8\", \"Topic8\", \"Topic8\", \"Topic8\", \"Topic8\", \"Topic8\", \"Topic8\", \"Topic8\", \"Topic8\", \"Topic8\", \"Topic8\", \"Topic8\", \"Topic8\", \"Topic8\", \"Topic8\", \"Topic8\", \"Topic8\", \"Topic8\", \"Topic8\", \"Topic8\", \"Topic8\", \"Topic8\", \"Topic8\", \"Topic8\", \"Topic8\", \"Topic8\", \"Topic8\", \"Topic8\", \"Topic8\", \"Topic8\", \"Topic8\", \"Topic8\", \"Topic8\", \"Topic8\", \"Topic8\", \"Topic8\", \"Topic8\", \"Topic8\", \"Topic8\", \"Topic8\", \"Topic8\", \"Topic8\", \"Topic8\", \"Topic8\", \"Topic8\", \"Topic8\", \"Topic8\", \"Topic8\", \"Topic8\", \"Topic8\", \"Topic8\", \"Topic9\", \"Topic9\", \"Topic9\", \"Topic9\", \"Topic9\", \"Topic9\", \"Topic9\", \"Topic9\", \"Topic9\", \"Topic9\", \"Topic9\", \"Topic9\", \"Topic9\", \"Topic9\", \"Topic9\", \"Topic9\", \"Topic9\", \"Topic9\", \"Topic9\", \"Topic9\", \"Topic9\", \"Topic9\", \"Topic9\", \"Topic9\", \"Topic9\", \"Topic9\", \"Topic9\", \"Topic9\", \"Topic9\", \"Topic9\", \"Topic9\", \"Topic9\", \"Topic9\", \"Topic9\", \"Topic9\", \"Topic9\", \"Topic9\", \"Topic9\", \"Topic9\", \"Topic9\", \"Topic9\", \"Topic9\", \"Topic9\", \"Topic9\", \"Topic9\", \"Topic9\", \"Topic9\", \"Topic9\", \"Topic9\", \"Topic9\", \"Topic9\", \"Topic9\", \"Topic9\", \"Topic9\", \"Topic9\", \"Topic9\", \"Topic9\", \"Topic9\", \"Topic9\", \"Topic9\", \"Topic9\", \"Topic9\", \"Topic9\", \"Topic9\", \"Topic9\", \"Topic9\", \"Topic9\", \"Topic9\", \"Topic9\", \"Topic9\", \"Topic9\", \"Topic10\", \"Topic10\", \"Topic10\", \"Topic10\", \"Topic10\", \"Topic10\", \"Topic10\", \"Topic10\", \"Topic10\", \"Topic10\", \"Topic10\", \"Topic10\", \"Topic10\", \"Topic10\", \"Topic10\", \"Topic10\", \"Topic10\", \"Topic10\", \"Topic10\", \"Topic10\", \"Topic10\", \"Topic10\", \"Topic10\", \"Topic10\", \"Topic10\", \"Topic10\", \"Topic10\", \"Topic10\", \"Topic10\", \"Topic10\", \"Topic10\", \"Topic10\", \"Topic10\", \"Topic10\", \"Topic10\", \"Topic10\", \"Topic10\", \"Topic10\", \"Topic10\", \"Topic10\", \"Topic10\", \"Topic10\", \"Topic10\", \"Topic10\", \"Topic10\", \"Topic10\", \"Topic10\", \"Topic10\", \"Topic10\", \"Topic10\", \"Topic10\", \"Topic10\", \"Topic10\", \"Topic10\", \"Topic10\", \"Topic10\", \"Topic10\", \"Topic10\", \"Topic10\", \"Topic10\", \"Topic10\", \"Topic10\", \"Topic10\", \"Topic10\", \"Topic10\", \"Topic10\", \"Topic10\", \"Topic10\", \"Topic10\", \"Topic10\", \"Topic10\", \"Topic11\", \"Topic11\", \"Topic11\", \"Topic11\", \"Topic11\", \"Topic11\", \"Topic11\", \"Topic11\", \"Topic11\", \"Topic11\", \"Topic11\", \"Topic11\", \"Topic11\", \"Topic11\", \"Topic11\", \"Topic11\", \"Topic11\", \"Topic11\", \"Topic11\", \"Topic11\", \"Topic11\", \"Topic11\", \"Topic11\", \"Topic11\", \"Topic11\", \"Topic11\", \"Topic11\", \"Topic11\", \"Topic11\", \"Topic11\", \"Topic11\", \"Topic11\", \"Topic11\", \"Topic11\", \"Topic11\", \"Topic11\", \"Topic11\", \"Topic11\", \"Topic11\", \"Topic11\", \"Topic11\", \"Topic11\", \"Topic11\", \"Topic11\", \"Topic11\", \"Topic11\", \"Topic11\", \"Topic11\", \"Topic11\", \"Topic11\", \"Topic11\", \"Topic11\", \"Topic11\", \"Topic11\", \"Topic11\", \"Topic11\", \"Topic11\", \"Topic11\", \"Topic11\", \"Topic11\", \"Topic11\", \"Topic11\", \"Topic11\", \"Topic11\", \"Topic11\", \"Topic11\", \"Topic11\", \"Topic11\", \"Topic12\", \"Topic12\", \"Topic12\", \"Topic12\", \"Topic12\", \"Topic12\", \"Topic12\", \"Topic12\", \"Topic12\", \"Topic12\", \"Topic12\", \"Topic12\", \"Topic12\", \"Topic12\", \"Topic12\", \"Topic12\", \"Topic12\", \"Topic12\", \"Topic12\", \"Topic12\", \"Topic12\", \"Topic12\", \"Topic12\", \"Topic12\", \"Topic12\", \"Topic12\", \"Topic12\", \"Topic12\", \"Topic12\", \"Topic12\", \"Topic12\", \"Topic12\", \"Topic12\", \"Topic12\", \"Topic12\", \"Topic12\", \"Topic12\", \"Topic12\", \"Topic12\", \"Topic12\", \"Topic12\", \"Topic12\", \"Topic12\", \"Topic12\", \"Topic12\", \"Topic12\", \"Topic12\", \"Topic12\", \"Topic12\", \"Topic12\", \"Topic12\", \"Topic12\", \"Topic12\", \"Topic12\", \"Topic12\", \"Topic12\", \"Topic12\", \"Topic12\", \"Topic12\", \"Topic12\", \"Topic12\", \"Topic12\", \"Topic12\", \"Topic12\", \"Topic12\", \"Topic12\", \"Topic12\", \"Topic12\", \"Topic12\", \"Topic12\", \"Topic12\", \"Topic12\", \"Topic12\", \"Topic12\", \"Topic12\", \"Topic12\", \"Topic12\", \"Topic13\", \"Topic13\", \"Topic13\", \"Topic13\", \"Topic13\", \"Topic13\", \"Topic13\", \"Topic13\", \"Topic13\", \"Topic13\", \"Topic13\", \"Topic13\", \"Topic13\", \"Topic13\", \"Topic13\", \"Topic13\", \"Topic13\", \"Topic13\", \"Topic13\", \"Topic13\", \"Topic13\", \"Topic13\", \"Topic13\", \"Topic13\", \"Topic13\", \"Topic13\", \"Topic13\", \"Topic13\", \"Topic13\", \"Topic13\", \"Topic13\", \"Topic13\", \"Topic13\", \"Topic13\", \"Topic13\", \"Topic13\", \"Topic13\", \"Topic13\", \"Topic13\", \"Topic13\", \"Topic13\", \"Topic13\", \"Topic13\", \"Topic13\", \"Topic13\", \"Topic13\", \"Topic13\", \"Topic13\", \"Topic13\", \"Topic13\", \"Topic13\", \"Topic13\", \"Topic13\", \"Topic13\", \"Topic13\", \"Topic13\", \"Topic13\", \"Topic13\", \"Topic13\", \"Topic13\", \"Topic13\", \"Topic13\", \"Topic13\", \"Topic13\", \"Topic13\", \"Topic13\", \"Topic13\", \"Topic13\", \"Topic14\", \"Topic14\", \"Topic14\", \"Topic14\", \"Topic14\", \"Topic14\", \"Topic14\", \"Topic14\", \"Topic14\", \"Topic14\", \"Topic14\", \"Topic14\", \"Topic14\", \"Topic14\", \"Topic14\", \"Topic14\", \"Topic14\", \"Topic14\", \"Topic14\", \"Topic14\", \"Topic14\", \"Topic14\", \"Topic14\", \"Topic14\", \"Topic14\", \"Topic14\", \"Topic14\", \"Topic14\", \"Topic14\", \"Topic14\", \"Topic14\", \"Topic14\", \"Topic14\", \"Topic14\", \"Topic14\", \"Topic14\", \"Topic14\", \"Topic14\", \"Topic14\", \"Topic14\", \"Topic14\", \"Topic14\", \"Topic14\", \"Topic14\", \"Topic14\", \"Topic14\", \"Topic14\", \"Topic14\", \"Topic14\", \"Topic14\", \"Topic14\", \"Topic14\", \"Topic14\", \"Topic14\", \"Topic14\", \"Topic14\", \"Topic14\", \"Topic14\", \"Topic14\", \"Topic14\", \"Topic14\", \"Topic14\", \"Topic14\", \"Topic14\", \"Topic14\", \"Topic14\", \"Topic14\", \"Topic14\", \"Topic15\", \"Topic15\", \"Topic15\", \"Topic15\", \"Topic15\", \"Topic15\", \"Topic15\", \"Topic15\", \"Topic15\", \"Topic15\", \"Topic15\", \"Topic15\", \"Topic15\", \"Topic15\", \"Topic15\", \"Topic15\", \"Topic15\", \"Topic15\", \"Topic15\", \"Topic15\", \"Topic15\", \"Topic15\", \"Topic15\", \"Topic15\", \"Topic15\", \"Topic15\", \"Topic15\", \"Topic15\", \"Topic15\", \"Topic15\", \"Topic15\", \"Topic15\", \"Topic15\", \"Topic15\", \"Topic15\", \"Topic15\", \"Topic15\", \"Topic15\", \"Topic15\", \"Topic15\", \"Topic15\", \"Topic15\", \"Topic15\", \"Topic15\", \"Topic15\", \"Topic15\", \"Topic15\", \"Topic15\", \"Topic15\", \"Topic15\", \"Topic15\", \"Topic15\", \"Topic15\", \"Topic15\", \"Topic15\", \"Topic15\", \"Topic15\", \"Topic15\", \"Topic15\", \"Topic15\", \"Topic15\", \"Topic15\", \"Topic15\", \"Topic15\", \"Topic15\", \"Topic15\", \"Topic15\", \"Topic15\", \"Topic15\", \"Topic15\", \"Topic15\", \"Topic15\", \"Topic15\"], \"Freq\": [836.0, 1711.0, 931.0, 1535.0, 1318.0, 1312.0, 657.0, 596.0, 1349.0, 776.0, 1437.0, 357.0, 672.0, 1136.0, 920.0, 510.0, 361.0, 424.0, 614.0, 370.0, 1315.0, 695.0, 576.0, 934.0, 427.0, 1058.0, 587.0, 622.0, 272.0, 753.0, 28.874778747558594, 28.86370849609375, 31.619497299194336, 19.92133140563965, 85.88289642333984, 22.756336212158203, 19.747173309326172, 53.23917007446289, 16.761600494384766, 13.93416976928711, 13.885050773620605, 11.91382884979248, 23.00533103942871, 121.43513488769531, 10.91530990600586, 9.995409965515137, 119.3139419555664, 93.3168716430664, 9.84390926361084, 50.033870697021484, 11.555618286132812, 68.387451171875, 29.48914337158203, 39.2459602355957, 10.613767623901367, 13.228947639465332, 9.691600799560547, 7.9059295654296875, 6.993532657623291, 6.984935283660889, 314.4256286621094, 15.893099784851074, 11.39182186126709, 81.94587707519531, 35.715084075927734, 110.69357299804688, 21.136743545532227, 128.486328125, 48.98418045043945, 39.685516357421875, 50.7208251953125, 22.791515350341797, 99.97608184814453, 51.717689514160156, 22.503820419311523, 108.0389175415039, 44.20789337158203, 465.2649841308594, 217.23605346679688, 100.46730041503906, 230.08380126953125, 113.81905364990234, 298.76763916015625, 206.9467315673828, 166.6344451904297, 99.56584930419922, 140.8860321044922, 101.537109375, 221.2894744873047, 82.04934692382812, 206.29876708984375, 141.18382263183594, 358.7524719238281, 194.85699462890625, 193.35179138183594, 225.75656127929688, 314.3820495605469, 209.39080810546875, 181.3434295654297, 246.14697265625, 226.52894592285156, 212.4087677001953, 246.9994354248047, 206.1100616455078, 172.8916778564453, 187.514892578125, 223.6670684814453, 175.44300842285156, 207.5596466064453, 182.7459259033203, 188.07969665527344, 146.0265655517578, 150.01853942871094, 146.04556274414062, 36.877994537353516, 9.952476501464844, 8.998369216918945, 8.985001564025879, 13.351461410522461, 7.9331278800964355, 9.6980619430542, 10.506280899047852, 6.98610782623291, 7.829035758972168, 6.940527439117432, 7.832887649536133, 6.93073844909668, 13.892755508422852, 6.021342754364014, 11.184945106506348, 6.009202003479004, 6.0095086097717285, 6.842509746551514, 5.987033367156982, 10.31397533416748, 5.907580852508545, 5.9070868492126465, 8.4935302734375, 9.324634552001953, 5.022131443023682, 5.838098526000977, 4.986379623413086, 4.986834526062012, 5.83048677444458, 53.48796463012695, 30.16461181640625, 41.02717590332031, 181.97471618652344, 17.606653213500977, 279.8028259277344, 131.6878204345703, 116.30216217041016, 77.81842803955078, 53.6070442199707, 60.12738800048828, 27.095552444458008, 165.8251953125, 95.26995086669922, 14.220633506774902, 66.9416732788086, 56.7477912902832, 31.461580276489258, 129.92745971679688, 34.91276168823242, 37.31999969482422, 49.41885757446289, 25.094240188598633, 47.99882888793945, 44.945125579833984, 123.72879028320312, 62.55997848510742, 111.69879150390625, 62.758304595947266, 44.505374908447266, 62.33867645263672, 155.90362548828125, 208.54537963867188, 201.88839721679688, 408.61572265625, 138.49209594726562, 81.27494812011719, 176.14222717285156, 95.76293182373047, 238.5326385498047, 154.72299194335938, 253.89016723632812, 150.3067169189453, 106.44253540039062, 220.4058380126953, 189.6075897216797, 131.07774353027344, 207.16619873046875, 130.71536254882812, 156.77882385253906, 167.59275817871094, 147.3170166015625, 132.30780029296875, 170.5546875, 135.43260192871094, 163.8805694580078, 130.49339294433594, 133.5972442626953, 128.45199584960938, 29.71371841430664, 207.46133422851562, 359.2690734863281, 18.46485137939453, 82.91464233398438, 30.098068237304688, 400.1017761230469, 34.54963302612305, 12.6548490524292, 45.62834548950195, 15.216470718383789, 12.494536399841309, 9.76832103729248, 766.3001098632812, 32.57822036743164, 61.62871551513672, 55.267459869384766, 11.397658348083496, 7.836362838745117, 43.319515228271484, 456.2375793457031, 74.99467468261719, 137.7168731689453, 7.723228454589844, 50.88849639892578, 325.733154296875, 5.902985572814941, 262.4088439941406, 5.761038303375244, 11.600118637084961, 125.9040298461914, 198.95977783203125, 64.9342269897461, 98.365234375, 40.83986282348633, 60.65937805175781, 182.07911682128906, 81.39012145996094, 405.33673095703125, 197.48155212402344, 84.35709381103516, 595.7511596679688, 396.68341064453125, 233.35211181640625, 220.3170166015625, 261.5606384277344, 361.9935607910156, 322.85626220703125, 191.6315155029297, 284.7923583984375, 155.4095001220703, 306.557373046875, 165.92904663085938, 217.0575714111328, 212.8136749267578, 212.87838745117188, 218.12542724609375, 198.4479217529297, 171.51336669921875, 171.56875610351562, 177.66690063476562, 182.73617553710938, 214.5315399169922, 26.760997772216797, 18.032821655273438, 16.068984985351562, 12.161109924316406, 84.33393096923828, 10.177323341369629, 215.8464813232422, 526.1517944335938, 10.980238914489746, 10.960902214050293, 132.3945770263672, 8.957444190979004, 8.048118591308594, 7.1232805252075195, 70.63893127441406, 6.143003940582275, 13.1554536819458, 6.059091567993164, 6.04577112197876, 6.042442798614502, 23.68613052368164, 90.56729888916016, 26.88499641418457, 17.291318893432617, 5.098544120788574, 32.05636978149414, 5.005817890167236, 11.052055358886719, 4.9073262214660645, 568.3949584960938, 201.8526611328125, 43.3195915222168, 28.69145965576172, 59.66032791137695, 193.32887268066406, 348.0003662109375, 82.41324615478516, 283.25994873046875, 66.84260559082031, 138.8097686767578, 113.46995544433594, 64.2365951538086, 38.56569290161133, 58.0884895324707, 44.22542953491211, 95.92347717285156, 183.0288543701172, 127.62065887451172, 225.52496337890625, 273.7348327636719, 133.30038452148438, 184.4153289794922, 165.71099853515625, 87.00279998779297, 76.07231140136719, 135.3557586669922, 189.16287231445312, 110.92987823486328, 208.8805389404297, 134.93026733398438, 134.50376892089844, 198.27354431152344, 139.66041564941406, 190.8350830078125, 137.15452575683594, 133.1764678955078, 163.00294494628906, 143.60528564453125, 142.0247802734375, 140.59898376464844, 137.60675048828125, 134.75416564941406, 302.0017395019531, 71.96050262451172, 35.22021484375, 67.19418334960938, 14.067911148071289, 394.27239990234375, 301.102783203125, 34.06655502319336, 53.18611145019531, 13.510759353637695, 174.15643310546875, 28.062110900878906, 5.033236980438232, 35.632362365722656, 27.96101951599121, 9.226734161376953, 9.980293273925781, 13.684399604797363, 8.05859088897705, 72.6028823852539, 524.7803955078125, 78.33470916748047, 7.784021854400635, 7.615144729614258, 141.41061401367188, 30.87830352783203, 11.064037322998047, 4.964023590087891, 6.013107776641846, 6.318754196166992, 38.24164581298828, 117.59902954101562, 86.31904602050781, 59.49794006347656, 17.965579986572266, 18.45682144165039, 25.727582931518555, 17.961477279663086, 37.410099029541016, 295.3708190917969, 55.029335021972656, 65.0478744506836, 73.92792510986328, 320.20794677734375, 119.73666381835938, 158.67105102539062, 70.23104858398438, 151.42295837402344, 217.12857055664062, 227.25790405273438, 158.608642578125, 125.59217834472656, 116.05854034423828, 105.97413635253906, 141.97537231445312, 123.15332794189453, 93.09600830078125, 152.8631134033203, 123.5760726928711, 124.02307891845703, 108.4136962890625, 135.671630859375, 133.4311981201172, 114.44281005859375, 99.0785140991211, 93.31814575195312, 4.829189300537109, 4.695777893066406, 4.65944242477417, 17.362781524658203, 11.544343948364258, 5.926811695098877, 5.236289024353027, 6.657960414886475, 4.311665058135986, 8.535832405090332, 8.311753273010254, 6.948869228363037, 4.751423358917236, 14.90734577178955, 16.15970230102539, 4.7299299240112305, 12.880010604858398, 9.20533275604248, 4.660858631134033, 3.9586575031280518, 3.9473183155059814, 4.476083755493164, 3.8222882747650146, 3.8561742305755615, 7.65587043762207, 3.5134570598602295, 6.864078998565674, 10.694329261779785, 4.849903106689453, 7.229295253753662, 14.615062713623047, 9.753032684326172, 11.299576759338379, 87.61450958251953, 5.885000705718994, 72.34677124023438, 19.87656593322754, 10.017773628234863, 68.32467651367188, 126.40806579589844, 109.1036605834961, 46.80868911743164, 128.1977081298828, 46.801692962646484, 96.60442352294922, 24.899686813354492, 33.530208587646484, 112.44023895263672, 13.911934852600098, 135.12493896484375, 27.877304077148438, 96.52257537841797, 32.12028121948242, 116.2076416015625, 72.48709869384766, 101.2103500366211, 72.87670135498047, 96.22063446044922, 53.67779541015625, 92.57259368896484, 72.2493667602539, 73.4911880493164, 59.485862731933594, 94.7384033203125, 58.286502838134766, 40.10001754760742, 47.472198486328125, 54.42875671386719, 60.002723693847656, 42.7928581237793, 48.50053405761719, 62.02360916137695, 49.1482048034668, 52.4052734375, 59.91880798339844, 55.46886444091797, 49.80253601074219, 18.27446746826172, 3.85136342048645, 15.945427894592285, 14.443766593933105, 3.4840481281280518, 11.438921928405762, 5.034365653991699, 5.5192155838012695, 21.46160125732422, 3.6328420639038086, 4.741562366485596, 5.263649940490723, 5.253281116485596, 5.156217098236084, 15.810768127441406, 3.8756327629089355, 3.351022243499756, 4.308736801147461, 15.371702194213867, 2.654136896133423, 14.964828491210938, 2.6598453521728516, 7.13392972946167, 3.5001587867736816, 2.5606400966644287, 2.674135446548462, 3.496591329574585, 3.527113437652588, 3.0888512134552, 2.627804756164551, 4.401467323303223, 14.78393268585205, 10.254547119140625, 26.271671295166016, 32.776615142822266, 42.773162841796875, 5.998935222625732, 15.45529556274414, 15.191163063049316, 14.207351684570312, 94.20303344726562, 15.154918670654297, 19.470487594604492, 21.347110748291016, 39.35028076171875, 28.861913681030273, 27.431943893432617, 26.13031578063965, 35.629844665527344, 9.527937889099121, 22.380767822265625, 10.564397811889648, 9.308222770690918, 69.66480255126953, 17.528390884399414, 72.95064544677734, 12.603935241699219, 35.41581344604492, 44.01210403442383, 28.227760314941406, 41.921295166015625, 31.302473068237305, 39.58131790161133, 35.83311462402344, 25.25383758544922, 25.399625778198242, 31.071517944335938, 28.662174224853516, 28.56334114074707, 29.76268768310547, 31.799711227416992, 29.410364151000977, 26.843294143676758, 25.77726173400879, 24.51075553894043, 24.454477310180664, 11.950263977050781, 4.193736553192139, 4.5252604484558105, 3.421128034591675, 3.450176954269409, 3.1833856105804443, 56.8625602722168, 3.174907922744751, 2.6315534114837646, 3.2126853466033936, 3.1261093616485596, 4.300111293792725, 2.450700283050537, 4.882700443267822, 2.581897735595703, 3.1556894779205322, 5.81171178817749, 6.1004228591918945, 2.6033263206481934, 3.336857557296753, 2.650178909301758, 2.63580584526062, 2.5994760990142822, 2.6055095195770264, 2.573162794113159, 2.0978543758392334, 3.8212103843688965, 4.56181001663208, 3.449540376663208, 2.393725633621216, 8.58149242401123, 8.527332305908203, 28.452861785888672, 21.186851501464844, 5.033257007598877, 19.33843231201172, 10.35256290435791, 5.459051132202148, 9.628829956054688, 13.638702392578125, 22.595964431762695, 7.768868446350098, 14.919157028198242, 5.7303338050842285, 11.432833671569824, 12.95188045501709, 14.9707670211792, 19.391414642333984, 20.923765182495117, 35.5495719909668, 24.369739532470703, 35.23907470703125, 7.860993385314941, 29.45317840576172, 12.399195671081543, 31.817115783691406, 17.94135284423828, 18.643062591552734, 20.94725227355957, 26.180341720581055, 19.94992446899414, 18.93154525756836, 19.937868118286133, 21.12040901184082, 20.1756649017334, 16.086606979370117, 17.795087814331055, 16.824602127075195, 15.961469650268555, 14.940752983093262, 14.895432472229004, 14.76805591583252, 7.152077674865723, 6.105959892272949, 2.6379334926605225, 2.6506831645965576, 53.97987365722656, 2.646327495574951, 3.5193533897399902, 6.134165287017822, 3.4976022243499756, 2.641437292098999, 3.4779860973358154, 2.581184148788452, 2.038074493408203, 2.593018054962158, 2.358581066131592, 2.6863677501678467, 2.17024827003479, 17.740699768066406, 1.8123064041137695, 1.8055164813995361, 1.7348681688308716, 1.8063708543777466, 1.755229115486145, 1.812653660774231, 1.7564518451690674, 1.8001792430877686, 2.5739712715148926, 2.587573528289795, 4.628401279449463, 1.660800814628601, 1.7304507493972778, 34.91120147705078, 26.25189208984375, 4.016716003417969, 42.141571044921875, 11.496322631835938, 4.380347728729248, 10.96618366241455, 18.570077896118164, 29.83631706237793, 5.001642227172852, 10.23593807220459, 13.706247329711914, 9.93258285522461, 6.152829170227051, 7.942097187042236, 3.9931235313415527, 11.133577346801758, 32.34246063232422, 16.70917510986328, 20.386821746826172, 17.070878982543945, 17.941402435302734, 9.17046070098877, 18.620267868041992, 12.377265930175781, 13.003190040588379, 14.669814109802246, 9.857712745666504, 16.87495231628418, 16.73903465270996, 12.335793495178223, 12.788787841796875, 15.045087814331055, 14.40209674835205, 15.546223640441895, 12.67902660369873, 12.592711448669434, 11.971701622009277, 11.534998893737793, 11.532206535339355, 14.444559097290039, 6.777735233306885, 3.9683611392974854, 3.1934542655944824, 2.9970648288726807, 2.2536239624023438, 2.166459083557129, 3.1069304943084717, 2.373673439025879, 1.6220052242279053, 3.4052507877349854, 2.622498035430908, 1.6235460042953491, 1.5819655656814575, 1.6177152395248413, 3.139899492263794, 1.6130163669586182, 3.490751266479492, 3.7209179401397705, 4.4540934562683105, 2.0324199199676514, 1.7910934686660767, 1.436210036277771, 2.2517189979553223, 2.2068636417388916, 1.3807026147842407, 1.6265710592269897, 1.6238958835601807, 1.648844838142395, 4.088547229766846, 3.0005805492401123, 2.590682029724121, 7.219658374786377, 4.448103427886963, 5.417780876159668, 9.26099681854248, 29.1081485748291, 8.223264694213867, 8.980504989624023, 7.7928032875061035, 31.77107048034668, 40.43111038208008, 36.2186164855957, 19.4845027923584, 34.16301727294922, 21.447311401367188, 11.284120559692383, 35.91682052612305, 25.56141471862793, 12.414329528808594, 31.943086624145508, 9.713462829589844, 12.466994285583496, 22.94792366027832, 23.34332275390625, 6.732648849487305, 15.908663749694824, 15.316960334777832, 14.075616836547852, 11.247228622436523, 13.87734317779541, 18.934329986572266, 10.448603630065918, 12.709705352783203, 14.347887992858887, 14.44306755065918, 13.380705833435059, 11.968701362609863, 12.39338493347168, 11.056181907653809, 11.06985092163086, 4.868788242340088, 2.3738975524902344, 2.3807480335235596, 3.9523403644561768, 3.9587554931640625, 5.079897880554199, 3.1548516750335693, 2.391136646270752, 10.980849266052246, 2.3859589099884033, 2.361525535583496, 2.342317581176758, 2.26360821723938, 2.4654877185821533, 7.710005760192871, 2.0055456161499023, 1.5753631591796875, 2.2207705974578857, 3.857966423034668, 11.00025749206543, 2.3865840435028076, 1.5966821908950806, 1.5698210000991821, 2.097841501235962, 3.7024624347686768, 4.193897724151611, 1.90922212600708, 1.6200648546218872, 1.612084984779358, 1.5745550394058228, 4.366456985473633, 4.629532337188721, 2.9925239086151123, 5.292370796203613, 2.956794500350952, 3.0666391849517822, 11.293083190917969, 18.485353469848633, 11.055312156677246, 11.156352996826172, 30.24587631225586, 10.61223316192627, 13.5722074508667, 21.45704460144043, 13.456741333007812, 22.293901443481445, 14.245674133300781, 11.133430480957031, 7.776609897613525, 22.381202697753906, 12.880354881286621, 11.721714973449707, 18.08780860900879, 12.721677780151367, 14.763137817382812, 17.802886962890625, 12.276914596557617, 16.073095321655273, 13.508785247802734, 12.242857933044434, 13.20389461517334, 13.4864501953125, 12.792019844055176, 9.866876602172852, 10.150542259216309, 11.457645416259766, 10.527409553527832, 11.03287410736084, 5.652214527130127, 2.3093643188476562, 1.5799646377563477, 2.498920440673828, 1.5714308023452759, 1.5384937524795532, 1.4771919250488281, 1.5697916746139526, 1.5685147047042847, 1.5627576112747192, 1.569993495941162, 2.2893030643463135, 1.4961763620376587, 2.32822322845459, 1.5708208084106445, 9.206748008728027, 1.5230538845062256, 0.8111029863357544, 0.8100014925003052, 0.8187600374221802, 1.5997263193130493, 0.809984564781189, 1.5731176137924194, 0.8098101615905762, 0.8147076964378357, 0.8007786273956299, 0.8127914071083069, 0.8098575472831726, 0.8108412623405457, 0.8044938445091248, 2.9317235946655273, 3.702713966369629, 3.1024351119995117, 2.1613011360168457, 10.634847640991211, 1.9171791076660156, 13.252649307250977, 3.859797716140747, 1.517299771308899, 1.4602274894714355, 3.301318407058716, 3.5854880809783936, 32.200904846191406, 4.501345157623291, 9.10139274597168, 10.008918762207031, 15.39139175415039, 3.701458215713501, 9.207905769348145, 3.8105831146240234, 9.865975379943848, 13.51447582244873, 16.693866729736328, 15.562954902648926, 9.597090721130371, 10.365748405456543, 10.635762214660645, 11.999388694763184, 5.852508544921875, 9.34608268737793, 9.784164428710938, 13.623735427856445, 8.672611236572266, 9.625445365905762, 7.781631946563721, 5.499009609222412, 6.056210517883301, 10.627236366271973, 8.412140846252441, 9.337969779968262, 9.842279434204102, 8.2973051071167, 7.7548370361328125, 9.084132194519043, 8.528719902038574, 8.53589916229248, 7.808717250823975, 1.4014687538146973, 2.7915186882019043, 1.3670141696929932, 3.326716423034668, 2.789501190185547, 1.4123210906982422, 1.4178130626678467, 1.402225375175476, 1.4008500576019287, 1.4131535291671753, 1.4107049703598022, 1.4128284454345703, 2.0777437686920166, 1.4171764850616455, 1.4043179750442505, 1.3529688119888306, 1.41837739944458, 3.04158091545105, 1.4145828485488892, 1.3388913869857788, 1.2838246822357178, 1.417620062828064, 1.3164092302322388, 2.2602500915527344, 1.384252667427063, 1.414339303970337, 0.7292693853378296, 0.7338027954101562, 0.7183752655982971, 0.7315413951873779, 1.2885760068893433, 1.4205929040908813, 3.758152484893799, 2.2015953063964844, 5.5354905128479, 2.046928882598877, 2.7988977432250977, 4.183681011199951, 4.1886210441589355, 7.467083930969238, 6.8413825035095215, 5.878396034240723, 3.6196744441986084, 3.136627435684204, 2.7993979454040527, 6.7462382316589355, 2.6745753288269043, 5.077820301055908, 4.760456085205078, 2.0946426391601562, 4.002786636352539, 3.616699457168579, 3.375613212585449, 2.3201677799224854, 4.217123031616211, 4.540350914001465, 3.710683584213257, 3.2012336254119873, 2.856273651123047, 3.6117048263549805, 3.4745452404022217, 3.240466833114624, 3.231555223464966, 3.0100157260894775, 3.0979390144348145, 2.9909510612487793, 2.8940463066101074, 2.9024999141693115, 1.7273666858673096, 1.2156809568405151, 0.9730916023254395, 1.1397860050201416, 0.6274961829185486, 0.6251356601715088, 0.6263655424118042, 0.6065663695335388, 0.5527099370956421, 0.6267735362052917, 0.6285338997840881, 0.6278693079948425, 0.6284183859825134, 1.1761140823364258, 0.6283535361289978, 0.6250370740890503, 0.6273049712181091, 0.6242265105247498, 0.6238484978675842, 1.2179045677185059, 0.48458167910575867, 0.6264448761940002, 0.6271020770072937, 0.6281434893608093, 0.6245146989822388, 0.6280660033226013, 0.6275294423103333, 0.6281663179397583, 0.6249176859855652, 1.0888762474060059, 7.251399040222168, 1.5674623250961304, 2.0288286209106445, 1.6584616899490356, 2.5098273754119873, 3.547672986984253, 4.766424655914307, 2.9879629611968994, 1.2214714288711548, 1.8115047216415405, 3.063309669494629, 1.807796597480774, 2.05823016166687, 2.2828359603881836, 1.2181766033172607, 5.246527671813965, 5.467051029205322, 2.405151605606079, 3.096414804458618, 3.6422762870788574, 3.6484625339508057, 3.525413990020752, 1.1106140613555908, 5.031217575073242, 2.4718575477600098, 3.0508804321289062, 2.4738566875457764, 2.8497254848480225, 2.828843832015991, 2.4259533882141113, 2.326443910598755, 2.447183609008789, 2.771733283996582, 2.567817211151123, 2.479083299636841, 2.1314451694488525, 2.1888365745544434, 2.029026985168457, 1.1683177947998047, 1.009840965270996, 1.1863642930984497, 1.195229411125183, 0.9163878560066223, 0.6137586832046509, 1.7487155199050903, 0.6153209805488586, 0.6024785041809082, 0.6150303483009338, 0.614075243473053, 0.9234294295310974, 0.6146124005317688, 0.6095098257064819, 0.6058562397956848, 0.6130778193473816, 0.6141460537910461, 0.6125433444976807, 0.6139320135116577, 0.6071736812591553, 0.6043672561645508, 0.5895624756813049, 1.0932999849319458, 0.582024097442627, 0.5706626176834106, 0.5518338084220886, 0.6152702569961548, 0.6154460310935974, 0.6132512092590332, 0.5499099493026733, 1.7182385921478271, 0.8640077710151672, 1.9086030721664429, 3.3849802017211914, 3.2876946926116943, 1.165936827659607, 1.7088061571121216, 0.82585608959198, 3.157660722732544, 5.272265434265137, 1.10161292552948, 1.8958185911178589, 1.6165833473205566, 1.1909971237182617, 2.6335906982421875, 1.1940793991088867, 1.775551438331604, 1.1624600887298584, 1.5476685762405396, 2.4440126419067383, 1.6207313537597656, 1.1257233619689941, 2.362271785736084, 2.808140277862549, 2.661508321762085, 2.32018780708313, 2.050825834274292, 2.3301663398742676, 1.9456523656845093, 2.8247344493865967, 2.958214521408081, 2.835805654525757, 2.785796642303467, 2.4652745723724365, 2.3552091121673584, 1.9104505777359009, 1.813322901725769, 1.8537498712539673, 1.94991135597229, 1.8820292949676514, 1.8459616899490356, 1.8341776132583618, 1.8129093647003174], \"Term\": [\"emma\", \"little\", \"jane\", \"miss\", \"like\", \"think\", \"elizabeth\", \"sir\", \"good\", \"thing\", \"know\", \"rochester\", \"mother\", \"thought\", \"shall\", \"harriet\", \"fairfax\", \"darcy\", \"sure\", \"elton\", \"time\", \"elinor\", \"marianne\", \"long\", \"weston\", \"day\", \"dear\", \"night\", \"monsieur\", \"house\", \"eshton\", \"dent\", \"burns\", \"lynn\", \"ingram\", \"scatcherd\", \"missis\", \"brocklehurst\", \"storey\", \"stile\", \"celine\", \"varens\", \"miller\", \"bessie\", \"cheese\", \"amy\", \"reed\", \"eyre\", \"moors\", \"lowood\", \"bark\", \"temple\", \"poole\", \"gateshead\", \"dimly\", \"frock\", \"er\", \"carlo\", \"enveloped\", \"devoured\", \"rochester\", \"seacombe\", \"lloyd\", \"thornfield\", \"hannah\", \"adele\", \"pilot\", \"hall\", \"mason\", \"ve\", \"helen\", \"leah\", \"ll\", \"bread\", \"burnt\", \"black\", \"candle\", \"like\", \"face\", \"hair\", \"sir\", \"dark\", \"room\", \"door\", \"asked\", \"st\", \"stood\", \"master\", \"looked\", \"mary\", \"eyes\", \"near\", \"little\", \"heard\", \"night\", \"come\", \"miss\", \"house\", \"yes\", \"thought\", \"day\", \"shall\", \"time\", \"long\", \"hand\", \"saw\", \"good\", \"came\", \"think\", \"jane\", \"know\", \"head\", \"john\", \"went\", \"estrade\", \"grenier\", \"violets\", \"pile\", \"lid\", \"hole\", \"spectral\", \"sleeve\", \"demonstrative\", \"defendue\", \"remnant\", \"wheel\", \"nest\", \"boarders\", \"belles\", \"fifine\", \"hail\", \"platform\", \"bourne\", \"problem\", \"sternly\", \"trod\", \"naked\", \"allee\", \"fiacre\", \"actress\", \"jar\", \"sleeper\", \"appealing\", \"externes\", \"classe\", \"rosine\", \"fossette\", \"dr\", \"crecy\", \"madame\", \"paul\", \"beck\", \"emanuel\", \"rue\", \"paulina\", \"pensionnat\", \"monsieur\", \"pupils\", \"wont\", \"desk\", \"fanshawe\", \"nun\", \"graham\", \"doctor\", \"villette\", \"reuter\", \"corridor\", \"bassompierre\", \"lesson\", \"bretton\", \"est\", \"english\", \"ginevra\", \"teacher\", \"vous\", \"eye\", \"hand\", \"night\", \"little\", \"lucy\", \"garden\", \"eyes\", \"white\", \"thought\", \"knew\", \"like\", \"door\", \"light\", \"know\", \"day\", \"face\", \"good\", \"took\", \"saw\", \"long\", \"looked\", \"half\", \"think\", \"heart\", \"time\", \"moment\", \"came\", \"john\", \"abbey\", \"churchill\", \"knightley\", \"hawkins\", \"randalls\", \"surprized\", \"weston\", \"surprize\", \"richmond\", \"taylor\", \"ford\", \"larkins\", \"smallridge\", \"emma\", \"enscombe\", \"isabella\", \"cole\", \"patty\", \"longstaple\", \"donwell\", \"harriet\", \"martin\", \"hartfield\", \"cox\", \"goddard\", \"elton\", \"windsor\", \"woodhouse\", \"unceasing\", \"grandmama\", \"bates\", \"frank\", \"perry\", \"highbury\", \"campbell\", \"robert\", \"body\", \"smith\", \"thing\", \"fairfax\", \"ferrars\", \"miss\", \"think\", \"sure\", \"dear\", \"great\", \"know\", \"good\", \"oh\", \"time\", \"friend\", \"little\", \"father\", \"jane\", \"man\", \"soon\", \"thought\", \"shall\", \"better\", \"young\", \"come\", \"day\", \"willoughby\", \"cleveland\", \"allenham\", \"combe\", \"denny\", \"barton\", \"palmers\", \"jennings\", \"marianne\", \"unhappiness\", \"magna\", \"brandon\", \"jenkinson\", \"somersetshire\", \"apologising\", \"palmer\", \"curricle\", \"entreaty\", \"recital\", \"enquire\", \"unwillingly\", \"devonshire\", \"middleton\", \"delaford\", \"middletons\", \"enquiry\", \"margaret\", \"effusions\", \"employments\", \"enumerating\", \"elinor\", \"dashwood\", \"norland\", \"dashwoods\", \"cottage\", \"colonel\", \"sister\", \"behaviour\", \"mother\", \"park\", \"edward\", \"affection\", \"surprise\", \"misery\", \"engagement\", \"civility\", \"town\", \"lady\", \"family\", \"soon\", \"time\", \"letter\", \"house\", \"felt\", \"spirits\", \"marriage\", \"left\", \"day\", \"feelings\", \"good\", \"mind\", \"moment\", \"know\", \"heart\", \"little\", \"away\", \"john\", \"think\", \"long\", \"room\", \"shall\", \"man\", \"great\", \"bingley\", \"netherfield\", \"hurst\", \"lucas\", \"kent\", \"darcy\", \"bennet\", \"fitzwilliam\", \"meryton\", \"lucases\", \"wickham\", \"phillips\", \"nonsensical\", \"hertfordshire\", \"officers\", \"bennets\", \"judgement\", \"monday\", \"chooses\", \"longbourn\", \"elizabeth\", \"lizzy\", \"gracechurch\", \"intimately\", \"collins\", \"bourgh\", \"acquaintances\", \"handsomer\", \"militia\", \"corps\", \"pemberley\", \"lydia\", \"catherine\", \"gardiner\", \"caroline\", \"regiment\", \"forster\", \"saturday\", \"everybody\", \"jane\", \"charlotte\", \"uncle\", \"sisters\", \"miss\", \"family\", \"sister\", \"aunt\", \"lady\", \"think\", \"know\", \"soon\", \"dear\", \"father\", \"friend\", \"man\", \"young\", \"replied\", \"good\", \"great\", \"shall\", \"sure\", \"time\", \"little\", \"room\", \"day\", \"mother\", \"skies\", \"atom\", \"healthful\", \"vandenhuten\", \"marchmont\", \"professional\", \"honeymoon\", \"deck\", \"philanthropy\", \"handwriting\", \"chestnut\", \"insane\", \"unmarried\", \"india\", \"victor\", \"abide\", \"missionary\", \"yorke\", \"maniac\", \"crack\", \"contains\", \"suns\", \"imbecile\", \"mound\", \"quarrelled\", \"reminiscences\", \"beer\", \"rosamond\", \"assign\", \"ambitious\", \"anguish\", \"bone\", \"indian\", \"god\", \"maker\", \"graham\", \"higher\", \"terrasse\", \"bretton\", \"life\", \"love\", \"papa\", \"jane\", \"live\", \"heart\", \"existence\", \"loved\", \"long\", \"farewell\", \"know\", \"sun\", \"shall\", \"death\", \"like\", \"hand\", \"thought\", \"look\", \"good\", \"letter\", \"time\", \"come\", \"man\", \"mind\", \"little\", \"night\", \"strange\", \"feel\", \"sir\", \"saw\", \"read\", \"old\", \"day\", \"home\", \"away\", \"think\", \"soon\", \"left\", \"walravens\", \"garcon\", \"isidore\", \"justine\", \"betook\", \"alfred\", \"non\", \"soit\", \"les\", \"peut\", \"troop\", \"oratory\", \"quel\", \"soir\", \"marie\", \"felicitations\", \"treats\", \"shrine\", \"pierre\", \"storeroom\", \"qu\", \"magi\", \"ou\", \"leaved\", \"grimaces\", \"numero\", \"mystic\", \"ces\", \"etre\", \"infirm\", \"equivalent\", \"des\", \"cholmondeley\", \"que\", \"et\", \"vous\", \"etes\", \"mon\", \"priest\", \"ne\", \"madame\", \"il\", \"pas\", \"je\", \"beck\", \"ginevra\", \"est\", \"la\", \"paul\", \"elle\", \"emanuel\", \"mais\", \"moi\", \"like\", \"fanshawe\", \"little\", \"le\", \"knew\", \"day\", \"turned\", \"thought\", \"old\", \"know\", \"good\", \"stood\", \"round\", \"long\", \"away\", \"looked\", \"man\", \"time\", \"shall\", \"look\", \"night\", \"far\", \"door\", \"belgian\", \"devoirs\", \"patrician\", \"morals\", \"flamand\", \"dissimulation\", \"pelet\", \"subside\", \"irritating\", \"rests\", \"sarah\", \"growth\", \"mud\", \"sarcastic\", \"gall\", \"assiduous\", \"belgium\", \"director\", \"deformity\", \"parisian\", \"deportment\", \"repugnance\", \"tutor\", \"extorted\", \"bigben\", \"mischievous\", \"external\", \"serenity\", \"punctuality\", \"promptitude\", \"zoraide\", \"intelligent\", \"hunsden\", \"crimsworth\", \"graces\", \"frances\", \"directress\", \"prosperity\", \"mental\", \"establishment\", \"pupils\", \"mien\", \"mdlle\", \"capacity\", \"reuter\", \"pupil\", \"features\", \"english\", \"certain\", \"thought\", \"having\", \"like\", \"boys\", \"man\", \"degree\", \"little\", \"poor\", \"pleasure\", \"eyes\", \"time\", \"young\", \"mind\", \"saw\", \"day\", \"good\", \"face\", \"long\", \"looked\", \"soon\", \"heart\", \"felt\", \"look\", \"mender\", \"switzerland\", \"insight\", \"wider\", \"frances\", \"shelves\", \"franc\", \"swiss\", \"evans\", \"interrupting\", \"rainbow\", \"fee\", \"joys\", \"dishes\", \"boasting\", \"embers\", \"enlarged\", \"henri\", \"swung\", \"administered\", \"lui\", \"maintaining\", \"exchanging\", \"comments\", \"attics\", \"concisely\", \"consists\", \"diffused\", \"scotch\", \"publicity\", \"notre\", \"hunsden\", \"mdlle\", \"august\", \"monsieur\", \"lace\", \"pieces\", \"cup\", \"mademoiselle\", \"english\", \"francs\", \"reuter\", \"england\", \"diana\", \"brussels\", \"rivers\", \"grate\", \"french\", \"little\", \"old\", \"long\", \"yes\", \"shall\", \"mary\", \"time\", \"asked\", \"evening\", \"house\", \"live\", \"think\", \"like\", \"speak\", \"tell\", \"day\", \"room\", \"good\", \"knew\", \"soon\", \"come\", \"night\", \"came\", \"charade\", \"gruel\", \"leg\", \"unwholesome\", \"bathing\", \"colds\", \"hardships\", \"boiled\", \"knightleys\", \"prose\", \"richard\", \"disposal\", \"poet\", \"sacrifices\", \"performances\", \"exploring\", \"winning\", \"headache\", \"riddle\", \"carter\", \"sparkled\", \"anecdote\", \"triumphantly\", \"truths\", \"copied\", \"undone\", \"reckon\", \"lengths\", \"harp\", \"sickly\", \"wives\", \"talker\", \"likeness\", \"eltons\", \"talents\", \"clever\", \"fairfax\", \"parties\", \"perry\", \"sea\", \"dear\", \"jane\", \"emma\", \"woodhouse\", \"thing\", \"elton\", \"bates\", \"little\", \"shall\", \"children\", \"miss\", \"thousand\", \"body\", \"like\", \"know\", \"inquiry\", \"sure\", \"oh\", \"let\", \"air\", \"harriet\", \"good\", \"pretty\", \"evening\", \"soon\", \"time\", \"think\", \"better\", \"great\", \"away\", \"come\", \"selina\", \"cultivated\", \"boarder\", \"surry\", \"barouche\", \"swiss\", \"nation\", \"fathers\", \"maple\", \"devoting\", \"pomp\", \"denote\", \"ninety\", \"kings\", \"bath\", \"comprehending\", \"military\", \"panel\", \"luxury\", \"grove\", \"seas\", \"flown\", \"antagonist\", \"protestants\", \"belgium\", \"alliance\", \"dingy\", \"explore\", \"sneered\", \"pushing\", \"resources\", \"rome\", \"nash\", \"musical\", \"associations\", \"greatness\", \"highbury\", \"elton\", \"society\", \"hartfield\", \"good\", \"country\", \"woodhouse\", \"emma\", \"sort\", \"like\", \"woman\", \"body\", \"church\", \"little\", \"weston\", \"people\", \"thought\", \"father\", \"great\", \"miss\", \"harriet\", \"think\", \"house\", \"love\", \"thing\", \"shall\", \"man\", \"world\", \"place\", \"time\", \"way\", \"know\", \"briggs\", \"portfolio\", \"jump\", \"kisses\", \"adoption\", \"rays\", \"fetters\", \"gall\", \"storms\", \"decease\", \"militia\", \"committed\", \"funeral\", \"captain\", \"experiment\", \"estate\", \"chances\", \"dishevelled\", \"military\", \"scowled\", \"relatives\", \"appreciating\", \"generations\", \"shudder\", \"banker\", \"recurrence\", \"petit\", \"luxuries\", \"aspire\", \"exchanging\", \"janet\", \"cake\", \"lodge\", \"swelled\", \"pounds\", \"surgeon\", \"adele\", \"farewell\", \"including\", \"rumour\", \"henry\", \"rough\", \"sir\", \"property\", \"thousand\", \"fortune\", \"rochester\", \"veil\", \"dashwood\", \"kiss\", \"years\", \"yes\", \"long\", \"jane\", \"family\", \"father\", \"life\", \"come\", \"ll\", \"place\", \"john\", \"little\", \"old\", \"away\", \"fairfax\", \"easy\", \"son\", \"good\", \"night\", \"shall\", \"like\", \"way\", \"half\", \"think\", \"time\", \"miss\", \"felt\", \"amounted\", \"boards\", \"enfin\", \"attic\", \"climax\", \"philanthropist\", \"vicar\", \"assez\", \"collation\", \"chink\", \"vases\", \"complacent\", \"throne\", \"nailed\", \"legitimate\", \"glide\", \"nations\", \"carter\", \"rubber\", \"encore\", \"rats\", \"copying\", \"submissive\", \"demoiselles\", \"enormous\", \"communicative\", \"despotism\", \"belgians\", \"fifth\", \"enlarge\", \"cloaks\", \"messieurs\", \"bien\", \"dawn\", \"est\", \"limited\", \"boys\", \"pelet\", \"hunsden\", \"night\", \"look\", \"old\", \"laugh\", \"et\", \"windows\", \"like\", \"que\", \"looked\", \"sir\", \"superiority\", \"head\", \"began\", \"hands\", \"curtain\", \"house\", \"thought\", \"speak\", \"answer\", \"self\", \"little\", \"time\", \"way\", \"think\", \"door\", \"good\", \"day\", \"people\", \"long\", \"document\", \"bedrooms\", \"agonies\", \"brushed\", \"enlarge\", \"unprepared\", \"aerial\", \"forwarded\", \"resided\", \"chalk\", \"richer\", \"cheap\", \"sixpence\", \"preparations\", \"housekeeping\", \"plebeian\", \"airing\", \"lighting\", \"sickening\", \"expenses\", \"nobleman\", \"tranquilly\", \"xvii\", \"discharging\", \"scrape\", \"unkind\", \"amazing\", \"fulfil\", \"unfrequently\", \"annum\", \"pounds\", \"elderly\", \"millcote\", \"salary\", \"shire\", \"thornfield\", \"year\", \"comfortable\", \"involuntarily\", \"income\", \"thousand\", \"assistance\", \"getting\", \"fortnight\", \"tied\", \"sure\", \"mother\", \"expect\", \"live\", \"certainly\", \"rochester\", \"fairfax\", \"spectacles\", \"think\", \"kept\", \"father\", \"dashwood\", \"half\", \"lady\", \"years\", \"new\", \"kind\", \"little\", \"shall\", \"thing\", \"given\", \"house\", \"hands\", \"peak\", \"lied\", \"portfolio\", \"average\", \"harangue\", \"despotism\", \"drawings\", \"albion\", \"dishevelled\", \"enounced\", \"reluctantly\", \"amour\", \"paramount\", \"slippery\", \"confidential\", \"regularity\", \"scrupled\", \"eyelid\", \"inflicting\", \"reminiscences\", \"conversations\", \"reported\", \"tints\", \"expanse\", \"obeying\", \"mal\", \"paragraph\", \"levity\", \"interior\", \"contour\", \"traced\", \"propre\", \"elle\", \"henri\", \"georgiana\", \"visage\", \"pencil\", \"bracelet\", \"mdlle\", \"monsieur\", \"sketch\", \"directress\", \"secured\", \"capacity\", \"mademoiselle\", \"firmness\", \"accent\", \"hints\", \"pictures\", \"book\", \"eliza\", \"volume\", \"natural\", \"asked\", \"course\", \"wanted\", \"english\", \"word\", \"scarcely\", \"good\", \"little\", \"know\", \"time\", \"saw\", \"day\", \"doubt\", \"power\", \"voice\", \"thought\", \"young\", \"look\", \"face\", \"looked\"], \"Total\": [836.0, 1711.0, 931.0, 1535.0, 1318.0, 1312.0, 657.0, 596.0, 1349.0, 776.0, 1437.0, 357.0, 672.0, 1136.0, 920.0, 510.0, 361.0, 424.0, 614.0, 370.0, 1315.0, 695.0, 576.0, 934.0, 427.0, 1058.0, 587.0, 622.0, 272.0, 753.0, 29.769678115844727, 29.768342971801758, 32.7453498840332, 20.79205322265625, 89.65486907958984, 23.765348434448242, 20.78993034362793, 56.33330154418945, 17.764951705932617, 14.803709983825684, 14.798888206481934, 12.804265975952148, 24.786771774291992, 131.2548065185547, 11.800695419311523, 10.819720268249512, 129.76116943359375, 101.50421905517578, 10.80615234375, 55.07012939453125, 12.724902153015137, 75.52149963378906, 32.59001541137695, 43.490379333496094, 11.798227310180664, 14.716060638427734, 10.79045295715332, 8.819639205932617, 7.823838233947754, 7.819483280181885, 357.6254577636719, 17.81000328063965, 12.80346965789795, 96.67613220214844, 41.163883209228516, 132.3813934326172, 24.08167839050293, 173.19212341308594, 60.76022720336914, 48.33586120605469, 63.40473937988281, 26.796537399291992, 146.99009704589844, 72.96050262451172, 26.528215408325195, 181.7585906982422, 62.30686950683594, 1318.322021484375, 499.7835693359375, 188.7444305419922, 596.8228759765625, 229.2715301513672, 893.5274047851562, 537.1060180664062, 396.8655700683594, 192.40350341796875, 324.0571594238281, 203.36050415039062, 696.6025390625, 149.65667724609375, 639.0067138671875, 363.0433349609375, 1711.303955078125, 625.4179077148438, 622.1301879882812, 829.6066284179688, 1535.201171875, 753.0234985351562, 597.40869140625, 1136.64501953125, 1058.3133544921875, 920.8321533203125, 1315.1287841796875, 934.7659912109375, 617.955322265625, 778.388671875, 1349.9097900390625, 691.6630859375, 1312.843017578125, 931.6487426757812, 1437.9232177734375, 408.0291442871094, 626.8323364257812, 495.0291442871094, 38.79080581665039, 10.847350120544434, 9.85464096069336, 9.848904609680176, 14.846787452697754, 8.842225074768066, 10.824058532714844, 11.806361198425293, 7.850949287414551, 8.838369369506836, 7.837658405303955, 8.847582817077637, 7.829840183258057, 15.727578163146973, 6.852334022521973, 12.742515563964844, 6.850261688232422, 6.851779937744141, 7.804251194000244, 6.830964088439941, 11.823237419128418, 6.825112342834473, 6.831019878387451, 9.834376335144043, 10.836541175842285, 5.846545219421387, 6.821274280548096, 5.83017635345459, 5.850768089294434, 6.848695278167725, 63.9361572265625, 36.180206298828125, 49.973873138427734, 234.76907348632812, 21.578933715820312, 400.6318054199219, 180.87693786621094, 162.0494384765625, 106.37031555175781, 72.66860961914062, 83.62407684326172, 35.618370056152344, 272.3963317871094, 152.60523986816406, 17.592329025268555, 102.84416198730469, 85.21279907226562, 43.60260772705078, 224.62210083007812, 49.4596061706543, 53.469329833984375, 75.3522720336914, 33.92752456665039, 74.15609741210938, 68.99417114257812, 241.54403686523438, 104.93951416015625, 223.40008544921875, 108.48047637939453, 71.98876190185547, 112.77458190917969, 399.3758850097656, 617.955322265625, 622.1301879882812, 1711.303955078125, 379.02166748046875, 174.7835693359375, 639.0067138671875, 236.55477905273438, 1136.64501953125, 547.4459228515625, 1318.322021484375, 537.1060180664062, 309.66827392578125, 1437.9232177734375, 1058.3133544921875, 499.7835693359375, 1349.9097900390625, 497.52386474609375, 778.388671875, 934.7659912109375, 696.6025390625, 589.8003540039062, 1312.843017578125, 655.045166015625, 1315.1287841796875, 582.5032958984375, 691.6630859375, 626.8323364257812, 31.300825119018555, 218.98556518554688, 379.73455810546875, 19.52112579345703, 88.29247283935547, 32.132503509521484, 427.5873107910156, 37.00839614868164, 13.620099067687988, 49.45222854614258, 16.570417404174805, 13.623725891113281, 10.664054870605469, 836.7694091796875, 35.68390655517578, 67.50457763671875, 60.71664047241211, 12.638361930847168, 8.69686222076416, 48.16613006591797, 510.0738525390625, 84.01485443115234, 154.5937042236328, 8.71013069152832, 57.683006286621094, 370.42205810546875, 6.743752479553223, 300.20428466796875, 6.622170448303223, 13.409276008605957, 145.85780334472656, 234.0853271484375, 76.87508392333984, 119.58160400390625, 50.64103698730469, 78.72866821289062, 271.91015625, 112.86752319335938, 776.861572265625, 361.6500244140625, 130.11131286621094, 1535.201171875, 1312.843017578125, 614.3060302734375, 587.644287109375, 824.400634765625, 1437.9232177734375, 1349.9097900390625, 561.019775390625, 1315.1287841796875, 439.7362976074219, 1711.303955078125, 506.703857421875, 931.6487426757812, 906.4302978515625, 928.2269897460938, 1136.64501953125, 920.8321533203125, 616.3026123046875, 664.60986328125, 829.6066284179688, 1058.3133544921875, 221.08457946777344, 28.354761123657227, 19.205665588378906, 17.161479949951172, 13.080284118652344, 91.373046875, 11.046479225158691, 234.89422607421875, 576.5379638671875, 12.051371574401855, 12.059596061706543, 147.20050048828125, 9.982404708862305, 8.999185562133789, 7.978909015655518, 79.12556457519531, 6.9673991203308105, 15.082303047180176, 6.966081619262695, 6.962825775146484, 6.962237358093262, 27.318166732788086, 104.5054931640625, 31.301280975341797, 20.159482955932617, 5.9468159675598145, 37.40046691894531, 5.851457118988037, 13.02039623260498, 5.806338310241699, 695.29541015625, 251.8048858642578, 53.60640335083008, 37.27101135253906, 85.87185668945312, 312.8284912109375, 600.0645141601562, 148.11642456054688, 672.6717529296875, 124.50059509277344, 318.2149353027344, 265.71734619140625, 131.6837615966797, 66.10232543945312, 116.63262939453125, 80.49822235107422, 241.1017303466797, 629.2303466796875, 384.7996826171875, 928.2269897460938, 1315.1287841796875, 431.123291015625, 753.0234985351562, 669.9373168945312, 229.3802490234375, 186.5703125, 539.5075073242188, 1058.3133544921875, 383.83013916015625, 1349.9097900390625, 572.1754760742188, 582.5032958984375, 1437.9232177734375, 655.045166015625, 1711.303955078125, 678.7371215820312, 626.8323364257812, 1312.843017578125, 934.7659912109375, 893.5274047851562, 920.8321533203125, 906.4302978515625, 824.400634765625, 311.9712829589844, 75.07890319824219, 37.456298828125, 71.9843978881836, 15.093209266662598, 424.2189025878906, 328.7286682128906, 37.47894287109375, 58.701419830322266, 15.093069076538086, 198.3105926513672, 32.3942985534668, 5.904942989349365, 42.49775314331055, 33.38615036010742, 11.026554107666016, 12.043425559997559, 16.571176528930664, 9.86921215057373, 89.91706085205078, 657.771240234375, 99.24940490722656, 9.887314796447754, 9.731008529663086, 182.5406036376953, 40.551025390625, 14.956976890563965, 6.781408786773682, 8.467253684997559, 8.917370796203613, 54.708499908447266, 174.6694793701172, 132.86032104492188, 97.29602813720703, 26.032609939575195, 26.942176818847656, 40.47774124145508, 26.727510452270508, 67.10507202148438, 931.6487426757812, 115.73534393310547, 154.67459106445312, 188.2212677001953, 1535.201171875, 384.7996826171875, 600.0645141601562, 182.3897705078125, 629.2303466796875, 1312.843017578125, 1437.9232177734375, 928.2269897460938, 587.644287109375, 506.703857421875, 439.7362976074219, 906.4302978515625, 664.60986328125, 352.7425231933594, 1349.9097900390625, 824.400634765625, 920.8321533203125, 614.3060302734375, 1315.1287841796875, 1711.303955078125, 893.5274047851562, 1058.3133544921875, 672.6717529296875, 5.7576398849487305, 5.740237712860107, 5.736391067504883, 21.428464889526367, 14.61778450012207, 7.533020973205566, 6.6626296043396, 8.583590507507324, 5.755771160125732, 11.47495174407959, 11.432351112365723, 9.574287414550781, 6.555946350097656, 20.83116912841797, 23.097930908203125, 6.767234802246094, 18.47890853881836, 13.214497566223145, 6.756846904754639, 5.773820400238037, 5.788516521453857, 6.574251174926758, 5.639387130737305, 5.776914119720459, 11.588152885437012, 5.360927581787109, 10.657342910766602, 16.63462257385254, 7.74060583114624, 11.57530403137207, 24.608640670776367, 16.499784469604492, 19.472726821899414, 227.45025634765625, 9.470556259155273, 224.62210083007812, 43.800933837890625, 18.672204971313477, 241.54403686523438, 580.682373046875, 569.2644653320312, 171.39402770996094, 931.6487426757812, 210.7229461669922, 655.045166015625, 78.88874053955078, 130.2869110107422, 934.7659912109375, 32.0369873046875, 1437.9232177734375, 103.91436767578125, 920.8321533203125, 136.39418029785156, 1318.322021484375, 617.955322265625, 1136.64501953125, 637.3973999023438, 1349.9097900390625, 431.123291015625, 1315.1287841796875, 829.6066284179688, 906.4302978515625, 572.1754760742188, 1711.303955078125, 622.1301879882812, 252.80751037597656, 401.04583740234375, 596.8228759765625, 778.388671875, 317.510009765625, 473.1364440917969, 1058.3133544921875, 494.7293701171875, 678.7371215820312, 1312.843017578125, 928.2269897460938, 539.5075073242188, 22.174894332885742, 5.274179458618164, 22.496164321899414, 21.751073837280273, 5.338650226593018, 17.92432975769043, 7.984318733215332, 9.049799919128418, 36.327239990234375, 6.172605037689209, 8.142569541931152, 9.0934419631958, 9.087804794311523, 9.092105865478516, 28.373945236206055, 7.175186634063721, 6.313762664794922, 8.185981750488281, 29.632099151611328, 5.125701904296875, 29.250530242919922, 5.257888317108154, 14.196311950683594, 7.047276496887207, 5.165456771850586, 5.41389799118042, 7.123236179351807, 7.209899425506592, 6.395450592041016, 5.4419684410095215, 9.18675422668457, 32.22260284423828, 22.11138916015625, 59.55167770385742, 81.30491638183594, 112.77458190917969, 12.96038818359375, 37.25034713745117, 36.60790252685547, 34.5633544921875, 400.6318054199219, 41.166812896728516, 58.13836669921875, 69.32058715820312, 162.0494384765625, 108.48047637939453, 104.93951416015625, 102.46637725830078, 180.87693786621094, 23.755338668823242, 106.37031555175781, 30.31931495666504, 24.504737854003906, 1318.322021484375, 85.21279907226562, 1711.303955078125, 44.86812973022461, 547.4459228515625, 1058.3133544921875, 337.9656066894531, 1136.64501953125, 473.1364440917969, 1437.9232177734375, 1349.9097900390625, 324.0571594238281, 352.5898132324219, 934.7659912109375, 678.7371215820312, 696.6025390625, 906.4302978515625, 1315.1287841796875, 920.8321533203125, 637.3973999023438, 622.1301879882812, 463.09539794921875, 537.1060180664062, 14.90865707397461, 6.087055206298828, 6.838160037994385, 5.180847644805908, 5.310677528381348, 5.342785358428955, 99.46903228759766, 6.153700828552246, 5.127634525299072, 6.361318588256836, 6.376720428466797, 9.057991981506348, 5.34989595413208, 10.81920337677002, 5.853927135467529, 7.246120929718018, 13.611087799072266, 14.40955924987793, 6.195683479309082, 7.952080726623535, 6.339229106903076, 6.3934245109558105, 6.309933662414551, 6.394271373748779, 6.38965368270874, 5.39025354385376, 9.894487380981445, 11.859428405761719, 9.153077125549316, 6.4279327392578125, 26.616283416748047, 28.134946823120117, 138.29922485351562, 95.93534851074219, 15.503678321838379, 107.11143493652344, 43.99851989746094, 17.987207412719727, 41.35956573486328, 70.12010192871094, 152.60523986816406, 31.045225143432617, 106.47109985351562, 21.04556655883789, 75.3522720336914, 94.93531799316406, 129.08169555664062, 223.40008544921875, 336.67340087890625, 1136.64501953125, 538.3978271484375, 1318.322021484375, 41.769229888916016, 906.4302978515625, 141.6651153564453, 1711.303955078125, 389.216064453125, 448.6188049316406, 639.0067138671875, 1315.1287841796875, 664.60986328125, 572.1754760742188, 778.388671875, 1058.3133544921875, 1349.9097900390625, 499.7835693359375, 934.7659912109375, 696.6025390625, 928.2269897460938, 655.045166015625, 669.9373168945312, 637.3973999023438, 8.880858421325684, 10.387948036193848, 5.043181419372559, 5.258050441741943, 107.11143493652344, 5.42957878112793, 7.2495269775390625, 12.648153305053711, 7.953237533569336, 6.034482955932617, 8.3627290725708, 6.463604927062988, 5.537590503692627, 7.1305928230285645, 6.551836967468262, 7.474024772644043, 6.127118110656738, 50.113162994384766, 5.226661682128906, 5.329023838043213, 5.218753337860107, 5.442558288574219, 5.358584880828857, 5.573280334472656, 5.466521263122559, 5.621156692504883, 8.26562786102295, 8.311975479125977, 15.000877380371094, 5.388843536376953, 5.618088722229004, 138.29922485351562, 106.47109985351562, 13.935810089111328, 272.3963317871094, 55.10393524169922, 16.638469696044922, 54.349998474121094, 114.24453735351562, 223.40008544921875, 22.20827293395996, 75.3522720336914, 124.0102310180664, 73.61128997802734, 35.748878479003906, 58.76238250732422, 16.743793487548828, 156.88279724121094, 1711.303955078125, 473.1364440917969, 934.7659912109375, 597.40869140625, 920.8321533203125, 149.65667724609375, 1315.1287841796875, 396.8655700683594, 484.99676513671875, 753.0234985351562, 210.7229461669922, 1312.843017578125, 1318.322021484375, 446.22381591796875, 544.8726196289062, 1058.3133544921875, 893.5274047851562, 1349.9097900390625, 547.4459228515625, 928.2269897460938, 829.6066284179688, 622.1301879882812, 691.6630859375, 19.413280487060547, 10.028387069702148, 8.729364395141602, 7.62830114364624, 8.042825698852539, 6.196227073669434, 6.195488452911377, 8.991783142089844, 7.153811931610107, 5.0594482421875, 10.766900062561035, 8.325845718383789, 5.295548915863037, 5.185052871704102, 5.383443355560303, 10.50771713256836, 5.411439895629883, 11.761398315429688, 12.60734748840332, 15.17688274383545, 7.1436614990234375, 6.327371120452881, 5.167416095733643, 8.263511657714844, 8.164620399475098, 5.168034076690674, 6.216351509094238, 6.2676520347595215, 6.389286994934082, 15.849233627319336, 11.98853874206543, 10.690346717834473, 37.12485885620117, 21.288288116455078, 29.992637634277344, 61.959571838378906, 361.6500244140625, 61.50328826904297, 76.87508392333984, 62.895809173583984, 587.644287109375, 931.6487426757812, 836.7694091796875, 300.20428466796875, 776.861572265625, 370.42205810546875, 145.85780334472656, 1711.303955078125, 920.8321533203125, 209.53680419921875, 1535.201171875, 133.40170288085938, 271.91015625, 1318.322021484375, 1437.9232177734375, 62.18060302734375, 614.3060302734375, 561.019775390625, 463.2886657714844, 262.66278076171875, 510.0738525390625, 1349.9097900390625, 232.61605834960938, 484.99676513671875, 928.2269897460938, 1315.1287841796875, 1312.843017578125, 616.3026123046875, 824.400634765625, 678.7371215820312, 829.6066284179688, 9.469255447387695, 5.1357340812683105, 5.229375839233398, 8.711687088012695, 9.403914451599121, 12.648153305053711, 7.8579630851745605, 6.034546375274658, 27.96377182006836, 6.084141254425049, 6.176268100738525, 6.192861080169678, 6.104960918426514, 7.125715255737305, 22.538331985473633, 6.299413204193115, 5.069690704345703, 7.229872703552246, 12.642607688903809, 36.859561920166016, 8.018157958984375, 5.386394500732422, 5.412098407745361, 7.291806221008301, 13.611087799072266, 15.585887908935547, 7.190013408660889, 6.3801445960998535, 6.415792465209961, 6.281545162200928, 18.21889877319336, 20.613739013671875, 12.904328346252441, 25.891559600830078, 13.654312133789062, 14.624344825744629, 119.58160400390625, 370.42205810546875, 149.3767852783203, 154.5937042236328, 1349.9097900390625, 169.73756408691406, 300.20428466796875, 836.7694091796875, 358.0980529785156, 1318.322021484375, 469.1194763183594, 271.91015625, 114.92034912109375, 1711.303955078125, 427.5873107910156, 338.3746337890625, 1136.64501953125, 506.703857421875, 824.400634765625, 1535.201171875, 510.0738525390625, 1312.843017578125, 753.0234985351562, 569.2644653320312, 776.861572265625, 920.8321533203125, 906.4302978515625, 414.5849304199219, 506.35369873046875, 1315.1287841796875, 686.8895263671875, 1437.9232177734375, 14.0886869430542, 6.977304458618164, 4.855775356292725, 7.927911281585693, 5.3579936027526855, 5.30322265625, 5.3785400390625, 5.853927135467529, 7.156390190124512, 7.360223770141602, 8.467253684997559, 12.388309478759766, 8.30708122253418, 13.10527515411377, 9.276625633239746, 54.90135192871094, 9.212017059326172, 5.02720308303833, 5.069690704345703, 5.248661994934082, 10.260601043701172, 5.265372276306152, 10.231416702270508, 5.271757125854492, 5.331014633178711, 5.248351097106934, 5.33253288269043, 5.335961818695068, 5.372861862182617, 5.358584880828857, 19.836727142333984, 26.769025802612305, 22.93050765991211, 15.692163467407227, 93.47061157226562, 13.974093437194824, 132.3813934326172, 32.0369873046875, 11.028505325317383, 10.688441276550293, 30.223051071166992, 34.1537971496582, 596.8228759765625, 46.386653900146484, 133.40170288085938, 169.942626953125, 357.6254577636719, 37.5401725769043, 251.8048858642578, 47.84293746948242, 314.5030212402344, 597.40869140625, 934.7659912109375, 931.6487426757812, 384.7996826171875, 506.703857421875, 580.682373046875, 829.6066284179688, 146.99009704589844, 506.35369873046875, 626.8323364257812, 1711.303955078125, 473.1364440917969, 678.7371215820312, 361.6500244140625, 133.25706481933594, 193.09442138671875, 1349.9097900390625, 622.1301879882812, 920.8321533203125, 1318.322021484375, 686.8895263671875, 589.8003540039062, 1312.843017578125, 1315.1287841796875, 1535.201171875, 669.9373168945312, 5.182773590087891, 10.591093063354492, 5.250540733337402, 12.871136665344238, 11.553813934326172, 5.885690689086914, 5.939058303833008, 5.8777360916137695, 5.876871109008789, 5.9679083824157715, 5.959191799163818, 6.013417720794678, 8.901921272277832, 6.194113731384277, 6.2072906494140625, 6.233053684234619, 6.864881992340088, 15.17688274383545, 7.083588600158691, 7.0490899085998535, 7.038091659545898, 8.011760711669922, 8.00645923614502, 14.17432689666748, 8.793272972106934, 9.61223030090332, 4.963425636291504, 5.001089096069336, 4.96854829788208, 5.079658031463623, 9.028875350952148, 11.854812622070312, 45.5371208190918, 22.159881591796875, 104.93951416015625, 22.12799835205078, 41.769229888916016, 99.46903228759766, 138.29922485351562, 622.1301879882812, 637.3973999023438, 473.1364440917969, 123.44445037841797, 81.30491638183594, 60.90632629394531, 1318.322021484375, 59.55167770385742, 696.6025390625, 596.8228759765625, 28.1126708984375, 408.0291442871094, 300.80133056640625, 230.39321899414062, 48.22191619873047, 753.0234985351562, 1136.64501953125, 446.22381591796875, 352.249755859375, 214.77151489257812, 1711.303955078125, 1315.1287841796875, 686.8895263671875, 1312.843017578125, 537.1060180664062, 1349.9097900390625, 1058.3133544921875, 338.3746337890625, 934.7659912109375, 6.656902313232422, 6.472622871398926, 6.195524215698242, 7.548912048339844, 5.079658031463623, 5.373409748077393, 5.3938469886779785, 5.476953506469727, 5.274150848388672, 5.9974775314331055, 6.147019863128662, 6.14651346206665, 6.167229175567627, 11.754515647888184, 6.284148216247559, 6.300134181976318, 6.379610061645508, 6.415035724639893, 6.412320613861084, 12.813955307006836, 5.101587295532227, 7.006753444671631, 7.033056735992432, 7.069523334503174, 7.075738906860352, 7.133153438568115, 7.188662528991699, 7.218353271484375, 7.199536323547363, 12.641430854797363, 93.47061157226562, 19.453847885131836, 27.740253448486328, 22.54188346862793, 41.95613479614258, 96.67613220214844, 179.4836883544922, 88.98955535888672, 22.780113220214844, 48.635746002197266, 133.40170288085938, 51.27073287963867, 69.27852630615234, 88.6482925415039, 25.366748809814453, 614.3060302734375, 672.6717529296875, 119.24202728271484, 210.7229461669922, 333.3816223144531, 357.6254577636719, 361.6500244140625, 21.657989501953125, 1312.843017578125, 209.750732421875, 506.703857421875, 251.8048858642578, 589.8003540039062, 629.2303466796875, 314.5030212402344, 293.46917724609375, 409.45263671875, 1711.303955078125, 920.8321533203125, 776.861572265625, 331.15771484375, 753.0234985351562, 230.39321899414062, 4.646723747253418, 5.004115581512451, 6.977304458618164, 7.577822685241699, 6.1691741943359375, 4.963425636291504, 14.267498016357422, 5.117847919464111, 5.02720308303833, 5.154374122619629, 5.205303192138672, 7.842060565948486, 5.2590203285217285, 5.267606735229492, 5.270883083343506, 5.339868545532227, 5.365571975708008, 5.3671722412109375, 5.401449203491211, 5.360927581787109, 5.414062023162842, 5.317708969116211, 9.92795467376709, 5.301611423492432, 5.454356670379639, 5.387101173400879, 6.013100624084473, 6.073544502258301, 6.082065105438232, 5.4553070068359375, 19.035890579223633, 8.973479270935059, 23.755338668823242, 50.113162994384766, 58.39790344238281, 15.396462440490723, 31.952991485595703, 9.559540748596191, 106.47109985351562, 272.3963317871094, 16.06183624267578, 43.99851989746094, 35.31624221801758, 21.04556655883789, 114.24453735351562, 22.450714111328125, 53.2556266784668, 21.79703712463379, 41.82652282714844, 166.29769897460938, 60.18552017211914, 23.958690643310547, 183.84613037109375, 396.8655700683594, 340.51605224609375, 233.27743530273438, 223.40008544921875, 393.00079345703125, 200.4090576171875, 1349.9097900390625, 1711.303955078125, 1437.9232177734375, 1315.1287841796875, 778.388671875, 1058.3133544921875, 315.4515075683594, 248.78233337402344, 395.43505859375, 1136.64501953125, 664.60986328125, 637.3973999023438, 499.7835693359375, 696.6025390625], \"loglift\": [30.0, 29.0, 28.0, 27.0, 26.0, 25.0, 24.0, 23.0, 22.0, 21.0, 20.0, 19.0, 18.0, 17.0, 16.0, 15.0, 14.0, 13.0, 12.0, 11.0, 10.0, 9.0, 8.0, 7.0, 6.0, 5.0, 4.0, 3.0, 2.0, 1.0, 1.510699987411499, 1.5104000568389893, 1.5061999559402466, 1.4983999729156494, 1.4982000589370728, 1.4977999925613403, 1.489799976348877, 1.4846999645233154, 1.4831000566482544, 1.4807000160217285, 1.4774999618530273, 1.469099998474121, 1.466599941253662, 1.4635000228881836, 1.4631999731063843, 1.4620000123977661, 1.4572999477386475, 1.4571000337600708, 1.4479999542236328, 1.4452999830245972, 1.4448000192642212, 1.4420000314712524, 1.4412000179290771, 1.4385000467300415, 1.4354000091552734, 1.4347000122070312, 1.4337999820709229, 1.4319000244140625, 1.4290000200271606, 1.4284000396728516, 1.412500023841858, 1.427299976348877, 1.424399971961975, 1.3759000301361084, 1.3991999626159668, 1.3623000383377075, 1.4107999801635742, 1.2425999641418457, 1.3257999420166016, 1.343999981880188, 1.3179999589920044, 1.3792999982833862, 1.1557999849319458, 1.197100043296814, 1.3767000436782837, 1.0210000276565552, 1.198099970817566, 0.49970000982284546, 0.7080000042915344, 0.9107000231742859, 0.5879999995231628, 0.8409000039100647, 0.4456999897956848, 0.5874999761581421, 0.6733999848365784, 0.8823999762535095, 0.708299994468689, 0.8467000126838684, 0.3944999873638153, 0.9401999711990356, 0.4106000065803528, 0.5968000292778015, -0.021199999377131462, 0.3750999867916107, 0.3725999891757965, 0.23970000445842743, -0.044599998742341995, 0.2612999975681305, 0.3490000069141388, 0.011300000362098217, -0.0003000000142492354, 0.07450000196695328, -0.13109999895095825, 0.02930000051856041, 0.26750001311302185, 0.11789999902248383, -0.2563999891281128, 0.16940000653266907, -0.30329999327659607, -0.08760000020265579, -0.492900013923645, 0.513700008392334, 0.11129999905824661, 0.320499986410141, 1.6863000392913818, 1.6506999731063843, 1.645900011062622, 1.6449999809265137, 1.6306999921798706, 1.6283999681472778, 1.6269999742507935, 1.6202000379562378, 1.6201000213623047, 1.6155999898910522, 1.6153000593185425, 1.6150000095367432, 1.61489999294281, 1.6128000020980835, 1.6075999736785889, 1.6065000295639038, 1.6059000492095947, 1.6057000160217285, 1.605299949645996, 1.6050000190734863, 1.6002999544143677, 1.5924999713897705, 1.5915000438690186, 1.5902999639511108, 1.5865999460220337, 1.5849000215530396, 1.5812000036239624, 1.5805000066757202, 1.5771000385284424, 1.5758999586105347, 1.55840003490448, 1.5549999475479126, 1.5396000146865845, 1.482100009918213, 1.533400058746338, 1.3779000043869019, 1.4194999933242798, 1.4050999879837036, 1.424299955368042, 1.4326000213623047, 1.406999945640564, 1.4634000062942505, 1.2404999732971191, 1.2656999826431274, 1.5240999460220337, 1.3075000047683716, 1.330299973487854, 1.4105000495910645, 1.1893999576568604, 1.3884999752044678, 1.3773000240325928, 1.315000057220459, 1.4352999925613403, 1.301900029182434, 1.3083000183105469, 1.0678999423980713, 1.219599962234497, 1.0436999797821045, 1.1895999908447266, 1.2559000253677368, 1.1440000534057617, 0.7961999773979187, 0.650600016117096, 0.6114000082015991, 0.3046000003814697, 0.7300999760627747, 0.9710999727249146, 0.448199987411499, 0.8324999809265137, 0.17550000548362732, 0.4731999933719635, 0.08959999680519104, 0.4632999897003174, 0.6690000295639038, -0.13860000669956207, 0.017400000244379044, 0.398499995470047, -0.13740000128746033, 0.4002000093460083, 0.13449999690055847, 0.01810000091791153, 0.18320000171661377, 0.24220000207424164, -0.30399999022483826, 0.16060000658035278, -0.3456999957561493, 0.24079999327659607, 0.09260000288486481, 0.1517000049352646, 1.7644000053405762, 1.7624000310897827, 1.7610000371932983, 1.7608000040054321, 1.753600001335144, 1.7510000467300415, 1.75, 1.7476999759674072, 1.742900013923645, 1.7359000444412231, 1.7311999797821045, 1.7299000024795532, 1.728700041770935, 1.7283999919891357, 1.7253999710083008, 1.7253999710083008, 1.7223999500274658, 1.7130999565124512, 1.7122000455856323, 1.7103999853134155, 1.7049000263214111, 1.7028000354766846, 1.7007999420166016, 1.6962000131607056, 1.691100001335144, 1.6878999471664429, 1.6833000183105469, 1.6819000244140625, 1.6770999431610107, 1.6714999675750732, 1.6692999601364136, 1.6538000106811523, 1.6476000547409058, 1.6210999488830566, 1.6013000011444092, 1.5556999444961548, 1.4154000282287598, 1.4895000457763672, 1.1658999919891357, 1.211400032043457, 1.3831000328063965, 0.8697999715805054, 0.6195999979972839, 0.8485000133514404, 0.8353999853134155, 0.66839998960495, 0.43709999322891235, 0.38580000400543213, 0.7422000169754028, 0.2865000069141388, 0.7763000130653381, 0.09679999947547913, 0.7001000046730042, 0.3596000075340271, 0.36730000376701355, 0.34389999508857727, 0.1657000035047531, 0.2816999852657318, 0.5372999906539917, 0.46219998598098755, 0.2754000127315521, 0.05999999865889549, 1.802299976348877, 1.7745000123977661, 1.7694000005722046, 1.7666000127792358, 1.7595000267028809, 1.7522000074386597, 1.7503999471664429, 1.7477999925613403, 1.7409000396728516, 1.739300012588501, 1.736899971961975, 1.7264000177383423, 1.7239999771118164, 1.7207000255584717, 1.7188999652862549, 1.7188999652862549, 1.7064000368118286, 1.6957000494003296, 1.6928999423980713, 1.6912000179290771, 1.6907000541687012, 1.6897000074386597, 1.6892000436782837, 1.680299997329712, 1.6789000034332275, 1.6785000562667847, 1.6782000064849854, 1.676300048828125, 1.6684999465942383, 1.664199948310852, 1.6309000253677368, 1.611299991607666, 1.6193000078201294, 1.5707999467849731, 1.4681999683380127, 1.351099967956543, 1.287500023841858, 1.2460999488830566, 0.9674999713897705, 1.2103999853134155, 1.0027999877929688, 0.9815000295639038, 1.1145000457763672, 1.2934999465942383, 1.1353000402450562, 1.2333999872207642, 0.9107000231742859, 0.5975000262260437, 0.7286999821662903, 0.41749998927116394, 0.262800008058548, 0.6585999727249146, 0.4255000054836273, 0.43540000915527344, 0.8629000186920166, 0.9352999925613403, 0.4496000111103058, 0.11060000211000443, 0.5910999774932861, -0.03370000049471855, 0.38769999146461487, 0.36660000681877136, -0.14890000224113464, 0.28690001368522644, -0.3612000048160553, 0.23330000042915344, 0.2833999991416931, -0.25380000472068787, -0.04089999943971634, -0.006800000090152025, -0.04699999839067459, -0.05270000174641609, 0.021199999377131462, 2.2657999992370605, 2.2558000087738037, 2.2367000579833984, 2.2293999195098877, 2.2279000282287598, 2.2249999046325684, 2.2105000019073486, 2.2028000354766846, 2.1995999813079834, 2.1875, 2.1684000492095947, 2.1547000408172607, 2.1384999752044678, 2.1221001148223877, 2.1208999156951904, 2.1201000213623047, 2.110300064086914, 2.106800079345703, 2.095599889755249, 2.084399938583374, 2.0724000930786133, 2.0615999698638916, 2.0590999126434326, 2.053100109100342, 2.0429999828338623, 2.025700092315674, 1.9967999458312988, 1.986299991607666, 1.9559999704360962, 1.9537999629974365, 1.9401999711990356, 1.9026000499725342, 1.8669999837875366, 1.806399941444397, 1.92739999294281, 1.9199999570846558, 1.8451000452041626, 1.9007999897003174, 1.7138999700546265, 1.1495000123977661, 1.554800033569336, 1.4321000576019287, 1.363700032234192, 0.7307999730110168, 1.1308000087738037, 0.9681000113487244, 1.3438999652862549, 0.8737999796867371, 0.49880000948905945, 0.45339998602867126, 0.5314000248908997, 0.7552000284194946, 0.824400007724762, 0.8752999901771545, 0.44440001249313354, 0.612500011920929, 0.9660999774932861, 0.11999999731779099, 0.40049999952316284, 0.29339998960494995, 0.5637000203132629, 0.026799999177455902, -0.2531999945640564, 0.24320000410079956, -0.07029999792575836, 0.3230000138282776, 2.5114998817443848, 2.4865000247955322, 2.4793999195098877, 2.4769999980926514, 2.4512999057769775, 2.4475998878479004, 2.446500062942505, 2.433300018310547, 2.3984999656677246, 2.3914999961853027, 2.3685998916625977, 2.3668999671936035, 2.365499973297119, 2.352799892425537, 2.330199956893921, 2.329200029373169, 2.3264000415802, 2.3257999420166016, 2.315999984741211, 2.309999942779541, 2.304500102996826, 2.302999973297119, 2.2985000610351562, 2.2832000255584717, 2.272900104522705, 2.2648000717163086, 2.2474000453948975, 2.2455999851226807, 2.219899892807007, 2.216599941253662, 2.166300058364868, 2.161600112915039, 2.1431000232696533, 1.7333999872207642, 2.2116000652313232, 1.5543999671936035, 1.8973000049591064, 2.06469988822937, 1.4246000051498413, 1.1627000570297241, 1.0353000164031982, 1.3895000219345093, 0.7039999961853027, 1.182800054550171, 0.7732999920845032, 1.5341999530792236, 1.3301000595092773, 0.5695000290870667, 1.8531999588012695, 0.32260000705718994, 1.3716000318527222, 0.4318999946117401, 1.2412999868392944, 0.25859999656677246, 0.5443999767303467, 0.2687000036239624, 0.5188000202178955, 0.04619999974966049, 0.6039999723434448, 0.03370000049471855, 0.24660000205039978, 0.17499999701976776, 0.4237000048160553, -0.20649999380111694, 0.319599986076355, 0.8460999727249146, 0.5533999800682068, 0.29269999265670776, 0.12449999898672104, 0.6832000017166138, 0.40959998965263367, -0.14949999749660492, 0.3781999945640564, 0.12620000541210175, -0.39959999918937683, -0.13009999692440033, 0.30480000376701355, 3.1236000061035156, 3.002700090408325, 2.972899913787842, 2.9077000617980957, 2.8903000354766846, 2.868000030517578, 2.8559000492095947, 2.8225998878479004, 2.790800094604492, 2.7869999408721924, 2.776400089263916, 2.770400047302246, 2.7690000534057617, 2.7499001026153564, 2.732300043106079, 2.701200008392334, 2.6835999488830566, 2.675299882888794, 2.660799980163574, 2.6589999198913574, 2.646899938583374, 2.6356000900268555, 2.628999948501587, 2.617300033569336, 2.6154000759124756, 2.611799955368042, 2.6054999828338623, 2.602099895477295, 2.5892999172210693, 2.589099884033203, 2.5813000202178955, 2.5380001068115234, 2.5487000942230225, 2.498699903488159, 2.408600091934204, 2.347599983215332, 2.546799898147583, 2.4374001026153564, 2.4375, 2.428100109100342, 1.8695000410079956, 2.3178000450134277, 2.2232000827789307, 2.1393001079559326, 1.9017000198364258, 1.9931000471115112, 1.9753999710083008, 1.950700044631958, 1.6924999952316284, 2.4035000801086426, 1.7583999633789062, 2.2627999782562256, 2.349100112915039, 0.3767000138759613, 1.73580002784729, 0.16189999878406525, 2.0473999977111816, 0.5789999961853027, 0.1370999962091446, 0.8345000147819519, 0.017100000753998756, 0.6014000177383423, -0.27549999952316284, -0.3118000030517578, 0.7652000188827515, 0.6865000128746033, -0.0869000032544136, 0.15240000188350677, 0.12300000339746475, -0.09920000284910202, -0.4050999879837036, -0.12680000066757202, 0.14970000088214874, 0.13339999318122864, 0.3783000111579895, 0.22769999504089355, 3.5388998985290527, 3.387500047683716, 3.3471999168395996, 3.345099925994873, 3.3287999629974365, 3.242300033569336, 3.200900077819824, 3.098299980163574, 3.0929999351501465, 3.076900005340576, 3.0471999645233154, 3.0151000022888184, 2.9793999195098877, 2.964400053024292, 2.941499948501587, 2.928800106048584, 2.90910005569458, 2.9005000591278076, 2.8929998874664307, 2.891700029373169, 2.8879001140594482, 2.874000072479248, 2.873199939727783, 2.862299919128418, 2.8505001068115234, 2.8164000511169434, 2.8087000846862793, 2.8046998977661133, 2.7841999530792236, 2.7723000049591064, 2.6280999183654785, 2.5662999153137207, 2.1789000034332275, 2.249799966812134, 2.6350998878479004, 2.04830002784729, 2.3131000995635986, 2.567699909210205, 2.302500009536743, 2.12280011177063, 1.850000023841858, 2.3747000694274902, 1.794800043106079, 2.4591000080108643, 1.874400019645691, 1.7681000232696533, 1.6057000160217285, 1.3158999681472778, 0.9818000197410583, 0.295199990272522, 0.6647999882698059, 0.13809999823570251, 2.0897998809814453, 0.33329999446868896, 1.3242000341415405, -0.2249000072479248, 0.6830000281333923, 0.5794000029563904, 0.34220001101493835, -0.1565999984741211, 0.2540999948978424, 0.3513999879360199, 0.09549999982118607, -0.15410000085830688, -0.4433000087738037, 0.3239000141620636, -0.2012999951839447, 0.03669999912381172, -0.30300000309944153, -0.020600000396370888, -0.04610000178217888, -0.004900000058114529, 3.9465999603271484, 3.631700038909912, 3.5151000022888184, 3.4781999588012695, 3.477799892425537, 3.4444000720977783, 3.4403998851776123, 3.439500093460083, 3.341599941253662, 3.336899995803833, 3.285799980163574, 3.2451999187469482, 3.1635000705718994, 3.1514999866485596, 3.141400098800659, 3.139899969100952, 3.125200033187866, 3.1247000694274902, 3.1038999557495117, 3.0808000564575195, 3.061800003051758, 3.0601999759674072, 3.046999931335449, 3.039900064468384, 3.0278000831604004, 3.0244998931884766, 2.9964001178741455, 2.9960999488830566, 2.9872000217437744, 2.9860999584198, 2.9855000972747803, 2.7864999771118164, 2.763000011444092, 2.919100046157837, 2.2969000339508057, 2.595900058746338, 2.8285000324249268, 2.5625, 2.346299886703491, 2.149899959564209, 2.6723999977111816, 2.166800022125244, 1.9606000185012817, 2.160099983215332, 2.4035000801086426, 2.161799907684326, 2.729599952697754, 1.5176000595092773, 0.19449999928474426, 0.8197000026702881, 0.3377000093460083, 0.6079000234603882, 0.2249000072479248, 1.3707000017166138, -0.09430000185966492, 0.6953999996185303, 0.5442000031471252, 0.2248000055551529, 1.1008000373840332, -0.19099999964237213, -0.20329999923706055, 0.5748000144958496, 0.41110000014305115, -0.09030000120401382, 0.03530000150203705, -0.30090001225471497, 0.3977999985218048, -0.1370999962091446, -0.07530000060796738, 0.1753000020980835, 0.06909999996423721, 4.060699939727783, 3.964600086212158, 3.568000078201294, 3.485599994659424, 3.3691999912261963, 3.3450000286102295, 3.3057000637054443, 3.2936999797821045, 3.253200054168701, 3.2188000679016113, 3.205199956893921, 3.201200008392334, 3.174099922180176, 3.169300079345703, 3.154099941253662, 3.1484999656677246, 3.1459999084472656, 3.141700029373169, 3.1361000537872314, 3.1303999423980713, 3.099400043487549, 3.0943000316619873, 3.0759999752044678, 3.0562000274658203, 3.0481998920440674, 3.0364999771118164, 3.015700101852417, 3.0058000087738037, 3.001800060272217, 3.001499891281128, 2.9711999893188477, 2.938999891281128, 2.718899965286255, 2.7906999588012695, 2.6451001167297363, 2.455699920654297, 1.8366999626159668, 2.3443000316619873, 2.2093000411987305, 2.2681000232696533, 1.4387999773025513, 1.218999981880188, 1.2164000272750854, 1.621500015258789, 1.232300043106079, 1.5073000192642212, 1.7971999645233154, 0.4925999939441681, 0.7721999883651733, 1.5303000211715698, 0.4839000105857849, 1.7365000247955322, 1.2740000486373901, 0.30550000071525574, 0.23569999635219574, 2.1333000659942627, 0.7027999758720398, 0.7555999755859375, 0.862500011920929, 1.2056000232696533, 0.7520999908447266, 0.08959999680519104, 1.253499984741211, 0.7146000266075134, 0.1867000013589859, -0.1551000028848648, -0.2296999990940094, 0.414900004863739, 0.15889999270439148, 0.23909999430179596, 0.03970000147819519, 3.7372000217437744, 3.63070011138916, 3.615499973297119, 3.611999988555908, 3.5371999740600586, 3.4902000427246094, 3.489799976348877, 3.476599931716919, 3.467600107192993, 3.4663000106811523, 3.440999984741211, 3.4300999641418457, 3.4102001190185547, 3.341099977493286, 3.329699993133545, 3.2578001022338867, 3.233599901199341, 3.2219998836517334, 3.215399980545044, 3.19320011138916, 3.190500020980835, 3.1863999366760254, 3.1647000312805176, 3.1565001010894775, 3.1005001068115234, 3.089600086212158, 3.0764000415802, 3.0316998958587646, 3.0211000442504883, 3.018699884414673, 2.973900079727173, 2.908900022506714, 2.9409000873565674, 2.81469988822937, 2.8724000453948975, 2.8403000831604004, 2.04259991645813, 1.4047000408172607, 1.798799991607666, 1.7735999822616577, 0.6039000153541565, 1.6301000118255615, 1.305899977684021, 0.7389000058174133, 1.121000051498413, 0.32260000705718994, 0.9079999923706055, 1.2069000005722046, 1.7093000411987305, 0.06560000032186508, 0.8999000191688538, 1.0397000312805176, 0.26179999113082886, 0.7178000211715698, 0.3799000084400177, -0.05469999834895134, 0.6754999756813049, -0.00039999998989515007, 0.3815999925136566, 0.5630000233650208, 0.32760000228881836, 0.17880000174045563, 0.14169999957084656, 0.6643000245094299, 0.4927000105381012, -0.3407000005245209, 0.22419999539852142, -0.4677000045776367, 3.8352999687194824, 3.642899990081787, 3.6259000301361084, 3.594099998474121, 3.5220000743865967, 3.5111000537872314, 3.4563000202178955, 3.432499885559082, 3.2307000160217285, 3.1989998817443848, 3.063499927520752, 3.0601000785827637, 3.03439998626709, 3.020699977874756, 2.9727001190185547, 2.9630000591278076, 2.9488000869750977, 2.9244000911712646, 2.914599895477295, 2.890700101852417, 2.8901000022888184, 2.876699924468994, 2.876199960708618, 2.8752999305725098, 2.8701999187469482, 2.868499994277954, 2.867500066757202, 2.863300085067749, 2.857599973678589, 2.852400064468384, 2.836699962615967, 2.770400047302246, 2.748300075531006, 2.766200065612793, 2.5750999450683594, 2.7623000144958496, 2.4470999240875244, 2.6322999000549316, 2.7651000022888184, 2.7581000328063965, 2.5343000888824463, 2.4946000576019287, 1.8289999961853027, 2.4159998893737793, 2.063699960708618, 1.916599988937378, 1.6029000282287598, 2.4319000244140625, 1.440000057220459, 2.2184998989105225, 1.2867000102996826, 0.9598000049591064, 0.7233999967575073, 0.6565999984741211, 1.0573999881744385, 0.8592000007629395, 0.7486000061035156, 0.512499988079071, 1.5250999927520752, 0.7562999725341797, 0.588699996471405, -0.08460000157356262, 0.7494000196456909, 0.4927999973297119, 0.9096999764442444, 1.5608999729156494, 1.2864999771118164, -0.0957999974489212, 0.44510000944137573, 0.1573999971151352, -0.14880000054836273, 0.33239999413490295, 0.4171999990940094, -0.2248000055551529, -0.2896000146865845, -0.44350001215934753, 0.29670000076293945, 4.076499938964844, 4.050899982452393, 4.038599967956543, 4.031300067901611, 3.963200092315674, 3.9570999145507812, 3.951900005340576, 3.951200008392334, 3.9504001140594482, 3.9437999725341797, 3.94350004196167, 3.9358999729156494, 3.9293999671936035, 3.90939998626709, 3.898200035095215, 3.856800079345703, 3.8073999881744385, 3.7769999504089355, 3.773400068283081, 3.723299980163574, 3.6828999519348145, 3.652400016784668, 3.5789999961853027, 3.5483999252319336, 3.5355000495910645, 3.4679999351501465, 3.4665000438690186, 3.4651999473571777, 3.450500011444092, 3.446500062942505, 3.4375, 3.262700080871582, 2.889699935913086, 3.075200080871582, 2.4421000480651855, 3.0037999153137207, 2.6814000606536865, 2.2156999111175537, 1.8873000144958496, 0.9617000222206116, 0.8499000072479248, 0.9962000250816345, 1.8549000024795532, 2.129300117492676, 2.3043999671936035, 0.10920000076293945, 2.2813000679016113, 0.46299999952316284, 0.5530999898910522, 2.7874999046325684, 0.7599999904632568, 0.9635000228881836, 1.1611000299453735, 2.3501999378204346, 0.19939999282360077, -0.13850000500679016, 0.5946999788284302, 0.6834999918937683, 1.0642999410629272, -0.7764999866485596, -0.5519000291824341, 0.027899999171495438, -0.6226000189781189, 0.20010000467300415, -0.6927000284194946, -0.484499990940094, 0.6227999925613403, -0.3903999924659729, 4.593299865722656, 4.269999980926514, 4.09119987487793, 4.051799774169922, 3.851099967956543, 3.791100025177002, 3.7892000675201416, 3.74180006980896, 3.6865999698638916, 3.683799982070923, 3.6619999408721924, 3.6610000133514404, 3.6584999561309814, 3.6403000354766846, 3.6396000385284424, 3.6317999362945557, 3.6229000091552734, 3.6124000549316406, 3.612299919128418, 3.588900089263916, 3.5882999897003174, 3.5278000831604004, 3.525099992752075, 3.5215001106262207, 3.514899969100952, 3.512500047683716, 3.5039000511169434, 3.500699996948242, 3.498199939727783, 3.490499973297119, 3.3859000205993652, 3.4237000942230225, 3.326900005340576, 3.3327999114990234, 3.1259000301361084, 2.637200117111206, 2.313800096511841, 2.5483999252319336, 3.0164999961853027, 2.652100086212158, 2.1684999465942383, 2.5973000526428223, 2.4260001182556152, 2.283099889755249, 2.9061999320983887, 1.1793999671936035, 1.1297999620437622, 2.038800001144409, 1.722000002861023, 1.4256000518798828, 1.357100009918213, 1.3115999698638916, 2.97189998626709, 0.3779999911785126, 1.5013999938964844, 0.829800009727478, 1.3193999528884888, 0.6097999811172485, 0.5376999974250793, 1.0776000022888184, 1.1049000024795532, 0.8223999738693237, -0.4832000136375427, 0.060100000351667404, 0.19499999284744263, 0.8964999914169312, 0.10159999877214432, 1.2101000547409058, 4.56220006942749, 4.342299938201904, 4.171000003814697, 4.095900058746338, 4.035900115966797, 3.85260009765625, 3.8436999320983887, 3.82450008392334, 3.821199893951416, 3.8169000148773193, 3.805500030517578, 3.8036000728607178, 3.796099901199341, 3.786099910736084, 3.7795000076293945, 3.7783000469207764, 3.7753000259399414, 3.77239990234375, 3.7683000564575195, 3.764699935913086, 3.750200033187866, 3.7434000968933105, 3.7367000579833984, 3.733599901199341, 3.6854000091552734, 3.664299964904785, 3.6631999015808105, 3.6535000801086426, 3.6484999656677246, 3.648200035095215, 3.5378000736236572, 3.602400064468384, 3.4214000701904297, 3.2479000091552734, 3.065700054168701, 3.3622000217437744, 3.0143001079559326, 3.4939000606536865, 2.424799919128418, 1.9980000257492065, 3.2630999088287354, 2.79830002784729, 2.858799934387207, 3.0708999633789062, 2.172800064086914, 3.0088999271392822, 2.541800022125244, 3.0116000175476074, 2.6459999084472656, 1.7226999998092651, 2.3282999992370605, 2.8849000930786133, 1.5882999897003174, 0.9916999936103821, 1.0911999940872192, 1.332200050354004, 1.2520999908447266, 0.8148999810218811, 1.3079999685287476, -0.22660000622272491, -0.41760000586509705, -0.2858000099658966, -0.2143000066280365, 0.18790000677108765, -0.16500000655651093, 0.8360999822616577, 1.021399974822998, 0.5799999833106995, -0.4251999855041504, 0.07599999755620956, 0.09839999675750732, 0.3352000117301941, -0.008500000461935997], \"logprob\": [30.0, 29.0, 28.0, 27.0, 26.0, 25.0, 24.0, 23.0, 22.0, 21.0, 20.0, 19.0, 18.0, 17.0, 16.0, 15.0, 14.0, 13.0, 12.0, 11.0, 10.0, 9.0, 8.0, 7.0, 6.0, 5.0, 4.0, 3.0, 2.0, 1.0, -7.751200199127197, -7.751500129699707, -7.660399913787842, -8.122300148010254, -6.661099910736084, -7.989299774169922, -8.131099700927734, -7.1392998695373535, -8.295000076293945, -8.4798002243042, -8.48330020904541, -8.63640022277832, -7.978400230407715, -6.314799785614014, -8.723999977111816, -8.812000274658203, -6.332399845123291, -6.578100204467773, -8.827300071716309, -7.201399803161621, -8.666999816894531, -6.888899803161621, -7.730100154876709, -7.444300174713135, -8.751999855041504, -8.531700134277344, -8.842900276184082, -9.046500205993652, -9.169099807739258, -9.17039966583252, -5.363399982452393, -8.348199844360352, -8.68120002746582, -6.708099842071533, -7.538599967956543, -6.407400131225586, -8.06309986114502, -6.258299827575684, -7.222599983215332, -7.43310022354126, -7.18779993057251, -7.98769998550415, -6.509200096130371, -7.168300151824951, -8.000399589538574, -6.431600093841553, -7.325200080871582, -4.971499919891357, -5.733099937438965, -6.504300117492676, -5.6757001876831055, -6.379499912261963, -5.4145002365112305, -5.781700134277344, -5.998300075531006, -6.513299942016602, -6.166200160980225, -6.49370002746582, -5.714700222015381, -6.7067999839782715, -5.784800052642822, -6.164100170135498, -5.231500148773193, -5.841899871826172, -5.849599838256836, -5.694699764251709, -5.363500118255615, -5.769899845123291, -5.913700103759766, -5.6082000732421875, -5.691299915313721, -5.7555999755859375, -5.604700088500977, -5.785699844360352, -5.96150016784668, -5.880300045013428, -5.703999996185303, -5.946800231933594, -5.77869987487793, -5.906000137329102, -5.877299785614014, -6.130300045013428, -6.103400230407715, -6.130199909210205, -7.3109002113342285, -8.620699882507324, -8.721500396728516, -8.722900390625, -8.326899528503418, -8.84749984741211, -8.646599769592285, -8.566499710083008, -8.974599838256836, -8.860699653625488, -8.981100082397461, -8.860199928283691, -8.982500076293945, -8.287099838256836, -9.123200416564941, -8.503899574279785, -9.125200271606445, -9.125200271606445, -8.99530029296875, -9.128899574279785, -8.585000038146973, -9.14229965209961, -9.142399787902832, -8.779199600219727, -8.685799598693848, -9.30459976196289, -9.15410041809082, -9.311800003051758, -9.311699867248535, -9.155400276184082, -6.939000129699707, -7.5117998123168945, -7.2042999267578125, -5.714600086212158, -8.050200462341309, -5.28439998626709, -6.038099765777588, -6.162300109863281, -6.5640997886657715, -6.936800003051758, -6.822000026702881, -7.619100093841553, -5.807600021362305, -6.361800193786621, -8.263799667358398, -6.714700222015381, -6.879899978637695, -7.469699859619141, -6.051499843597412, -7.365699768066406, -7.298999786376953, -7.018199920654297, -7.695899963378906, -7.047299861907959, -7.113100051879883, -6.100399971008301, -6.782400131225586, -6.202700138092041, -6.779200077056885, -7.122900009155273, -6.785900115966797, -5.86929988861084, -5.5782999992370605, -5.610799789428711, -4.905700206756592, -5.98769998550415, -6.520699977874756, -5.747200012207031, -6.356599807739258, -5.443999767303467, -5.8769001960754395, -5.3815999031066895, -5.905799865722656, -6.250899791717529, -5.5229997634887695, -5.673500061035156, -6.042699813842773, -5.585000038146973, -6.045499801635742, -5.863699913024902, -5.796999931335449, -5.925899982452393, -6.033400058746338, -5.779399871826172, -6.010000228881836, -5.819399833679199, -6.0472002029418945, -6.02370023727417, -6.062900066375732, -7.447299957275391, -5.504000186920166, -4.954899787902832, -7.923099994659424, -6.42110013961792, -7.434500217437744, -4.8471999168396, -7.296500205993652, -8.30090045928955, -7.018400192260742, -8.116499900817871, -8.313599586486816, -8.559800148010254, -4.197400093078613, -7.355299949645996, -6.717800140380859, -6.826700210571289, -8.405500411987305, -8.780200004577637, -7.070300102233887, -4.71589994430542, -6.521500110626221, -5.913700103759766, -8.794699668884277, -6.909299850463867, -5.052800178527832, -9.06350040435791, -5.269000053405762, -9.087800025939941, -8.387900352478027, -6.003399848937988, -5.54580020904541, -6.665599822998047, -6.250199794769287, -7.129300117492676, -6.733699798583984, -5.634500026702881, -6.439700126647949, -4.834199905395508, -5.553299903869629, -6.403900146484375, -4.449100017547607, -4.855800151824951, -5.38640022277832, -5.443900108337402, -5.272299766540527, -4.947299957275391, -5.061699867248535, -5.583399772644043, -5.18720006942749, -5.792900085449219, -5.113500118255615, -5.727399826049805, -5.458799839019775, -5.478499889373779, -5.4781999588012695, -5.45389986038208, -5.548399925231934, -5.694300174713135, -5.693900108337402, -5.658999919891357, -5.630899906158447, -5.454500198364258, -7.535999774932861, -7.930799961090088, -8.046099662780762, -8.324700355529785, -6.388199806213379, -8.502799987792969, -5.448400020599365, -4.557400226593018, -8.426899909973145, -8.428600311279297, -5.93720006942749, -8.630499839782715, -8.737500190734863, -8.859600067138672, -6.565400123596191, -9.007699966430664, -8.246100425720215, -9.021400451660156, -9.023599624633789, -9.024200439453125, -7.658100128173828, -6.31689977645874, -7.531400203704834, -7.972799777984619, -9.194000244140625, -7.355500221252441, -9.212400436401367, -8.42039966583252, -9.232199668884277, -4.480199813842773, -5.515399932861328, -7.0543999671936035, -7.466400146484375, -6.734300136566162, -5.558599948883057, -4.970799922943115, -6.411200046539307, -5.176599979400635, -6.62060022354126, -5.889900207519531, -6.091400146484375, -6.660399913787842, -7.170599937438965, -6.761000156402588, -7.033699989318848, -6.259399890899658, -5.61329984664917, -5.973899841308594, -5.4045000076293945, -5.2108001708984375, -5.9303998947143555, -5.605800151824951, -5.712699890136719, -6.35699987411499, -6.491300106048584, -5.91510009765625, -5.580399990081787, -6.114099979400635, -5.481200218200684, -5.9182000160217285, -5.92140007019043, -5.533299922943115, -5.883800029754639, -5.571599960327148, -5.901899814605713, -5.931300163269043, -5.7291998863220215, -5.855899810791016, -5.867000102996826, -5.877099990844727, -5.898600101470947, -5.91949987411499, -4.646699905395508, -6.080999851226807, -6.795499801635742, -6.149499893188477, -7.713200092315674, -4.380099773406982, -4.649600028991699, -6.828800201416016, -6.383299827575684, -7.753600120544434, -5.1971001625061035, -7.02269983291626, -8.741000175476074, -6.78380012512207, -7.026299953460693, -8.135000228881836, -8.056500434875488, -7.740799903869629, -8.270400047302246, -6.0721001625061035, -4.094099998474121, -5.996099948883057, -8.305000305175781, -8.32699966430664, -5.405399799346924, -6.927000045776367, -7.953400135040283, -8.754899978637695, -8.563199996948242, -8.51360034942627, -6.713200092315674, -5.589799880981445, -5.89900016784668, -6.271200180053711, -7.468599796295166, -7.441699981689453, -7.109499931335449, -7.468900203704834, -6.735199928283691, -4.668900012969971, -6.3491997718811035, -6.182000160217285, -6.053999900817871, -4.588099956512451, -5.571800231933594, -5.290299892425537, -6.105299949645996, -5.336999893188477, -4.976600170135498, -4.931000232696533, -5.2906999588012695, -5.524099826812744, -5.603000164031982, -5.693900108337402, -5.401400089263916, -5.543700218200684, -5.823500156402588, -5.327600002288818, -5.540200233459473, -5.536600112915039, -5.67110013961792, -5.446899890899658, -5.463500022888184, -5.617000102996826, -5.761199951171875, -5.821100234985352, -8.39330005645752, -8.421299934387207, -8.429100036621094, -7.11359977722168, -7.5218000411987305, -8.18850040435791, -8.312399864196777, -8.072199821472168, -8.506600379943848, -7.823699951171875, -7.850299835205078, -8.029399871826172, -8.409500122070312, -7.26609992980957, -7.185500144958496, -8.41409969329834, -7.412300109863281, -7.748199939727783, -8.428799629211426, -8.592100143432617, -8.594900131225586, -8.469200134277344, -8.627099990844727, -8.618300437927246, -7.932499885559082, -8.711400032043457, -8.04170036315918, -7.598299980163574, -8.388999938964844, -7.989799976348877, -7.285900115966797, -7.690400123596191, -7.5432000160217285, -5.494999885559082, -8.195599555969238, -5.686500072479248, -6.978400230407715, -7.663599967956543, -5.74370002746582, -5.128499984741211, -5.275700092315674, -6.1219000816345215, -5.1143999099731445, -6.122099876403809, -5.397299766540527, -6.7530999183654785, -6.45550012588501, -5.24560022354126, -7.33519983291626, -5.061800003051758, -6.640200138092041, -5.398200035095215, -6.498499870300293, -5.212600231170654, -5.684599876403809, -5.350800037384033, -5.679200172424316, -5.401299953460693, -5.985000133514404, -5.440000057220459, -5.68779993057251, -5.67080020904541, -5.882199764251709, -5.416900157928467, -5.902599811553955, -6.276599884033203, -6.107800006866455, -5.971099853515625, -5.873600006103516, -6.211599826812744, -6.086400032043457, -5.8404998779296875, -6.0731000900268555, -6.008999824523926, -5.875, -5.952199935913086, -6.059899806976318, -6.432700157165527, -7.989799976348877, -6.5690999031066895, -6.668000221252441, -8.090100288391113, -6.901199817657471, -7.7220001220703125, -7.630000114440918, -6.271999835968018, -8.048199653625488, -7.781899929046631, -7.6774001121521, -7.6793999671936035, -7.697999954223633, -6.577600002288818, -7.983500003814697, -8.128999710083008, -7.877600193023682, -6.6057000160217285, -8.362099647521973, -6.632599830627441, -8.359999656677246, -7.3734002113342285, -8.085399627685547, -8.39799976348877, -8.354599952697754, -8.08650016784668, -8.077799797058105, -8.21049976348877, -8.372099876403809, -7.856299877166748, -6.644700050354004, -7.010499954223633, -6.069799900054932, -5.848499774932861, -5.582300186157227, -7.5467000007629395, -6.600299835205078, -6.617499828338623, -6.684500217437744, -4.792799949645996, -6.619900226593018, -6.3694000244140625, -6.277299880981445, -5.6656999588012695, -5.9756999015808105, -6.026500225067139, -6.075200080871582, -5.765100002288818, -7.084000110626221, -6.230100154876709, -6.980800151824951, -7.107399940490723, -5.094600200653076, -6.474400043487549, -5.048500061035156, -6.804200172424316, -5.771100044250488, -5.553800106048584, -5.997900009155273, -5.602499961853027, -5.894599914550781, -5.659900188446045, -5.759399890899658, -6.109300136566162, -6.103499889373779, -5.9019999504089355, -5.982699871063232, -5.986100196838379, -5.945000171661377, -5.878799915313721, -5.956900119781494, -6.0482001304626465, -6.088799953460693, -6.139100074768066, -6.14139986038208, -6.4145002365112305, -7.461699962615967, -7.3856000900268555, -7.665299892425537, -7.656899929046631, -7.737299919128418, -4.854700088500977, -7.739999771118164, -7.927700042724609, -7.7281999588012695, -7.755499839782715, -7.436600208282471, -7.998899936676025, -7.309599876403809, -7.946800231933594, -7.746099948883057, -7.13539981842041, -7.086900234222412, -7.938499927520752, -7.690299987792969, -7.9207000732421875, -7.92609977722168, -7.940000057220459, -7.937699794769287, -7.950200080871582, -8.154399871826172, -7.554699897766113, -7.377600193023682, -7.6570000648498535, -8.02239990234375, -6.745699882507324, -6.751999855041504, -5.546999931335449, -5.841899871826172, -7.279200077056885, -5.933199882507324, -6.55810022354126, -7.197999954223633, -6.630499839782715, -6.282400131225586, -5.777500152587891, -6.845200061798096, -6.192599773406982, -7.149499893188477, -6.458799839019775, -6.334000110626221, -6.189199924468994, -5.930500030517578, -5.854400157928467, -5.324399948120117, -5.701900005340576, -5.333099842071533, -6.833399772644043, -5.512499809265137, -6.377699851989746, -5.435299873352051, -6.008200168609619, -5.969799995422363, -5.853300094604492, -5.630300045013428, -5.902100086212158, -5.954500198364258, -5.902699947357178, -5.845099925994873, -5.8907999992370605, -6.117300033569336, -6.01639986038208, -6.072400093078613, -6.125100135803223, -6.191199779510498, -6.194200038909912, -6.2027997970581055, -6.524799823760986, -6.683000087738037, -7.522299766540527, -7.517399787902832, -4.503600120544434, -7.519100189208984, -7.234000205993652, -6.678400039672852, -7.240200042724609, -7.520899772644043, -7.245800018310547, -7.544000148773193, -7.780200004577637, -7.539400100708008, -7.634200096130371, -7.5040998458862305, -7.717400074005127, -5.616399765014648, -7.897600173950195, -7.901400089263916, -7.941299915313721, -7.900899887084961, -7.929599761962891, -7.897500038146973, -7.928999900817871, -7.904399871826172, -7.546800136566162, -7.541500091552734, -6.960000038146973, -7.985000133514404, -7.943900108337402, -4.9394001960754395, -5.2245001792907715, -7.101799964904785, -4.751200199127197, -6.05019998550415, -7.015100002288818, -6.097400188446045, -5.570700168609619, -5.096499919891357, -6.882500171661377, -6.166299819946289, -5.8744001388549805, -6.196400165557861, -6.675300121307373, -6.420100212097168, -7.107699871063232, -6.082300186157227, -5.015900135040283, -5.676300048828125, -5.477399826049805, -5.654900074005127, -5.605100154876709, -6.276299953460693, -5.567999839782715, -5.976399898529053, -5.92710018157959, -5.80649995803833, -6.203999996185303, -5.666399955749512, -5.674499988555908, -5.979700088500977, -5.943699836730957, -5.781199932098389, -5.824900150299072, -5.7484002113342285, -5.952300071716309, -5.959099769592285, -6.009699821472168, -6.046899795532227, -6.047100067138672, -5.628600120544434, -6.385300159454346, -6.920599937438965, -7.137899875640869, -7.201300144195557, -7.486400127410889, -7.525899887084961, -7.165299892425537, -7.434500217437744, -7.815299987792969, -7.073599815368652, -7.334799766540527, -7.8144001960754395, -7.8403000831604, -7.81790018081665, -7.154799938201904, -7.820899963378906, -7.048799991607666, -6.985000133514404, -6.805099964141846, -7.589700222015381, -7.716100215911865, -7.936999797821045, -7.487299919128418, -7.507400035858154, -7.976399898529053, -7.8125, -7.8140997886657715, -7.798900127410889, -6.8907999992370605, -7.200200080871582, -7.3470001220703125, -6.322199821472168, -6.80649995803833, -6.609300136566162, -6.073200225830078, -4.9278998374938965, -6.191999912261963, -6.103899955749512, -6.245800018310547, -4.840400218963623, -4.599400043487549, -4.709400177001953, -5.3292999267578125, -4.7677998542785645, -5.233399868011475, -5.8755998611450195, -4.717800140380859, -5.0578999519348145, -5.780099868774414, -4.835000038146973, -6.0254998207092285, -5.775899887084961, -5.1656999588012695, -5.14870023727417, -6.392000198364258, -5.532100200653076, -5.570000171661377, -5.6545000076293945, -5.878799915313721, -5.668700218200684, -5.357999801635742, -5.952499866485596, -5.7565999031066895, -5.63539981842041, -5.628699779510498, -5.7052001953125, -5.816699981689453, -5.781799793243408, -5.895999908447266, -5.894700050354004, -6.670100212097168, -7.388400077819824, -7.3856000900268555, -6.878699779510498, -6.876999855041504, -6.627699851989746, -7.104000091552734, -7.381199836730957, -5.856800079345703, -7.383399963378906, -7.393700122833252, -7.401800155639648, -7.435999870300293, -7.350599765777588, -6.2104997634887695, -7.55709981918335, -7.798500061035156, -7.455100059509277, -6.9028000831604, -5.855100154876709, -7.3831000328063965, -7.784999847412109, -7.802000045776367, -7.5121002197265625, -6.943999767303467, -6.819300174713135, -7.606299877166748, -7.770500183105469, -7.775400161743164, -7.798999786376953, -6.7789998054504395, -6.7204999923706055, -7.156899929046631, -6.586699962615967, -7.168900012969971, -7.132400035858154, -5.828800201416016, -5.335999965667725, -5.850100040435791, -5.841000080108643, -4.843599796295166, -5.890999794006348, -5.644999980926514, -5.1869001388549805, -5.653500080108643, -5.14870023727417, -5.596499919891357, -5.8429999351501465, -6.201900005340576, -5.144800186157227, -5.697299957275391, -5.791500091552734, -5.357699871063232, -5.709700107574463, -5.560800075531006, -5.373600006103516, -5.745299816131592, -5.475800037384033, -5.649600028991699, -5.748000144958496, -5.672500133514404, -5.651299953460693, -5.70419979095459, -5.963799953460693, -5.935400009155273, -5.814300060272217, -5.89900016784668, -5.852099895477295, -6.174699783325195, -7.069799900054932, -7.4492998123168945, -6.990900039672852, -7.454699993133545, -7.475900173187256, -7.516600131988525, -7.4558000564575195, -7.456600189208984, -7.460299968719482, -7.455699920654297, -7.078499794006348, -7.503799915313721, -7.061600208282471, -7.455100059509277, -5.686800003051758, -7.486000061035156, -8.116100311279297, -8.117400169372559, -8.10669994354248, -7.4369001388549805, -8.117500305175781, -7.453700065612793, -8.11769962310791, -8.111700057983398, -8.128899574279785, -8.11400032043457, -8.117600440979004, -8.116399765014648, -8.124300003051758, -6.831099987030029, -6.597700119018555, -6.774499893188477, -7.136000156402588, -5.542600154876709, -7.255899906158447, -5.322500228881836, -6.556099891662598, -7.489799976348877, -7.52810001373291, -6.712399959564209, -6.629799842834473, -4.434700012207031, -6.402400016784668, -5.698299884796143, -5.603300094604492, -5.172900199890137, -6.5980000495910645, -5.686699867248535, -6.568900108337402, -5.617599964141846, -5.302999973297119, -5.091700077056885, -5.161799907684326, -5.645299911499023, -5.56820011138916, -5.542500019073486, -5.421899795532227, -6.139900207519531, -5.671800136566162, -5.625999927520752, -5.294899940490723, -5.746600151062012, -5.642300128936768, -5.855000019073486, -6.202199935913086, -6.105599880218506, -5.543300151824951, -5.777100086212158, -5.672599792480469, -5.619999885559082, -5.790800094604492, -5.858399868011475, -5.700200080871582, -5.763299942016602, -5.762400150299072, -5.851500034332275, -6.933499813079834, -6.2444000244140625, -6.958399772644043, -6.068999767303467, -6.245100021362305, -6.92579984664917, -6.921899795532227, -6.9328999519348145, -6.933899879455566, -6.92519998550415, -6.9268999099731445, -6.9253997802734375, -6.539700031280518, -6.922299861907959, -6.93149995803833, -6.968699932098389, -6.921500205993652, -6.158599853515625, -6.924200057983398, -6.9791998863220215, -7.021200180053711, -6.921999931335449, -6.996099948883057, -6.45550012588501, -6.945799827575684, -6.924300193786621, -7.586699962615967, -7.58050012588501, -7.601799964904785, -7.583600044250488, -7.017499923706055, -6.919899940490723, -5.9471001625061035, -6.481800079345703, -5.559800148010254, -6.554699897766113, -6.241799831390381, -5.839799880981445, -5.838600158691406, -5.260499954223633, -5.3480000495910645, -5.49970006942749, -5.984600067138672, -6.127900123596191, -6.241600036621094, -5.361999988555908, -6.287199974060059, -5.646100044250488, -5.710700035095215, -6.531599998474121, -5.883999824523926, -5.985400199890137, -6.0543999671936035, -6.4293999671936035, -5.831900119781494, -5.757999897003174, -5.959799766540527, -6.107500076293945, -6.221499919891357, -5.986800193786621, -6.0254998207092285, -6.095300197601318, -6.0980000495910645, -6.169099807739258, -6.1402997970581055, -6.1753997802734375, -6.2083001136779785, -6.205399990081787, -6.166399955749512, -6.5177001953125, -6.740300178527832, -6.582200050354004, -7.178999900817871, -7.182799816131592, -7.180799961090088, -7.2129998207092285, -7.306000232696533, -7.180200099945068, -7.1774001121521, -7.178500175476074, -7.177599906921387, -6.55079984664917, -7.177700042724609, -7.183000087738037, -7.1793999671936035, -7.184299945831299, -7.184899806976318, -6.515900135040283, -7.4375, -7.180699825286865, -7.179699897766113, -7.177999973297119, -7.183800220489502, -7.178100109100342, -7.178999900817871, -7.177999973297119, -7.183199882507324, -6.627900123596191, -4.731800079345703, -6.263599872589111, -6.0055999755859375, -6.207099914550781, -5.792799949645996, -5.446700096130371, -5.151400089263916, -5.6184000968933105, -6.513000011444092, -6.118899822235107, -5.593500137329102, -6.1209001541137695, -5.991199970245361, -5.887599945068359, -6.515699863433838, -5.055500030517578, -5.0142998695373535, -5.835400104522705, -5.582799911499023, -5.420400142669678, -5.418700218200684, -5.453000068664551, -6.608099937438965, -5.097400188446045, -5.80810022354126, -5.597599983215332, -5.807199954986572, -5.665800094604492, -5.6732001304626465, -5.8267998695373535, -5.86870002746582, -5.8180999755859375, -5.693600177764893, -5.769999980926514, -5.805099964141846, -5.956200122833252, -5.929699897766113, -6.005499839782715, -6.557000160217285, -6.702700138092041, -6.541600227355957, -6.534200191497803, -6.799900054931641, -7.200699806213379, -6.15369987487793, -7.198200225830078, -7.219200134277344, -7.198599815368652, -7.200200080871582, -6.792200088500977, -7.1992998123168945, -7.207600116729736, -7.213699817657471, -7.2017998695373535, -7.200099945068359, -7.202700138092041, -7.200399875640869, -7.21150016784668, -7.216100215911865, -7.240900039672852, -6.623300075531006, -7.253799915313721, -7.273499965667725, -7.307000160217285, -7.198200225830078, -7.19789981842041, -7.201499938964844, -7.310500144958496, -6.171199798583984, -6.858699798583984, -6.066199779510498, -5.493199825286865, -5.52239990234375, -6.559000015258789, -6.176700115203857, -6.903900146484375, -5.562699794769287, -5.050099849700928, -6.615799903869629, -6.07289981842041, -6.2322001457214355, -6.537700176239014, -5.744200229644775, -6.535200119018555, -6.138400077819824, -6.561999797821045, -6.2758002281188965, -5.818900108337402, -6.229700088500977, -6.594099998474121, -5.85290002822876, -5.679999828338623, -5.73360013961792, -5.8709001541137695, -5.99429988861084, -5.866600036621094, -6.046899795532227, -5.674099922180176, -5.627999782562256, -5.670199871063232, -5.688000202178955, -5.810200214385986, -5.855899810791016, -6.065199851989746, -6.117400169372559, -6.095300197601318, -6.0447998046875, -6.0802001953125, -6.0995001792907715, -6.105899810791016, -6.117599964141846]}, \"token.table\": {\"Topic\": [3, 5, 6, 1, 2, 3, 4, 6, 7, 8, 9, 15, 1, 3, 5, 6, 2, 1, 6, 9, 12, 13, 14, 3, 7, 9, 1, 12, 1, 2, 14, 1, 2, 3, 4, 5, 6, 7, 8, 9, 10, 12, 15, 4, 5, 6, 14, 1, 2, 3, 4, 5, 6, 7, 8, 9, 10, 11, 13, 14, 3, 4, 14, 6, 7, 8, 15, 6, 7, 8, 2, 4, 1, 3, 4, 5, 7, 11, 3, 5, 12, 14, 1, 2, 6, 8, 2, 3, 13, 2, 8, 15, 1, 1, 2, 4, 10, 1, 2, 4, 6, 1, 2, 5, 6, 8, 14, 1, 2, 3, 4, 5, 6, 7, 8, 9, 10, 11, 12, 13, 15, 1, 4, 11, 4, 2, 2, 8, 10, 12, 1, 2, 3, 4, 5, 6, 7, 8, 9, 10, 11, 12, 15, 2, 4, 9, 12, 2, 7, 13, 1, 3, 8, 9, 1, 2, 6, 1, 2, 3, 4, 5, 6, 8, 12, 14, 1, 2, 3, 6, 11, 13, 6, 1, 2, 7, 13, 1, 7, 9, 1, 2, 3, 9, 10, 1, 2, 3, 4, 5, 6, 7, 8, 9, 10, 15, 1, 7, 15, 1, 2, 3, 4, 5, 6, 7, 8, 9, 10, 11, 12, 13, 14, 15, 1, 3, 7, 12, 1, 4, 10, 11, 3, 4, 1, 2, 6, 7, 9, 1, 3, 5, 10, 11, 12, 1, 3, 4, 11, 3, 4, 10, 1, 2, 6, 7, 8, 4, 8, 13, 14, 1, 3, 6, 1, 2, 3, 4, 5, 6, 7, 8, 9, 10, 11, 13, 1, 3, 4, 5, 6, 7, 8, 6, 7, 8, 2, 8, 11, 13, 2, 6, 8, 11, 13, 2, 1, 4, 5, 8, 9, 4, 5, 1, 2, 12, 1, 7, 1, 2, 3, 4, 5, 6, 7, 8, 9, 10, 11, 12, 13, 14, 15, 1, 2, 7, 9, 13, 1, 8, 1, 4, 5, 8, 1, 2, 3, 5, 6, 7, 8, 9, 12, 13, 15, 4, 11, 2, 7, 1, 2, 13, 2, 4, 9, 1, 2, 3, 4, 5, 6, 7, 8, 10, 11, 1, 3, 4, 10, 1, 2, 3, 6, 7, 1, 2, 3, 4, 5, 6, 7, 8, 9, 10, 11, 12, 13, 15, 4, 5, 2, 1, 2, 3, 4, 6, 7, 8, 11, 13, 1, 6, 7, 14, 15, 3, 4, 5, 1, 2, 3, 7, 10, 13, 1, 2, 6, 7, 9, 11, 1, 12, 1, 9, 1, 2, 7, 12, 14, 1, 2, 6, 7, 8, 9, 11, 1, 1, 3, 4, 12, 1, 3, 5, 6, 8, 12, 13, 1, 2, 3, 4, 5, 6, 7, 8, 9, 10, 11, 12, 13, 3, 5, 10, 1, 2, 7, 12, 2, 5, 6, 8, 15, 5, 6, 12, 1, 1, 2, 5, 8, 1, 5, 10, 12, 13, 1, 4, 5, 8, 10, 1, 1, 2, 3, 4, 5, 6, 7, 8, 9, 10, 11, 12, 13, 1, 2, 3, 4, 5, 6, 7, 8, 9, 10, 11, 12, 14, 1, 2, 7, 9, 1, 7, 8, 14, 2, 3, 5, 7, 12, 1, 10, 11, 12, 3, 4, 5, 6, 8, 3, 5, 8, 14, 1, 1, 6, 12, 1, 2, 3, 4, 5, 6, 7, 8, 9, 10, 11, 12, 13, 2, 8, 13, 2, 6, 7, 10, 5, 9, 1, 2, 3, 4, 5, 6, 7, 9, 11, 3, 4, 5, 6, 10, 11, 12, 1, 2, 3, 4, 5, 8, 1, 2, 6, 7, 3, 4, 1, 2, 3, 4, 5, 6, 7, 8, 10, 11, 1, 2, 6, 13, 2, 6, 8, 13, 1, 3, 10, 3, 5, 10, 3, 7, 13, 4, 5, 8, 9, 1, 2, 3, 4, 5, 7, 8, 10, 4, 1, 2, 3, 4, 5, 6, 7, 8, 9, 10, 11, 12, 13, 14, 15, 1, 2, 3, 4, 5, 6, 8, 9, 10, 11, 12, 14, 2, 3, 4, 9, 1, 2, 3, 6, 8, 10, 12, 3, 4, 10, 13, 15, 2, 11, 13, 2, 4, 11, 1, 4, 9, 3, 5, 7, 15, 1, 5, 7, 9, 5, 6, 1, 2, 15, 2, 3, 4, 15, 1, 4, 5, 7, 10, 1, 4, 7, 8, 13, 2, 5, 1, 2, 7, 8, 15, 1, 2, 3, 4, 5, 9, 11, 12, 1, 2, 3, 4, 5, 6, 7, 8, 9, 10, 11, 1, 2, 3, 4, 5, 6, 7, 8, 9, 10, 11, 12, 13, 14, 15, 3, 2, 6, 1, 2, 6, 7, 1, 2, 6, 7, 8, 9, 13, 2, 6, 11, 1, 2, 6, 8, 9, 14, 4, 1, 2, 3, 6, 7, 12, 13, 4, 5, 8, 1, 2, 3, 4, 5, 6, 7, 8, 9, 10, 11, 12, 3, 4, 5, 12, 14, 3, 4, 1, 2, 6, 7, 8, 12, 13, 1, 2, 3, 4, 5, 6, 7, 8, 9, 10, 11, 12, 13, 14, 15, 1, 2, 3, 4, 5, 6, 7, 8, 10, 11, 12, 14, 1, 2, 3, 4, 5, 6, 7, 9, 11, 12, 14, 3, 4, 5, 6, 12, 6, 9, 2, 1, 7, 8, 1, 2, 3, 4, 5, 6, 7, 8, 10, 11, 12, 13, 3, 4, 2, 8, 13, 2, 4, 1, 4, 6, 11, 1, 4, 8, 9, 1, 2, 7, 8, 9, 1, 2, 3, 4, 6, 7, 8, 9, 13, 15, 1, 8, 13, 15, 8, 9, 3, 4, 5, 5, 8, 11, 1, 1, 6, 9, 10, 12, 2, 4, 7, 9, 1, 2, 7, 11, 1, 2, 8, 9, 11, 2, 6, 8, 9, 13, 15, 1, 4, 8, 11, 14, 3, 5, 6, 9, 13, 6, 8, 12, 15, 4, 10, 12, 13, 14, 6, 8, 1, 2, 3, 10, 1, 2, 14, 3, 10, 11, 1, 2, 3, 4, 5, 6, 7, 8, 9, 10, 11, 12, 13, 15, 1, 2, 3, 4, 5, 6, 7, 8, 9, 10, 11, 12, 13, 15, 1, 2, 3, 6, 7, 8, 11, 2, 3, 4, 12, 15, 1, 2, 3, 4, 5, 6, 7, 8, 9, 10, 11, 12, 13, 1, 2, 3, 4, 5, 6, 7, 8, 9, 12, 4, 1, 3, 4, 5, 6, 7, 14, 1, 2, 3, 4, 5, 7, 1, 2, 4, 5, 6, 15, 1, 2, 3, 4, 5, 6, 7, 8, 10, 1, 2, 7, 8, 9, 15, 1, 3, 4, 5, 6, 10, 11, 3, 10, 1, 2, 6, 7, 11, 1, 9, 1, 3, 4, 5, 6, 8, 10, 11, 12, 3, 4, 1, 2, 9, 13, 2, 13, 3, 4, 5, 9, 14, 1, 2, 3, 4, 5, 6, 7, 8, 9, 10, 11, 12, 15, 1, 2, 3, 4, 6, 7, 8, 9, 11, 13, 15, 1, 4, 13, 14, 2, 3, 9, 15, 2, 7, 11, 13, 1, 8, 9, 15, 4, 4, 3, 11, 12, 4, 6, 4, 1, 1, 5, 6, 7, 1, 1, 1, 2, 6, 7, 8, 9, 13, 1, 2, 3, 4, 5, 6, 7, 8, 9, 10, 11, 1, 2, 3, 4, 5, 6, 7, 12, 13, 2, 8, 1, 2, 7, 8, 13, 2, 7, 1, 2, 7, 1, 8, 9, 1, 2, 3, 4, 5, 6, 7, 8, 9, 10, 11, 12, 13, 15, 1, 2, 4, 5, 6, 7, 8, 1, 2, 9, 12, 1, 2, 3, 4, 5, 6, 8, 9, 11, 12, 2, 7, 15, 1, 2, 3, 4, 5, 7, 11, 14, 1, 4, 5, 11, 14, 2, 6, 12, 1, 3, 4, 11, 3, 10, 11, 2, 5, 6, 8, 13, 2, 1, 3, 8, 1, 2, 3, 4, 5, 6, 7, 8, 9, 10, 11, 12, 13, 15, 2, 6, 15, 1, 2, 3, 4, 5, 6, 7, 8, 9, 10, 11, 12, 13, 1, 2, 12, 13, 1, 2, 3, 4, 5, 6, 7, 8, 9, 10, 11, 12, 13, 14, 15, 1, 3, 4, 5, 6, 7, 9, 10, 12, 13, 14, 1, 2, 3, 4, 5, 6, 7, 8, 9, 10, 11, 12, 15, 1, 2, 6, 7, 1, 2, 3, 4, 5, 6, 7, 8, 9, 10, 11, 12, 13, 14, 15, 4, 6, 7, 9, 11, 12, 1, 2, 3, 4, 5, 6, 7, 8, 9, 10, 11, 12, 13, 14, 1, 6, 8, 11, 1, 2, 3, 4, 5, 6, 7, 8, 9, 11, 12, 13, 1, 6, 9, 1, 2, 3, 4, 5, 6, 7, 8, 9, 10, 11, 12, 13, 14, 15, 1, 2, 3, 4, 5, 6, 7, 8, 9, 10, 11, 12, 14, 4, 7, 9, 1, 2, 3, 4, 5, 6, 7, 8, 9, 10, 11, 12, 13, 14, 3, 4, 5, 1, 12, 2, 6, 2, 8, 6, 8, 10, 13, 1, 2, 4, 7, 8, 15, 4, 5, 6, 8, 1, 6, 11, 3, 5, 4, 5, 8, 1, 2, 3, 4, 5, 6, 8, 9, 12, 14, 1, 2, 3, 4, 5, 6, 7, 8, 9, 10, 11, 12, 13, 14, 15, 3, 4, 14, 2, 6, 7, 2, 7, 9, 1, 2, 6, 8, 9, 11, 15, 2, 6, 7, 8, 9, 1, 2, 3, 4, 5, 6, 10, 11, 12, 1, 2, 6, 7, 8, 9, 11, 13, 1, 2, 3, 4, 5, 6, 7, 8, 9, 10, 11, 15, 1, 7, 4, 6, 7, 9, 14, 1, 3, 6, 12, 7, 8, 12, 7, 1, 2, 3, 4, 5, 6, 7, 8, 10, 11, 13, 4, 5, 8, 1, 2, 12, 1, 2, 5, 6, 12, 1, 2, 4, 5, 6, 12, 15, 1, 2, 3, 4, 5, 6, 8, 9, 10, 13, 14, 1, 2, 6, 7, 1, 2, 3, 4, 5, 6, 7, 8, 9, 10, 11, 12, 14, 2, 6, 13, 1, 2, 3, 4, 5, 6, 7, 8, 9, 11, 13, 3, 5, 10, 11, 1, 2, 3, 4, 5, 6, 7, 8, 9, 10, 11, 12, 13, 14, 15, 4, 5, 8, 1, 2, 4, 6, 7, 8, 11, 1, 2, 4, 6, 7, 9, 10, 11, 3, 10, 1, 7, 9, 12, 1, 2, 3, 4, 5, 6, 7, 8, 9, 10, 11, 12, 13, 14, 1, 2, 3, 5, 7, 11, 2, 1, 7, 13, 1, 3, 4, 9, 10, 11, 1, 2, 8, 9, 1, 10, 2, 1, 2, 3, 4, 5, 6, 7, 8, 9, 11, 12, 1, 2, 3, 4, 5, 6, 7, 8, 9, 10, 11, 12, 13, 14, 1, 2, 3, 4, 5, 6, 7, 8, 9, 11, 12, 1, 2, 3, 4, 5, 6, 7, 8, 9, 10, 11, 12, 14, 15, 1, 2, 3, 4, 5, 6, 7, 8, 9, 10, 11, 12, 13, 14, 5, 7, 5, 6, 12, 1, 3, 9, 12, 2, 15, 2, 3, 10, 2, 5, 6, 10, 1, 2, 3, 4, 5, 6, 10, 11, 3, 4, 5, 10, 11, 1, 2, 3, 4, 5, 6, 7, 8, 9, 10, 11, 12, 13, 14, 3, 1, 2, 3, 4, 5, 6, 7, 8, 9, 10, 11, 12, 13, 14, 15, 3, 4, 5, 8, 10, 6, 1, 2, 3, 4, 5, 6, 7, 8, 9, 10, 11, 12, 13, 14, 15, 1, 2, 3, 4, 5, 6, 7, 8, 9, 10, 11, 12, 13, 14, 15, 1, 2, 6, 8, 2, 6, 8, 9, 15, 1, 3, 10, 12, 4, 5, 8, 3, 4, 5, 10, 11, 12, 1, 2, 3, 4, 5, 6, 9, 10, 1, 2, 3, 4, 5, 7, 15, 2, 1, 2, 3, 4, 5, 6, 7, 8, 9, 10, 11, 12, 6, 7, 1, 2, 3, 4, 5, 6, 7, 8, 9, 10, 11, 12, 13, 14, 4, 5, 10, 14, 1, 2, 6, 7, 8, 9, 11, 13, 1, 5, 1, 2, 7, 8, 9, 6, 8, 1, 2, 3, 5, 8, 10, 12, 3, 4, 5, 7, 8, 9, 10, 11, 12, 14, 1, 6, 8, 13, 1, 2, 6, 12, 1, 7, 2, 4, 6, 15, 1, 12, 14, 1, 2, 3, 4, 5, 6, 7, 8, 10, 1, 6, 7, 9, 10, 11, 1, 2, 3, 4, 5, 8, 13, 2, 6, 12, 15, 6, 9, 10, 5, 11, 1, 2, 4, 6, 12, 14, 1, 8, 13, 3, 10, 2, 6, 7, 1, 2, 3, 4, 5, 6, 8, 9, 10, 12, 1, 6, 12, 2, 1, 2, 7, 9, 13, 4, 3, 4, 5, 1, 2, 3, 4, 5, 6, 7, 8, 9, 10, 11, 12, 2, 9, 4, 5, 5, 10, 12, 2, 6, 7, 5, 1, 2, 3, 4, 5, 6, 7, 8, 9, 14, 1, 2, 3, 4, 5, 6, 7, 8, 9, 10, 11, 12, 13, 14, 1, 3, 11, 1, 2, 4, 6, 7, 8, 9, 12, 1, 2, 8, 12, 1, 2, 3, 4, 5, 6, 7, 8, 9, 10, 11, 12, 13, 1, 3, 4, 5, 6, 10, 11, 3, 10, 1, 2, 3, 4, 5, 6, 7, 8, 9, 10, 11, 12, 13, 14, 15, 1, 2, 3, 4, 6, 7, 9, 13, 1, 2, 3, 5, 6, 7, 8, 9, 14, 1, 2, 3, 4, 5, 6, 7, 8, 9, 10, 11, 12, 13, 14, 15, 3, 1, 2, 3, 4, 5, 6, 7, 8, 10, 11, 12, 13, 1, 2, 6, 7, 8, 13, 1, 7, 12, 13, 6, 7, 12, 1, 2, 3, 4, 5, 6, 7, 8, 9, 10, 11, 12, 13, 1, 6, 10, 1, 2, 13, 1, 4, 6, 8, 10, 2, 7, 9, 13, 1, 2, 3, 4, 6, 7, 8, 9, 11, 15, 1, 2, 3, 4, 5, 6, 7, 8, 9, 10, 11, 12, 1, 2, 3, 4, 5, 6, 7, 8, 9, 10, 12, 13, 14, 2, 3, 7, 11, 15, 1, 2, 2, 7, 15, 1, 2, 3, 4, 5, 6, 7, 8, 9, 10, 11, 12, 13, 14, 1, 2, 3, 4, 5, 6, 7, 8, 9, 10, 11, 13, 1, 14, 1, 2, 3, 4, 5, 6, 7, 8, 9, 10, 11, 12, 13, 15, 1, 2, 3, 4, 5, 6, 7, 8, 10, 11, 15, 1, 2, 3, 4, 6, 7, 9, 10, 13, 1, 2, 3, 4, 5, 6, 7, 8, 9, 10, 11, 12, 13, 14, 15, 1, 2, 3, 4, 5, 6, 7, 8, 9, 10, 11, 12, 13, 14, 1, 4, 5, 8, 9, 1, 2, 4, 6, 7, 9, 11, 12, 13, 14, 1, 2, 1, 2, 4, 5, 7, 12, 1, 2, 3, 4, 5, 6, 7, 8, 9, 10, 11, 12, 13, 14, 15, 4, 5, 8, 3, 1, 2, 3, 4, 5, 6, 7, 8, 9, 10, 11, 12, 13, 14, 15, 1, 2, 3, 4, 5, 6, 7, 8, 9, 10, 11, 12, 13, 14, 15, 1, 2, 3, 4, 5, 6, 7, 8, 9, 10, 11, 12, 14, 1, 2, 3, 4, 5, 6, 7, 10, 11, 12, 1, 7, 9, 4, 5, 8, 4, 5, 1, 2, 3, 4, 5, 6, 7, 9, 11, 7, 8, 9, 1, 6, 7, 8, 12, 1, 2, 3, 4, 7, 9, 11, 4, 5, 8, 1, 1, 2, 3, 6, 7, 8, 9, 10, 12, 1, 2, 6, 7, 9, 11, 13, 15, 2, 7, 11, 4, 3, 4, 5, 7, 9, 1, 2, 7, 2, 6, 8, 2, 15, 1, 2, 3, 4, 5, 6, 7, 8, 9, 10, 11, 12, 13, 1, 6, 3, 10, 11, 1, 2, 6, 1, 3, 4, 1, 3, 4, 5, 7, 2, 6, 7, 11, 1, 2, 3, 4, 5, 6, 7, 8, 10, 12, 3, 4, 5, 10, 11, 1, 2, 4, 5, 6, 7, 8, 9, 10, 12, 1, 6, 10, 13, 1, 2, 3, 4, 5, 6, 7, 8, 9, 12, 14, 1, 2, 6, 8, 9, 13, 15, 2, 9, 1, 2, 5, 6, 7, 8, 9, 11, 12, 4, 5, 8, 2, 7, 8, 13, 1, 3, 4, 5, 3, 4, 1, 2, 6, 7, 8, 13, 1, 11, 12, 5, 12, 1, 12, 14, 1, 5, 1, 2, 3, 4, 5, 6, 7, 8, 9, 10, 11, 12, 13, 15, 1, 5, 8, 9, 1, 2, 3, 4, 5, 6, 10, 1, 2, 3, 4, 5, 6, 7, 8, 9, 10, 11, 12, 13, 1, 6, 8, 1, 1, 2, 7, 1, 2, 3, 4, 5, 6, 7, 8, 9, 10, 11, 12, 13, 1, 2, 6, 7, 9, 5, 10, 1, 2, 6, 7, 8, 9, 12, 13, 15, 1, 7, 8, 1, 2, 3, 4, 5, 6, 7, 8, 9, 10, 11, 12, 14, 15, 4, 6, 3, 4, 8, 1, 2, 3, 4, 5, 10, 11, 1, 7, 11, 2, 3, 13, 2, 5, 10, 11, 1, 2, 8, 11, 1, 8, 11, 13, 1, 2, 3, 4, 5, 6, 7, 8, 9, 10, 11, 12, 15, 1, 2, 7, 8, 1, 2, 3, 4, 5, 6, 7, 8, 9, 10, 11, 15, 2, 4, 5, 8, 1, 2, 3, 4, 5, 6, 7, 8, 9, 10, 11, 12, 14, 15, 1, 2, 3, 4, 5, 6, 7, 8, 9, 10, 11, 12, 13, 2, 7, 11, 1, 7, 13, 3, 7, 9, 5, 3, 4, 5, 12, 2, 9, 2, 7, 1, 2, 6, 7, 2, 15, 1, 4, 5, 1, 2, 3, 4, 5, 6, 7, 8, 9, 10, 11, 12, 15, 1, 2, 3, 4, 5, 6, 7, 8, 9, 10, 11, 12, 13, 14, 2, 7, 2, 7, 8, 9, 3, 4, 4, 1, 2, 11, 1, 2, 3, 4, 5, 6, 7, 8, 9, 10, 12, 1, 2, 4, 13, 15, 1, 6, 9, 15, 1, 7, 8, 1, 2, 3, 4, 5, 6, 7, 8, 9, 11, 12, 13, 1, 2, 3, 4, 5, 6, 7, 10, 11, 1, 2, 6, 7, 9, 13, 1, 8, 13, 3, 1, 2, 6, 7, 9, 11, 13, 1, 2, 6, 7, 9, 6, 8, 11, 15, 2, 6, 7, 8, 9, 13, 15, 4, 5, 7, 1, 2, 3, 6, 7, 10, 15, 2, 6, 7, 8, 9, 13, 1, 2, 3, 4, 5, 6, 7, 8, 9, 10, 11, 12, 13, 14, 2, 3, 5, 10, 3, 10, 11, 12, 1, 2, 7, 12, 2, 7, 12, 1, 9, 11, 13, 2, 6, 4, 5, 1, 2, 3, 4, 6, 7, 8, 9, 11, 14, 15, 1, 2, 3, 4, 7, 8, 9, 2, 7, 2, 1, 12, 13, 1, 2, 3, 4, 5, 6, 7, 8, 9, 10, 11, 12, 13, 2, 1, 2, 3, 4, 5, 6, 7, 8, 9, 10, 11, 12, 13, 2, 8, 14, 2, 7, 10, 1, 2, 6, 11, 1, 6, 1, 2, 3, 4, 5, 6, 7, 8, 9, 10, 11, 12, 15, 2, 9, 10, 12, 15, 1, 2, 3, 4, 5, 6, 9, 10, 12, 14, 1, 2, 3, 4, 5, 6, 7, 8, 9, 10, 11, 12, 13, 15, 1, 3, 4, 8, 14, 1, 2, 3, 4, 5, 6, 7, 8, 9, 10, 11, 13, 15, 1, 2, 6, 7, 2, 6, 10, 1, 2, 3, 8, 1, 2, 3, 4, 5, 6, 9, 12, 2, 8, 15, 3, 7, 10, 11, 1, 2, 3, 4, 5, 8, 2, 11, 2, 6, 9, 10, 1, 2, 3, 8, 9, 1, 2, 5, 6, 7, 8, 9, 11, 15, 1, 2, 6, 7, 8, 9, 15, 1, 2, 9, 11, 1, 2, 7, 9, 2, 4, 6, 9, 1, 2, 7, 8, 13, 2, 7, 1, 2, 9, 3, 11, 12, 2, 9, 13, 2, 12, 1, 2, 3, 4, 5, 6, 7, 8, 9, 10, 11, 12, 13, 15, 4, 2, 5, 7, 10, 1, 4, 8, 10, 12, 1, 2, 6, 12, 1, 4, 5, 8, 3, 6, 15, 1, 3, 6, 12, 1, 4, 10, 15, 1, 6, 15, 2, 1, 2, 3, 4, 5, 6, 7, 8, 9, 10, 11, 14, 1, 2, 8, 15, 1, 2, 3, 8, 2, 4, 11, 14, 1, 2, 3, 4, 6, 10, 11, 2, 8, 2, 8, 9, 13, 15, 1, 3, 6, 10, 2, 4, 8, 14, 3, 1, 2, 10, 11, 1, 2, 6, 9, 10, 12, 1, 3, 4, 5, 9, 1, 2, 6, 7, 9, 10, 12, 14, 1, 2, 6, 7, 8, 10, 11, 1, 2, 3, 4, 5, 6, 7, 8, 9, 10, 11, 12, 13, 15, 1, 6, 2, 7, 1, 2, 4, 6, 8, 9, 12, 1, 2, 3, 4, 5, 6, 7, 8, 9, 10, 11, 12, 13, 15, 1, 3, 13, 1, 2, 6, 7, 8, 9, 1, 3, 6, 7, 8, 12, 13, 2, 7, 10, 1, 2, 3, 6, 7, 8, 9, 12, 14, 4, 6, 8, 2, 3, 8, 12, 3, 4, 5, 9, 10, 1, 2, 3, 4, 5, 6, 7, 8, 9, 10, 11, 12, 13, 15, 1, 2, 3, 4, 5, 6, 7, 8, 11, 12, 15, 1, 1, 2, 5, 6, 7, 9, 1, 7, 12, 3, 5, 9, 10, 14, 4, 5, 7, 15, 1, 2, 3, 5, 6, 7, 9, 10, 11, 12, 1, 4, 6, 9, 11, 1, 2, 3, 4, 5, 6, 8, 10, 12, 15, 1, 2, 3, 4, 5, 6, 7, 8, 10, 11, 13, 14, 3, 11, 2, 6, 7, 8, 1, 2, 3, 4, 5, 6, 7, 8, 9, 10, 11, 12, 14, 4, 6, 9, 1, 2, 4, 5, 6, 8, 9, 12, 14, 1, 7, 2, 12, 13, 1, 14, 1, 2, 4, 10, 1, 2, 3, 4, 5, 6, 7, 9, 10, 12, 13, 15, 1, 2, 3, 4, 5, 6, 7, 8, 9, 10, 11, 12, 1, 2, 3, 4, 5, 6, 8, 9, 10, 12, 14, 1, 5, 11, 14, 1, 2, 4, 5, 6, 10, 14, 15, 6, 2, 2, 1, 4, 6, 7, 15, 3, 1, 3, 4, 10, 11, 13, 2, 11, 1, 2, 3, 4, 5, 6, 7, 8, 9, 10, 11, 12, 13, 15, 1, 2, 7, 2, 7, 4, 1, 2, 3, 4, 5, 6, 7, 8, 10, 11, 12, 1, 2, 3, 4, 5, 6, 7, 8, 9, 10, 11, 12, 13, 14, 15, 1, 2, 3, 4, 5, 6, 7, 8, 9, 10, 11, 12, 1, 2, 7, 10, 1, 2, 3, 4, 5, 6, 7, 8, 9, 10, 11, 13, 1, 2, 3, 6, 7, 8, 14, 2, 1, 2, 3, 4, 5, 6, 7, 8, 9, 10, 11, 12, 13, 1, 2, 4, 5, 6, 7, 8, 9, 10, 12, 1, 2, 1, 1, 2, 3, 4, 5, 6, 7, 8, 9, 12, 13, 3, 7, 13, 1, 6, 7, 12, 1, 2, 3, 4, 5, 6, 7, 8, 9, 11, 12, 14, 1, 2, 3, 4, 12, 13, 5, 8, 1, 2, 3, 4, 6, 7, 9, 10, 6, 8, 1, 2, 3, 5, 8, 11, 13, 1, 2, 3, 4, 5, 6, 7, 8, 9, 10, 11, 12, 13, 14, 1, 2, 10, 12, 1, 2, 3, 4, 5, 6, 7, 8, 15, 3, 5, 10, 3, 3, 11, 1, 2, 6, 7, 10, 12, 6, 9, 11, 1, 9, 11, 1, 9, 13, 1, 2, 3, 4, 5, 8, 9, 10, 1, 3, 5, 10, 11, 3, 4, 12, 1, 2, 3, 6, 7, 8, 9, 11, 15, 1, 2, 3, 4, 5, 6, 7, 8, 9, 10, 11, 12, 13, 15, 1, 2, 3, 6, 1, 2, 6, 1, 2, 3, 4, 5, 6, 7, 8, 9, 10, 11, 12, 13, 14, 15, 1, 2, 3, 4, 5, 6, 7, 8, 9, 10, 11, 12, 13, 14, 15, 1, 2, 6, 12, 14, 1, 2, 3, 4, 5, 6, 7, 8, 9, 10, 11, 12, 13, 14, 15, 1, 2, 3, 4, 5, 6, 7, 8, 9, 10, 11, 12, 14, 1, 13, 1, 2, 5, 7, 12, 14, 1, 2, 3, 4, 5, 6, 7, 8, 9, 10, 11, 12, 13, 15, 1, 9, 15, 1, 2, 3, 4, 5, 6, 7, 8, 9, 10, 11, 12, 13, 15, 1, 2, 3, 4, 5, 6, 7, 8, 9, 10, 11, 12, 14, 15, 1, 2, 4, 11, 12, 15, 1, 2, 5, 14, 15, 3, 6, 7, 1, 8, 10, 2, 1, 4, 7, 1, 2, 4, 10, 1, 2, 3, 4, 5, 6, 7, 8, 9, 10, 11, 12, 13, 14, 15, 1, 2, 7, 8, 3, 1, 2, 3, 4, 5, 6, 7, 8, 9, 10, 11, 12, 5, 6, 10, 13, 1, 4, 12, 14, 4, 3, 4, 6, 12, 14, 6, 11, 3, 4, 6, 14, 1, 7, 10, 12, 4, 2, 6, 1, 2, 7, 9, 13, 1, 3, 4, 6, 7, 11, 12, 13, 1, 2, 6, 7, 8, 12, 1, 5, 12, 13, 2, 6, 8, 1, 2, 6, 7, 11, 2, 1, 2, 8, 12, 15, 1, 2, 3, 4, 5, 6, 7, 8, 9, 10, 11, 12, 13, 15, 1, 2, 3, 4, 15, 1, 2, 7, 9, 13, 2, 6, 7, 1, 2, 3, 4, 5, 6, 7, 8, 9, 10, 11, 12, 14, 15, 1, 2, 3, 4, 5, 6, 7, 8, 9, 10, 11, 12, 13, 14, 15, 1, 2, 3, 4, 5, 6, 7, 8, 9, 10, 11, 12, 13, 14, 1, 3, 4, 5, 6, 10, 11, 12, 2, 1, 2, 3, 4, 6, 7, 8, 9, 10, 12, 4, 5, 1, 9, 12, 3, 4, 1, 2, 3, 4, 5, 6, 7, 12, 13, 3, 2, 10, 1, 2, 3, 4, 6, 10, 1, 2, 3, 4, 5, 6, 7, 8, 9, 10, 11, 12, 14, 2, 4, 11, 3, 4, 5, 10, 11, 12, 1, 2, 3, 4, 5, 6, 7, 8, 9, 10, 11, 12, 13, 14, 15, 1, 2, 3, 4, 5, 6, 7, 8, 9, 10, 11, 12, 13, 14, 3, 6, 9, 10, 14, 1, 2, 3, 4, 5, 6, 7, 8, 9, 10, 11, 12, 14, 1, 2, 3, 4, 5, 6, 7, 8, 9, 10, 11, 12, 13, 14, 1, 2, 3, 4, 5, 6, 7, 8, 9, 10, 11, 12, 13, 15, 6, 8, 1, 2, 3, 4, 5, 6, 7, 8, 9, 10, 11, 12, 13, 14, 15, 2, 6, 8, 12, 13], \"Freq\": [0.9584411978721619, 0.14777083694934845, 0.7388542294502258, 0.3004377484321594, 0.22532829642295837, 0.07510943710803986, 0.11266414821147919, 0.07510943710803986, 0.07510943710803986, 0.056332074105739594, 0.03755471855401993, 0.03755471855401993, 0.0668584331870079, 0.0668584331870079, 0.7354427576065063, 0.0668584331870079, 0.8552058935165405, 0.8384864330291748, 0.015107863582670689, 0.015107863582670689, 0.09820111095905304, 0.015107863582670689, 0.007553931791335344, 0.1876516342163086, 0.3753032684326172, 0.3753032684326172, 0.5599110722541809, 0.3732740581035614, 0.5561892986297607, 0.18539643287658691, 0.18539643287658691, 0.05645096302032471, 0.07903134822845459, 0.1542993038892746, 0.425263911485672, 0.13924570381641388, 0.09032154083251953, 0.026343783363699913, 0.011290192604064941, 0.0037633974570780993, 0.0075267949141561985, 0.0075267949141561985, 0.0037633974570780993, 0.3228136897087097, 0.16140684485435486, 0.3228136897087097, 0.16140684485435486, 0.2093939632177353, 0.2931515574455261, 0.11040772497653961, 0.08756474405527115, 0.09898623824119568, 0.04568595439195633, 0.04568595439195633, 0.022842977195978165, 0.030457302927970886, 0.04187879338860512, 0.0076143257319927216, 0.0038071628659963608, 0.0038071628659963608, 0.6269975900650024, 0.1567493975162506, 0.1567493975162506, 0.390789270401001, 0.1953946352005005, 0.1953946352005005, 0.1953946352005005, 0.22316037118434906, 0.6136910319328308, 0.055790092796087265, 0.8134730458259583, 0.9372234344482422, 0.19248181581497192, 0.19248181581497192, 0.12832121551036835, 0.12832121551036835, 0.06416060775518417, 0.2566424310207367, 0.4173237979412079, 0.27821585536003113, 0.13910792768001556, 0.13910792768001556, 0.08639081567525864, 0.17278163135051727, 0.6047357320785522, 0.08639081567525864, 0.3858937621116638, 0.1929468810558319, 0.1929468810558319, 0.5100700259208679, 0.25503501296043396, 0.12751750648021698, 0.9242383241653442, 0.1580435186624527, 0.3160870373249054, 0.1580435186624527, 0.3160870373249054, 0.20318067073822021, 0.04063613340258598, 0.16254453361034393, 0.6095420122146606, 0.0791049674153328, 0.23731490969657898, 0.23731490969657898, 0.1582099348306656, 0.23731490969657898, 0.0791049674153328, 0.2469838410615921, 0.1646558940410614, 0.16181699931621552, 0.13058915734291077, 0.16181699931621552, 0.04542231559753418, 0.02271115779876709, 0.008516684174537659, 0.019872263073921204, 0.008516684174537659, 0.0056777894496917725, 0.008516684174537659, 0.008516684174537659, 0.0028388947248458862, 0.3695424199104309, 0.18477120995521545, 0.3695424199104309, 0.8773128986358643, 0.8545886278152466, 0.3798401951789856, 0.1899200975894928, 0.1899200975894928, 0.1899200975894928, 0.4207974076271057, 0.15622419118881226, 0.09071081876754761, 0.06047387793660164, 0.0856713280081749, 0.07811209559440613, 0.04787515476346016, 0.010078979656100273, 0.03023693896830082, 0.007559234742075205, 0.0025197449140250683, 0.007559234742075205, 0.007559234742075205, 0.18612055480480194, 0.18612055480480194, 0.3722411096096039, 0.18612055480480194, 0.1701335310935974, 0.3402670621871948, 0.1701335310935974, 0.276009738445282, 0.138004869222641, 0.414014607667923, 0.138004869222641, 0.12918885052204132, 0.12918885052204132, 0.6459442973136902, 0.0780172199010849, 0.03900860995054245, 0.19504304230213165, 0.4485990107059479, 0.11702582985162735, 0.019504304975271225, 0.03900860995054245, 0.019504304975271225, 0.03900860995054245, 0.5126585364341736, 0.07323693484067917, 0.07323693484067917, 0.07323693484067917, 0.2197108119726181, 0.07323693484067917, 0.8710440397262573, 0.07769321650266647, 0.38846608996391296, 0.23307964205741882, 0.23307964205741882, 0.3658633828163147, 0.18293169140815735, 0.3658633828163147, 0.3587878942489624, 0.07175757735967636, 0.14351515471935272, 0.28703030943870544, 0.07175757735967636, 0.0877242162823677, 0.021931054070591927, 0.257689893245697, 0.16448290646076202, 0.383793443441391, 0.005482763517647982, 0.010965527035295963, 0.005482763517647982, 0.04386210814118385, 0.005482763517647982, 0.005482763517647982, 0.39589208364486694, 0.39589208364486694, 0.13196402788162231, 0.1944788247346878, 0.10460603982210159, 0.1885855346918106, 0.2018454521894455, 0.12228593230247498, 0.07661287486553192, 0.04272640869021416, 0.017679894343018532, 0.008839947171509266, 0.016206568107008934, 0.0058932979591190815, 0.01473324466496706, 0.0029466489795595407, 0.0014733244897797704, 0.0014733244897797704, 0.18758155405521393, 0.18758155405521393, 0.18758155405521393, 0.18758155405521393, 0.9430328011512756, 0.31901609897613525, 0.21267738938331604, 0.4253547787666321, 0.05472073331475258, 0.9193083047866821, 0.10788054019212723, 0.6472832560539246, 0.08091040700674057, 0.14833573997020721, 0.013485067524015903, 0.02056797780096531, 0.8638550639152527, 0.01371198520064354, 0.07541591674089432, 0.01371198520064354, 0.00685599260032177, 0.04436885565519333, 0.39931970834732056, 0.13310657441616058, 0.35495084524154663, 0.2486688196659088, 0.2486688196659088, 0.3730032444000244, 0.006170956417918205, 0.71583092212677, 0.02468382567167282, 0.24066729843616486, 0.006170956417918205, 0.30899375677108765, 0.30899375677108765, 0.15449687838554382, 0.15449687838554382, 0.09383201599121094, 0.18766403198242188, 0.6568241119384766, 0.18284493684768677, 0.1263292282819748, 0.20944055914878845, 0.16954712569713593, 0.15624931454658508, 0.026595627889037132, 0.039893440902233124, 0.039893440902233124, 0.01662226766347885, 0.013297813944518566, 0.006648906972259283, 0.013297813944518566, 0.006751445587724447, 0.18904048204421997, 0.5536185503005981, 0.2160462588071823, 0.006751445587724447, 0.013502891175448895, 0.006751445587724447, 0.06707512587308884, 0.06707512587308884, 0.8049014806747437, 0.19995644688606262, 0.39991289377212524, 0.19995644688606262, 0.19995644688606262, 0.07346951216459274, 0.07346951216459274, 0.44081708788871765, 0.29387804865837097, 0.07346951216459274, 0.8756140470504761, 0.0030420224647969007, 0.06084045022726059, 0.9156487584114075, 0.012168089859187603, 0.0030420224647969007, 0.09069016575813293, 0.816211462020874, 0.9218710064888, 0.0609501488506794, 0.007618768606334925, 0.1873132586479187, 0.5619397759437561, 0.20769017934799194, 0.11682572215795517, 0.2790836691856384, 0.11682572215795517, 0.13629667460918427, 0.07139349728822708, 0.014603215269744396, 0.01784837432205677, 0.004867738578468561, 0.019470954313874245, 0.003245159052312374, 0.004867738578468561, 0.001622579526156187, 0.003245159052312374, 0.001622579526156187, 0.021960105746984482, 0.6148829460144043, 0.21960106492042542, 0.021960105746984482, 0.08784042298793793, 0.4695090055465698, 0.4695090055465698, 0.00320542324334383, 0.01923253946006298, 0.9680378437042236, 0.00641084648668766, 0.594194769859314, 0.2530829608440399, 0.0165054090321064, 0.005501803010702133, 0.0165054090321064, 0.07702524214982986, 0.005501803010702133, 0.005501803010702133, 0.005501803010702133, 0.005501803010702133, 0.005501803010702133, 0.3824548125267029, 0.3824548125267029, 0.8901561498641968, 0.06358257681131363, 0.3776758313179016, 0.2832568883895874, 0.2832568883895874, 0.15262894332408905, 0.3052578866481781, 0.3052578866481781, 0.06252065300941467, 0.011033056303858757, 0.6693387627601624, 0.1066528782248497, 0.014710741117596626, 0.025743797421455383, 0.007355370558798313, 0.014710741117596626, 0.04413222521543503, 0.04045454040169716, 0.33363795280456543, 0.11121264845132828, 0.11121264845132828, 0.33363795280456543, 0.1818205565214157, 0.06060685217380524, 0.06060685217380524, 0.6060685515403748, 0.06060685217380524, 0.4630250334739685, 0.22850586473941803, 0.012026624754071236, 0.054119810461997986, 0.07817306369543076, 0.03607987239956856, 0.012026624754071236, 0.012026624754071236, 0.02405324950814247, 0.030066560953855515, 0.01803993619978428, 0.006013312377035618, 0.006013312377035618, 0.012026624754071236, 0.22194260358810425, 0.7644689679145813, 0.8969470262527466, 0.09576427191495895, 0.11970534175634384, 0.33517494797706604, 0.07182320952415466, 0.07182320952415466, 0.02394106797873974, 0.1915285438299179, 0.02394106797873974, 0.07182320952415466, 0.4184301495552063, 0.20921507477760315, 0.20921507477760315, 0.10460753738880157, 0.10460753738880157, 0.07472800463438034, 0.8967360854148865, 0.006793455220758915, 0.7127143740653992, 0.10964836925268173, 0.027412092313170433, 0.10964836925268173, 0.013706046156585217, 0.013706046156585217, 0.14076107740402222, 0.5133639574050903, 0.28152215480804443, 0.03726028650999069, 0.01242009550333023, 0.008280063979327679, 0.5678314566612244, 0.42587360739707947, 0.9408289194107056, 0.035502977669239044, 0.13246941566467285, 0.2649388313293457, 0.2649388313293457, 0.13246941566467285, 0.13246941566467285, 0.33567485213279724, 0.13986453413963318, 0.13986453413963318, 0.027972904965281487, 0.16783742606639862, 0.16783742606639862, 0.027972904965281487, 0.9772379994392395, 0.8670014142990112, 0.037695713341236115, 0.07539142668247223, 0.037695713341236115, 0.4482792913913727, 0.07471321523189545, 0.07471321523189545, 0.1494264304637909, 0.03735660761594772, 0.1494264304637909, 0.03735660761594772, 0.25301337242126465, 0.19373594224452972, 0.1734948754310608, 0.12722957134246826, 0.10554271191358566, 0.053494252264499664, 0.0346989743411541, 0.018795277923345566, 0.01734948717057705, 0.008674743585288525, 0.008674743585288525, 0.0028915812727063894, 0.0014457906363531947, 0.8096200823783875, 0.11848098784685135, 0.039493661373853683, 0.7061821818351746, 0.19259513914585114, 0.03209919109940529, 0.048148784786462784, 0.38012757897377014, 0.04751594737172127, 0.23757973313331604, 0.2850956618785858, 0.04751594737172127, 0.3052206039428711, 0.45783090591430664, 0.15261030197143555, 0.9070665836334229, 0.038413360714912415, 0.2304801493883133, 0.6914404630661011, 0.038413360714912415, 0.19766904413700104, 0.19766904413700104, 0.2635587453842163, 0.06588968634605408, 0.19766904413700104, 0.007526701781898737, 0.3236481845378876, 0.6472963690757751, 0.007526701781898737, 0.007526701781898737, 0.9460170269012451, 0.133660688996315, 0.29108327627182007, 0.06831546872854233, 0.15148212015628815, 0.10098808258771896, 0.09207736700773239, 0.04158332571387291, 0.062374990433454514, 0.020791662856936455, 0.008910712786018848, 0.014851188287138939, 0.011880950070917606, 0.0029702375177294016, 0.08998696506023407, 0.11098392307758331, 0.31495437026023865, 0.14397914707660675, 0.21596871316432953, 0.02999565377831459, 0.023996524512767792, 0.011998262256383896, 0.017997393384575844, 0.014997826889157295, 0.008998696692287922, 0.005999131128191948, 0.011998262256383896, 0.13869819045066833, 0.13869819045066833, 0.5547927618026733, 0.13869819045066833, 0.3334735333919525, 0.3334735333919525, 0.16673676669597626, 0.16673676669597626, 0.10855385661125183, 0.4342154264450073, 0.10855385661125183, 0.10855385661125183, 0.21710771322250366, 0.1030222550034523, 0.7211558222770691, 0.05151112750172615, 0.05151112750172615, 0.008640402927994728, 0.4838625490665436, 0.4752221703529358, 0.008640402927994728, 0.008640402927994728, 0.32538771629333496, 0.16269385814666748, 0.32538771629333496, 0.16269385814666748, 0.9321484565734863, 0.08747106790542603, 0.6997685432434082, 0.08747106790542603, 0.19089725613594055, 0.1622626632452011, 0.2004421204328537, 0.19089725613594055, 0.07158646732568741, 0.014317293651401997, 0.042951881885528564, 0.03817944973707199, 0.004772431217133999, 0.057269174605607986, 0.004772431217133999, 0.014317293651401997, 0.004772431217133999, 0.33512577414512634, 0.33512577414512634, 0.16756288707256317, 0.40703004598617554, 0.045225560665130615, 0.45225560665130615, 0.045225560665130615, 0.8106017112731934, 0.10132521390914917, 0.4437856376171112, 0.10442014783620834, 0.06091175228357315, 0.06961343437433243, 0.06091175228357315, 0.034806717187166214, 0.1218235045671463, 0.026105036959052086, 0.06961343437433243, 0.9452677965164185, 0.0045665111392736435, 0.0045665111392736435, 0.0045665111392736435, 0.009133022278547287, 0.009133022278547287, 0.018266044557094574, 0.03726790472865105, 0.0745358094573021, 0.12422634661197662, 0.5465959310531616, 0.18633951246738434, 0.024845268577337265, 0.03128120303153992, 0.828951895236969, 0.01564060151576996, 0.09384361654520035, 0.03526744619011879, 0.9522210359573364, 0.25823289155960083, 0.016139555722475052, 0.19367466866970062, 0.08069778233766556, 0.14525601267814636, 0.032279111444950104, 0.032279111444950104, 0.032279111444950104, 0.14525601267814636, 0.048418667167425156, 0.34620603919029236, 0.17310301959514618, 0.17310301959514618, 0.25965452194213867, 0.33226728439331055, 0.22151152789592743, 0.11075576394796371, 0.11075576394796371, 0.16138853132724762, 0.32277706265449524, 0.32277706265449524, 0.9058471918106079, 0.06587979942560196, 0.01646994985640049, 0.34031715989112854, 0.34031715989112854, 0.17015857994556427, 0.19721639156341553, 0.7724308967590332, 0.01095646619796753, 0.005478233098983765, 0.06073615700006485, 0.006393279414623976, 0.12466894835233688, 0.6169514656066895, 0.16942191123962402, 0.012786558829247952, 0.003196639707311988, 0.006393279414623976, 0.9323205351829529, 0.2724182605743408, 0.13861991465091705, 0.21455952525138855, 0.1193336620926857, 0.0759396031498909, 0.0867881178855896, 0.028929373249411583, 0.007232343312352896, 0.014464686624705791, 0.01325929630547762, 0.008437734097242355, 0.014464686624705791, 0.003616171656176448, 0.001205390552058816, 0.001205390552058816, 0.06742364168167114, 0.011237273924052715, 0.39330458641052246, 0.2472200244665146, 0.10113546252250671, 0.03371182084083557, 0.03371182084083557, 0.011237273924052715, 0.02247454784810543, 0.02247454784810543, 0.011237273924052715, 0.03371182084083557, 0.17942754924297333, 0.17942754924297333, 0.17942754924297333, 0.35885509848594666, 0.08072126656770706, 0.16144253313541412, 0.16144253313541412, 0.08072126656770706, 0.16144253313541412, 0.08072126656770706, 0.16144253313541412, 0.20806825160980225, 0.4161365032196045, 0.10403412580490112, 0.10403412580490112, 0.10403412580490112, 0.4988843500614166, 0.16629478335380554, 0.16629478335380554, 0.4762348234653473, 0.1587449461221695, 0.317489892244339, 0.1778993308544159, 0.3557986617088318, 0.3557986617088318, 0.37944304943084717, 0.18972152471542358, 0.18972152471542358, 0.18972152471542358, 0.2419658899307251, 0.12098294496536255, 0.2419658899307251, 0.36294883489608765, 0.17275583744049072, 0.6910233497619629, 0.3666154742240906, 0.3666154742240906, 0.1833077371120453, 0.18470419943332672, 0.18470419943332672, 0.36940839886665344, 0.18470419943332672, 0.12247966974973679, 0.24495933949947357, 0.12247966974973679, 0.12247966974973679, 0.24495933949947357, 0.24963301420211792, 0.24963301420211792, 0.12481650710105896, 0.12481650710105896, 0.12481650710105896, 0.22428135573863983, 0.6728440523147583, 0.1178983747959137, 0.7368648648262024, 0.08842378109693527, 0.029474593698978424, 0.029474593698978424, 0.12809784710407257, 0.011645258404314518, 0.03493577614426613, 0.6987155079841614, 0.058226294815540314, 0.03493577614426613, 0.023290516808629036, 0.011645258404314518, 0.17674343287944794, 0.11782895773649216, 0.06480592489242554, 0.20620067417621613, 0.2238750159740448, 0.017674343660473824, 0.02356579154729843, 0.06480592489242554, 0.02356579154729843, 0.011782895773649216, 0.06480592489242554, 0.17032970488071442, 0.1967601776123047, 0.13508908450603485, 0.11746876686811447, 0.11159532517194748, 0.0939750149846077, 0.06754454225301743, 0.032303910702466965, 0.011746876873075962, 0.011746876873075962, 0.01762031391263008, 0.014683595858514309, 0.005873438436537981, 0.0029367192182689905, 0.00881015695631504, 0.9184707403182983, 0.17319555580615997, 0.6927822232246399, 0.04634149372577667, 0.8341468572616577, 0.04634149372577667, 0.09268298745155334, 0.5628790855407715, 0.010423686355352402, 0.07296580821275711, 0.07296580821275711, 0.21889741718769073, 0.031271059066057205, 0.020847372710704803, 0.19471412897109985, 0.19471412897109985, 0.3894282579421997, 0.3679852783679962, 0.14719411730766296, 0.22079117596149445, 0.03679852932691574, 0.20239190757274628, 0.01839926466345787, 0.8611534833908081, 0.7465485334396362, 0.10368729382753372, 0.020737458020448685, 0.020737458020448685, 0.020737458020448685, 0.020737458020448685, 0.04147491604089737, 0.06128911301493645, 0.9287657737731934, 0.002357273595407605, 0.4972270131111145, 0.3271230459213257, 0.01744656264781952, 0.00872328132390976, 0.00872328132390976, 0.0654246062040329, 0.0436164066195488, 0.00872328132390976, 0.00436164066195488, 0.00436164066195488, 0.00436164066195488, 0.00872328132390976, 0.12708252668380737, 0.802208423614502, 0.01588531583547592, 0.035741958767175674, 0.00794265791773796, 0.18781352043151855, 0.7780845761299133, 0.3610127568244934, 0.045126594603061676, 0.31588616967201233, 0.09025318920612335, 0.045126594603061676, 0.045126594603061676, 0.09025318920612335, 0.21449223160743713, 0.17953094840049744, 0.17291665077209473, 0.17858605086803436, 0.09354507178068161, 0.058583784848451614, 0.041575588285923004, 0.01984289474785328, 0.014173495583236217, 0.006614298094063997, 0.0075591979548335075, 0.006614298094063997, 0.0028346991166472435, 0.0018897994887083769, 0.0018897994887083769, 0.045946162194013596, 0.027227355167269707, 0.3743761479854584, 0.20420517027378082, 0.21441543102264404, 0.04254274442791939, 0.011911967769265175, 0.0034034193959087133, 0.05445471033453941, 0.013613677583634853, 0.0034034193959087133, 0.0017017096979543567, 0.3885796368122101, 0.10264367610216141, 0.051321838051080704, 0.10997536778450012, 0.04399014636874199, 0.23461411893367767, 0.014663382433354855, 0.021995073184370995, 0.007331691216677427, 0.014663382433354855, 0.007331691216677427, 0.13586543500423431, 0.13586543500423431, 0.27173087000846863, 0.13586543500423431, 0.27173087000846863, 0.815509557723999, 0.11650136113166809, 0.9051443338394165, 0.16140268743038177, 0.32280537486076355, 0.4842080771923065, 0.09882461279630661, 0.07058900594711304, 0.3247094452381134, 0.1623547226190567, 0.12000131607055664, 0.049412306398153305, 0.028235603123903275, 0.08470681309700012, 0.02117670327425003, 0.02117670327425003, 0.02117670327425003, 0.007058900780975819, 0.09584272652864456, 0.8625845313072205, 0.49385061860084534, 0.3527504503726959, 0.14110016822814941, 0.8916119337081909, 0.9174112677574158, 0.1614762544631958, 0.1614762544631958, 0.1614762544631958, 0.3229525089263916, 0.974189281463623, 0.3154957890510559, 0.4732436537742615, 0.15774789452552795, 0.031034115701913834, 0.40344351530075073, 0.4655117392539978, 0.06206823140382767, 0.031034115701913834, 0.20419242978096008, 0.6514710783958435, 0.009723449125885963, 0.009723449125885963, 0.02917034737765789, 0.038893796503543854, 0.019446898251771927, 0.019446898251771927, 0.009723449125885963, 0.009723449125885963, 0.4029475152492523, 0.20147375762462616, 0.20147375762462616, 0.20147375762462616, 0.6571322083473206, 0.16428305208683014, 0.036605678498744965, 0.8785362839698792, 0.07321135699748993, 0.3287234604358673, 0.16436173021793365, 0.3287234604358673, 0.8951998353004456, 0.6113192439079285, 0.14943359792232513, 0.135848730802536, 0.040754616260528564, 0.027169745415449142, 0.24061669409275055, 0.12030834704637527, 0.12030834704637527, 0.36092501878738403, 0.9323434829711914, 0.556327223777771, 0.13908180594444275, 0.2781636118888855, 0.13879674673080444, 0.20819512009620667, 0.41639024019241333, 0.06939837336540222, 0.13879674673080444, 0.5227448344230652, 0.04545607417821884, 0.2272803783416748, 0.09091214835643768, 0.02272803708910942, 0.04545607417821884, 0.14145225286483765, 0.42435675859451294, 0.14145225286483765, 0.14145225286483765, 0.14145225286483765, 0.14024078845977783, 0.14024078845977783, 0.14024078845977783, 0.4207223951816559, 0.14024078845977783, 0.39783552289009094, 0.19891776144504547, 0.19891776144504547, 0.19891776144504547, 0.3603237569332123, 0.3603237569332123, 0.12010791897773743, 0.12010791897773743, 0.12010791897773743, 0.18716828525066376, 0.5615048408508301, 0.08087407797574997, 0.7076481580734253, 0.18196667730808258, 0.020218519493937492, 0.15022002160549164, 0.4506600499153137, 0.3004400432109833, 0.8927435278892517, 0.020761476829648018, 0.0622844323515892, 0.3853987753391266, 0.27927446365356445, 0.09309148788452148, 0.07447319477796555, 0.03537476807832718, 0.042822085320949554, 0.04468391463160515, 0.009309149347245693, 0.013032808899879456, 0.0018618297763168812, 0.0055854893289506435, 0.007447319105267525, 0.0055854893289506435, 0.0018618297763168812, 0.15533290803432465, 0.12046225368976593, 0.3170059323310852, 0.14582273364067078, 0.1014418974518776, 0.06974130868911743, 0.0253604743629694, 0.0126802371814847, 0.0126802371814847, 0.009510178118944168, 0.0126802371814847, 0.009510178118944168, 0.003170059295371175, 0.00634011859074235, 0.021297523751854897, 0.7752298712730408, 0.008519009687006474, 0.08944959938526154, 0.05537356436252594, 0.029816534370183945, 0.017038019374012947, 0.14017874002456665, 0.350446879863739, 0.2803574800491333, 0.07008937001228333, 0.14017874002456665, 0.14258155226707458, 0.2026159018278122, 0.21012018620967865, 0.11256438493728638, 0.19511160254478455, 0.015008585527539253, 0.015008585527539253, 0.030017171055078506, 0.007504292763769627, 0.015008585527539253, 0.007504292763769627, 0.03752146288752556, 0.007504292763769627, 0.09427589923143387, 0.0062850601971149445, 0.40224385261535645, 0.4368116855621338, 0.012570120394229889, 0.009427590295672417, 0.0062850601971149445, 0.018855180591344833, 0.0031425300985574722, 0.009427590295672417, 0.8544880151748657, 0.5140371322631836, 0.0514037124812603, 0.1542111337184906, 0.0514037124812603, 0.0514037124812603, 0.1028074249625206, 0.1028074249625206, 0.0014382376102730632, 0.0014382376102730632, 0.16108261048793793, 0.8169189691543579, 0.014382376335561275, 0.0014382376102730632, 0.29907524585723877, 0.06646116822957993, 0.18276821076869965, 0.34892112016677856, 0.04984587803483009, 0.03323058411478996, 0.004560856148600578, 0.0015202853828668594, 0.0015202853828668594, 0.18395453691482544, 0.798149824142456, 0.0015202853828668594, 0.0015202853828668594, 0.006081141531467438, 0.0015202853828668594, 0.04209579899907112, 0.378862202167511, 0.420958012342453, 0.04209579899907112, 0.04209579899907112, 0.08419159799814224, 0.0026996233500540257, 0.8800771832466125, 0.005399246700108051, 0.0026996233500540257, 0.0026996233500540257, 0.05669208988547325, 0.04859321936964989, 0.7515869736671448, 0.1878967434167862, 0.018802238628268242, 0.7332872748374939, 0.018802238628268242, 0.20682461559772491, 0.009401119314134121, 0.5351868867874146, 0.4013901650905609, 0.0011950723128393292, 0.9154254198074341, 0.007170434109866619, 0.0023901446256786585, 0.0011950723128393292, 0.0011950723128393292, 0.043022606521844864, 0.02509651891887188, 0.0011950723128393292, 0.0768025815486908, 0.8448283672332764, 0.14186228811740875, 0.42558684945106506, 0.14186228811740875, 0.14186228811740875, 0.5713697075843811, 0.1904565691947937, 0.42869651317596436, 0.49728792905807495, 0.042869649827480316, 0.008573929779231548, 0.008573929779231548, 0.33868172764778137, 0.1370854675769806, 0.040319252759218216, 0.05644695460796356, 0.040319252759218216, 0.16127701103687286, 0.02419155277311802, 0.016127701848745346, 0.11289390921592712, 0.008063850924372673, 0.06451080739498138, 0.008063850924372673, 0.008063850924372673, 0.1611458659172058, 0.5013427138328552, 0.01790509559214115, 0.004476273898035288, 0.053715288639068604, 0.013428822159767151, 0.08504920452833176, 0.1342882215976715, 0.008952547796070576, 0.004476273898035288, 0.008952547796070576, 0.39372730255126953, 0.19686365127563477, 0.19686365127563477, 0.19686365127563477, 0.3264177441596985, 0.16320887207984924, 0.3264177441596985, 0.16320887207984924, 0.45489320158958435, 0.22744660079479218, 0.11372330039739609, 0.11372330039739609, 0.38801994919776917, 0.19400997459888458, 0.19400997459888458, 0.19400997459888458, 0.8617191314697266, 0.8407860398292542, 0.9247866272926331, 0.028023837134242058, 0.028023837134242058, 0.8619373440742493, 0.06630287319421768, 0.8611279129981995, 0.8947015404701233, 0.21770474314689636, 0.10885237157344818, 0.10885237157344818, 0.4354094862937927, 0.9267451763153076, 0.9741455912590027, 0.038117196410894394, 0.6003458499908447, 0.009529299102723598, 0.2572910785675049, 0.009529299102723598, 0.02858789637684822, 0.05717579275369644, 0.05704498291015625, 0.3422698974609375, 0.07130622863769531, 0.14261245727539062, 0.014261245727539062, 0.028522491455078125, 0.05704498291015625, 0.19965744018554688, 0.05704498291015625, 0.014261245727539062, 0.028522491455078125, 0.05464346334338188, 0.01821448840200901, 0.01821448840200901, 0.30964627861976624, 0.30964627861976624, 0.07285795360803604, 0.03642897680401802, 0.16393038630485535, 0.01821448840200901, 0.9538342952728271, 0.025779305025935173, 0.0860956534743309, 0.41817888617515564, 0.40587952733039856, 0.036898136138916016, 0.036898136138916016, 0.46294909715652466, 0.46294909715652466, 0.1563611477613449, 0.3127222955226898, 0.4690834581851959, 0.12573495507240295, 0.37720486521720886, 0.37720486521720886, 0.19587759673595428, 0.2226818948984146, 0.15257833898067474, 0.14433085918426514, 0.11546468734741211, 0.05360860377550125, 0.016494955867528915, 0.012371216900646687, 0.026804301887750626, 0.026804301887750626, 0.016494955867528915, 0.008247477933764458, 0.006185608450323343, 0.0020618694834411144, 0.13411803543567657, 0.044706009328365326, 0.1490200310945511, 0.5513741374015808, 0.059608012437820435, 0.029804006218910217, 0.014902003109455109, 0.1866164356470108, 0.1866164356470108, 0.3732328712940216, 0.1866164356470108, 0.3169020116329193, 0.0633803978562355, 0.10140863806009293, 0.08873256295919418, 0.02535215951502323, 0.3169020116329193, 0.02535215951502323, 0.02535215951502323, 0.012676079757511616, 0.03802824020385742, 0.565865695476532, 0.1886218935251236, 0.1886218935251236, 0.18449871242046356, 0.050317831337451935, 0.14256718754768372, 0.21804392337799072, 0.3019069731235504, 0.06709043681621552, 0.01677260920405388, 0.01677260920405388, 0.07803991436958313, 0.2341197431087494, 0.39019957184791565, 0.07803991436958313, 0.07803991436958313, 0.21559563279151917, 0.5389890670776367, 0.21559563279151917, 0.15673625469207764, 0.3134725093841553, 0.15673625469207764, 0.3134725093841553, 0.4758407473564148, 0.28550446033477783, 0.19033630192279816, 0.10106638073921204, 0.10106638073921204, 0.3031991422176361, 0.40426552295684814, 0.10106638073921204, 0.876079261302948, 0.31277996301651, 0.156389981508255, 0.469169944524765, 0.32550787925720215, 0.390609472990036, 0.05508594959974289, 0.06009376421570778, 0.017527347430586815, 0.07010938972234726, 0.015023441053926945, 0.032550789415836334, 0.015023441053926945, 0.005007813684642315, 0.007511720526963472, 0.0025039068423211575, 0.005007813684642315, 0.0025039068423211575, 0.37263569235801697, 0.37263569235801697, 0.18631784617900848, 0.3223753273487091, 0.2754274606704712, 0.0688568651676178, 0.10485022515058517, 0.04694786295294762, 0.07198672741651535, 0.03286350518465042, 0.03286350518465042, 0.012519430369138718, 0.007824643515050411, 0.009389572776854038, 0.007824643515050411, 0.0031298575922846794, 0.916218101978302, 0.009851806797087193, 0.03940722718834877, 0.019703613594174385, 0.43418794870376587, 0.26211345195770264, 0.060025982558727264, 0.0700303167104721, 0.020008660852909088, 0.06602858006954193, 0.022009527310729027, 0.03201385587453842, 0.010004330426454544, 0.0020008659921586514, 0.004001731984317303, 0.008003463968634605, 0.0020008659921586514, 0.004001731984317303, 0.004001731984317303, 0.3096916675567627, 0.5447255373001099, 0.0027651041746139526, 0.008295312523841858, 0.005530208349227905, 0.0027651041746139526, 0.005530208349227905, 0.08018802106380463, 0.02212083339691162, 0.0027651041746139526, 0.01106041669845581, 0.07276513427495956, 0.02338879182934761, 0.15332652628421783, 0.3326406180858612, 0.31185057759284973, 0.025987546890974045, 0.015592528507113457, 0.007796264253556728, 0.007796264253556728, 0.015592528507113457, 0.007796264253556728, 0.025987546890974045, 0.0025987548287957907, 0.023470653221011162, 0.6689136028289795, 0.09388261288404465, 0.2112358659505844, 0.28503847122192383, 0.13388170301914215, 0.12308479100465775, 0.18138810992240906, 0.08853467553853989, 0.07773776352405548, 0.05398455634713173, 0.010796911083161831, 0.012956293299794197, 0.008637528866529465, 0.012956293299794197, 0.004318764433264732, 0.004318764433264732, 0.002159382216632366, 0.002159382216632366, 0.31213921308517456, 0.43699491024017334, 0.031213920563459396, 0.031213920563459396, 0.031213920563459396, 0.12485568225383759, 0.09867696464061737, 0.03947078809142113, 0.32760754227638245, 0.11446528136730194, 0.22893056273460388, 0.0690738782286644, 0.02565601095557213, 0.011841235682368279, 0.017761854454874992, 0.011841235682368279, 0.02565601095557213, 0.019735394045710564, 0.0019735393580049276, 0.005920617841184139, 0.16571253538131714, 0.16571253538131714, 0.16571253538131714, 0.3314250707626343, 0.4648219048976898, 0.17043469846248627, 0.03873515874147415, 0.05422922223806381, 0.03873515874147415, 0.03098812699317932, 0.03098812699317932, 0.11620547622442245, 0.01549406349658966, 0.00774703174829483, 0.01549406349658966, 0.00774703174829483, 0.30942484736442566, 0.15471242368221283, 0.4641372859477997, 0.18451756238937378, 0.13464795053005219, 0.23189368844032288, 0.18451756238937378, 0.05735005438327789, 0.11719358712434769, 0.022441325709223747, 0.019947843626141548, 0.009973921813070774, 0.012467402964830399, 0.009973921813070774, 0.004986960906535387, 0.0024934804532676935, 0.0024934804532676935, 0.0024934804532676935, 0.06773829460144043, 0.096396803855896, 0.2370840460062027, 0.289190411567688, 0.14589786529541016, 0.08337020874023438, 0.013026596046984196, 0.023447871208190918, 0.013026596046984196, 0.013026596046984196, 0.007815957069396973, 0.0052106380462646484, 0.0026053190231323242, 0.2787383794784546, 0.5574767589569092, 0.1393691897392273, 0.20598942041397095, 0.16867250204086304, 0.15523840487003326, 0.24778437614440918, 0.06418511271476746, 0.0716484934091568, 0.031346216797828674, 0.022390155121684074, 0.0044780308380723, 0.0029853538144379854, 0.011941415257751942, 0.011941415257751942, 0.0014926769072189927, 0.0014926769072189927, 0.6456010341644287, 0.24594326317310333, 0.0922287181019783, 0.557772159576416, 0.18592405319213867, 0.8305233120918274, 0.09228036552667618, 0.8632518649101257, 0.07847744226455688, 0.20126603543758392, 0.40253207087516785, 0.20126603543758392, 0.20126603543758392, 0.31179410219192505, 0.1336260437965393, 0.2672520875930786, 0.044542014598846436, 0.1336260437965393, 0.044542014598846436, 0.05336329713463783, 0.9071760773658752, 0.18829989433288574, 0.5648996829986572, 0.3713058829307556, 0.1856529414653778, 0.3713058829307556, 0.9052276611328125, 0.0603485107421875, 0.32116416096687317, 0.6423283219337463, 0.024704935029149055, 0.1128053292632103, 0.09024426341056824, 0.24817173182964325, 0.16920799016952515, 0.1917690634727478, 0.05640266463160515, 0.06768319755792618, 0.02256106585264206, 0.02256106585264206, 0.02256106585264206, 0.15299281477928162, 0.03530603274703026, 0.18829883635044098, 0.18241450190544128, 0.23537355661392212, 0.07061206549406052, 0.005884338635951281, 0.005884338635951281, 0.005884338635951281, 0.011768677271902561, 0.023537354543805122, 0.05884338915348053, 0.005884338635951281, 0.005884338635951281, 0.005884338635951281, 0.1825832575559616, 0.5477497577667236, 0.1825832575559616, 0.820428729057312, 0.040020912885665894, 0.12006273865699768, 0.2758800685405731, 0.13794003427028656, 0.5517601370811462, 0.07468856871128082, 0.06535249948501587, 0.13070499897003174, 0.1773853600025177, 0.5041478276252747, 0.02800821326673031, 0.009336071088910103, 0.27016958594322205, 0.1801130622625351, 0.09005653113126755, 0.1801130622625351, 0.22514133155345917, 0.012815839610993862, 0.025631679221987724, 0.8501173853874207, 0.00854389276355505, 0.004271946381777525, 0.05980725213885307, 0.00854389276355505, 0.0170877855271101, 0.004271946381777525, 0.3442060053348541, 0.3505801856517792, 0.06374185532331467, 0.08286440372467041, 0.06374185532331467, 0.07011603564023972, 0.006374184973537922, 0.006374184973537922, 0.05230407416820526, 0.09323769807815552, 0.35248398780822754, 0.15918631851673126, 0.24105356633663177, 0.0477558933198452, 0.004548180382698774, 0.006822270341217518, 0.004548180382698774, 0.020466811954975128, 0.013644540682435036, 0.002274090191349387, 0.8833885788917542, 0.0679529681801796, 0.2770715057849884, 0.2770715057849884, 0.1385357528924942, 0.1385357528924942, 0.1385357528924942, 0.3611376881599426, 0.12037922441959381, 0.24075844883918762, 0.12037922441959381, 0.17082549631595612, 0.5124765038490295, 0.34165099263191223, 0.7584118247032166, 0.1945262998342514, 0.4634302854537964, 0.02288544550538063, 0.12014859169721603, 0.005721361376345158, 0.07437770068645477, 0.06865634024143219, 0.005721361376345158, 0.005721361376345158, 0.02288544550538063, 0.011442722752690315, 0.3597269058227539, 0.6063967943191528, 0.020555824041366577, 0.8967500329017639, 0.04598718136548996, 0.02299359068274498, 0.3909527063369751, 0.09773817658424377, 0.09773817658424377, 0.19547635316848755, 0.19547635316848755, 0.5308409929275513, 0.08561950922012329, 0.10274341702461243, 0.18836292624473572, 0.017123902216553688, 0.017123902216553688, 0.05137170851230621, 0.34642767906188965, 0.14434486627578735, 0.21651731431484222, 0.10104141384363174, 0.07217243313789368, 0.01443448755890131, 0.01443448755890131, 0.01443448755890131, 0.01443448755890131, 0.01443448755890131, 0.02886897511780262, 0.009218248538672924, 0.5807496905326843, 0.12905548512935638, 0.26732921600341797, 0.1600445806980133, 0.13588690757751465, 0.22043877840042114, 0.19628110527992249, 0.12380807846784592, 0.06039418280124664, 0.03925621882081032, 0.012078836560249329, 0.012078836560249329, 0.006039418280124664, 0.018118254840373993, 0.006039418280124664, 0.006039418280124664, 0.48130500316619873, 0.1604350060224533, 0.1604350060224533, 0.28138020634651184, 0.14948323369026184, 0.03517252579331398, 0.05275878682732582, 0.008793131448328495, 0.3868977725505829, 0.02198282815515995, 0.013189696706831455, 0.013189696706831455, 0.03077596053481102, 0.0043965657241642475, 0.8841425180435181, 0.017336128279566765, 0.017336128279566765, 0.052008386701345444, 0.16593702137470245, 0.1533435732126236, 0.2392752468585968, 0.15482516586780548, 0.11334090679883957, 0.07111586630344391, 0.026668448001146317, 0.014815804548561573, 0.011852643452584743, 0.014075014740228653, 0.022223707288503647, 0.008148692548274994, 0.002222370821982622, 0.0007407902157865465, 0.002222370821982622, 0.10113969445228577, 0.8091175556182861, 0.10113969445228577, 0.0645008236169815, 0.129001647233963, 0.129001647233963, 0.129001647233963, 0.0645008236169815, 0.32250410318374634, 0.129001647233963, 0.06232690438628197, 0.5787498354911804, 0.004451921675354242, 0.32053837180137634, 0.01780768670141697, 0.004451921675354242, 0.004451921675354242, 0.004451921675354242, 0.8949028849601746, 0.07457524538040161, 0.5972362160682678, 0.0597236230969429, 0.2388944923877716, 0.0597236230969429, 0.12736526131629944, 0.10067920386791229, 0.3178066313266754, 0.16375532746315002, 0.15041230618953705, 0.054585110396146774, 0.026686053723096848, 0.008491016924381256, 0.0072780149057507515, 0.014556029811501503, 0.01819503679871559, 0.0072780149057507515, 0.002426004968583584, 0.001213002484291792, 0.06837913393974304, 0.13675826787948608, 0.20513740181922913, 0.20513740181922913, 0.13675826787948608, 0.20513740181922913, 0.9218841195106506, 0.19359372556209564, 0.5807811617851257, 0.19359372556209564, 0.13565000891685486, 0.35269004106521606, 0.08139000833034515, 0.0271300021559, 0.08139000833034515, 0.29843002557754517, 0.1103997454047203, 0.2207994908094406, 0.4415989816188812, 0.1103997454047203, 0.19943386316299438, 0.6980185508728027, 0.8758789300918579, 0.5298169851303101, 0.2384176254272461, 0.07947254180908203, 0.04768352583050728, 0.005298169795423746, 0.021192679181694984, 0.021192679181694984, 0.026490848511457443, 0.005298169795423746, 0.010596339590847492, 0.005298169795423746, 0.24584589898586273, 0.2238045483827591, 0.17972183227539062, 0.10512031614780426, 0.0966428741812706, 0.05256015807390213, 0.03390977904200554, 0.011868422850966454, 0.010172934271395206, 0.008477444760501385, 0.010172934271395206, 0.0135639114305377, 0.003390977857634425, 0.005086467135697603, 0.7390636205673218, 0.06928721815347672, 0.011547869071364403, 0.040417540818452835, 0.011547869071364403, 0.02886967360973358, 0.04619147628545761, 0.005773934535682201, 0.005773934535682201, 0.011547869071364403, 0.02886967360973358, 0.27995550632476807, 0.33821216225624084, 0.07443904131650925, 0.08576671779155731, 0.019418880343437195, 0.11651327461004257, 0.03883776068687439, 0.012945919297635555, 0.016182400286197662, 0.006472959648817778, 0.004854720085859299, 0.003236479824408889, 0.0016182399122044444, 0.003236479824408889, 0.3776152729988098, 0.2213606834411621, 0.11285054683685303, 0.04774446040391922, 0.026042433455586433, 0.09114851802587509, 0.05208486691117287, 0.03038283810019493, 0.004340405575931072, 0.004340405575931072, 0.004340405575931072, 0.008680811151862144, 0.013021216727793217, 0.008680811151862144, 0.7373099327087402, 0.14746198058128357, 0.0871463343501091, 0.7843170166015625, 0.0871463343501091, 0.8745530843734741, 0.04858628287911415, 0.024293141439557076, 0.024293141439557076, 0.6483849883079529, 0.16209624707698822, 0.32281553745269775, 0.16140776872634888, 0.32281553745269775, 0.15651199221611023, 0.31302398443222046, 0.15651199221611023, 0.31302398443222046, 0.009802501648664474, 0.0019605003762990236, 0.8939881920814514, 0.03136800602078438, 0.0058815013617277145, 0.0019605003762990236, 0.027447005733847618, 0.023526005446910858, 0.8926624655723572, 0.006468568928539753, 0.006468568928539753, 0.019405705854296684, 0.07115425914525986, 0.15230374038219452, 0.15973319113254547, 0.26560285687446594, 0.12072856724262238, 0.1467316448688507, 0.04829142987728119, 0.022288352251052856, 0.04457670450210571, 0.00928681343793869, 0.005572088062763214, 0.00928681343793869, 0.007429450284689665, 0.0018573625711724162, 0.0037147251423448324, 0.9220779538154602, 0.3578175902366638, 0.22547408938407898, 0.09803221374750137, 0.10538462549448013, 0.053917717188596725, 0.053917717188596725, 0.03676208108663559, 0.022057248279452324, 0.009803221561014652, 0.009803221561014652, 0.004901610780507326, 0.009803221561014652, 0.009803221561014652, 0.002450805390253663, 0.002450805390253663, 0.3400956094264984, 0.0850239023566246, 0.1700478047132492, 0.0850239023566246, 0.2550716996192932, 0.8716281652450562, 0.3117915093898773, 0.1455027163028717, 0.19027277827262878, 0.12631553411483765, 0.10872729867696762, 0.036775410175323486, 0.030379686504602432, 0.011192516423761845, 0.007994654588401318, 0.014390378259122372, 0.006395723670721054, 0.003197861835360527, 0.003197861835360527, 0.0015989309176802635, 0.0015989309176802635, 0.20456604659557343, 0.20609265565872192, 0.1053362488746643, 0.2137257158756256, 0.03663869574666023, 0.14808139204978943, 0.030532246455550194, 0.022899184376001358, 0.0137395104393363, 0.0030532246455550194, 0.004579836968332529, 0.006106449291110039, 0.0015266123227775097, 0.0030532246455550194, 0.0015266123227775097, 0.8043562769889832, 0.015771690756082535, 0.15771691501140594, 0.015771690756082535, 0.3591870665550232, 0.07981935143470764, 0.11972901970148087, 0.3591870665550232, 0.05986450985074043, 0.16543664038181305, 0.6617465615272522, 0.03308732807636261, 0.09926198422908783, 0.11765328049659729, 0.8471035957336426, 0.023530656471848488, 0.8195240497589111, 0.016724981367588043, 0.016724981367588043, 0.008362490683794022, 0.09198739379644394, 0.033449962735176086, 0.06849168986082077, 0.06849168986082077, 0.13698337972164154, 0.13698337972164154, 0.04566112533211708, 0.4566112756729126, 0.06849168986082077, 0.02283056266605854, 0.09175559133291245, 0.13763338327407837, 0.27526676654815674, 0.1835111826658249, 0.13763338327407837, 0.04587779566645622, 0.04587779566645622, 0.9047496318817139, 0.18798156082630157, 0.1273423433303833, 0.2344716191291809, 0.17787502706050873, 0.08287359029054642, 0.09904404729604721, 0.008085228502750397, 0.02223437838256359, 0.02223437838256359, 0.018191764131188393, 0.014149149879813194, 0.004042614251375198, 0.7504544258117676, 0.15009088814258575, 0.27754777669906616, 0.13014201819896698, 0.10358242690563202, 0.24434828758239746, 0.09694252908229828, 0.035855453461408615, 0.030543535947799683, 0.017263736575841904, 0.01991969719529152, 0.006639899220317602, 0.01859171688556671, 0.009295858442783356, 0.005311919376254082, 0.002655959688127041, 0.31826111674308777, 0.31826111674308777, 0.15913055837154388, 0.15913055837154388, 0.3470735251903534, 0.007230698596686125, 0.08676838129758835, 0.007230698596686125, 0.20245955884456635, 0.25307443737983704, 0.057845588773489, 0.0289227943867445, 0.026697779074311256, 0.9344222545623779, 0.09716564416885376, 0.4372453987598419, 0.3643711805343628, 0.02429141104221344, 0.07287423312664032, 0.7092969417572021, 0.17732423543930054, 0.2720223665237427, 0.09067411720752716, 0.09067411720752716, 0.18134823441505432, 0.09067411720752716, 0.09067411720752716, 0.18134823441505432, 0.08224403858184814, 0.4523421823978424, 0.1644880771636963, 0.020561009645462036, 0.06168302521109581, 0.04112201929092407, 0.020561009645462036, 0.08224403858184814, 0.04112201929092407, 0.04112201929092407, 0.14401495456695557, 0.7200748324394226, 0.048004988580942154, 0.048004988580942154, 0.10270775109529495, 0.2567693889141083, 0.5648926496505737, 0.051353875547647476, 0.36751407384872437, 0.5512711405754089, 0.18513549864292145, 0.3702709972858429, 0.18513549864292145, 0.18513549864292145, 0.9592339992523193, 0.02230776846408844, 0.01115388423204422, 0.22515060007572174, 0.03216437250375748, 0.03216437250375748, 0.4503012001514435, 0.0804109275341034, 0.03216437250375748, 0.01608218625187874, 0.03216437250375748, 0.11257530003786087, 0.1044464185833931, 0.7311248779296875, 0.1044464185833931, 0.5948625802993774, 0.19828753173351288, 0.19828753173351288, 0.10662895441055298, 0.24880090355873108, 0.10662895441055298, 0.07108596712350845, 0.10662895441055298, 0.31988686323165894, 0.03554298356175423, 0.328835666179657, 0.328835666179657, 0.1644178330898285, 0.1644178330898285, 0.16571427881717682, 0.49714285135269165, 0.33142855763435364, 0.8221141695976257, 0.10276427119970322, 0.3072855770587921, 0.26338762044906616, 0.17559175193309784, 0.13169381022453308, 0.04389793798327446, 0.04389793798327446, 0.19502170383930206, 0.5850651264190674, 0.19502170383930206, 0.9184562563896179, 0.059255242347717285, 0.17780809104442596, 0.08890404552221298, 0.7112323641777039, 0.19642595946788788, 0.004293463658541441, 0.23292040824890137, 0.03542107343673706, 0.3166429400444031, 0.1373908370733261, 0.011807025410234928, 0.004293463658541441, 0.042934637516736984, 0.017173854634165764, 0.6049385070800781, 0.20164616405963898, 0.15123462677001953, 0.8796010613441467, 0.07212864607572556, 0.5770291686058044, 0.302940309047699, 0.014425728470087051, 0.014425728470087051, 0.9015863537788391, 0.06811576336622238, 0.919562816619873, 0.004257235210388899, 0.23929843306541443, 0.204201340675354, 0.1818668097257614, 0.21217794716358185, 0.0047859689220786095, 0.07817082107067108, 0.014357906766235828, 0.01595322974026203, 0.01754855178296566, 0.009571937844157219, 0.0047859689220786095, 0.01595322974026203, 0.5417518615722656, 0.36116790771484375, 0.08303285390138626, 0.8303285241127014, 0.2059403359889984, 0.2059403359889984, 0.4118806719779968, 0.2758484482765198, 0.045974742621183395, 0.6436463594436646, 0.9275694489479065, 0.2336106300354004, 0.27175113558769226, 0.09535127878189087, 0.18593499064445496, 0.03814050927758217, 0.033372946083545685, 0.04290807247161865, 0.0572107657790184, 0.019070254638791084, 0.009535127319395542, 0.10990282148122787, 0.15630623698234558, 0.20026735961437225, 0.24422849714756012, 0.11478739231824875, 0.07815311849117279, 0.03419198840856552, 0.014653709717094898, 0.01709599420428276, 0.004884569905698299, 0.012211424298584461, 0.0024422849528491497, 0.0024422849528491497, 0.004884569905698299, 0.4210103750228882, 0.1403367966413498, 0.2806735932826996, 0.52254319190979, 0.18811553716659546, 0.06270518153905869, 0.020901726558804512, 0.06270518153905869, 0.020901726558804512, 0.041803453117609024, 0.08360690623521805, 0.2522732615470886, 0.2522732615470886, 0.1261366307735443, 0.2522732615470886, 0.1863197684288025, 0.28313300013542175, 0.15526647865772247, 0.15343981981277466, 0.058453261852264404, 0.04749327525496483, 0.06393325328826904, 0.0036533288657665253, 0.023746637627482414, 0.005479993298649788, 0.009133322164416313, 0.005479993298649788, 0.0018266644328832626, 0.002633418422192335, 0.9453972578048706, 0.00526683684438467, 0.002633418422192335, 0.002633418422192335, 0.026334185153245926, 0.007900255732238293, 0.5591424703598022, 0.2795712351799011, 0.1307441145181656, 0.1529984325170517, 0.25175195932388306, 0.13769859075546265, 0.15786656737327576, 0.0938853994011879, 0.027817897498607635, 0.006954474374651909, 0.0076499218121171, 0.015995290130376816, 0.0076499218121171, 0.0034772371873259544, 0.0013908948749303818, 0.0013908948749303818, 0.0020863423123955727, 0.06831508874893188, 0.4879649579524994, 0.06831508874893188, 0.009759298525750637, 0.05855579301714897, 0.2537417709827423, 0.019518597051501274, 0.019518597051501274, 0.16332772374153137, 0.34480294585227966, 0.10888514667749405, 0.018147524446249008, 0.054442573338747025, 0.054442573338747025, 0.018147524446249008, 0.1996227651834488, 0.018147524446249008, 0.1907091736793518, 0.08581912517547607, 0.10965777188539505, 0.29083147644996643, 0.239975705742836, 0.033374104648828506, 0.015892431139945984, 0.0031784861348569393, 0.0031784861348569393, 0.004767729435116053, 0.006356972269713879, 0.006356972269713879, 0.0031784861348569393, 0.004767729435116053, 0.0015892430674284697, 0.8808163404464722, 0.32403239607810974, 0.16201619803905487, 0.13771376013755798, 0.04860485717654228, 0.14581456780433655, 0.032403238117694855, 0.07290728390216827, 0.008100809529423714, 0.02430242858827114, 0.016201619058847427, 0.008100809529423714, 0.032403238117694855, 0.11143767088651657, 0.4457506835460663, 0.022287534549832344, 0.2897379398345947, 0.13372521102428436, 0.022287534549832344, 0.858319878578186, 0.03731825575232506, 0.07463651150465012, 0.03731825575232506, 0.28379759192466736, 0.5675951838493347, 0.14189879596233368, 0.2391069531440735, 0.17608651518821716, 0.09823774546384811, 0.25022822618484497, 0.05931335315108299, 0.09267711639404297, 0.033363763242959976, 0.009267712011933327, 0.014828338287770748, 0.011121254414319992, 0.007414169143885374, 0.007414169143885374, 0.0018535422859713435, 0.22911176085472107, 0.22911176085472107, 0.45822352170944214, 0.48330265283584595, 0.16110087931156158, 0.16110087931156158, 0.15954938530921936, 0.15954938530921936, 0.15954938530921936, 0.15954938530921936, 0.3190987706184387, 0.33033064007759094, 0.5780786275863647, 0.027527552098035812, 0.027527552098035812, 0.11595182120800018, 0.6522290110588074, 0.014493977651000023, 0.05797591060400009, 0.014493977651000023, 0.028987955302000046, 0.07246989011764526, 0.028987955302000046, 0.014493977651000023, 0.014493977651000023, 0.2633347511291504, 0.164044588804245, 0.15325218439102173, 0.11224103718996048, 0.12087496370077133, 0.07986381649971008, 0.02806025929749012, 0.008633925579488277, 0.019426332786679268, 0.030218740925192833, 0.012950888834893703, 0.004316962789744139, 0.05334900692105293, 0.07422471046447754, 0.23195220530033112, 0.3084964454174042, 0.16468606889247894, 0.12525419890880585, 0.009278088808059692, 0.006958566140383482, 0.009278088808059692, 0.002319522202014923, 0.006958566140383482, 0.002319522202014923, 0.002319522202014923, 0.3292970061302185, 0.16464850306510925, 0.16464850306510925, 0.16464850306510925, 0.16464850306510925, 0.06735464185476303, 0.8756102919578552, 0.3996710181236267, 0.19983550906181335, 0.19983550906181335, 0.20493130385875702, 0.18771019577980042, 0.09643826633691788, 0.11365938186645508, 0.0774950310587883, 0.21698608994483948, 0.02755378931760788, 0.02066534198820591, 0.00688844732940197, 0.00861055962741375, 0.01549900695681572, 0.01894322969019413, 0.0017221118323504925, 0.0017221118323504925, 0.3842821717262268, 0.34230178594589233, 0.03552188351750374, 0.04198040813207626, 0.03875114396214485, 0.08719007670879364, 0.019375571981072426, 0.012917048297822475, 0.016146309673786163, 0.003229262074455619, 0.009687785990536213, 0.003229262074455619, 0.7794188857078552, 0.1558837741613388, 0.35272109508514404, 0.19266916811466217, 0.1297103464603424, 0.047788020223379135, 0.04930509999394417, 0.0879906415939331, 0.05309779942035675, 0.026548899710178375, 0.01289517991244793, 0.017446421086788177, 0.016687879338860512, 0.007585400249809027, 0.00530978012830019, 0.0007585400016978383, 0.16161677241325378, 0.08080838620662689, 0.269361287355423, 0.053872257471084595, 0.053872257471084595, 0.053872257471084595, 0.026936128735542297, 0.026936128735542297, 0.18855290114879608, 0.053872257471084595, 0.026936128735542297, 0.04519161581993103, 0.3163413107395172, 0.04519161581993103, 0.1355748474597931, 0.1355748474597931, 0.1355748474597931, 0.04519161581993103, 0.04519161581993103, 0.09038323163986206, 0.20978155732154846, 0.23899903893470764, 0.17939536273479462, 0.11161080002784729, 0.07771851122379303, 0.05551322549581528, 0.042657531797885895, 0.018699191510677338, 0.018699191510677338, 0.02103658951818943, 0.012855693697929382, 0.008180895820260048, 0.002337398938834667, 0.0017530492041260004, 0.0017530492041260004, 0.246769517660141, 0.08542022109031677, 0.07592908293008804, 0.1091480553150177, 0.09965692460536957, 0.22304168343544006, 0.05220124498009682, 0.009491135366261005, 0.04745567589998245, 0.01898227073252201, 0.01423670258373022, 0.004745567683130503, 0.004745567683130503, 0.01423670258373022, 0.010075626894831657, 0.17128565907478333, 0.7858989238739014, 0.020151253789663315, 0.010075626894831657, 0.6803179383277893, 0.04081907495856285, 0.013606359250843525, 0.12926040589809418, 0.013606359250843525, 0.0544254370033741, 0.0068031796254217625, 0.04081907495856285, 0.013606359250843525, 0.0068031796254217625, 0.8591421246528625, 0.07810382544994354, 0.4361002445220947, 0.04361002519726753, 0.08722005039453506, 0.2616601586341858, 0.04361002519726753, 0.1308300793170929, 0.22037601470947266, 0.17972412705421448, 0.13479308784008026, 0.15404924750328064, 0.07702462375164032, 0.11981607973575592, 0.03316337987780571, 0.01925615593791008, 0.02139572985470295, 0.00855829194188118, 0.00855829194188118, 0.01818636991083622, 0.0032093594782054424, 0.0010697864927351475, 0.0010697864927351475, 0.14457768201828003, 0.8118592500686646, 0.033364079892635345, 0.919871985912323, 0.21493655443191528, 0.19610999524593353, 0.16943903267383575, 0.14433695375919342, 0.04549751803278923, 0.11452823877334595, 0.04235975816845894, 0.023533198982477188, 0.004706639796495438, 0.00784439966082573, 0.014119919389486313, 0.00784439966082573, 0.010982159525156021, 0.0015688799321651459, 0.0031377598643302917, 0.31725409626960754, 0.211024209856987, 0.12345633655786514, 0.10622987151145935, 0.06747032701969147, 0.055986013263463974, 0.04163062572479248, 0.024404160678386688, 0.015790928155183792, 0.01148431096225977, 0.004306616727262735, 0.00861323345452547, 0.007177694234997034, 0.0014355388702824712, 0.0028710777405649424, 0.14580218493938446, 0.09134594351053238, 0.1967451125383377, 0.1317489594221115, 0.14580218493938446, 0.19147515296936035, 0.02986309677362442, 0.017566528171300888, 0.005269958171993494, 0.01405322179198265, 0.021079832687973976, 0.0035133054479956627, 0.0035133054479956627, 0.1611827313899994, 0.09977978467941284, 0.1688580960035324, 0.18420884013175964, 0.023026105016469955, 0.26096251606941223, 0.03837684169411659, 0.030701471492648125, 0.030701471492648125, 0.007675367873162031, 0.907933235168457, 0.01815866492688656, 0.054475992918014526, 0.04167569801211357, 0.9307572245597839, 0.013891899026930332, 0.06625557690858841, 0.9275780916213989, 0.013191858306527138, 0.3640952706336975, 0.33507320284843445, 0.14774881303310394, 0.01055348664522171, 0.1055348664522171, 0.015830229967832565, 0.0026383716613054276, 0.0026383716613054276, 0.38323327898979187, 0.19161663949489594, 0.38323327898979187, 0.37481528520584106, 0.18740764260292053, 0.18740764260292053, 0.18740764260292053, 0.18740764260292053, 0.07909760624170303, 0.2372928112745285, 0.07909760624170303, 0.15819521248340607, 0.07909760624170303, 0.07909760624170303, 0.31639042496681213, 0.3034302294254303, 0.6755616664886475, 0.011450197547674179, 0.9619059562683105, 0.014976345002651215, 0.6988961100578308, 0.0024960574228316545, 0.01747240126132965, 0.23462939262390137, 0.01747240126132965, 0.007488172501325607, 0.0024960574228316545, 0.0024960574228316545, 0.14005045592784882, 0.4989297688007355, 0.008753153495490551, 0.14005045592784882, 0.1663099229335785, 0.017506306990981102, 0.008753153495490551, 0.026259461417794228, 0.1901904195547104, 0.57057124376297, 0.1901904195547104, 0.9121366739273071, 0.1837371289730072, 0.1837371289730072, 0.1837371289730072, 0.1837371289730072, 0.3674742579460144, 0.06596454977989197, 0.5606986880302429, 0.362805038690567, 0.10559041798114777, 0.633542537689209, 0.21118083596229553, 0.7425143718719482, 0.18562859296798706, 0.14672942459583282, 0.1312842220067978, 0.23498773574829102, 0.15224556624889374, 0.15665848553180695, 0.08053570240736008, 0.03309686481952667, 0.03199363499879837, 0.00551614398136735, 0.0033096864353865385, 0.014341974630951881, 0.00551614398136735, 0.0033096864353865385, 0.14799802005290985, 0.7399901151657104, 0.500647783279419, 0.10728166252374649, 0.39336609840393066, 0.06840982288122177, 0.06840982288122177, 0.8209178447723389, 0.02673763409256935, 0.1069505363702774, 0.8556042909622192, 0.001734491204842925, 0.07631760835647583, 0.912342369556427, 0.00346898240968585, 0.001734491204842925, 0.35243600606918335, 0.035243600606918335, 0.5638976097106934, 0.035243600606918335, 0.0911184623837471, 0.016079729422926903, 0.1554373800754547, 0.40735313296318054, 0.19831664860248566, 0.06431891769170761, 0.016079729422926903, 0.016079729422926903, 0.010719818994402885, 0.026799548417329788, 0.8926993012428284, 0.011902657337486744, 0.047610629349946976, 0.011902657337486744, 0.011902657337486744, 0.5479207634925842, 0.02004588209092617, 0.046773724257946014, 0.2271866500377655, 0.046773724257946014, 0.013363921083509922, 0.006681960541754961, 0.06013764441013336, 0.02004588209092617, 0.006681960541754961, 0.8064485788345337, 0.13166508078575134, 0.032916270196437836, 0.016458135098218918, 0.50157231092453, 0.11309964209794998, 0.04425638169050217, 0.01966950297355652, 0.08851276338100433, 0.14260388910770416, 0.024586878716945648, 0.014752127230167389, 0.024586878716945648, 0.01966950297355652, 0.00491737574338913, 0.02817665971815586, 0.5259643197059631, 0.01878444105386734, 0.14088329672813416, 0.24419772624969482, 0.00939222052693367, 0.02817665971815586, 0.11260172724723816, 0.7882121205329895, 0.16924741864204407, 0.14506922662258148, 0.02417820319533348, 0.19342562556266785, 0.07253461331129074, 0.2417820394039154, 0.07253461331129074, 0.04835640639066696, 0.02417820319533348, 0.06814145296812057, 0.902874231338501, 0.017035363242030144, 0.590477466583252, 0.16870784759521484, 0.08435392379760742, 0.08435392379760742, 0.009568874724209309, 0.06698212772607803, 0.8707676529884338, 0.04784437641501427, 0.09920889139175415, 0.8432756066322327, 0.16105535626411438, 0.38653287291526794, 0.09663321822881699, 0.06442214548587799, 0.25768858194351196, 0.032211072742938995, 0.39450138807296753, 0.39450138807296753, 0.19725069403648376, 0.7086122632026672, 0.2362041026353836, 0.8291200399398804, 0.07209739834070206, 0.07209739834070206, 0.9279143214225769, 0.04034410044550896, 0.18875327706336975, 0.10835836827754974, 0.197491854429245, 0.23594160377979279, 0.04718831926584244, 0.10311522334814072, 0.0401974581182003, 0.033206596970558167, 0.017477156594395638, 0.005243146792054176, 0.013981725089251995, 0.005243146792054176, 0.0034954312723129988, 0.0017477156361564994, 0.1855200231075287, 0.1855200231075287, 0.3710400462150574, 0.1855200231075287, 0.07564030587673187, 0.015128061175346375, 0.19666479527950287, 0.5899943709373474, 0.045384183526039124, 0.0605122447013855, 0.015128061175346375, 0.20453345775604248, 0.04624801129102707, 0.38822272419929504, 0.07816565036773682, 0.20844173431396484, 0.024101076647639275, 0.008467945270240307, 0.0013027609093114734, 0.0006513804546557367, 0.020844174548983574, 0.011724847368896008, 0.005862423684448004, 0.0013027609093114734, 0.21646299958229065, 0.703504741191864, 0.05411574989557266, 0.9620041847229004, 0.040808435529470444, 0.5713180899620056, 0.3672759234905243, 0.18197321891784668, 0.22317470610141754, 0.1922735869884491, 0.23175834119319916, 0.061802227050065994, 0.0652356818318367, 0.008583642542362213, 0.012017099186778069, 0.00515018543228507, 0.003433456877246499, 0.006866913754492998, 0.00515018543228507, 0.0017167284386232495, 0.08053616434335709, 0.40268081426620483, 0.026845388114452362, 0.40268081426620483, 0.053690776228904724, 0.844840407371521, 0.12069149315357208, 0.022026728838682175, 0.6094061732292175, 0.09544915705919266, 0.062409061938524246, 0.018355606123805046, 0.15418709814548492, 0.0036711213178932667, 0.011013364419341087, 0.018355606123805046, 0.9253987669944763, 0.1930186152458191, 0.5790558457374573, 0.10257603228092194, 0.09365637600421906, 0.1204153448343277, 0.42071038484573364, 0.13825465738773346, 0.052031319588422775, 0.011892873793840408, 0.017839310690760612, 0.008919655345380306, 0.001486609224230051, 0.007433045655488968, 0.01040626410394907, 0.007433045655488968, 0.002973218448460102, 0.17310279607772827, 0.6924111843109131, 0.18691952526569366, 0.18691952526569366, 0.37383905053138733, 0.11586787551641464, 0.15449050068855286, 0.2703583836555481, 0.07724525034427643, 0.07724525034427643, 0.07724525034427643, 0.19311311841011047, 0.28077125549316406, 0.4211568832397461, 0.14038562774658203, 0.48433080315589905, 0.1614435911178589, 0.1614435911178589, 0.8783461451530457, 0.6199470162391663, 0.07749337702989578, 0.23248013854026794, 0.12725944817066193, 0.3817783296108246, 0.12725944817066193, 0.3817783296108246, 0.43700677156448364, 0.14566892385482788, 0.14566892385482788, 0.14566892385482788, 0.11966528743505478, 0.1686192750930786, 0.2665272355079651, 0.1849372684955597, 0.08702930063009262, 0.038075320422649384, 0.01631799340248108, 0.038075320422649384, 0.021757325157523155, 0.01631799340248108, 0.01631799340248108, 0.010878662578761578, 0.010878662578761578, 0.057864755392074585, 0.4629180431365967, 0.4050532877445221, 0.028932377696037292, 0.3883833885192871, 0.17904198169708252, 0.11844316124916077, 0.06335331499576569, 0.10742519050836563, 0.06335331499576569, 0.022035937756299973, 0.024790428578853607, 0.005508984439074993, 0.013772460632026196, 0.005508984439074993, 0.0027544922195374966, 0.8940156698226929, 0.026638641953468323, 0.9589911103248596, 0.013319320976734161, 0.3168987035751343, 0.1976357400417328, 0.0988178700208664, 0.14311553537845612, 0.03748264163732529, 0.07837279886007309, 0.03407512977719307, 0.04429766908288002, 0.017037564888596535, 0.003407512791454792, 0.013630051165819168, 0.010222538374364376, 0.006815025582909584, 0.003407512791454792, 0.3102244436740875, 0.32469087839126587, 0.061080463230609894, 0.08679855614900589, 0.025718089193105698, 0.09322807192802429, 0.041791897267103195, 0.008036903105676174, 0.019288567826151848, 0.001607380574569106, 0.001607380574569106, 0.012859044596552849, 0.011251664720475674, 0.32760241627693176, 0.16380120813846588, 0.32760241627693176, 0.3920348584651947, 0.19601742923259735, 0.19601742923259735, 0.12524549663066864, 0.6262274980545044, 0.12524549663066864, 0.8467482328414917, 0.07461795210838318, 0.8021429777145386, 0.03730897605419159, 0.055963464081287384, 0.533989429473877, 0.3559929430484772, 0.3694196045398712, 0.5541293621063232, 0.04586881771683693, 0.7109666466712952, 0.022934408858418465, 0.18347527086734772, 0.7333587408065796, 0.1833396852016449, 0.02995253913104534, 0.11981015652418137, 0.838671088218689, 0.1925065815448761, 0.062386393547058105, 0.34223392605781555, 0.10873056948184967, 0.14972734451293945, 0.06951626390218735, 0.017824683338403702, 0.008912341669201851, 0.005347405094653368, 0.026737025007605553, 0.008912341669201851, 0.005347405094653368, 0.0017824684036895633, 0.2832163870334625, 0.1902199685573578, 0.16063019633293152, 0.0612931028008461, 0.02113555185496807, 0.10356420278549194, 0.06552021205425262, 0.023249106481671333, 0.035930439829826355, 0.008454221300780773, 0.014794886112213135, 0.01902199722826481, 0.012681331485509872, 0.0021135553251951933, 0.3299080729484558, 0.5498468279838562, 0.14088165760040283, 0.4930858016014099, 0.14088165760040283, 0.14088165760040283, 0.08846698701381683, 0.8973079919815063, 0.9052658081054688, 0.4149450659751892, 0.2766300439834595, 0.2766300439834595, 0.18670429289340973, 0.2450493723154068, 0.16920076310634613, 0.005834509152919054, 0.01750352792441845, 0.27422192692756653, 0.0700141116976738, 0.005834509152919054, 0.005834509152919054, 0.01750352792441845, 0.005834509152919054, 0.16630356013774872, 0.16630356013774872, 0.33260712027549744, 0.16630356013774872, 0.16630356013774872, 0.3802989721298218, 0.1901494860649109, 0.1901494860649109, 0.1901494860649109, 0.125753253698349, 0.377259761095047, 0.377259761095047, 0.032128360122442245, 0.27309107780456543, 0.016064180061221123, 0.5381500124931335, 0.04819254204630852, 0.008032090030610561, 0.02409627102315426, 0.016064180061221123, 0.008032090030610561, 0.008032090030610561, 0.008032090030610561, 0.008032090030610561, 0.03251858800649643, 0.016259294003248215, 0.2113708108663559, 0.3414451479911804, 0.13007435202598572, 0.016259294003248215, 0.016259294003248215, 0.13007435202598572, 0.06503717601299286, 0.0688013806939125, 0.4988100230693817, 0.017200345173478127, 0.32680657505989075, 0.03440069034695625, 0.017200345173478127, 0.14623816311359406, 0.7311908602714539, 0.14623816311359406, 0.8703659772872925, 0.022114483639597893, 0.7297779321670532, 0.022114483639597893, 0.19903035461902618, 0.011057241819798946, 0.005528620909899473, 0.005528620909899473, 0.03587483614683151, 0.7174966931343079, 0.14349934458732605, 0.05979139357805252, 0.03587483614683151, 0.2152053862810135, 0.2152053862810135, 0.2152053862810135, 0.2152053862810135, 0.2814946472644806, 0.07037366181612015, 0.010053380392491817, 0.5730426907539368, 0.010053380392491817, 0.04021352156996727, 0.010053380392491817, 0.27418044209480286, 0.6945904493331909, 0.01827869564294815, 0.21907182037830353, 0.46943962574005127, 0.03129597380757332, 0.12518389523029327, 0.03129597380757332, 0.06259194761514664, 0.06259194761514664, 0.7580358386039734, 0.02807540073990822, 0.05615080147981644, 0.11230160295963287, 0.02807540073990822, 0.02807540073990822, 0.18618416786193848, 0.1004803478717804, 0.28370919823646545, 0.0886591300368309, 0.16845233738422394, 0.07979321479797363, 0.014776521362364292, 0.008865912444889545, 0.0029553042259067297, 0.008865912444889545, 0.03546364977955818, 0.005910608451813459, 0.008865912444889545, 0.0029553042259067297, 0.1857547163963318, 0.1857547163963318, 0.1857547163963318, 0.3715094327926636, 0.8455275297164917, 0.11707304418087006, 0.0130081158131361, 0.0130081158131361, 0.18752814829349518, 0.18752814829349518, 0.37505629658699036, 0.18752814829349518, 0.16200615465641022, 0.6480246186256409, 0.16200615465641022, 0.3398071825504303, 0.16990359127521515, 0.16990359127521515, 0.16990359127521515, 0.17373865842819214, 0.6949546337127686, 0.09260889142751694, 0.8643496036529541, 0.358624130487442, 0.31080758571624756, 0.047816548496484756, 0.023908274248242378, 0.047816548496484756, 0.047816548496484756, 0.023908274248242378, 0.023908274248242378, 0.047816548496484756, 0.023908274248242378, 0.047816548496484756, 0.12020336091518402, 0.18030504882335663, 0.06010168045759201, 0.12020336091518402, 0.12020336091518402, 0.12020336091518402, 0.24040672183036804, 0.4387134313583374, 0.5062078237533569, 0.913807213306427, 0.8720322251319885, 0.04152534529566765, 0.04152534529566765, 0.23501358926296234, 0.14021819829940796, 0.1461428999900818, 0.2251390665769577, 0.08689577877521515, 0.043447889387607574, 0.031598467379808426, 0.01974904164671898, 0.015799233689904213, 0.00987452082335949, 0.01974904164671898, 0.01777413673698902, 0.003949808422476053, 0.8756848573684692, 0.131514772772789, 0.08916255831718445, 0.24296796321868896, 0.16717979311943054, 0.17163792252540588, 0.06910098344087601, 0.03566502407193184, 0.04235221445560455, 0.011145319789648056, 0.011145319789648056, 0.01783251203596592, 0.00222906400449574, 0.00445812800899148, 0.6349071264266968, 0.1587267816066742, 0.1587267816066742, 0.3776756823062897, 0.18883784115314484, 0.3776756823062897, 0.1619100719690323, 0.1619100719690323, 0.1619100719690323, 0.3238201439380646, 0.8898431062698364, 0.030684243887662888, 0.1695716232061386, 0.07450874149799347, 0.3622666597366333, 0.19012576341629028, 0.04110827296972275, 0.056523874402046204, 0.007707801181823015, 0.046246808022260666, 0.01541560236364603, 0.020554136484861374, 0.012846334837377071, 0.0025692670606076717, 0.0025692670606076717, 0.14332182705402374, 0.14332182705402374, 0.14332182705402374, 0.2866436541080475, 0.14332182705402374, 0.10698550194501877, 0.010698549449443817, 0.08558839559555054, 0.267463743686676, 0.21397100389003754, 0.03209564834833145, 0.021397098898887634, 0.053492750972509384, 0.11768405139446259, 0.07488984614610672, 0.13666565716266632, 0.15676353871822357, 0.13666565716266632, 0.22107678651809692, 0.13264606893062592, 0.09646987169981003, 0.024117467924952507, 0.020097890868782997, 0.012058733962476254, 0.008039155974984169, 0.032156623899936676, 0.012058733962476254, 0.012058733962476254, 0.008039155974984169, 0.340294748544693, 0.1701473742723465, 0.1701473742723465, 0.1701473742723465, 0.08507368713617325, 0.12466894835233688, 0.21064753830432892, 0.27083253860473633, 0.1074732318520546, 0.1074732318520546, 0.02149464748799801, 0.034391433000564575, 0.034391433000564575, 0.017195716500282288, 0.04298929497599602, 0.02149464748799801, 0.008597858250141144, 0.004298929125070572, 0.10926602780818939, 0.3824310898780823, 0.054633013904094696, 0.4097476005554199, 0.8783532977104187, 0.7964932322502136, 0.13274887204170227, 0.15557101368904114, 0.15557101368904114, 0.15557101368904114, 0.3111420273780823, 0.15090547502040863, 0.08623170107603073, 0.0646737739443779, 0.08623170107603073, 0.28025302290916443, 0.17246340215206146, 0.021557925269007683, 0.10778962075710297, 0.5571974515914917, 0.22287899255752563, 0.11143949627876282, 0.1976500153541565, 0.1976500153541565, 0.395300030708313, 0.1976500153541565, 0.16678519546985626, 0.11119013279676437, 0.16678519546985626, 0.16678519546985626, 0.05559506639838219, 0.27797532081604004, 0.5485609173774719, 0.27428045868873596, 0.18556857109069824, 0.18556857109069824, 0.3711371421813965, 0.18556857109069824, 0.10925287753343582, 0.10925287753343582, 0.21850575506687164, 0.32775864005088806, 0.10925287753343582, 0.22120323777198792, 0.36867207288742065, 0.010533487424254417, 0.07373441010713577, 0.07373441010713577, 0.13693533837795258, 0.08426789939403534, 0.010533487424254417, 0.010533487424254417, 0.09829282760620117, 0.6225212216377258, 0.026211420074105263, 0.06552854925394058, 0.1507156640291214, 0.026211420074105263, 0.006552855018526316, 0.3183929920196533, 0.15919649600982666, 0.15919649600982666, 0.3183929920196533, 0.10256224125623703, 0.2734993100166321, 0.5128112435340881, 0.06837482750415802, 0.08629503101110458, 0.08629503101110458, 0.6903602480888367, 0.08629503101110458, 0.05037641525268555, 0.4198034405708313, 0.4365955889225006, 0.03358427807688713, 0.05037641525268555, 0.3301127254962921, 0.550187885761261, 0.3587345778942108, 0.11957819014787674, 0.3587345778942108, 0.9400574564933777, 0.03397798165678978, 0.011325993575155735, 0.42625191807746887, 0.28416794538497925, 0.14208397269248962, 0.5656937956809998, 0.3771291673183441, 0.23306351900100708, 0.2047179490327835, 0.10078422725200653, 0.11023274809122086, 0.11023274809122086, 0.1354288011789322, 0.028345562517642975, 0.02204654924571514, 0.009448520839214325, 0.028345562517642975, 0.012598028406500816, 0.003149507101625204, 0.003149507101625204, 0.003149507101625204, 0.8613163232803345, 0.16086606681346893, 0.16086606681346893, 0.16086606681346893, 0.32173213362693787, 0.1905360370874405, 0.1905360370874405, 0.1905360370874405, 0.1905360370874405, 0.1905360370874405, 0.9170694351196289, 0.038532327860593796, 0.007706465665251017, 0.015412931330502033, 0.03711652755737305, 0.18558262288570404, 0.6680974364280701, 0.0742330551147461, 0.3745410442352295, 0.3745410442352295, 0.18727052211761475, 0.3898407220840454, 0.09746018052101135, 0.29238054156303406, 0.1949203610420227, 0.3842235505580902, 0.1921117752790451, 0.1921117752790451, 0.1921117752790451, 0.18653488159179688, 0.7461395263671875, 0.18653488159179688, 0.8931238651275635, 0.10205744206905365, 0.03118421882390976, 0.2749881148338318, 0.25797852873802185, 0.2636483907699585, 0.02267943136394024, 0.014174644835293293, 0.00566985784098506, 0.008504786528646946, 0.008504786528646946, 0.008504786528646946, 0.00283492892049253, 0.18805091083049774, 0.564152717590332, 0.18805091083049774, 0.18805091083049774, 0.15641069412231445, 0.15641069412231445, 0.15641069412231445, 0.46923211216926575, 0.1896039843559265, 0.379207968711853, 0.1896039843559265, 0.1896039843559265, 0.10977611690759659, 0.21955223381519318, 0.16466417908668518, 0.054888058453798294, 0.10977611690759659, 0.054888058453798294, 0.21955223381519318, 0.31440022587776184, 0.47160032391548157, 0.6502789855003357, 0.14598099887371063, 0.13270999491214752, 0.026542000472545624, 0.013271000236272812, 0.27863171696662903, 0.18575449287891388, 0.09287724643945694, 0.27863171696662903, 0.3253609240055084, 0.1626804620027542, 0.3253609240055084, 0.1626804620027542, 0.9544717669487, 0.1586376577615738, 0.3965941369533539, 0.3172753155231476, 0.0793188288807869, 0.5445660948753357, 0.01701769046485424, 0.23824766278266907, 0.13614152371883392, 0.03403538092970848, 0.01701769046485424, 0.1016148254275322, 0.7748130559921265, 0.0889129713177681, 0.012701853178441525, 0.012701853178441525, 0.878013551235199, 0.008388664573431015, 0.041943322867155075, 0.002796221524477005, 0.00559244304895401, 0.002796221524477005, 0.041943322867155075, 0.01118488609790802, 0.19404533505439758, 0.14553400874137878, 0.14553400874137878, 0.19404533505439758, 0.048511333763599396, 0.048511333763599396, 0.24255667626857758, 0.33462879061698914, 0.14325246214866638, 0.12086926400661469, 0.15892070531845093, 0.12758421897888184, 0.035813115537166595, 0.02574067749083042, 0.012310758233070374, 0.015668237581849098, 0.007834118790924549, 0.007834118790924549, 0.006714959163218737, 0.0033574795816093683, 0.001119159860536456, 0.30057790875434875, 0.6612713932991028, 0.8291826844215393, 0.13819710910320282, 0.4391898214817047, 0.2635138928890228, 0.029279321432113647, 0.029279321432113647, 0.058558642864227295, 0.029279321432113647, 0.11711728572845459, 0.3233218789100647, 0.2694348990917206, 0.07657623291015625, 0.07657623291015625, 0.0340338833630085, 0.0850847065448761, 0.07090391963720322, 0.011344627477228642, 0.014180784113705158, 0.01701694168150425, 0.008508470840752125, 0.008508470840752125, 0.0028361568693071604, 0.0028361568693071604, 0.1411713808774948, 0.5646855235099792, 0.1411713808774948, 0.013761100359261036, 0.7430993914604187, 0.027522200718522072, 0.1376110017299652, 0.041283298283815384, 0.027522200718522072, 0.09355901181697845, 0.1871180236339569, 0.1871180236339569, 0.09355901181697845, 0.09355901181697845, 0.09355901181697845, 0.09355901181697845, 0.38572412729263306, 0.19286206364631653, 0.38572412729263306, 0.3548949360847473, 0.044361867010593414, 0.13308559358119965, 0.08872373402118683, 0.08872373402118683, 0.13308559358119965, 0.044361867010593414, 0.044361867010593414, 0.08872373402118683, 0.313640832901001, 0.1568204164505005, 0.47046127915382385, 0.27728474140167236, 0.09242824465036392, 0.4621412456035614, 0.09242824465036392, 0.18707317113876343, 0.037414632737636566, 0.6734634041786194, 0.037414632737636566, 0.037414632737636566, 0.2415245771408081, 0.20169872045516968, 0.12975522875785828, 0.1695810854434967, 0.09506818652153015, 0.0770823135972023, 0.02312469482421875, 0.02569410391151905, 0.006423525977879763, 0.008992936462163925, 0.008992936462163925, 0.0077082314528524876, 0.0038541157264262438, 0.0025694104842841625, 0.24449992179870605, 0.16466321051120758, 0.0997958853840828, 0.20957136154174805, 0.12973465025424957, 0.0249489713460207, 0.029938766732811928, 0.054887738078832626, 0.004989794455468655, 0.014969383366405964, 0.00997958891093731, 0.9677956104278564, 0.13332553207874298, 0.26665106415748596, 0.13332553207874298, 0.06666276603937149, 0.13332553207874298, 0.33331382274627686, 0.19052474200725555, 0.3810494840145111, 0.19052474200725555, 0.2826559841632843, 0.2826559841632843, 0.14132799208164215, 0.14132799208164215, 0.14132799208164215, 0.18637342751026154, 0.37274685502052307, 0.18637342751026154, 0.18637342751026154, 0.33388552069664, 0.2225903421640396, 0.03179861977696419, 0.015899309888482094, 0.1430937945842743, 0.03179861977696419, 0.03179861977696419, 0.12719447910785675, 0.015899309888482094, 0.04769793152809143, 0.8983715176582336, 0.0561482198536396, 0.4988676905632019, 0.12471692264080048, 0.24943384528160095, 0.08494675159454346, 0.16989350318908691, 0.33978700637817383, 0.14157791435718536, 0.028315583243966103, 0.028315583243966103, 0.028315583243966103, 0.028315583243966103, 0.08494675159454346, 0.056631166487932205, 0.1909005492925644, 0.2607422173023224, 0.102434441447258, 0.1583077758550644, 0.0791538879275322, 0.0744977742433548, 0.0372488871216774, 0.051217220723629, 0.013968332670629025, 0.013968332670629025, 0.013968332670629025, 0.004656110890209675, 0.4224196970462799, 0.5280246138572693, 0.25296327471733093, 0.16864219307899475, 0.08432109653949738, 0.4216054677963257, 0.2302265465259552, 0.04886884242296219, 0.21502290666103363, 0.15312236547470093, 0.13466081023216248, 0.10533950477838516, 0.031493254005908966, 0.005429871380329132, 0.019547536969184875, 0.028235331177711487, 0.014117665588855743, 0.009773768484592438, 0.0032579228281974792, 0.18417635560035706, 0.18417635560035706, 0.5525290369987488, 0.38135066628456116, 0.023834416642785072, 0.023834416642785072, 0.26217857003211975, 0.047668833285570145, 0.09533766657114029, 0.07150325179100037, 0.023834416642785072, 0.07150325179100037, 0.36648017168045044, 0.4886402189731598, 0.5690702199935913, 0.18969006836414337, 0.18969006836414337, 0.7797489166259766, 0.15594978630542755, 0.1892835944890976, 0.06309453397989273, 0.4416617453098297, 0.2523781359195709, 0.3853739798069, 0.018430929630994797, 0.12231434881687164, 0.19603806734085083, 0.10053233802318573, 0.09047910571098328, 0.0016755389515310526, 0.005026617087423801, 0.01340431161224842, 0.05361724644899368, 0.00837769452482462, 0.0016755389515310526, 0.031663261353969574, 0.009998925030231476, 0.07665842771530151, 0.5799376368522644, 0.2649714946746826, 0.013331899419426918, 0.0016664874274283648, 0.006665949709713459, 0.0016664874274283648, 0.0033329748548567295, 0.004999462515115738, 0.0033329748548567295, 0.1487610787153244, 0.005312895867973566, 0.015938688069581985, 0.32939955592155457, 0.3931542932987213, 0.010625791735947132, 0.015938688069581985, 0.0371902696788311, 0.026564478874206543, 0.015938688069581985, 0.005312895867973566, 0.48644211888313293, 0.1621473729610443, 0.1621473729610443, 0.1621473729610443, 0.12451876699924469, 0.31129691004753113, 0.12451876699924469, 0.12451876699924469, 0.062259383499622345, 0.12451876699924469, 0.062259383499622345, 0.062259383499622345, 0.8684113621711731, 0.8576070070266724, 0.931701123714447, 0.18983952701091766, 0.18983952701091766, 0.18983952701091766, 0.18983952701091766, 0.18983952701091766, 0.9377295970916748, 0.06201961264014244, 0.7176555395126343, 0.15061905980110168, 0.00885994452983141, 0.03543977811932564, 0.00885994452983141, 0.6234615445137024, 0.3117307722568512, 0.10041721165180206, 0.06694480776786804, 0.1807509809732437, 0.23430682718753815, 0.19413994252681732, 0.06025032699108124, 0.03347240388393402, 0.006694480776786804, 0.013388961553573608, 0.013388961553573608, 0.07363928854465485, 0.013388961553573608, 0.006694480776786804, 0.006694480776786804, 0.10998552292585373, 0.21997104585170746, 0.5499275922775269, 0.33149904012680054, 0.6629980802536011, 0.888969361782074, 0.09321864694356918, 0.15536440908908844, 0.2692983150482178, 0.11393389850854874, 0.09839745610952377, 0.14500677585601807, 0.04660932347178459, 0.015536440536379814, 0.005178813356906176, 0.02589406818151474, 0.03107288107275963, 0.1454385668039322, 0.0743352621793747, 0.22946973145008087, 0.24347493052482605, 0.17129430174827576, 0.059252746403217316, 0.012927872128784657, 0.017237162217497826, 0.01400519534945488, 0.015082517638802528, 0.007541258819401264, 0.007541258819401264, 0.002154645277187228, 0.001077322638593614, 0.001077322638593614, 0.20664730668067932, 0.21223238110542297, 0.2234025001525879, 0.04188796877861023, 0.0977385938167572, 0.07260581105947495, 0.03630290552973747, 0.02234024927020073, 0.013962656259536743, 0.025132780894637108, 0.03630290552973747, 0.00837759394198656, 0.2799684703350067, 0.13998423516750336, 0.13998423516750336, 0.2799684703350067, 0.18152326345443726, 0.16583606600761414, 0.21737970411777496, 0.1568719446659088, 0.10981036722660065, 0.06498980522155762, 0.02913336269557476, 0.020169250667095184, 0.02689233422279358, 0.006723083555698395, 0.008964111097157001, 0.008964111097157001, 0.18468934297561646, 0.18468934297561646, 0.4155510365962982, 0.09234467148780823, 0.046172335743904114, 0.046172335743904114, 0.046172335743904114, 0.9238678812980652, 0.0784723162651062, 0.056674450635910034, 0.27901268005371094, 0.3792828619480133, 0.08719146251678467, 0.0523148775100708, 0.0130787193775177, 0.017438292503356934, 0.004359573125839233, 0.008719146251678467, 0.0130787193775177, 0.008719146251678467, 0.004359573125839233, 0.5197410583496094, 0.09355338662862778, 0.015592231415212154, 0.02078964188694954, 0.1663171350955963, 0.07276374846696854, 0.0259870532900095, 0.051974106580019, 0.01039482094347477, 0.0259870532900095, 0.08457919955253601, 0.8457920551300049, 0.9457088708877563, 0.4351084232330322, 0.2962440252304077, 0.04937400668859482, 0.027772877365350723, 0.03394462913274765, 0.03394462913274765, 0.07714688032865524, 0.02468700334429741, 0.012343501672148705, 0.006171750836074352, 0.003085875418037176, 0.1950952261686325, 0.5852857232093811, 0.1950952261686325, 0.9569404125213623, 0.5589410066604614, 0.13973525166511536, 0.2794705033302307, 0.34017977118492126, 0.21755683422088623, 0.06328926235437393, 0.0830671489238739, 0.027689050883054733, 0.15822315216064453, 0.06328926235437393, 0.003955578897148371, 0.019777894020080566, 0.019777894020080566, 0.003955578897148371, 0.003955578897148371, 0.12489915639162064, 0.24979831278324127, 0.12489915639162064, 0.12489915639162064, 0.12489915639162064, 0.12489915639162064, 0.32500767707824707, 0.4875115156173706, 0.26945263147354126, 0.3079458773136139, 0.028869925066828728, 0.028869925066828728, 0.26945263147354126, 0.057739850133657455, 0.019246617332100868, 0.009623308666050434, 0.6084343194961548, 0.1521085798740387, 0.1422846019268036, 0.1778557449579239, 0.3557114899158478, 0.0711423009634018, 0.1067134439945221, 0.0355711504817009, 0.0711423009634018, 0.12534469366073608, 0.06674198061227798, 0.37928977608680725, 0.1204611286520958, 0.1758081316947937, 0.056974858045578, 0.014650678262114525, 0.004883559420704842, 0.009767118841409683, 0.026045650243759155, 0.0032557062804698944, 0.004883559420704842, 0.0016278531402349472, 0.008139265701174736, 0.5009269714355469, 0.21468298137187958, 0.07156099379062653, 0.14312198758125305, 0.15187901258468628, 0.14428506791591644, 0.022781852632761, 0.48601284623146057, 0.10631530731916428, 0.022781852632761, 0.022781852632761, 0.030375802889466286, 0.007593950722366571, 0.9457313418388367, 0.02702089585363865, 0.02702089585363865, 0.9336340427398682, 0.45915332436561584, 0.45915332436561584, 0.3186303675174713, 0.25490429997444153, 0.12745214998722076, 0.06372607499361038, 0.06372607499361038, 0.12745214998722076, 0.07906292378902435, 0.4743775427341461, 0.39531463384628296, 0.09626540541648865, 0.5775924324989319, 0.1925308108329773, 0.3826534152030945, 0.3826534152030945, 0.19132670760154724, 0.13336606323719025, 0.10002454370260239, 0.06668303161859512, 0.333415150642395, 0.03334151580929756, 0.06668303161859512, 0.06668303161859512, 0.1667075753211975, 0.2806270122528076, 0.18708467483520508, 0.09354233741760254, 0.2806270122528076, 0.18708467483520508, 0.9301906228065491, 0.020221535116434097, 0.040443070232868195, 0.15280163288116455, 0.6250975728034973, 0.01389105711132288, 0.01389105711132288, 0.08334634453058243, 0.041673172265291214, 0.05556422844529152, 0.01389105711132288, 0.01389105711132288, 0.24776433408260345, 0.15599976480007172, 0.15049389004707336, 0.18903501331806183, 0.08625869452953339, 0.08442340046167374, 0.02385878749191761, 0.0036705827806144953, 0.02385878749191761, 0.016517622396349907, 0.0055058738216757774, 0.0055058738216757774, 0.0036705827806144953, 0.0018352913903072476, 0.9004058241844177, 0.05296504870057106, 0.013241262175142765, 0.013241262175142765, 0.05355554074048996, 0.3748887777328491, 0.535555362701416, 0.10555291175842285, 0.030893534421920776, 0.5213283896446228, 0.15832936763763428, 0.046340301632881165, 0.03346799686551094, 0.01415953692048788, 0.009010613895952702, 0.002574461279436946, 0.043765839189291, 0.01673399843275547, 0.009010613895952702, 0.002574461279436946, 0.002574461279436946, 0.001287230639718473, 0.15843477845191956, 0.1302516758441925, 0.3023971617221832, 0.12415802478790283, 0.16529013216495514, 0.04570234194397926, 0.014472408220171928, 0.010663880035281181, 0.012948996387422085, 0.009902173653244972, 0.01218729093670845, 0.006855351384729147, 0.0022851170506328344, 0.0038085284177213907, 0.0007617056835442781, 0.8481928110122681, 0.010343814268708229, 0.041375257074832916, 0.051719073206186295, 0.041375257074832916, 0.21642640233039856, 0.21026793122291565, 0.19179250299930573, 0.10909298807382584, 0.06950279325246811, 0.08885800093412399, 0.03695084899663925, 0.0316721573472023, 0.008797821588814259, 0.008797821588814259, 0.01583607867360115, 0.005278693046420813, 0.004398910794407129, 0.001759564271196723, 0.001759564271196723, 0.044976938515901566, 0.044976938515901566, 0.17241159081459045, 0.23238083720207214, 0.23238083720207214, 0.044976938515901566, 0.0074961562640964985, 0.037480782717466354, 0.022488469257950783, 0.07496156543493271, 0.014992312528192997, 0.0674654021859169, 0.022488469257950783, 0.6740118265151978, 0.22467060387134552, 0.5124819278717041, 0.2759518027305603, 0.0394216850399971, 0.0394216850399971, 0.0788433700799942, 0.0394216850399971, 0.18781431019306183, 0.12470261752605438, 0.21670880913734436, 0.20834460854530334, 0.10341192781925201, 0.0707155093550682, 0.024332217872142792, 0.019769927486777306, 0.014447254128754139, 0.010645344853401184, 0.008364199660718441, 0.0068434360437095165, 0.0022811454255133867, 0.0022811454255133867, 0.7050797939300537, 0.1007256805896759, 0.1007256805896759, 0.2693338096141815, 0.2633039653301239, 0.09044792503118515, 0.13466690480709076, 0.06632847338914871, 0.07034838199615479, 0.04421898350119591, 0.026129400357604027, 0.014069676399230957, 0.004019907675683498, 0.002009953837841749, 0.008039815351366997, 0.002009953837841749, 0.004019907675683498, 0.08295253664255142, 0.10369066894054413, 0.12857642769813538, 0.39817216992378235, 0.21567659080028534, 0.020738134160637856, 0.012442880310118198, 0.008295253850519657, 0.012442880310118198, 0.008295253850519657, 0.004147626925259829, 0.004147626925259829, 0.004147626925259829, 0.004147626925259829, 0.3151940703392029, 0.26266172528266907, 0.15759703516960144, 0.052532345056533813, 0.052532345056533813, 0.10506469011306763, 0.2854388952255249, 0.2854388952255249, 0.14271944761276245, 0.14271944761276245, 0.14271944761276245, 0.15838415920734406, 0.15838415920734406, 0.47515249252319336, 0.19352032244205475, 0.3870406448841095, 0.19352032244205475, 0.8791064023971558, 0.12281135469675064, 0.12281135469675064, 0.6140567660331726, 0.12101392447948456, 0.24202784895896912, 0.24202784895896912, 0.24202784895896912, 0.3225180208683014, 0.23671047389507294, 0.07101314514875412, 0.10651971399784088, 0.0887664258480072, 0.0443832129240036, 0.08284866809844971, 0.01775328628718853, 0.008876643143594265, 0.0029588809702545404, 0.0029588809702545404, 0.005917761940509081, 0.0029588809702545404, 0.0029588809702545404, 0.005917761940509081, 0.15848027169704437, 0.15848027169704437, 0.15848027169704437, 0.4754408001899719, 0.9060473442077637, 0.1551644653081894, 0.012930371798574924, 0.1293037235736847, 0.1551644653081894, 0.42023709416389465, 0.019395558163523674, 0.03879111632704735, 0.006465185899287462, 0.019395558163523674, 0.019395558163523674, 0.006465185899287462, 0.02586074359714985, 0.1934971809387207, 0.1934971809387207, 0.1934971809387207, 0.1934971809387207, 0.555591344833374, 0.1388978362083435, 0.1388978362083435, 0.1388978362083435, 0.9127591848373413, 0.42057135701179504, 0.14019045233726501, 0.14019045233726501, 0.14019045233726501, 0.14019045233726501, 0.7626664042472839, 0.15253327786922455, 0.37220314145088196, 0.18610157072544098, 0.18610157072544098, 0.18610157072544098, 0.2621815800666809, 0.13109079003334045, 0.39327237010002136, 0.13109079003334045, 0.8617919087409973, 0.14000070095062256, 0.7933372855186462, 0.937187671661377, 0.33561599254608154, 0.16780799627304077, 0.16780799627304077, 0.16780799627304077, 0.8275429010391235, 0.020688572898507118, 0.020688572898507118, 0.041377145797014236, 0.041377145797014236, 0.020688572898507118, 0.041377145797014236, 0.020688572898507118, 0.26638129353523254, 0.29301944375038147, 0.13319064676761627, 0.159828782081604, 0.026638129726052284, 0.10655251890420914, 0.1683768630027771, 0.3367537260055542, 0.1683768630027771, 0.1683768630027771, 0.12988176941871643, 0.6927027106285095, 0.08658783882856369, 0.05610693246126175, 0.6919854879379272, 0.09351155161857605, 0.13091617822647095, 0.01870230957865715, 0.9132753014564514, 0.4546498954296112, 0.25979992747306824, 0.06494998186826706, 0.06494998186826706, 0.06494998186826706, 0.3211652636528015, 0.20230881869792938, 0.12138529121875763, 0.13655845820903778, 0.0328751839697361, 0.09356782585382462, 0.027817463502287865, 0.020230881869792938, 0.02275974303483963, 0.0025288602337241173, 0.0025288602337241173, 0.007586580701172352, 0.0025288602337241173, 0.0050577204674482346, 0.37564656138420105, 0.2504310607910156, 0.2086925357580185, 0.08347701281309128, 0.04173850640654564, 0.01773449219763279, 0.5497692823410034, 0.38129159808158875, 0.02660173922777176, 0.008867246098816395, 0.09019208699464798, 0.04509604349732399, 0.8117287755012512, 0.2100503146648407, 0.1028817892074585, 0.29578515887260437, 0.13717572391033173, 0.06858786195516586, 0.05572763457894325, 0.030007189139723778, 0.008573482744395733, 0.008573482744395733, 0.025720447301864624, 0.02143370546400547, 0.02143370546400547, 0.0042867413721978664, 0.008573482744395733, 0.20964069664478302, 0.1674213856458664, 0.1921706348657608, 0.13102543354034424, 0.1281137615442276, 0.059689365327358246, 0.03057260252535343, 0.020381733775138855, 0.01164670567959547, 0.014558381401002407, 0.01601422019302845, 0.01164670567959547, 0.00436751451343298, 0.0014558382099494338, 0.0029116764198988676, 0.29493212699890137, 0.21614888310432434, 0.09090373665094376, 0.14948615431785583, 0.07878324389457703, 0.05656232684850693, 0.04848199337720871, 0.02626108005642891, 0.012120498344302177, 0.002020083134993911, 0.004040166269987822, 0.008080332539975643, 0.006060249172151089, 0.004040166269987822, 0.0023387037217617035, 0.9354814291000366, 0.0023387037217617035, 0.0023387037217617035, 0.0023387037217617035, 0.018709629774093628, 0.030403146520256996, 0.004677407443523407, 0.9042017459869385, 0.4438718259334564, 0.405825674533844, 0.02536410465836525, 0.0169094018638134, 0.029591454192996025, 0.0507282093167305, 0.0169094018638134, 0.00422735046595335, 0.00422735046595335, 0.00422735046595335, 0.11093708872795105, 0.8774115443229675, 0.1901845633983612, 0.5705536603927612, 0.1901845633983612, 0.018092622980475426, 0.9724785089492798, 0.2955358028411865, 0.2791171371936798, 0.13134925067424774, 0.11493059247732162, 0.016418656334280968, 0.06567462533712387, 0.032837312668561935, 0.016418656334280968, 0.049255967140197754, 0.889712393283844, 0.5543810725212097, 0.36958739161491394, 0.0834130048751831, 0.2502390146255493, 0.1668260097503662, 0.0834130048751831, 0.0834130048751831, 0.2502390146255493, 0.2110336571931839, 0.1278991848230362, 0.23874515295028687, 0.13216249644756317, 0.12150422483682632, 0.04689636826515198, 0.03836975619196892, 0.02557983808219433, 0.002131653018295765, 0.012789919041097164, 0.029843144118785858, 0.014921572059392929, 0.002131653018295765, 0.7958014011383057, 0.05684295669198036, 0.05684295669198036, 0.8727390170097351, 0.003331064945086837, 0.003331064945086837, 0.06329023838043213, 0.04663491249084473, 0.003331064945086837, 0.19592836499214172, 0.17048311233520508, 0.2519078850746155, 0.10941454023122787, 0.09414739161729813, 0.053435005247592926, 0.033078812062740326, 0.027989765629172325, 0.0101780965924263, 0.012722620740532875, 0.01526714488863945, 0.012722620740532875, 0.002544524148106575, 0.002544524148106575, 0.00508904829621315, 0.15195921063423157, 0.11819049715995789, 0.2146725356578827, 0.22432073950767517, 0.12542665004730225, 0.07718563079833984, 0.02653256058692932, 0.01447230577468872, 0.00482410192489624, 0.00964820384979248, 0.0241205096244812, 0.00482410192489624, 0.00241205096244812, 0.00241205096244812, 0.28437137603759766, 0.28437137603759766, 0.14218568801879883, 0.14218568801879883, 0.14218568801879883, 0.10028766840696335, 0.10028766840696335, 0.17828917503356934, 0.1727176457643509, 0.19500379264354706, 0.133716881275177, 0.027857685461640358, 0.005571536719799042, 0.016714610159397125, 0.011143073439598083, 0.011143073439598083, 0.016714610159397125, 0.027857685461640358, 0.26708805561065674, 0.09856820851564407, 0.16534022986888885, 0.1462625116109848, 0.08267011493444443, 0.11446630954742432, 0.038155436515808105, 0.02543695829808712, 0.009538859128952026, 0.00635923957452178, 0.00635923957452178, 0.03179619833827019, 0.00317961978726089, 0.00635923957452178, 0.3029751777648926, 0.12721610069274902, 0.195845827460289, 0.09875985980033875, 0.12386830151081085, 0.050216879695653915, 0.01673896051943302, 0.003347791964188218, 0.028456231579184532, 0.013391167856752872, 0.010043376125395298, 0.02343454398214817, 0.003347791964188218, 0.001673895982094109, 0.6810701489448547, 0.2270233929157257, 0.13541778922080994, 0.12488529831171036, 0.2587984502315521, 0.16250135004520416, 0.1850709766149521, 0.04212997853755951, 0.018055705353617668, 0.030092842876911163, 0.004513926338404417, 0.010532494634389877, 0.01203713659197092, 0.00601856829598546, 0.00300928414799273, 0.001504642073996365, 0.00300928414799273, 0.525993824005127, 0.03757098689675331, 0.3381388783454895, 0.03757098689675331, 0.03757098689675331], \"Term\": [\"abbey\", \"abide\", \"abide\", \"accent\", \"accent\", \"accent\", \"accent\", \"accent\", \"accent\", \"accent\", \"accent\", \"accent\", \"acquaintances\", \"acquaintances\", \"acquaintances\", \"acquaintances\", \"actress\", \"adele\", \"adele\", \"adele\", \"adele\", \"adele\", \"adele\", \"administered\", \"administered\", \"administered\", \"adoption\", \"adoption\", \"aerial\", \"aerial\", \"aerial\", \"affection\", \"affection\", \"affection\", \"affection\", \"affection\", \"affection\", \"affection\", \"affection\", \"affection\", \"affection\", \"affection\", \"affection\", \"agonies\", \"agonies\", \"agonies\", \"agonies\", \"air\", \"air\", \"air\", \"air\", \"air\", \"air\", \"air\", \"air\", \"air\", \"air\", \"air\", \"air\", \"air\", \"airing\", \"airing\", \"airing\", \"albion\", \"albion\", \"albion\", \"albion\", \"alfred\", \"alfred\", \"alfred\", \"allee\", \"allenham\", \"alliance\", \"alliance\", \"alliance\", \"alliance\", \"alliance\", \"alliance\", \"amazing\", \"amazing\", \"amazing\", \"amazing\", \"ambitious\", \"ambitious\", \"ambitious\", \"ambitious\", \"amounted\", \"amounted\", \"amounted\", \"amour\", \"amour\", \"amour\", \"amy\", \"anecdote\", \"anecdote\", \"anecdote\", \"anecdote\", \"anguish\", \"anguish\", \"anguish\", \"anguish\", \"annum\", \"annum\", \"annum\", \"annum\", \"annum\", \"annum\", \"answer\", \"answer\", \"answer\", \"answer\", \"answer\", \"answer\", \"answer\", \"answer\", \"answer\", \"answer\", \"answer\", \"answer\", \"answer\", \"answer\", \"antagonist\", \"antagonist\", \"antagonist\", \"apologising\", \"appealing\", \"appreciating\", \"appreciating\", \"appreciating\", \"appreciating\", \"asked\", \"asked\", \"asked\", \"asked\", \"asked\", \"asked\", \"asked\", \"asked\", \"asked\", \"asked\", \"asked\", \"asked\", \"asked\", \"aspire\", \"aspire\", \"aspire\", \"aspire\", \"assez\", \"assez\", \"assez\", \"assiduous\", \"assiduous\", \"assiduous\", \"assiduous\", \"assign\", \"assign\", \"assign\", \"assistance\", \"assistance\", \"assistance\", \"assistance\", \"assistance\", \"assistance\", \"assistance\", \"assistance\", \"assistance\", \"associations\", \"associations\", \"associations\", \"associations\", \"associations\", \"associations\", \"atom\", \"attic\", \"attic\", \"attic\", \"attic\", \"attics\", \"attics\", \"attics\", \"august\", \"august\", \"august\", \"august\", \"august\", \"aunt\", \"aunt\", \"aunt\", \"aunt\", \"aunt\", \"aunt\", \"aunt\", \"aunt\", \"aunt\", \"aunt\", \"aunt\", \"average\", \"average\", \"average\", \"away\", \"away\", \"away\", \"away\", \"away\", \"away\", \"away\", \"away\", \"away\", \"away\", \"away\", \"away\", \"away\", \"away\", \"away\", \"banker\", \"banker\", \"banker\", \"banker\", \"bark\", \"barouche\", \"barouche\", \"barouche\", \"barton\", \"barton\", \"bassompierre\", \"bassompierre\", \"bassompierre\", \"bassompierre\", \"bassompierre\", \"bates\", \"bates\", \"bates\", \"bates\", \"bates\", \"bates\", \"bath\", \"bath\", \"bath\", \"bath\", \"bathing\", \"bathing\", \"bathing\", \"beck\", \"beck\", \"beck\", \"beck\", \"beck\", \"bedrooms\", \"bedrooms\", \"bedrooms\", \"bedrooms\", \"beer\", \"beer\", \"beer\", \"began\", \"began\", \"began\", \"began\", \"began\", \"began\", \"began\", \"began\", \"began\", \"began\", \"began\", \"began\", \"behaviour\", \"behaviour\", \"behaviour\", \"behaviour\", \"behaviour\", \"behaviour\", \"behaviour\", \"belgian\", \"belgian\", \"belgian\", \"belgians\", \"belgians\", \"belgians\", \"belgians\", \"belgium\", \"belgium\", \"belgium\", \"belgium\", \"belgium\", \"belles\", \"bennet\", \"bennet\", \"bennet\", \"bennet\", \"bennet\", \"bennets\", \"bennets\", \"bessie\", \"bessie\", \"bessie\", \"betook\", \"betook\", \"better\", \"better\", \"better\", \"better\", \"better\", \"better\", \"better\", \"better\", \"better\", \"better\", \"better\", \"better\", \"better\", \"better\", \"better\", \"bien\", \"bien\", \"bien\", \"bien\", \"bien\", \"bigben\", \"bigben\", \"bingley\", \"bingley\", \"bingley\", \"bingley\", \"black\", \"black\", \"black\", \"black\", \"black\", \"black\", \"black\", \"black\", \"black\", \"black\", \"black\", \"boarder\", \"boarder\", \"boarders\", \"boarders\", \"boards\", \"boards\", \"boards\", \"boasting\", \"boasting\", \"boasting\", \"body\", \"body\", \"body\", \"body\", \"body\", \"body\", \"body\", \"body\", \"body\", \"body\", \"boiled\", \"boiled\", \"boiled\", \"boiled\", \"bone\", \"bone\", \"bone\", \"bone\", \"bone\", \"book\", \"book\", \"book\", \"book\", \"book\", \"book\", \"book\", \"book\", \"book\", \"book\", \"book\", \"book\", \"book\", \"book\", \"bourgh\", \"bourgh\", \"bourne\", \"boys\", \"boys\", \"boys\", \"boys\", \"boys\", \"boys\", \"boys\", \"boys\", \"boys\", \"bracelet\", \"bracelet\", \"bracelet\", \"bracelet\", \"bracelet\", \"brandon\", \"brandon\", \"brandon\", \"bread\", \"bread\", \"bread\", \"bread\", \"bread\", \"bread\", \"bretton\", \"bretton\", \"bretton\", \"bretton\", \"bretton\", \"bretton\", \"briggs\", \"briggs\", \"brocklehurst\", \"brocklehurst\", \"brushed\", \"brushed\", \"brushed\", \"brushed\", \"brushed\", \"brussels\", \"brussels\", \"brussels\", \"brussels\", \"brussels\", \"brussels\", \"brussels\", \"burns\", \"burnt\", \"burnt\", \"burnt\", \"burnt\", \"cake\", \"cake\", \"cake\", \"cake\", \"cake\", \"cake\", \"cake\", \"came\", \"came\", \"came\", \"came\", \"came\", \"came\", \"came\", \"came\", \"came\", \"came\", \"came\", \"came\", \"came\", \"campbell\", \"campbell\", \"campbell\", \"candle\", \"candle\", \"candle\", \"candle\", \"capacity\", \"capacity\", \"capacity\", \"capacity\", \"capacity\", \"captain\", \"captain\", \"captain\", \"carlo\", \"caroline\", \"caroline\", \"caroline\", \"caroline\", \"carter\", \"carter\", \"carter\", \"carter\", \"carter\", \"catherine\", \"catherine\", \"catherine\", \"catherine\", \"catherine\", \"celine\", \"certain\", \"certain\", \"certain\", \"certain\", \"certain\", \"certain\", \"certain\", \"certain\", \"certain\", \"certain\", \"certain\", \"certain\", \"certain\", \"certainly\", \"certainly\", \"certainly\", \"certainly\", \"certainly\", \"certainly\", \"certainly\", \"certainly\", \"certainly\", \"certainly\", \"certainly\", \"certainly\", \"certainly\", \"ces\", \"ces\", \"ces\", \"ces\", \"chalk\", \"chalk\", \"chalk\", \"chalk\", \"chances\", \"chances\", \"chances\", \"chances\", \"chances\", \"charade\", \"charade\", \"charade\", \"charade\", \"charlotte\", \"charlotte\", \"charlotte\", \"charlotte\", \"charlotte\", \"cheap\", \"cheap\", \"cheap\", \"cheap\", \"cheese\", \"chestnut\", \"chestnut\", \"chestnut\", \"children\", \"children\", \"children\", \"children\", \"children\", \"children\", \"children\", \"children\", \"children\", \"children\", \"children\", \"children\", \"children\", \"chink\", \"chink\", \"chink\", \"cholmondeley\", \"cholmondeley\", \"cholmondeley\", \"cholmondeley\", \"chooses\", \"chooses\", \"church\", \"church\", \"church\", \"church\", \"church\", \"church\", \"church\", \"church\", \"church\", \"churchill\", \"churchill\", \"churchill\", \"churchill\", \"churchill\", \"churchill\", \"churchill\", \"civility\", \"civility\", \"civility\", \"civility\", \"civility\", \"civility\", \"classe\", \"classe\", \"classe\", \"classe\", \"cleveland\", \"cleveland\", \"clever\", \"clever\", \"clever\", \"clever\", \"clever\", \"clever\", \"clever\", \"clever\", \"clever\", \"clever\", \"climax\", \"climax\", \"climax\", \"climax\", \"cloaks\", \"cloaks\", \"cloaks\", \"cloaks\", \"colds\", \"colds\", \"colds\", \"cole\", \"cole\", \"cole\", \"collation\", \"collation\", \"collation\", \"collins\", \"collins\", \"collins\", \"collins\", \"colonel\", \"colonel\", \"colonel\", \"colonel\", \"colonel\", \"colonel\", \"colonel\", \"colonel\", \"combe\", \"come\", \"come\", \"come\", \"come\", \"come\", \"come\", \"come\", \"come\", \"come\", \"come\", \"come\", \"come\", \"come\", \"come\", \"come\", \"comfortable\", \"comfortable\", \"comfortable\", \"comfortable\", \"comfortable\", \"comfortable\", \"comfortable\", \"comfortable\", \"comfortable\", \"comfortable\", \"comfortable\", \"comfortable\", \"comments\", \"comments\", \"comments\", \"comments\", \"committed\", \"committed\", \"committed\", \"committed\", \"committed\", \"committed\", \"committed\", \"communicative\", \"communicative\", \"communicative\", \"communicative\", \"communicative\", \"complacent\", \"complacent\", \"complacent\", \"comprehending\", \"comprehending\", \"comprehending\", \"concisely\", \"concisely\", \"concisely\", \"confidential\", \"confidential\", \"confidential\", \"confidential\", \"consists\", \"consists\", \"consists\", \"consists\", \"contains\", \"contains\", \"contour\", \"contour\", \"contour\", \"conversations\", \"conversations\", \"conversations\", \"conversations\", \"copied\", \"copied\", \"copied\", \"copied\", \"copied\", \"copying\", \"copying\", \"copying\", \"copying\", \"copying\", \"corps\", \"corps\", \"corridor\", \"corridor\", \"corridor\", \"corridor\", \"corridor\", \"cottage\", \"cottage\", \"cottage\", \"cottage\", \"cottage\", \"cottage\", \"cottage\", \"cottage\", \"country\", \"country\", \"country\", \"country\", \"country\", \"country\", \"country\", \"country\", \"country\", \"country\", \"country\", \"course\", \"course\", \"course\", \"course\", \"course\", \"course\", \"course\", \"course\", \"course\", \"course\", \"course\", \"course\", \"course\", \"course\", \"course\", \"cox\", \"crack\", \"crack\", \"crecy\", \"crecy\", \"crecy\", \"crecy\", \"crimsworth\", \"crimsworth\", \"crimsworth\", \"crimsworth\", \"crimsworth\", \"crimsworth\", \"crimsworth\", \"cultivated\", \"cultivated\", \"cultivated\", \"cup\", \"cup\", \"cup\", \"cup\", \"cup\", \"cup\", \"curricle\", \"curtain\", \"curtain\", \"curtain\", \"curtain\", \"curtain\", \"curtain\", \"curtain\", \"darcy\", \"darcy\", \"darcy\", \"dark\", \"dark\", \"dark\", \"dark\", \"dark\", \"dark\", \"dark\", \"dark\", \"dark\", \"dark\", \"dark\", \"dark\", \"dashwood\", \"dashwood\", \"dashwood\", \"dashwood\", \"dashwood\", \"dashwoods\", \"dashwoods\", \"dawn\", \"dawn\", \"dawn\", \"dawn\", \"dawn\", \"dawn\", \"dawn\", \"day\", \"day\", \"day\", \"day\", \"day\", \"day\", \"day\", \"day\", \"day\", \"day\", \"day\", \"day\", \"day\", \"day\", \"day\", \"dear\", \"dear\", \"dear\", \"dear\", \"dear\", \"dear\", \"dear\", \"dear\", \"dear\", \"dear\", \"dear\", \"dear\", \"death\", \"death\", \"death\", \"death\", \"death\", \"death\", \"death\", \"death\", \"death\", \"death\", \"death\", \"decease\", \"decease\", \"decease\", \"decease\", \"decease\", \"deck\", \"deck\", \"defendue\", \"deformity\", \"deformity\", \"deformity\", \"degree\", \"degree\", \"degree\", \"degree\", \"degree\", \"degree\", \"degree\", \"degree\", \"degree\", \"degree\", \"degree\", \"degree\", \"delaford\", \"delaford\", \"demoiselles\", \"demoiselles\", \"demoiselles\", \"demonstrative\", \"denny\", \"denote\", \"denote\", \"denote\", \"denote\", \"dent\", \"deportment\", \"deportment\", \"deportment\", \"des\", \"des\", \"des\", \"des\", \"des\", \"desk\", \"desk\", \"desk\", \"desk\", \"desk\", \"desk\", \"desk\", \"desk\", \"desk\", \"desk\", \"despotism\", \"despotism\", \"despotism\", \"despotism\", \"devoirs\", \"devoirs\", \"devonshire\", \"devonshire\", \"devonshire\", \"devoting\", \"devoting\", \"devoting\", \"devoured\", \"diana\", \"diana\", \"diana\", \"diana\", \"diana\", \"diffused\", \"diffused\", \"diffused\", \"diffused\", \"dimly\", \"dingy\", \"dingy\", \"dingy\", \"director\", \"director\", \"director\", \"director\", \"director\", \"directress\", \"directress\", \"directress\", \"directress\", \"directress\", \"directress\", \"discharging\", \"discharging\", \"discharging\", \"discharging\", \"discharging\", \"dishes\", \"dishes\", \"dishes\", \"dishes\", \"dishes\", \"dishevelled\", \"dishevelled\", \"dishevelled\", \"dishevelled\", \"disposal\", \"disposal\", \"disposal\", \"disposal\", \"disposal\", \"dissimulation\", \"dissimulation\", \"doctor\", \"doctor\", \"doctor\", \"doctor\", \"document\", \"document\", \"document\", \"donwell\", \"donwell\", \"donwell\", \"door\", \"door\", \"door\", \"door\", \"door\", \"door\", \"door\", \"door\", \"door\", \"door\", \"door\", \"door\", \"door\", \"door\", \"doubt\", \"doubt\", \"doubt\", \"doubt\", \"doubt\", \"doubt\", \"doubt\", \"doubt\", \"doubt\", \"doubt\", \"doubt\", \"doubt\", \"doubt\", \"doubt\", \"dr\", \"dr\", \"dr\", \"dr\", \"dr\", \"dr\", \"dr\", \"drawings\", \"drawings\", \"drawings\", \"drawings\", \"drawings\", \"easy\", \"easy\", \"easy\", \"easy\", \"easy\", \"easy\", \"easy\", \"easy\", \"easy\", \"easy\", \"easy\", \"easy\", \"easy\", \"edward\", \"edward\", \"edward\", \"edward\", \"edward\", \"edward\", \"edward\", \"edward\", \"edward\", \"edward\", \"effusions\", \"elderly\", \"elderly\", \"elderly\", \"elderly\", \"elderly\", \"elderly\", \"elderly\", \"elinor\", \"elinor\", \"elinor\", \"elinor\", \"elinor\", \"elinor\", \"eliza\", \"eliza\", \"eliza\", \"eliza\", \"eliza\", \"eliza\", \"elizabeth\", \"elizabeth\", \"elizabeth\", \"elizabeth\", \"elizabeth\", \"elizabeth\", \"elizabeth\", \"elizabeth\", \"elizabeth\", \"elle\", \"elle\", \"elle\", \"elle\", \"elle\", \"elle\", \"elton\", \"elton\", \"elton\", \"elton\", \"elton\", \"elton\", \"elton\", \"eltons\", \"eltons\", \"emanuel\", \"emanuel\", \"emanuel\", \"emanuel\", \"emanuel\", \"embers\", \"embers\", \"emma\", \"emma\", \"emma\", \"emma\", \"emma\", \"emma\", \"emma\", \"emma\", \"emma\", \"employments\", \"employments\", \"encore\", \"encore\", \"encore\", \"encore\", \"enfin\", \"enfin\", \"engagement\", \"engagement\", \"engagement\", \"engagement\", \"engagement\", \"england\", \"england\", \"england\", \"england\", \"england\", \"england\", \"england\", \"england\", \"england\", \"england\", \"england\", \"england\", \"england\", \"english\", \"english\", \"english\", \"english\", \"english\", \"english\", \"english\", \"english\", \"english\", \"english\", \"english\", \"enlarge\", \"enlarge\", \"enlarge\", \"enlarge\", \"enlarged\", \"enlarged\", \"enlarged\", \"enlarged\", \"enormous\", \"enormous\", \"enormous\", \"enormous\", \"enounced\", \"enounced\", \"enounced\", \"enounced\", \"enquire\", \"enquiry\", \"enscombe\", \"enscombe\", \"enscombe\", \"entreaty\", \"entreaty\", \"enumerating\", \"enveloped\", \"equivalent\", \"equivalent\", \"equivalent\", \"equivalent\", \"er\", \"eshton\", \"est\", \"est\", \"est\", \"est\", \"est\", \"est\", \"est\", \"establishment\", \"establishment\", \"establishment\", \"establishment\", \"establishment\", \"establishment\", \"establishment\", \"establishment\", \"establishment\", \"establishment\", \"establishment\", \"estate\", \"estate\", \"estate\", \"estate\", \"estate\", \"estate\", \"estate\", \"estate\", \"estate\", \"estrade\", \"estrade\", \"et\", \"et\", \"et\", \"et\", \"et\", \"etes\", \"etes\", \"etre\", \"etre\", \"etre\", \"evans\", \"evans\", \"evans\", \"evening\", \"evening\", \"evening\", \"evening\", \"evening\", \"evening\", \"evening\", \"evening\", \"evening\", \"evening\", \"evening\", \"evening\", \"evening\", \"evening\", \"everybody\", \"everybody\", \"everybody\", \"everybody\", \"everybody\", \"everybody\", \"everybody\", \"exchanging\", \"exchanging\", \"exchanging\", \"exchanging\", \"existence\", \"existence\", \"existence\", \"existence\", \"existence\", \"existence\", \"existence\", \"existence\", \"existence\", \"existence\", \"expanse\", \"expanse\", \"expanse\", \"expect\", \"expect\", \"expect\", \"expect\", \"expect\", \"expect\", \"expect\", \"expect\", \"expenses\", \"expenses\", \"expenses\", \"expenses\", \"expenses\", \"experiment\", \"experiment\", \"experiment\", \"explore\", \"explore\", \"explore\", \"explore\", \"exploring\", \"exploring\", \"exploring\", \"external\", \"external\", \"external\", \"external\", \"external\", \"externes\", \"extorted\", \"extorted\", \"extorted\", \"eye\", \"eye\", \"eye\", \"eye\", \"eye\", \"eye\", \"eye\", \"eye\", \"eye\", \"eye\", \"eye\", \"eye\", \"eye\", \"eye\", \"eyelid\", \"eyelid\", \"eyelid\", \"eyes\", \"eyes\", \"eyes\", \"eyes\", \"eyes\", \"eyes\", \"eyes\", \"eyes\", \"eyes\", \"eyes\", \"eyes\", \"eyes\", \"eyes\", \"eyre\", \"eyre\", \"eyre\", \"eyre\", \"face\", \"face\", \"face\", \"face\", \"face\", \"face\", \"face\", \"face\", \"face\", \"face\", \"face\", \"face\", \"face\", \"face\", \"face\", \"fairfax\", \"fairfax\", \"fairfax\", \"fairfax\", \"fairfax\", \"fairfax\", \"fairfax\", \"fairfax\", \"fairfax\", \"fairfax\", \"fairfax\", \"family\", \"family\", \"family\", \"family\", \"family\", \"family\", \"family\", \"family\", \"family\", \"family\", \"family\", \"family\", \"family\", \"fanshawe\", \"fanshawe\", \"fanshawe\", \"fanshawe\", \"far\", \"far\", \"far\", \"far\", \"far\", \"far\", \"far\", \"far\", \"far\", \"far\", \"far\", \"far\", \"far\", \"far\", \"far\", \"farewell\", \"farewell\", \"farewell\", \"farewell\", \"farewell\", \"farewell\", \"father\", \"father\", \"father\", \"father\", \"father\", \"father\", \"father\", \"father\", \"father\", \"father\", \"father\", \"father\", \"father\", \"father\", \"fathers\", \"fathers\", \"fathers\", \"fathers\", \"features\", \"features\", \"features\", \"features\", \"features\", \"features\", \"features\", \"features\", \"features\", \"features\", \"features\", \"features\", \"fee\", \"fee\", \"fee\", \"feel\", \"feel\", \"feel\", \"feel\", \"feel\", \"feel\", \"feel\", \"feel\", \"feel\", \"feel\", \"feel\", \"feel\", \"feel\", \"feel\", \"feel\", \"feelings\", \"feelings\", \"feelings\", \"feelings\", \"feelings\", \"feelings\", \"feelings\", \"feelings\", \"feelings\", \"feelings\", \"feelings\", \"feelings\", \"feelings\", \"felicitations\", \"felicitations\", \"felicitations\", \"felt\", \"felt\", \"felt\", \"felt\", \"felt\", \"felt\", \"felt\", \"felt\", \"felt\", \"felt\", \"felt\", \"felt\", \"felt\", \"felt\", \"ferrars\", \"ferrars\", \"ferrars\", \"fetters\", \"fetters\", \"fiacre\", \"fiacre\", \"fifine\", \"fifine\", \"fifth\", \"fifth\", \"fifth\", \"fifth\", \"firmness\", \"firmness\", \"firmness\", \"firmness\", \"firmness\", \"firmness\", \"fitzwilliam\", \"fitzwilliam\", \"flamand\", \"flamand\", \"flown\", \"flown\", \"flown\", \"ford\", \"ford\", \"forster\", \"forster\", \"forster\", \"fortnight\", \"fortnight\", \"fortnight\", \"fortnight\", \"fortnight\", \"fortnight\", \"fortnight\", \"fortnight\", \"fortnight\", \"fortnight\", \"fortune\", \"fortune\", \"fortune\", \"fortune\", \"fortune\", \"fortune\", \"fortune\", \"fortune\", \"fortune\", \"fortune\", \"fortune\", \"fortune\", \"fortune\", \"fortune\", \"fortune\", \"forwarded\", \"forwarded\", \"forwarded\", \"fossette\", \"fossette\", \"fossette\", \"franc\", \"franc\", \"franc\", \"frances\", \"frances\", \"frances\", \"frances\", \"frances\", \"frances\", \"frances\", \"francs\", \"francs\", \"francs\", \"francs\", \"francs\", \"frank\", \"frank\", \"frank\", \"frank\", \"frank\", \"frank\", \"frank\", \"frank\", \"frank\", \"french\", \"french\", \"french\", \"french\", \"french\", \"french\", \"french\", \"french\", \"friend\", \"friend\", \"friend\", \"friend\", \"friend\", \"friend\", \"friend\", \"friend\", \"friend\", \"friend\", \"friend\", \"friend\", \"frock\", \"frock\", \"fulfil\", \"fulfil\", \"fulfil\", \"fulfil\", \"fulfil\", \"funeral\", \"funeral\", \"funeral\", \"funeral\", \"gall\", \"gall\", \"gall\", \"garcon\", \"garden\", \"garden\", \"garden\", \"garden\", \"garden\", \"garden\", \"garden\", \"garden\", \"garden\", \"garden\", \"garden\", \"gardiner\", \"gardiner\", \"gardiner\", \"gateshead\", \"gateshead\", \"gateshead\", \"generations\", \"generations\", \"generations\", \"generations\", \"generations\", \"georgiana\", \"georgiana\", \"georgiana\", \"georgiana\", \"georgiana\", \"georgiana\", \"georgiana\", \"getting\", \"getting\", \"getting\", \"getting\", \"getting\", \"getting\", \"getting\", \"getting\", \"getting\", \"getting\", \"getting\", \"ginevra\", \"ginevra\", \"ginevra\", \"ginevra\", \"given\", \"given\", \"given\", \"given\", \"given\", \"given\", \"given\", \"given\", \"given\", \"given\", \"given\", \"given\", \"given\", \"glide\", \"glide\", \"glide\", \"god\", \"god\", \"god\", \"god\", \"god\", \"god\", \"god\", \"god\", \"god\", \"god\", \"god\", \"goddard\", \"goddard\", \"goddard\", \"goddard\", \"good\", \"good\", \"good\", \"good\", \"good\", \"good\", \"good\", \"good\", \"good\", \"good\", \"good\", \"good\", \"good\", \"good\", \"good\", \"gracechurch\", \"gracechurch\", \"gracechurch\", \"graces\", \"graces\", \"graces\", \"graces\", \"graces\", \"graces\", \"graces\", \"graham\", \"graham\", \"graham\", \"graham\", \"graham\", \"graham\", \"graham\", \"graham\", \"grandmama\", \"grandmama\", \"grate\", \"grate\", \"grate\", \"grate\", \"great\", \"great\", \"great\", \"great\", \"great\", \"great\", \"great\", \"great\", \"great\", \"great\", \"great\", \"great\", \"great\", \"great\", \"greatness\", \"greatness\", \"greatness\", \"greatness\", \"greatness\", \"greatness\", \"grenier\", \"grimaces\", \"grimaces\", \"grimaces\", \"grove\", \"grove\", \"grove\", \"grove\", \"grove\", \"grove\", \"growth\", \"growth\", \"growth\", \"growth\", \"gruel\", \"gruel\", \"hail\", \"hair\", \"hair\", \"hair\", \"hair\", \"hair\", \"hair\", \"hair\", \"hair\", \"hair\", \"hair\", \"hair\", \"half\", \"half\", \"half\", \"half\", \"half\", \"half\", \"half\", \"half\", \"half\", \"half\", \"half\", \"half\", \"half\", \"half\", \"hall\", \"hall\", \"hall\", \"hall\", \"hall\", \"hall\", \"hall\", \"hall\", \"hall\", \"hall\", \"hall\", \"hand\", \"hand\", \"hand\", \"hand\", \"hand\", \"hand\", \"hand\", \"hand\", \"hand\", \"hand\", \"hand\", \"hand\", \"hand\", \"hand\", \"hands\", \"hands\", \"hands\", \"hands\", \"hands\", \"hands\", \"hands\", \"hands\", \"hands\", \"hands\", \"hands\", \"hands\", \"hands\", \"hands\", \"handsomer\", \"handsomer\", \"handwriting\", \"handwriting\", \"handwriting\", \"hannah\", \"hannah\", \"hannah\", \"hannah\", \"harangue\", \"harangue\", \"hardships\", \"hardships\", \"hardships\", \"harp\", \"harp\", \"harp\", \"harp\", \"harriet\", \"harriet\", \"harriet\", \"harriet\", \"harriet\", \"harriet\", \"harriet\", \"harriet\", \"hartfield\", \"hartfield\", \"hartfield\", \"hartfield\", \"hartfield\", \"having\", \"having\", \"having\", \"having\", \"having\", \"having\", \"having\", \"having\", \"having\", \"having\", \"having\", \"having\", \"having\", \"having\", \"hawkins\", \"head\", \"head\", \"head\", \"head\", \"head\", \"head\", \"head\", \"head\", \"head\", \"head\", \"head\", \"head\", \"head\", \"head\", \"head\", \"headache\", \"headache\", \"headache\", \"headache\", \"headache\", \"healthful\", \"heard\", \"heard\", \"heard\", \"heard\", \"heard\", \"heard\", \"heard\", \"heard\", \"heard\", \"heard\", \"heard\", \"heard\", \"heard\", \"heard\", \"heard\", \"heart\", \"heart\", \"heart\", \"heart\", \"heart\", \"heart\", \"heart\", \"heart\", \"heart\", \"heart\", \"heart\", \"heart\", \"heart\", \"heart\", \"heart\", \"helen\", \"helen\", \"helen\", \"helen\", \"henri\", \"henri\", \"henri\", \"henri\", \"henri\", \"henry\", \"henry\", \"henry\", \"henry\", \"hertfordshire\", \"hertfordshire\", \"hertfordshire\", \"highbury\", \"highbury\", \"highbury\", \"highbury\", \"highbury\", \"highbury\", \"higher\", \"higher\", \"higher\", \"higher\", \"higher\", \"higher\", \"higher\", \"higher\", \"hints\", \"hints\", \"hints\", \"hints\", \"hints\", \"hints\", \"hints\", \"hole\", \"home\", \"home\", \"home\", \"home\", \"home\", \"home\", \"home\", \"home\", \"home\", \"home\", \"home\", \"home\", \"honeymoon\", \"honeymoon\", \"house\", \"house\", \"house\", \"house\", \"house\", \"house\", \"house\", \"house\", \"house\", \"house\", \"house\", \"house\", \"house\", \"house\", \"housekeeping\", \"housekeeping\", \"housekeeping\", \"housekeeping\", \"hunsden\", \"hunsden\", \"hunsden\", \"hunsden\", \"hunsden\", \"hunsden\", \"hunsden\", \"hunsden\", \"hurst\", \"hurst\", \"il\", \"il\", \"il\", \"il\", \"il\", \"imbecile\", \"imbecile\", \"including\", \"including\", \"including\", \"including\", \"including\", \"including\", \"including\", \"income\", \"income\", \"income\", \"income\", \"income\", \"income\", \"income\", \"income\", \"income\", \"income\", \"india\", \"india\", \"india\", \"india\", \"indian\", \"indian\", \"indian\", \"indian\", \"infirm\", \"infirm\", \"inflicting\", \"inflicting\", \"inflicting\", \"inflicting\", \"ingram\", \"ingram\", \"ingram\", \"inquiry\", \"inquiry\", \"inquiry\", \"inquiry\", \"inquiry\", \"inquiry\", \"inquiry\", \"inquiry\", \"inquiry\", \"insane\", \"insane\", \"insane\", \"insight\", \"insight\", \"insight\", \"intelligent\", \"intelligent\", \"intelligent\", \"intelligent\", \"intelligent\", \"intelligent\", \"intelligent\", \"interior\", \"interior\", \"interior\", \"interior\", \"interrupting\", \"interrupting\", \"interrupting\", \"intimately\", \"intimately\", \"involuntarily\", \"involuntarily\", \"involuntarily\", \"involuntarily\", \"involuntarily\", \"involuntarily\", \"irritating\", \"irritating\", \"irritating\", \"isabella\", \"isabella\", \"isidore\", \"isidore\", \"isidore\", \"jane\", \"jane\", \"jane\", \"jane\", \"jane\", \"jane\", \"jane\", \"jane\", \"jane\", \"jane\", \"janet\", \"janet\", \"janet\", \"jar\", \"je\", \"je\", \"je\", \"je\", \"je\", \"jenkinson\", \"jennings\", \"jennings\", \"jennings\", \"john\", \"john\", \"john\", \"john\", \"john\", \"john\", \"john\", \"john\", \"john\", \"john\", \"john\", \"john\", \"joys\", \"joys\", \"judgement\", \"judgement\", \"jump\", \"jump\", \"jump\", \"justine\", \"justine\", \"justine\", \"kent\", \"kept\", \"kept\", \"kept\", \"kept\", \"kept\", \"kept\", \"kept\", \"kept\", \"kept\", \"kept\", \"kind\", \"kind\", \"kind\", \"kind\", \"kind\", \"kind\", \"kind\", \"kind\", \"kind\", \"kind\", \"kind\", \"kind\", \"kind\", \"kind\", \"kings\", \"kings\", \"kings\", \"kiss\", \"kiss\", \"kiss\", \"kiss\", \"kiss\", \"kiss\", \"kiss\", \"kiss\", \"kisses\", \"kisses\", \"kisses\", \"kisses\", \"knew\", \"knew\", \"knew\", \"knew\", \"knew\", \"knew\", \"knew\", \"knew\", \"knew\", \"knew\", \"knew\", \"knew\", \"knew\", \"knightley\", \"knightley\", \"knightley\", \"knightley\", \"knightley\", \"knightley\", \"knightley\", \"knightleys\", \"knightleys\", \"know\", \"know\", \"know\", \"know\", \"know\", \"know\", \"know\", \"know\", \"know\", \"know\", \"know\", \"know\", \"know\", \"know\", \"know\", \"la\", \"la\", \"la\", \"la\", \"la\", \"la\", \"la\", \"la\", \"lace\", \"lace\", \"lace\", \"lace\", \"lace\", \"lace\", \"lace\", \"lace\", \"lace\", \"lady\", \"lady\", \"lady\", \"lady\", \"lady\", \"lady\", \"lady\", \"lady\", \"lady\", \"lady\", \"lady\", \"lady\", \"lady\", \"lady\", \"lady\", \"larkins\", \"laugh\", \"laugh\", \"laugh\", \"laugh\", \"laugh\", \"laugh\", \"laugh\", \"laugh\", \"laugh\", \"laugh\", \"laugh\", \"laugh\", \"le\", \"le\", \"le\", \"le\", \"le\", \"le\", \"leah\", \"leah\", \"leah\", \"leah\", \"leaved\", \"leaved\", \"leaved\", \"left\", \"left\", \"left\", \"left\", \"left\", \"left\", \"left\", \"left\", \"left\", \"left\", \"left\", \"left\", \"left\", \"leg\", \"leg\", \"leg\", \"legitimate\", \"legitimate\", \"legitimate\", \"lengths\", \"lengths\", \"lengths\", \"lengths\", \"lengths\", \"les\", \"les\", \"les\", \"les\", \"lesson\", \"lesson\", \"lesson\", \"lesson\", \"lesson\", \"lesson\", \"lesson\", \"lesson\", \"lesson\", \"lesson\", \"let\", \"let\", \"let\", \"let\", \"let\", \"let\", \"let\", \"let\", \"let\", \"let\", \"let\", \"let\", \"letter\", \"letter\", \"letter\", \"letter\", \"letter\", \"letter\", \"letter\", \"letter\", \"letter\", \"letter\", \"letter\", \"letter\", \"letter\", \"levity\", \"levity\", \"levity\", \"levity\", \"levity\", \"lid\", \"lid\", \"lied\", \"lied\", \"lied\", \"life\", \"life\", \"life\", \"life\", \"life\", \"life\", \"life\", \"life\", \"life\", \"life\", \"life\", \"life\", \"life\", \"life\", \"light\", \"light\", \"light\", \"light\", \"light\", \"light\", \"light\", \"light\", \"light\", \"light\", \"light\", \"light\", \"lighting\", \"lighting\", \"like\", \"like\", \"like\", \"like\", \"like\", \"like\", \"like\", \"like\", \"like\", \"like\", \"like\", \"like\", \"like\", \"like\", \"likeness\", \"likeness\", \"likeness\", \"likeness\", \"likeness\", \"likeness\", \"likeness\", \"likeness\", \"likeness\", \"likeness\", \"likeness\", \"limited\", \"limited\", \"limited\", \"limited\", \"limited\", \"limited\", \"limited\", \"limited\", \"limited\", \"little\", \"little\", \"little\", \"little\", \"little\", \"little\", \"little\", \"little\", \"little\", \"little\", \"little\", \"little\", \"little\", \"little\", \"little\", \"live\", \"live\", \"live\", \"live\", \"live\", \"live\", \"live\", \"live\", \"live\", \"live\", \"live\", \"live\", \"live\", \"live\", \"lizzy\", \"lizzy\", \"lizzy\", \"lizzy\", \"lizzy\", \"ll\", \"ll\", \"ll\", \"ll\", \"ll\", \"ll\", \"ll\", \"ll\", \"ll\", \"ll\", \"lloyd\", \"lloyd\", \"lodge\", \"lodge\", \"lodge\", \"lodge\", \"lodge\", \"lodge\", \"long\", \"long\", \"long\", \"long\", \"long\", \"long\", \"long\", \"long\", \"long\", \"long\", \"long\", \"long\", \"long\", \"long\", \"long\", \"longbourn\", \"longbourn\", \"longbourn\", \"longstaple\", \"look\", \"look\", \"look\", \"look\", \"look\", \"look\", \"look\", \"look\", \"look\", \"look\", \"look\", \"look\", \"look\", \"look\", \"look\", \"looked\", \"looked\", \"looked\", \"looked\", \"looked\", \"looked\", \"looked\", \"looked\", \"looked\", \"looked\", \"looked\", \"looked\", \"looked\", \"looked\", \"looked\", \"love\", \"love\", \"love\", \"love\", \"love\", \"love\", \"love\", \"love\", \"love\", \"love\", \"love\", \"love\", \"love\", \"loved\", \"loved\", \"loved\", \"loved\", \"loved\", \"loved\", \"loved\", \"loved\", \"loved\", \"loved\", \"lowood\", \"lowood\", \"lowood\", \"lucas\", \"lucas\", \"lucas\", \"lucases\", \"lucases\", \"lucy\", \"lucy\", \"lucy\", \"lucy\", \"lucy\", \"lucy\", \"lucy\", \"lucy\", \"lucy\", \"lui\", \"lui\", \"lui\", \"luxuries\", \"luxuries\", \"luxuries\", \"luxuries\", \"luxuries\", \"luxury\", \"luxury\", \"luxury\", \"luxury\", \"luxury\", \"luxury\", \"luxury\", \"lydia\", \"lydia\", \"lydia\", \"lynn\", \"madame\", \"madame\", \"madame\", \"madame\", \"madame\", \"madame\", \"madame\", \"madame\", \"madame\", \"mademoiselle\", \"mademoiselle\", \"mademoiselle\", \"mademoiselle\", \"mademoiselle\", \"mademoiselle\", \"mademoiselle\", \"mademoiselle\", \"magi\", \"magi\", \"magi\", \"magna\", \"maintaining\", \"maintaining\", \"maintaining\", \"maintaining\", \"maintaining\", \"mais\", \"mais\", \"mais\", \"maker\", \"maker\", \"maker\", \"mal\", \"mal\", \"man\", \"man\", \"man\", \"man\", \"man\", \"man\", \"man\", \"man\", \"man\", \"man\", \"man\", \"man\", \"man\", \"maniac\", \"maniac\", \"maple\", \"maple\", \"maple\", \"marchmont\", \"marchmont\", \"marchmont\", \"margaret\", \"margaret\", \"margaret\", \"marianne\", \"marianne\", \"marianne\", \"marianne\", \"marianne\", \"marie\", \"marie\", \"marie\", \"marie\", \"marriage\", \"marriage\", \"marriage\", \"marriage\", \"marriage\", \"marriage\", \"marriage\", \"marriage\", \"marriage\", \"marriage\", \"martin\", \"martin\", \"martin\", \"martin\", \"martin\", \"mary\", \"mary\", \"mary\", \"mary\", \"mary\", \"mary\", \"mary\", \"mary\", \"mary\", \"mary\", \"mason\", \"mason\", \"mason\", \"mason\", \"master\", \"master\", \"master\", \"master\", \"master\", \"master\", \"master\", \"master\", \"master\", \"master\", \"master\", \"mdlle\", \"mdlle\", \"mdlle\", \"mdlle\", \"mdlle\", \"mdlle\", \"mdlle\", \"mender\", \"mender\", \"mental\", \"mental\", \"mental\", \"mental\", \"mental\", \"mental\", \"mental\", \"mental\", \"mental\", \"meryton\", \"meryton\", \"meryton\", \"messieurs\", \"messieurs\", \"messieurs\", \"messieurs\", \"middleton\", \"middleton\", \"middleton\", \"middleton\", \"middletons\", \"middletons\", \"mien\", \"mien\", \"mien\", \"mien\", \"mien\", \"mien\", \"military\", \"military\", \"military\", \"militia\", \"militia\", \"millcote\", \"millcote\", \"millcote\", \"miller\", \"miller\", \"mind\", \"mind\", \"mind\", \"mind\", \"mind\", \"mind\", \"mind\", \"mind\", \"mind\", \"mind\", \"mind\", \"mind\", \"mind\", \"mind\", \"mischievous\", \"mischievous\", \"mischievous\", \"mischievous\", \"misery\", \"misery\", \"misery\", \"misery\", \"misery\", \"misery\", \"misery\", \"miss\", \"miss\", \"miss\", \"miss\", \"miss\", \"miss\", \"miss\", \"miss\", \"miss\", \"miss\", \"miss\", \"miss\", \"miss\", \"missionary\", \"missionary\", \"missionary\", \"missis\", \"moi\", \"moi\", \"moi\", \"moment\", \"moment\", \"moment\", \"moment\", \"moment\", \"moment\", \"moment\", \"moment\", \"moment\", \"moment\", \"moment\", \"moment\", \"moment\", \"mon\", \"mon\", \"mon\", \"mon\", \"mon\", \"monday\", \"monday\", \"monsieur\", \"monsieur\", \"monsieur\", \"monsieur\", \"monsieur\", \"monsieur\", \"monsieur\", \"monsieur\", \"monsieur\", \"moors\", \"morals\", \"morals\", \"mother\", \"mother\", \"mother\", \"mother\", \"mother\", \"mother\", \"mother\", \"mother\", \"mother\", \"mother\", \"mother\", \"mother\", \"mother\", \"mother\", \"mound\", \"mound\", \"mud\", \"mud\", \"mud\", \"musical\", \"musical\", \"musical\", \"musical\", \"musical\", \"musical\", \"musical\", \"mystic\", \"mystic\", \"mystic\", \"nailed\", \"nailed\", \"nailed\", \"naked\", \"nash\", \"nash\", \"nash\", \"nation\", \"nation\", \"nation\", \"nation\", \"nations\", \"nations\", \"nations\", \"nations\", \"natural\", \"natural\", \"natural\", \"natural\", \"natural\", \"natural\", \"natural\", \"natural\", \"natural\", \"natural\", \"natural\", \"natural\", \"natural\", \"ne\", \"ne\", \"ne\", \"ne\", \"near\", \"near\", \"near\", \"near\", \"near\", \"near\", \"near\", \"near\", \"near\", \"near\", \"near\", \"near\", \"nest\", \"netherfield\", \"netherfield\", \"netherfield\", \"new\", \"new\", \"new\", \"new\", \"new\", \"new\", \"new\", \"new\", \"new\", \"new\", \"new\", \"new\", \"new\", \"new\", \"night\", \"night\", \"night\", \"night\", \"night\", \"night\", \"night\", \"night\", \"night\", \"night\", \"night\", \"night\", \"night\", \"ninety\", \"ninety\", \"ninety\", \"nobleman\", \"nobleman\", \"nobleman\", \"non\", \"non\", \"non\", \"nonsensical\", \"norland\", \"norland\", \"norland\", \"norland\", \"notre\", \"notre\", \"numero\", \"numero\", \"nun\", \"nun\", \"nun\", \"nun\", \"obeying\", \"obeying\", \"officers\", \"officers\", \"officers\", \"oh\", \"oh\", \"oh\", \"oh\", \"oh\", \"oh\", \"oh\", \"oh\", \"oh\", \"oh\", \"oh\", \"oh\", \"oh\", \"old\", \"old\", \"old\", \"old\", \"old\", \"old\", \"old\", \"old\", \"old\", \"old\", \"old\", \"old\", \"old\", \"old\", \"oratory\", \"oratory\", \"ou\", \"ou\", \"ou\", \"ou\", \"palmer\", \"palmer\", \"palmers\", \"panel\", \"panel\", \"panel\", \"papa\", \"papa\", \"papa\", \"papa\", \"papa\", \"papa\", \"papa\", \"papa\", \"papa\", \"papa\", \"papa\", \"paragraph\", \"paragraph\", \"paragraph\", \"paragraph\", \"paragraph\", \"paramount\", \"paramount\", \"paramount\", \"paramount\", \"parisian\", \"parisian\", \"parisian\", \"park\", \"park\", \"park\", \"park\", \"park\", \"park\", \"park\", \"park\", \"park\", \"park\", \"park\", \"park\", \"parties\", \"parties\", \"parties\", \"parties\", \"parties\", \"parties\", \"parties\", \"parties\", \"parties\", \"pas\", \"pas\", \"pas\", \"pas\", \"pas\", \"pas\", \"patrician\", \"patrician\", \"patrician\", \"patty\", \"paul\", \"paul\", \"paul\", \"paul\", \"paul\", \"paul\", \"paul\", \"paulina\", \"paulina\", \"paulina\", \"paulina\", \"paulina\", \"peak\", \"peak\", \"peak\", \"peak\", \"pelet\", \"pelet\", \"pelet\", \"pelet\", \"pelet\", \"pelet\", \"pelet\", \"pemberley\", \"pemberley\", \"pemberley\", \"pencil\", \"pencil\", \"pencil\", \"pencil\", \"pencil\", \"pencil\", \"pencil\", \"pensionnat\", \"pensionnat\", \"pensionnat\", \"pensionnat\", \"pensionnat\", \"pensionnat\", \"people\", \"people\", \"people\", \"people\", \"people\", \"people\", \"people\", \"people\", \"people\", \"people\", \"people\", \"people\", \"people\", \"people\", \"performances\", \"performances\", \"performances\", \"performances\", \"perry\", \"perry\", \"perry\", \"perry\", \"petit\", \"petit\", \"petit\", \"petit\", \"peut\", \"peut\", \"peut\", \"philanthropist\", \"philanthropist\", \"philanthropist\", \"philanthropist\", \"philanthropy\", \"philanthropy\", \"phillips\", \"phillips\", \"pictures\", \"pictures\", \"pictures\", \"pictures\", \"pictures\", \"pictures\", \"pictures\", \"pictures\", \"pictures\", \"pictures\", \"pictures\", \"pieces\", \"pieces\", \"pieces\", \"pieces\", \"pieces\", \"pieces\", \"pieces\", \"pierre\", \"pierre\", \"pile\", \"pilot\", \"pilot\", \"pilot\", \"place\", \"place\", \"place\", \"place\", \"place\", \"place\", \"place\", \"place\", \"place\", \"place\", \"place\", \"place\", \"place\", \"platform\", \"pleasure\", \"pleasure\", \"pleasure\", \"pleasure\", \"pleasure\", \"pleasure\", \"pleasure\", \"pleasure\", \"pleasure\", \"pleasure\", \"pleasure\", \"pleasure\", \"pleasure\", \"plebeian\", \"plebeian\", \"plebeian\", \"poet\", \"poet\", \"poet\", \"pomp\", \"pomp\", \"pomp\", \"pomp\", \"poole\", \"poole\", \"poor\", \"poor\", \"poor\", \"poor\", \"poor\", \"poor\", \"poor\", \"poor\", \"poor\", \"poor\", \"poor\", \"poor\", \"poor\", \"portfolio\", \"portfolio\", \"portfolio\", \"portfolio\", \"portfolio\", \"pounds\", \"pounds\", \"pounds\", \"pounds\", \"pounds\", \"pounds\", \"pounds\", \"pounds\", \"pounds\", \"pounds\", \"power\", \"power\", \"power\", \"power\", \"power\", \"power\", \"power\", \"power\", \"power\", \"power\", \"power\", \"power\", \"power\", \"power\", \"preparations\", \"preparations\", \"preparations\", \"preparations\", \"preparations\", \"pretty\", \"pretty\", \"pretty\", \"pretty\", \"pretty\", \"pretty\", \"pretty\", \"pretty\", \"pretty\", \"pretty\", \"pretty\", \"pretty\", \"pretty\", \"priest\", \"priest\", \"priest\", \"priest\", \"problem\", \"professional\", \"professional\", \"promptitude\", \"promptitude\", \"promptitude\", \"promptitude\", \"property\", \"property\", \"property\", \"property\", \"property\", \"property\", \"property\", \"property\", \"propre\", \"propre\", \"propre\", \"prose\", \"prose\", \"prose\", \"prose\", \"prosperity\", \"prosperity\", \"prosperity\", \"prosperity\", \"prosperity\", \"prosperity\", \"protestants\", \"protestants\", \"publicity\", \"publicity\", \"publicity\", \"publicity\", \"punctuality\", \"punctuality\", \"punctuality\", \"punctuality\", \"punctuality\", \"pupil\", \"pupil\", \"pupil\", \"pupil\", \"pupil\", \"pupil\", \"pupil\", \"pupil\", \"pupil\", \"pupils\", \"pupils\", \"pupils\", \"pupils\", \"pupils\", \"pupils\", \"pupils\", \"pushing\", \"pushing\", \"pushing\", \"pushing\", \"qu\", \"qu\", \"qu\", \"qu\", \"quarrelled\", \"quarrelled\", \"quarrelled\", \"quarrelled\", \"que\", \"que\", \"que\", \"que\", \"que\", \"quel\", \"quel\", \"rainbow\", \"rainbow\", \"rainbow\", \"randalls\", \"randalls\", \"randalls\", \"rats\", \"rats\", \"rats\", \"rays\", \"rays\", \"read\", \"read\", \"read\", \"read\", \"read\", \"read\", \"read\", \"read\", \"read\", \"read\", \"read\", \"read\", \"read\", \"read\", \"recital\", \"reckon\", \"reckon\", \"reckon\", \"reckon\", \"recurrence\", \"recurrence\", \"recurrence\", \"recurrence\", \"recurrence\", \"reed\", \"reed\", \"reed\", \"reed\", \"regiment\", \"regiment\", \"regiment\", \"regiment\", \"regularity\", \"regularity\", \"regularity\", \"relatives\", \"relatives\", \"relatives\", \"relatives\", \"reluctantly\", \"reluctantly\", \"reluctantly\", \"reluctantly\", \"reminiscences\", \"reminiscences\", \"reminiscences\", \"remnant\", \"replied\", \"replied\", \"replied\", \"replied\", \"replied\", \"replied\", \"replied\", \"replied\", \"replied\", \"replied\", \"replied\", \"replied\", \"reported\", \"reported\", \"reported\", \"reported\", \"repugnance\", \"repugnance\", \"repugnance\", \"repugnance\", \"resided\", \"resided\", \"resided\", \"resided\", \"resources\", \"resources\", \"resources\", \"resources\", \"resources\", \"resources\", \"resources\", \"rests\", \"rests\", \"reuter\", \"reuter\", \"reuter\", \"reuter\", \"reuter\", \"richard\", \"richard\", \"richard\", \"richard\", \"richer\", \"richer\", \"richer\", \"richer\", \"richmond\", \"riddle\", \"riddle\", \"riddle\", \"riddle\", \"rivers\", \"rivers\", \"rivers\", \"rivers\", \"rivers\", \"rivers\", \"robert\", \"robert\", \"robert\", \"robert\", \"robert\", \"rochester\", \"rochester\", \"rochester\", \"rochester\", \"rochester\", \"rochester\", \"rochester\", \"rochester\", \"rome\", \"rome\", \"rome\", \"rome\", \"rome\", \"rome\", \"rome\", \"room\", \"room\", \"room\", \"room\", \"room\", \"room\", \"room\", \"room\", \"room\", \"room\", \"room\", \"room\", \"room\", \"room\", \"rosamond\", \"rosamond\", \"rosine\", \"rosine\", \"rough\", \"rough\", \"rough\", \"rough\", \"rough\", \"rough\", \"rough\", \"round\", \"round\", \"round\", \"round\", \"round\", \"round\", \"round\", \"round\", \"round\", \"round\", \"round\", \"round\", \"round\", \"round\", \"rubber\", \"rubber\", \"rubber\", \"rue\", \"rue\", \"rue\", \"rue\", \"rue\", \"rue\", \"rumour\", \"rumour\", \"rumour\", \"rumour\", \"rumour\", \"rumour\", \"rumour\", \"sacrifices\", \"sacrifices\", \"sacrifices\", \"salary\", \"salary\", \"salary\", \"salary\", \"salary\", \"salary\", \"salary\", \"salary\", \"salary\", \"sarah\", \"sarah\", \"sarah\", \"sarcastic\", \"sarcastic\", \"sarcastic\", \"sarcastic\", \"saturday\", \"saturday\", \"saturday\", \"saturday\", \"saturday\", \"saw\", \"saw\", \"saw\", \"saw\", \"saw\", \"saw\", \"saw\", \"saw\", \"saw\", \"saw\", \"saw\", \"saw\", \"saw\", \"saw\", \"scarcely\", \"scarcely\", \"scarcely\", \"scarcely\", \"scarcely\", \"scarcely\", \"scarcely\", \"scarcely\", \"scarcely\", \"scarcely\", \"scarcely\", \"scatcherd\", \"scotch\", \"scotch\", \"scotch\", \"scotch\", \"scotch\", \"scotch\", \"scowled\", \"scowled\", \"scowled\", \"scrape\", \"scrape\", \"scrape\", \"scrape\", \"scrape\", \"scrupled\", \"scrupled\", \"scrupled\", \"scrupled\", \"sea\", \"sea\", \"sea\", \"sea\", \"sea\", \"sea\", \"sea\", \"sea\", \"sea\", \"sea\", \"seacombe\", \"seacombe\", \"seas\", \"seas\", \"seas\", \"secured\", \"secured\", \"secured\", \"secured\", \"secured\", \"secured\", \"secured\", \"secured\", \"secured\", \"secured\", \"self\", \"self\", \"self\", \"self\", \"self\", \"self\", \"self\", \"self\", \"self\", \"self\", \"self\", \"self\", \"selina\", \"selina\", \"serenity\", \"serenity\", \"serenity\", \"serenity\", \"shall\", \"shall\", \"shall\", \"shall\", \"shall\", \"shall\", \"shall\", \"shall\", \"shall\", \"shall\", \"shall\", \"shall\", \"shall\", \"shelves\", \"shelves\", \"shelves\", \"shire\", \"shire\", \"shire\", \"shire\", \"shire\", \"shire\", \"shire\", \"shire\", \"shire\", \"shrine\", \"shrine\", \"shudder\", \"shudder\", \"shudder\", \"sickening\", \"sickening\", \"sickly\", \"sickly\", \"sickly\", \"sickly\", \"sir\", \"sir\", \"sir\", \"sir\", \"sir\", \"sir\", \"sir\", \"sir\", \"sir\", \"sir\", \"sir\", \"sir\", \"sister\", \"sister\", \"sister\", \"sister\", \"sister\", \"sister\", \"sister\", \"sister\", \"sister\", \"sister\", \"sister\", \"sister\", \"sisters\", \"sisters\", \"sisters\", \"sisters\", \"sisters\", \"sisters\", \"sisters\", \"sisters\", \"sisters\", \"sisters\", \"sisters\", \"sixpence\", \"sixpence\", \"sixpence\", \"sixpence\", \"sketch\", \"sketch\", \"sketch\", \"sketch\", \"sketch\", \"sketch\", \"sketch\", \"sketch\", \"skies\", \"sleeper\", \"sleeve\", \"slippery\", \"slippery\", \"slippery\", \"slippery\", \"slippery\", \"smallridge\", \"smith\", \"smith\", \"smith\", \"smith\", \"smith\", \"smith\", \"sneered\", \"sneered\", \"society\", \"society\", \"society\", \"society\", \"society\", \"society\", \"society\", \"society\", \"society\", \"society\", \"society\", \"society\", \"society\", \"society\", \"soir\", \"soir\", \"soir\", \"soit\", \"soit\", \"somersetshire\", \"son\", \"son\", \"son\", \"son\", \"son\", \"son\", \"son\", \"son\", \"son\", \"son\", \"son\", \"soon\", \"soon\", \"soon\", \"soon\", \"soon\", \"soon\", \"soon\", \"soon\", \"soon\", \"soon\", \"soon\", \"soon\", \"soon\", \"soon\", \"soon\", \"sort\", \"sort\", \"sort\", \"sort\", \"sort\", \"sort\", \"sort\", \"sort\", \"sort\", \"sort\", \"sort\", \"sort\", \"sparkled\", \"sparkled\", \"sparkled\", \"sparkled\", \"speak\", \"speak\", \"speak\", \"speak\", \"speak\", \"speak\", \"speak\", \"speak\", \"speak\", \"speak\", \"speak\", \"speak\", \"spectacles\", \"spectacles\", \"spectacles\", \"spectacles\", \"spectacles\", \"spectacles\", \"spectacles\", \"spectral\", \"spirits\", \"spirits\", \"spirits\", \"spirits\", \"spirits\", \"spirits\", \"spirits\", \"spirits\", \"spirits\", \"spirits\", \"spirits\", \"spirits\", \"spirits\", \"st\", \"st\", \"st\", \"st\", \"st\", \"st\", \"st\", \"st\", \"st\", \"st\", \"sternly\", \"sternly\", \"stile\", \"stood\", \"stood\", \"stood\", \"stood\", \"stood\", \"stood\", \"stood\", \"stood\", \"stood\", \"stood\", \"stood\", \"storeroom\", \"storeroom\", \"storeroom\", \"storey\", \"storms\", \"storms\", \"storms\", \"strange\", \"strange\", \"strange\", \"strange\", \"strange\", \"strange\", \"strange\", \"strange\", \"strange\", \"strange\", \"strange\", \"strange\", \"submissive\", \"submissive\", \"submissive\", \"submissive\", \"submissive\", \"submissive\", \"subside\", \"subside\", \"sun\", \"sun\", \"sun\", \"sun\", \"sun\", \"sun\", \"sun\", \"sun\", \"suns\", \"suns\", \"superiority\", \"superiority\", \"superiority\", \"superiority\", \"superiority\", \"superiority\", \"superiority\", \"sure\", \"sure\", \"sure\", \"sure\", \"sure\", \"sure\", \"sure\", \"sure\", \"sure\", \"sure\", \"sure\", \"sure\", \"sure\", \"sure\", \"surgeon\", \"surgeon\", \"surgeon\", \"surgeon\", \"surprise\", \"surprise\", \"surprise\", \"surprise\", \"surprise\", \"surprise\", \"surprise\", \"surprise\", \"surprise\", \"surprize\", \"surprize\", \"surprize\", \"surprized\", \"surry\", \"surry\", \"swelled\", \"swelled\", \"swelled\", \"swelled\", \"swelled\", \"swelled\", \"swiss\", \"swiss\", \"swiss\", \"switzerland\", \"switzerland\", \"switzerland\", \"swung\", \"swung\", \"swung\", \"talents\", \"talents\", \"talents\", \"talents\", \"talents\", \"talents\", \"talents\", \"talents\", \"talker\", \"talker\", \"talker\", \"talker\", \"talker\", \"taylor\", \"taylor\", \"taylor\", \"teacher\", \"teacher\", \"teacher\", \"teacher\", \"teacher\", \"teacher\", \"teacher\", \"teacher\", \"teacher\", \"tell\", \"tell\", \"tell\", \"tell\", \"tell\", \"tell\", \"tell\", \"tell\", \"tell\", \"tell\", \"tell\", \"tell\", \"tell\", \"tell\", \"temple\", \"temple\", \"temple\", \"temple\", \"terrasse\", \"terrasse\", \"terrasse\", \"thing\", \"thing\", \"thing\", \"thing\", \"thing\", \"thing\", \"thing\", \"thing\", \"thing\", \"thing\", \"thing\", \"thing\", \"thing\", \"thing\", \"thing\", \"think\", \"think\", \"think\", \"think\", \"think\", \"think\", \"think\", \"think\", \"think\", \"think\", \"think\", \"think\", \"think\", \"think\", \"think\", \"thornfield\", \"thornfield\", \"thornfield\", \"thornfield\", \"thornfield\", \"thought\", \"thought\", \"thought\", \"thought\", \"thought\", \"thought\", \"thought\", \"thought\", \"thought\", \"thought\", \"thought\", \"thought\", \"thought\", \"thought\", \"thought\", \"thousand\", \"thousand\", \"thousand\", \"thousand\", \"thousand\", \"thousand\", \"thousand\", \"thousand\", \"thousand\", \"thousand\", \"thousand\", \"thousand\", \"thousand\", \"throne\", \"throne\", \"tied\", \"tied\", \"tied\", \"tied\", \"tied\", \"tied\", \"time\", \"time\", \"time\", \"time\", \"time\", \"time\", \"time\", \"time\", \"time\", \"time\", \"time\", \"time\", \"time\", \"time\", \"tints\", \"tints\", \"tints\", \"took\", \"took\", \"took\", \"took\", \"took\", \"took\", \"took\", \"took\", \"took\", \"took\", \"took\", \"took\", \"took\", \"took\", \"town\", \"town\", \"town\", \"town\", \"town\", \"town\", \"town\", \"town\", \"town\", \"town\", \"town\", \"town\", \"town\", \"town\", \"traced\", \"traced\", \"traced\", \"traced\", \"traced\", \"traced\", \"tranquilly\", \"tranquilly\", \"tranquilly\", \"tranquilly\", \"tranquilly\", \"treats\", \"treats\", \"treats\", \"triumphantly\", \"triumphantly\", \"triumphantly\", \"trod\", \"troop\", \"troop\", \"troop\", \"truths\", \"truths\", \"truths\", \"truths\", \"turned\", \"turned\", \"turned\", \"turned\", \"turned\", \"turned\", \"turned\", \"turned\", \"turned\", \"turned\", \"turned\", \"turned\", \"turned\", \"turned\", \"turned\", \"tutor\", \"tutor\", \"tutor\", \"tutor\", \"unceasing\", \"uncle\", \"uncle\", \"uncle\", \"uncle\", \"uncle\", \"uncle\", \"uncle\", \"uncle\", \"uncle\", \"uncle\", \"uncle\", \"uncle\", \"undone\", \"undone\", \"undone\", \"undone\", \"unfrequently\", \"unfrequently\", \"unfrequently\", \"unfrequently\", \"unhappiness\", \"unkind\", \"unkind\", \"unkind\", \"unkind\", \"unkind\", \"unmarried\", \"unmarried\", \"unprepared\", \"unprepared\", \"unprepared\", \"unprepared\", \"unwholesome\", \"unwholesome\", \"unwholesome\", \"unwholesome\", \"unwillingly\", \"vandenhuten\", \"vandenhuten\", \"varens\", \"vases\", \"vases\", \"vases\", \"vases\", \"ve\", \"ve\", \"ve\", \"ve\", \"ve\", \"ve\", \"ve\", \"ve\", \"veil\", \"veil\", \"veil\", \"veil\", \"veil\", \"veil\", \"vicar\", \"vicar\", \"vicar\", \"vicar\", \"victor\", \"victor\", \"victor\", \"villette\", \"villette\", \"villette\", \"villette\", \"villette\", \"violets\", \"visage\", \"visage\", \"visage\", \"visage\", \"visage\", \"voice\", \"voice\", \"voice\", \"voice\", \"voice\", \"voice\", \"voice\", \"voice\", \"voice\", \"voice\", \"voice\", \"voice\", \"voice\", \"voice\", \"volume\", \"volume\", \"volume\", \"volume\", \"volume\", \"vous\", \"vous\", \"vous\", \"vous\", \"vous\", \"walravens\", \"walravens\", \"walravens\", \"wanted\", \"wanted\", \"wanted\", \"wanted\", \"wanted\", \"wanted\", \"wanted\", \"wanted\", \"wanted\", \"wanted\", \"wanted\", \"wanted\", \"wanted\", \"wanted\", \"way\", \"way\", \"way\", \"way\", \"way\", \"way\", \"way\", \"way\", \"way\", \"way\", \"way\", \"way\", \"way\", \"way\", \"way\", \"went\", \"went\", \"went\", \"went\", \"went\", \"went\", \"went\", \"went\", \"went\", \"went\", \"went\", \"went\", \"went\", \"went\", \"weston\", \"weston\", \"weston\", \"weston\", \"weston\", \"weston\", \"weston\", \"weston\", \"wheel\", \"white\", \"white\", \"white\", \"white\", \"white\", \"white\", \"white\", \"white\", \"white\", \"white\", \"wickham\", \"wickham\", \"wider\", \"wider\", \"wider\", \"willoughby\", \"willoughby\", \"windows\", \"windows\", \"windows\", \"windows\", \"windows\", \"windows\", \"windows\", \"windows\", \"windows\", \"windsor\", \"winning\", \"winning\", \"wives\", \"wives\", \"wives\", \"wives\", \"wives\", \"wives\", \"woman\", \"woman\", \"woman\", \"woman\", \"woman\", \"woman\", \"woman\", \"woman\", \"woman\", \"woman\", \"woman\", \"woman\", \"woman\", \"wont\", \"wont\", \"wont\", \"woodhouse\", \"woodhouse\", \"woodhouse\", \"woodhouse\", \"woodhouse\", \"woodhouse\", \"word\", \"word\", \"word\", \"word\", \"word\", \"word\", \"word\", \"word\", \"word\", \"word\", \"word\", \"word\", \"word\", \"word\", \"word\", \"world\", \"world\", \"world\", \"world\", \"world\", \"world\", \"world\", \"world\", \"world\", \"world\", \"world\", \"world\", \"world\", \"world\", \"xvii\", \"xvii\", \"xvii\", \"xvii\", \"xvii\", \"year\", \"year\", \"year\", \"year\", \"year\", \"year\", \"year\", \"year\", \"year\", \"year\", \"year\", \"year\", \"year\", \"years\", \"years\", \"years\", \"years\", \"years\", \"years\", \"years\", \"years\", \"years\", \"years\", \"years\", \"years\", \"years\", \"years\", \"yes\", \"yes\", \"yes\", \"yes\", \"yes\", \"yes\", \"yes\", \"yes\", \"yes\", \"yes\", \"yes\", \"yes\", \"yes\", \"yes\", \"yorke\", \"yorke\", \"young\", \"young\", \"young\", \"young\", \"young\", \"young\", \"young\", \"young\", \"young\", \"young\", \"young\", \"young\", \"young\", \"young\", \"young\", \"zoraide\", \"zoraide\", \"zoraide\", \"zoraide\", \"zoraide\"]}, \"R\": 30, \"lambda.step\": 0.01, \"plot.opts\": {\"xlab\": \"PC1\", \"ylab\": \"PC2\"}, \"topic.order\": [11, 5, 12, 14, 6, 7, 3, 2, 8, 13, 9, 10, 4, 1, 15]};\n",
       "\n",
       "function LDAvis_load_lib(url, callback){\n",
       "  var s = document.createElement('script');\n",
       "  s.src = url;\n",
       "  s.async = true;\n",
       "  s.onreadystatechange = s.onload = callback;\n",
       "  s.onerror = function(){console.warn(\"failed to load library \" + url);};\n",
       "  document.getElementsByTagName(\"head\")[0].appendChild(s);\n",
       "}\n",
       "\n",
       "if(typeof(LDAvis) !== \"undefined\"){\n",
       "   // already loaded: just create the visualization\n",
       "   !function(LDAvis){\n",
       "       new LDAvis(\"#\" + \"ldavis_el24251406905405593604412797033\", ldavis_el24251406905405593604412797033_data);\n",
       "   }(LDAvis);\n",
       "}else if(typeof define === \"function\" && define.amd){\n",
       "   // require.js is available: use it to load d3/LDAvis\n",
       "   require.config({paths: {d3: \"https://cdnjs.cloudflare.com/ajax/libs/d3/3.5.5/d3.min\"}});\n",
       "   require([\"d3\"], function(d3){\n",
       "      window.d3 = d3;\n",
       "      LDAvis_load_lib(\"https://cdn.rawgit.com/bmabey/pyLDAvis/files/ldavis.v1.0.0.js\", function(){\n",
       "        new LDAvis(\"#\" + \"ldavis_el24251406905405593604412797033\", ldavis_el24251406905405593604412797033_data);\n",
       "      });\n",
       "    });\n",
       "}else{\n",
       "    // require.js not available: dynamically load d3 & LDAvis\n",
       "    LDAvis_load_lib(\"https://cdnjs.cloudflare.com/ajax/libs/d3/3.5.5/d3.min.js\", function(){\n",
       "         LDAvis_load_lib(\"https://cdn.rawgit.com/bmabey/pyLDAvis/files/ldavis.v1.0.0.js\", function(){\n",
       "                 new LDAvis(\"#\" + \"ldavis_el24251406905405593604412797033\", ldavis_el24251406905405593604412797033_data);\n",
       "            })\n",
       "         });\n",
       "}\n",
       "</script>"
      ],
      "text/plain": [
       "PreparedData(topic_coordinates=              x         y  topics  cluster       Freq\n",
       "topic                                                \n",
       "10    -0.045594 -0.020555       1        1  21.411949\n",
       "4     -0.077666 -0.055242       2        1  17.607441\n",
       "11     0.141288 -0.008635       3        1  16.260614\n",
       "13     0.104042 -0.014424       4        1  16.003267\n",
       "5      0.152210 -0.012565       5        1  10.043391\n",
       "6     -0.013861 -0.051117       6        1   6.805909\n",
       "2     -0.077657 -0.072669       7        1   3.625784\n",
       "1     -0.033810 -0.047089       8        1   2.328232\n",
       "7     -0.071731 -0.053929       9        1   1.555922\n",
       "12     0.095366  0.031604      10        1   1.282463\n",
       "8      0.052507  0.003884      11        1   1.224821\n",
       "9      0.006462  0.050561      12        1   0.866362\n",
       "3     -0.099428  0.027440      13        1   0.458783\n",
       "0     -0.046036  0.148620      14        1   0.262592\n",
       "14    -0.086093  0.074117      15        1   0.262464, topic_info=     Category         Freq          Term        Total  loglift  logprob\n",
       "90    Default   836.000000          emma   836.000000  30.0000  30.0000\n",
       "177   Default  1711.000000        little  1711.000000  29.0000  29.0000\n",
       "848   Default   931.000000          jane   931.000000  28.0000  28.0000\n",
       "1131  Default  1535.000000          miss  1535.000000  27.0000  27.0000\n",
       "414   Default  1318.000000          like  1318.000000  26.0000  26.0000\n",
       "495   Default  1312.000000         think  1312.000000  25.0000  25.0000\n",
       "1641  Default   657.000000     elizabeth   657.000000  24.0000  24.0000\n",
       "1197  Default   596.000000           sir   596.000000  23.0000  23.0000\n",
       "387   Default  1349.000000          good  1349.000000  22.0000  22.0000\n",
       "271   Default   776.000000         thing   776.000000  21.0000  21.0000\n",
       "169   Default  1437.000000          know  1437.000000  20.0000  20.0000\n",
       "913   Default   357.000000     rochester   357.000000  19.0000  19.0000\n",
       "195   Default   672.000000        mother   672.000000  18.0000  18.0000\n",
       "272   Default  1136.000000       thought  1136.000000  17.0000  17.0000\n",
       "681   Default   920.000000         shall   920.000000  16.0000  16.0000\n",
       "134   Default   510.000000       harriet   510.000000  15.0000  15.0000\n",
       "1297  Default   361.000000       fairfax   361.000000  14.0000  14.0000\n",
       "2119  Default   424.000000         darcy   424.000000  13.0000  13.0000\n",
       "702   Default   614.000000          sure   614.000000  12.0000  12.0000\n",
       "89    Default   370.000000         elton   370.000000  11.0000  11.0000\n",
       "496   Default  1315.000000          time  1315.000000  10.0000  10.0000\n",
       "2721  Default   695.000000        elinor   695.000000   9.0000   9.0000\n",
       "2745  Default   576.000000      marianne   576.000000   8.0000   8.0000\n",
       "179   Default   934.000000          long   934.000000   7.0000   7.0000\n",
       "509   Default   427.000000        weston   427.000000   6.0000   6.0000\n",
       "351   Default  1058.000000           day  1058.000000   5.0000   5.0000\n",
       "562   Default   587.000000          dear   587.000000   4.0000   4.0000\n",
       "434   Default   622.000000         night   622.000000   3.0000   3.0000\n",
       "2485  Default   272.000000      monsieur   272.000000   2.0000   2.0000\n",
       "148   Default   753.000000         house   753.000000   1.0000   1.0000\n",
       "...       ...          ...           ...          ...      ...      ...\n",
       "2198  Topic15     1.190997      capacity    21.045567   3.0709  -6.5377\n",
       "1831  Topic15     2.633591  mademoiselle   114.244537   2.1728  -5.7442\n",
       "1653  Topic15     1.194079      firmness    22.450714   3.0089  -6.5352\n",
       "1906  Topic15     1.775551        accent    53.255627   2.5418  -6.1384\n",
       "5422  Topic15     1.162460         hints    21.797037   3.0116  -6.5620\n",
       "6008  Topic15     1.547669      pictures    41.826523   2.6460  -6.2758\n",
       "1251  Topic15     2.444013          book   166.297699   1.7227  -5.8189\n",
       "1640  Topic15     1.620731         eliza    60.185520   2.3283  -6.2297\n",
       "2087  Topic15     1.125723        volume    23.958691   2.8849  -6.5941\n",
       "1138  Topic15     2.362272       natural   183.846130   1.5883  -5.8529\n",
       "318   Topic15     2.808140         asked   396.865570   0.9917  -5.6800\n",
       "70    Topic15     2.661508        course   340.516052   1.0912  -5.7336\n",
       "2788  Topic15     2.320188        wanted   233.277435   1.3322  -5.8709\n",
       "1061  Topic15     2.050826       english   223.400085   1.2521  -5.9943\n",
       "513   Topic15     2.330166          word   393.000793   0.8149  -5.8666\n",
       "678   Topic15     1.945652      scarcely   200.409058   1.3080  -6.0469\n",
       "387   Topic15     2.824734          good  1349.909790  -0.2266  -5.6741\n",
       "177   Topic15     2.958215        little  1711.303955  -0.4176  -5.6280\n",
       "169   Topic15     2.835806          know  1437.923218  -0.2858  -5.6702\n",
       "496   Topic15     2.785797          time  1315.128784  -0.2143  -5.6880\n",
       "472   Topic15     2.465275           saw   778.388672   0.1879  -5.8102\n",
       "351   Topic15     2.355209           day  1058.313354  -0.1650  -5.8559\n",
       "570   Topic15     1.910451         doubt   315.451508   0.8361  -6.0652\n",
       "217   Topic15     1.813323         power   248.782333   1.0214  -6.1174\n",
       "506   Topic15     1.853750         voice   395.435059   0.5800  -6.0953\n",
       "272   Topic15     1.949911       thought  1136.645020  -0.4252  -6.0448\n",
       "518   Topic15     1.882029         young   664.609863   0.0760  -6.0802\n",
       "416   Topic15     1.845962          look   637.397400   0.0984  -6.0995\n",
       "374   Topic15     1.834178          face   499.783569   0.3352  -6.1059\n",
       "181   Topic15     1.812909        looked   696.602539  -0.0085  -6.1176\n",
       "\n",
       "[1125 rows x 6 columns], token_table=      Topic      Freq           Term\n",
       "term                                \n",
       "0         3  0.958441          abbey\n",
       "6075      5  0.147771          abide\n",
       "6075      6  0.738854          abide\n",
       "1906      1  0.300438         accent\n",
       "1906      2  0.225328         accent\n",
       "1906      3  0.075109         accent\n",
       "1906      4  0.112664         accent\n",
       "1906      6  0.075109         accent\n",
       "1906      7  0.075109         accent\n",
       "1906      8  0.056332         accent\n",
       "1906      9  0.037555         accent\n",
       "1906     15  0.037555         accent\n",
       "2092      1  0.066858  acquaintances\n",
       "2092      3  0.066858  acquaintances\n",
       "2092      5  0.735443  acquaintances\n",
       "2092      6  0.066858  acquaintances\n",
       "4844      2  0.855206        actress\n",
       "734       1  0.838486          adele\n",
       "734       6  0.015108          adele\n",
       "734       9  0.015108          adele\n",
       "734      12  0.098201          adele\n",
       "734      13  0.015108          adele\n",
       "734      14  0.007554          adele\n",
       "4048      3  0.187652   administered\n",
       "4048      7  0.375303   administered\n",
       "4048      9  0.375303   administered\n",
       "6431      1  0.559911       adoption\n",
       "6431     12  0.373274       adoption\n",
       "6051      1  0.556189         aerial\n",
       "6051      2  0.185396         aerial\n",
       "...     ...       ...            ...\n",
       "517       7  0.016739            yes\n",
       "517       8  0.003348            yes\n",
       "517       9  0.028456            yes\n",
       "517      10  0.013391            yes\n",
       "517      11  0.010043            yes\n",
       "517      12  0.023435            yes\n",
       "517      13  0.003348            yes\n",
       "517      15  0.001674            yes\n",
       "7303      6  0.681070          yorke\n",
       "7303      8  0.227023          yorke\n",
       "518       1  0.135418          young\n",
       "518       2  0.124885          young\n",
       "518       3  0.258798          young\n",
       "518       4  0.162501          young\n",
       "518       5  0.185071          young\n",
       "518       6  0.042130          young\n",
       "518       7  0.018056          young\n",
       "518       8  0.030093          young\n",
       "518       9  0.004514          young\n",
       "518      10  0.010532          young\n",
       "518      11  0.012037          young\n",
       "518      12  0.006019          young\n",
       "518      13  0.003009          young\n",
       "518      14  0.001505          young\n",
       "518      15  0.003009          young\n",
       "5389      2  0.525994        zoraide\n",
       "5389      6  0.037571        zoraide\n",
       "5389      8  0.338139        zoraide\n",
       "5389     12  0.037571        zoraide\n",
       "5389     13  0.037571        zoraide\n",
       "\n",
       "[4380 rows x 3 columns], R=30, lambda_step=0.01, plot_opts={'xlab': 'PC1', 'ylab': 'PC2'}, topic_order=[11, 5, 12, 14, 6, 7, 3, 2, 8, 13, 9, 10, 4, 1, 15])"
      ]
     },
     "execution_count": 47,
     "metadata": {},
     "output_type": "execute_result"
    }
   ],
   "source": [
    "pyLDAvis.gensim.prepare(lda, corpus, id2word)"
   ]
  },
  {
   "cell_type": "markdown",
   "metadata": {},
   "source": [
    "### Overall Model / Documents"
   ]
  },
  {
   "cell_type": "code",
   "execution_count": 71,
   "metadata": {},
   "outputs": [
    {
     "data": {
      "text/plain": [
       "[(10, 0.1378439), (11, 0.77550125), (13, 0.084552065)]"
      ]
     },
     "execution_count": 71,
     "metadata": {},
     "output_type": "execute_result"
    }
   ],
   "source": [
    "lda[corpus[0]]"
   ]
  },
  {
   "cell_type": "code",
   "execution_count": 72,
   "metadata": {},
   "outputs": [],
   "source": [
    "distro = [lda[d] for d in corpus]"
   ]
  },
  {
   "cell_type": "code",
   "execution_count": 73,
   "metadata": {},
   "outputs": [
    {
     "data": {
      "text/plain": [
       "[(10, 0.13785224), (11, 0.7755348), (13, 0.08451018)]"
      ]
     },
     "execution_count": 73,
     "metadata": {},
     "output_type": "execute_result"
    }
   ],
   "source": [
    "distro[0]"
   ]
  },
  {
   "cell_type": "code",
   "execution_count": 74,
   "metadata": {},
   "outputs": [],
   "source": [
    "distro = [lda[d] for d in corpus]\n",
    "\n",
    "def update(doc):\n",
    "        d_dist = {k:0 for k in range(0,15)}\n",
    "        for t in doc:\n",
    "            d_dist[t[0]] = t[1]\n",
    "        return d_dist\n",
    "    \n",
    "new_distro = [update(d) for d in distro]"
   ]
  },
  {
   "cell_type": "code",
   "execution_count": 75,
   "metadata": {},
   "outputs": [
    {
     "data": {
      "text/plain": [
       "813"
      ]
     },
     "execution_count": 75,
     "metadata": {},
     "output_type": "execute_result"
    }
   ],
   "source": [
    "len(new_distro)"
   ]
  },
  {
   "cell_type": "code",
   "execution_count": 83,
   "metadata": {},
   "outputs": [
    {
     "data": {
      "text/html": [
       "<div>\n",
       "<style scoped>\n",
       "    .dataframe tbody tr th:only-of-type {\n",
       "        vertical-align: middle;\n",
       "    }\n",
       "\n",
       "    .dataframe tbody tr th {\n",
       "        vertical-align: top;\n",
       "    }\n",
       "\n",
       "    .dataframe thead th {\n",
       "        text-align: right;\n",
       "    }\n",
       "</style>\n",
       "<table border=\"1\" class=\"dataframe\">\n",
       "  <thead>\n",
       "    <tr style=\"text-align: right;\">\n",
       "      <th></th>\n",
       "      <th>tokens</th>\n",
       "      <th>author</th>\n",
       "      <th>book</th>\n",
       "      <th>section</th>\n",
       "    </tr>\n",
       "  </thead>\n",
       "  <tbody>\n",
       "    <tr>\n",
       "      <th>Austen_Emma0026</th>\n",
       "      <td>[she, found, that, he, was, only, his, an, of,...</td>\n",
       "      <td>1</td>\n",
       "      <td>Emma</td>\n",
       "      <td>26</td>\n",
       "    </tr>\n",
       "    <tr>\n",
       "      <th>Austen_Emma0032</th>\n",
       "      <td>[so, very, much, that, if, it, were, to, any, ...</td>\n",
       "      <td>1</td>\n",
       "      <td>Emma</td>\n",
       "      <td>32</td>\n",
       "    </tr>\n",
       "    <tr>\n",
       "      <th>CBronte_Villette0086</th>\n",
       "      <td>[the, there, the, on, the, but, where, was, th...</td>\n",
       "      <td>0</td>\n",
       "      <td>Villette</td>\n",
       "      <td>86</td>\n",
       "    </tr>\n",
       "    <tr>\n",
       "      <th>CBronte_Jane0099</th>\n",
       "      <td>[by, and, one, of, his, and, she, could, not, ...</td>\n",
       "      <td>0</td>\n",
       "      <td>Jane</td>\n",
       "      <td>99</td>\n",
       "    </tr>\n",
       "    <tr>\n",
       "      <th>CBronte_Villette0092</th>\n",
       "      <td>[on, the, the, first, the, of, not, what, as, ...</td>\n",
       "      <td>0</td>\n",
       "      <td>Villette</td>\n",
       "      <td>92</td>\n",
       "    </tr>\n",
       "  </tbody>\n",
       "</table>\n",
       "</div>"
      ],
      "text/plain": [
       "                                                                 tokens  \\\n",
       "Austen_Emma0026       [she, found, that, he, was, only, his, an, of,...   \n",
       "Austen_Emma0032       [so, very, much, that, if, it, were, to, any, ...   \n",
       "CBronte_Villette0086  [the, there, the, on, the, but, where, was, th...   \n",
       "CBronte_Jane0099      [by, and, one, of, his, and, she, could, not, ...   \n",
       "CBronte_Villette0092  [on, the, the, first, the, of, not, what, as, ...   \n",
       "\n",
       "                      author      book  section  \n",
       "Austen_Emma0026            1      Emma       26  \n",
       "Austen_Emma0032            1      Emma       32  \n",
       "CBronte_Villette0086       0  Villette       86  \n",
       "CBronte_Jane0099           0      Jane       99  \n",
       "CBronte_Villette0092       0  Villette       92  "
      ]
     },
     "execution_count": 83,
     "metadata": {},
     "output_type": "execute_result"
    }
   ],
   "source": [
    "df.head()"
   ]
  },
  {
   "cell_type": "code",
   "execution_count": 84,
   "metadata": {},
   "outputs": [],
   "source": [
    "df = pd.DataFrame.from_records(new_distro, index=titles)\n",
    "df.columns = topics\n",
    "df['author'] = df.reset_index()['index'].apply(lambda x: x.split('_')[0]).tolist()"
   ]
  },
  {
   "cell_type": "code",
   "execution_count": 85,
   "metadata": {},
   "outputs": [
    {
     "data": {
      "text/html": [
       "<div>\n",
       "<style scoped>\n",
       "    .dataframe tbody tr th:only-of-type {\n",
       "        vertical-align: middle;\n",
       "    }\n",
       "\n",
       "    .dataframe tbody tr th {\n",
       "        vertical-align: top;\n",
       "    }\n",
       "\n",
       "    .dataframe thead th {\n",
       "        text-align: right;\n",
       "    }\n",
       "</style>\n",
       "<table border=\"1\" class=\"dataframe\">\n",
       "  <thead>\n",
       "    <tr style=\"text-align: right;\">\n",
       "      <th></th>\n",
       "      <th>pounds mother sure think year</th>\n",
       "      <th>pelet thought like little man</th>\n",
       "      <th>madame little like day vous</th>\n",
       "      <th>night look like old est</th>\n",
       "      <th>little madame like thought know</th>\n",
       "      <th>elizabeth darcy miss bingley bennet</th>\n",
       "      <th>know jane life like long</th>\n",
       "      <th>frances monsieur hunsden little english</th>\n",
       "      <th>good little like emma elton</th>\n",
       "      <th>sir long jane rochester little</th>\n",
       "      <th>like little rochester miss room</th>\n",
       "      <th>emma miss harriet thing weston</th>\n",
       "      <th>jane emma little thing miss</th>\n",
       "      <th>elinor marianne sister mother time</th>\n",
       "      <th>monsieur henri georgiana mdlle little</th>\n",
       "      <th>author</th>\n",
       "    </tr>\n",
       "  </thead>\n",
       "  <tbody>\n",
       "    <tr>\n",
       "      <th>Austen_Emma0026</th>\n",
       "      <td>0.0</td>\n",
       "      <td>0.0</td>\n",
       "      <td>0.0</td>\n",
       "      <td>0.0</td>\n",
       "      <td>0.000000</td>\n",
       "      <td>0.000000</td>\n",
       "      <td>0.000000</td>\n",
       "      <td>0.0</td>\n",
       "      <td>0.0</td>\n",
       "      <td>0.0</td>\n",
       "      <td>0.137811</td>\n",
       "      <td>0.775370</td>\n",
       "      <td>0.0</td>\n",
       "      <td>0.084716</td>\n",
       "      <td>0.0</td>\n",
       "      <td>Austen</td>\n",
       "    </tr>\n",
       "    <tr>\n",
       "      <th>Austen_Emma0032</th>\n",
       "      <td>0.0</td>\n",
       "      <td>0.0</td>\n",
       "      <td>0.0</td>\n",
       "      <td>0.0</td>\n",
       "      <td>0.000000</td>\n",
       "      <td>0.000000</td>\n",
       "      <td>0.000000</td>\n",
       "      <td>0.0</td>\n",
       "      <td>0.0</td>\n",
       "      <td>0.0</td>\n",
       "      <td>0.000000</td>\n",
       "      <td>0.997455</td>\n",
       "      <td>0.0</td>\n",
       "      <td>0.000000</td>\n",
       "      <td>0.0</td>\n",
       "      <td>Austen</td>\n",
       "    </tr>\n",
       "    <tr>\n",
       "      <th>CBronte_Villette0086</th>\n",
       "      <td>0.0</td>\n",
       "      <td>0.0</td>\n",
       "      <td>0.0</td>\n",
       "      <td>0.0</td>\n",
       "      <td>0.215021</td>\n",
       "      <td>0.000000</td>\n",
       "      <td>0.782767</td>\n",
       "      <td>0.0</td>\n",
       "      <td>0.0</td>\n",
       "      <td>0.0</td>\n",
       "      <td>0.000000</td>\n",
       "      <td>0.000000</td>\n",
       "      <td>0.0</td>\n",
       "      <td>0.000000</td>\n",
       "      <td>0.0</td>\n",
       "      <td>CBronte</td>\n",
       "    </tr>\n",
       "    <tr>\n",
       "      <th>CBronte_Jane0099</th>\n",
       "      <td>0.0</td>\n",
       "      <td>0.0</td>\n",
       "      <td>0.0</td>\n",
       "      <td>0.0</td>\n",
       "      <td>0.000000</td>\n",
       "      <td>0.000000</td>\n",
       "      <td>0.522731</td>\n",
       "      <td>0.0</td>\n",
       "      <td>0.0</td>\n",
       "      <td>0.0</td>\n",
       "      <td>0.473158</td>\n",
       "      <td>0.000000</td>\n",
       "      <td>0.0</td>\n",
       "      <td>0.000000</td>\n",
       "      <td>0.0</td>\n",
       "      <td>CBronte</td>\n",
       "    </tr>\n",
       "    <tr>\n",
       "      <th>CBronte_Villette0092</th>\n",
       "      <td>0.0</td>\n",
       "      <td>0.0</td>\n",
       "      <td>0.0</td>\n",
       "      <td>0.0</td>\n",
       "      <td>0.561907</td>\n",
       "      <td>0.027239</td>\n",
       "      <td>0.000000</td>\n",
       "      <td>0.0</td>\n",
       "      <td>0.0</td>\n",
       "      <td>0.0</td>\n",
       "      <td>0.370954</td>\n",
       "      <td>0.038246</td>\n",
       "      <td>0.0</td>\n",
       "      <td>0.000000</td>\n",
       "      <td>0.0</td>\n",
       "      <td>CBronte</td>\n",
       "    </tr>\n",
       "  </tbody>\n",
       "</table>\n",
       "</div>"
      ],
      "text/plain": [
       "                      pounds mother sure think year  \\\n",
       "Austen_Emma0026                                 0.0   \n",
       "Austen_Emma0032                                 0.0   \n",
       "CBronte_Villette0086                            0.0   \n",
       "CBronte_Jane0099                                0.0   \n",
       "CBronte_Villette0092                            0.0   \n",
       "\n",
       "                      pelet thought like little man  \\\n",
       "Austen_Emma0026                                 0.0   \n",
       "Austen_Emma0032                                 0.0   \n",
       "CBronte_Villette0086                            0.0   \n",
       "CBronte_Jane0099                                0.0   \n",
       "CBronte_Villette0092                            0.0   \n",
       "\n",
       "                      madame little like day vous  night look like old est  \\\n",
       "Austen_Emma0026                               0.0                      0.0   \n",
       "Austen_Emma0032                               0.0                      0.0   \n",
       "CBronte_Villette0086                          0.0                      0.0   \n",
       "CBronte_Jane0099                              0.0                      0.0   \n",
       "CBronte_Villette0092                          0.0                      0.0   \n",
       "\n",
       "                      little madame like thought know  \\\n",
       "Austen_Emma0026                              0.000000   \n",
       "Austen_Emma0032                              0.000000   \n",
       "CBronte_Villette0086                         0.215021   \n",
       "CBronte_Jane0099                             0.000000   \n",
       "CBronte_Villette0092                         0.561907   \n",
       "\n",
       "                      elizabeth darcy miss bingley bennet  \\\n",
       "Austen_Emma0026                                  0.000000   \n",
       "Austen_Emma0032                                  0.000000   \n",
       "CBronte_Villette0086                             0.000000   \n",
       "CBronte_Jane0099                                 0.000000   \n",
       "CBronte_Villette0092                             0.027239   \n",
       "\n",
       "                      know jane life like long  \\\n",
       "Austen_Emma0026                       0.000000   \n",
       "Austen_Emma0032                       0.000000   \n",
       "CBronte_Villette0086                  0.782767   \n",
       "CBronte_Jane0099                      0.522731   \n",
       "CBronte_Villette0092                  0.000000   \n",
       "\n",
       "                      frances monsieur hunsden little english  \\\n",
       "Austen_Emma0026                                           0.0   \n",
       "Austen_Emma0032                                           0.0   \n",
       "CBronte_Villette0086                                      0.0   \n",
       "CBronte_Jane0099                                          0.0   \n",
       "CBronte_Villette0092                                      0.0   \n",
       "\n",
       "                      good little like emma elton  \\\n",
       "Austen_Emma0026                               0.0   \n",
       "Austen_Emma0032                               0.0   \n",
       "CBronte_Villette0086                          0.0   \n",
       "CBronte_Jane0099                              0.0   \n",
       "CBronte_Villette0092                          0.0   \n",
       "\n",
       "                      sir long jane rochester little  \\\n",
       "Austen_Emma0026                                  0.0   \n",
       "Austen_Emma0032                                  0.0   \n",
       "CBronte_Villette0086                             0.0   \n",
       "CBronte_Jane0099                                 0.0   \n",
       "CBronte_Villette0092                             0.0   \n",
       "\n",
       "                      like little rochester miss room  \\\n",
       "Austen_Emma0026                              0.137811   \n",
       "Austen_Emma0032                              0.000000   \n",
       "CBronte_Villette0086                         0.000000   \n",
       "CBronte_Jane0099                             0.473158   \n",
       "CBronte_Villette0092                         0.370954   \n",
       "\n",
       "                      emma miss harriet thing weston  \\\n",
       "Austen_Emma0026                             0.775370   \n",
       "Austen_Emma0032                             0.997455   \n",
       "CBronte_Villette0086                        0.000000   \n",
       "CBronte_Jane0099                            0.000000   \n",
       "CBronte_Villette0092                        0.038246   \n",
       "\n",
       "                      jane emma little thing miss  \\\n",
       "Austen_Emma0026                               0.0   \n",
       "Austen_Emma0032                               0.0   \n",
       "CBronte_Villette0086                          0.0   \n",
       "CBronte_Jane0099                              0.0   \n",
       "CBronte_Villette0092                          0.0   \n",
       "\n",
       "                      elinor marianne sister mother time  \\\n",
       "Austen_Emma0026                                 0.084716   \n",
       "Austen_Emma0032                                 0.000000   \n",
       "CBronte_Villette0086                            0.000000   \n",
       "CBronte_Jane0099                                0.000000   \n",
       "CBronte_Villette0092                            0.000000   \n",
       "\n",
       "                      monsieur henri georgiana mdlle little   author  \n",
       "Austen_Emma0026                                         0.0   Austen  \n",
       "Austen_Emma0032                                         0.0   Austen  \n",
       "CBronte_Villette0086                                    0.0  CBronte  \n",
       "CBronte_Jane0099                                        0.0  CBronte  \n",
       "CBronte_Villette0092                                    0.0  CBronte  "
      ]
     },
     "execution_count": 85,
     "metadata": {},
     "output_type": "execute_result"
    }
   ],
   "source": [
    "df.head()"
   ]
  },
  {
   "cell_type": "code",
   "execution_count": 86,
   "metadata": {},
   "outputs": [
    {
     "data": {
      "text/html": [
       "<div>\n",
       "<style scoped>\n",
       "    .dataframe tbody tr th:only-of-type {\n",
       "        vertical-align: middle;\n",
       "    }\n",
       "\n",
       "    .dataframe tbody tr th {\n",
       "        vertical-align: top;\n",
       "    }\n",
       "\n",
       "    .dataframe thead th {\n",
       "        text-align: right;\n",
       "    }\n",
       "</style>\n",
       "<table border=\"1\" class=\"dataframe\">\n",
       "  <thead>\n",
       "    <tr style=\"text-align: right;\">\n",
       "      <th></th>\n",
       "      <th>pounds mother sure think year</th>\n",
       "      <th>pelet thought like little man</th>\n",
       "      <th>madame little like day vous</th>\n",
       "      <th>night look like old est</th>\n",
       "      <th>little madame like thought know</th>\n",
       "      <th>elizabeth darcy miss bingley bennet</th>\n",
       "      <th>know jane life like long</th>\n",
       "      <th>frances monsieur hunsden little english</th>\n",
       "      <th>good little like emma elton</th>\n",
       "      <th>sir long jane rochester little</th>\n",
       "      <th>like little rochester miss room</th>\n",
       "      <th>emma miss harriet thing weston</th>\n",
       "      <th>jane emma little thing miss</th>\n",
       "      <th>elinor marianne sister mother time</th>\n",
       "      <th>monsieur henri georgiana mdlle little</th>\n",
       "    </tr>\n",
       "    <tr>\n",
       "      <th>author</th>\n",
       "      <th></th>\n",
       "      <th></th>\n",
       "      <th></th>\n",
       "      <th></th>\n",
       "      <th></th>\n",
       "      <th></th>\n",
       "      <th></th>\n",
       "      <th></th>\n",
       "      <th></th>\n",
       "      <th></th>\n",
       "      <th></th>\n",
       "      <th></th>\n",
       "      <th></th>\n",
       "      <th></th>\n",
       "      <th></th>\n",
       "    </tr>\n",
       "  </thead>\n",
       "  <tbody>\n",
       "    <tr>\n",
       "      <th>Austen</th>\n",
       "      <td>0.002680</td>\n",
       "      <td>0.005264</td>\n",
       "      <td>0.000558</td>\n",
       "      <td>0.000027</td>\n",
       "      <td>0.002224</td>\n",
       "      <td>0.229066</td>\n",
       "      <td>0.005129</td>\n",
       "      <td>0.000833</td>\n",
       "      <td>0.016319</td>\n",
       "      <td>0.005213</td>\n",
       "      <td>0.014229</td>\n",
       "      <td>0.352142</td>\n",
       "      <td>0.023068</td>\n",
       "      <td>0.340478</td>\n",
       "      <td>0.000000</td>\n",
       "    </tr>\n",
       "    <tr>\n",
       "      <th>CBronte</th>\n",
       "      <td>0.002808</td>\n",
       "      <td>0.035885</td>\n",
       "      <td>0.061155</td>\n",
       "      <td>0.008203</td>\n",
       "      <td>0.298077</td>\n",
       "      <td>0.005798</td>\n",
       "      <td>0.123299</td>\n",
       "      <td>0.026866</td>\n",
       "      <td>0.007873</td>\n",
       "      <td>0.012273</td>\n",
       "      <td>0.385654</td>\n",
       "      <td>0.005757</td>\n",
       "      <td>0.004656</td>\n",
       "      <td>0.014485</td>\n",
       "      <td>0.004485</td>\n",
       "    </tr>\n",
       "  </tbody>\n",
       "</table>\n",
       "</div>"
      ],
      "text/plain": [
       "         pounds mother sure think year  pelet thought like little man  \\\n",
       "author                                                                  \n",
       "Austen                        0.002680                       0.005264   \n",
       "CBronte                       0.002808                       0.035885   \n",
       "\n",
       "         madame little like day vous  night look like old est  \\\n",
       "author                                                          \n",
       "Austen                      0.000558                 0.000027   \n",
       "CBronte                     0.061155                 0.008203   \n",
       "\n",
       "         little madame like thought know  elizabeth darcy miss bingley bennet  \\\n",
       "author                                                                          \n",
       "Austen                          0.002224                             0.229066   \n",
       "CBronte                         0.298077                             0.005798   \n",
       "\n",
       "         know jane life like long  frances monsieur hunsden little english  \\\n",
       "author                                                                       \n",
       "Austen                   0.005129                                 0.000833   \n",
       "CBronte                  0.123299                                 0.026866   \n",
       "\n",
       "         good little like emma elton  sir long jane rochester little  \\\n",
       "author                                                                 \n",
       "Austen                      0.016319                        0.005213   \n",
       "CBronte                     0.007873                        0.012273   \n",
       "\n",
       "         like little rochester miss room  emma miss harriet thing weston  \\\n",
       "author                                                                     \n",
       "Austen                          0.014229                        0.352142   \n",
       "CBronte                         0.385654                        0.005757   \n",
       "\n",
       "         jane emma little thing miss  elinor marianne sister mother time  \\\n",
       "author                                                                     \n",
       "Austen                      0.023068                            0.340478   \n",
       "CBronte                     0.004656                            0.014485   \n",
       "\n",
       "         monsieur henri georgiana mdlle little  \n",
       "author                                          \n",
       "Austen                                0.000000  \n",
       "CBronte                               0.004485  "
      ]
     },
     "execution_count": 86,
     "metadata": {},
     "output_type": "execute_result"
    }
   ],
   "source": [
    "df.groupby('author').mean()"
   ]
  },
  {
   "cell_type": "markdown",
   "metadata": {},
   "source": [
    "## Challenge\n",
    "### *Can we see if one of the authors focus more on men than women?*\n",
    "\n",
    "*  Use Spacy for text preprocessing\n",
    "*  Extract the Named Entities from the documents using Spacy (command is fairly straight forward)\n",
    "*  Create unique list of names from the authors (you'll find that there are different types of named entities not all people)\n",
    "*  Label the names with genders (can you this by hand or you use the US census name lists)\n",
    "*  Customize your processing to replace the proper name with your gender from the previous step's lookup table\n",
    "*  Then follow the rest of the LDA flow\n"
   ]
  },
  {
   "cell_type": "markdown",
   "metadata": {},
   "source": [
    "# Selecting the Number of Topics (Learn)\n",
    "<a id=\"#p4\"></a>"
   ]
  },
  {
   "cell_type": "markdown",
   "metadata": {},
   "source": [
    "## Overview"
   ]
  },
  {
   "cell_type": "markdown",
   "metadata": {},
   "source": [
    "## Follow Along"
   ]
  },
  {
   "cell_type": "code",
   "execution_count": 87,
   "metadata": {},
   "outputs": [],
   "source": [
    "from gensim.models.coherencemodel import CoherenceModel\n",
    "\n",
    "def compute_coherence_values(dictionary, corpus, limit, start=2, step=3, passes=5):\n",
    "    \"\"\"\n",
    "    Compute c_v coherence for various number of topics\n",
    "\n",
    "    Parameters:\n",
    "    ----------\n",
    "    dictionary : Gensim dictionary\n",
    "    corpus : Gensim corpus\n",
    "    limit : Max num of topics\n",
    "    passes: the number of times the entire lda model & coherence values are calculated\n",
    "\n",
    "    Returns:\n",
    "    -------\n",
    "    coherence_values : Coherence values corresponding to the LDA model with respective number of topics\n",
    "    \"\"\"\n",
    "    \n",
    "    coherence_values = []\n",
    "    \n",
    "    for iter_ in range(passes):\n",
    "        for num_topics in range(start, limit, step):\n",
    "            model = LdaMulticore(corpus=corpus, num_topics=num_topics, id2word=dictionary, workers=4)\n",
    "            coherencemodel = CoherenceModel(model=model,dictionary=dictionary,corpus=corpus, coherence='u_mass')\n",
    "            coherence_values.append({'pass': iter_, \n",
    "                                     'num_topics': num_topics, \n",
    "                                     'coherence_score': coherencemodel.get_coherence()\n",
    "                                    })\n",
    "\n",
    "    return coherence_values"
   ]
  },
  {
   "cell_type": "code",
   "execution_count": null,
   "metadata": {},
   "outputs": [],
   "source": [
    "# Can take a long time to run.\n",
    "coherence_values = compute_coherence_values(dictionary=id2word, \n",
    "                                                        corpus=corpus,\n",
    "                                                        start=2, \n",
    "                                                        limit=40, \n",
    "                                                        step=2,\n",
    "                                                        passes=100)"
   ]
  },
  {
   "cell_type": "code",
   "execution_count": 89,
   "metadata": {},
   "outputs": [],
   "source": [
    "topic_coherence = pd.DataFrame.from_records(coherence_values)"
   ]
  },
  {
   "cell_type": "code",
   "execution_count": null,
   "metadata": {},
   "outputs": [],
   "source": []
  },
  {
   "cell_type": "code",
   "execution_count": null,
   "metadata": {},
   "outputs": [],
   "source": [
    "topic_coherence.head()"
   ]
  },
  {
   "cell_type": "code",
   "execution_count": null,
   "metadata": {},
   "outputs": [],
   "source": [
    "import seaborn as sns\n",
    "\n",
    "ax = sns.lineplot(x=\"num_topics\", y=\"coherence_score\", data=topic_coherence)"
   ]
  },
  {
   "cell_type": "code",
   "execution_count": null,
   "metadata": {},
   "outputs": [],
   "source": [
    "# Print the coherence scores\n",
    "for m, cv in zip(x, coherence_values):\n",
    "    print(\"Num Topics =\", m, \" has Coherence Value of\", round(cv, 4))"
   ]
  },
  {
   "cell_type": "code",
   "execution_count": null,
   "metadata": {},
   "outputs": [],
   "source": [
    "lda[id2word.doc2bow(tokenize(\"This is a sample document to score with a topic distribution.\"))]"
   ]
  },
  {
   "cell_type": "markdown",
   "metadata": {},
   "source": [
    "# Sources\n",
    "\n",
    "### *References*\n",
    "* [Andrew Ng et al paper on LDA](https://ai.stanford.edu/~ang/papers/jair03-lda.pdf)\n",
    "* On [Coherence](https://pdfs.semanticscholar.org/1521/8d9c029cbb903ae7c729b2c644c24994c201.pdf)\n",
    "\n",
    "### *Resources*\n",
    "\n",
    "* [Gensim](https://radimrehurek.com/gensim/): Python package for topic modeling, nlp, word vectorization, and few other things. Well maintained and well documented.\n",
    "* [Topic Modeling with Gensim](http://www.machinelearningplus.com/nlp/topic-modeling-gensim-python/#11createthedictionaryandcorpusneededfortopicmodeling): A kind of cookbook for LDA with gensim. Excellent overview, but the you need to be aware of missing import statements and assumed prior knowledge.\n",
    "* [Chinese Restuarant Process](https://en.wikipedia.org/wiki/Chinese_restaurant_process): That really obscure stats thing I mentioned... \n",
    "* [PyLDAvis](https://github.com/bmabey/pyLDAvis): Library for visualizing the topic model and performing some exploratory work. Works well. Has a direct parrell implementation in R as well. \n",
    "* [Rare Technologies](https://rare-technologies.com/): The people that made & maintain gensim and a few other libraries.\n",
    "* [Jane Austen v. Charlotte Bronte](https://www.literaryladiesguide.com/literary-musings/jane-austen-charlotte-bronte-different-alike/)"
   ]
  }
 ],
 "metadata": {
  "kernelspec": {
   "display_name": "U4-S1-NLP (Python3)",
   "language": "python",
   "name": "u4-s1-nlp"
  },
  "language_info": {
   "codemirror_mode": {
    "name": "ipython",
    "version": 3
   },
   "file_extension": ".py",
   "mimetype": "text/x-python",
   "name": "python",
   "nbconvert_exporter": "python",
   "pygments_lexer": "ipython3",
   "version": "3.7.0"
  }
 },
 "nbformat": 4,
 "nbformat_minor": 4
}
